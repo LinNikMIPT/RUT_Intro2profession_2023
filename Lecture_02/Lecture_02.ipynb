{
 "cells": [
  {
   "cell_type": "markdown",
   "metadata": {},
   "source": [
    "# Занятие №2. Введение в ML\n",
    "\n",
    "<img src=\"images/mem.jpg\" align=\"center\" style=\"height: 400px;\"/>\n",
    "\n",
    "## План на сегодня:\n",
    "\n",
    "1. Общие слова про искусственный интеллект и машинное обучение. Почему машинное и глубокое обучение это классно.\n",
    "2. Библиотеки Pandas, Numpy, Seaborn. Линейная, логистическая и полиноминальная регрессия, KNN, SVM, решающие деревья, случайный лес, бустинг. Проблема переобучения.\n",
    "3. Решение задачи множественной линейной регрессии аналитически и с помощью градиентного спуска."
   ]
  },
  {
   "cell_type": "markdown",
   "metadata": {},
   "source": [
    "__________________"
   ]
  },
  {
   "cell_type": "markdown",
   "metadata": {},
   "source": [
    "# Машинное обучение\n",
    "\n",
    "<img src=\"images/4.jpeg\" align=\"center\" style=\"height: 400px;\"/>\n",
    "\n",
    "> Говорят, что компьтерная программа обучается решению задачи T на основе опыта E, если качество решения по метрике P растет по мере накопления опыта E. (_Mitchell \"Machine learning\", 1997_)\n",
    "\n",
    "### Задача T\n",
    "\n",
    "В машинном обучении, под этими терминам обычно подразумевают следующее:\n",
    "- задача Т: это то, что мы должны сделать с **объектами (examples)**, которые обычно представленны в виде векторов **признаков (features)**\n",
    "\n",
    "Среди наиболее популярных задач T, интересных нам в курсе, выделяют:\n",
    "- **регрессию** - предсказание непрерывной переменной (_цены на недвижимость_)\n",
    "- **классификацию** - предсказание класса объекта (_определение марки авто по фотографии_)\n",
    "- **кластеризация** - группировка данных (_разбиение потока новостей на сюжеты_)\n",
    "- **обучение с подкреплением** - обучение игре на основе опыта (_игра в Го_)"
   ]
  },
  {
   "cell_type": "markdown",
   "metadata": {},
   "source": [
    "<img src=\"images/2.png\" align=\"center\" style=\"height: 400px;\"/>"
   ]
  },
  {
   "cell_type": "markdown",
   "metadata": {},
   "source": [
    "# Задачи машинного обучения: \n"
   ]
  },
  {
   "cell_type": "markdown",
   "metadata": {},
   "source": [
    "<img src=\"images/ML.jpg\" align=\"center\" style=\"height: 650px;\"/>"
   ]
  },
  {
   "cell_type": "markdown",
   "metadata": {},
   "source": [
    "\n",
    "##   1. Обучение с учителем (supervised learning) \n",
    "#### Наиболее распространённый случай. Каждый прецедент представляет собой пару «объект, ответ». Требуется найти функциональную зависимость ответов от описаний объектов и построить алгоритм, принимающий на входе описание объекта и выдающий на выходе ответ. Функционал качества обычно определяется как средняя ошибка ответов, выданных алгоритмом, по всем объектам выборки."
   ]
  },
  {
   "cell_type": "markdown",
   "metadata": {},
   "source": [
    "## 1.1. Классификация"
   ]
  },
  {
   "cell_type": "markdown",
   "metadata": {},
   "source": [
    "Задача **классификации** исторически возникла из задачи машинного зрения, поэтому часто употребляемый синоним – распознавание образов.\n",
    "В качестве исхода объекта $\\textbf{x}$ фигурирует переменная $\\textbf{t}$, принимающая конечное число значений, обычно из множества  $ \\displaystyle T = {{1, . . . , l}}$.\n",
    "Требуется постросить алгоритм (классификатор), который по вектору признаков $ \\displaystyle x$ вернул бы метку класса $ \\displaystyle t^{*}$ или вектор оценок принадлежности (апостериорных вероятностей) к каждому из классов $ \\displaystyle {p(s|x)}^{l}_{s=1} $.\n",
    "\n",
    "\n",
    "Задача классификации сводится к определению класса объекта по его характеристикам. Необходимо заметить, что в этой задаче множество классов, к которым может быть отнесен объект, заранее известно.\n",
    "\n",
    "### Примеры задач классификации:\n",
    "* Оптическое распознавание текстов: по отсканированному изображению текста определить цепочку символов, его формирующих\n",
    "* Медицинская диагностика: по набору медицинских характеристик требуется поставить диагноз\n",
    "* Кредитный скоринг: по анкете заемщика принять решение о выдаче/отказе кредита"
   ]
  },
  {
   "cell_type": "markdown",
   "metadata": {},
   "source": [
    "\n",
    "##  1.2. Регрессия"
   ]
  },
  {
   "cell_type": "markdown",
   "metadata": {},
   "source": [
    "Задача **регрессии** исторически возникла при исследовании влияния одной группы непрерывных случайных величин на другую группу непрерывных случайных величин. В качестве исхода объекта $\\textbf{x}$ фигурирует непрерывная вещественнозначная переменная $\\textbf{t}$. Требуется построить алгоритм (регрессор), который по вектору признаков $ \\displaystyle x$ вернул бы точечную оценку значения регрессии $ \\displaystyle t^{*}$, доверительный интервал $ \\displaystyle (t_−, t_+)$ или апостериорное распределение на множестве значений регрессионной переменной $ \\displaystyle p(t|x)$.\n",
    "\n",
    "Задача регрессии, подобно задаче классификации, позволяет определить по известным характеристикам объекта значение некоторого его параметра. В отличие от задачи классификации значением параметра является не конечное множество классов, а множество действительных чисел.\n",
    "\n",
    "### Примеры задач восстановления регрессии:\n",
    "* Оценка стоимости недвижимости: по характеристике района, экологической обстановке, транспортной связности оценить стоимость жилья\n",
    "* Прогноз свойств соединений: по параметрам химических элементов спрогнозировать температуру плавления, электропроводность, теплоемкость получаемого соединения\n",
    "* Кредитный скоринг: по анкете заемщика оценить величину кредитного лимита"
   ]
  },
  {
   "cell_type": "markdown",
   "metadata": {},
   "source": [
    "# 2. Обучение без учителя (unsupervised learning)\n",
    "#####  В этом случае ответы не задаются, и требуется искать зависимости между объектами."
   ]
  },
  {
   "cell_type": "markdown",
   "metadata": {},
   "source": [
    "## 2.1. Кластеризация\n",
    "\n",
    "Задача **кластеризации** исторически возникла из задачи группировки схожих объектов в единую структуру (кластер) с последующим выявлением общих черт. Требуется построить алгоритм (кластеризатор), который разбил бы выборку на непересекающиеся группы (кластеры). В каждый класс должны попасть объекты в некотором смысле похожие друг на друга.\n",
    "\n",
    "Задача кластеризации заключается в поиске независимых групп (кластеров) и их характеристик во всем множестве анализируемых данных. Решение этой задачи помогает лучше понять данные. Кроме того, группировка однородных объектов позволяет сократить их число, а следовательно, и облегчить анализ.\n",
    "\n",
    "### Примеры задач кластеризации:\n",
    "* Экономическая география: по физико-географическим и экономическим показателям разбить страны мира на группы схожих по экономическому положению государств\n",
    "* Финансовая сфера: по сводкам банковских операций выявить группы «подозрительных», нетипичных банков, сгуппировать остальные по степени близости проводимой стратегии\n",
    "* Маркетинг: по результатам маркетинговых исследований среди множества потребителей выделить характерные группы по степени интереса к продвигаемому продукту"
   ]
  },
  {
   "cell_type": "markdown",
   "metadata": {},
   "source": [
    "## Основные классические модели машинного обучения:\n",
    "1. Дерево принятия решений\n",
    "2. Наивная байесовская классификация\n",
    "3. Метод наименьших квадратов\n",
    "4. Метод опорных векторов (SVM)\n",
    "5. Метод ансамблей\n",
    "6. Линейная регрессия\n",
    "7. Логистическая регрессия \n",
    "8. и т.д."
   ]
  },
  {
   "cell_type": "markdown",
   "metadata": {},
   "source": [
    "## 1. Библиотеки Pandas, Numpy, Seaborn, Sklearn"
   ]
  },
  {
   "cell_type": "code",
   "execution_count": 1,
   "metadata": {},
   "outputs": [],
   "source": [
    "# import command allows you to load a library \n",
    "# you also can assign a shorter alias using as command\n",
    "import numpy as np\n",
    "import pandas as pd\n",
    "import seaborn as sns\n",
    "from matplotlib import pyplot as plt\n",
    "\n",
    "# sns.set() allows to use a more attractive color scheme for plots\n",
    "sns.set()\n",
    "\n",
    "# set figure appearance in notebook (no pop up)\n",
    "%matplotlib inline"
   ]
  },
  {
   "cell_type": "markdown",
   "metadata": {},
   "source": [
    "# Pandas\n",
    "\n",
    "### A library for data structures"
   ]
  },
  {
   "cell_type": "code",
   "execution_count": 2,
   "metadata": {},
   "outputs": [],
   "source": [
    "import numpy as np\n",
    "import pandas as pd\n",
    "import matplotlib.pyplot as plt\n",
    "\n",
    "from sklearn.tree import DecisionTreeRegressor\n",
    "\n",
    "%matplotlib inline"
   ]
  },
  {
   "cell_type": "code",
   "execution_count": 3,
   "metadata": {},
   "outputs": [
    {
     "name": "stdout",
     "output_type": "stream",
     "text": [
      "<class 'pandas.core.frame.DataFrame'>\n",
      "RangeIndex: 891 entries, 0 to 890\n",
      "Data columns (total 11 columns):\n",
      "survived    891 non-null int64\n",
      "pclass      891 non-null int64\n",
      "name        891 non-null object\n",
      "sex         891 non-null object\n",
      "age         714 non-null float64\n",
      "sibsp       891 non-null int64\n",
      "parch       891 non-null int64\n",
      "ticket      891 non-null object\n",
      "fare        891 non-null float64\n",
      "cabin       204 non-null object\n",
      "embarked    889 non-null object\n",
      "dtypes: float64(2), int64(4), object(5)\n",
      "memory usage: 76.6+ KB\n"
     ]
    }
   ],
   "source": [
    "url = \"https://raw.github.com/mattdelhey/kaggle-titanic/master/Data/train.csv\"\n",
    "titanic = pd.read_csv(url)\n",
    "titanic.info()"
   ]
  },
  {
   "cell_type": "code",
   "execution_count": 4,
   "metadata": {},
   "outputs": [
    {
     "data": {
      "text/html": [
       "<div>\n",
       "<style scoped>\n",
       "    .dataframe tbody tr th:only-of-type {\n",
       "        vertical-align: middle;\n",
       "    }\n",
       "\n",
       "    .dataframe tbody tr th {\n",
       "        vertical-align: top;\n",
       "    }\n",
       "\n",
       "    .dataframe thead th {\n",
       "        text-align: right;\n",
       "    }\n",
       "</style>\n",
       "<table border=\"1\" class=\"dataframe\">\n",
       "  <thead>\n",
       "    <tr style=\"text-align: right;\">\n",
       "      <th></th>\n",
       "      <th>survived</th>\n",
       "      <th>pclass</th>\n",
       "      <th>name</th>\n",
       "      <th>sex</th>\n",
       "      <th>age</th>\n",
       "      <th>sibsp</th>\n",
       "      <th>parch</th>\n",
       "      <th>ticket</th>\n",
       "      <th>fare</th>\n",
       "      <th>cabin</th>\n",
       "      <th>embarked</th>\n",
       "    </tr>\n",
       "  </thead>\n",
       "  <tbody>\n",
       "    <tr>\n",
       "      <th>0</th>\n",
       "      <td>0</td>\n",
       "      <td>3</td>\n",
       "      <td>Braund, Mr. Owen Harris</td>\n",
       "      <td>male</td>\n",
       "      <td>22.0</td>\n",
       "      <td>1</td>\n",
       "      <td>0</td>\n",
       "      <td>A/5 21171</td>\n",
       "      <td>7.2500</td>\n",
       "      <td>NaN</td>\n",
       "      <td>S</td>\n",
       "    </tr>\n",
       "    <tr>\n",
       "      <th>1</th>\n",
       "      <td>1</td>\n",
       "      <td>1</td>\n",
       "      <td>Cumings, Mrs. John Bradley (Florence Briggs Th...</td>\n",
       "      <td>female</td>\n",
       "      <td>38.0</td>\n",
       "      <td>1</td>\n",
       "      <td>0</td>\n",
       "      <td>PC 17599</td>\n",
       "      <td>71.2833</td>\n",
       "      <td>C85</td>\n",
       "      <td>C</td>\n",
       "    </tr>\n",
       "    <tr>\n",
       "      <th>2</th>\n",
       "      <td>1</td>\n",
       "      <td>3</td>\n",
       "      <td>Heikkinen, Miss. Laina</td>\n",
       "      <td>female</td>\n",
       "      <td>26.0</td>\n",
       "      <td>0</td>\n",
       "      <td>0</td>\n",
       "      <td>STON/O2. 3101282</td>\n",
       "      <td>7.9250</td>\n",
       "      <td>NaN</td>\n",
       "      <td>S</td>\n",
       "    </tr>\n",
       "    <tr>\n",
       "      <th>3</th>\n",
       "      <td>1</td>\n",
       "      <td>1</td>\n",
       "      <td>Futrelle, Mrs. Jacques Heath (Lily May Peel)</td>\n",
       "      <td>female</td>\n",
       "      <td>35.0</td>\n",
       "      <td>1</td>\n",
       "      <td>0</td>\n",
       "      <td>113803</td>\n",
       "      <td>53.1000</td>\n",
       "      <td>C123</td>\n",
       "      <td>S</td>\n",
       "    </tr>\n",
       "    <tr>\n",
       "      <th>4</th>\n",
       "      <td>0</td>\n",
       "      <td>3</td>\n",
       "      <td>Allen, Mr. William Henry</td>\n",
       "      <td>male</td>\n",
       "      <td>35.0</td>\n",
       "      <td>0</td>\n",
       "      <td>0</td>\n",
       "      <td>373450</td>\n",
       "      <td>8.0500</td>\n",
       "      <td>NaN</td>\n",
       "      <td>S</td>\n",
       "    </tr>\n",
       "    <tr>\n",
       "      <th>5</th>\n",
       "      <td>0</td>\n",
       "      <td>3</td>\n",
       "      <td>Moran, Mr. James</td>\n",
       "      <td>male</td>\n",
       "      <td>NaN</td>\n",
       "      <td>0</td>\n",
       "      <td>0</td>\n",
       "      <td>330877</td>\n",
       "      <td>8.4583</td>\n",
       "      <td>NaN</td>\n",
       "      <td>Q</td>\n",
       "    </tr>\n",
       "    <tr>\n",
       "      <th>6</th>\n",
       "      <td>0</td>\n",
       "      <td>1</td>\n",
       "      <td>McCarthy, Mr. Timothy J</td>\n",
       "      <td>male</td>\n",
       "      <td>54.0</td>\n",
       "      <td>0</td>\n",
       "      <td>0</td>\n",
       "      <td>17463</td>\n",
       "      <td>51.8625</td>\n",
       "      <td>E46</td>\n",
       "      <td>S</td>\n",
       "    </tr>\n",
       "    <tr>\n",
       "      <th>7</th>\n",
       "      <td>0</td>\n",
       "      <td>3</td>\n",
       "      <td>Palsson, Master. Gosta Leonard</td>\n",
       "      <td>male</td>\n",
       "      <td>2.0</td>\n",
       "      <td>3</td>\n",
       "      <td>1</td>\n",
       "      <td>349909</td>\n",
       "      <td>21.0750</td>\n",
       "      <td>NaN</td>\n",
       "      <td>S</td>\n",
       "    </tr>\n",
       "    <tr>\n",
       "      <th>8</th>\n",
       "      <td>1</td>\n",
       "      <td>3</td>\n",
       "      <td>Johnson, Mrs. Oscar W (Elisabeth Vilhelmina Berg)</td>\n",
       "      <td>female</td>\n",
       "      <td>27.0</td>\n",
       "      <td>0</td>\n",
       "      <td>2</td>\n",
       "      <td>347742</td>\n",
       "      <td>11.1333</td>\n",
       "      <td>NaN</td>\n",
       "      <td>S</td>\n",
       "    </tr>\n",
       "    <tr>\n",
       "      <th>9</th>\n",
       "      <td>1</td>\n",
       "      <td>2</td>\n",
       "      <td>Nasser, Mrs. Nicholas (Adele Achem)</td>\n",
       "      <td>female</td>\n",
       "      <td>14.0</td>\n",
       "      <td>1</td>\n",
       "      <td>0</td>\n",
       "      <td>237736</td>\n",
       "      <td>30.0708</td>\n",
       "      <td>NaN</td>\n",
       "      <td>C</td>\n",
       "    </tr>\n",
       "    <tr>\n",
       "      <th>10</th>\n",
       "      <td>1</td>\n",
       "      <td>3</td>\n",
       "      <td>Sandstrom, Miss. Marguerite Rut</td>\n",
       "      <td>female</td>\n",
       "      <td>4.0</td>\n",
       "      <td>1</td>\n",
       "      <td>1</td>\n",
       "      <td>PP 9549</td>\n",
       "      <td>16.7000</td>\n",
       "      <td>G6</td>\n",
       "      <td>S</td>\n",
       "    </tr>\n",
       "    <tr>\n",
       "      <th>11</th>\n",
       "      <td>1</td>\n",
       "      <td>1</td>\n",
       "      <td>Bonnell, Miss. Elizabeth</td>\n",
       "      <td>female</td>\n",
       "      <td>58.0</td>\n",
       "      <td>0</td>\n",
       "      <td>0</td>\n",
       "      <td>113783</td>\n",
       "      <td>26.5500</td>\n",
       "      <td>C103</td>\n",
       "      <td>S</td>\n",
       "    </tr>\n",
       "    <tr>\n",
       "      <th>12</th>\n",
       "      <td>0</td>\n",
       "      <td>3</td>\n",
       "      <td>Saundercock, Mr. William Henry</td>\n",
       "      <td>male</td>\n",
       "      <td>20.0</td>\n",
       "      <td>0</td>\n",
       "      <td>0</td>\n",
       "      <td>A/5. 2151</td>\n",
       "      <td>8.0500</td>\n",
       "      <td>NaN</td>\n",
       "      <td>S</td>\n",
       "    </tr>\n",
       "    <tr>\n",
       "      <th>13</th>\n",
       "      <td>0</td>\n",
       "      <td>3</td>\n",
       "      <td>Andersson, Mr. Anders Johan</td>\n",
       "      <td>male</td>\n",
       "      <td>39.0</td>\n",
       "      <td>1</td>\n",
       "      <td>5</td>\n",
       "      <td>347082</td>\n",
       "      <td>31.2750</td>\n",
       "      <td>NaN</td>\n",
       "      <td>S</td>\n",
       "    </tr>\n",
       "    <tr>\n",
       "      <th>14</th>\n",
       "      <td>0</td>\n",
       "      <td>3</td>\n",
       "      <td>Vestrom, Miss. Hulda Amanda Adolfina</td>\n",
       "      <td>female</td>\n",
       "      <td>14.0</td>\n",
       "      <td>0</td>\n",
       "      <td>0</td>\n",
       "      <td>350406</td>\n",
       "      <td>7.8542</td>\n",
       "      <td>NaN</td>\n",
       "      <td>S</td>\n",
       "    </tr>\n",
       "    <tr>\n",
       "      <th>15</th>\n",
       "      <td>1</td>\n",
       "      <td>2</td>\n",
       "      <td>Hewlett, Mrs. (Mary D Kingcome)</td>\n",
       "      <td>female</td>\n",
       "      <td>55.0</td>\n",
       "      <td>0</td>\n",
       "      <td>0</td>\n",
       "      <td>248706</td>\n",
       "      <td>16.0000</td>\n",
       "      <td>NaN</td>\n",
       "      <td>S</td>\n",
       "    </tr>\n",
       "    <tr>\n",
       "      <th>16</th>\n",
       "      <td>0</td>\n",
       "      <td>3</td>\n",
       "      <td>Rice, Master. Eugene</td>\n",
       "      <td>male</td>\n",
       "      <td>2.0</td>\n",
       "      <td>4</td>\n",
       "      <td>1</td>\n",
       "      <td>382652</td>\n",
       "      <td>29.1250</td>\n",
       "      <td>NaN</td>\n",
       "      <td>Q</td>\n",
       "    </tr>\n",
       "    <tr>\n",
       "      <th>17</th>\n",
       "      <td>1</td>\n",
       "      <td>2</td>\n",
       "      <td>Williams, Mr. Charles Eugene</td>\n",
       "      <td>male</td>\n",
       "      <td>NaN</td>\n",
       "      <td>0</td>\n",
       "      <td>0</td>\n",
       "      <td>244373</td>\n",
       "      <td>13.0000</td>\n",
       "      <td>NaN</td>\n",
       "      <td>S</td>\n",
       "    </tr>\n",
       "    <tr>\n",
       "      <th>18</th>\n",
       "      <td>0</td>\n",
       "      <td>3</td>\n",
       "      <td>Vander Planke, Mrs. Julius (Emelia Maria Vande...</td>\n",
       "      <td>female</td>\n",
       "      <td>31.0</td>\n",
       "      <td>1</td>\n",
       "      <td>0</td>\n",
       "      <td>345763</td>\n",
       "      <td>18.0000</td>\n",
       "      <td>NaN</td>\n",
       "      <td>S</td>\n",
       "    </tr>\n",
       "    <tr>\n",
       "      <th>19</th>\n",
       "      <td>1</td>\n",
       "      <td>3</td>\n",
       "      <td>Masselmani, Mrs. Fatima</td>\n",
       "      <td>female</td>\n",
       "      <td>NaN</td>\n",
       "      <td>0</td>\n",
       "      <td>0</td>\n",
       "      <td>2649</td>\n",
       "      <td>7.2250</td>\n",
       "      <td>NaN</td>\n",
       "      <td>C</td>\n",
       "    </tr>\n",
       "    <tr>\n",
       "      <th>20</th>\n",
       "      <td>0</td>\n",
       "      <td>2</td>\n",
       "      <td>Fynney, Mr. Joseph J</td>\n",
       "      <td>male</td>\n",
       "      <td>35.0</td>\n",
       "      <td>0</td>\n",
       "      <td>0</td>\n",
       "      <td>239865</td>\n",
       "      <td>26.0000</td>\n",
       "      <td>NaN</td>\n",
       "      <td>S</td>\n",
       "    </tr>\n",
       "    <tr>\n",
       "      <th>21</th>\n",
       "      <td>1</td>\n",
       "      <td>2</td>\n",
       "      <td>Beesley, Mr. Lawrence</td>\n",
       "      <td>male</td>\n",
       "      <td>34.0</td>\n",
       "      <td>0</td>\n",
       "      <td>0</td>\n",
       "      <td>248698</td>\n",
       "      <td>13.0000</td>\n",
       "      <td>D56</td>\n",
       "      <td>S</td>\n",
       "    </tr>\n",
       "    <tr>\n",
       "      <th>22</th>\n",
       "      <td>1</td>\n",
       "      <td>3</td>\n",
       "      <td>McGowan, Miss. Anna \"Annie\"</td>\n",
       "      <td>female</td>\n",
       "      <td>15.0</td>\n",
       "      <td>0</td>\n",
       "      <td>0</td>\n",
       "      <td>330923</td>\n",
       "      <td>8.0292</td>\n",
       "      <td>NaN</td>\n",
       "      <td>Q</td>\n",
       "    </tr>\n",
       "    <tr>\n",
       "      <th>23</th>\n",
       "      <td>1</td>\n",
       "      <td>1</td>\n",
       "      <td>Sloper, Mr. William Thompson</td>\n",
       "      <td>male</td>\n",
       "      <td>28.0</td>\n",
       "      <td>0</td>\n",
       "      <td>0</td>\n",
       "      <td>113788</td>\n",
       "      <td>35.5000</td>\n",
       "      <td>A6</td>\n",
       "      <td>S</td>\n",
       "    </tr>\n",
       "    <tr>\n",
       "      <th>24</th>\n",
       "      <td>0</td>\n",
       "      <td>3</td>\n",
       "      <td>Palsson, Miss. Torborg Danira</td>\n",
       "      <td>female</td>\n",
       "      <td>8.0</td>\n",
       "      <td>3</td>\n",
       "      <td>1</td>\n",
       "      <td>349909</td>\n",
       "      <td>21.0750</td>\n",
       "      <td>NaN</td>\n",
       "      <td>S</td>\n",
       "    </tr>\n",
       "    <tr>\n",
       "      <th>25</th>\n",
       "      <td>1</td>\n",
       "      <td>3</td>\n",
       "      <td>Asplund, Mrs. Carl Oscar (Selma Augusta Emilia...</td>\n",
       "      <td>female</td>\n",
       "      <td>38.0</td>\n",
       "      <td>1</td>\n",
       "      <td>5</td>\n",
       "      <td>347077</td>\n",
       "      <td>31.3875</td>\n",
       "      <td>NaN</td>\n",
       "      <td>S</td>\n",
       "    </tr>\n",
       "    <tr>\n",
       "      <th>26</th>\n",
       "      <td>0</td>\n",
       "      <td>3</td>\n",
       "      <td>Emir, Mr. Farred Chehab</td>\n",
       "      <td>male</td>\n",
       "      <td>NaN</td>\n",
       "      <td>0</td>\n",
       "      <td>0</td>\n",
       "      <td>2631</td>\n",
       "      <td>7.2250</td>\n",
       "      <td>NaN</td>\n",
       "      <td>C</td>\n",
       "    </tr>\n",
       "    <tr>\n",
       "      <th>27</th>\n",
       "      <td>0</td>\n",
       "      <td>1</td>\n",
       "      <td>Fortune, Mr. Charles Alexander</td>\n",
       "      <td>male</td>\n",
       "      <td>19.0</td>\n",
       "      <td>3</td>\n",
       "      <td>2</td>\n",
       "      <td>19950</td>\n",
       "      <td>263.0000</td>\n",
       "      <td>C23 C25 C27</td>\n",
       "      <td>S</td>\n",
       "    </tr>\n",
       "    <tr>\n",
       "      <th>28</th>\n",
       "      <td>1</td>\n",
       "      <td>3</td>\n",
       "      <td>O'Dwyer, Miss. Ellen \"Nellie\"</td>\n",
       "      <td>female</td>\n",
       "      <td>NaN</td>\n",
       "      <td>0</td>\n",
       "      <td>0</td>\n",
       "      <td>330959</td>\n",
       "      <td>7.8792</td>\n",
       "      <td>NaN</td>\n",
       "      <td>Q</td>\n",
       "    </tr>\n",
       "    <tr>\n",
       "      <th>29</th>\n",
       "      <td>0</td>\n",
       "      <td>3</td>\n",
       "      <td>Todoroff, Mr. Lalio</td>\n",
       "      <td>male</td>\n",
       "      <td>NaN</td>\n",
       "      <td>0</td>\n",
       "      <td>0</td>\n",
       "      <td>349216</td>\n",
       "      <td>7.8958</td>\n",
       "      <td>NaN</td>\n",
       "      <td>S</td>\n",
       "    </tr>\n",
       "    <tr>\n",
       "      <th>...</th>\n",
       "      <td>...</td>\n",
       "      <td>...</td>\n",
       "      <td>...</td>\n",
       "      <td>...</td>\n",
       "      <td>...</td>\n",
       "      <td>...</td>\n",
       "      <td>...</td>\n",
       "      <td>...</td>\n",
       "      <td>...</td>\n",
       "      <td>...</td>\n",
       "      <td>...</td>\n",
       "    </tr>\n",
       "    <tr>\n",
       "      <th>861</th>\n",
       "      <td>0</td>\n",
       "      <td>2</td>\n",
       "      <td>Giles, Mr. Frederick Edward</td>\n",
       "      <td>male</td>\n",
       "      <td>21.0</td>\n",
       "      <td>1</td>\n",
       "      <td>0</td>\n",
       "      <td>28134</td>\n",
       "      <td>11.5000</td>\n",
       "      <td>NaN</td>\n",
       "      <td>S</td>\n",
       "    </tr>\n",
       "    <tr>\n",
       "      <th>862</th>\n",
       "      <td>1</td>\n",
       "      <td>1</td>\n",
       "      <td>Swift, Mrs. Frederick Joel (Margaret Welles Ba...</td>\n",
       "      <td>female</td>\n",
       "      <td>48.0</td>\n",
       "      <td>0</td>\n",
       "      <td>0</td>\n",
       "      <td>17466</td>\n",
       "      <td>25.9292</td>\n",
       "      <td>D17</td>\n",
       "      <td>S</td>\n",
       "    </tr>\n",
       "    <tr>\n",
       "      <th>863</th>\n",
       "      <td>0</td>\n",
       "      <td>3</td>\n",
       "      <td>Sage, Miss. Dorothy Edith \"Dolly\"</td>\n",
       "      <td>female</td>\n",
       "      <td>NaN</td>\n",
       "      <td>8</td>\n",
       "      <td>2</td>\n",
       "      <td>CA. 2343</td>\n",
       "      <td>69.5500</td>\n",
       "      <td>NaN</td>\n",
       "      <td>S</td>\n",
       "    </tr>\n",
       "    <tr>\n",
       "      <th>864</th>\n",
       "      <td>0</td>\n",
       "      <td>2</td>\n",
       "      <td>Gill, Mr. John William</td>\n",
       "      <td>male</td>\n",
       "      <td>24.0</td>\n",
       "      <td>0</td>\n",
       "      <td>0</td>\n",
       "      <td>233866</td>\n",
       "      <td>13.0000</td>\n",
       "      <td>NaN</td>\n",
       "      <td>S</td>\n",
       "    </tr>\n",
       "    <tr>\n",
       "      <th>865</th>\n",
       "      <td>1</td>\n",
       "      <td>2</td>\n",
       "      <td>Bystrom, Mrs. (Karolina)</td>\n",
       "      <td>female</td>\n",
       "      <td>42.0</td>\n",
       "      <td>0</td>\n",
       "      <td>0</td>\n",
       "      <td>236852</td>\n",
       "      <td>13.0000</td>\n",
       "      <td>NaN</td>\n",
       "      <td>S</td>\n",
       "    </tr>\n",
       "    <tr>\n",
       "      <th>866</th>\n",
       "      <td>1</td>\n",
       "      <td>2</td>\n",
       "      <td>Duran y More, Miss. Asuncion</td>\n",
       "      <td>female</td>\n",
       "      <td>27.0</td>\n",
       "      <td>1</td>\n",
       "      <td>0</td>\n",
       "      <td>SC/PARIS 2149</td>\n",
       "      <td>13.8583</td>\n",
       "      <td>NaN</td>\n",
       "      <td>C</td>\n",
       "    </tr>\n",
       "    <tr>\n",
       "      <th>867</th>\n",
       "      <td>0</td>\n",
       "      <td>1</td>\n",
       "      <td>Roebling, Mr. Washington Augustus II</td>\n",
       "      <td>male</td>\n",
       "      <td>31.0</td>\n",
       "      <td>0</td>\n",
       "      <td>0</td>\n",
       "      <td>PC 17590</td>\n",
       "      <td>50.4958</td>\n",
       "      <td>A24</td>\n",
       "      <td>S</td>\n",
       "    </tr>\n",
       "    <tr>\n",
       "      <th>868</th>\n",
       "      <td>0</td>\n",
       "      <td>3</td>\n",
       "      <td>van Melkebeke, Mr. Philemon</td>\n",
       "      <td>male</td>\n",
       "      <td>NaN</td>\n",
       "      <td>0</td>\n",
       "      <td>0</td>\n",
       "      <td>345777</td>\n",
       "      <td>9.5000</td>\n",
       "      <td>NaN</td>\n",
       "      <td>S</td>\n",
       "    </tr>\n",
       "    <tr>\n",
       "      <th>869</th>\n",
       "      <td>1</td>\n",
       "      <td>3</td>\n",
       "      <td>Johnson, Master. Harold Theodor</td>\n",
       "      <td>male</td>\n",
       "      <td>4.0</td>\n",
       "      <td>1</td>\n",
       "      <td>1</td>\n",
       "      <td>347742</td>\n",
       "      <td>11.1333</td>\n",
       "      <td>NaN</td>\n",
       "      <td>S</td>\n",
       "    </tr>\n",
       "    <tr>\n",
       "      <th>870</th>\n",
       "      <td>0</td>\n",
       "      <td>3</td>\n",
       "      <td>Balkic, Mr. Cerin</td>\n",
       "      <td>male</td>\n",
       "      <td>26.0</td>\n",
       "      <td>0</td>\n",
       "      <td>0</td>\n",
       "      <td>349248</td>\n",
       "      <td>7.8958</td>\n",
       "      <td>NaN</td>\n",
       "      <td>S</td>\n",
       "    </tr>\n",
       "    <tr>\n",
       "      <th>871</th>\n",
       "      <td>1</td>\n",
       "      <td>1</td>\n",
       "      <td>Beckwith, Mrs. Richard Leonard (Sallie Monypeny)</td>\n",
       "      <td>female</td>\n",
       "      <td>47.0</td>\n",
       "      <td>1</td>\n",
       "      <td>1</td>\n",
       "      <td>11751</td>\n",
       "      <td>52.5542</td>\n",
       "      <td>D35</td>\n",
       "      <td>S</td>\n",
       "    </tr>\n",
       "    <tr>\n",
       "      <th>872</th>\n",
       "      <td>0</td>\n",
       "      <td>1</td>\n",
       "      <td>Carlsson, Mr. Frans Olof</td>\n",
       "      <td>male</td>\n",
       "      <td>33.0</td>\n",
       "      <td>0</td>\n",
       "      <td>0</td>\n",
       "      <td>695</td>\n",
       "      <td>5.0000</td>\n",
       "      <td>B51 B53 B55</td>\n",
       "      <td>S</td>\n",
       "    </tr>\n",
       "    <tr>\n",
       "      <th>873</th>\n",
       "      <td>0</td>\n",
       "      <td>3</td>\n",
       "      <td>Vander Cruyssen, Mr. Victor</td>\n",
       "      <td>male</td>\n",
       "      <td>47.0</td>\n",
       "      <td>0</td>\n",
       "      <td>0</td>\n",
       "      <td>345765</td>\n",
       "      <td>9.0000</td>\n",
       "      <td>NaN</td>\n",
       "      <td>S</td>\n",
       "    </tr>\n",
       "    <tr>\n",
       "      <th>874</th>\n",
       "      <td>1</td>\n",
       "      <td>2</td>\n",
       "      <td>Abelson, Mrs. Samuel (Hannah Wizosky)</td>\n",
       "      <td>female</td>\n",
       "      <td>28.0</td>\n",
       "      <td>1</td>\n",
       "      <td>0</td>\n",
       "      <td>P/PP 3381</td>\n",
       "      <td>24.0000</td>\n",
       "      <td>NaN</td>\n",
       "      <td>C</td>\n",
       "    </tr>\n",
       "    <tr>\n",
       "      <th>875</th>\n",
       "      <td>1</td>\n",
       "      <td>3</td>\n",
       "      <td>Najib, Miss. Adele Kiamie \"Jane\"</td>\n",
       "      <td>female</td>\n",
       "      <td>15.0</td>\n",
       "      <td>0</td>\n",
       "      <td>0</td>\n",
       "      <td>2667</td>\n",
       "      <td>7.2250</td>\n",
       "      <td>NaN</td>\n",
       "      <td>C</td>\n",
       "    </tr>\n",
       "    <tr>\n",
       "      <th>876</th>\n",
       "      <td>0</td>\n",
       "      <td>3</td>\n",
       "      <td>Gustafsson, Mr. Alfred Ossian</td>\n",
       "      <td>male</td>\n",
       "      <td>20.0</td>\n",
       "      <td>0</td>\n",
       "      <td>0</td>\n",
       "      <td>7534</td>\n",
       "      <td>9.8458</td>\n",
       "      <td>NaN</td>\n",
       "      <td>S</td>\n",
       "    </tr>\n",
       "    <tr>\n",
       "      <th>877</th>\n",
       "      <td>0</td>\n",
       "      <td>3</td>\n",
       "      <td>Petroff, Mr. Nedelio</td>\n",
       "      <td>male</td>\n",
       "      <td>19.0</td>\n",
       "      <td>0</td>\n",
       "      <td>0</td>\n",
       "      <td>349212</td>\n",
       "      <td>7.8958</td>\n",
       "      <td>NaN</td>\n",
       "      <td>S</td>\n",
       "    </tr>\n",
       "    <tr>\n",
       "      <th>878</th>\n",
       "      <td>0</td>\n",
       "      <td>3</td>\n",
       "      <td>Laleff, Mr. Kristo</td>\n",
       "      <td>male</td>\n",
       "      <td>NaN</td>\n",
       "      <td>0</td>\n",
       "      <td>0</td>\n",
       "      <td>349217</td>\n",
       "      <td>7.8958</td>\n",
       "      <td>NaN</td>\n",
       "      <td>S</td>\n",
       "    </tr>\n",
       "    <tr>\n",
       "      <th>879</th>\n",
       "      <td>1</td>\n",
       "      <td>1</td>\n",
       "      <td>Potter, Mrs. Thomas Jr (Lily Alexenia Wilson)</td>\n",
       "      <td>female</td>\n",
       "      <td>56.0</td>\n",
       "      <td>0</td>\n",
       "      <td>1</td>\n",
       "      <td>11767</td>\n",
       "      <td>83.1583</td>\n",
       "      <td>C50</td>\n",
       "      <td>C</td>\n",
       "    </tr>\n",
       "    <tr>\n",
       "      <th>880</th>\n",
       "      <td>1</td>\n",
       "      <td>2</td>\n",
       "      <td>Shelley, Mrs. William (Imanita Parrish Hall)</td>\n",
       "      <td>female</td>\n",
       "      <td>25.0</td>\n",
       "      <td>0</td>\n",
       "      <td>1</td>\n",
       "      <td>230433</td>\n",
       "      <td>26.0000</td>\n",
       "      <td>NaN</td>\n",
       "      <td>S</td>\n",
       "    </tr>\n",
       "    <tr>\n",
       "      <th>881</th>\n",
       "      <td>0</td>\n",
       "      <td>3</td>\n",
       "      <td>Markun, Mr. Johann</td>\n",
       "      <td>male</td>\n",
       "      <td>33.0</td>\n",
       "      <td>0</td>\n",
       "      <td>0</td>\n",
       "      <td>349257</td>\n",
       "      <td>7.8958</td>\n",
       "      <td>NaN</td>\n",
       "      <td>S</td>\n",
       "    </tr>\n",
       "    <tr>\n",
       "      <th>882</th>\n",
       "      <td>0</td>\n",
       "      <td>3</td>\n",
       "      <td>Dahlberg, Miss. Gerda Ulrika</td>\n",
       "      <td>female</td>\n",
       "      <td>22.0</td>\n",
       "      <td>0</td>\n",
       "      <td>0</td>\n",
       "      <td>7552</td>\n",
       "      <td>10.5167</td>\n",
       "      <td>NaN</td>\n",
       "      <td>S</td>\n",
       "    </tr>\n",
       "    <tr>\n",
       "      <th>883</th>\n",
       "      <td>0</td>\n",
       "      <td>2</td>\n",
       "      <td>Banfield, Mr. Frederick James</td>\n",
       "      <td>male</td>\n",
       "      <td>28.0</td>\n",
       "      <td>0</td>\n",
       "      <td>0</td>\n",
       "      <td>C.A./SOTON 34068</td>\n",
       "      <td>10.5000</td>\n",
       "      <td>NaN</td>\n",
       "      <td>S</td>\n",
       "    </tr>\n",
       "    <tr>\n",
       "      <th>884</th>\n",
       "      <td>0</td>\n",
       "      <td>3</td>\n",
       "      <td>Sutehall, Mr. Henry Jr</td>\n",
       "      <td>male</td>\n",
       "      <td>25.0</td>\n",
       "      <td>0</td>\n",
       "      <td>0</td>\n",
       "      <td>SOTON/OQ 392076</td>\n",
       "      <td>7.0500</td>\n",
       "      <td>NaN</td>\n",
       "      <td>S</td>\n",
       "    </tr>\n",
       "    <tr>\n",
       "      <th>885</th>\n",
       "      <td>0</td>\n",
       "      <td>3</td>\n",
       "      <td>Rice, Mrs. William (Margaret Norton)</td>\n",
       "      <td>female</td>\n",
       "      <td>39.0</td>\n",
       "      <td>0</td>\n",
       "      <td>5</td>\n",
       "      <td>382652</td>\n",
       "      <td>29.1250</td>\n",
       "      <td>NaN</td>\n",
       "      <td>Q</td>\n",
       "    </tr>\n",
       "    <tr>\n",
       "      <th>886</th>\n",
       "      <td>0</td>\n",
       "      <td>2</td>\n",
       "      <td>Montvila, Rev. Juozas</td>\n",
       "      <td>male</td>\n",
       "      <td>27.0</td>\n",
       "      <td>0</td>\n",
       "      <td>0</td>\n",
       "      <td>211536</td>\n",
       "      <td>13.0000</td>\n",
       "      <td>NaN</td>\n",
       "      <td>S</td>\n",
       "    </tr>\n",
       "    <tr>\n",
       "      <th>887</th>\n",
       "      <td>1</td>\n",
       "      <td>1</td>\n",
       "      <td>Graham, Miss. Margaret Edith</td>\n",
       "      <td>female</td>\n",
       "      <td>19.0</td>\n",
       "      <td>0</td>\n",
       "      <td>0</td>\n",
       "      <td>112053</td>\n",
       "      <td>30.0000</td>\n",
       "      <td>B42</td>\n",
       "      <td>S</td>\n",
       "    </tr>\n",
       "    <tr>\n",
       "      <th>888</th>\n",
       "      <td>0</td>\n",
       "      <td>3</td>\n",
       "      <td>Johnston, Miss. Catherine Helen \"Carrie\"</td>\n",
       "      <td>female</td>\n",
       "      <td>NaN</td>\n",
       "      <td>1</td>\n",
       "      <td>2</td>\n",
       "      <td>W./C. 6607</td>\n",
       "      <td>23.4500</td>\n",
       "      <td>NaN</td>\n",
       "      <td>S</td>\n",
       "    </tr>\n",
       "    <tr>\n",
       "      <th>889</th>\n",
       "      <td>1</td>\n",
       "      <td>1</td>\n",
       "      <td>Behr, Mr. Karl Howell</td>\n",
       "      <td>male</td>\n",
       "      <td>26.0</td>\n",
       "      <td>0</td>\n",
       "      <td>0</td>\n",
       "      <td>111369</td>\n",
       "      <td>30.0000</td>\n",
       "      <td>C148</td>\n",
       "      <td>C</td>\n",
       "    </tr>\n",
       "    <tr>\n",
       "      <th>890</th>\n",
       "      <td>0</td>\n",
       "      <td>3</td>\n",
       "      <td>Dooley, Mr. Patrick</td>\n",
       "      <td>male</td>\n",
       "      <td>32.0</td>\n",
       "      <td>0</td>\n",
       "      <td>0</td>\n",
       "      <td>370376</td>\n",
       "      <td>7.7500</td>\n",
       "      <td>NaN</td>\n",
       "      <td>Q</td>\n",
       "    </tr>\n",
       "  </tbody>\n",
       "</table>\n",
       "<p>891 rows × 11 columns</p>\n",
       "</div>"
      ],
      "text/plain": [
       "     survived  pclass                                               name  \\\n",
       "0           0       3                            Braund, Mr. Owen Harris   \n",
       "1           1       1  Cumings, Mrs. John Bradley (Florence Briggs Th...   \n",
       "2           1       3                             Heikkinen, Miss. Laina   \n",
       "3           1       1       Futrelle, Mrs. Jacques Heath (Lily May Peel)   \n",
       "4           0       3                           Allen, Mr. William Henry   \n",
       "5           0       3                                   Moran, Mr. James   \n",
       "6           0       1                            McCarthy, Mr. Timothy J   \n",
       "7           0       3                     Palsson, Master. Gosta Leonard   \n",
       "8           1       3  Johnson, Mrs. Oscar W (Elisabeth Vilhelmina Berg)   \n",
       "9           1       2                Nasser, Mrs. Nicholas (Adele Achem)   \n",
       "10          1       3                    Sandstrom, Miss. Marguerite Rut   \n",
       "11          1       1                           Bonnell, Miss. Elizabeth   \n",
       "12          0       3                     Saundercock, Mr. William Henry   \n",
       "13          0       3                        Andersson, Mr. Anders Johan   \n",
       "14          0       3               Vestrom, Miss. Hulda Amanda Adolfina   \n",
       "15          1       2                   Hewlett, Mrs. (Mary D Kingcome)    \n",
       "16          0       3                               Rice, Master. Eugene   \n",
       "17          1       2                       Williams, Mr. Charles Eugene   \n",
       "18          0       3  Vander Planke, Mrs. Julius (Emelia Maria Vande...   \n",
       "19          1       3                            Masselmani, Mrs. Fatima   \n",
       "20          0       2                               Fynney, Mr. Joseph J   \n",
       "21          1       2                              Beesley, Mr. Lawrence   \n",
       "22          1       3                        McGowan, Miss. Anna \"Annie\"   \n",
       "23          1       1                       Sloper, Mr. William Thompson   \n",
       "24          0       3                      Palsson, Miss. Torborg Danira   \n",
       "25          1       3  Asplund, Mrs. Carl Oscar (Selma Augusta Emilia...   \n",
       "26          0       3                            Emir, Mr. Farred Chehab   \n",
       "27          0       1                     Fortune, Mr. Charles Alexander   \n",
       "28          1       3                      O'Dwyer, Miss. Ellen \"Nellie\"   \n",
       "29          0       3                                Todoroff, Mr. Lalio   \n",
       "..        ...     ...                                                ...   \n",
       "861         0       2                        Giles, Mr. Frederick Edward   \n",
       "862         1       1  Swift, Mrs. Frederick Joel (Margaret Welles Ba...   \n",
       "863         0       3                  Sage, Miss. Dorothy Edith \"Dolly\"   \n",
       "864         0       2                             Gill, Mr. John William   \n",
       "865         1       2                           Bystrom, Mrs. (Karolina)   \n",
       "866         1       2                       Duran y More, Miss. Asuncion   \n",
       "867         0       1               Roebling, Mr. Washington Augustus II   \n",
       "868         0       3                        van Melkebeke, Mr. Philemon   \n",
       "869         1       3                    Johnson, Master. Harold Theodor   \n",
       "870         0       3                                  Balkic, Mr. Cerin   \n",
       "871         1       1   Beckwith, Mrs. Richard Leonard (Sallie Monypeny)   \n",
       "872         0       1                           Carlsson, Mr. Frans Olof   \n",
       "873         0       3                        Vander Cruyssen, Mr. Victor   \n",
       "874         1       2              Abelson, Mrs. Samuel (Hannah Wizosky)   \n",
       "875         1       3                   Najib, Miss. Adele Kiamie \"Jane\"   \n",
       "876         0       3                      Gustafsson, Mr. Alfred Ossian   \n",
       "877         0       3                               Petroff, Mr. Nedelio   \n",
       "878         0       3                                 Laleff, Mr. Kristo   \n",
       "879         1       1      Potter, Mrs. Thomas Jr (Lily Alexenia Wilson)   \n",
       "880         1       2       Shelley, Mrs. William (Imanita Parrish Hall)   \n",
       "881         0       3                                 Markun, Mr. Johann   \n",
       "882         0       3                       Dahlberg, Miss. Gerda Ulrika   \n",
       "883         0       2                      Banfield, Mr. Frederick James   \n",
       "884         0       3                             Sutehall, Mr. Henry Jr   \n",
       "885         0       3               Rice, Mrs. William (Margaret Norton)   \n",
       "886         0       2                              Montvila, Rev. Juozas   \n",
       "887         1       1                       Graham, Miss. Margaret Edith   \n",
       "888         0       3           Johnston, Miss. Catherine Helen \"Carrie\"   \n",
       "889         1       1                              Behr, Mr. Karl Howell   \n",
       "890         0       3                                Dooley, Mr. Patrick   \n",
       "\n",
       "        sex   age  sibsp  parch            ticket      fare        cabin  \\\n",
       "0      male  22.0      1      0         A/5 21171    7.2500          NaN   \n",
       "1    female  38.0      1      0          PC 17599   71.2833          C85   \n",
       "2    female  26.0      0      0  STON/O2. 3101282    7.9250          NaN   \n",
       "3    female  35.0      1      0            113803   53.1000         C123   \n",
       "4      male  35.0      0      0            373450    8.0500          NaN   \n",
       "5      male   NaN      0      0            330877    8.4583          NaN   \n",
       "6      male  54.0      0      0             17463   51.8625          E46   \n",
       "7      male   2.0      3      1            349909   21.0750          NaN   \n",
       "8    female  27.0      0      2            347742   11.1333          NaN   \n",
       "9    female  14.0      1      0            237736   30.0708          NaN   \n",
       "10   female   4.0      1      1           PP 9549   16.7000           G6   \n",
       "11   female  58.0      0      0            113783   26.5500         C103   \n",
       "12     male  20.0      0      0         A/5. 2151    8.0500          NaN   \n",
       "13     male  39.0      1      5            347082   31.2750          NaN   \n",
       "14   female  14.0      0      0            350406    7.8542          NaN   \n",
       "15   female  55.0      0      0            248706   16.0000          NaN   \n",
       "16     male   2.0      4      1            382652   29.1250          NaN   \n",
       "17     male   NaN      0      0            244373   13.0000          NaN   \n",
       "18   female  31.0      1      0            345763   18.0000          NaN   \n",
       "19   female   NaN      0      0              2649    7.2250          NaN   \n",
       "20     male  35.0      0      0            239865   26.0000          NaN   \n",
       "21     male  34.0      0      0            248698   13.0000          D56   \n",
       "22   female  15.0      0      0            330923    8.0292          NaN   \n",
       "23     male  28.0      0      0            113788   35.5000           A6   \n",
       "24   female   8.0      3      1            349909   21.0750          NaN   \n",
       "25   female  38.0      1      5            347077   31.3875          NaN   \n",
       "26     male   NaN      0      0              2631    7.2250          NaN   \n",
       "27     male  19.0      3      2             19950  263.0000  C23 C25 C27   \n",
       "28   female   NaN      0      0            330959    7.8792          NaN   \n",
       "29     male   NaN      0      0            349216    7.8958          NaN   \n",
       "..      ...   ...    ...    ...               ...       ...          ...   \n",
       "861    male  21.0      1      0             28134   11.5000          NaN   \n",
       "862  female  48.0      0      0             17466   25.9292          D17   \n",
       "863  female   NaN      8      2          CA. 2343   69.5500          NaN   \n",
       "864    male  24.0      0      0            233866   13.0000          NaN   \n",
       "865  female  42.0      0      0            236852   13.0000          NaN   \n",
       "866  female  27.0      1      0     SC/PARIS 2149   13.8583          NaN   \n",
       "867    male  31.0      0      0          PC 17590   50.4958          A24   \n",
       "868    male   NaN      0      0            345777    9.5000          NaN   \n",
       "869    male   4.0      1      1            347742   11.1333          NaN   \n",
       "870    male  26.0      0      0            349248    7.8958          NaN   \n",
       "871  female  47.0      1      1             11751   52.5542          D35   \n",
       "872    male  33.0      0      0               695    5.0000  B51 B53 B55   \n",
       "873    male  47.0      0      0            345765    9.0000          NaN   \n",
       "874  female  28.0      1      0         P/PP 3381   24.0000          NaN   \n",
       "875  female  15.0      0      0              2667    7.2250          NaN   \n",
       "876    male  20.0      0      0              7534    9.8458          NaN   \n",
       "877    male  19.0      0      0            349212    7.8958          NaN   \n",
       "878    male   NaN      0      0            349217    7.8958          NaN   \n",
       "879  female  56.0      0      1             11767   83.1583          C50   \n",
       "880  female  25.0      0      1            230433   26.0000          NaN   \n",
       "881    male  33.0      0      0            349257    7.8958          NaN   \n",
       "882  female  22.0      0      0              7552   10.5167          NaN   \n",
       "883    male  28.0      0      0  C.A./SOTON 34068   10.5000          NaN   \n",
       "884    male  25.0      0      0   SOTON/OQ 392076    7.0500          NaN   \n",
       "885  female  39.0      0      5            382652   29.1250          NaN   \n",
       "886    male  27.0      0      0            211536   13.0000          NaN   \n",
       "887  female  19.0      0      0            112053   30.0000          B42   \n",
       "888  female   NaN      1      2        W./C. 6607   23.4500          NaN   \n",
       "889    male  26.0      0      0            111369   30.0000         C148   \n",
       "890    male  32.0      0      0            370376    7.7500          NaN   \n",
       "\n",
       "    embarked  \n",
       "0          S  \n",
       "1          C  \n",
       "2          S  \n",
       "3          S  \n",
       "4          S  \n",
       "5          Q  \n",
       "6          S  \n",
       "7          S  \n",
       "8          S  \n",
       "9          C  \n",
       "10         S  \n",
       "11         S  \n",
       "12         S  \n",
       "13         S  \n",
       "14         S  \n",
       "15         S  \n",
       "16         Q  \n",
       "17         S  \n",
       "18         S  \n",
       "19         C  \n",
       "20         S  \n",
       "21         S  \n",
       "22         Q  \n",
       "23         S  \n",
       "24         S  \n",
       "25         S  \n",
       "26         C  \n",
       "27         S  \n",
       "28         Q  \n",
       "29         S  \n",
       "..       ...  \n",
       "861        S  \n",
       "862        S  \n",
       "863        S  \n",
       "864        S  \n",
       "865        S  \n",
       "866        C  \n",
       "867        S  \n",
       "868        S  \n",
       "869        S  \n",
       "870        S  \n",
       "871        S  \n",
       "872        S  \n",
       "873        S  \n",
       "874        C  \n",
       "875        C  \n",
       "876        S  \n",
       "877        S  \n",
       "878        S  \n",
       "879        C  \n",
       "880        S  \n",
       "881        S  \n",
       "882        S  \n",
       "883        S  \n",
       "884        S  \n",
       "885        Q  \n",
       "886        S  \n",
       "887        S  \n",
       "888        S  \n",
       "889        C  \n",
       "890        Q  \n",
       "\n",
       "[891 rows x 11 columns]"
      ]
     },
     "execution_count": 4,
     "metadata": {},
     "output_type": "execute_result"
    }
   ],
   "source": [
    "titanic"
   ]
  },
  {
   "cell_type": "code",
   "execution_count": 5,
   "metadata": {},
   "outputs": [
    {
     "data": {
      "text/html": [
       "<div>\n",
       "<style scoped>\n",
       "    .dataframe tbody tr th:only-of-type {\n",
       "        vertical-align: middle;\n",
       "    }\n",
       "\n",
       "    .dataframe tbody tr th {\n",
       "        vertical-align: top;\n",
       "    }\n",
       "\n",
       "    .dataframe thead th {\n",
       "        text-align: right;\n",
       "    }\n",
       "</style>\n",
       "<table border=\"1\" class=\"dataframe\">\n",
       "  <thead>\n",
       "    <tr style=\"text-align: right;\">\n",
       "      <th></th>\n",
       "      <th>survived</th>\n",
       "      <th>pclass</th>\n",
       "      <th>age</th>\n",
       "      <th>sibsp</th>\n",
       "      <th>parch</th>\n",
       "      <th>fare</th>\n",
       "    </tr>\n",
       "  </thead>\n",
       "  <tbody>\n",
       "    <tr>\n",
       "      <th>count</th>\n",
       "      <td>891.000000</td>\n",
       "      <td>891.000000</td>\n",
       "      <td>714.000000</td>\n",
       "      <td>891.000000</td>\n",
       "      <td>891.000000</td>\n",
       "      <td>891.000000</td>\n",
       "    </tr>\n",
       "    <tr>\n",
       "      <th>mean</th>\n",
       "      <td>0.383838</td>\n",
       "      <td>2.308642</td>\n",
       "      <td>29.699118</td>\n",
       "      <td>0.523008</td>\n",
       "      <td>0.381594</td>\n",
       "      <td>32.204208</td>\n",
       "    </tr>\n",
       "    <tr>\n",
       "      <th>std</th>\n",
       "      <td>0.486592</td>\n",
       "      <td>0.836071</td>\n",
       "      <td>14.526497</td>\n",
       "      <td>1.102743</td>\n",
       "      <td>0.806057</td>\n",
       "      <td>49.693429</td>\n",
       "    </tr>\n",
       "    <tr>\n",
       "      <th>min</th>\n",
       "      <td>0.000000</td>\n",
       "      <td>1.000000</td>\n",
       "      <td>0.420000</td>\n",
       "      <td>0.000000</td>\n",
       "      <td>0.000000</td>\n",
       "      <td>0.000000</td>\n",
       "    </tr>\n",
       "    <tr>\n",
       "      <th>25%</th>\n",
       "      <td>0.000000</td>\n",
       "      <td>2.000000</td>\n",
       "      <td>20.125000</td>\n",
       "      <td>0.000000</td>\n",
       "      <td>0.000000</td>\n",
       "      <td>7.910400</td>\n",
       "    </tr>\n",
       "    <tr>\n",
       "      <th>50%</th>\n",
       "      <td>0.000000</td>\n",
       "      <td>3.000000</td>\n",
       "      <td>28.000000</td>\n",
       "      <td>0.000000</td>\n",
       "      <td>0.000000</td>\n",
       "      <td>14.454200</td>\n",
       "    </tr>\n",
       "    <tr>\n",
       "      <th>75%</th>\n",
       "      <td>1.000000</td>\n",
       "      <td>3.000000</td>\n",
       "      <td>38.000000</td>\n",
       "      <td>1.000000</td>\n",
       "      <td>0.000000</td>\n",
       "      <td>31.000000</td>\n",
       "    </tr>\n",
       "    <tr>\n",
       "      <th>max</th>\n",
       "      <td>1.000000</td>\n",
       "      <td>3.000000</td>\n",
       "      <td>80.000000</td>\n",
       "      <td>8.000000</td>\n",
       "      <td>6.000000</td>\n",
       "      <td>512.329200</td>\n",
       "    </tr>\n",
       "  </tbody>\n",
       "</table>\n",
       "</div>"
      ],
      "text/plain": [
       "         survived      pclass         age       sibsp       parch        fare\n",
       "count  891.000000  891.000000  714.000000  891.000000  891.000000  891.000000\n",
       "mean     0.383838    2.308642   29.699118    0.523008    0.381594   32.204208\n",
       "std      0.486592    0.836071   14.526497    1.102743    0.806057   49.693429\n",
       "min      0.000000    1.000000    0.420000    0.000000    0.000000    0.000000\n",
       "25%      0.000000    2.000000   20.125000    0.000000    0.000000    7.910400\n",
       "50%      0.000000    3.000000   28.000000    0.000000    0.000000   14.454200\n",
       "75%      1.000000    3.000000   38.000000    1.000000    0.000000   31.000000\n",
       "max      1.000000    3.000000   80.000000    8.000000    6.000000  512.329200"
      ]
     },
     "execution_count": 5,
     "metadata": {},
     "output_type": "execute_result"
    }
   ],
   "source": [
    "titanic.describe()"
   ]
  },
  {
   "cell_type": "code",
   "execution_count": 6,
   "metadata": {},
   "outputs": [
    {
     "data": {
      "text/html": [
       "<div>\n",
       "<style scoped>\n",
       "    .dataframe tbody tr th:only-of-type {\n",
       "        vertical-align: middle;\n",
       "    }\n",
       "\n",
       "    .dataframe tbody tr th {\n",
       "        vertical-align: top;\n",
       "    }\n",
       "\n",
       "    .dataframe thead th {\n",
       "        text-align: right;\n",
       "    }\n",
       "</style>\n",
       "<table border=\"1\" class=\"dataframe\">\n",
       "  <thead>\n",
       "    <tr style=\"text-align: right;\">\n",
       "      <th></th>\n",
       "      <th>survived</th>\n",
       "      <th>pclass</th>\n",
       "      <th>name</th>\n",
       "      <th>sex</th>\n",
       "      <th>age</th>\n",
       "      <th>sibsp</th>\n",
       "      <th>parch</th>\n",
       "      <th>ticket</th>\n",
       "      <th>fare</th>\n",
       "      <th>cabin</th>\n",
       "      <th>embarked</th>\n",
       "    </tr>\n",
       "  </thead>\n",
       "  <tbody>\n",
       "    <tr>\n",
       "      <th>630</th>\n",
       "      <td>1</td>\n",
       "      <td>1</td>\n",
       "      <td>Barkworth, Mr. Algernon Henry Wilson</td>\n",
       "      <td>male</td>\n",
       "      <td>80.0</td>\n",
       "      <td>0</td>\n",
       "      <td>0</td>\n",
       "      <td>27042</td>\n",
       "      <td>30.0000</td>\n",
       "      <td>A23</td>\n",
       "      <td>S</td>\n",
       "    </tr>\n",
       "    <tr>\n",
       "      <th>851</th>\n",
       "      <td>0</td>\n",
       "      <td>3</td>\n",
       "      <td>Svensson, Mr. Johan</td>\n",
       "      <td>male</td>\n",
       "      <td>74.0</td>\n",
       "      <td>0</td>\n",
       "      <td>0</td>\n",
       "      <td>347060</td>\n",
       "      <td>7.7750</td>\n",
       "      <td>NaN</td>\n",
       "      <td>S</td>\n",
       "    </tr>\n",
       "    <tr>\n",
       "      <th>493</th>\n",
       "      <td>0</td>\n",
       "      <td>1</td>\n",
       "      <td>Artagaveytia, Mr. Ramon</td>\n",
       "      <td>male</td>\n",
       "      <td>71.0</td>\n",
       "      <td>0</td>\n",
       "      <td>0</td>\n",
       "      <td>PC 17609</td>\n",
       "      <td>49.5042</td>\n",
       "      <td>NaN</td>\n",
       "      <td>C</td>\n",
       "    </tr>\n",
       "    <tr>\n",
       "      <th>96</th>\n",
       "      <td>0</td>\n",
       "      <td>1</td>\n",
       "      <td>Goldschmidt, Mr. George B</td>\n",
       "      <td>male</td>\n",
       "      <td>71.0</td>\n",
       "      <td>0</td>\n",
       "      <td>0</td>\n",
       "      <td>PC 17754</td>\n",
       "      <td>34.6542</td>\n",
       "      <td>A5</td>\n",
       "      <td>C</td>\n",
       "    </tr>\n",
       "    <tr>\n",
       "      <th>116</th>\n",
       "      <td>0</td>\n",
       "      <td>3</td>\n",
       "      <td>Connors, Mr. Patrick</td>\n",
       "      <td>male</td>\n",
       "      <td>70.5</td>\n",
       "      <td>0</td>\n",
       "      <td>0</td>\n",
       "      <td>370369</td>\n",
       "      <td>7.7500</td>\n",
       "      <td>NaN</td>\n",
       "      <td>Q</td>\n",
       "    </tr>\n",
       "  </tbody>\n",
       "</table>\n",
       "</div>"
      ],
      "text/plain": [
       "     survived  pclass                                  name   sex   age  \\\n",
       "630         1       1  Barkworth, Mr. Algernon Henry Wilson  male  80.0   \n",
       "851         0       3                   Svensson, Mr. Johan  male  74.0   \n",
       "493         0       1               Artagaveytia, Mr. Ramon  male  71.0   \n",
       "96          0       1             Goldschmidt, Mr. George B  male  71.0   \n",
       "116         0       3                  Connors, Mr. Patrick  male  70.5   \n",
       "\n",
       "     sibsp  parch    ticket     fare cabin embarked  \n",
       "630      0      0     27042  30.0000   A23        S  \n",
       "851      0      0    347060   7.7750   NaN        S  \n",
       "493      0      0  PC 17609  49.5042   NaN        C  \n",
       "96       0      0  PC 17754  34.6542    A5        C  \n",
       "116      0      0    370369   7.7500   NaN        Q  "
      ]
     },
     "execution_count": 6,
     "metadata": {},
     "output_type": "execute_result"
    }
   ],
   "source": [
    "titanic.sort_values(by='age', ascending=False).head(5)"
   ]
  },
  {
   "cell_type": "code",
   "execution_count": 7,
   "metadata": {},
   "outputs": [
    {
     "data": {
      "text/html": [
       "<div>\n",
       "<style scoped>\n",
       "    .dataframe tbody tr th:only-of-type {\n",
       "        vertical-align: middle;\n",
       "    }\n",
       "\n",
       "    .dataframe tbody tr th {\n",
       "        vertical-align: top;\n",
       "    }\n",
       "\n",
       "    .dataframe thead th {\n",
       "        text-align: right;\n",
       "    }\n",
       "</style>\n",
       "<table border=\"1\" class=\"dataframe\">\n",
       "  <thead>\n",
       "    <tr style=\"text-align: right;\">\n",
       "      <th></th>\n",
       "      <th>age</th>\n",
       "      <th>name</th>\n",
       "    </tr>\n",
       "  </thead>\n",
       "  <tbody>\n",
       "    <tr>\n",
       "      <th>0</th>\n",
       "      <td>22.0</td>\n",
       "      <td>Braund, Mr. Owen Harris</td>\n",
       "    </tr>\n",
       "    <tr>\n",
       "      <th>1</th>\n",
       "      <td>38.0</td>\n",
       "      <td>Cumings, Mrs. John Bradley (Florence Briggs Th...</td>\n",
       "    </tr>\n",
       "    <tr>\n",
       "      <th>2</th>\n",
       "      <td>26.0</td>\n",
       "      <td>Heikkinen, Miss. Laina</td>\n",
       "    </tr>\n",
       "    <tr>\n",
       "      <th>3</th>\n",
       "      <td>35.0</td>\n",
       "      <td>Futrelle, Mrs. Jacques Heath (Lily May Peel)</td>\n",
       "    </tr>\n",
       "    <tr>\n",
       "      <th>4</th>\n",
       "      <td>35.0</td>\n",
       "      <td>Allen, Mr. William Henry</td>\n",
       "    </tr>\n",
       "  </tbody>\n",
       "</table>\n",
       "</div>"
      ],
      "text/plain": [
       "    age                                               name\n",
       "0  22.0                            Braund, Mr. Owen Harris\n",
       "1  38.0  Cumings, Mrs. John Bradley (Florence Briggs Th...\n",
       "2  26.0                             Heikkinen, Miss. Laina\n",
       "3  35.0       Futrelle, Mrs. Jacques Heath (Lily May Peel)\n",
       "4  35.0                           Allen, Mr. William Henry"
      ]
     },
     "execution_count": 7,
     "metadata": {},
     "output_type": "execute_result"
    }
   ],
   "source": [
    "# indexing can be tricky\n",
    "titanic[['age', 'name']].head(5)"
   ]
  },
  {
   "cell_type": "code",
   "execution_count": 8,
   "metadata": {},
   "outputs": [
    {
     "data": {
      "text/html": [
       "<div>\n",
       "<style scoped>\n",
       "    .dataframe tbody tr th:only-of-type {\n",
       "        vertical-align: middle;\n",
       "    }\n",
       "\n",
       "    .dataframe tbody tr th {\n",
       "        vertical-align: top;\n",
       "    }\n",
       "\n",
       "    .dataframe thead th {\n",
       "        text-align: right;\n",
       "    }\n",
       "</style>\n",
       "<table border=\"1\" class=\"dataframe\">\n",
       "  <thead>\n",
       "    <tr style=\"text-align: right;\">\n",
       "      <th></th>\n",
       "      <th>name</th>\n",
       "      <th>sex</th>\n",
       "      <th>age</th>\n",
       "    </tr>\n",
       "  </thead>\n",
       "  <tbody>\n",
       "    <tr>\n",
       "      <th>2</th>\n",
       "      <td>Heikkinen, Miss. Laina</td>\n",
       "      <td>female</td>\n",
       "      <td>26.0</td>\n",
       "    </tr>\n",
       "    <tr>\n",
       "      <th>5</th>\n",
       "      <td>Moran, Mr. James</td>\n",
       "      <td>male</td>\n",
       "      <td>NaN</td>\n",
       "    </tr>\n",
       "    <tr>\n",
       "      <th>6</th>\n",
       "      <td>McCarthy, Mr. Timothy J</td>\n",
       "      <td>male</td>\n",
       "      <td>54.0</td>\n",
       "    </tr>\n",
       "  </tbody>\n",
       "</table>\n",
       "</div>"
      ],
      "text/plain": [
       "                      name     sex   age\n",
       "2   Heikkinen, Miss. Laina  female  26.0\n",
       "5         Moran, Mr. James    male   NaN\n",
       "6  McCarthy, Mr. Timothy J    male  54.0"
      ]
     },
     "execution_count": 8,
     "metadata": {},
     "output_type": "execute_result"
    }
   ],
   "source": [
    "titanic.iloc[[2, 5, 6], 2:5]"
   ]
  },
  {
   "cell_type": "code",
   "execution_count": 9,
   "metadata": {},
   "outputs": [
    {
     "data": {
      "text/plain": [
       "pandas.core.frame.DataFrame"
      ]
     },
     "execution_count": 9,
     "metadata": {},
     "output_type": "execute_result"
    }
   ],
   "source": [
    "type(titanic)"
   ]
  },
  {
   "cell_type": "code",
   "execution_count": 10,
   "metadata": {},
   "outputs": [
    {
     "data": {
      "text/plain": [
       "numpy.ndarray"
      ]
     },
     "execution_count": 10,
     "metadata": {},
     "output_type": "execute_result"
    }
   ],
   "source": [
    "# you can extract a numpy array\n",
    "type(titanic.values)"
   ]
  },
  {
   "cell_type": "markdown",
   "metadata": {},
   "source": [
    "#See more details here: 10 Minutes to pandas (actually it requires much more)\n",
    "\n",
    "http://pandas.pydata.org/pandas-docs/stable/10min.html"
   ]
  },
  {
   "cell_type": "markdown",
   "metadata": {},
   "source": [
    "# Seaborn\n",
    "### A library for visualization"
   ]
  },
  {
   "cell_type": "code",
   "execution_count": 11,
   "metadata": {},
   "outputs": [
    {
     "data": {
      "text/plain": [
       "<seaborn.axisgrid.FacetGrid at 0x287c00137b8>"
      ]
     },
     "execution_count": 11,
     "metadata": {},
     "output_type": "execute_result"
    },
    {
     "data": {
      "image/png": "[encoded data removed]",
      "text/plain": [
       "<Figure size 360x360 with 1 Axes>"
      ]
     },
     "metadata": {
      "needs_background": "light"
     },
     "output_type": "display_data"
    }
   ],
   "source": [
    "sns.catplot(x=\"pclass\", kind=\"count\", data=titanic)"
   ]
  },
  {
   "cell_type": "code",
   "execution_count": 12,
   "metadata": {},
   "outputs": [
    {
     "data": {
      "text/plain": [
       "<seaborn.axisgrid.FacetGrid at 0x287c206c198>"
      ]
     },
     "execution_count": 12,
     "metadata": {},
     "output_type": "execute_result"
    },
    {
     "data": {
      "image/png": "[encoded data removed]",
      "text/plain": [
       "<Figure size 432.85x360 with 1 Axes>"
      ]
     },
     "metadata": {
      "needs_background": "light"
     },
     "output_type": "display_data"
    }
   ],
   "source": [
    "sns.catplot(\"pclass\", data=titanic, hue=\"sex\", kind=\"count\")"
   ]
  },
  {
   "cell_type": "code",
   "execution_count": 13,
   "metadata": {},
   "outputs": [
    {
     "data": {
      "image/png": "[encoded data removed]",
      "text/plain": [
       "<Figure size 648x216 with 1 Axes>"
      ]
     },
     "metadata": {
      "needs_background": "light"
     },
     "output_type": "display_data"
    }
   ],
   "source": [
    "fg = sns.FacetGrid(titanic, hue=\"sex\", aspect=3)\n",
    "fg.map(sns.kdeplot, \"age\", shade=True)\n",
    "fg.set(xlim=(0, 80));"
   ]
  },
  {
   "cell_type": "code",
   "execution_count": 14,
   "metadata": {},
   "outputs": [
    {
     "data": {
      "image/png": "[encoded data removed]",
      "text/plain": [
       "<Figure size 900x540 with 6 Axes>"
      ]
     },
     "metadata": {
      "needs_background": "light"
     },
     "output_type": "display_data"
    }
   ],
   "source": [
    "fg = sns.FacetGrid(titanic, col=\"sex\", row=\"pclass\", hue=\"sex\", height=2.5, aspect=2.5)\n",
    "fg.map(sns.kdeplot, \"age\", shade=True)\n",
    "fg.map(sns.rugplot, \"age\")\n",
    "sns.despine(left=True)\n",
    "fg.set(xlim=(0, 80));"
   ]
  },
  {
   "cell_type": "markdown",
   "metadata": {},
   "source": [
    "See more example of Seaborn visualizations for the Titanic dataset here:\n",
    "\n",
    "https://gist.github.com/mwaskom/8224591"
   ]
  },
  {
   "cell_type": "markdown",
   "metadata": {},
   "source": [
    "# Scikit learn\n",
    "### A machine learning library for most of classical ML models"
   ]
  },
  {
   "cell_type": "code",
   "execution_count": 15,
   "metadata": {},
   "outputs": [],
   "source": [
    "import sklearn as sk"
   ]
  },
  {
   "cell_type": "code",
   "execution_count": 16,
   "metadata": {},
   "outputs": [],
   "source": [
    "# a part of the library is also importable\n",
    "from sklearn.neighbors import KNeighborsClassifier\n",
    "# you can use Tab for autocompletion"
   ]
  },
  {
   "cell_type": "markdown",
   "metadata": {},
   "source": [
    "#  2. Алгоритм К-ближайших соседей (K-nearest neighbor algorithm, KNN) \n",
    "\n",
    "Сходство объектов лежит в основе алгоритма k-ближайших соседей (k-nearest neighbor algorithm, KNN). Алгоритм способен выделить среди всех наблюдений k известных объектов (k-ближайших соседей), похожих на новый неизвестный ранее объект. На основе классов ближайших соседей выносится решение касательно нового объекта. Важной задачей данного алгоритма является подбор коэффициента k – количество записей, которые будут считаться близкими.\n",
    "\n",
    "Однако KNN это – **ленивый классификатор.**\n",
    "\n",
    "Что значит ленивый классификатор? Это означает, что в процессе обучения он не делает ничего, а только хранит тренировочные данные. Он начинает классификацию только тогда, когда появляются новые немаркированные данные.\n",
    "\n",
    "Рисунок 1 - Пример KNN классификации \n",
    "![image](./images/knn_classes.png)\n",
    "\n",
    "При k = 1 элемент будет отнесен к 1 классу, при k = 3 - к второму."
   ]
  },
  {
   "cell_type": "markdown",
   "metadata": {},
   "source": [
    "### Алгоритм\t\t\n",
    "Объект классифицируется большинством голосов его соседей, причем объект присваивается классу, наиболее распространенному среди его K ближайших соседей, измеряемому функцией расстояния. Если K = 1, то объект просто присваивается классу его ближайшего соседа.\n",
    "\n",
    "1. На первом шаге алгоритма следует задать число k – количество ближайших соседей. Если принять k = 1, то алгоритм потеряет обобщающую способность (то есть способность выдавать правильный результат для данных, не встречавшихся ранее в алгоритме) так как новой записи будет присвоен класс самой близкой к ней. Если установить слишком большое значение, то многие локальные особенности не будут выявлены.\n",
    "\n",
    "2. На втором шаге находятся k записей с минимальным расстоянием до вектора признаков нового объекта (поиск соседей). \n",
    "\n",
    "\n",
    "* Для упорядоченных значений атрибутов находится Евклидово расстояние:\n",
    "\n",
    "![image](./images/KNN_similarity.png)\n",
    "\n",
    "*  В случае категориальных(как правило стороковых) переменных должно использоваться расстояние Хэмминга. \n",
    "\n",
    "![image](./images/KNN_hamming.png)\n",
    "\n",
    "### Применение алгоритма k-ближайших соседей.\n",
    "**Например:**\n",
    "\n",
    "* **Обнаружение мошенничества.** Новые случаи мошенничества могут быть похожи на те, которые происходили когда-то в прошлом. Алгоритм KNN может распознать их для дальнейшего рассмотрения.\n",
    "* **Предсказание отклика клиентов.** Можно определить отклик новых клиентов по данным из прошлого.\n",
    "* **Медицина.** Алгоритм может классифицировать пациентов по разным показателям, основываясь на данных прошедших периодов.\n",
    "* **Прочие задачи, требующие классификацию.**\n",
    "\n",
    "Следует отметить, что если для записи B ближайшем соседом является А, то это не означает, что В – ближайший сосед А. Данная ситуация представлена на рисунке 1. При k = 1 ближайшей для точки B будет точка A, а для A – X. При увеличении коэффициента до k = 7, точка B так же не будет входить в число соседей.\n",
    "\n",
    "Рисунок 2 – Ближайшие соседи А и B:\n",
    "![SegmentLocal](./images/knn.gif \"segment\")\n",
    "\n",
    "\n",
    "### Голосование бывает двух типов:\n",
    "* **Невзвешенное** - Расстояние от каждой записи при голосовании не играет роли. Все имеют равные права в определении класса. Каждая имеющаяся запись голосует за класс, к которому принадлежит. Новой записи присваивается класс, набравший наибольшее количество голосов.\n",
    "* **Взвешенное** - В такой ситуации учитывается также и расстояние до новой записи. Чем меньше расстояние, тем более значимый вклад вносит голос. \n",
    "\n",
    "\n",
    "Let's do  little bit of processing to make some different variables that might be more interesting to plot. Since this notebook is focused on visualization, we're going to do this without much comment."
   ]
  },
  {
   "cell_type": "code",
   "execution_count": 17,
   "metadata": {},
   "outputs": [
    {
     "data": {
      "text/html": [
       "<div>\n",
       "<style scoped>\n",
       "    .dataframe tbody tr th:only-of-type {\n",
       "        vertical-align: middle;\n",
       "    }\n",
       "\n",
       "    .dataframe tbody tr th {\n",
       "        vertical-align: top;\n",
       "    }\n",
       "\n",
       "    .dataframe thead th {\n",
       "        text-align: right;\n",
       "    }\n",
       "</style>\n",
       "<table border=\"1\" class=\"dataframe\">\n",
       "  <thead>\n",
       "    <tr style=\"text-align: right;\">\n",
       "      <th></th>\n",
       "      <th>survived</th>\n",
       "      <th>pclass</th>\n",
       "      <th>sex</th>\n",
       "      <th>age</th>\n",
       "      <th>sibsp</th>\n",
       "      <th>parch</th>\n",
       "      <th>fare</th>\n",
       "      <th>embarked_C</th>\n",
       "      <th>embarked_Q</th>\n",
       "      <th>embarked_S</th>\n",
       "      <th>embarked_nan</th>\n",
       "    </tr>\n",
       "  </thead>\n",
       "  <tbody>\n",
       "    <tr>\n",
       "      <th>0</th>\n",
       "      <td>0</td>\n",
       "      <td>3</td>\n",
       "      <td>0</td>\n",
       "      <td>22.0</td>\n",
       "      <td>1</td>\n",
       "      <td>0</td>\n",
       "      <td>7.2500</td>\n",
       "      <td>0</td>\n",
       "      <td>0</td>\n",
       "      <td>1</td>\n",
       "      <td>0</td>\n",
       "    </tr>\n",
       "    <tr>\n",
       "      <th>1</th>\n",
       "      <td>1</td>\n",
       "      <td>1</td>\n",
       "      <td>1</td>\n",
       "      <td>38.0</td>\n",
       "      <td>1</td>\n",
       "      <td>0</td>\n",
       "      <td>71.2833</td>\n",
       "      <td>1</td>\n",
       "      <td>0</td>\n",
       "      <td>0</td>\n",
       "      <td>0</td>\n",
       "    </tr>\n",
       "    <tr>\n",
       "      <th>2</th>\n",
       "      <td>1</td>\n",
       "      <td>3</td>\n",
       "      <td>1</td>\n",
       "      <td>26.0</td>\n",
       "      <td>0</td>\n",
       "      <td>0</td>\n",
       "      <td>7.9250</td>\n",
       "      <td>0</td>\n",
       "      <td>0</td>\n",
       "      <td>1</td>\n",
       "      <td>0</td>\n",
       "    </tr>\n",
       "    <tr>\n",
       "      <th>3</th>\n",
       "      <td>1</td>\n",
       "      <td>1</td>\n",
       "      <td>1</td>\n",
       "      <td>35.0</td>\n",
       "      <td>1</td>\n",
       "      <td>0</td>\n",
       "      <td>53.1000</td>\n",
       "      <td>0</td>\n",
       "      <td>0</td>\n",
       "      <td>1</td>\n",
       "      <td>0</td>\n",
       "    </tr>\n",
       "    <tr>\n",
       "      <th>4</th>\n",
       "      <td>0</td>\n",
       "      <td>3</td>\n",
       "      <td>0</td>\n",
       "      <td>35.0</td>\n",
       "      <td>0</td>\n",
       "      <td>0</td>\n",
       "      <td>8.0500</td>\n",
       "      <td>0</td>\n",
       "      <td>0</td>\n",
       "      <td>1</td>\n",
       "      <td>0</td>\n",
       "    </tr>\n",
       "    <tr>\n",
       "      <th>5</th>\n",
       "      <td>0</td>\n",
       "      <td>3</td>\n",
       "      <td>0</td>\n",
       "      <td>NaN</td>\n",
       "      <td>0</td>\n",
       "      <td>0</td>\n",
       "      <td>8.4583</td>\n",
       "      <td>0</td>\n",
       "      <td>1</td>\n",
       "      <td>0</td>\n",
       "      <td>0</td>\n",
       "    </tr>\n",
       "  </tbody>\n",
       "</table>\n",
       "</div>"
      ],
      "text/plain": [
       "   survived  pclass  sex   age  sibsp  parch     fare  embarked_C  embarked_Q  \\\n",
       "0         0       3    0  22.0      1      0   7.2500           0           0   \n",
       "1         1       1    1  38.0      1      0  71.2833           1           0   \n",
       "2         1       3    1  26.0      0      0   7.9250           0           0   \n",
       "3         1       1    1  35.0      1      0  53.1000           0           0   \n",
       "4         0       3    0  35.0      0      0   8.0500           0           0   \n",
       "5         0       3    0   NaN      0      0   8.4583           0           1   \n",
       "\n",
       "   embarked_S  embarked_nan  \n",
       "0           1             0  \n",
       "1           0             0  \n",
       "2           1             0  \n",
       "3           1             0  \n",
       "4           1             0  \n",
       "5           0             0  "
      ]
     },
     "execution_count": 17,
     "metadata": {},
     "output_type": "execute_result"
    }
   ],
   "source": [
    "titanic = titanic.drop([\"name\", \"ticket\", \"cabin\"], axis=1)\n",
    "titanic[\"sex\"] = titanic.sex.map({\"male\":0, \"female\":1})\n",
    "titanic = pd.get_dummies(titanic, dummy_na=True, columns=['embarked'])\n",
    "titanic.head(6)"
   ]
  },
  {
   "cell_type": "code",
   "execution_count": 18,
   "metadata": {},
   "outputs": [
    {
     "data": {
      "text/plain": [
       "survived        891\n",
       "pclass          891\n",
       "sex             891\n",
       "age             714\n",
       "sibsp           891\n",
       "parch           891\n",
       "fare            891\n",
       "embarked_C      891\n",
       "embarked_Q      891\n",
       "embarked_S      891\n",
       "embarked_nan    891\n",
       "dtype: int64"
      ]
     },
     "execution_count": 18,
     "metadata": {},
     "output_type": "execute_result"
    }
   ],
   "source": [
    "titanic.count()"
   ]
  },
  {
   "cell_type": "code",
   "execution_count": 19,
   "metadata": {},
   "outputs": [
    {
     "data": {
      "text/html": [
       "<div>\n",
       "<style scoped>\n",
       "    .dataframe tbody tr th:only-of-type {\n",
       "        vertical-align: middle;\n",
       "    }\n",
       "\n",
       "    .dataframe tbody tr th {\n",
       "        vertical-align: top;\n",
       "    }\n",
       "\n",
       "    .dataframe thead th {\n",
       "        text-align: right;\n",
       "    }\n",
       "</style>\n",
       "<table border=\"1\" class=\"dataframe\">\n",
       "  <thead>\n",
       "    <tr style=\"text-align: right;\">\n",
       "      <th></th>\n",
       "      <th>survived</th>\n",
       "      <th>pclass</th>\n",
       "      <th>sex</th>\n",
       "      <th>age</th>\n",
       "      <th>sibsp</th>\n",
       "      <th>parch</th>\n",
       "      <th>fare</th>\n",
       "      <th>embarked_C</th>\n",
       "      <th>embarked_Q</th>\n",
       "      <th>embarked_S</th>\n",
       "      <th>embarked_nan</th>\n",
       "    </tr>\n",
       "  </thead>\n",
       "  <tbody>\n",
       "    <tr>\n",
       "      <th>0</th>\n",
       "      <td>0</td>\n",
       "      <td>3</td>\n",
       "      <td>0</td>\n",
       "      <td>22.0</td>\n",
       "      <td>1</td>\n",
       "      <td>0</td>\n",
       "      <td>7.2500</td>\n",
       "      <td>0</td>\n",
       "      <td>0</td>\n",
       "      <td>1</td>\n",
       "      <td>0</td>\n",
       "    </tr>\n",
       "    <tr>\n",
       "      <th>1</th>\n",
       "      <td>1</td>\n",
       "      <td>1</td>\n",
       "      <td>1</td>\n",
       "      <td>38.0</td>\n",
       "      <td>1</td>\n",
       "      <td>0</td>\n",
       "      <td>71.2833</td>\n",
       "      <td>1</td>\n",
       "      <td>0</td>\n",
       "      <td>0</td>\n",
       "      <td>0</td>\n",
       "    </tr>\n",
       "    <tr>\n",
       "      <th>2</th>\n",
       "      <td>1</td>\n",
       "      <td>3</td>\n",
       "      <td>1</td>\n",
       "      <td>26.0</td>\n",
       "      <td>0</td>\n",
       "      <td>0</td>\n",
       "      <td>7.9250</td>\n",
       "      <td>0</td>\n",
       "      <td>0</td>\n",
       "      <td>1</td>\n",
       "      <td>0</td>\n",
       "    </tr>\n",
       "    <tr>\n",
       "      <th>3</th>\n",
       "      <td>1</td>\n",
       "      <td>1</td>\n",
       "      <td>1</td>\n",
       "      <td>35.0</td>\n",
       "      <td>1</td>\n",
       "      <td>0</td>\n",
       "      <td>53.1000</td>\n",
       "      <td>0</td>\n",
       "      <td>0</td>\n",
       "      <td>1</td>\n",
       "      <td>0</td>\n",
       "    </tr>\n",
       "    <tr>\n",
       "      <th>4</th>\n",
       "      <td>0</td>\n",
       "      <td>3</td>\n",
       "      <td>0</td>\n",
       "      <td>35.0</td>\n",
       "      <td>0</td>\n",
       "      <td>0</td>\n",
       "      <td>8.0500</td>\n",
       "      <td>0</td>\n",
       "      <td>0</td>\n",
       "      <td>1</td>\n",
       "      <td>0</td>\n",
       "    </tr>\n",
       "    <tr>\n",
       "      <th>6</th>\n",
       "      <td>0</td>\n",
       "      <td>1</td>\n",
       "      <td>0</td>\n",
       "      <td>54.0</td>\n",
       "      <td>0</td>\n",
       "      <td>0</td>\n",
       "      <td>51.8625</td>\n",
       "      <td>0</td>\n",
       "      <td>0</td>\n",
       "      <td>1</td>\n",
       "      <td>0</td>\n",
       "    </tr>\n",
       "  </tbody>\n",
       "</table>\n",
       "</div>"
      ],
      "text/plain": [
       "   survived  pclass  sex   age  sibsp  parch     fare  embarked_C  embarked_Q  \\\n",
       "0         0       3    0  22.0      1      0   7.2500           0           0   \n",
       "1         1       1    1  38.0      1      0  71.2833           1           0   \n",
       "2         1       3    1  26.0      0      0   7.9250           0           0   \n",
       "3         1       1    1  35.0      1      0  53.1000           0           0   \n",
       "4         0       3    0  35.0      0      0   8.0500           0           0   \n",
       "6         0       1    0  54.0      0      0  51.8625           0           0   \n",
       "\n",
       "   embarked_S  embarked_nan  \n",
       "0           1             0  \n",
       "1           0             0  \n",
       "2           1             0  \n",
       "3           1             0  \n",
       "4           1             0  \n",
       "6           1             0  "
      ]
     },
     "execution_count": 19,
     "metadata": {},
     "output_type": "execute_result"
    }
   ],
   "source": [
    "titanic.dropna(inplace=True)\n",
    "titanic.head(6)"
   ]
  },
  {
   "cell_type": "code",
   "execution_count": 20,
   "metadata": {},
   "outputs": [
    {
     "data": {
      "text/plain": [
       "survived        714\n",
       "pclass          714\n",
       "sex             714\n",
       "age             714\n",
       "sibsp           714\n",
       "parch           714\n",
       "fare            714\n",
       "embarked_C      714\n",
       "embarked_Q      714\n",
       "embarked_S      714\n",
       "embarked_nan    714\n",
       "dtype: int64"
      ]
     },
     "execution_count": 20,
     "metadata": {},
     "output_type": "execute_result"
    }
   ],
   "source": [
    "titanic.count()"
   ]
  },
  {
   "cell_type": "code",
   "execution_count": 21,
   "metadata": {},
   "outputs": [],
   "source": [
    "# extract X - features & y - targets\n",
    "X = titanic.drop('survived', axis=1)\n",
    "y = titanic.survived"
   ]
  },
  {
   "cell_type": "markdown",
   "metadata": {},
   "source": [
    "### Now it's time to build a model"
   ]
  },
  {
   "cell_type": "code",
   "execution_count": 22,
   "metadata": {},
   "outputs": [
    {
     "name": "stdout",
     "output_type": "stream",
     "text": [
      "Accuracy of prediction is 0.7955182072829131\n"
     ]
    }
   ],
   "source": [
    "# initialize a classifier\n",
    "clf = KNeighborsClassifier()\n",
    "\n",
    "# train the classifier\n",
    "clf.fit(X, y)\n",
    "\n",
    "# calculate predictions\n",
    "y_predicted = clf.predict(X)\n",
    "\n",
    "# estimate accuracy\n",
    "print('Accuracy of prediction is {}'.format(np.mean(y == y_predicted)))"
   ]
  },
  {
   "cell_type": "code",
   "execution_count": 23,
   "metadata": {},
   "outputs": [
    {
     "name": "stdout",
     "output_type": "stream",
     "text": [
      "Accuracy of prediction is 0.742296918767507\n"
     ]
    }
   ],
   "source": [
    "#you can also specify some parameters during initialization\n",
    "clf = KNeighborsClassifier(n_neighbors=10)\n",
    "\n",
    "clf.fit(X, y)\n",
    "y_predicted = clf.predict(X)\n",
    "print('Accuracy of prediction is {}'.format(np.mean(y == y_predicted)))"
   ]
  },
  {
   "cell_type": "code",
   "execution_count": 24,
   "metadata": {},
   "outputs": [],
   "source": [
    "# you can also predict probabilities of belonging to a particular class\n",
    "proba = clf.predict_proba(X)\n",
    "proba_df = pd.DataFrame(proba, index=y.index, columns=[0, 1])\n",
    "proba_df['true'] = y"
   ]
  },
  {
   "cell_type": "code",
   "execution_count": 25,
   "metadata": {
    "scrolled": true
   },
   "outputs": [
    {
     "data": {
      "text/plain": [
       "<matplotlib.legend.Legend at 0x287c2147c50>"
      ]
     },
     "execution_count": 25,
     "metadata": {},
     "output_type": "execute_result"
    },
    {
     "data": {
      "image/png": "[encoded data removed]",
      "text/plain": [
       "<Figure size 648x216 with 1 Axes>"
      ]
     },
     "metadata": {
      "needs_background": "light"
     },
     "output_type": "display_data"
    }
   ],
   "source": [
    "fg = sns.FacetGrid(proba_df, hue=\"true\", aspect=3)\n",
    "fg.map(sns.kdeplot, 0, shade=True)\n",
    "plt.xlabel('Predicted probability of survivance')\n",
    "plt.legend(['survived=0', 'survived=1'])"
   ]
  },
  {
   "cell_type": "markdown",
   "metadata": {},
   "source": [
    "# 3. Регрессия при помощи K-Nearest Neighbours"
   ]
  },
  {
   "cell_type": "markdown",
   "metadata": {},
   "source": [
    "\n",
    "\n",
    "### K-Nearest Neighbours\n",
    "* **Problem:** 1 сосед дает неточное предсказание\n",
    "* **Solution:** выбирай $k>1$ ближайших соседей.\n",
    "* **Output**: предсказывает среднее между $k$ ближайших соседей.\n",
    "\n",
    "![image](./images/knn.png)"
   ]
  },
  {
   "cell_type": "markdown",
   "metadata": {},
   "source": [
    "## Пример с полиномом"
   ]
  },
  {
   "cell_type": "code",
   "execution_count": 26,
   "metadata": {},
   "outputs": [],
   "source": [
    "def f_poly(x, coefs):\n",
    "    summands = [x**(power+1) * coef for power, coef in enumerate(coefs)]\n",
    "    return np.array(summands).sum(0)\n",
    "def plot_results(y_pred):\n",
    "    plt.plot(X_test, y_noiseless)\n",
    "    plt.plot(X_test, y_pred, '--g')\n",
    "    plt.plot(X, y, '.r')"
   ]
  },
  {
   "cell_type": "code",
   "execution_count": 27,
   "metadata": {},
   "outputs": [],
   "source": [
    "poly_coefs = [1, -0.5, -1, 0.6]\n",
    "noise_std = 0.1\n",
    "\n",
    "X = np.random.rand(20, 1) * 2 - 1\n",
    "y = f_poly(X, poly_coefs)\n",
    "y += np.random.randn(*y.shape) * noise_std\n",
    "\n",
    "X_test = np.linspace(-1, 1, 100)[:, np.newaxis]\n",
    "y_noiseless = f_poly(X_test, poly_coefs)\n",
    "y_test = y_noiseless + np.random.randn(*y_noiseless.shape) * noise_std"
   ]
  },
  {
   "cell_type": "code",
   "execution_count": 28,
   "metadata": {},
   "outputs": [],
   "source": [
    "from sklearn.preprocessing import PolynomialFeatures"
   ]
  },
  {
   "cell_type": "code",
   "execution_count": 29,
   "metadata": {},
   "outputs": [],
   "source": [
    "transformer = PolynomialFeatures(include_bias = False)\n",
    "transformer.fit(X)\n",
    "X_trans = transformer.transform(X)"
   ]
  },
  {
   "cell_type": "code",
   "execution_count": 30,
   "metadata": {},
   "outputs": [],
   "source": [
    "from sklearn.model_selection import train_test_split\n",
    "from sklearn.metrics import mean_squared_error\n",
    "\n",
    "from sklearn.neighbors import KNeighborsRegressor"
   ]
  },
  {
   "cell_type": "code",
   "execution_count": 31,
   "metadata": {},
   "outputs": [],
   "source": [
    "model = KNeighborsRegressor(n_neighbors = 4)\n",
    "model.fit(X, y)\n",
    "y_pred = model.predict(X_test)"
   ]
  },
  {
   "cell_type": "code",
   "execution_count": 32,
   "metadata": {},
   "outputs": [
    {
     "data": {
      "image/png": "[encoded data removed]",
      "text/plain": [
       "<Figure size 432x288 with 1 Axes>"
      ]
     },
     "metadata": {
      "needs_background": "light"
     },
     "output_type": "display_data"
    }
   ],
   "source": [
    "plot_results(y_pred)"
   ]
  },
  {
   "cell_type": "markdown",
   "metadata": {},
   "source": [
    "# 4. Решающие деревья (деревья принятия решений)\n",
    "\n",
    "**Решающие деревья** хорошо описывают процесс принятия решения во многих\n",
    "ситуациях. Например, когда клиент приходит в банк и просит выдать ему кредит,\n",
    "то сотрудник банка начинает проверять условия:\n",
    "1. Какой возраст у клиента? Если меньше 18, то отказываем в кредите, иначе\n",
    "продолжаем.\n",
    "2. Какая зарплата у клиента? Если меньше 50 тысяч рублей, то переходим к шагу\n",
    "3, иначе к шагу 4.\n",
    "3. Какой стаж у клиента? Если меньше 10 лет, то не выдаем кредит, иначе выдаем.\n",
    "4. Есть ли у клиента другие кредиты? Если есть, то отказываем, иначе выдаем.\n",
    "Такой алгоритм, как и многие другие, очень хорошо описывается решающим деревом. \n",
    "\n",
    "### **Плюсы:**\n",
    "* хорошо интерпретируются\n",
    "* легко обобщаются для регрессии и классификации\n",
    "* допускаются разнотипные данные\n",
    "\n",
    "\n",
    "### Минусы:\n",
    "* Деревья крайне трудны для оптимизации из-за свой дискретной структуры —дерево **нельзя продифференцировать** по параметрам и найти с помощью градиентного спуска хотя бы локальный оптимум.\n",
    "* **Число параметров** у них **не является постоянным** и может меняться в зависимости от глубины, выбора критериев дробления и прочих деталей. Как следствие, все методы построения решающих деревьев являются **жадными** и **эвристичными**.\n",
    "\n",
    "### Алгоритм:\n",
    "* каждой внутренней вершине $v$ приписана функция (или предикат) $β_v$ : $X → {0, 1}$;\n",
    "* каждой листовой вершине $v$ приписан прогноз $c_v ∈ Y$ (в случае с классификацией листу также может быть приписан вектор вероятностей)\n",
    "\n",
    "Рассмотрим теперь алгоритм $ a(x) $ , который стартует из корневой вершины $v_0$ и вычисляет значение функции $β_{v0}$\n",
    ". Если оно равно нулю, то алгоритм переходит в левую\n",
    "дочернюю вершину, иначе в правую, вычисляет значение предиката в новой вершине\n",
    "и делает переход или влево, или вправо. Процесс продолжается, пока не будет достигнута листовая вершина; алгоритм возвращает тот класс, который приписан этой\n",
    "вершине. Такой алгоритм называется **бинарным решающим деревом**.\n",
    "\n",
    "На практике в большинстве случаев используются одномерные предикаты βv,\n",
    "которые сравнивают значение одного из признаков с порогом:\n",
    "$β_v(x; j, t) = [x_j < t]$."
   ]
  },
  {
   "cell_type": "markdown",
   "metadata": {},
   "source": [
    "**Бинарное дерево на примере датасета \"titanic\"**\n",
    "<img src=\"images/tree.png\" align=\"center\" style=\"height: 500px;\"/>"
   ]
  },
  {
   "cell_type": "code",
   "execution_count": 33,
   "metadata": {},
   "outputs": [],
   "source": [
    "from sklearn.tree import DecisionTreeClassifier"
   ]
  },
  {
   "cell_type": "code",
   "execution_count": 34,
   "metadata": {},
   "outputs": [],
   "source": [
    "# extract X - features & y - targets\n",
    "X = titanic.drop('survived', axis=1)\n",
    "y = titanic.survived"
   ]
  },
  {
   "cell_type": "code",
   "execution_count": 35,
   "metadata": {},
   "outputs": [],
   "source": [
    "### Now it's time to build a model\n",
    "# initialize a classifier\n",
    "tree_clf = DecisionTreeClassifier()"
   ]
  },
  {
   "cell_type": "code",
   "execution_count": 36,
   "metadata": {},
   "outputs": [
    {
     "data": {
      "text/plain": [
       "DecisionTreeClassifier(class_weight=None, criterion='gini', max_depth=None,\n",
       "            max_features=None, max_leaf_nodes=None,\n",
       "            min_impurity_decrease=0.0, min_impurity_split=None,\n",
       "            min_samples_leaf=1, min_samples_split=2,\n",
       "            min_weight_fraction_leaf=0.0, presort=False, random_state=None,\n",
       "            splitter='best')"
      ]
     },
     "execution_count": 36,
     "metadata": {},
     "output_type": "execute_result"
    }
   ],
   "source": [
    "tree_clf.fit(X,y)"
   ]
  },
  {
   "cell_type": "code",
   "execution_count": 37,
   "metadata": {},
   "outputs": [
    {
     "name": "stdout",
     "output_type": "stream",
     "text": [
      "Accuracy of prediction is 0.9859943977591037\n"
     ]
    }
   ],
   "source": [
    "y_predicted_tree = tree_clf.predict(X)\n",
    "print('Accuracy of prediction is {}'.format(np.mean(y == y_predicted_tree)))"
   ]
  },
  {
   "cell_type": "code",
   "execution_count": 38,
   "metadata": {},
   "outputs": [],
   "source": [
    "#you can also specify some parameters during initialization\n",
    "tree_clf = DecisionTreeClassifier(max_depth = 10)"
   ]
  },
  {
   "cell_type": "code",
   "execution_count": 39,
   "metadata": {},
   "outputs": [
    {
     "name": "stdout",
     "output_type": "stream",
     "text": [
      "Accuracy of prediction is 0.927170868347339\n"
     ]
    }
   ],
   "source": [
    "tree_clf.fit(X,y)\n",
    "y_predicted_tree = tree_clf.predict(X)\n",
    "print('Accuracy of prediction is {}'.format(np.mean(y == y_predicted_tree)))"
   ]
  },
  {
   "cell_type": "code",
   "execution_count": 40,
   "metadata": {},
   "outputs": [],
   "source": [
    "# you can also predict probabilities of belonging to a particular class\n",
    "proba = tree_clf.predict_proba(X)\n",
    "proba_df = pd.DataFrame(proba, index=y.index, columns=[0, 1])\n",
    "proba_df['true'] = y"
   ]
  },
  {
   "cell_type": "code",
   "execution_count": 41,
   "metadata": {},
   "outputs": [
    {
     "data": {
      "text/plain": [
       "<matplotlib.legend.Legend at 0x287c217f668>"
      ]
     },
     "execution_count": 41,
     "metadata": {},
     "output_type": "execute_result"
    },
    {
     "data": {
      "image/png": "[encoded data removed]",
      "text/plain": [
       "<Figure size 648x216 with 1 Axes>"
      ]
     },
     "metadata": {
      "needs_background": "light"
     },
     "output_type": "display_data"
    }
   ],
   "source": [
    "fg = sns.FacetGrid(proba_df, hue=\"true\", aspect=3)\n",
    "fg.map(sns.kdeplot, 0, shade=True)\n",
    "plt.xlabel('Predicted probability of survivance')\n",
    "plt.legend(['survived=0', 'survived=1'])"
   ]
  },
  {
   "cell_type": "markdown",
   "metadata": {},
   "source": [
    "# 5. Random Forest (Случайный лес)"
   ]
  },
  {
   "cell_type": "markdown",
   "metadata": {},
   "source": [
    "**RF (Random forest)** — это множество решающих деревьев. В задаче регрессии их ответы усредняются, в задаче классификации принимается решение голосованием по большинству. Все деревья строятся независимо по следующей схеме:\n",
    "\n",
    "* Выбирается подвыборка обучающей выборки размера samplesize – по ней строится дерево (для каждого дерева — своя подвыборка).\n",
    "* Для построения каждого расщепления в дереве просматриваем max_features случайных признаков (для каждого нового расщепления — свои случайные признаки).\n",
    "* Выбираем наилучшие признак и расщепление по нему (по заранее заданному критерию). Дерево строится, как правило, до исчерпания выборки (пока в листьях не останутся представители только одного класса), но в современных реализациях есть параметры, которые ограничивают высоту дерева, число объектов в листьях и число объектов в подвыборке, при котором проводится расщепление.\n",
    "\n",
    "Такая схема построения соответствует главному принципу **ансамблирования** (построению алгоритма машинного обучения на базе нескольких, в данном случае решающих деревьев): базовые алгоритмы должны быть хорошими и разнообразными (поэтому каждое дерево строится на своей обучающей выборке и при выборе расщеплений есть элемент случайности)."
   ]
  },
  {
   "cell_type": "markdown",
   "metadata": {},
   "source": [
    "<img src=\"images/ensemble.jpg\" align=\"center\" style=\"height: 500px;\"/>"
   ]
  },
  {
   "cell_type": "markdown",
   "metadata": {},
   "source": [
    "В библиотеке **sklearn** есть такая реализация RF для задач классификации и регрессии:"
   ]
  },
  {
   "cell_type": "code",
   "execution_count": 42,
   "metadata": {},
   "outputs": [],
   "source": [
    "from sklearn.ensemble import RandomForestClassifier\n",
    "from sklearn.ensemble import RandomForestRegressor"
   ]
  },
  {
   "cell_type": "markdown",
   "metadata": {},
   "source": [
    "### Задание: реализовать RandomForestClassifier на примере датасета titanic + визуализация. (+1,5 доп. балла)"
   ]
  },
  {
   "cell_type": "code",
   "execution_count": null,
   "metadata": {},
   "outputs": [],
   "source": []
  },
  {
   "cell_type": "markdown",
   "metadata": {},
   "source": [
    "_______________________________________________________________________________________________________________________________"
   ]
  },
  {
   "cell_type": "markdown",
   "metadata": {},
   "source": [
    "# 6. Линейная регрессия"
   ]
  },
  {
   "cell_type": "markdown",
   "metadata": {},
   "source": [
    "<img src=\"images/1.png\"/>\n"
   ]
  },
  {
   "cell_type": "markdown",
   "metadata": {},
   "source": [
    "Аналитическое решение для задачи регрессии имеет следующий вид:\n",
    "$$\n",
    "\\vec{W} = \\left(X^T X\\right)^{-1} X^T \\vec{Y} \n",
    "$$"
   ]
  },
  {
   "cell_type": "code",
   "execution_count": 1,
   "metadata": {},
   "outputs": [
    {
     "data": {
      "image/png": "[encoded data removed]",
      "text/plain": [
       "<Figure size 936x360 with 1 Axes>"
      ]
     },
     "metadata": {
      "needs_background": "light"
     },
     "output_type": "display_data"
    },
    {
     "name": "stdout",
     "output_type": "stream",
     "text": [
      "(100,) (100,)\n"
     ]
    }
   ],
   "source": [
    "import numpy as np\n",
    "import matplotlib\n",
    "import matplotlib.pylab as plt\n",
    "%matplotlib inline\n",
    "\n",
    "matplotlib.rcParams['figure.figsize'] = (13.0, 5.0) # размер графика по умолчанию (13.0, 5.0)\n",
    "np.random.seed(42) # Для воспроизводимости результатов\n",
    "\n",
    "size = 100\n",
    "X = np.linspace(-1, 5, num = size)\n",
    "\n",
    "def y(x):\n",
    "    return 0.4 * x + 3\n",
    "\n",
    "def generate_sample(size_, X_):\n",
    "    return y(X_) + np.random.normal(0, 0.5, size = size_)\n",
    "\n",
    "\n",
    "Y = generate_sample(size, X)\n",
    "Y_real = y(X)\n",
    "\n",
    "plt.plot(X, Y, 'o')\n",
    "#plt.plot(X, Y_real, 'green', linewidth = 1.2)\n",
    "plt.show()\n",
    "\n",
    "print(X.shape, Y.shape)"
   ]
  },
  {
   "cell_type": "code",
   "execution_count": 11,
   "metadata": {},
   "outputs": [
    {
     "name": "stdout",
     "output_type": "stream",
     "text": [
      "2.0 3.748076741302953 3.8\n",
      "[-2.84835708 -2.40025511 -2.6120468  -2.80983453 -1.9544644  -1.81500921\n",
      " -2.24958424 -1.81560219 -1.31837689 -1.40430084 -1.02846364 -0.87793393\n",
      " -0.82142461 -0.41544181 -0.31468712 -0.24386296 -0.07519586  0.09603772\n",
      "  0.23475924  0.35673549  0.8098094   0.81714621  1.05569915  0.96326126\n",
      "  1.32255765  1.68017795  1.52852481  2.19061466  2.07590231  2.39180563\n",
      "  2.47616134  3.7591507   3.1648266   2.87114454  4.06797033  3.18207066\n",
      "  4.22755163  3.12734909  3.72291276  4.96893431  5.60999158  5.46368343\n",
      "  5.50237096  5.60815869  4.87900945  5.75352298  6.23045744  7.88925025\n",
      "  7.51312324  5.72464594  8.06875558  7.61890158  7.57794846  9.27030679\n",
      " 10.05588789 10.26427125  8.46967857  9.3940658  10.49243826 11.63746744\n",
      " 10.05761743 10.75000899  9.78901564  9.94584108 13.12087624 14.26745837\n",
      " 12.49198482 14.4644514  13.82479378 12.56871444 14.51849765 16.81318528\n",
      " 14.55627604 17.64176134 10.74750566 17.12147179 16.17659956 15.82959764\n",
      " 16.9098517  13.33851158 17.04708683 18.53766217 21.14588428 17.54385308\n",
      " 17.31320523 18.30705069 21.66104202 20.82299307 19.36329734 22.03213254\n",
      " 21.51704462 23.88688128 20.4960833  21.74785759 21.99465877 19.84514649\n",
      " 24.45387654 24.79420875 24.5898555  24.41353217]\n"
     ]
    },
    {
     "data": {
      "text/plain": [
       "<matplotlib.legend.Legend at 0x1c97c78eb00>"
      ]
     },
     "execution_count": 11,
     "metadata": {},
     "output_type": "execute_result"
    },
    {
     "data": {
      "image/png": "[encoded data removed]",
      "text/plain": [
       "<Figure size 936x360 with 1 Axes>"
      ]
     },
     "metadata": {
      "needs_background": "light"
     },
     "output_type": "display_data"
    }
   ],
   "source": [
    "# Хотим восстановить уравнение прямой y(x) по точкам\n",
    "\n",
    "print(X.mean(), Y.mean(), Y_real.mean())\n",
    "print(X*Y)\n",
    "\n",
    "# Решаем аналитически\n",
    "k = ((X*Y).mean() - X.mean() * Y.mean()) / ((X*X).mean() - X.mean() ** 2)\n",
    "b = Y.mean() - k * X.mean()\n",
    "\n",
    "def ans_lin_1(k_, b_, x):\n",
    "    return k_ * x + b_\n",
    "\n",
    "\n",
    "ans = ans_lin_1(k, b, X)\n",
    "plt.plot(X, Y, 'o')\n",
    "plt.plot(X, Y_real, 'green', linewidth = 1.2, label = \"Real\")\n",
    "plt.plot(X, ans, label = \"Calculated\")\n",
    "plt.legend()"
   ]
  },
  {
   "cell_type": "code",
   "execution_count": 12,
   "metadata": {},
   "outputs": [
    {
     "name": "stdout",
     "output_type": "stream",
     "text": [
      "28.959480229702773\n",
      "29.21631428748251\n"
     ]
    }
   ],
   "source": [
    "# Решим эту же задачу методом градиентного спуска\n",
    "# Минимизируем сумму квадратов отклонений точек от прямой\n",
    "\n",
    "import tqdm\n",
    "import math \n",
    "import time\n",
    "\n",
    "def ans_lin_2(x_, beta_):\n",
    "    k = beta_[0]\n",
    "    b = beta_[1]\n",
    "    return k * x_ + b\n",
    "\n",
    "def er(x_, y_, beta_):\n",
    "    return (1 / x_.shape[0]) * sum((y_ - ans_lin_2(x_, beta_))**2)\n",
    "\n",
    "\n",
    "def grad_er(x_, y_, beta_):\n",
    "    k = beta_[0]\n",
    "    b = beta_[1]\n",
    "    B = b * np.ones(x_.shape[0], int)\n",
    "    return (-2 / x_.shape[0]) * np.array([sum((y_ - k * x_ - b) * x_), sum((y_ - k * x_ - b))])\n",
    "\n",
    "beta = np.random.normal(0, 0.5, size = 2) * math.sqrt(2/3)\n",
    "\n",
    "print(er(X, Y, beta))\n",
    "print(er(X, Y_real, beta))"
   ]
  },
  {
   "cell_type": "code",
   "execution_count": 20,
   "metadata": {},
   "outputs": [
    {
     "data": {
      "application/vnd.jupyter.widget-view+json": {
       "model_id": "c21211c6bb074487a99a5d39c5806868",
       "version_major": 2,
       "version_minor": 0
      },
      "text/plain": [
       "HBox(children=(IntProgress(value=0, description='Progress bar', max=1000, style=ProgressStyle(description_widt…"
      ]
     },
     "metadata": {},
     "output_type": "display_data"
    },
    {
     "name": "stdout",
     "output_type": "stream",
     "text": [
      "\n",
      "0.1605229377746582  seconds\n",
      "[0.41149439 2.92508796]\n"
     ]
    }
   ],
   "source": [
    "# Применяем метод градиентного спуска в задаче линейной регрессии\n",
    "\n",
    "beta = np.random.normal(0, 0.5, size = 2) * math.sqrt(2/3)\n",
    "\n",
    "time.start = time.time()\n",
    "\n",
    "lam = 0.01\n",
    "for epoch in tqdm.tqdm_notebook(range(1000), desc = 'Progress bar'):\n",
    "    beta -= lam * grad_er(X, Y, beta)\n",
    "\n",
    "print(time.time() - time.start, \" seconds\")\n",
    "print(beta)"
   ]
  },
  {
   "cell_type": "code",
   "execution_count": 21,
   "metadata": {},
   "outputs": [
    {
     "name": "stdout",
     "output_type": "stream",
     "text": [
      "0.20372617837451945\n",
      "0.003100395092667201\n"
     ]
    },
    {
     "data": {
      "image/png": "[encoded data removed]",
      "text/plain": [
       "<Figure size 936x360 with 1 Axes>"
      ]
     },
     "metadata": {
      "needs_background": "light"
     },
     "output_type": "display_data"
    }
   ],
   "source": [
    "# Смотрим результат\n",
    "\n",
    "ans = ans_lin_2(X, beta)\n",
    "\n",
    "plt.plot(X, Y, 'o')\n",
    "plt.plot(X, Y_real, 'green', linewidth = 1.2, label = \"Real\")\n",
    "plt.plot(X, ans, label = \"Predicted\")\n",
    "plt.legend()\n",
    "\n",
    "print(er(X, Y, beta))\n",
    "print(er(X, Y_real, beta))"
   ]
  },
  {
   "cell_type": "markdown",
   "metadata": {},
   "source": [
    "# 7. Логистическая регрессия"
   ]
  },
  {
   "cell_type": "markdown",
   "metadata": {},
   "source": [
    "<img src=\"images/Sigmoida.png\"/>"
   ]
  },
  {
   "cell_type": "code",
   "execution_count": 1,
   "metadata": {},
   "outputs": [],
   "source": [
    "import numpy as np\n",
    "import pandas as pd\n",
    "from sklearn import datasets, linear_model\n",
    "import scipy.linalg as sla\n",
    "import matplotlib.pyplot as plt\n",
    "%matplotlib inline"
   ]
  },
  {
   "cell_type": "code",
   "execution_count": 2,
   "metadata": {},
   "outputs": [],
   "source": [
    "def logit(x, w):\n",
    "    return np.dot(x, w)\n",
    "\n",
    "def sigmoid(h):\n",
    "    return 1. / (1 + np.exp(-h))\n",
    "\n",
    "\n",
    "class MyLogisticRegression(object):\n",
    "    def __init__(self):\n",
    "        self.w = None\n",
    "    \n",
    "    def fit(self, X, y, n_epoch = 100, lr = 0.01):\n",
    "        # Принимает на вход X, y и вычисляет веса по данной выборке.\n",
    "        # Множество допустимых классов: {1, -1}\n",
    "        # Не забудьте про фиктивный признак равный, 1!\n",
    "        \n",
    "        n, k = X.shape\n",
    "        if self.w is None:\n",
    "            self.w = np.random.randn(k + 1)\n",
    "        X_train = np.concatenate((np.ones((n, 1)), X), axis=1) # добавляем фиктивную размерность\n",
    "        losses = []\n",
    "        \n",
    "        for iter_num in range(n_epoch):\n",
    "            z = sigmoid(logit(X_train, self.w))\n",
    "            grad =  np.dot(X_train.T, (z - y)) / len(y)\n",
    "            self.w -= grad * lr\n",
    "            losses.append(self.__loss(y, z))\n",
    "        return losses\n",
    "        \n",
    "    def predict_proba(self, X):\n",
    "        # Принимает на вход X и возвращает ответы модели\n",
    "        n, k = X.shape\n",
    "        X_ = np.concatenate((np.ones((n, 1)), X), axis=1)\n",
    "        return sigmoid(logit(X_, self.w))\n",
    "\n",
    "    def predict(self, X, threshold=0.5):\n",
    "        return self.predict_proba(X) >= threshold\n",
    "    \n",
    "    def get_weights(self):\n",
    "        return self.w\n",
    "      \n",
    "    def __loss(self, y, p):\n",
    "        p = np.clip(p, 1e-10, 1 - 1e-10)\n",
    "        return np.mean(y * np.log(p) + (1 - y) * np.log(1 - p))"
   ]
  },
  {
   "cell_type": "code",
   "execution_count": 3,
   "metadata": {},
   "outputs": [
    {
     "data": {
      "image/png": "[encoded data removed]",
      "text/plain": [
       "<Figure size 432x288 with 1 Axes>"
      ]
     },
     "metadata": {
      "needs_background": "light"
     },
     "output_type": "display_data"
    }
   ],
   "source": [
    "from sklearn.datasets import make_blobs\n",
    "X, y = make_blobs(n_samples = 1000, centers = [[-2,0.5],[3,-0.5]], cluster_std = 1, random_state = 42)\n",
    "\n",
    "colors = (\"red\", \"green\")\n",
    "colored_y = np.zeros(y.size, dtype=str)\n",
    "\n",
    "for i, cl in enumerate([0,1]):\n",
    "    colored_y[y == cl] = str(colors[i])\n",
    "    \n",
    "plt.scatter(X[:, 0], X[:, 1], c = colored_y)\n",
    "plt.show()"
   ]
  },
  {
   "cell_type": "code",
   "execution_count": 4,
   "metadata": {},
   "outputs": [],
   "source": [
    "clf = MyLogisticRegression()\n",
    "clf.fit(X, y, n_epoch = 1000)\n",
    "w = clf.get_weights()"
   ]
  },
  {
   "cell_type": "code",
   "execution_count": 5,
   "metadata": {},
   "outputs": [
    {
     "data": {
      "text/plain": [
       "<matplotlib.collections.PathCollection at 0x2b57b947f98>"
      ]
     },
     "execution_count": 5,
     "metadata": {},
     "output_type": "execute_result"
    },
    {
     "data": {
      "image/png": "[encoded data removed]",
      "text/plain": [
       "<Figure size 432x288 with 1 Axes>"
      ]
     },
     "metadata": {
      "needs_background": "light"
     },
     "output_type": "display_data"
    }
   ],
   "source": [
    "from matplotlib.colors import ListedColormap\n",
    "\n",
    "eps = 0.1\n",
    "xx, yy = np.meshgrid(np.linspace(np.min(X[:,0]) - eps, np.max(X[:,0]) + eps, 200),\n",
    "                     np.linspace(np.min(X[:,1]) - eps, np.max(X[:,1]) + eps, 200))\n",
    "\n",
    "Z = clf.predict(np.c_[xx.ravel(), yy.ravel()])\n",
    "Z = Z.reshape(xx.shape)\n",
    "cmap_light = ListedColormap(['#FFAAAA', '#AAFFAA'])\n",
    "plt.pcolormesh(xx, yy, Z, cmap=cmap_light)\n",
    "\n",
    "\n",
    "plt.scatter(X[:, 0], X[:, 1], c = colored_y)"
   ]
  },
  {
   "cell_type": "markdown",
   "metadata": {},
   "source": [
    "# 8. Полиномиальная регрессия\n",
    "\n",
    "На практике часто бывает так, что зависимость в данных имеет нелинейную природу. В таких случаях решением может быть линейная комбинация нелинейных признаков:\n",
    "$$\n",
    "    y = w_0 + w_1 \\phi_1(\\vec{x}) + w_2 \\phi_2(\\vec{x})\n",
    "$$\n",
    "\n",
    "В простейшем случае функцией $\\phi$ может быть возведение в $i$-ю степень. Тогда мы получаем так называемую полиномиальню регрессию\n",
    "$$\n",
    "    y = w_0 + w_1 x^1 + w_2 x^2 + w_3 x^3 + ... + w_p x^p\n",
    "$$\n",
    "\n",
    "Давайте попробуем при помощи полиномиальной регрессии востановить функцию синуса."
   ]
  },
  {
   "cell_type": "code",
   "execution_count": 6,
   "metadata": {},
   "outputs": [
    {
     "data": {
      "text/plain": [
       "<matplotlib.legend.Legend at 0x2b57bb04c18>"
      ]
     },
     "execution_count": 6,
     "metadata": {},
     "output_type": "execute_result"
    },
    {
     "data": {
      "image/png": "[encoded data removed]",
      "text/plain": [
       "<Figure size 432x288 with 1 Axes>"
      ]
     },
     "metadata": {
      "needs_background": "light"
     },
     "output_type": "display_data"
    }
   ],
   "source": [
    "# https://habr.com/ru/post/414245/ - полиномиальная регрессия, хабр\n",
    "\n",
    "x = np.linspace(0, 2 * 3.14, num = 100)\n",
    "y = np.sin(x) + np.random.normal(0, 0.2, size = x.shape[0])\n",
    "plt.plot(x, y, 'o', label = 'sample')\n",
    "plt.plot(x, np.sin(x), '--', label = 'sin(x)')\n",
    "plt.legend()"
   ]
  },
  {
   "cell_type": "code",
   "execution_count": 7,
   "metadata": {},
   "outputs": [
    {
     "name": "stdout",
     "output_type": "stream",
     "text": [
      "[[1]\n",
      " [2]\n",
      " [3]]  [[1 2 3]]\n",
      "\n",
      "[1 2 3]  [1 2 3]\n",
      "\n",
      "[[1. 1.]\n",
      " [1. 2.]\n",
      " [1. 3.]]\n"
     ]
    }
   ],
   "source": [
    "# Транспонирование в Numpy\n",
    "\n",
    "x_1 = np.array([[1], [2], [3]])\n",
    "print(x_1, x_1.T, sep = \"  \", end = \"\\n\\n\")\n",
    "\n",
    "x_2 = np.array([1, 2, 3])\n",
    "print(x_2, x_2.T, sep = \"  \", end = \"\\n\\n\")\n",
    "\n",
    "\n",
    "x_0 = np.ones(x_1.shape[0])\n",
    "x_0 = x_0[np.newaxis, :].T # Транспонирование numpy не работает для таких 1-D массивов => приходится выкручиваться\n",
    "x_1 = np.hstack((x_0, x_1)) # Добавляем к матрице (вектору) x_1 единичный столбец на первое место\n",
    "print(x_1)"
   ]
  },
  {
   "cell_type": "code",
   "execution_count": 8,
   "metadata": {},
   "outputs": [
    {
     "name": "stdout",
     "output_type": "stream",
     "text": [
      "Degree: 1, Loss: 4.951624511472569\n",
      "Degree: 4, Loss: 2.1253009245575534\n",
      "Degree: 8, Loss: 1.9981929452811753\n",
      "Degree: 11, Loss: 1.980434000616499\n",
      "Degree: 13, Loss: 17.58335465062297\n"
     ]
    },
    {
     "data": {
      "text/plain": [
       "array([-5.16753143e+00,  2.00898148e+00,  1.70740984e+01, -4.79253287e+01,\n",
       "        6.43594740e+01, -5.06313670e+01,  2.49319005e+01, -7.82123281e+00,\n",
       "        1.50970913e+00, -1.51175382e-01, -1.15297587e-04,  1.85000780e-03,\n",
       "       -1.91259734e-04,  6.59570164e-06])"
      ]
     },
     "execution_count": 8,
     "metadata": {},
     "output_type": "execute_result"
    },
    {
     "data": {
      "image/png": "[encoded data removed]",
      "text/plain": [
       "<Figure size 432x288 with 1 Axes>"
      ]
     },
     "metadata": {
      "needs_background": "light"
     },
     "output_type": "display_data"
    }
   ],
   "source": [
    "def polinom(x, deg):\n",
    "    return np.array( [np.ones(x.shape[0])] + list(map(lambda n: x**n, range(1, deg + 1))) ).T\n",
    "    # Функциональное программирование (см. ссылку в конце ноутбука)\n",
    "    # Распространненая конструкция list(map(lambda ....))\n",
    "    \n",
    "\n",
    "for degree in [1, 4, 8, 11, 13]:  # 13 - переобучение\n",
    "    # Решаем задачу аналитически\n",
    "    X = polinom(x, degree)\n",
    "    w = np.dot(np.dot(np.linalg.inv(np.dot(X.T, X)), X.T), y)\n",
    "    \n",
    "    # Визуализируем результат\n",
    "    y_hat = np.dot(w, X.T)\n",
    "    plt.plot(x, y_hat, label = 'degree %s' % degree, linewidth = 2.2)\n",
    "    print('Degree: %s, Loss: %s' % (degree, np.linalg.norm(y - y_hat)))\n",
    "    \n",
    "plt.plot(x, y, 'o', label = 'sample')\n",
    "plt.plot(x, np.sin(x), '--', label = 'manifold')\n",
    "plt.legend()\n",
    "\n",
    "w"
   ]
  },
  {
   "cell_type": "markdown",
   "metadata": {},
   "source": [
    "Визуально видно, что полином 4ой степени неплохо приближает реальную зависимость. При этом увеличение степени полинома до 8 и 11 еще больше уменьшает loss на трейне. Но визуально мы видим, что наш результат стал хуже. Данное явление называется переобучение.\n",
    "\n",
    "Для контроля за переобучением данные случайным образом разделяют на 2 части: обучающую и тестовую выборки."
   ]
  },
  {
   "cell_type": "code",
   "execution_count": 10,
   "metadata": {},
   "outputs": [
    {
     "name": "stdout",
     "output_type": "stream",
     "text": [
      "Degree: 1, train loss: 4.295539822924819, test loss: 2.5038254890473395\n",
      "Degree: 4, train loss: 1.9711130810021305, test loss: 0.8135143995108334\n",
      "Degree: 8, train loss: 1.8132708158539377, test loss: 0.9251277628463247\n",
      "Degree: 11, train loss: 1.7867137842631822, test loss: 0.9899517671734602\n",
      "Degree: 13, train loss: 4.799072179814059, test loss: 3.1060896635394366\n",
      "Wall time: 55.9 ms\n"
     ]
    },
    {
     "data": {
      "image/png": "[encoded data removed]",
      "text/plain": [
       "<Figure size 432x288 with 1 Axes>"
      ]
     },
     "metadata": {
      "needs_background": "light"
     },
     "output_type": "display_data"
    }
   ],
   "source": [
    "%%time\n",
    "\n",
    "from sklearn.model_selection import train_test_split\n",
    "\n",
    "# Делим данные на обучающую и тестовую выборки\n",
    "x_train, x_test, y_train, y_test = train_test_split(x, y, random_state = 10)\n",
    "order = np.argsort(x_train)\n",
    "\n",
    "train_loss = []\n",
    "test_loss = []\n",
    "\n",
    "for degree in [1, 4, 8, 11, 13]:\n",
    "    # Решаем задачу аналитически\n",
    "    X = polinom(x_train, degree)\n",
    "    w = np.dot(np.dot(np.linalg.inv(np.dot(X.T, X)), X.T), y_train)\n",
    "    \n",
    "    # Визуализируем результат\n",
    "    y_hat = np.dot(w, X.T)\n",
    "    X_test = polinom(x_test, degree)\n",
    "    y_hat_test = np.dot(w, X_test.T)\n",
    "    train_l = np.linalg.norm(y_train - y_hat, 2)\n",
    "    test_l = np.linalg.norm(y_test - y_hat_test)\n",
    "    \n",
    "    print('Degree: %s, train loss: %s, test loss: %s' % (degree, train_l , test_l ))\n",
    "    plt.plot(x_train[order], y_hat[order], label = 'degree %s' % degree, linewidth = 2.2)\n",
    "        \n",
    "    \n",
    "plt.plot(x, y, 'o', label = 'sample')\n",
    "plt.plot(x, np.sin(x), '--', label = 'manifold')\n",
    "plt.legend()"
   ]
  },
  {
   "cell_type": "markdown",
   "metadata": {},
   "source": [
    "Обычно график ошибок на обучающем и тестовом множестве выглядят как так:\n",
    "<img src=\"images/3.png\" alt=\"\" style=\"width: 600px;\"/>"
   ]
  },
  {
   "cell_type": "markdown",
   "metadata": {},
   "source": [
    "-------------------------------"
   ]
  },
  {
   "cell_type": "markdown",
   "metadata": {},
   "source": [
    "# 9. Переобучение\n",
    "Переобучение (переподгонка, англ. overfitting) в машинном обучении и статистике — явление, когда построенная модель хорошо объясняет примеры из обучающей выборки, но относительно плохо работает на примерах, не участвовавших в обучении (на примерах из тестовой выборки).\n",
    "\n",
    "<img src=\"images/Overfitted_Data.png\" alt=\"\" style=\"width: 600px;\"/>\n",
    "Сигнал с шумом (близкий к линейному) аппроксимируется линейной функцией и полиномом. Хотя полином гарантирует идеальное совпадение, линейная аппроксимация лучше генерализирует закономерность и будет давать лучшие предсказания."
   ]
  },
  {
   "cell_type": "markdown",
   "metadata": {},
   "source": [
    "**Основные методы предотвращения переобучения:**\n",
    "- Перекрёстная проверка\n",
    "- Регуляризация\n",
    "- Ранняя остановка (следим за качеством модели на тестовой выборке, как только она в течение нескольких итераций не растет, останавливаем обучение)"
   ]
  },
  {
   "cell_type": "markdown",
   "metadata": {},
   "source": [
    "## Регуляризация\n",
    "**Регуляризация** в статистике, машинном обучении, теории обратных задач — метод добавления некоторых дополнительных ограничений к условию с целью решить некорректно поставленную задачу или предотвратить переобучение. Эта информация часто имеет вид штрафа за сложность модели.\n",
    "\n",
    "**Основные виды регуляризации:**\n",
    "- $L_{1}$-регуляризация (англ. lasso regression) через манхэттенское расстояние:\n",
    "$ \\displaystyle L_1 = \\sum _{i}{(y_{i}-y(t_{i}))}^{2} + \\lambda \\sum _{i}{|a_{i}|}.$\n",
    "- $L_{2}$-регуляризация или регуляризация Тихонова (в английской литературе — ridge regression или Tikhonov regularization):\n",
    "$\\displaystyle L_{2}=\\sum _{i}{(y_{i}-y(t_{i}))}^{2}+\\lambda \\sum _{i}{a_{i}}^{2}$.\n",
    "\n",
    "**Простыми словами:** Переобучение в большинстве случаев проявляется в том, что в получающихся многочленах слишком большие коэффициенты. Соответственно, и бороться с этим можно довольно естественным способом: нужно просто добавить в целевую функцию штраф, который бы наказывал модель за слишком большие коэффициенты.\n",
    "\n",
    "\n",
    "\n",
    "Аналитическое решение для задачи регрессии с $L^2$ регуляризацией будет иметь следующий вид:\n",
    "$$\n",
    "\\vec{W} = \\left(X^T X + \\lambda E\\right)^{-1} X^T \\vec{Y} \n",
    "$$\n",
    "\n",
    "Такая регрессия называется гребневой регрессией (ridge regression) из-за гребеня в мартице $X^T X$.\n",
    "\n",
    "Давайте посмотрим, как ведет себя решение для p = 8 и разных значений $\\lambda$ при решении предыдущей задачи полиномиальной регрессии."
   ]
  },
  {
   "cell_type": "code",
   "execution_count": 12,
   "metadata": {},
   "outputs": [
    {
     "data": {
      "text/plain": [
       "<matplotlib.legend.Legend at 0x2b57bbbf390>"
      ]
     },
     "execution_count": 12,
     "metadata": {},
     "output_type": "execute_result"
    },
    {
     "data": {
      "image/png": "[encoded data removed]",
      "text/plain": [
       "<Figure size 432x288 with 1 Axes>"
      ]
     },
     "metadata": {
      "needs_background": "light"
     },
     "output_type": "display_data"
    }
   ],
   "source": [
    "# Делим данные на обучающую и тестовую выборки\n",
    "x_train, x_test, y_train, y_test = train_test_split(x, y, random_state = 10)\n",
    "order = np.argsort(x_train)\n",
    "train_loss = []\n",
    "test_loss = []\n",
    "\n",
    "for lmd in [0.00001, 0.01, 1.0]:\n",
    "    degree = 13\n",
    "    # решаем задачу\n",
    "    X = polinom(x_train, degree)\n",
    "    w = np.dot(np.dot(np.linalg.inv(np.dot(X.T, X) + lmd * np.eye(X.shape[1])), X.T), y_train)\n",
    "    \n",
    "    # визуализируем результат\n",
    "    y_hat = np.dot(w, X.T)\n",
    "    X_test = polinom(x_test, degree)\n",
    "    y_hat_test = np.dot(w, X_test.T)\n",
    "    train_l = np.linalg.norm(y_train - y_hat, 2)\n",
    "    test_l = np.linalg.norm(y_test - y_hat_test)\n",
    "\n",
    "    plt.plot(x_train[order], y_hat[order], label = 'lambda %s' % lmd)\n",
    "        \n",
    "plt.plot(x, y, 'o', label = 'sample')\n",
    "plt.plot(x, np.sin(x), '--', label = 'manifold')\n",
    "plt.legend()"
   ]
  },
  {
   "cell_type": "markdown",
   "metadata": {},
   "source": [
    "_________________________________________"
   ]
  },
  {
   "cell_type": "markdown",
   "metadata": {},
   "source": [
    "# 10. Решение задачи регрессии методом градиентного спуска"
   ]
  },
  {
   "cell_type": "markdown",
   "metadata": {},
   "source": [
    "## Боевая задача №1\n",
    "Первая задача из [ЯндексКонтеста](https://contest.yandex.ru/contest/8776/problems/A/?success=20330309#510691/2018_04_05/oXwZBlYsyq) (Контест на ML-стажировку в Яндекс)\n",
    "\n",
    "<img src=\"images/1st.jpg\" alt=\"\" style=\"width: 800px;\"/>"
   ]
  },
  {
   "cell_type": "code",
   "execution_count": 14,
   "metadata": {},
   "outputs": [],
   "source": [
    "# Никто не запоминает, какие библиотеки уже импортированы - просто импортируем все, что нам надо еще раз\n",
    "\n",
    "import pickle\n",
    "import numpy as np\n",
    "import PIL.Image\n",
    "import itertools\n",
    "from IPython.core.display import Image, display\n",
    "import scipy.ndimage\n",
    "import random\n",
    "import matplotlib.pylab as plt\n",
    "import tqdm\n",
    "import math\n",
    "from sklearn.model_selection import train_test_split\n",
    "from sklearn.metrics import log_loss, accuracy_score\n",
    "import time\n",
    "import pandas as pd\n",
    "import csv\n",
    "%matplotlib inline\n",
    "\n",
    "np.random.seed(42) # Фиксируем генератор «случайных» чисел для воспроизводимости результата"
   ]
  },
  {
   "cell_type": "code",
   "execution_count": 15,
   "metadata": {},
   "outputs": [
    {
     "data": {
      "text/html": [
       "<div>\n",
       "<style scoped>\n",
       "    .dataframe tbody tr th:only-of-type {\n",
       "        vertical-align: middle;\n",
       "    }\n",
       "\n",
       "    .dataframe tbody tr th {\n",
       "        vertical-align: top;\n",
       "    }\n",
       "\n",
       "    .dataframe thead th {\n",
       "        text-align: right;\n",
       "    }\n",
       "</style>\n",
       "<table border=\"1\" class=\"dataframe\">\n",
       "  <thead>\n",
       "    <tr style=\"text-align: right;\">\n",
       "      <th></th>\n",
       "      <th>0</th>\n",
       "      <th>1</th>\n",
       "      <th>2</th>\n",
       "      <th>3</th>\n",
       "      <th>4</th>\n",
       "      <th>5</th>\n",
       "      <th>6</th>\n",
       "      <th>7</th>\n",
       "      <th>8</th>\n",
       "      <th>9</th>\n",
       "      <th>...</th>\n",
       "      <th>91</th>\n",
       "      <th>92</th>\n",
       "      <th>93</th>\n",
       "      <th>94</th>\n",
       "      <th>95</th>\n",
       "      <th>96</th>\n",
       "      <th>97</th>\n",
       "      <th>98</th>\n",
       "      <th>99</th>\n",
       "      <th>100</th>\n",
       "    </tr>\n",
       "  </thead>\n",
       "  <tbody>\n",
       "    <tr>\n",
       "      <th>0</th>\n",
       "      <td>5.081360e-03</td>\n",
       "      <td>2.732210e-03</td>\n",
       "      <td>3.976420e-03</td>\n",
       "      <td>0.004540</td>\n",
       "      <td>4.731020e-03</td>\n",
       "      <td>0.005066</td>\n",
       "      <td>0.002552</td>\n",
       "      <td>0.003555</td>\n",
       "      <td>0.003674</td>\n",
       "      <td>4.089900e-03</td>\n",
       "      <td>...</td>\n",
       "      <td>0.005197</td>\n",
       "      <td>1.644370e-03</td>\n",
       "      <td>0.005083</td>\n",
       "      <td>0.004174</td>\n",
       "      <td>0.003957</td>\n",
       "      <td>0.002386</td>\n",
       "      <td>0.004375</td>\n",
       "      <td>8.412300e-04</td>\n",
       "      <td>0.000653</td>\n",
       "      <td>0.284860</td>\n",
       "    </tr>\n",
       "    <tr>\n",
       "      <th>1</th>\n",
       "      <td>4.174910e-03</td>\n",
       "      <td>7.084480e-03</td>\n",
       "      <td>2.123510e-03</td>\n",
       "      <td>0.000003</td>\n",
       "      <td>3.681860e-03</td>\n",
       "      <td>0.004573</td>\n",
       "      <td>0.003550</td>\n",
       "      <td>0.008086</td>\n",
       "      <td>0.006227</td>\n",
       "      <td>3.793680e-03</td>\n",
       "      <td>...</td>\n",
       "      <td>0.000264</td>\n",
       "      <td>5.655750e-03</td>\n",
       "      <td>0.006144</td>\n",
       "      <td>0.000177</td>\n",
       "      <td>0.004394</td>\n",
       "      <td>0.001403</td>\n",
       "      <td>0.002766</td>\n",
       "      <td>3.999750e-03</td>\n",
       "      <td>0.008292</td>\n",
       "      <td>0.401233</td>\n",
       "    </tr>\n",
       "    <tr>\n",
       "      <th>2</th>\n",
       "      <td>1.175410e-03</td>\n",
       "      <td>1.298870e-03</td>\n",
       "      <td>2.000290e-03</td>\n",
       "      <td>0.004009</td>\n",
       "      <td>3.330520e-03</td>\n",
       "      <td>0.004482</td>\n",
       "      <td>0.000404</td>\n",
       "      <td>0.000320</td>\n",
       "      <td>0.000136</td>\n",
       "      <td>3.351720e-03</td>\n",
       "      <td>...</td>\n",
       "      <td>0.003521</td>\n",
       "      <td>3.148270e-03</td>\n",
       "      <td>0.002726</td>\n",
       "      <td>0.003363</td>\n",
       "      <td>0.003507</td>\n",
       "      <td>0.001631</td>\n",
       "      <td>0.003283</td>\n",
       "      <td>2.215900e-04</td>\n",
       "      <td>0.004203</td>\n",
       "      <td>0.239423</td>\n",
       "    </tr>\n",
       "    <tr>\n",
       "      <th>3</th>\n",
       "      <td>5.845890e-03</td>\n",
       "      <td>5.368910e-03</td>\n",
       "      <td>6.507510e-03</td>\n",
       "      <td>0.006121</td>\n",
       "      <td>8.502420e-03</td>\n",
       "      <td>0.008948</td>\n",
       "      <td>0.002689</td>\n",
       "      <td>0.001819</td>\n",
       "      <td>0.000579</td>\n",
       "      <td>1.125160e-03</td>\n",
       "      <td>...</td>\n",
       "      <td>0.006734</td>\n",
       "      <td>5.367000e-05</td>\n",
       "      <td>0.008358</td>\n",
       "      <td>0.003522</td>\n",
       "      <td>0.001091</td>\n",
       "      <td>0.007370</td>\n",
       "      <td>0.002647</td>\n",
       "      <td>6.058580e-03</td>\n",
       "      <td>0.000045</td>\n",
       "      <td>0.491486</td>\n",
       "    </tr>\n",
       "    <tr>\n",
       "      <th>4</th>\n",
       "      <td>5.600000e-07</td>\n",
       "      <td>3.700000e-07</td>\n",
       "      <td>6.200000e-07</td>\n",
       "      <td>0.000002</td>\n",
       "      <td>9.700000e-07</td>\n",
       "      <td>0.000002</td>\n",
       "      <td>0.000002</td>\n",
       "      <td>0.000002</td>\n",
       "      <td>0.000002</td>\n",
       "      <td>6.800000e-07</td>\n",
       "      <td>...</td>\n",
       "      <td>0.000002</td>\n",
       "      <td>9.800000e-07</td>\n",
       "      <td>0.000002</td>\n",
       "      <td>0.000002</td>\n",
       "      <td>0.000001</td>\n",
       "      <td>0.000001</td>\n",
       "      <td>0.000001</td>\n",
       "      <td>8.000000e-07</td>\n",
       "      <td>0.000001</td>\n",
       "      <td>0.000112</td>\n",
       "    </tr>\n",
       "  </tbody>\n",
       "</table>\n",
       "<p>5 rows × 101 columns</p>\n",
       "</div>"
      ],
      "text/plain": [
       "            0             1             2         3             4         5    \\\n",
       "0  5.081360e-03  2.732210e-03  3.976420e-03  0.004540  4.731020e-03  0.005066   \n",
       "1  4.174910e-03  7.084480e-03  2.123510e-03  0.000003  3.681860e-03  0.004573   \n",
       "2  1.175410e-03  1.298870e-03  2.000290e-03  0.004009  3.330520e-03  0.004482   \n",
       "3  5.845890e-03  5.368910e-03  6.507510e-03  0.006121  8.502420e-03  0.008948   \n",
       "4  5.600000e-07  3.700000e-07  6.200000e-07  0.000002  9.700000e-07  0.000002   \n",
       "\n",
       "        6         7         8             9    ...       91            92   \\\n",
       "0  0.002552  0.003555  0.003674  4.089900e-03  ...  0.005197  1.644370e-03   \n",
       "1  0.003550  0.008086  0.006227  3.793680e-03  ...  0.000264  5.655750e-03   \n",
       "2  0.000404  0.000320  0.000136  3.351720e-03  ...  0.003521  3.148270e-03   \n",
       "3  0.002689  0.001819  0.000579  1.125160e-03  ...  0.006734  5.367000e-05   \n",
       "4  0.000002  0.000002  0.000002  6.800000e-07  ...  0.000002  9.800000e-07   \n",
       "\n",
       "        93        94        95        96        97            98        99   \\\n",
       "0  0.005083  0.004174  0.003957  0.002386  0.004375  8.412300e-04  0.000653   \n",
       "1  0.006144  0.000177  0.004394  0.001403  0.002766  3.999750e-03  0.008292   \n",
       "2  0.002726  0.003363  0.003507  0.001631  0.003283  2.215900e-04  0.004203   \n",
       "3  0.008358  0.003522  0.001091  0.007370  0.002647  6.058580e-03  0.000045   \n",
       "4  0.000002  0.000002  0.000001  0.000001  0.000001  8.000000e-07  0.000001   \n",
       "\n",
       "        100  \n",
       "0  0.284860  \n",
       "1  0.401233  \n",
       "2  0.239423  \n",
       "3  0.491486  \n",
       "4  0.000112  \n",
       "\n",
       "[5 rows x 101 columns]"
      ]
     },
     "execution_count": 15,
     "metadata": {},
     "output_type": "execute_result"
    }
   ],
   "source": [
    "df = pd.read_csv(\"train.tsv\", header = None, sep = \"\\t\")\n",
    "df.head()"
   ]
  },
  {
   "cell_type": "code",
   "execution_count": 16,
   "metadata": {},
   "outputs": [
    {
     "name": "stdout",
     "output_type": "stream",
     "text": [
      "(10000, 101)\n",
      "(10000,) \n",
      "\n",
      "[[1.000000e+00 5.081360e-03 2.732210e-03 ... 4.375370e-03 8.412300e-04\n",
      "  6.529100e-04]\n",
      " [1.000000e+00 4.174910e-03 7.084480e-03 ... 2.766070e-03 3.999750e-03\n",
      "  8.292280e-03]\n",
      " [1.000000e+00 1.175410e-03 1.298870e-03 ... 3.283010e-03 2.215900e-04\n",
      "  4.203090e-03]\n",
      " ...\n",
      " [1.000000e+00 2.114960e-03 1.112993e-02 ... 1.636344e-02 1.119067e-02\n",
      "  2.249600e-03]\n",
      " [1.000000e+00 4.023160e-03 2.407500e-04 ... 4.102650e-03 4.440250e-03\n",
      "  5.700450e-03]\n",
      " [1.000000e+00 9.003000e-04 6.132900e-03 ... 5.207050e-03 4.707980e-03\n",
      "  2.040500e-03]] \n",
      "\n",
      "[0.28486006 0.40123294 0.23942324 ... 0.87266402 0.30165096 0.32174571]\n"
     ]
    }
   ],
   "source": [
    "X_train = np.array(df)\n",
    "X_train = np.delete(X_train, 100, 1) # Удаляем последний столбец в X_train\n",
    "\n",
    "x_0 = np.ones(X_train.shape[0])\n",
    "x_0 = x_0[np.newaxis, :].T # Транспонирование numpy не работает для 1-D массивов => приходится выкручиваться!\n",
    "X_train = np.hstack((x_0, X_train)) # Добавляем к матрице X_train единичный стобец на первое место\n",
    "\n",
    "Y_train = np.array(df[100])\n",
    "\n",
    "print(X_train.shape)\n",
    "print(Y_train.shape, \"\\n\")\n",
    "\n",
    "print(X_train, \"\\n\")\n",
    "print(Y_train)"
   ]
  },
  {
   "cell_type": "markdown",
   "metadata": {},
   "source": [
    "### Ну не зря же мы учили матан!\n",
    "\n",
    "Попробуем (а вдруг) самым простым способом, то есть пока без регуляризации, решить задачу аналитически:   \n",
    "$$\n",
    "    W = (X^TX)^{-1}X^TY\n",
    "$$\n",
    "В конце концов, информатика - экспериментальная наука!"
   ]
  },
  {
   "cell_type": "code",
   "execution_count": 17,
   "metadata": {},
   "outputs": [
    {
     "name": "stdout",
     "output_type": "stream",
     "text": [
      "(101,)\n",
      "[-1.82059229e-15  1.00000000e+00  1.00000000e+00  1.00000000e+00\n",
      "  1.00000000e+00  1.00000000e+00  1.00000000e+00  1.00000000e+00\n",
      "  1.00000000e+00  1.00000000e+00  1.00000000e+00  1.00000000e+00\n",
      "  1.00000000e+00  1.00000000e+00  1.00000000e+00  1.00000000e+00\n",
      "  1.00000000e+00  1.00000000e+00  1.00000000e+00  1.00000000e+00\n",
      "  1.00000000e+00  1.00000000e+00  1.00000000e+00  1.00000000e+00\n",
      "  1.00000000e+00  1.00000000e+00  1.00000000e+00  1.00000000e+00\n",
      "  1.00000000e+00  1.00000000e+00  1.00000000e+00  1.00000000e+00\n",
      "  1.00000000e+00  1.00000000e+00  1.00000000e+00  1.00000000e+00\n",
      "  1.00000000e+00  1.00000000e+00  1.00000000e+00  1.00000000e+00\n",
      "  1.00000000e+00  1.00000000e+00  1.00000000e+00  1.00000000e+00\n",
      "  1.00000000e+00  1.00000000e+00  1.00000000e+00  1.00000000e+00\n",
      "  1.00000000e+00  1.00000000e+00  1.00000000e+00  1.00000000e+00\n",
      "  1.00000000e+00  1.00000000e+00  1.00000000e+00  1.00000000e+00\n",
      "  1.00000000e+00  1.00000000e+00  1.00000000e+00  1.00000000e+00\n",
      "  1.00000000e+00  1.00000000e+00  1.00000000e+00  1.00000000e+00\n",
      "  1.00000000e+00  1.00000000e+00  1.00000000e+00  1.00000000e+00\n",
      "  1.00000000e+00  1.00000000e+00  1.00000000e+00  1.00000000e+00\n",
      "  1.00000000e+00  1.00000000e+00  1.00000000e+00  1.00000000e+00\n",
      "  1.00000000e+00  1.00000000e+00  1.00000000e+00  1.00000000e+00\n",
      "  1.00000000e+00  1.00000000e+00  1.00000000e+00  1.00000000e+00\n",
      "  1.00000000e+00  1.00000000e+00  1.00000000e+00  1.00000000e+00\n",
      "  1.00000000e+00  1.00000000e+00  1.00000000e+00  1.00000000e+00\n",
      "  1.00000000e+00  1.00000000e+00  1.00000000e+00  1.00000000e+00\n",
      "  1.00000000e+00  1.00000000e+00  1.00000000e+00  1.00000000e+00\n",
      "  1.00000000e+00]\n"
     ]
    }
   ],
   "source": [
    "X = X_train\n",
    "Y = Y_train\n",
    "\n",
    "W = np.dot(np.dot(np.linalg.inv(np.dot(X.T, X)), X.T), Y)\n",
    "print(W.shape)\n",
    "print(W) # Очень тупая зависимость)"
   ]
  },
  {
   "cell_type": "code",
   "execution_count": 18,
   "metadata": {},
   "outputs": [],
   "source": [
    "# Квадратичная функция потерь (функция штрафа за неправильное предсказание)\n",
    "def L(x, y, w):\n",
    "    return (np.dot(x.T, w)-y)**2  # Возвращает число"
   ]
  },
  {
   "cell_type": "code",
   "execution_count": 19,
   "metadata": {},
   "outputs": [
    {
     "data": {
      "text/plain": [
       "6.63337405627543e-30"
      ]
     },
     "execution_count": 19,
     "metadata": {},
     "output_type": "execute_result"
    }
   ],
   "source": [
    "# Посчитаем среднюю ошибку\n",
    "l = []\n",
    "for i in range(X.shape[0]):\n",
    "    l.append(L(X_train[i], Y_train[i], W))\n",
    "    \n",
    "np.array(l).mean()"
   ]
  },
  {
   "cell_type": "code",
   "execution_count": 20,
   "metadata": {},
   "outputs": [
    {
     "name": "stdout",
     "output_type": "stream",
     "text": [
      "(1000, 100)\n"
     ]
    },
    {
     "data": {
      "text/html": [
       "<div>\n",
       "<style scoped>\n",
       "    .dataframe tbody tr th:only-of-type {\n",
       "        vertical-align: middle;\n",
       "    }\n",
       "\n",
       "    .dataframe tbody tr th {\n",
       "        vertical-align: top;\n",
       "    }\n",
       "\n",
       "    .dataframe thead th {\n",
       "        text-align: right;\n",
       "    }\n",
       "</style>\n",
       "<table border=\"1\" class=\"dataframe\">\n",
       "  <thead>\n",
       "    <tr style=\"text-align: right;\">\n",
       "      <th></th>\n",
       "      <th>0</th>\n",
       "      <th>1</th>\n",
       "      <th>2</th>\n",
       "      <th>3</th>\n",
       "      <th>4</th>\n",
       "      <th>5</th>\n",
       "      <th>6</th>\n",
       "      <th>7</th>\n",
       "      <th>8</th>\n",
       "      <th>9</th>\n",
       "      <th>...</th>\n",
       "      <th>90</th>\n",
       "      <th>91</th>\n",
       "      <th>92</th>\n",
       "      <th>93</th>\n",
       "      <th>94</th>\n",
       "      <th>95</th>\n",
       "      <th>96</th>\n",
       "      <th>97</th>\n",
       "      <th>98</th>\n",
       "      <th>99</th>\n",
       "    </tr>\n",
       "  </thead>\n",
       "  <tbody>\n",
       "    <tr>\n",
       "      <th>0</th>\n",
       "      <td>0.001625</td>\n",
       "      <td>0.001477</td>\n",
       "      <td>0.002368</td>\n",
       "      <td>0.004169</td>\n",
       "      <td>0.002668</td>\n",
       "      <td>0.002014</td>\n",
       "      <td>0.001802</td>\n",
       "      <td>0.001962</td>\n",
       "      <td>0.003036</td>\n",
       "      <td>0.004454</td>\n",
       "      <td>...</td>\n",
       "      <td>0.001312</td>\n",
       "      <td>0.001178</td>\n",
       "      <td>0.003841</td>\n",
       "      <td>0.003548</td>\n",
       "      <td>0.003765</td>\n",
       "      <td>0.000512</td>\n",
       "      <td>0.003115</td>\n",
       "      <td>0.003500</td>\n",
       "      <td>0.001567</td>\n",
       "      <td>0.002569</td>\n",
       "    </tr>\n",
       "    <tr>\n",
       "      <th>1</th>\n",
       "      <td>0.004432</td>\n",
       "      <td>0.003121</td>\n",
       "      <td>0.003630</td>\n",
       "      <td>0.003058</td>\n",
       "      <td>0.000837</td>\n",
       "      <td>0.001640</td>\n",
       "      <td>0.001846</td>\n",
       "      <td>0.001204</td>\n",
       "      <td>0.004186</td>\n",
       "      <td>0.003113</td>\n",
       "      <td>...</td>\n",
       "      <td>0.001787</td>\n",
       "      <td>0.001105</td>\n",
       "      <td>0.000442</td>\n",
       "      <td>0.004347</td>\n",
       "      <td>0.000377</td>\n",
       "      <td>0.003635</td>\n",
       "      <td>0.001581</td>\n",
       "      <td>0.002216</td>\n",
       "      <td>0.004222</td>\n",
       "      <td>0.001188</td>\n",
       "    </tr>\n",
       "    <tr>\n",
       "      <th>2</th>\n",
       "      <td>0.005194</td>\n",
       "      <td>0.004270</td>\n",
       "      <td>0.002174</td>\n",
       "      <td>0.000443</td>\n",
       "      <td>0.005398</td>\n",
       "      <td>0.001527</td>\n",
       "      <td>0.000288</td>\n",
       "      <td>0.004906</td>\n",
       "      <td>0.005213</td>\n",
       "      <td>0.005860</td>\n",
       "      <td>...</td>\n",
       "      <td>0.005762</td>\n",
       "      <td>0.000901</td>\n",
       "      <td>0.004286</td>\n",
       "      <td>0.006097</td>\n",
       "      <td>0.003391</td>\n",
       "      <td>0.002021</td>\n",
       "      <td>0.002080</td>\n",
       "      <td>0.001132</td>\n",
       "      <td>0.003466</td>\n",
       "      <td>0.005311</td>\n",
       "    </tr>\n",
       "    <tr>\n",
       "      <th>3</th>\n",
       "      <td>0.014504</td>\n",
       "      <td>0.017867</td>\n",
       "      <td>0.002476</td>\n",
       "      <td>0.004764</td>\n",
       "      <td>0.008116</td>\n",
       "      <td>0.016214</td>\n",
       "      <td>0.011130</td>\n",
       "      <td>0.009624</td>\n",
       "      <td>0.011102</td>\n",
       "      <td>0.006736</td>\n",
       "      <td>...</td>\n",
       "      <td>0.002136</td>\n",
       "      <td>0.014053</td>\n",
       "      <td>0.004479</td>\n",
       "      <td>0.003603</td>\n",
       "      <td>0.013635</td>\n",
       "      <td>0.017088</td>\n",
       "      <td>0.004584</td>\n",
       "      <td>0.010353</td>\n",
       "      <td>0.015531</td>\n",
       "      <td>0.012272</td>\n",
       "    </tr>\n",
       "    <tr>\n",
       "      <th>4</th>\n",
       "      <td>0.000413</td>\n",
       "      <td>0.000121</td>\n",
       "      <td>0.000385</td>\n",
       "      <td>0.000338</td>\n",
       "      <td>0.000413</td>\n",
       "      <td>0.000190</td>\n",
       "      <td>0.000306</td>\n",
       "      <td>0.000034</td>\n",
       "      <td>0.000008</td>\n",
       "      <td>0.000124</td>\n",
       "      <td>...</td>\n",
       "      <td>0.000353</td>\n",
       "      <td>0.000333</td>\n",
       "      <td>0.000290</td>\n",
       "      <td>0.000031</td>\n",
       "      <td>0.000134</td>\n",
       "      <td>0.000194</td>\n",
       "      <td>0.000144</td>\n",
       "      <td>0.000374</td>\n",
       "      <td>0.000237</td>\n",
       "      <td>0.000408</td>\n",
       "    </tr>\n",
       "    <tr>\n",
       "      <th>5</th>\n",
       "      <td>0.003378</td>\n",
       "      <td>0.007415</td>\n",
       "      <td>0.006740</td>\n",
       "      <td>0.006221</td>\n",
       "      <td>0.000441</td>\n",
       "      <td>0.000717</td>\n",
       "      <td>0.003146</td>\n",
       "      <td>0.005431</td>\n",
       "      <td>0.006096</td>\n",
       "      <td>0.002172</td>\n",
       "      <td>...</td>\n",
       "      <td>0.007306</td>\n",
       "      <td>0.005338</td>\n",
       "      <td>0.000524</td>\n",
       "      <td>0.003153</td>\n",
       "      <td>0.002552</td>\n",
       "      <td>0.006182</td>\n",
       "      <td>0.002175</td>\n",
       "      <td>0.006555</td>\n",
       "      <td>0.000093</td>\n",
       "      <td>0.006723</td>\n",
       "    </tr>\n",
       "  </tbody>\n",
       "</table>\n",
       "<p>6 rows × 100 columns</p>\n",
       "</div>"
      ],
      "text/plain": [
       "         0         1         2         3         4         5         6   \\\n",
       "0  0.001625  0.001477  0.002368  0.004169  0.002668  0.002014  0.001802   \n",
       "1  0.004432  0.003121  0.003630  0.003058  0.000837  0.001640  0.001846   \n",
       "2  0.005194  0.004270  0.002174  0.000443  0.005398  0.001527  0.000288   \n",
       "3  0.014504  0.017867  0.002476  0.004764  0.008116  0.016214  0.011130   \n",
       "4  0.000413  0.000121  0.000385  0.000338  0.000413  0.000190  0.000306   \n",
       "5  0.003378  0.007415  0.006740  0.006221  0.000441  0.000717  0.003146   \n",
       "\n",
       "         7         8         9   ...        90        91        92        93  \\\n",
       "0  0.001962  0.003036  0.004454  ...  0.001312  0.001178  0.003841  0.003548   \n",
       "1  0.001204  0.004186  0.003113  ...  0.001787  0.001105  0.000442  0.004347   \n",
       "2  0.004906  0.005213  0.005860  ...  0.005762  0.000901  0.004286  0.006097   \n",
       "3  0.009624  0.011102  0.006736  ...  0.002136  0.014053  0.004479  0.003603   \n",
       "4  0.000034  0.000008  0.000124  ...  0.000353  0.000333  0.000290  0.000031   \n",
       "5  0.005431  0.006096  0.002172  ...  0.007306  0.005338  0.000524  0.003153   \n",
       "\n",
       "         94        95        96        97        98        99  \n",
       "0  0.003765  0.000512  0.003115  0.003500  0.001567  0.002569  \n",
       "1  0.000377  0.003635  0.001581  0.002216  0.004222  0.001188  \n",
       "2  0.003391  0.002021  0.002080  0.001132  0.003466  0.005311  \n",
       "3  0.013635  0.017088  0.004584  0.010353  0.015531  0.012272  \n",
       "4  0.000134  0.000194  0.000144  0.000374  0.000237  0.000408  \n",
       "5  0.002552  0.006182  0.002175  0.006555  0.000093  0.006723  \n",
       "\n",
       "[6 rows x 100 columns]"
      ]
     },
     "execution_count": 20,
     "metadata": {},
     "output_type": "execute_result"
    }
   ],
   "source": [
    "# Проверим решение на тестовой выборке (у нас нет ответов для теста в этот раз)\n",
    "df2 = pd.read_csv(\"test.tsv\", header = None, sep = \"\\t\")\n",
    "print(df2.shape)\n",
    "\n",
    "df2.head(6)"
   ]
  },
  {
   "cell_type": "code",
   "execution_count": 21,
   "metadata": {},
   "outputs": [
    {
     "name": "stdout",
     "output_type": "stream",
     "text": [
      "(1000,)\n",
      "[0.25822782 0.24118709 0.29665102 0.95457741 0.02334326 0.36751454\n",
      " 0.19707804 0.77752913 0.90686134 0.88359344 0.05308194 0.9794771\n",
      " 0.9556584  0.19200866 0.55479525 0.91739903 0.32006895 0.88116225\n",
      " 0.90938282 0.66715939 0.29230975 0.1894403  0.05936055 0.83756917\n",
      " 0.00705595 0.64750468 0.51855683 0.02772997 0.79370339 0.93098786\n",
      " 0.73718601 0.42713718 0.75573011 0.17523983 0.5954301  0.23293957\n",
      " 0.14870587 0.23601125 0.62775053 0.03232687 0.38919323 0.47757061\n",
      " 0.81279451 0.58803419 0.46969869 0.99210591 0.18528047 0.57142602\n",
      " 0.96803368 0.20562342 0.36481873 0.18083921 0.99709891 0.69368137\n",
      " 0.71839136 0.47077571 0.77205416 0.42473482 0.70205747 0.85289158\n",
      " 0.14177051 0.84029226 0.92966331 0.5872018  0.85674237 0.28510851\n",
      " 0.88856574 0.2781505  0.31797955 0.05942245 0.86865348 0.02476375\n",
      " 0.40348742 0.20373752 0.51836794 0.91556976 0.64671124 0.20153746\n",
      " 0.86081981 0.6885718  0.72462942 0.40296886 0.4970238  0.40252282\n",
      " 0.95984985 0.23917527 0.51115594 0.55975923 0.66975523 0.58244288\n",
      " 0.66263239 0.25326148 0.25268276 0.30068069 0.39033178 0.82724532\n",
      " 0.82451912 0.147146   0.32184459 0.11815692 0.65511274 0.58877321\n",
      " 0.38013301 0.68870968 0.47225867 0.00497802 0.19873764 0.78963871\n",
      " 0.13540441 0.57884288 0.86518122 0.35548584 0.8744858  0.01443809\n",
      " 0.60697375 0.48492216 0.5332006  0.15614877 0.12800308 0.74129159\n",
      " 0.66850128 0.99086818 0.58906737 0.34908302 0.22308006 0.84802267\n",
      " 0.40604482 0.38622723 0.16773564 0.14118602 0.47590806 0.57716051\n",
      " 0.09794928 0.25550949 0.09965527 0.34170139 0.62390496 0.80368098\n",
      " 0.39123605 0.49964181 0.22661662 0.66642085 0.23497739 0.27248467\n",
      " 0.17280947 0.24102548 0.12595522 0.474779   0.65625516 0.78127045\n",
      " 0.14597808 0.20882929 0.8927037  0.47478625 0.66495326 0.49652678\n",
      " 0.34925912 0.82307181 0.42059124 0.75400144 0.40070504 0.81216791\n",
      " 0.99525409 0.59299426 0.33306324 0.6113156  0.40595381 0.1338694\n",
      " 0.86371226 0.88230394 0.29234458 0.5868152  0.22128891 0.98764617\n",
      " 0.74225264 0.37437778 0.69428955 0.56820175 0.18840517 0.10048354\n",
      " 0.07451487 0.07795955 0.18456657 0.3071105  0.58049925 0.92072058\n",
      " 0.32271557 0.79954986 0.22110999 0.82397386 0.18654807 0.19468438\n",
      " 0.95487592 0.49824012 0.70992096 0.65532568 0.19712381 0.84882049\n",
      " 0.8763819  0.37680002 0.57823764 0.09118738 0.88642345 0.51982569\n",
      " 0.86497609 0.31218642 0.04656165 0.16292389 0.159745   0.56831286\n",
      " 0.79661496 0.94724328 0.99190758 0.88674348 0.19340995 0.07328428\n",
      " 0.33157542 0.11528037 0.6358603  0.66129613 0.07746465 0.75176885\n",
      " 0.96756216 0.39241471 0.05482484 0.33910202 0.89889274 0.09662986\n",
      " 0.92334715 0.09156402 0.92210856 0.82533738 0.29441636 0.02811883\n",
      " 0.62740217 0.24287143 0.16433238 0.4397925  0.97687025 0.79111157\n",
      " 0.12491159 0.08146671 0.84584767 0.66325749 0.54030807 0.44684526\n",
      " 0.18001768 0.71410221 0.10093047 0.08534957 0.48870831 0.5673521\n",
      " 0.69317774 0.61022114 0.0705047  0.42662052 0.81033382 0.92557244\n",
      " 0.7228513  0.48794733 0.49700294 0.82041591 0.79628667 0.00622614\n",
      " 0.55607949 0.77752715 0.83438355 0.1283153  0.68096484 0.57713821\n",
      " 0.16534738 0.50823984 0.51946354 0.77950996 0.14743431 0.19380547\n",
      " 0.97881929 0.30611571 0.80836308 0.26409781 0.48750225 0.88531887\n",
      " 0.87463438 0.0364126  0.79585348 0.22528494 0.77140552 0.04044754\n",
      " 0.44842432 0.4690644  0.11296907 0.83950233 0.14347427 0.86611318\n",
      " 0.25457489 0.17166218 0.36009425 0.43585734 0.43945535 0.46177779\n",
      " 0.44078225 0.42225713 0.7013373  0.4185684  0.96236728 0.84910501\n",
      " 0.24249241 0.16112603 0.42654383 0.91574556 0.44990077 0.58300205\n",
      " 0.68752424 0.0266504  0.11857097 0.49918982 0.32648122 0.82964047\n",
      " 0.92170623 0.85218877 0.85865297 0.0593072  0.85215765 0.42577862\n",
      " 0.23449917 0.86148305 0.43415913 0.91094756 0.63331374 0.70796456\n",
      " 0.0141155  0.26927192 0.10971666 0.23437613 0.65256878 0.62690504\n",
      " 0.28835683 0.44569378 0.60040809 0.64560717 0.50708784 0.94450662\n",
      " 0.41290526 0.64194982 0.32914514 0.79205891 0.76571622 0.25163612\n",
      " 0.82685765 0.0757173  0.58025408 0.58480618 0.73975409 0.35749578\n",
      " 0.2273631  0.73776603 0.95434009 0.76863724 0.54716731 0.32562265\n",
      " 0.2510993  0.3803304  0.90721685 0.53293683 0.43892748 0.77827044\n",
      " 0.08058224 0.64447749 0.89874508 0.7136539  0.04656238 0.2195072\n",
      " 0.89752178 0.87065354 0.50443069 0.01603068 0.94637398 0.73408405\n",
      " 0.13202302 0.19296865 0.06409771 0.5298547  0.07856688 0.17563513\n",
      " 0.06371073 0.48459217 0.44817064 0.28794725 0.23391446 0.56714478\n",
      " 0.23535836 0.02153924 0.63952867 0.81437665 0.44825826 0.39433751\n",
      " 0.58849036 0.77523016 0.00953387 0.48624816 0.74100949 0.95156227\n",
      " 0.51516392 0.01253288 0.53003034 0.74425156 0.06142693 0.7770952\n",
      " 0.13745432 0.53849091 0.06334966 0.0868861  0.17277355 0.78657817\n",
      " 0.74400639 0.05888313 0.13941254 0.81699921 0.51801378 0.41802032\n",
      " 0.53768277 0.12166673 0.62944898 0.51783893 0.96393001 0.27769273\n",
      " 0.77190042 0.50364336 0.27217846 0.86456987 0.34533627 0.12154835\n",
      " 0.25569402 0.74894923 0.71645932 0.69981925 0.03043682 0.17218116\n",
      " 0.10681627 0.38440403 0.10465067 0.24151618 0.23955954 0.43178142\n",
      " 0.36464848 0.31240926 0.65730081 0.86812724 0.66061412 0.75337553\n",
      " 0.64291913 0.25212137 0.55212423 0.43591538 0.43565239 0.72089518\n",
      " 0.58426028 0.94755466 0.96839931 0.09764578 0.5348542  0.25704089\n",
      " 0.43959967 0.67960635 0.08101658 0.39651958 0.91914086 0.43623328\n",
      " 0.13831425 0.14806927 0.45569735 0.12604741 0.05015749 0.01155658\n",
      " 0.00379356 0.13212879 0.92105801 0.68329587 0.26091206 0.0951247\n",
      " 0.1688419  0.49454183 0.74207426 0.41071607 0.0461983  0.56671504\n",
      " 0.34264862 0.04655458 0.15157741 0.47792298 0.09650417 0.81868689\n",
      " 0.78767919 0.69106249 0.04879102 0.01994597 0.47656324 0.25922461\n",
      " 0.28802041 0.49011362 0.82136299 0.44364771 0.83379122 0.84062847\n",
      " 0.92897566 0.56692188 0.06377927 0.57897219 0.88195617 0.00951887\n",
      " 0.47470694 0.93654723 0.45493159 0.61834142 0.7857716  0.70980378\n",
      " 0.27442883 0.2554173  0.58248339 0.29496856 0.1335133  0.78371036\n",
      " 0.45073831 0.70443983 0.59443135 0.18819345 0.83863542 0.10869418\n",
      " 0.74187919 0.78331518 0.43110686 0.81339864 0.40531214 0.95758421\n",
      " 0.46101495 0.58234544 0.78991714 0.42369012 0.28091857 0.30513171\n",
      " 0.1532242  0.94574731 0.82547792 0.91795552 0.53616737 0.98792337\n",
      " 0.17914597 0.41651151 0.59519751 0.92770611 0.24521573 0.02859793\n",
      " 0.07423392 0.61465987 0.22081151 0.79635441 0.7528895  0.19952826\n",
      " 0.71386444 0.19032682 0.91486431 0.03796037 0.87838499 0.95521148\n",
      " 0.87612298 0.87277546 0.35383521 0.68264226 0.72532116 0.98212482\n",
      " 0.8328778  0.93385965 0.14714944 0.24844705 0.77346984 0.27380568\n",
      " 0.26376853 0.77942748 0.29641228 0.20867181 0.32884174 0.24173494\n",
      " 0.26267497 0.06391755 0.89816346 0.61304985 0.2107668  0.15502741\n",
      " 0.41656212 0.82572748 0.67750405 0.42150726 0.77907567 0.93275281\n",
      " 0.1750869  0.46116303 0.09601908 0.97295596 0.7795555  0.95814257\n",
      " 0.49158256 0.45986117 0.54372262 0.3855532  0.73011707 0.59571651\n",
      " 0.94591548 0.49721817 0.57265764 0.38765614 0.02366638 0.07088055\n",
      " 0.45112944 0.67241614 0.36744585 0.19853792 0.66725377 0.82693924\n",
      " 0.28487561 0.95645706 0.89031248 0.27765994 0.0912065  0.18939801\n",
      " 0.26775718 0.38073998 0.14124108 0.10598886 0.18038155 0.06863203\n",
      " 0.46890222 0.73498292 0.05198657 0.70030749 0.5485778  0.26702259\n",
      " 0.33144152 0.95970517 0.43403613 0.56984305 0.11843756 0.02356682\n",
      " 0.95024484 0.93727187 0.71769355 0.24557432 0.24146602 0.73797635\n",
      " 0.08988986 0.49822309 0.92328352 0.00751518 0.81479648 0.39145154\n",
      " 0.91886126 0.08922778 0.85658165 0.95418633 0.57108335 0.1365652\n",
      " 0.12146868 0.35868628 0.81124531 0.22689175 0.84210562 0.95395319\n",
      " 0.36460036 0.06287733 0.47452646 0.28174767 0.05514117 0.98586744\n",
      " 0.31630159 0.41604397 0.57838296 0.81289806 0.05143617 0.32397256\n",
      " 0.40262573 0.62781852 0.73982887 0.77890616 0.03498096 0.0497787\n",
      " 0.98033486 0.63428281 0.35944951 0.71602327 0.363447   0.88534235\n",
      " 0.04766235 0.94973096 0.45885246 0.23216889 0.68981091 0.28403307\n",
      " 0.43748872 0.73179319 0.76696505 0.35439823 0.59727898 0.04063478\n",
      " 0.23833544 0.9316845  0.09936358 0.27224626 0.34819334 0.62030311\n",
      " 0.77914572 0.24674787 0.18135368 0.4628169  0.43745133 0.61908446\n",
      " 0.78517936 0.29477169 0.81515084 0.57594838 0.51360519 0.01506485\n",
      " 0.11722539 0.19815032 0.51894266 0.72461453 0.14369867 0.53377177\n",
      " 0.84213207 0.70220758 0.48405049 0.41656826 0.75965756 0.18134297\n",
      " 0.6416412  0.65234699 0.28547867 0.65001918 0.11182185 0.88834605\n",
      " 0.0748161  0.93225857 0.33245026 0.57645023 0.33507225 0.36075396\n",
      " 0.20227202 0.25209734 0.13106345 0.53138957 0.0885551  0.05326242\n",
      " 0.77925076 0.67797887 0.36674826 0.92417222 0.65292806 0.08907328\n",
      " 0.57419449 0.78623015 0.54341405 0.63331787 0.72214237 0.42102695\n",
      " 0.50466479 0.67611003 0.59129193 0.80714966 0.95596088 0.53027641\n",
      " 0.25200851 0.65511513 0.55653099 0.88401673 0.62015906 0.51923584\n",
      " 0.20505476 0.07712636 0.66581181 0.0635528  0.91974177 0.97756245\n",
      " 0.87489237 0.2582789  0.88017839 0.78201035 0.37106234 0.74229722\n",
      " 0.69138829 0.27225734 0.38316845 0.9273676  0.0312405  0.84637355\n",
      " 0.77341581 0.55625586 0.36563387 0.46771671 0.65868211 0.08083961\n",
      " 0.89014244 0.44515536 0.51586711 0.57272307 0.5846906  0.03005422\n",
      " 0.42837031 0.89084336 0.15504901 0.93815112 0.27531841 0.11080225\n",
      " 0.4639421  0.85769509 0.97016067 0.33115829 0.03117955 0.62833859\n",
      " 0.5422584  0.70559746 0.39357492 0.32310645 0.18548693 0.4149399\n",
      " 0.8301903  0.23077047 0.48625361 0.85627238 0.14106706 0.25558331\n",
      " 0.98760182 0.45337629 0.80321067 0.25890107 0.73939254 0.34543314\n",
      " 0.68897098 0.5084526  0.00703375 0.61953868 0.30608211 0.84096118\n",
      " 0.72663228 0.97282055 0.16852036 0.0039886  0.59300574 0.68839786\n",
      " 0.97591083 0.72553994 0.53691827 0.09859475 0.23170636 0.190456\n",
      " 0.14114258 0.60738891 0.47577198 0.20346161 0.42960825 0.36254457\n",
      " 0.65479984 0.0084537  0.30667605 0.80830576 0.83181701 0.86360883\n",
      " 0.41056226 0.90241821 0.06975441 0.7911163  0.20531694 0.35999703\n",
      " 0.48313997 0.03940008 0.94854434 0.87796928 0.64814699 0.6869092\n",
      " 0.92346057 0.37503561 0.1495366  0.22374038 0.02484204 0.69270683\n",
      " 0.7473094  0.63896098 0.50362969 0.06011827 0.40112368 0.16567908\n",
      " 0.45570715 0.60550429 0.25361415 0.50053728 0.85288557 0.38614519\n",
      " 0.24206864 0.0443782  0.82382609 0.81629718 0.43612751 0.01810337\n",
      " 0.12410169 0.86897006 0.10304389 0.50692268 0.03113127 0.25858431\n",
      " 0.39684036 0.12432122 0.48997599 0.0728771  0.40977658 0.38116874\n",
      " 0.9499372  0.97682739 0.94121184 0.70362405 0.5365352  0.34064975\n",
      " 0.91897432 0.19647676 0.17489361 0.44945027 0.32389241 0.12802767\n",
      " 0.68184948 0.71033373 0.7570008  0.76386406 0.43023942 0.68588304\n",
      " 0.02384607 0.38967086 0.397185   0.32928913 0.29059043 0.09273677\n",
      " 0.3581365  0.36102646 0.1454081  0.8549591  0.62787215 0.37168371\n",
      " 0.35858265 0.69120876 0.87291607 0.7114066  0.25337376 0.35783585\n",
      " 0.31766086 0.38076631 0.49981488 0.14248758 0.10109332 0.49005453\n",
      " 0.02763172 0.23295564 0.23931266 0.26253404 0.13170861 0.8881472\n",
      " 0.73950443 0.74250614 0.05406044 0.07372072 0.18072408 0.21136252\n",
      " 0.64529885 0.76763304 0.89839066 0.66765522 0.42005833 0.56175529\n",
      " 0.61853651 0.14890116 0.8011703  0.79452185 0.84181272 0.64810124\n",
      " 0.92941525 0.71088773 0.42276151 0.02641427 0.53593852 0.55058157\n",
      " 0.1477296  0.75673046 0.91859087 0.70364767 0.39142877 0.59851202\n",
      " 0.61306727 0.42606165 0.24575067 0.699173   0.98755754 0.95683271\n"
     ]
    },
    {
     "name": "stdout",
     "output_type": "stream",
     "text": [
      " 0.47580052 0.85115161 0.20455176 0.42364493]\n"
     ]
    }
   ],
   "source": [
    "X_test = np.array(df2)\n",
    "\n",
    "x_0 = np.ones(X_test.shape[0])\n",
    "x_0 = x_0[np.newaxis, :].T # Транспонирование numpy не работает для 1-D массивов => приходится выкручиваться!\n",
    "X_test = np.hstack((x_0, X_test)) # Добавляем к матрице X_test единичный стобец на первое место\n",
    "\n",
    "ans = np.dot(X_test, W)\n",
    "\n",
    "print(ans.shape)\n",
    "print(ans)\n",
    "\n",
    "t = pd.DataFrame(ans)"
   ]
  },
  {
   "cell_type": "code",
   "execution_count": 22,
   "metadata": {},
   "outputs": [
    {
     "data": {
      "text/html": [
       "<div>\n",
       "<style scoped>\n",
       "    .dataframe tbody tr th:only-of-type {\n",
       "        vertical-align: middle;\n",
       "    }\n",
       "\n",
       "    .dataframe tbody tr th {\n",
       "        vertical-align: top;\n",
       "    }\n",
       "\n",
       "    .dataframe thead th {\n",
       "        text-align: right;\n",
       "    }\n",
       "</style>\n",
       "<table border=\"1\" class=\"dataframe\">\n",
       "  <thead>\n",
       "    <tr style=\"text-align: right;\">\n",
       "      <th></th>\n",
       "      <th>0</th>\n",
       "    </tr>\n",
       "  </thead>\n",
       "  <tbody>\n",
       "    <tr>\n",
       "      <th>0</th>\n",
       "      <td>0.258228</td>\n",
       "    </tr>\n",
       "    <tr>\n",
       "      <th>1</th>\n",
       "      <td>0.241187</td>\n",
       "    </tr>\n",
       "    <tr>\n",
       "      <th>2</th>\n",
       "      <td>0.296651</td>\n",
       "    </tr>\n",
       "    <tr>\n",
       "      <th>3</th>\n",
       "      <td>0.954577</td>\n",
       "    </tr>\n",
       "    <tr>\n",
       "      <th>4</th>\n",
       "      <td>0.023343</td>\n",
       "    </tr>\n",
       "    <tr>\n",
       "      <th>5</th>\n",
       "      <td>0.367515</td>\n",
       "    </tr>\n",
       "    <tr>\n",
       "      <th>6</th>\n",
       "      <td>0.197078</td>\n",
       "    </tr>\n",
       "    <tr>\n",
       "      <th>7</th>\n",
       "      <td>0.777529</td>\n",
       "    </tr>\n",
       "    <tr>\n",
       "      <th>8</th>\n",
       "      <td>0.906861</td>\n",
       "    </tr>\n",
       "    <tr>\n",
       "      <th>9</th>\n",
       "      <td>0.883593</td>\n",
       "    </tr>\n",
       "  </tbody>\n",
       "</table>\n",
       "</div>"
      ],
      "text/plain": [
       "          0\n",
       "0  0.258228\n",
       "1  0.241187\n",
       "2  0.296651\n",
       "3  0.954577\n",
       "4  0.023343\n",
       "5  0.367515\n",
       "6  0.197078\n",
       "7  0.777529\n",
       "8  0.906861\n",
       "9  0.883593"
      ]
     },
     "execution_count": 22,
     "metadata": {},
     "output_type": "execute_result"
    }
   ],
   "source": [
    "t.head(10)"
   ]
  },
  {
   "cell_type": "code",
   "execution_count": 67,
   "metadata": {},
   "outputs": [],
   "source": [
    "t.to_csv(\"answer.csv\", index = False) # index = False !!!!!!!!!!!!!!!!!!!!!!"
   ]
  },
  {
   "cell_type": "markdown",
   "metadata": {},
   "source": [
    "### Ура!!!! Решение верно!\n",
    "<img src=\"images/povorot.jpg\" alt=\"\" style=\"width: 600px;\"/>"
   ]
  },
  {
   "cell_type": "markdown",
   "metadata": {},
   "source": [
    "### А если бы не прокатило?\n",
    "<img src=\"images/bred.jpg\" alt=\"\" style=\"width: 300px;\"/>\n",
    "\n",
    "### Решим эту же задачу градиентным спуском"
   ]
  },
  {
   "cell_type": "code",
   "execution_count": 25,
   "metadata": {},
   "outputs": [
    {
     "name": "stdout",
     "output_type": "stream",
     "text": [
      "(101,) -0.016359739081060327\n",
      "[ 0.06955389 -0.01936087  0.09069454  0.21326684 -0.03278803 -0.03278573\n",
      "  0.22113403  0.10746236 -0.06573956  0.0759736  -0.06489146 -0.06521521\n",
      "  0.03388149 -0.26791282 -0.24153681 -0.078736   -0.14182472  0.04400343\n",
      " -0.1271488  -0.19776207  0.20523188 -0.03161501  0.00945584 -0.19950465\n",
      " -0.07622883  0.01553227 -0.16117134  0.05260825 -0.08410624 -0.04084529\n",
      " -0.08425578  0.25937083 -0.00188999 -0.14810915  0.11517933 -0.1709523\n",
      "  0.02924675 -0.2744087  -0.18598325  0.02756609  0.103406    0.02399636\n",
      " -0.016194   -0.04216295 -0.20703449 -0.10079835 -0.06450233  0.14802672\n",
      "  0.04811618 -0.246875    0.04538083 -0.0539223  -0.09478804  0.08565181\n",
      "  0.14436881  0.1304053  -0.11751396 -0.04329839  0.04638616  0.13660364\n",
      " -0.06709781 -0.02599746 -0.15491788 -0.16750243  0.11377637  0.18991159\n",
      " -0.01008343  0.14052271  0.05063917 -0.09033483  0.05060551  0.2153682\n",
      " -0.00501665  0.21909393 -0.36683769  0.11508937  0.01218903 -0.0418694\n",
      "  0.01284908 -0.27831532 -0.03076022  0.05000576  0.20694656 -0.07257235\n",
      " -0.11321175 -0.07026004  0.12818194  0.04603436 -0.07418127  0.07187182\n",
      "  0.01359358  0.13563743 -0.0983071  -0.04588188 -0.05490612 -0.20493308\n",
      "  0.04146513  0.03655505  0.00071603 -0.03284877 -0.19819155]\n"
     ]
    }
   ],
   "source": [
    "w = np.sqrt(2 / 102) * np.random.normal(loc = 0.0, scale = 1.0, size = X_train.shape[1]) # Инициализация весов значениями \n",
    "# распределенными по нормальному закону с матожиданием 0 и дисперсией 1. Множитель (2 / (out_size + in_size))**(0.5) для \n",
    "# лучшего старта обучения\n",
    "\n",
    "print(w.shape, w.mean())\n",
    "print(w)"
   ]
  },
  {
   "cell_type": "code",
   "execution_count": 26,
   "metadata": {},
   "outputs": [],
   "source": [
    "# Градиент функции потерь\n",
    "def grad_L(x, y, w):\n",
    "    ans = np.full(10, 2)\n",
    "    ans = ans[np.newaxis, :].T\n",
    "    return 2 * np.full(101, np.dot(x.T, w) - y)*x"
   ]
  },
  {
   "cell_type": "code",
   "execution_count": 27,
   "metadata": {},
   "outputs": [
    {
     "data": {
      "application/vnd.jupyter.widget-view+json": {
       "model_id": "698ee458159e481393f8a0a7e662201b",
       "version_major": 2,
       "version_minor": 0
      },
      "text/plain": [
       "HBox(children=(IntProgress(value=0, description='Progress bar', max=500, style=ProgressStyle(description_width…"
      ]
     },
     "metadata": {},
     "output_type": "display_data"
    },
    {
     "name": "stdout",
     "output_type": "stream",
     "text": [
      "\n",
      "Wall time: 2min 59s\n"
     ]
    }
   ],
   "source": [
    "%%time\n",
    "\n",
    "loss = []\n",
    "\n",
    "for epoch in tqdm.tqdm_notebook(range(500), desc = 'Progress bar'):\n",
    "    for i in range(X_train.shape[0]):\n",
    "        grad = grad_L(X_train[i], Y_train[i], w)\n",
    "        w -= 0.01 * grad\n",
    "        if i % 100 == 0:\n",
    "            loss.append(L(X_train[i], Y_train[i], w))"
   ]
  },
  {
   "cell_type": "code",
   "execution_count": 28,
   "metadata": {},
   "outputs": [
    {
     "data": {
      "text/plain": [
       "[<matplotlib.lines.Line2D at 0x2b57d143630>]"
      ]
     },
     "execution_count": 28,
     "metadata": {},
     "output_type": "execute_result"
    },
    {
     "data": {
      "image/png": "[encoded data removed]",
      "text/plain": [
       "<Figure size 432x288 with 1 Axes>"
      ]
     },
     "metadata": {
      "needs_background": "light"
     },
     "output_type": "display_data"
    }
   ],
   "source": [
    "plt.plot(loss)"
   ]
  },
  {
   "cell_type": "code",
   "execution_count": 29,
   "metadata": {},
   "outputs": [
    {
     "name": "stdout",
     "output_type": "stream",
     "text": [
      "[5.09629714e-06 9.96795458e-01 1.03502383e+00 1.06700370e+00\n",
      " 1.00160465e+00 9.99306886e-01 1.08345034e+00 1.03419349e+00\n",
      " 9.91525816e-01 1.00845220e+00 9.97212147e-01 9.83895188e-01\n",
      " 1.00559120e+00 9.25448359e-01 9.16244845e-01 9.83329791e-01\n",
      " 9.63725608e-01 1.01289610e+00 9.67754963e-01 9.42568425e-01\n",
      " 1.08196623e+00 9.95047720e-01 1.00637440e+00 9.44670423e-01\n",
      " 9.78406238e-01 1.01054551e+00 9.67520114e-01 1.03936698e+00\n",
      " 9.79036967e-01 9.79475301e-01 9.86256890e-01 1.09701769e+00\n",
      " 1.00273998e+00 9.58291548e-01 1.03627559e+00 9.52591918e-01\n",
      " 1.01746145e+00 9.19375018e-01 9.35579743e-01 1.01731546e+00\n",
      " 1.03875497e+00 1.00559044e+00 9.89221092e-01 9.88736754e-01\n",
      " 9.31103516e-01 9.61320482e-01 9.90501757e-01 1.06392072e+00\n",
      " 1.02938283e+00 9.14570310e-01 1.01381553e+00 9.85465322e-01\n",
      " 9.77969146e-01 1.04446556e+00 1.04442799e+00 1.05571134e+00\n",
      " 9.61537014e-01 9.90408562e-01 1.02408144e+00 1.05840493e+00\n",
      " 9.76550974e-01 9.95607492e-01 9.49497866e-01 9.60719297e-01\n",
      " 1.04941361e+00 1.06673770e+00 1.01002749e+00 1.06118366e+00\n",
      " 1.01969245e+00 9.74622948e-01 1.02015856e+00 1.05929711e+00\n",
      " 1.00059066e+00 1.07743383e+00 8.72093899e-01 1.04650498e+00\n",
      " 1.01060693e+00 9.97597141e-01 1.00958052e+00 9.20803553e-01\n",
      " 1.00400118e+00 1.01895001e+00 1.07226476e+00 9.78849532e-01\n",
      " 9.60943214e-01 9.73328103e-01 1.06329951e+00 1.02321040e+00\n",
      " 9.99592170e-01 1.03212108e+00 9.97076121e-01 1.05954409e+00\n",
      " 9.67391418e-01 9.86681710e-01 9.96812947e-01 9.40574436e-01\n",
      " 1.01694805e+00 1.01659819e+00 9.99703892e-01 9.75273726e-01\n",
      " 9.39675141e-01]\n"
     ]
    }
   ],
   "source": [
    "print(w)"
   ]
  },
  {
   "cell_type": "code",
   "execution_count": 30,
   "metadata": {},
   "outputs": [
    {
     "data": {
      "text/plain": [
       "1.9889731262223555e-06"
      ]
     },
     "execution_count": 30,
     "metadata": {},
     "output_type": "execute_result"
    }
   ],
   "source": [
    "# Посчитаем среднюю ошибку\n",
    "l = []\n",
    "for i in range(X.shape[0]):\n",
    "    l.append(L(X_train[i], Y_train[i], w))\n",
    "    \n",
    "np.array(l).mean()"
   ]
  }
 ],
 "metadata": {
  "kernelspec": {
   "display_name": "Python 3 (ipykernel)",
   "language": "python",
   "name": "python3"
  },
  "language_info": {
   "codemirror_mode": {
    "name": "ipython",
    "version": 3
   },
   "file_extension": ".py",
   "mimetype": "text/x-python",
   "name": "python",
   "nbconvert_exporter": "python",
   "pygments_lexer": "ipython3",
   "version": "3.8.10"
  }
 },
 "nbformat": 4,
 "nbformat_minor": 2
}
