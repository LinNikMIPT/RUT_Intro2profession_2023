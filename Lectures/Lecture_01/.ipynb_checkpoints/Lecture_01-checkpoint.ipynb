{
 "cells": [
  {
   "cell_type": "markdown",
   "metadata": {},
   "source": [
    "# Введение в специальность\n",
    "\n",
    "### Линдеманн Никита\n",
    "\n",
    "RUT (MIIT), autumn 2023"
   ]
  },
  {
   "cell_type": "markdown",
   "metadata": {},
   "source": [
    "<img src=\"images/Intro.jpg\" align=\"center\" style=\"height: 400px;\"/>\n",
    "\n",
    "## Содержание курса\n",
    "\n",
    "1. Вводная лекция о машинном обучении.\n",
    "2. Основные инструменты для Data Scientist: Python3, Jupyter Notebook, Google Colaboratory, Kaggle, GitHub, Stack Overflow.\n",
    "3. Введение в Python: стандартные типы данных, условия и циклы, работа с файлами, функции, ООП.\n",
    "4. Виды задач машинного обучения: регрессия, классификация, кластеризация, обучение с подкреплением.\n",
    "5. Обучаемость и адаптивные алгоритмы, биологический и искусственный нейрон.\n",
    "6. Задача регрессии и метрики качества: средняя квадратичная и средняя абсолютная ошибки.\n",
    "7. Задача классификации и метрики качества: accuracy, precision, recall, F-мера, матрица ошибок.\n",
    "8. Линейная регрессия, метод наименьших квадратов. Аналитическое решение задачи множественной линейной регрессии. Логистическая регрессия.\n",
    "9. Линейность одного и нелинейность совокупности нейронов. Обучение перцептрона, сходимость алгоритма обучения перцептрона при линейно разделимой обучающей выборке.\n",
    "10. Модель многослойного перцептрона. Функции активации и функции потерь. Метод обратного распространения ошибки. Градиентный спуск. Проблема переобучения, методы регуляризации.\n",
    "11. Нейронные сети и глубокое обучение.\n",
    "12. Реализация полносвязной нейронной сети для решения задачи регрессии.\n",
    "13. Реализация нейронной сети для решения задачи бинарной классификации. ROC  и AUC кривые."
   ]
  },
  {
   "cell_type": "markdown",
   "metadata": {},
   "source": [
    "### Репозиторий курса с семинарскими ноутбуками и ДЗ\n",
    "- TO_DO\n",
    "\n",
    "### Контакты\n",
    "- *Линдеманн Никита: [Telegram](https://t.me/NikLinMIPT)* (https://t.me/NikLinMIPT), lindemann-nikita@rambler.ru"
   ]
  },
  {
   "cell_type": "markdown",
   "metadata": {},
   "source": [
    "____________\n",
    "\n",
    "____________\n",
    "\n",
    "____________"
   ]
  },
  {
   "cell_type": "markdown",
   "metadata": {},
   "source": [
    "## Занятие №1. Введение в Python\n",
    "\n",
    "<img src=\"images/python-logo.png\" align=\"right\" style=\"height: 200px;\"/>\n",
    "\n",
    "### План на сегодня:\n",
    "\n",
    "1. Арифметика в Python\n",
    "2. Основные типы данных и работа с ними\n",
    "3. Условия и циклы\n",
    "4. Функции\n",
    "5. ООП"
   ]
  },
  {
   "cell_type": "markdown",
   "metadata": {},
   "source": [
    "### Операции с числами"
   ]
  },
  {
   "cell_type": "code",
   "execution_count": null,
   "metadata": {},
   "outputs": [],
   "source": [
    "# Самое обычное сложение\n",
    "2 + 3 "
   ]
  },
  {
   "cell_type": "code",
   "execution_count": null,
   "metadata": {},
   "outputs": [],
   "source": [
    "# Самое обычное умножение\n",
    "2 * 3 "
   ]
  },
  {
   "cell_type": "code",
   "execution_count": null,
   "metadata": {},
   "outputs": [],
   "source": [
    "# Возведение в степень\n",
    "2**3 "
   ]
  },
  {
   "cell_type": "code",
   "execution_count": 1,
   "metadata": {},
   "outputs": [
    {
     "data": {
      "text/plain": [
       "6"
      ]
     },
     "execution_count": 1,
     "metadata": {},
     "output_type": "execute_result"
    }
   ],
   "source": [
    "# Операции выполяются по всем законам математики\n",
    "2 + 2 * 2 "
   ]
  },
  {
   "cell_type": "code",
   "execution_count": 5,
   "metadata": {},
   "outputs": [
    {
     "data": {
      "text/plain": [
       "8"
      ]
     },
     "execution_count": 5,
     "metadata": {},
     "output_type": "execute_result"
    }
   ],
   "source": [
    "# Так же можем расставлять скобки\n",
    "(2 + 2) * 2 "
   ]
  },
  {
   "cell_type": "code",
   "execution_count": 2,
   "metadata": {},
   "outputs": [
    {
     "data": {
      "text/plain": [
       "2.5"
      ]
     },
     "execution_count": 2,
     "metadata": {},
     "output_type": "execute_result"
    }
   ],
   "source": [
    "# Самое обычное деление\n",
    "5/2 "
   ]
  },
  {
   "cell_type": "code",
   "execution_count": 3,
   "metadata": {},
   "outputs": [
    {
     "data": {
      "text/plain": [
       "2"
      ]
     },
     "execution_count": 3,
     "metadata": {},
     "output_type": "execute_result"
    }
   ],
   "source": [
    "# Целочисленное деление\n",
    "5//2 "
   ]
  },
  {
   "cell_type": "code",
   "execution_count": 4,
   "metadata": {},
   "outputs": [
    {
     "data": {
      "text/plain": [
       "1"
      ]
     },
     "execution_count": 4,
     "metadata": {},
     "output_type": "execute_result"
    }
   ],
   "source": [
    "# Взятие остатка от деления\n",
    "5%2 "
   ]
  },
  {
   "cell_type": "markdown",
   "metadata": {},
   "source": [
    "Взятие остатка от деления удобно использовать для вычисления последней цифры числа."
   ]
  },
  {
   "cell_type": "code",
   "execution_count": null,
   "metadata": {},
   "outputs": [],
   "source": [
    "# Взятие числа с противоположным знаком\n",
    "-15 "
   ]
  },
  {
   "cell_type": "markdown",
   "metadata": {},
   "source": [
    "Все те же операции работают для вещественных чисел (чисел с плавающей точкой). Однако в работе с вещественными числами может происходить потеря точности. Например:"
   ]
  },
  {
   "cell_type": "code",
   "execution_count": 6,
   "metadata": {},
   "outputs": [
    {
     "data": {
      "text/plain": [
       "0.3333333333333333"
      ]
     },
     "execution_count": 6,
     "metadata": {},
     "output_type": "execute_result"
    }
   ],
   "source": [
    "1/3"
   ]
  },
  {
   "cell_type": "code",
   "execution_count": 6,
   "metadata": {},
   "outputs": [
    {
     "data": {
      "text/plain": [
       "0.8999999999999999"
      ]
     },
     "execution_count": 6,
     "metadata": {},
     "output_type": "execute_result"
    }
   ],
   "source": [
    "0.3 + 0.3 + 0.3 # = 0.9"
   ]
  },
  {
   "cell_type": "code",
   "execution_count": 9,
   "metadata": {},
   "outputs": [
    {
     "data": {
      "text/plain": [
       "2.0"
      ]
     },
     "execution_count": 9,
     "metadata": {},
     "output_type": "execute_result"
    }
   ],
   "source": [
    "# Возведение в дробную степень:\n",
    "4 ** 0.5"
   ]
  },
  {
   "cell_type": "markdown",
   "metadata": {},
   "source": [
    "Часто удобно записывать числа с плавающей точкой в виде:"
   ]
  },
  {
   "cell_type": "code",
   "execution_count": 10,
   "metadata": {},
   "outputs": [
    {
     "data": {
      "text/plain": [
       "0.01"
      ]
     },
     "execution_count": 10,
     "metadata": {},
     "output_type": "execute_result"
    }
   ],
   "source": [
    "# 1 умножается на 10 в степени (-2)\n",
    "1e-2"
   ]
  },
  {
   "cell_type": "code",
   "execution_count": 11,
   "metadata": {},
   "outputs": [
    {
     "data": {
      "text/plain": [
       "5500.0"
      ]
     },
     "execution_count": 11,
     "metadata": {},
     "output_type": "execute_result"
    }
   ],
   "source": [
    "# 5.5 умножается на 10 в степени 3\n",
    "5.5e3 "
   ]
  },
  {
   "cell_type": "markdown",
   "metadata": {},
   "source": [
    "### Типы данных\n",
    "\n",
    "Стандартные типы данных: \n",
    "- int (целочисленный)\n",
    "- float (с плавающей точкой)\n",
    "- bool (логические)\n",
    "- str (строковый) \n",
    "\n",
    "Есть функции преобразования объектов в типа float, int, str:"
   ]
  },
  {
   "cell_type": "code",
   "execution_count": 15,
   "metadata": {},
   "outputs": [
    {
     "data": {
      "text/plain": [
       "5.0"
      ]
     },
     "execution_count": 15,
     "metadata": {},
     "output_type": "execute_result"
    }
   ],
   "source": [
    "float(5)"
   ]
  },
  {
   "cell_type": "code",
   "execution_count": 8,
   "metadata": {},
   "outputs": [
    {
     "data": {
      "text/plain": [
       "2"
      ]
     },
     "execution_count": 8,
     "metadata": {},
     "output_type": "execute_result"
    }
   ],
   "source": [
    "# Просто отбрасывает дробную часть, поэтому округление в меньшую сторону! \n",
    "int(2.789) "
   ]
  },
  {
   "cell_type": "code",
   "execution_count": 11,
   "metadata": {},
   "outputs": [
    {
     "data": {
      "text/plain": [
       "2.79"
      ]
     },
     "execution_count": 11,
     "metadata": {},
     "output_type": "execute_result"
    }
   ],
   "source": [
    "# Математическое округление \n",
    "round(2.789, 2)"
   ]
  },
  {
   "cell_type": "code",
   "execution_count": 48,
   "metadata": {},
   "outputs": [
    {
     "data": {
      "text/plain": [
       "5"
      ]
     },
     "execution_count": 48,
     "metadata": {},
     "output_type": "execute_result"
    }
   ],
   "source": [
    "int('5')\n",
    "# Неочевидно, в чем разница, но мы преобразовали строку в число, \n",
    "# с которым теперь можем производить все операции, определенные для целых чисел"
   ]
  },
  {
   "cell_type": "code",
   "execution_count": 50,
   "metadata": {},
   "outputs": [
    {
     "data": {
      "text/plain": [
       "'5'"
      ]
     },
     "execution_count": 50,
     "metadata": {},
     "output_type": "execute_result"
    }
   ],
   "source": [
    "# А тперь обратно\n",
    "str(5) "
   ]
  },
  {
   "cell_type": "code",
   "execution_count": 52,
   "metadata": {},
   "outputs": [
    {
     "data": {
      "text/plain": [
       "567.0"
      ]
     },
     "execution_count": 52,
     "metadata": {},
     "output_type": "execute_result"
    }
   ],
   "source": [
    "float('567')"
   ]
  },
  {
   "cell_type": "markdown",
   "metadata": {},
   "source": [
    "Чтобы узнать тип объекта, можно использовать функцию type()"
   ]
  },
  {
   "cell_type": "code",
   "execution_count": 13,
   "metadata": {},
   "outputs": [
    {
     "data": {
      "text/plain": [
       "int"
      ]
     },
     "execution_count": 13,
     "metadata": {},
     "output_type": "execute_result"
    }
   ],
   "source": [
    "type(2)"
   ]
  },
  {
   "cell_type": "code",
   "execution_count": 54,
   "metadata": {},
   "outputs": [
    {
     "data": {
      "text/plain": [
       "float"
      ]
     },
     "execution_count": 54,
     "metadata": {},
     "output_type": "execute_result"
    }
   ],
   "source": [
    "type(2.5)"
   ]
  },
  {
   "cell_type": "code",
   "execution_count": 55,
   "metadata": {},
   "outputs": [
    {
     "data": {
      "text/plain": [
       "str"
      ]
     },
     "execution_count": 55,
     "metadata": {},
     "output_type": "execute_result"
    }
   ],
   "source": [
    "type(\"blablabla\")"
   ]
  },
  {
   "cell_type": "markdown",
   "metadata": {},
   "source": [
    "### Переменные\n",
    "\n",
    "Для более удобной работы с объектами существуют переменные: по сути пары имя-значение. \n",
    "Перменные нужны для \"запоминания\" нужных для дальнейшей работы объектов.\n",
    "Чтобы задать имя переменной используется оператор присваивания."
   ]
  },
  {
   "cell_type": "code",
   "execution_count": 56,
   "metadata": {},
   "outputs": [],
   "source": [
    "a = 2\n",
    "b = 3.5\n",
    "string = \"Python for ML\""
   ]
  },
  {
   "cell_type": "code",
   "execution_count": 57,
   "metadata": {},
   "outputs": [
    {
     "data": {
      "text/plain": [
       "3.75"
      ]
     },
     "execution_count": 57,
     "metadata": {},
     "output_type": "execute_result"
    }
   ],
   "source": [
    "# С переменными работают все перечисленные выше операции\n",
    "c = a + b/2 \n",
    "c"
   ]
  },
  {
   "cell_type": "code",
   "execution_count": 58,
   "metadata": {},
   "outputs": [
    {
     "data": {
      "text/plain": [
       "int"
      ]
     },
     "execution_count": 58,
     "metadata": {},
     "output_type": "execute_result"
    }
   ],
   "source": [
    "# Можем узнать тип переменной\n",
    "type(a)"
   ]
  },
  {
   "cell_type": "code",
   "execution_count": 59,
   "metadata": {},
   "outputs": [
    {
     "data": {
      "text/plain": [
       "float"
      ]
     },
     "execution_count": 59,
     "metadata": {},
     "output_type": "execute_result"
    }
   ],
   "source": [
    "type(b)"
   ]
  },
  {
   "cell_type": "code",
   "execution_count": 60,
   "metadata": {},
   "outputs": [
    {
     "data": {
      "text/plain": [
       "float"
      ]
     },
     "execution_count": 60,
     "metadata": {},
     "output_type": "execute_result"
    }
   ],
   "source": [
    "type(c)"
   ]
  },
  {
   "cell_type": "code",
   "execution_count": 61,
   "metadata": {},
   "outputs": [
    {
     "data": {
      "text/plain": [
       "str"
      ]
     },
     "execution_count": 61,
     "metadata": {},
     "output_type": "execute_result"
    }
   ],
   "source": [
    "type(string)"
   ]
  },
  {
   "cell_type": "markdown",
   "metadata": {},
   "source": [
    "Часто необходимо получать данные непосредственно от пользователя, т.е. считывать с клавиатуры. Для этого используем input()"
   ]
  },
  {
   "cell_type": "code",
   "execution_count": 62,
   "metadata": {},
   "outputs": [
    {
     "name": "stdout",
     "output_type": "stream",
     "text": [
      "\n"
     ]
    },
    {
     "data": {
      "text/plain": [
       "''"
      ]
     },
     "execution_count": 62,
     "metadata": {},
     "output_type": "execute_result"
    }
   ],
   "source": [
    "input()"
   ]
  },
  {
   "cell_type": "code",
   "execution_count": 1,
   "metadata": {},
   "outputs": [
    {
     "name": "stdout",
     "output_type": "stream",
     "text": [
      "Введите данные 3\n"
     ]
    },
    {
     "data": {
      "text/plain": [
       "'3'"
      ]
     },
     "execution_count": 1,
     "metadata": {},
     "output_type": "execute_result"
    }
   ],
   "source": [
    "input(\"Введите данные \")"
   ]
  },
  {
   "cell_type": "code",
   "execution_count": 2,
   "metadata": {},
   "outputs": [
    {
     "name": "stdout",
     "output_type": "stream",
     "text": [
      "Введите первое число 4\n",
      "Введите второе число 5\n"
     ]
    },
    {
     "data": {
      "text/plain": [
       "'45'"
      ]
     },
     "execution_count": 2,
     "metadata": {},
     "output_type": "execute_result"
    }
   ],
   "source": [
    "a = input(\"Введите первое число \") # введем 4\n",
    "b = input('Введите второе число ') # введем 5\n",
    "a + b"
   ]
  },
  {
   "cell_type": "markdown",
   "metadata": {},
   "source": [
    "Почему получаем 45, хотя 4 + 5 = 9? \n",
    "Дело в том, что мы считали строки"
   ]
  },
  {
   "cell_type": "code",
   "execution_count": 3,
   "metadata": {},
   "outputs": [
    {
     "data": {
      "text/plain": [
       "str"
      ]
     },
     "execution_count": 3,
     "metadata": {},
     "output_type": "execute_result"
    }
   ],
   "source": [
    "type(a)"
   ]
  },
  {
   "cell_type": "markdown",
   "metadata": {},
   "source": [
    "Поэтому интерпритатор просто прибавил одну строку к другой: '4' + '5' = '45'\n",
    "\n",
    "Чтобы получить корректную операцию сложения двух чисел, необходимо перевести переменные в числовой формат\n"
   ]
  },
  {
   "cell_type": "code",
   "execution_count": 4,
   "metadata": {},
   "outputs": [
    {
     "data": {
      "text/plain": [
       "9.0"
      ]
     },
     "execution_count": 4,
     "metadata": {},
     "output_type": "execute_result"
    }
   ],
   "source": [
    "a = float(a)\n",
    "b = float(b)\n",
    "a + b"
   ]
  },
  {
   "cell_type": "markdown",
   "metadata": {},
   "source": [
    "Кроме ввода, конечно же, необходим вывод данных. Для этого существует функция print(). В нее можно подавать переменную, несколько переменных, логическое или математическое выражение."
   ]
  },
  {
   "cell_type": "code",
   "execution_count": 5,
   "metadata": {},
   "outputs": [
    {
     "name": "stdout",
     "output_type": "stream",
     "text": [
      "4.0\n"
     ]
    }
   ],
   "source": [
    "print(a)"
   ]
  },
  {
   "cell_type": "code",
   "execution_count": 6,
   "metadata": {},
   "outputs": [
    {
     "name": "stdout",
     "output_type": "stream",
     "text": [
      "-1.0\n"
     ]
    }
   ],
   "source": [
    "print(a - b)"
   ]
  },
  {
   "cell_type": "code",
   "execution_count": null,
   "metadata": {},
   "outputs": [],
   "source": [
    "# Что получим?\n",
    "print(int(a/b))"
   ]
  },
  {
   "cell_type": "code",
   "execution_count": 1,
   "metadata": {},
   "outputs": [
    {
     "name": "stdout",
     "output_type": "stream",
     "text": [
      "Enter your name: Karina\n",
      "Hello, Karina!\n"
     ]
    }
   ],
   "source": [
    "name = input('Enter your name: ')\n",
    "print(\"Hello, \" + name + '!')"
   ]
  },
  {
   "cell_type": "code",
   "execution_count": 3,
   "metadata": {},
   "outputs": [
    {
     "name": "stdout",
     "output_type": "stream",
     "text": [
      "Enter the first num \"a\" 2\n",
      "Enter the second num \"b\" 5\n",
      "a + b = 7\n"
     ]
    }
   ],
   "source": [
    "a = input('Enter the first num \"a\": ')\n",
    "b = input('Enter the second num \"b\": ')"
   ]
  },
  {
   "cell_type": "code",
   "execution_count": 8,
   "metadata": {},
   "outputs": [
    {
     "name": "stdout",
     "output_type": "stream",
     "text": [
      "a + b = 7\n",
      "a * b = 7\n",
      "a - b = -3\n",
      "a in power of b = 32\n"
     ]
    }
   ],
   "source": [
    "print('a + b =',  int(a) + int(b))\n",
    "print('a * b =', int(a) + int(b))\n",
    "\n",
    "#Зачем каждый раз заново делать приведение типов? Да не за чем!\n",
    "a = int(a)\n",
    "b = int(b)\n",
    "\n",
    "print('a - b =', a - b)\n",
    "print('a in power of b =', a**b)"
   ]
  },
  {
   "cell_type": "markdown",
   "metadata": {},
   "source": [
    "### Логические значения\n",
    "\n",
    "В Pyton существуют 2 логических значения:   \n",
    "   * False (0)     \n",
    "   * True (1)   \n",
    "   \n",
    "И три основных операции с ними:    \n",
    "   * x or y (истинно, если истинно хотя бы одно)   \n",
    "   * x and y (истинно, если истинны оба)   \n",
    "   * not x (инверсирует значение: ложь на истину, истину на ложь)   \n",
    "   \n",
    "Например: если x = 1, y = 0, то \n",
    "\n",
    "    (x or y) = 1   \n",
    "    (x and y) = 0   \n",
    "    (not x) = 0   \n",
    "    (not y) = 1   "
   ]
  },
  {
   "cell_type": "markdown",
   "metadata": {},
   "source": [
    "### Операции сравнения\n",
    "\n",
    "Существует несколько операций сравнения:  \n",
    "\n",
    "    > (больше)   \n",
    "    >= (больше или равно)  \n",
    "    < (меньше)  \n",
    "    <= (меньше или равно)   \n",
    "    == (равенство, не путать с оператором присваивания!)   \n",
    "    != (не равно)   "
   ]
  },
  {
   "cell_type": "code",
   "execution_count": 1,
   "metadata": {},
   "outputs": [
    {
     "data": {
      "text/plain": [
       "True"
      ]
     },
     "execution_count": 1,
     "metadata": {},
     "output_type": "execute_result"
    }
   ],
   "source": [
    "1 < 5"
   ]
  },
  {
   "cell_type": "code",
   "execution_count": 2,
   "metadata": {},
   "outputs": [
    {
     "data": {
      "text/plain": [
       "False"
      ]
     },
     "execution_count": 2,
     "metadata": {},
     "output_type": "execute_result"
    }
   ],
   "source": [
    "25 >= 30"
   ]
  },
  {
   "cell_type": "code",
   "execution_count": 3,
   "metadata": {},
   "outputs": [
    {
     "data": {
      "text/plain": [
       "True"
      ]
     },
     "execution_count": 3,
     "metadata": {},
     "output_type": "execute_result"
    }
   ],
   "source": [
    "15 == 11 + 4"
   ]
  },
  {
   "cell_type": "code",
   "execution_count": 4,
   "metadata": {},
   "outputs": [
    {
     "data": {
      "text/plain": [
       "False"
      ]
     },
     "execution_count": 4,
     "metadata": {},
     "output_type": "execute_result"
    }
   ],
   "source": [
    "21*(12-13) <= (-3)**3"
   ]
  },
  {
   "cell_type": "markdown",
   "metadata": {},
   "source": [
    "#### Задание: \n",
    "\n",
    "1. написать программу, которая выводит, положительное ли число (True, если положительное)\n",
    "2. написать программу, проверяющую, делится ли число на 5 (True, если делится)"
   ]
  },
  {
   "cell_type": "code",
   "execution_count": 2,
   "metadata": {},
   "outputs": [],
   "source": [
    "# 1.\n"
   ]
  },
  {
   "cell_type": "code",
   "execution_count": 3,
   "metadata": {},
   "outputs": [],
   "source": [
    "# 2.\n"
   ]
  },
  {
   "cell_type": "markdown",
   "metadata": {},
   "source": [
    "Рассмотрим, в каком порядке выполняются логические операции."
   ]
  },
  {
   "cell_type": "code",
   "execution_count": 12,
   "metadata": {},
   "outputs": [
    {
     "data": {
      "text/plain": [
       "True"
      ]
     },
     "execution_count": 12,
     "metadata": {},
     "output_type": "execute_result"
    }
   ],
   "source": [
    "x1, x2, x3 = False, True, False\n",
    "not x1 or x2 and x3"
   ]
  },
  {
   "cell_type": "markdown",
   "metadata": {},
   "source": [
    "Операция not имеет наиболее высокий приоритет, поэтому она вычисляется первой. Тогда наше выражение эквивалентно выражению:\n",
    "\n",
    "    True or x2 not x3\n",
    "Далее по приоритету стоит операция and. То есть \n",
    "\n",
    "    True or [True and False]\n",
    "Значение в скобках равно False. В итоге имеем: \n",
    "\n",
    "    True or False\n",
    "    True\n",
    "    \n",
    "        \n",
    "Для контроля порядка операций можно использовать скобки:"
   ]
  },
  {
   "cell_type": "code",
   "execution_count": 13,
   "metadata": {},
   "outputs": [
    {
     "data": {
      "text/plain": [
       "False"
      ]
     },
     "execution_count": 13,
     "metadata": {},
     "output_type": "execute_result"
    }
   ],
   "source": [
    "((not x1) or x2) and x3"
   ]
  },
  {
   "cell_type": "markdown",
   "metadata": {},
   "source": [
    "### Циклы и условия\n",
    "\n",
    "Во многих задачах необходимо выполнять различные действия в зависимости от каких-то условий.    \n",
    "Например, мы хотим указать, скольки разрядным является число, заданное пользователем (в случае одного разряда выводим \"однозначное\", двух - \"двузначное\" и т.д.). Осуществляется это с помощью условий\n",
    "\n",
    "    if, elif, else\n",
    "Для простоты будем считать, что число положительное и лежит в диапазоне (0, 10000) "
   ]
  },
  {
   "cell_type": "code",
   "execution_count": 15,
   "metadata": {},
   "outputs": [
    {
     "name": "stdout",
     "output_type": "stream",
     "text": [
      "10\n",
      "двузначное\n"
     ]
    }
   ],
   "source": [
    "n = int(input())\n",
    "if 0 < n < 10:\n",
    "    print(\"однозначное\")\n",
    "elif 10 <= n < 100:\n",
    "    print(\"двузначное\")\n",
    "elif 100 <= n < 1000:\n",
    "    print(\"трезначное\")\n",
    "else:\n",
    "    print(\"четырехзнаное\") "
   ]
  },
  {
   "cell_type": "markdown",
   "metadata": {},
   "source": [
    "Важно соблюдать отступы в соотвествующих блоках!\n",
    "\n",
    "#### Задание: \n",
    "* Написать программу, которая определяет наибольшее из двух чисел и выводит его. Числа считать с клавиатуры"
   ]
  },
  {
   "cell_type": "code",
   "execution_count": null,
   "metadata": {},
   "outputs": [],
   "source": []
  },
  {
   "cell_type": "markdown",
   "metadata": {},
   "source": [
    "### while"
   ]
  },
  {
   "cell_type": "markdown",
   "metadata": {},
   "source": [
    "Цикл while - это цикл с предусловием. \n",
    "\n",
    "        while <логическое условие>:\n",
    "            набор действий\n",
    "        \n",
    "Цикл выполняется, пока условие истинно."
   ]
  },
  {
   "cell_type": "markdown",
   "metadata": {},
   "source": [
    "Например, выведем все целые числа от 5 до 1"
   ]
  },
  {
   "cell_type": "code",
   "execution_count": 1,
   "metadata": {},
   "outputs": [
    {
     "name": "stdout",
     "output_type": "stream",
     "text": [
      "5 4 3 2 1 "
     ]
    }
   ],
   "source": [
    "a = 5\n",
    "while a > 0:\n",
    "    print(a, end=' ')\n",
    "    a -= 1"
   ]
  },
  {
   "cell_type": "markdown",
   "metadata": {},
   "source": [
    "или вывести все четные числа от 5 до 55"
   ]
  },
  {
   "cell_type": "code",
   "execution_count": 3,
   "metadata": {},
   "outputs": [
    {
     "name": "stdout",
     "output_type": "stream",
     "text": [
      "5 7 9 11 13 15 17 19 21 23 25 27 29 31 33 35 37 39 41 43 45 47 49 51 53 55 "
     ]
    }
   ],
   "source": [
    "a = 5\n",
    "while a <= 55:\n",
    "    print(a, end=' ')\n",
    "    a += 2"
   ]
  },
  {
   "cell_type": "markdown",
   "metadata": {},
   "source": [
    "И еще несколько примеров:"
   ]
  },
  {
   "cell_type": "code",
   "execution_count": 4,
   "metadata": {},
   "outputs": [
    {
     "name": "stdout",
     "output_type": "stream",
     "text": [
      "2\n",
      "56\n",
      "1595\n"
     ]
    }
   ],
   "source": [
    "# Вывести сумму целых чисел от a до b\n",
    "\n",
    "a = int(input())\n",
    "b = int(input())\n",
    "s = 0\n",
    "i = a\n",
    "\n",
    "while i <= b:\n",
    "    s += i\n",
    "    i += 1\n",
    "    \n",
    "print(s)"
   ]
  },
  {
   "cell_type": "code",
   "execution_count": 6,
   "metadata": {},
   "outputs": [
    {
     "name": "stdout",
     "output_type": "stream",
     "text": [
      "3\n",
      "1 2\n",
      "2\n",
      "5 3\n",
      "15\n",
      "2 5\n",
      "10\n"
     ]
    }
   ],
   "source": [
    "# вывести произведение n пар чисел\n",
    "\n",
    "i = 0\n",
    "n = int(input())\n",
    "\n",
    "while i < n:\n",
    "    a, b = input().split()  # split() разбивает строку на части по пробелам\n",
    "    a = int(a)\n",
    "    b = int(b)\n",
    "    print(a * b)\n",
    "    i += 1"
   ]
  },
  {
   "cell_type": "markdown",
   "metadata": {},
   "source": [
    "### операторы break и continue\n",
    "\n",
    "Оператор break досрочно завершает цикл.     \n",
    "Оператор continue переходит к следующей итерации цикла, пропуская текующую.   \n",
    "Например:"
   ]
  },
  {
   "cell_type": "code",
   "execution_count": 8,
   "metadata": {},
   "outputs": [
    {
     "name": "stdout",
     "output_type": "stream",
     "text": [
      "2 3\n",
      "6\n",
      "0 0\n"
     ]
    }
   ],
   "source": [
    "# Считаем и выводим сумму трех пар чисел. Если встречаются два нулевых числа, входим из цикла\n",
    "i = 0\n",
    "while i < 3:\n",
    "    a, b = input().split()\n",
    "    a = int(a)\n",
    "    b = int(b)\n",
    "    if (a == 0) and (b == 0):\n",
    "        break # досрочно завершаем цикл\n",
    "    print(a * b)\n",
    "    i += 1"
   ]
  },
  {
   "cell_type": "code",
   "execution_count": 9,
   "metadata": {},
   "outputs": [
    {
     "name": "stdout",
     "output_type": "stream",
     "text": [
      "1 2\n",
      "2\n",
      "1 0\n",
      "2 5\n",
      "10\n",
      "0 0\n"
     ]
    }
   ],
   "source": [
    "# Если встречается пара с одним нулевым числом - игнорируем ее. Если два нуля - так же выходим из цикла\n",
    "i = 0\n",
    "while i < 5:\n",
    "    a, b = input().split()\n",
    "    a = int(a)\n",
    "    b = int(b)\n",
    "    if (a == 0) and (b == 0):\n",
    "        break # досрочно завершаем цикл\n",
    "    if (a == 0) or (b == 0):\n",
    "        continue # переходим к следующей итерации\n",
    "    print(a * b)\n",
    "    i += 1"
   ]
  },
  {
   "cell_type": "code",
   "execution_count": 13,
   "metadata": {},
   "outputs": [
    {
     "name": "stdout",
     "output_type": "stream",
     "text": [
      "7\n",
      "Простое число\n"
     ]
    }
   ],
   "source": [
    "# Задача: проверить, простое число или составное\n",
    "\n",
    "n = int(input(\"Введите число\"))\n",
    "i = 2\n",
    "while i * i <= n:\n",
    "    if n % i == 0:\n",
    "        print('Составное число')\n",
    "        break\n",
    "    i += 1\n",
    "else:  \n",
    "    print('Простое число')  # будет выполняться, если не произошло выхода из цикла по break"
   ]
  },
  {
   "cell_type": "markdown",
   "metadata": {},
   "source": [
    "### Цикл for"
   ]
  },
  {
   "cell_type": "markdown",
   "metadata": {},
   "source": [
    "Классическая структура цикла for:   \n",
    "    \n",
    "    for element in iterator :\n",
    "        действия "
   ]
  },
  {
   "cell_type": "markdown",
   "metadata": {},
   "source": [
    "Цикл for зачастую используется с фукнцией range(start = 0, to, step = 1).     \n",
    "Она возвращает последовательность чисел от \"start\" - нижней границы (включая) до \"to\" - верхней границы (не включая) с заданным шагом - step.    \n",
    "Например:   \n",
    "Посчитаем и выведем сумму всех четных чисел от a до b, включая границы.\n",
    "\n"
   ]
  },
  {
   "cell_type": "code",
   "execution_count": 14,
   "metadata": {},
   "outputs": [
    {
     "name": "stdout",
     "output_type": "stream",
     "text": [
      "1 2\n",
      "1\n"
     ]
    }
   ],
   "source": [
    "# 1ый способ\n",
    "\n",
    "a, b = input().split()\n",
    "a = int(a)\n",
    "b = int(b)\n",
    "s = 0\n",
    "\n",
    "for i in range(a, b + 1):\n",
    "    if i % 2 == 1:\n",
    "        s += i\n",
    "        \n",
    "print(s)"
   ]
  },
  {
   "cell_type": "code",
   "execution_count": 15,
   "metadata": {},
   "outputs": [
    {
     "name": "stdout",
     "output_type": "stream",
     "text": [
      "1 5\n",
      "9\n"
     ]
    }
   ],
   "source": [
    "# 2oй способ\n",
    "a, b = input().split()\n",
    "a = int(a)\n",
    "b = int(b)\n",
    "s = 0\n",
    "\n",
    "if a % 2 == 0:\n",
    "    a += 1\n",
    "for i in range(a, b + 1, 2):\n",
    "    s += i\n",
    "    \n",
    "print(s)"
   ]
  },
  {
   "cell_type": "code",
   "execution_count": 16,
   "metadata": {},
   "outputs": [
    {
     "name": "stdout",
     "output_type": "stream",
     "text": [
      "1 2\n",
      "1\n"
     ]
    }
   ],
   "source": [
    "# 3ий способ (Используем list comprehension)\n",
    "a, b = (int(i) for i in input().split())\n",
    "s = 0\n",
    "\n",
    "if a % 2 == 0:\n",
    "    a += 1\n",
    "for i in range(a, b + 1, 2):\n",
    "    s += i\n",
    "    \n",
    "print(s)"
   ]
  },
  {
   "cell_type": "markdown",
   "metadata": {},
   "source": [
    "#### Задание:    \n",
    "Напишите программу, которая считывает с клавиатуры два числа a и b, считает и выводит на консоль среднее арифметическое всех чисел из отрезка [a;b], которые делятся на 3.\n",
    "\n",
    "Например, пусть среднее арифметическое считается для чисел на отрезке [−5;12]. Всего чисел, делящихся на 3, на этом отрезке 6: −3,0,3,6,9,12. Их среднее арифметическое равно 4.5"
   ]
  },
  {
   "cell_type": "code",
   "execution_count": null,
   "metadata": {},
   "outputs": [],
   "source": [
    "### ╰( ͡° ͜ʖ ͡° )つ──☆*:・ﾟ"
   ]
  },
  {
   "cell_type": "markdown",
   "metadata": {},
   "source": [
    "### Строки\n",
    "\n",
    "Строки являются неизменяемым типом данных.    \n",
    "Очевидно, в строках можно обращаться к отдельным элементам (символам) по индексам (индексация начинается с нуля!)."
   ]
  },
  {
   "cell_type": "code",
   "execution_count": 17,
   "metadata": {},
   "outputs": [
    {
     "name": "stdout",
     "output_type": "stream",
     "text": [
      "af\n"
     ]
    }
   ],
   "source": [
    "string = 'abcdef'\n",
    "print(string[0] + string[-1])"
   ]
  },
  {
   "cell_type": "code",
   "execution_count": 21,
   "metadata": {},
   "outputs": [
    {
     "name": "stdout",
     "output_type": "stream",
     "text": [
      "a\n",
      "c\n",
      "e\n",
      "j\n",
      "i\n",
      "k\n",
      "m\n",
      "o\n",
      "q\n",
      "s\n",
      "u\n",
      "w\n",
      "y\n"
     ]
    }
   ],
   "source": [
    "#Выведем буквы английского алфавита через одну \n",
    "alphabet = \"abcdefjhijklmnopqrstuvwxyz\"\n",
    "for i in range(0,len(alphabet),2):\n",
    "    print(alphabet[i])"
   ]
  },
  {
   "cell_type": "code",
   "execution_count": 28,
   "metadata": {},
   "outputs": [
    {
     "name": "stdout",
     "output_type": "stream",
     "text": [
      "z\n",
      "y\n",
      "x\n",
      "w\n",
      "v\n",
      "u\n",
      "t\n",
      "s\n",
      "r\n",
      "q\n",
      "p\n",
      "o\n",
      "n\n",
      "m\n",
      "l\n",
      "k\n",
      "j\n",
      "i\n",
      "h\n",
      "j\n",
      "f\n",
      "e\n",
      "d\n",
      "c\n",
      "b\n",
      "a\n"
     ]
    }
   ],
   "source": [
    "#или в обратном порядке\n",
    "for i in range(len(alphabet)-1, -1, -1):\n",
    "    print(alphabet[i])"
   ]
  },
  {
   "cell_type": "markdown",
   "metadata": {},
   "source": [
    "### Методы строк"
   ]
  },
  {
   "cell_type": "code",
   "execution_count": 29,
   "metadata": {},
   "outputs": [],
   "source": [
    "s = 'Artificial Intelligence'\n",
    "p = 'i'"
   ]
  },
  {
   "cell_type": "code",
   "execution_count": 30,
   "metadata": {},
   "outputs": [
    {
     "data": {
      "text/plain": [
       "'ARTIFICIAL INTELLIGENCE'"
      ]
     },
     "execution_count": 30,
     "metadata": {},
     "output_type": "execute_result"
    }
   ],
   "source": [
    "s.upper()"
   ]
  },
  {
   "cell_type": "code",
   "execution_count": 31,
   "metadata": {},
   "outputs": [
    {
     "data": {
      "text/plain": [
       "'artificial intelligence'"
      ]
     },
     "execution_count": 31,
     "metadata": {},
     "output_type": "execute_result"
    }
   ],
   "source": [
    "s.lower()"
   ]
  },
  {
   "cell_type": "code",
   "execution_count": 32,
   "metadata": {},
   "outputs": [
    {
     "data": {
      "text/plain": [
       "5"
      ]
     },
     "execution_count": 32,
     "metadata": {},
     "output_type": "execute_result"
    }
   ],
   "source": [
    "s.count(p)"
   ]
  },
  {
   "cell_type": "code",
   "execution_count": 33,
   "metadata": {},
   "outputs": [
    {
     "data": {
      "text/plain": [
       "3"
      ]
     },
     "execution_count": 33,
     "metadata": {},
     "output_type": "execute_result"
    }
   ],
   "source": [
    "s.find(p)"
   ]
  },
  {
   "cell_type": "code",
   "execution_count": 35,
   "metadata": {},
   "outputs": [
    {
     "data": {
      "text/plain": [
       "-1"
      ]
     },
     "execution_count": 35,
     "metadata": {},
     "output_type": "execute_result"
    }
   ],
   "source": [
    "s.find('Machine')"
   ]
  },
  {
   "cell_type": "code",
   "execution_count": 36,
   "metadata": {},
   "outputs": [
    {
     "data": {
      "text/plain": [
       "'art*f*c*al *ntell*gence'"
      ]
     },
     "execution_count": 36,
     "metadata": {},
     "output_type": "execute_result"
    }
   ],
   "source": [
    "s.replace('i', '*')"
   ]
  },
  {
   "cell_type": "code",
   "execution_count": 37,
   "metadata": {},
   "outputs": [
    {
     "data": {
      "text/plain": [
       "3"
      ]
     },
     "execution_count": 37,
     "metadata": {},
     "output_type": "execute_result"
    }
   ],
   "source": [
    "# Последовательный вызов методов\n",
    "s.upper().count(\"e\".upper())"
   ]
  },
  {
   "cell_type": "markdown",
   "metadata": {},
   "source": [
    "### Срезы"
   ]
  },
  {
   "cell_type": "code",
   "execution_count": 38,
   "metadata": {},
   "outputs": [],
   "source": [
    "line = \"Machine Learning\""
   ]
  },
  {
   "cell_type": "code",
   "execution_count": 39,
   "metadata": {},
   "outputs": [
    {
     "data": {
      "text/plain": [
       "'h'"
      ]
     },
     "execution_count": 39,
     "metadata": {},
     "output_type": "execute_result"
    }
   ],
   "source": [
    "line[3]"
   ]
  },
  {
   "cell_type": "code",
   "execution_count": 41,
   "metadata": {},
   "outputs": [
    {
     "data": {
      "text/plain": [
       "'chine'"
      ]
     },
     "execution_count": 41,
     "metadata": {},
     "output_type": "execute_result"
    }
   ],
   "source": [
    "line[2:7]"
   ]
  },
  {
   "cell_type": "code",
   "execution_count": 42,
   "metadata": {},
   "outputs": [
    {
     "data": {
      "text/plain": [
       "'Machine'"
      ]
     },
     "execution_count": 42,
     "metadata": {},
     "output_type": "execute_result"
    }
   ],
   "source": [
    "line[:7]"
   ]
  },
  {
   "cell_type": "code",
   "execution_count": 45,
   "metadata": {},
   "outputs": [
    {
     "data": {
      "text/plain": [
       "'Learning'"
      ]
     },
     "execution_count": 45,
     "metadata": {},
     "output_type": "execute_result"
    }
   ],
   "source": [
    "line[-8:]"
   ]
  },
  {
   "cell_type": "code",
   "execution_count": 47,
   "metadata": {},
   "outputs": [
    {
     "data": {
      "text/plain": [
       "'achine Learnin'"
      ]
     },
     "execution_count": 47,
     "metadata": {},
     "output_type": "execute_result"
    }
   ],
   "source": [
    "line[1:-1]"
   ]
  },
  {
   "cell_type": "code",
   "execution_count": 48,
   "metadata": {},
   "outputs": [
    {
     "data": {
      "text/plain": [
       "'ahn eri'"
      ]
     },
     "execution_count": 48,
     "metadata": {},
     "output_type": "execute_result"
    }
   ],
   "source": [
    "line[1:-1:2]"
   ]
  },
  {
   "cell_type": "code",
   "execution_count": 49,
   "metadata": {},
   "outputs": [
    {
     "data": {
      "text/plain": [
       "'gninraeL enihcaM'"
      ]
     },
     "execution_count": 49,
     "metadata": {},
     "output_type": "execute_result"
    }
   ],
   "source": [
    "line[::-1]"
   ]
  },
  {
   "cell_type": "markdown",
   "metadata": {},
   "source": [
    "#### Задачи:\n",
    "1. Проверить, является ли число полиндромом. А если слово?\n",
    "2. \"Сжать\" строку. А именно, получая на вход строку, преобразовать ее, \"сжав\" повторяющиеся символы. Например: \"aaaabbcccaa\" преобразуется в \"a4b2c3a2\""
   ]
  },
  {
   "cell_type": "code",
   "execution_count": null,
   "metadata": {},
   "outputs": [],
   "source": [
    "# 1.\n",
    "### ╰( ͡° ͜ʖ ͡° )つ──☆*:・ﾟ"
   ]
  },
  {
   "cell_type": "code",
   "execution_count": 4,
   "metadata": {},
   "outputs": [],
   "source": [
    "# 2.\n",
    "### ╰( ͡° ͜ʖ ͡° )つ──☆*:・ﾟ"
   ]
  },
  {
   "cell_type": "markdown",
   "metadata": {},
   "source": [
    "### Списки\n",
    "\n",
    "Вообще, списки - это один из типов массивов в питоне. Поэтому остановимся немного на массивах.    \n",
    "Рассмотрим 3 вида массивов:\n",
    "* изменяемые (списки) - list()\n",
    "* не изменяемые (кортежи) -  tuple()\n",
    "* неупорядоченные без повторений (множества) - set()"
   ]
  },
  {
   "cell_type": "code",
   "execution_count": 54,
   "metadata": {},
   "outputs": [
    {
     "name": "stdout",
     "output_type": "stream",
     "text": [
      "<class 'list'> [1, 2, 3, 4, 1, 3, 5]\n"
     ]
    }
   ],
   "source": [
    "L = [1, 2, 3, 4, 1, 3, 5]\n",
    "print(type(L), L)"
   ]
  },
  {
   "cell_type": "code",
   "execution_count": 56,
   "metadata": {},
   "outputs": [
    {
     "name": "stdout",
     "output_type": "stream",
     "text": [
      "<class 'tuple'> (1, 2, 3, 4, 1, 3, 5)\n"
     ]
    }
   ],
   "source": [
    "L = tuple(L)\n",
    "print(type(L), L)"
   ]
  },
  {
   "cell_type": "code",
   "execution_count": 57,
   "metadata": {},
   "outputs": [
    {
     "name": "stdout",
     "output_type": "stream",
     "text": [
      "<class 'set'> {1, 2, 3, 4, 5}\n"
     ]
    }
   ],
   "source": [
    "L = set(L)\n",
    "print(type(L), L) #удобно использовать для удаления дубликатов"
   ]
  },
  {
   "cell_type": "markdown",
   "metadata": {},
   "source": [
    "Для массивов, как и для строк, используется метод split(), разделяющий строку на подстроки и выводящий список этих подстрок.   \n",
    "Наряду с методом split() часто используется метод join(). Он позволяет склеить список обратно в строку с указанием разделителя."
   ]
  },
  {
   "cell_type": "code",
   "execution_count": 63,
   "metadata": {},
   "outputs": [
    {
     "name": "stdout",
     "output_type": "stream",
     "text": [
      "['Some', 'text.', 'A', 'little', 'bit', 'more', 'text']\n",
      "['Som', ' t', 'xt. A littl', ' bit mor', ' t', 'xt']\n"
     ]
    }
   ],
   "source": [
    "st = \"Some text. A little bit more text\"\n",
    "print(st.split())\n",
    "print(st.split(\"e\"))"
   ]
  },
  {
   "cell_type": "code",
   "execution_count": 68,
   "metadata": {},
   "outputs": [
    {
     "data": {
      "text/plain": [
       "'Ivan & Petr & Alexey'"
      ]
     },
     "execution_count": 68,
     "metadata": {},
     "output_type": "execute_result"
    }
   ],
   "source": [
    "some_list = [\"Ivan\", \"Petr\", \"Alexey\"]\n",
    "\" & \".join(some_list)"
   ]
  },
  {
   "cell_type": "markdown",
   "metadata": {},
   "source": [
    "### Полезные функции\n",
    "\n",
    "- map\n",
    "- zip\n",
    "- ???"
   ]
  },
  {
   "cell_type": "markdown",
   "metadata": {},
   "source": [
    "#### Задачи:\n",
    "* Считайте 2 строки. Каждая строка содержит по 3 натуральных числа. Найдите сумму чисел в каждой строке и выведите на печать одной строкой. В качестве разделителя между двумя получившимися числами используйте символ \"#\"\n",
    "* На вход подаётся 1 строка, слова в которой разделены символом \"&\".Необходимо вывести все слова из строки (без дубликатов) с пробелом в качестве разделителя.\n",
    "* На вход подаётся строка, слова в которой разделены между собой пробелами. Напечатайте 2, 3 и предпоследнее слова из строки (через пробел).\n",
    "* На вход подаётся 1 строка, слова в которой разделены пробелами. Напечатайте слова из этой строки в обратном порядке, используя в качестве разделителя \"-$-\""
   ]
  },
  {
   "cell_type": "markdown",
   "metadata": {},
   "source": [
    "### Методы списков \n",
    "* **list.append(x)** Добавляет элемент в конец списка\n",
    "* **list.extend(L)** Расширяет список list, добавляя в конец все элементы списка L\n",
    "* **list.insert(i, x)** Вставляет на i-ый элемент значение x\n",
    "* **list.remove(x)** Удаляет первый элемент в списке, имеющий значение x. ValueError, если такого элемента не существует\n",
    "* **list.pop([i])** Удаляет i-ый элемент и возвращает его. Если индекс не указан, удаляется последний элемент\n",
    "* **list.index(x, [start [, end]])** Возвращает положение первого элемента со значением x (при этом поиск ведется от start до end)\n",
    "* **list.count(x)** Возвращает количество элементов со значением x\n",
    "* **list.sort([key=функция])** Сортирует список на основе функции\n",
    "* **list.reverse()** Разворачивает список\n",
    "* **list.copy()** Поверхностная копия списка\n",
    "* **list.clear()** Очищает список"
   ]
  },
  {
   "cell_type": "markdown",
   "metadata": {},
   "source": [
    "**Задача**: На вход подаётся 1 строка, слова в которой разделены пробелами. Напечатайте через пробел число слов в строке и число слов \"one\" в строке."
   ]
  },
  {
   "cell_type": "code",
   "execution_count": null,
   "metadata": {},
   "outputs": [],
   "source": [
    "### ╰( ͡° ͜ʖ ͡° )つ──☆*:・ﾟ"
   ]
  },
  {
   "cell_type": "markdown",
   "metadata": {},
   "source": [
    "**Задача**: Напишите програму для вычисления вещественных корней крвадратного уравнения."
   ]
  },
  {
   "cell_type": "code",
   "execution_count": null,
   "metadata": {},
   "outputs": [],
   "source": [
    "### ╰( ͡° ͜ʖ ͡° )つ──☆*:・ﾟ"
   ]
  },
  {
   "cell_type": "markdown",
   "metadata": {},
   "source": [
    "### Работа с файлами"
   ]
  },
  {
   "cell_type": "code",
   "execution_count": 1,
   "metadata": {},
   "outputs": [
    {
     "data": {
      "text/plain": [
       "'L'"
      ]
     },
     "execution_count": 1,
     "metadata": {},
     "output_type": "execute_result"
    }
   ],
   "source": [
    "data_path = \"data/data_example.txt\"\n",
    "\n",
    "# открыть файл для чтения\n",
    "file = open(data_path, 'r')\n",
    "\n",
    "# Считать 1 символ\n",
    "cahr = file.read(1)\n",
    "cahr"
   ]
  },
  {
   "cell_type": "code",
   "execution_count": 2,
   "metadata": {},
   "outputs": [
    {
     "data": {
      "text/plain": [
       "'ine 1\\nLine 2 with some data: 1234\\nline \\nline 4\\n\\n'"
      ]
     },
     "execution_count": 2,
     "metadata": {},
     "output_type": "execute_result"
    }
   ],
   "source": [
    "# Считать все, что еще не считано\n",
    "data = file.read()\n",
    "data"
   ]
  },
  {
   "cell_type": "code",
   "execution_count": 3,
   "metadata": {},
   "outputs": [
    {
     "name": "stdout",
     "output_type": "stream",
     "text": [
      "Line 1\n",
      "\n",
      "Line 2 with some data: 1234\n",
      "\n",
      "line \n",
      "\n",
      "line 4\n",
      "\n",
      "\n",
      "\n"
     ]
    }
   ],
   "source": [
    "# Считать построчно\n",
    "f = open(data_path)\n",
    "\n",
    "for line in f:\n",
    "    print(line)"
   ]
  },
  {
   "cell_type": "code",
   "execution_count": 4,
   "metadata": {},
   "outputs": [],
   "source": [
    "# После окончания работы с файлом его обязательно нужно закрыть с помощью метода close\n",
    "f.close()"
   ]
  },
  {
   "cell_type": "code",
   "execution_count": 5,
   "metadata": {},
   "outputs": [
    {
     "data": {
      "text/plain": [
       "'Line 1\\nLine 2 with some data: 1234\\nline \\nline 4\\n\\n'"
      ]
     },
     "execution_count": 5,
     "metadata": {},
     "output_type": "execute_result"
    }
   ],
   "source": [
    "# Лучше всего использовать контекстный менеджер для работы с файлами\n",
    "\n",
    "with open(data_path, \"r\") as file:\n",
    "    data = file.read()\n",
    "    \n",
    "data"
   ]
  },
  {
   "cell_type": "code",
   "execution_count": 6,
   "metadata": {},
   "outputs": [
    {
     "data": {
      "text/plain": [
       "['Line 1', 'Line 2 with some data: 1234', 'line ', 'line 4', '', '']"
      ]
     },
     "execution_count": 6,
     "metadata": {},
     "output_type": "execute_result"
    }
   ],
   "source": [
    "# Обработка данных\n",
    "data.split(\"\\n\")"
   ]
  },
  {
   "cell_type": "markdown",
   "metadata": {},
   "source": [
    "**Задача**: Из файла data/marks.txt считать оценки студентов, посчитать количество записей в файле и вычислить среднюю оценку."
   ]
  },
  {
   "cell_type": "code",
   "execution_count": null,
   "metadata": {},
   "outputs": [],
   "source": [
    "### ╰( ͡° ͜ʖ ͡° )つ──☆*:・ﾟ"
   ]
  },
  {
   "cell_type": "markdown",
   "metadata": {},
   "source": [
    "### Функции"
   ]
  },
  {
   "cell_type": "code",
   "execution_count": 7,
   "metadata": {},
   "outputs": [
    {
     "name": "stdout",
     "output_type": "stream",
     "text": [
      "14\n",
      "59\n"
     ]
    }
   ],
   "source": [
    "def add(x, y):\n",
    "    return x + y\n",
    "\n",
    "print(add(5, 9))\n",
    "print(add(\"5\", \"9\"))"
   ]
  },
  {
   "cell_type": "code",
   "execution_count": 10,
   "metadata": {},
   "outputs": [
    {
     "name": "stdout",
     "output_type": "stream",
     "text": [
      "32\n",
      "9\n"
     ]
    }
   ],
   "source": [
    "def power(n: int, p: int) -> int:\n",
    "    result = n**p\n",
    "    return result\n",
    "\n",
    "print(power(2, 5))\n",
    "print(power(3, 2))"
   ]
  },
  {
   "cell_type": "markdown",
   "metadata": {},
   "source": [
    "**Задача**: Напишите функцию для вычисления вещественных корней крвадратного уравнения."
   ]
  },
  {
   "cell_type": "code",
   "execution_count": 11,
   "metadata": {},
   "outputs": [],
   "source": [
    "### ╰( ͡° ͜ʖ ͡° )つ──☆*:・ﾟ"
   ]
  },
  {
   "cell_type": "markdown",
   "metadata": {},
   "source": [
    "**Задача**: Напишите функцию, которая возвращает целоге число, записанное в обратном порядке без учета знака (123 -> 321, -23 -> 32)"
   ]
  },
  {
   "cell_type": "code",
   "execution_count": null,
   "metadata": {},
   "outputs": [],
   "source": [
    "### ╰( ͡° ͜ʖ ͡° )つ──☆*:・ﾟ"
   ]
  },
  {
   "cell_type": "markdown",
   "metadata": {},
   "source": [
    "### ООП"
   ]
  },
  {
   "cell_type": "code",
   "execution_count": null,
   "metadata": {},
   "outputs": [],
   "source": [
    "### TO BE DONE..."
   ]
  }
 ],
 "metadata": {
  "kernelspec": {
   "display_name": "Python 3 (ipykernel)",
   "language": "python",
   "name": "python3"
  },
  "language_info": {
   "codemirror_mode": {
    "name": "ipython",
    "version": 3
   },
   "file_extension": ".py",
   "mimetype": "text/x-python",
   "name": "python",
   "nbconvert_exporter": "python",
   "pygments_lexer": "ipython3",
   "version": "3.8.10"
  }
 },
 "nbformat": 4,
 "nbformat_minor": 2
}
