{
 "cells": [
  {
   "cell_type": "markdown",
   "metadata": {},
   "source": [
    "# Занятие №3. Введение в DL\n",
    "\n",
    "<img src=\"images/shit.jpg\" align=\"center\" style=\"height: 400px;\"/>\n",
    "\n",
    "## План на сегодня\n",
    "\n",
    "1. Обучаемость и адаптивные алгоритмы, биологический и искусственный нейроны.\n",
    "2. Линейность одного и нелинейность совокупности нейронов. Обучение перцептрона.\n",
    "3. Реализация модели многослойного перцептрона.\n",
    "4. Знакомство с Keras и PyTorch."
   ]
  },
  {
   "cell_type": "markdown",
   "metadata": {},
   "source": [
    "## 1. Понятие обучаемости\n",
    "\n",
    "До недавнего времени обычные компьютерные программы базировались на теории алгоритмов, они не были способны улучшаться по мере решения задач. Это значит, что в одной и той ситуации такая программа будет давать один и тот же ответ, даже если он неправильный. \n",
    "\n",
    "Появляется логичное желание - создать программу, которая на основе новых данных будет обучаться, подобно человеку. Оказалось, что такое возможно. Так называемые адаптивные алгоритмы позволили достичь этой цели. Именно об этом подходе и пойдет речь в нашем курсе.  \n",
    "\n",
    "> Говорят, что компьтерная программа обучается решению задачи T на основе опыта E, если качество решения по метрике P растет по мере накопления опыта E. (_Mitchell \"Machine learning\", 1997_)"
   ]
  },
  {
   "cell_type": "markdown",
   "metadata": {},
   "source": [
    "## 2. Настоящий биологический нейрон"
   ]
  },
  {
   "cell_type": "markdown",
   "metadata": {},
   "source": [
    "Нейрон (от др.-греч. νεῦρον — волокно, нерв) — узко специализированная клетка, структурно-функциональная единица нервной системы."
   ]
  },
  {
   "cell_type": "markdown",
   "metadata": {},
   "source": [
    "Настоящий билогический нейрон обладает одним важным свойством, которое делает его интересным для рассмотрения. Это нейропластичнойть (возможно, если мы научимся моделировать нейроны, то сможем реализовывать адаптивные алгоритмы). Примеры нейроплостичности - умение «видеть» спиной или языком (сенсорное замещение).\n",
    "\n",
    "<img src=\"images/Sen.jpg\" align=\"center\" style=\"height: 400px;\"/>"
   ]
  },
  {
   "cell_type": "markdown",
   "metadata": {},
   "source": [
    "<img src=\"images/Neuron.png\" align=\"center\" style=\"height: 400px;\"/>\n",
    "\n",
    "<img src=\"images/Neur.jpg\" align=\"center\" style=\"height: 400px;\"/>"
   ]
  },
  {
   "cell_type": "markdown",
   "metadata": {},
   "source": [
    "В нейроне происходят довольно сложные процессы. Нейрон взаимодейтсвует со средой прежде всего:   \n",
    "- с помощью калиево-натриевого «насоса»\n",
    "- за счет диффузии и различия в проводимости мембраны\n",
    "- за счет электростатических сил (так как в среде и в нейроне много ионов)\n",
    "\n",
    "Уравнение Нернста (уравнение, связывающее окислительно-восстановительный потенциал системы с активностями веществ, входящих в электрохимическое уравнение, и стандартными электродными потенциалами окислительно-восстановительных пар):\n",
    "$$ E=E^{0}+{\\frac  {RT}{nF}}\\ln {\\frac  {a_{{{\\rm {{Ox}}}}}}{a_{{{\\rm {{Red}}}}}}}$$\n",
    "\n",
    "$E$ — электродный потенциал, ${\\displaystyle E^{0}}$ — стандартный электродный потенциал    \n",
    "${\\displaystyle R}$  — универсальная газовая постоянная   \n",
    "${\\displaystyle T}$  — абсолютная температура   \n",
    "${\\displaystyle F}$  — постоянная Фарадея   \n",
    "${\\displaystyle n}$  — число электронов, участвующих в процессе   \n",
    "${\\displaystyle a_{\\rm {Ox}}}$ и ${\\displaystyle a_{\\rm {Red}}}$ — активности соответственно окисленной и восстановленной форм вещества, участвующего в полуреакции.\n",
    "\n",
    "В обычном состоянии нейрон находится в динамическом равновесии со средой (потенциал покоя порядка -70 мВ), но при изменении потенциала могут открываться и другие каналы, что приводит к тому, что возникает лавинообразная реакция. А именно, после открытия каналов, система будет стримится к новому положению равновесия (изменились параметры в уравнении Нернста). Через некоторое время постепенно начинают закрываться каналы, что приводит к тому, что нейрон возвращается к своему исходному состоянию, а потенциал падает даже немного ниже -70 мВ (аналог инерции).\n",
    "\n",
    "<img src=\"images/graph.jpg\" align=\"center\" style=\"height: 400px;\"/>"
   ]
  },
  {
   "cell_type": "markdown",
   "metadata": {},
   "source": [
    "Такие возмещения есть способ передачи импульса по аксону нейрона. Таким образом сигнал доходит до окончания аксона, в место его соединения со дендритами других нейронов (такие соединения называются синапсами).\n",
    "\n",
    "<img src=\"images/go.jpg\" align=\"center\" style=\"height: 400px;\"/>"
   ]
  },
  {
   "cell_type": "markdown",
   "metadata": {},
   "source": [
    "Когда активация доходит до синапса, то в пространство между аксоном и следующим нейроном (так называемая синаптическая щель) выбрасываются нерйомедиаторы, которые могут провоцировать открытие или закрытие определенных каналов у нейрона, с которым соединен рассматриваемый нейрон. Происходит локальная деполяризация участка мембраны, что может запустить аналогичную реакцию в следующем нейроне. Множественные связи между нейронами, сложные соединения и наличие как активирующих, так и тормозных синопсов, обеспечивает неропластичность всего мозга."
   ]
  },
  {
   "cell_type": "markdown",
   "metadata": {},
   "source": [
    "## 3. Искусственный нейрон"
   ]
  },
  {
   "cell_type": "markdown",
   "metadata": {},
   "source": [
    "Упрощенная схема нейрона выглядит так:\n",
    "\n",
    "<img src=\"images/Neuron_Scheme.png\" align=\"center\" style=\"height: 400px;\"/>"
   ]
  },
  {
   "cell_type": "markdown",
   "metadata": {},
   "source": [
    "$$h(\\vec{x}) = f(\\vec{x} \\cdot \\vec{w})$$"
   ]
  },
  {
   "cell_type": "markdown",
   "metadata": {},
   "source": [
    "Здесь $f(x)$ - функция активации.   \n",
    "Их достаточно большое семейство, самая простая из них - пороговая:\n",
    "\n",
    "<img src=\"images/Act1.png\" align=\"center\" style=\"height: 400px;\"/>"
   ]
  },
  {
   "cell_type": "markdown",
   "metadata": {},
   "source": [
    "$$f(x) = \\begin{cases}\n",
    "   1 & x > 0 \\\\\n",
    "   0 & x \\leq 0 \\\\\n",
    " \\end{cases}\n",
    "$$\n",
    "\n",
    "Далее, пока что, под функцией активации будем понимать именно пороговую функцию."
   ]
  },
  {
   "cell_type": "markdown",
   "metadata": {},
   "source": [
    "### 3.1 Применение искуственного нейрона на примере булевой алгебры"
   ]
  },
  {
   "cell_type": "markdown",
   "metadata": {},
   "source": [
    "**Логическое отрицание (НЕ):**  \n",
    "\n",
    "|   $x$         | $\\overline{x}$| \n",
    "| ------------- |---------------| \n",
    "|       1       |      0        | \n",
    "|      0        |      1        |\n",
    "\n",
    "Реализуем эту функцию с помощью одного нейрона. Это значит, что надо подобрать два параметра - вес и смещение так, чтобы нейрон реализовывал эту унарную логическую функцию."
   ]
  },
  {
   "cell_type": "markdown",
   "metadata": {},
   "source": [
    "Можно угадать ответ, либо, подойти к задаче более формально и составить систему неравенств, ограничевающие наши параметры.\n",
    "\n",
    "Подбор: $w_0 = 0.5$, $w_1 = -1$\n",
    "\n",
    "Система:   \n",
    "$$ \n",
    "\\begin{cases}\n",
    "   w_0 + x_1w_1 > 0 & x_1 = 0 \\\\\n",
    "   w_0 + x_1w_1 \\leq 0 & x_1 = 1 \\\\\n",
    " \\end{cases}\n",
    "$$\n",
    "\n",
    "$$ \n",
    "\\begin{cases}\n",
    "   w_0 > 0 \\\\\n",
    "   w_0 + w_1 \\leq 0 \\\\\n",
    " \\end{cases}\n",
    "$$\n",
    "\n",
    "Заметим, что решений (пар чисел $w_0, w_1$), удовлетворяющих нашей системе, бесконечно много.\n",
    "\n",
    "<img src=\"images/ne.jpg\" align=\"center\" style=\"height: 400px;\"/>"
   ]
  },
  {
   "cell_type": "markdown",
   "metadata": {},
   "source": [
    "**Логическое умножение, конъюкция (И):**\n",
    "\n",
    "|   $x_1$       |   $x_2$       | $x_1 \\& x_2$   |\n",
    "| ------------- |---------------| ---------------|\n",
    "|     1         |    1          |     1          |\n",
    "|     1         |    0          |     0          |\n",
    "|     0         |    1          |     0          |\n",
    "|     0         |    0          |     0          |\n",
    "\n",
    "Попробуем так же реализовать эту уже бинарную булеву функцию, теперь нам надо подобрать три параметра - смещенение и два веса.\n",
    "\n",
    "<img src=\"images/and.jpg\" align=\"center\" style=\"height: 400px;\"/>"
   ]
  },
  {
   "cell_type": "markdown",
   "metadata": {},
   "source": [
    "Чтобы не угадывать, сразу составим систему:\n",
    "\n",
    "$$\n",
    "\\begin{cases}\n",
    "   w_0 + x_1w_1 + x_2w_2 > 0 & x_1 = 1, x_2 = 1 \\\\\n",
    "   w_0 + x_1w_1 + x_2w_2 \\leq 0 & x_1 = 1, x_2 = 0 \\\\\n",
    "   w_0 + x_1w_1 + x_2w_2 \\leq 0 & x_1 = 0, x_2 = 1 \\\\\n",
    "   w_0 + x_1w_1 + x_2w_2 \\leq 0 & x_1 = 0, x_2 = 0 \\\\\n",
    " \\end{cases}\n",
    "$$\n",
    "\n",
    "$$\n",
    "\\begin{cases}\n",
    "   w_0 + w_1 + w_2 > 0 \\\\\n",
    "   w_0 + w_1 \\leq 0 \\\\\n",
    "   w_0 + w_2 \\leq 0 \\\\\n",
    "   w_0  \\leq 0 \\\\\n",
    " \\end{cases}\n",
    "$$\n",
    "\n",
    "Одно из решений: $w_0 = -1.5$, $w_1 = 1$, $w_2 = 1$.\n",
    "<img src=\"images/andg.jpg\" align=\"center\" style=\"height: 400px;\"/>"
   ]
  },
  {
   "cell_type": "markdown",
   "metadata": {},
   "source": [
    "**Логическое сложение, дизъюнкция (ИЛИ):**\n",
    "\n",
    "|   $x_1$       |   $x_2$       |   $x_1$ + $x_2$    |\n",
    "| ------------- |---------------| -----------------|\n",
    "|     1         |    1          |       1          |\n",
    "|     1         |    0          |       1          |\n",
    "|     0         |    1          |       1          |\n",
    "|     0         |    0          |       0          |"
   ]
  },
  {
   "cell_type": "markdown",
   "metadata": {},
   "source": [
    "$$\n",
    "\\begin{cases}\n",
    "   w_0 + x_1w_1 + x_2w_2 > 0 & x_1 = 1, x_2 = 1 \\\\\n",
    "   w_0 + x_1w_1 + x_2w_2 > 0 & x_1 = 1, x_2 = 0 \\\\\n",
    "   w_0 + x_1w_1 + x_2w_2 > 0 & x_1 = 0, x_2 = 1 \\\\\n",
    "   w_0 + x_1w_1 + x_2w_2 \\leq 0 & x_1 = 0, x_2 = 0 \\\\\n",
    " \\end{cases}\n",
    "$$\n",
    "\n",
    "$$\n",
    "\\begin{cases}\n",
    "   w_0 + w_1 + w_2 > 0 \\\\\n",
    "   w_0 + w_1 > 0 \\\\\n",
    "   w_0 + w_2 > 0 \\\\\n",
    "   w_0  \\leq 0 \\\\\n",
    " \\end{cases}\n",
    "$$\n",
    "\n",
    "Одно из решений: $w_0 = -1$, $w_1 = 2$, $w_2 = 2$"
   ]
  },
  {
   "cell_type": "markdown",
   "metadata": {},
   "source": [
    "**Исключающие или (XOR)**\n",
    "\n",
    "|   $x_1$       |   $x_2$       |   $x_1$ $\\oplus$ $x_2$  |\n",
    "| ------------- |---------------| -----------------|\n",
    "|     1         |    1          |       0          |\n",
    "|     1         |    0          |       1          |\n",
    "|     0         |    1          |       1          |\n",
    "|     0         |    0          |       0          |"
   ]
  },
  {
   "cell_type": "markdown",
   "metadata": {},
   "source": [
    "$$\n",
    "\\begin{cases}\n",
    "   w_0 + x_1w_1 + x_2w_2 \\leq 0 & x_1 = 1, x_2 = 1 \\\\\n",
    "   w_0 + x_1w_1 + x_2w_2 > 0 & x_1 = 1, x_2 = 0 \\\\\n",
    "   w_0 + x_1w_1 + x_2w_2 > 0 & x_1 = 0, x_2 = 1 \\\\\n",
    "   w_0 + x_1w_1 + x_2w_2 \\leq 0 & x_1 = 0, x_2 = 0 \\\\\n",
    " \\end{cases}\n",
    "$$\n",
    "\n",
    "$$\n",
    "\\begin{cases}\n",
    "   w_0 + w_1 + w_2 \\leq 0 \\\\\n",
    "   w_0 + w_1 > 0 \\\\\n",
    "   w_0 + w_2 > 0 \\\\\n",
    "   w_0  \\leq 0 \\\\\n",
    " \\end{cases}\n",
    "$$"
   ]
  },
  {
   "cell_type": "markdown",
   "metadata": {},
   "source": [
    "Получившаяся система несовместна, то есть нет ни одной тройки весов, которая бы удовлетворяла данной системе. Действительно, сложив первое с последним, а второе с третьем неравенства предыдущей системы, получим:\n",
    "\n",
    "$$\n",
    "\\begin{cases}\n",
    "   2w_0 + w_1 + w_2 \\leq 0 \\\\\n",
    "   2w_0 + w_1 + w_2 > 0 \\\\\n",
    " \\end{cases}\n",
    "$$\n",
    "\n",
    "То есть одна и та же величина одновременно больше нуля и меньше либо равна нулю, чего быть не может. Это означает, что мы не существует нейрона с пороговой функцией активации, который бы реализовывал функцию $XOR$.\n",
    "\n",
    "<img src=\"images/cat.jpg\" align=\"center\" style=\"height: 400px;\"/>"
   ]
  },
  {
   "cell_type": "markdown",
   "metadata": {},
   "source": [
    "Давайте проанализируем почему же какие-то булевы функции мы можем реализовать с помощью искусственного нейрона, а какие-то нет, и выясним, когда это моно сделать, а когда нет. \n",
    "\n",
    "Вернемся к бинарным булевым функциям «и» и «или». При составлении систем неравенств для нахождения весов в правой части всегда находилось выражение $w_0 + w_1x_1 + w_2x_2$, которе всегда сравнивалось с нулем.    \n",
    "Рассмотрим выражение $w_0 + w_1x_1 + w_2x_2 = 0$ как функцию от $x_1$ и $x_2$. Очевидно, что это выражение задает прямую на координатной плоскости $x_1$ и $x_2$. Во всех примерах до XOR всегда можно было провести прямую так, чтобы отделить точки, где функция принимает значение 1 от тех точек, в которых ее занчение равно 0. А вот для исключающего или такой прямой просто не существует! Нельзя отделить точки одной прямой, но их можно разделить, используя несколько разделяющих поверхностей.\n",
    "\n",
    "<img src=\"images/xor.jpg\" align=\"center\" style=\"height: 400px;\"/>"
   ]
  },
  {
   "cell_type": "markdown",
   "metadata": {},
   "source": [
    "Из булевой алгебры известно, что \t\n",
    "$$\n",
    "    \\displaystyle x_1 \\oplus x_2 =  {\\overline {x}_1}\\cdot x_2 + x_1 \\cdot {\\overline {x}_2}.\n",
    "$$\n",
    "Значит, мы можем реализовать функцию XOR как композицию пяти нейронов."
   ]
  },
  {
   "cell_type": "markdown",
   "metadata": {},
   "source": [
    "### 3.2 Реализация искуственного нейрона"
   ]
  },
  {
   "cell_type": "code",
   "execution_count": 1,
   "metadata": {},
   "outputs": [],
   "source": [
    "class neuron():\n",
    "    def __init__(self, w_0, w_1, w_2):\n",
    "        self.w_0 = w_0\n",
    "        self.w_1 = w_1\n",
    "        self.w_2 = w_2\n",
    "        \n",
    "    def activation(self, x_1, x_2):\n",
    "        return int(self.w_0 + x_1*self.w_1 + x_2*self.w_2 > 0)\n",
    "    \n",
    "    def show(self):\n",
    "        print(self.activation(1, 1))\n",
    "        print(self.activation(1, 0))\n",
    "        print(self.activation(0, 1))\n",
    "        print(self.activation(0, 0))"
   ]
  },
  {
   "cell_type": "code",
   "execution_count": 2,
   "metadata": {},
   "outputs": [],
   "source": [
    "class NO(neuron):\n",
    "    def __init__(self):\n",
    "        super().__init__(0.5, -1, None)\n",
    "        \n",
    "    def activation(self, x_1):\n",
    "        return int(self.w_0 + x_1*self.w_1 > 0)\n",
    "    \n",
    "    def show(self):\n",
    "        print(self.activation(1))\n",
    "        print(self.activation(0))\n",
    "    \n",
    "class AND(neuron):\n",
    "    def __init__(self):\n",
    "        super().__init__(-1.5, 1, 1)\n",
    "        \n",
    "class OR(neuron):\n",
    "    def __init__(self):\n",
    "        super().__init__(-1, 2, 2)\n",
    "                \n",
    "class XOR(neuron):\n",
    "    def __init__(self):\n",
    "        super().__init__(None, None, None)\n",
    "        \n",
    "    No = NO()\n",
    "    And = AND()\n",
    "    Or = OR()\n",
    "            \n",
    "    def activation(self, x_1, x_2):\n",
    "        ans = Or.activation(And.activation(No.activation(x_1), x_2), And.activation(x_1, No.activation(x_2)))\n",
    "        return ans"
   ]
  },
  {
   "cell_type": "code",
   "execution_count": 3,
   "metadata": {},
   "outputs": [
    {
     "name": "stdout",
     "output_type": "stream",
     "text": [
      "0\n",
      "1\n",
      "\n",
      "1\n",
      "0\n",
      "0\n",
      "0\n",
      "\n",
      "1\n",
      "1\n",
      "1\n",
      "0\n",
      "\n",
      "0\n",
      "1\n",
      "1\n",
      "0\n"
     ]
    }
   ],
   "source": [
    "No = NO()\n",
    "No.show()\n",
    "\n",
    "print()\n",
    "\n",
    "And = AND()\n",
    "And.show()\n",
    "\n",
    "print()\n",
    "\n",
    "Or = OR()\n",
    "Or.show()\n",
    "\n",
    "print()\n",
    "\n",
    "Xor = XOR()\n",
    "Xor.show()"
   ]
  },
  {
   "cell_type": "markdown",
   "metadata": {},
   "source": [
    "Ключевой момент - мы смогли разделить нелинейную выборку, использую комбинацию линейных нейронов. Значит, совокупность правильно соединенных нейронов могут решать сложные задачи. Осталось научить нейроны."
   ]
  },
  {
   "cell_type": "markdown",
   "metadata": {},
   "source": [
    "## 4. Обучение перцептрона\n",
    "\n",
    "Обучение перцептрона состоит в том, чтобы подобрать все веса таким образом, чтобы обученный перцептрон (то есть перцептрон с такими весами) правильно решал все примеры.\n",
    "\n",
    "Изначально веса инициализируются случайным образом, поэтому ответ перцептрона - случайное число. Показывая перцептрону примеры и правильные ответы, мы хотим, чтобы от случайных весов и ответов он перешел к правильным весам и осмысленным ответам.\n",
    "\n",
    "<img src=\"images/teach.jpg\" align=\"center\" style=\"height: 400px;\"/>\n",
    "\n",
    "$$\n",
    "    \\Delta w_i = (y_i - \\hat{y}_i) \\cdot x_i \n",
    "$$"
   ]
  },
  {
   "cell_type": "markdown",
   "metadata": {},
   "source": [
    "Более общее правило обучения (дельта-правило):\n",
    "$$\n",
    "    \\Delta w_i = \\eta \\cdot (y_i - \\hat{y}_i) \\cdot x_i\n",
    "$$\n",
    "\n",
    "- $y$ — правильный ответ для текущего примера\n",
    "- $\\hat{y}$ — выходная активация перцептрона\n",
    "- $x_i$ — $i$-й вход перцептрона на текущем примере\n",
    "- $w_i$ — $i$-й вес перцептрона\n",
    "- $\\Delta w_i$ — изменение i-го веса после предъявления текущего примера\n",
    "- $\\eta > 0$ - небольшая константа, которая задает скорость обучения "
   ]
  },
  {
   "cell_type": "markdown",
   "metadata": {},
   "source": [
    "Существует доказательство сходимости этого алгоритма обучения персептрона с использованием дельта-правила за конечное число шагов (при линейно разделимой обучаемой выборке). Модель персептрона в настоящий момент представляет больше историческую ценность, чем практическую. Но именно на его примере удается более наглядно показать некоторые важные принципы функционирования, в том числе и обучения нейронных сетей."
   ]
  },
  {
   "cell_type": "markdown",
   "metadata": {},
   "source": [
    "### 4.1 Пример\n",
    "Мы погуляли в фруктовом саду и собрали следующие данные про несколько обнаруженных там фруктов:\n",
    "$$\n",
    "\\begin{array}{ c | c c c} & \\text{желтизна} & \\text{симметричность} & \\text{это груша?} \\\\\\hline 1 & 1 & 0.3 & \\text{да} \\\\ 2 & 0.4 & 0.5 & \\text{да} \\\\ 3 & 0.7 & 0.8 & \\text{нет} \\end{array}\n",
    "$$\n",
    "Пусть у нас есть перцептрон с весами (0, 0) и смещением 0. \n",
    "Давайте проведем одну итерацию обучения перцептрона на приведённых данных, чтобы научиться различать груши и не груши (шаг обучения равен 1).\n",
    "\n",
    "Ответ: (0, 0.3, -0.5) - смещение, желтизна, симмеричность."
   ]
  },
  {
   "cell_type": "markdown",
   "metadata": {},
   "source": [
    "## 5. Многослойный перцептрон\n",
    "<img src=\"images/per.png\" align=\"center\" style=\"height: 400px;\"/>"
   ]
  },
  {
   "cell_type": "markdown",
   "metadata": {},
   "source": [
    "Решим задачу регресии - научимся восстанавливать функцию одного аргумента с помощью полносвязной сети с одним скрытым слоем, в котором будет $n$ нейронов.\n",
    "\n",
    "Теорма Цыбенко (универсальная теорема апроксимации) утверждает, что искусственная нейронная сеть прямой связи (в которых связи не образуют циклов) с одним скрытым слоем может аппроксимировать любую непрерывную на компакте функцию многих переменных с любой точностью. \n",
    "\n",
    "<img src=\"images/SinNet.png\" align=\"center\" style=\"height: 400px;\"/>"
   ]
  },
  {
   "cell_type": "markdown",
   "metadata": {},
   "source": [
    "Выход нейронной сети: \n",
    "$$y(x) = B \\sigma(Ax + \\alpha) + \\beta$$\n",
    "\n",
    "$ A = \\begin{pmatrix}\n",
    "a_1 & a_2 & \\ldots & a_n\n",
    "\\end{pmatrix}^T $ - вектор весов нейронов скрытого слоя, \n",
    "\n",
    "$ \\alpha = \\begin{pmatrix}\n",
    "\\alpha_1 & \\alpha_2 & \\ldots & \\alpha_n\n",
    "\\end{pmatrix}^T $ - вектор смещений нейронов скрытого слоя,\n",
    "\n",
    "$ B = \\begin{pmatrix}\n",
    "b_1 & b_2 & \\ldots & b_n\n",
    "\\end{pmatrix} $ - вектор весов нейрона выходного слоя,\n",
    "\n",
    "$\\beta$ - смещение нейрона выходного слоя."
   ]
  },
  {
   "cell_type": "markdown",
   "metadata": {},
   "source": [
    "### 5.1 Реализация полносвязной однослойной неронной сети"
   ]
  },
  {
   "cell_type": "code",
   "execution_count": 95,
   "metadata": {},
   "outputs": [],
   "source": [
    "import numpy as np\n",
    "import matplotlib.pyplot as plt\n",
    "import matplotlib\n",
    "\n",
    "import time\n",
    "import tqdm\n",
    "\n",
    "matplotlib.rcParams['figure.figsize'] = (13.0, 5.0) # размер графика по умолчанию (13.0, 5.0)\n",
    "np.random.seed(42) # Для воспроизводимости результатов"
   ]
  },
  {
   "cell_type": "code",
   "execution_count": 96,
   "metadata": {},
   "outputs": [
    {
     "data": {
      "image/png": "[encoded data removed]",
      "text/plain": [
       "<Figure size 936x360 with 1 Axes>"
      ]
     },
     "metadata": {
      "needs_background": "light"
     },
     "output_type": "display_data"
    }
   ],
   "source": [
    "x_train = np.linspace(0, 4*np.pi, num = 500)\n",
    "y_train = np.sin(x_train)\n",
    "\n",
    "# plt.figure(figsize = (10,7)) # размер графика (10,7)\n",
    "plt.plot(x_train, y_train, 'o')\n",
    "plt.title('$y = sin(x)$');"
   ]
  },
  {
   "cell_type": "code",
   "execution_count": 8,
   "metadata": {},
   "outputs": [
    {
     "data": {
      "text/plain": [
       "Text(0.5, 1.0, 'Gaussian noise')"
      ]
     },
     "execution_count": 8,
     "metadata": {},
     "output_type": "execute_result"
    },
    {
     "data": {
      "image/png": "[encoded data removed]",
      "text/plain": [
       "<Figure size 432x288 with 1 Axes>"
      ]
     },
     "metadata": {
      "needs_background": "light"
     },
     "output_type": "display_data"
    }
   ],
   "source": [
    "# Добавим гауссовский шум\n",
    "noise = np.random.normal(size = 500) / 5 # 100 чисел из нормального распределения с матожиданием 0 и стандартным отклонением 1 \n",
    "\n",
    "plt.plot(x_train, noise, 'o')\n",
    "plt.title('Gaussian noise')"
   ]
  },
  {
   "cell_type": "code",
   "execution_count": 9,
   "metadata": {},
   "outputs": [
    {
     "data": {
      "image/png": "[encoded data removed]",
      "text/plain": [
       "<Figure size 432x288 with 1 Axes>"
      ]
     },
     "metadata": {
      "needs_background": "light"
     },
     "output_type": "display_data"
    }
   ],
   "source": [
    "y_train = y_train + noise\n",
    "\n",
    "plt.plot(x_train, y_train, 'o')\n",
    "plt.title('noisy sin(x)')\n",
    "plt.xlabel('x_train')\n",
    "plt.ylabel('y_train');"
   ]
  },
  {
   "cell_type": "code",
   "execution_count": 10,
   "metadata": {},
   "outputs": [],
   "source": [
    "# Полезные функции\n",
    "\n",
    "def sigma(x):\n",
    "    '''Sigmoid function'''\n",
    "    return 1.0 / (1 + np.exp(-x))\n",
    "\n",
    "def der_sigm(x):\n",
    "    '''Derevative of sigmoid function'''\n",
    "    return sigma(x)*(1 - sigma(x))\n",
    "\n",
    "def loss(y, y_hat):\n",
    "    '''MSE function'''\n",
    "    return ((np.array(y) - np.array(y_hat))**2).mean()\n",
    "\n",
    "def target(y, y_hat):\n",
    "    '''MAE function'''\n",
    "    return (abs(np.array(y) - np.array(y_hat))).mean()"
   ]
  },
  {
   "cell_type": "code",
   "execution_count": 11,
   "metadata": {},
   "outputs": [
    {
     "name": "stdout",
     "output_type": "stream",
     "text": [
      "Help on function loss in module __main__:\n",
      "\n",
      "loss(y, y_hat)\n",
      "    MSE function\n",
      "\n"
     ]
    }
   ],
   "source": [
    "# Livehack\n",
    "\n",
    "help(loss)"
   ]
  },
  {
   "cell_type": "markdown",
   "metadata": {},
   "source": [
    "Производные функции потерь во матрицам весов:\n",
    "\n",
    "$$\\frac{\\partial L}{\\partial A} = \\frac{2}{N} \\sum_{i = 1}^N (B \\sigma(Ax_i + \\alpha) + \\beta - \\hat{y}_i) \\cdot \\sigma(Ax_i + \\alpha) \\odot (1 - \\sigma(Ax_i + \\alpha))x_i,$$\n",
    "\n",
    "$$\\frac{\\partial L}{\\partial \\alpha} = \\frac{2}{N} \\sum_{i = 1}^N (B \\sigma(Ax_i + \\alpha) + \\beta - \\hat{y}_i) \\cdot \\sigma(Ax_i + \\alpha) \\odot (1 - \\sigma(Ax_i + \\alpha)),$$\n",
    "\n",
    "$$\\frac{\\partial L}{\\partial B} = \\frac{2}{N} \\sum_{i = 1}^N (B \\sigma(Ax_i + \\alpha) + \\beta - \\hat{y}_i) \\cdot \\sigma(Ax_i + \\alpha)^T,$$\n",
    "\n",
    "$$\\frac{\\partial L}{\\partial \\beta} = \\frac{2}{N} \\sum_{i = 1}^N (B \\sigma(Ax_i + \\alpha) + \\beta - \\hat{y}_i).$$"
   ]
  },
  {
   "cell_type": "code",
   "execution_count": 12,
   "metadata": {},
   "outputs": [],
   "source": [
    "# Послнослойная нейронная сеть с одним входом и одним выходом (для решения задачи регрессии с одним предиктором)\n",
    "\n",
    "class SinNet:\n",
    "    def __init__(self, num_hidden_neurons):\n",
    "        self.num_hidden_neurons = num_hidden_neurons\n",
    "        \n",
    "        self.A = np.random.normal(size = num_hidden_neurons).reshape(num_hidden_neurons, 1)\n",
    "        self.alpha = np.random.normal(size = num_hidden_neurons).reshape(num_hidden_neurons, 1)\n",
    "        self.B = np.random.normal(size = num_hidden_neurons).reshape(1, num_hidden_neurons)\n",
    "        self.beta = np.random.normal(size = 1)\n",
    "        \n",
    "    def predict(self, x):\n",
    "        return np.dot(self.B, sigma(np.dot(self.A, x) + self.alpha)) + self.beta\n",
    "    \n",
    "    def SGD_step(self, x, y, lr = 0.0025):\n",
    "        self.A -= 2*lr*(self.predict(x) - y)*der_sigm(np.dot(self.A, x) + self.alpha)*x\n",
    "        self.alpha -= 2*lr*(self.predict(x) - y)*der_sigm(np.dot(self.A, x) + self.alpha)\n",
    "        self.B -= 2*lr*(self.predict(x) - y) * (sigma(np.dot(self.A, x) + self.alpha)).T\n",
    "        self.beta -= 2*lr*(self.predict(x) - y)[0] # без [0] возвращает ([[число]])"
   ]
  },
  {
   "cell_type": "code",
   "execution_count": 13,
   "metadata": {},
   "outputs": [
    {
     "data": {
      "text/plain": [
       "[<matplotlib.lines.Line2D at 0x21e959d6710>]"
      ]
     },
     "execution_count": 13,
     "metadata": {},
     "output_type": "execute_result"
    },
    {
     "data": {
      "image/png": "[encoded data removed]",
      "text/plain": [
       "<Figure size 432x288 with 1 Axes>"
      ]
     },
     "metadata": {
      "needs_background": "light"
     },
     "output_type": "display_data"
    }
   ],
   "source": [
    "net = SinNet(100)\n",
    "\n",
    "Y = []\n",
    "for x in x_train:\n",
    "    Y.append(*net.predict(x))\n",
    "\n",
    "plt.plot(x_train, y_train, 'o', label = 'training')\n",
    "plt.plot(x_train, Y, 'o', label = 'predicted')"
   ]
  },
  {
   "cell_type": "code",
   "execution_count": 14,
   "metadata": {},
   "outputs": [
    {
     "data": {
      "application/vnd.jupyter.widget-view+json": {
       "model_id": "a36389cbf17c4fc6a6c728754567dd31",
       "version_major": 2,
       "version_minor": 0
      },
      "text/plain": [
       "HBox(children=(IntProgress(value=0, description='Progress bar', max=500, style=ProgressStyle(description_width…"
      ]
     },
     "metadata": {},
     "output_type": "display_data"
    },
    {
     "data": {
      "application/vnd.jupyter.widget-view+json": {
       "model_id": "5a03d71bc7c04fd9bc4c61530991d0b5",
       "version_major": 2,
       "version_minor": 0
      },
      "text/plain": [
       "HBox(children=(IntProgress(value=0, description='1 epoch', max=500, style=ProgressStyle(description_width='ini…"
      ]
     },
     "metadata": {},
     "output_type": "display_data"
    },
    {
     "data": {
      "application/vnd.jupyter.widget-view+json": {
       "model_id": "469e51d01fe0404b9408c58a6678a2ce",
       "version_major": 2,
       "version_minor": 0
      },
      "text/plain": [
       "HBox(children=(IntProgress(value=0, description='2 epoch', max=500, style=ProgressStyle(description_width='ini…"
      ]
     },
     "metadata": {},
     "output_type": "display_data"
    },
    {
     "data": {
      "application/vnd.jupyter.widget-view+json": {
       "model_id": "af29de20c663476c80dda94195c8a7cc",
       "version_major": 2,
       "version_minor": 0
      },
      "text/plain": [
       "HBox(children=(IntProgress(value=0, description='3 epoch', max=500, style=ProgressStyle(description_width='ini…"
      ]
     },
     "metadata": {},
     "output_type": "display_data"
    },
    {
     "data": {
      "application/vnd.jupyter.widget-view+json": {
       "model_id": "aad8b20b058e44e8ac085f2105bb7c14",
       "version_major": 2,
       "version_minor": 0
      },
      "text/plain": [
       "HBox(children=(IntProgress(value=0, description='4 epoch', max=500, style=ProgressStyle(description_width='ini…"
      ]
     },
     "metadata": {},
     "output_type": "display_data"
    },
    {
     "data": {
      "application/vnd.jupyter.widget-view+json": {
       "model_id": "4794460d300c4f76ac05379ef59e1498",
       "version_major": 2,
       "version_minor": 0
      },
      "text/plain": [
       "HBox(children=(IntProgress(value=0, description='5 epoch', max=500, style=ProgressStyle(description_width='ini…"
      ]
     },
     "metadata": {},
     "output_type": "display_data"
    },
    {
     "data": {
      "application/vnd.jupyter.widget-view+json": {
       "model_id": "10d4ca25a0b5458498dee85af0c8454c",
       "version_major": 2,
       "version_minor": 0
      },
      "text/plain": [
       "HBox(children=(IntProgress(value=0, description='6 epoch', max=500, style=ProgressStyle(description_width='ini…"
      ]
     },
     "metadata": {},
     "output_type": "display_data"
    },
    {
     "data": {
      "application/vnd.jupyter.widget-view+json": {
       "model_id": "0d89dafa76a9424daa88aa2f75ddc4b8",
       "version_major": 2,
       "version_minor": 0
      },
      "text/plain": [
       "HBox(children=(IntProgress(value=0, description='7 epoch', max=500, style=ProgressStyle(description_width='ini…"
      ]
     },
     "metadata": {},
     "output_type": "display_data"
    },
    {
     "data": {
      "application/vnd.jupyter.widget-view+json": {
       "model_id": "c813e7440ec04124a0085a90a5672b5f",
       "version_major": 2,
       "version_minor": 0
      },
      "text/plain": [
       "HBox(children=(IntProgress(value=0, description='8 epoch', max=500, style=ProgressStyle(description_width='ini…"
      ]
     },
     "metadata": {},
     "output_type": "display_data"
    },
    {
     "data": {
      "application/vnd.jupyter.widget-view+json": {
       "model_id": "8bb9d82c9010415db3c33584181c23cf",
       "version_major": 2,
       "version_minor": 0
      },
      "text/plain": [
       "HBox(children=(IntProgress(value=0, description='9 epoch', max=500, style=ProgressStyle(description_width='ini…"
      ]
     },
     "metadata": {},
     "output_type": "display_data"
    },
    {
     "data": {
      "application/vnd.jupyter.widget-view+json": {
       "model_id": "c2bcd2efb141410b92608235c96b82c2",
       "version_major": 2,
       "version_minor": 0
      },
      "text/plain": [
       "HBox(children=(IntProgress(value=0, description='10 epoch', max=500, style=ProgressStyle(description_width='in…"
      ]
     },
     "metadata": {},
     "output_type": "display_data"
    },
    {
     "data": {
      "application/vnd.jupyter.widget-view+json": {
       "model_id": "c5380088676c4118805a46f7b15ec970",
       "version_major": 2,
       "version_minor": 0
      },
      "text/plain": [
       "HBox(children=(IntProgress(value=0, description='11 epoch', max=500, style=ProgressStyle(description_width='in…"
      ]
     },
     "metadata": {},
     "output_type": "display_data"
    },
    {
     "data": {
      "application/vnd.jupyter.widget-view+json": {
       "model_id": "31bdf9f80d814a75a0d2f3fb1c3205bf",
       "version_major": 2,
       "version_minor": 0
      },
      "text/plain": [
       "HBox(children=(IntProgress(value=0, description='12 epoch', max=500, style=ProgressStyle(description_width='in…"
      ]
     },
     "metadata": {},
     "output_type": "display_data"
    },
    {
     "data": {
      "application/vnd.jupyter.widget-view+json": {
       "model_id": "fa1d19c8640e487a917bb9234e43bf17",
       "version_major": 2,
       "version_minor": 0
      },
      "text/plain": [
       "HBox(children=(IntProgress(value=0, description='13 epoch', max=500, style=ProgressStyle(description_width='in…"
      ]
     },
     "metadata": {},
     "output_type": "display_data"
    },
    {
     "data": {
      "application/vnd.jupyter.widget-view+json": {
       "model_id": "1fabc27d1dc442ce8a88c30116ccf1c7",
       "version_major": 2,
       "version_minor": 0
      },
      "text/plain": [
       "HBox(children=(IntProgress(value=0, description='14 epoch', max=500, style=ProgressStyle(description_width='in…"
      ]
     },
     "metadata": {},
     "output_type": "display_data"
    },
    {
     "data": {
      "application/vnd.jupyter.widget-view+json": {
       "model_id": "451f03859c984791a488883c6ef637e6",
       "version_major": 2,
       "version_minor": 0
      },
      "text/plain": [
       "HBox(children=(IntProgress(value=0, description='15 epoch', max=500, style=ProgressStyle(description_width='in…"
      ]
     },
     "metadata": {},
     "output_type": "display_data"
    },
    {
     "data": {
      "application/vnd.jupyter.widget-view+json": {
       "model_id": "4615ae3876234dd8969621eaf148acbc",
       "version_major": 2,
       "version_minor": 0
      },
      "text/plain": [
       "HBox(children=(IntProgress(value=0, description='16 epoch', max=500, style=ProgressStyle(description_width='in…"
      ]
     },
     "metadata": {},
     "output_type": "display_data"
    },
    {
     "data": {
      "application/vnd.jupyter.widget-view+json": {
       "model_id": "fe965566a61c415fb676be5c1ff5a1ac",
       "version_major": 2,
       "version_minor": 0
      },
      "text/plain": [
       "HBox(children=(IntProgress(value=0, description='17 epoch', max=500, style=ProgressStyle(description_width='in…"
      ]
     },
     "metadata": {},
     "output_type": "display_data"
    },
    {
     "data": {
      "application/vnd.jupyter.widget-view+json": {
       "model_id": "9055845655424691a20285ed5a6d6951",
       "version_major": 2,
       "version_minor": 0
      },
      "text/plain": [
       "HBox(children=(IntProgress(value=0, description='18 epoch', max=500, style=ProgressStyle(description_width='in…"
      ]
     },
     "metadata": {},
     "output_type": "display_data"
    },
    {
     "data": {
      "application/vnd.jupyter.widget-view+json": {
       "model_id": "10ba682b55744ca0a07a1748b1df5866",
       "version_major": 2,
       "version_minor": 0
      },
      "text/plain": [
       "HBox(children=(IntProgress(value=0, description='19 epoch', max=500, style=ProgressStyle(description_width='in…"
      ]
     },
     "metadata": {},
     "output_type": "display_data"
    },
    {
     "data": {
      "application/vnd.jupyter.widget-view+json": {
       "model_id": "8f848e239f044e4cb65c4650e1d8f1a1",
       "version_major": 2,
       "version_minor": 0
      },
      "text/plain": [
       "HBox(children=(IntProgress(value=0, description='20 epoch', max=500, style=ProgressStyle(description_width='in…"
      ]
     },
     "metadata": {},
     "output_type": "display_data"
    },
    {
     "data": {
      "application/vnd.jupyter.widget-view+json": {
       "model_id": "5d818c1a74204bc3b6327585c67c7d4a",
       "version_major": 2,
       "version_minor": 0
      },
      "text/plain": [
       "HBox(children=(IntProgress(value=0, description='21 epoch', max=500, style=ProgressStyle(description_width='in…"
      ]
     },
     "metadata": {},
     "output_type": "display_data"
    },
    {
     "data": {
      "application/vnd.jupyter.widget-view+json": {
       "model_id": "2cdcac1793bd4cbba9bd969570136026",
       "version_major": 2,
       "version_minor": 0
      },
      "text/plain": [
       "HBox(children=(IntProgress(value=0, description='22 epoch', max=500, style=ProgressStyle(description_width='in…"
      ]
     },
     "metadata": {},
     "output_type": "display_data"
    },
    {
     "data": {
      "application/vnd.jupyter.widget-view+json": {
       "model_id": "a25e78e137754b95aec9b9d70e88303a",
       "version_major": 2,
       "version_minor": 0
      },
      "text/plain": [
       "HBox(children=(IntProgress(value=0, description='23 epoch', max=500, style=ProgressStyle(description_width='in…"
      ]
     },
     "metadata": {},
     "output_type": "display_data"
    },
    {
     "data": {
      "application/vnd.jupyter.widget-view+json": {
       "model_id": "1aea2b2b734043869a75437268539128",
       "version_major": 2,
       "version_minor": 0
      },
      "text/plain": [
       "HBox(children=(IntProgress(value=0, description='24 epoch', max=500, style=ProgressStyle(description_width='in…"
      ]
     },
     "metadata": {},
     "output_type": "display_data"
    },
    {
     "data": {
      "application/vnd.jupyter.widget-view+json": {
       "model_id": "af35998294154455b6504ad0056878fa",
       "version_major": 2,
       "version_minor": 0
      },
      "text/plain": [
       "HBox(children=(IntProgress(value=0, description='25 epoch', max=500, style=ProgressStyle(description_width='in…"
      ]
     },
     "metadata": {},
     "output_type": "display_data"
    },
    {
     "data": {
      "application/vnd.jupyter.widget-view+json": {
       "model_id": "72c9871e1dbe4dbaa6554887c465de1b",
       "version_major": 2,
       "version_minor": 0
      },
      "text/plain": [
       "HBox(children=(IntProgress(value=0, description='26 epoch', max=500, style=ProgressStyle(description_width='in…"
      ]
     },
     "metadata": {},
     "output_type": "display_data"
    },
    {
     "data": {
      "application/vnd.jupyter.widget-view+json": {
       "model_id": "8f9323d9bc2b458da40de0b9f611efe5",
       "version_major": 2,
       "version_minor": 0
      },
      "text/plain": [
       "HBox(children=(IntProgress(value=0, description='27 epoch', max=500, style=ProgressStyle(description_width='in…"
      ]
     },
     "metadata": {},
     "output_type": "display_data"
    },
    {
     "data": {
      "application/vnd.jupyter.widget-view+json": {
       "model_id": "a5bccf845f164dc2bc06a42b3da3d76c",
       "version_major": 2,
       "version_minor": 0
      },
      "text/plain": [
       "HBox(children=(IntProgress(value=0, description='28 epoch', max=500, style=ProgressStyle(description_width='in…"
      ]
     },
     "metadata": {},
     "output_type": "display_data"
    },
    {
     "data": {
      "application/vnd.jupyter.widget-view+json": {
       "model_id": "b8352458c1064deaad2287df6d593627",
       "version_major": 2,
       "version_minor": 0
      },
      "text/plain": [
       "HBox(children=(IntProgress(value=0, description='29 epoch', max=500, style=ProgressStyle(description_width='in…"
      ]
     },
     "metadata": {},
     "output_type": "display_data"
    },
    {
     "data": {
      "application/vnd.jupyter.widget-view+json": {
       "model_id": "d1b1e071097b4cd9b633c5af7f32e4b3",
       "version_major": 2,
       "version_minor": 0
      },
      "text/plain": [
       "HBox(children=(IntProgress(value=0, description='30 epoch', max=500, style=ProgressStyle(description_width='in…"
      ]
     },
     "metadata": {},
     "output_type": "display_data"
    },
    {
     "data": {
      "application/vnd.jupyter.widget-view+json": {
       "model_id": "718d518076e24af5a250679c76f25fb0",
       "version_major": 2,
       "version_minor": 0
      },
      "text/plain": [
       "HBox(children=(IntProgress(value=0, description='31 epoch', max=500, style=ProgressStyle(description_width='in…"
      ]
     },
     "metadata": {},
     "output_type": "display_data"
    },
    {
     "data": {
      "application/vnd.jupyter.widget-view+json": {
       "model_id": "a0304fd9463247c8ba5c0e9beb0731b1",
       "version_major": 2,
       "version_minor": 0
      },
      "text/plain": [
       "HBox(children=(IntProgress(value=0, description='32 epoch', max=500, style=ProgressStyle(description_width='in…"
      ]
     },
     "metadata": {},
     "output_type": "display_data"
    },
    {
     "data": {
      "application/vnd.jupyter.widget-view+json": {
       "model_id": "bcec273052ac4ba782833a87c3dce367",
       "version_major": 2,
       "version_minor": 0
      },
      "text/plain": [
       "HBox(children=(IntProgress(value=0, description='33 epoch', max=500, style=ProgressStyle(description_width='in…"
      ]
     },
     "metadata": {},
     "output_type": "display_data"
    },
    {
     "data": {
      "application/vnd.jupyter.widget-view+json": {
       "model_id": "26f18f18282c41ee9490bd2bfab3417d",
       "version_major": 2,
       "version_minor": 0
      },
      "text/plain": [
       "HBox(children=(IntProgress(value=0, description='34 epoch', max=500, style=ProgressStyle(description_width='in…"
      ]
     },
     "metadata": {},
     "output_type": "display_data"
    },
    {
     "data": {
      "application/vnd.jupyter.widget-view+json": {
       "model_id": "37cb93d69c0d44068feee67fd24cde68",
       "version_major": 2,
       "version_minor": 0
      },
      "text/plain": [
       "HBox(children=(IntProgress(value=0, description='35 epoch', max=500, style=ProgressStyle(description_width='in…"
      ]
     },
     "metadata": {},
     "output_type": "display_data"
    },
    {
     "data": {
      "application/vnd.jupyter.widget-view+json": {
       "model_id": "0a758f3d789f49379e785ca854a61f38",
       "version_major": 2,
       "version_minor": 0
      },
      "text/plain": [
       "HBox(children=(IntProgress(value=0, description='36 epoch', max=500, style=ProgressStyle(description_width='in…"
      ]
     },
     "metadata": {},
     "output_type": "display_data"
    },
    {
     "data": {
      "application/vnd.jupyter.widget-view+json": {
       "model_id": "0636265b13b7448eb27d2cab6f6a5405",
       "version_major": 2,
       "version_minor": 0
      },
      "text/plain": [
       "HBox(children=(IntProgress(value=0, description='37 epoch', max=500, style=ProgressStyle(description_width='in…"
      ]
     },
     "metadata": {},
     "output_type": "display_data"
    },
    {
     "data": {
      "application/vnd.jupyter.widget-view+json": {
       "model_id": "5482f5236b8c4e3e84b5cffea567967a",
       "version_major": 2,
       "version_minor": 0
      },
      "text/plain": [
       "HBox(children=(IntProgress(value=0, description='38 epoch', max=500, style=ProgressStyle(description_width='in…"
      ]
     },
     "metadata": {},
     "output_type": "display_data"
    },
    {
     "data": {
      "application/vnd.jupyter.widget-view+json": {
       "model_id": "a60e25941a1545cb8cb0354c6882cd23",
       "version_major": 2,
       "version_minor": 0
      },
      "text/plain": [
       "HBox(children=(IntProgress(value=0, description='39 epoch', max=500, style=ProgressStyle(description_width='in…"
      ]
     },
     "metadata": {},
     "output_type": "display_data"
    },
    {
     "data": {
      "application/vnd.jupyter.widget-view+json": {
       "model_id": "18010f51ed2a491d8a5a10aeeff57b67",
       "version_major": 2,
       "version_minor": 0
      },
      "text/plain": [
       "HBox(children=(IntProgress(value=0, description='40 epoch', max=500, style=ProgressStyle(description_width='in…"
      ]
     },
     "metadata": {},
     "output_type": "display_data"
    },
    {
     "data": {
      "application/vnd.jupyter.widget-view+json": {
       "model_id": "5579ade3dc9846deaa47160958b72279",
       "version_major": 2,
       "version_minor": 0
      },
      "text/plain": [
       "HBox(children=(IntProgress(value=0, description='41 epoch', max=500, style=ProgressStyle(description_width='in…"
      ]
     },
     "metadata": {},
     "output_type": "display_data"
    },
    {
     "data": {
      "application/vnd.jupyter.widget-view+json": {
       "model_id": "a5459e731ee74e8d8c85f188dd4a3a6c",
       "version_major": 2,
       "version_minor": 0
      },
      "text/plain": [
       "HBox(children=(IntProgress(value=0, description='42 epoch', max=500, style=ProgressStyle(description_width='in…"
      ]
     },
     "metadata": {},
     "output_type": "display_data"
    },
    {
     "data": {
      "application/vnd.jupyter.widget-view+json": {
       "model_id": "f3176126bf004fadae5269e2dcbd1bfc",
       "version_major": 2,
       "version_minor": 0
      },
      "text/plain": [
       "HBox(children=(IntProgress(value=0, description='43 epoch', max=500, style=ProgressStyle(description_width='in…"
      ]
     },
     "metadata": {},
     "output_type": "display_data"
    },
    {
     "data": {
      "application/vnd.jupyter.widget-view+json": {
       "model_id": "be423dd7f70a46cc9c4acb01e3489a8d",
       "version_major": 2,
       "version_minor": 0
      },
      "text/plain": [
       "HBox(children=(IntProgress(value=0, description='44 epoch', max=500, style=ProgressStyle(description_width='in…"
      ]
     },
     "metadata": {},
     "output_type": "display_data"
    },
    {
     "data": {
      "application/vnd.jupyter.widget-view+json": {
       "model_id": "2add34eb1ee94d958fa46288d4320333",
       "version_major": 2,
       "version_minor": 0
      },
      "text/plain": [
       "HBox(children=(IntProgress(value=0, description='45 epoch', max=500, style=ProgressStyle(description_width='in…"
      ]
     },
     "metadata": {},
     "output_type": "display_data"
    },
    {
     "data": {
      "application/vnd.jupyter.widget-view+json": {
       "model_id": "6e63b634687b48fc8593a92cd79f2170",
       "version_major": 2,
       "version_minor": 0
      },
      "text/plain": [
       "HBox(children=(IntProgress(value=0, description='46 epoch', max=500, style=ProgressStyle(description_width='in…"
      ]
     },
     "metadata": {},
     "output_type": "display_data"
    },
    {
     "data": {
      "application/vnd.jupyter.widget-view+json": {
       "model_id": "7755a9cb356242d4ae611276759a0f8f",
       "version_major": 2,
       "version_minor": 0
      },
      "text/plain": [
       "HBox(children=(IntProgress(value=0, description='47 epoch', max=500, style=ProgressStyle(description_width='in…"
      ]
     },
     "metadata": {},
     "output_type": "display_data"
    },
    {
     "data": {
      "application/vnd.jupyter.widget-view+json": {
       "model_id": "ba4d490b05e24f578a163a6fe4c79deb",
       "version_major": 2,
       "version_minor": 0
      },
      "text/plain": [
       "HBox(children=(IntProgress(value=0, description='48 epoch', max=500, style=ProgressStyle(description_width='in…"
      ]
     },
     "metadata": {},
     "output_type": "display_data"
    },
    {
     "data": {
      "application/vnd.jupyter.widget-view+json": {
       "model_id": "0da6a684bf134a048065d0d0f76dce58",
       "version_major": 2,
       "version_minor": 0
      },
      "text/plain": [
       "HBox(children=(IntProgress(value=0, description='49 epoch', max=500, style=ProgressStyle(description_width='in…"
      ]
     },
     "metadata": {},
     "output_type": "display_data"
    },
    {
     "data": {
      "application/vnd.jupyter.widget-view+json": {
       "model_id": "8dd5686f9e604ecea2aa264c6e4579b3",
       "version_major": 2,
       "version_minor": 0
      },
      "text/plain": [
       "HBox(children=(IntProgress(value=0, description='50 epoch', max=500, style=ProgressStyle(description_width='in…"
      ]
     },
     "metadata": {},
     "output_type": "display_data"
    },
    {
     "data": {
      "application/vnd.jupyter.widget-view+json": {
       "model_id": "1f3609990e814fff9064618b3efec428",
       "version_major": 2,
       "version_minor": 0
      },
      "text/plain": [
       "HBox(children=(IntProgress(value=0, description='51 epoch', max=500, style=ProgressStyle(description_width='in…"
      ]
     },
     "metadata": {},
     "output_type": "display_data"
    },
    {
     "data": {
      "application/vnd.jupyter.widget-view+json": {
       "model_id": "f283026ab39d40ada4bb743681171fb8",
       "version_major": 2,
       "version_minor": 0
      },
      "text/plain": [
       "HBox(children=(IntProgress(value=0, description='52 epoch', max=500, style=ProgressStyle(description_width='in…"
      ]
     },
     "metadata": {},
     "output_type": "display_data"
    },
    {
     "data": {
      "application/vnd.jupyter.widget-view+json": {
       "model_id": "caa591f39d5d47d1b36fbc7a43ee78aa",
       "version_major": 2,
       "version_minor": 0
      },
      "text/plain": [
       "HBox(children=(IntProgress(value=0, description='53 epoch', max=500, style=ProgressStyle(description_width='in…"
      ]
     },
     "metadata": {},
     "output_type": "display_data"
    },
    {
     "data": {
      "application/vnd.jupyter.widget-view+json": {
       "model_id": "e5f006f0328e4659894760d75c3596e5",
       "version_major": 2,
       "version_minor": 0
      },
      "text/plain": [
       "HBox(children=(IntProgress(value=0, description='54 epoch', max=500, style=ProgressStyle(description_width='in…"
      ]
     },
     "metadata": {},
     "output_type": "display_data"
    },
    {
     "data": {
      "application/vnd.jupyter.widget-view+json": {
       "model_id": "c159bc82367c4e34942341c2e81b1c84",
       "version_major": 2,
       "version_minor": 0
      },
      "text/plain": [
       "HBox(children=(IntProgress(value=0, description='55 epoch', max=500, style=ProgressStyle(description_width='in…"
      ]
     },
     "metadata": {},
     "output_type": "display_data"
    },
    {
     "data": {
      "application/vnd.jupyter.widget-view+json": {
       "model_id": "1e42c1e16b344c9e82922cd6227ae5a6",
       "version_major": 2,
       "version_minor": 0
      },
      "text/plain": [
       "HBox(children=(IntProgress(value=0, description='56 epoch', max=500, style=ProgressStyle(description_width='in…"
      ]
     },
     "metadata": {},
     "output_type": "display_data"
    },
    {
     "data": {
      "application/vnd.jupyter.widget-view+json": {
       "model_id": "d12a652c64284cc39cfaa6f81a33b706",
       "version_major": 2,
       "version_minor": 0
      },
      "text/plain": [
       "HBox(children=(IntProgress(value=0, description='57 epoch', max=500, style=ProgressStyle(description_width='in…"
      ]
     },
     "metadata": {},
     "output_type": "display_data"
    },
    {
     "data": {
      "application/vnd.jupyter.widget-view+json": {
       "model_id": "e958d4718e6e4d2b99538a57d435d36c",
       "version_major": 2,
       "version_minor": 0
      },
      "text/plain": [
       "HBox(children=(IntProgress(value=0, description='58 epoch', max=500, style=ProgressStyle(description_width='in…"
      ]
     },
     "metadata": {},
     "output_type": "display_data"
    },
    {
     "data": {
      "application/vnd.jupyter.widget-view+json": {
       "model_id": "d8c18c246dd34f02b6c8106e7882f998",
       "version_major": 2,
       "version_minor": 0
      },
      "text/plain": [
       "HBox(children=(IntProgress(value=0, description='59 epoch', max=500, style=ProgressStyle(description_width='in…"
      ]
     },
     "metadata": {},
     "output_type": "display_data"
    },
    {
     "data": {
      "application/vnd.jupyter.widget-view+json": {
       "model_id": "92ea33051f5244638b20547cc70ebffe",
       "version_major": 2,
       "version_minor": 0
      },
      "text/plain": [
       "HBox(children=(IntProgress(value=0, description='60 epoch', max=500, style=ProgressStyle(description_width='in…"
      ]
     },
     "metadata": {},
     "output_type": "display_data"
    },
    {
     "data": {
      "application/vnd.jupyter.widget-view+json": {
       "model_id": "a690f7eaa0634594a78bb02f8c74df66",
       "version_major": 2,
       "version_minor": 0
      },
      "text/plain": [
       "HBox(children=(IntProgress(value=0, description='61 epoch', max=500, style=ProgressStyle(description_width='in…"
      ]
     },
     "metadata": {},
     "output_type": "display_data"
    },
    {
     "data": {
      "application/vnd.jupyter.widget-view+json": {
       "model_id": "8e2b86115eb948e2877e05c12dfe113f",
       "version_major": 2,
       "version_minor": 0
      },
      "text/plain": [
       "HBox(children=(IntProgress(value=0, description='62 epoch', max=500, style=ProgressStyle(description_width='in…"
      ]
     },
     "metadata": {},
     "output_type": "display_data"
    },
    {
     "data": {
      "application/vnd.jupyter.widget-view+json": {
       "model_id": "e44b938e95634ead9c075bde97d5cb4d",
       "version_major": 2,
       "version_minor": 0
      },
      "text/plain": [
       "HBox(children=(IntProgress(value=0, description='63 epoch', max=500, style=ProgressStyle(description_width='in…"
      ]
     },
     "metadata": {},
     "output_type": "display_data"
    },
    {
     "data": {
      "application/vnd.jupyter.widget-view+json": {
       "model_id": "7c75ec5427cd437baa4242d89a5b5e32",
       "version_major": 2,
       "version_minor": 0
      },
      "text/plain": [
       "HBox(children=(IntProgress(value=0, description='64 epoch', max=500, style=ProgressStyle(description_width='in…"
      ]
     },
     "metadata": {},
     "output_type": "display_data"
    },
    {
     "data": {
      "application/vnd.jupyter.widget-view+json": {
       "model_id": "852718fb04e442e0baed2112ff45776a",
       "version_major": 2,
       "version_minor": 0
      },
      "text/plain": [
       "HBox(children=(IntProgress(value=0, description='65 epoch', max=500, style=ProgressStyle(description_width='in…"
      ]
     },
     "metadata": {},
     "output_type": "display_data"
    },
    {
     "data": {
      "application/vnd.jupyter.widget-view+json": {
       "model_id": "757a05560a714309b6060b1b56d31f36",
       "version_major": 2,
       "version_minor": 0
      },
      "text/plain": [
       "HBox(children=(IntProgress(value=0, description='66 epoch', max=500, style=ProgressStyle(description_width='in…"
      ]
     },
     "metadata": {},
     "output_type": "display_data"
    },
    {
     "data": {
      "application/vnd.jupyter.widget-view+json": {
       "model_id": "7041c0cd55474e0699ccbd8a0293738d",
       "version_major": 2,
       "version_minor": 0
      },
      "text/plain": [
       "HBox(children=(IntProgress(value=0, description='67 epoch', max=500, style=ProgressStyle(description_width='in…"
      ]
     },
     "metadata": {},
     "output_type": "display_data"
    },
    {
     "data": {
      "application/vnd.jupyter.widget-view+json": {
       "model_id": "7e09393e9a304821aaa6144f991f3145",
       "version_major": 2,
       "version_minor": 0
      },
      "text/plain": [
       "HBox(children=(IntProgress(value=0, description='68 epoch', max=500, style=ProgressStyle(description_width='in…"
      ]
     },
     "metadata": {},
     "output_type": "display_data"
    },
    {
     "data": {
      "application/vnd.jupyter.widget-view+json": {
       "model_id": "90bf77c108504866b2a08a7a2f71d7ea",
       "version_major": 2,
       "version_minor": 0
      },
      "text/plain": [
       "HBox(children=(IntProgress(value=0, description='69 epoch', max=500, style=ProgressStyle(description_width='in…"
      ]
     },
     "metadata": {},
     "output_type": "display_data"
    },
    {
     "data": {
      "application/vnd.jupyter.widget-view+json": {
       "model_id": "55592b4d7797402d921244a7afd2f9fe",
       "version_major": 2,
       "version_minor": 0
      },
      "text/plain": [
       "HBox(children=(IntProgress(value=0, description='70 epoch', max=500, style=ProgressStyle(description_width='in…"
      ]
     },
     "metadata": {},
     "output_type": "display_data"
    },
    {
     "data": {
      "application/vnd.jupyter.widget-view+json": {
       "model_id": "f2fafe0efba945ea84cc1533fe5fe747",
       "version_major": 2,
       "version_minor": 0
      },
      "text/plain": [
       "HBox(children=(IntProgress(value=0, description='71 epoch', max=500, style=ProgressStyle(description_width='in…"
      ]
     },
     "metadata": {},
     "output_type": "display_data"
    },
    {
     "data": {
      "application/vnd.jupyter.widget-view+json": {
       "model_id": "0ddb6ee7b8c14e7488b26744b80a8691",
       "version_major": 2,
       "version_minor": 0
      },
      "text/plain": [
       "HBox(children=(IntProgress(value=0, description='72 epoch', max=500, style=ProgressStyle(description_width='in…"
      ]
     },
     "metadata": {},
     "output_type": "display_data"
    },
    {
     "data": {
      "application/vnd.jupyter.widget-view+json": {
       "model_id": "87cc387f42d146869fe021bad3747574",
       "version_major": 2,
       "version_minor": 0
      },
      "text/plain": [
       "HBox(children=(IntProgress(value=0, description='73 epoch', max=500, style=ProgressStyle(description_width='in…"
      ]
     },
     "metadata": {},
     "output_type": "display_data"
    },
    {
     "data": {
      "application/vnd.jupyter.widget-view+json": {
       "model_id": "40177cfb9b3f4ccb97abc2bf3de61cb0",
       "version_major": 2,
       "version_minor": 0
      },
      "text/plain": [
       "HBox(children=(IntProgress(value=0, description='74 epoch', max=500, style=ProgressStyle(description_width='in…"
      ]
     },
     "metadata": {},
     "output_type": "display_data"
    },
    {
     "data": {
      "application/vnd.jupyter.widget-view+json": {
       "model_id": "2b73b18f2c0f4d39b63ec10c9f8ebd5b",
       "version_major": 2,
       "version_minor": 0
      },
      "text/plain": [
       "HBox(children=(IntProgress(value=0, description='75 epoch', max=500, style=ProgressStyle(description_width='in…"
      ]
     },
     "metadata": {},
     "output_type": "display_data"
    },
    {
     "data": {
      "application/vnd.jupyter.widget-view+json": {
       "model_id": "89b0c70f04f14bd19d513b93dd58cfdb",
       "version_major": 2,
       "version_minor": 0
      },
      "text/plain": [
       "HBox(children=(IntProgress(value=0, description='76 epoch', max=500, style=ProgressStyle(description_width='in…"
      ]
     },
     "metadata": {},
     "output_type": "display_data"
    },
    {
     "data": {
      "application/vnd.jupyter.widget-view+json": {
       "model_id": "21db4872e2ed4a0994dc2312c808c22c",
       "version_major": 2,
       "version_minor": 0
      },
      "text/plain": [
       "HBox(children=(IntProgress(value=0, description='77 epoch', max=500, style=ProgressStyle(description_width='in…"
      ]
     },
     "metadata": {},
     "output_type": "display_data"
    },
    {
     "data": {
      "application/vnd.jupyter.widget-view+json": {
       "model_id": "614b3eb4da4045029abe644557a1aab3",
       "version_major": 2,
       "version_minor": 0
      },
      "text/plain": [
       "HBox(children=(IntProgress(value=0, description='78 epoch', max=500, style=ProgressStyle(description_width='in…"
      ]
     },
     "metadata": {},
     "output_type": "display_data"
    },
    {
     "data": {
      "application/vnd.jupyter.widget-view+json": {
       "model_id": "5ccaa527c07b4306bec73f52e13293c9",
       "version_major": 2,
       "version_minor": 0
      },
      "text/plain": [
       "HBox(children=(IntProgress(value=0, description='79 epoch', max=500, style=ProgressStyle(description_width='in…"
      ]
     },
     "metadata": {},
     "output_type": "display_data"
    },
    {
     "data": {
      "application/vnd.jupyter.widget-view+json": {
       "model_id": "c1e9f508a5a8493799d8567916c0b5dc",
       "version_major": 2,
       "version_minor": 0
      },
      "text/plain": [
       "HBox(children=(IntProgress(value=0, description='80 epoch', max=500, style=ProgressStyle(description_width='in…"
      ]
     },
     "metadata": {},
     "output_type": "display_data"
    },
    {
     "data": {
      "application/vnd.jupyter.widget-view+json": {
       "model_id": "dcafc23053e542598270f494542fbcbe",
       "version_major": 2,
       "version_minor": 0
      },
      "text/plain": [
       "HBox(children=(IntProgress(value=0, description='81 epoch', max=500, style=ProgressStyle(description_width='in…"
      ]
     },
     "metadata": {},
     "output_type": "display_data"
    },
    {
     "data": {
      "application/vnd.jupyter.widget-view+json": {
       "model_id": "1c8a8acf5ed246d9b6ac29aa7c13c28f",
       "version_major": 2,
       "version_minor": 0
      },
      "text/plain": [
       "HBox(children=(IntProgress(value=0, description='82 epoch', max=500, style=ProgressStyle(description_width='in…"
      ]
     },
     "metadata": {},
     "output_type": "display_data"
    },
    {
     "data": {
      "application/vnd.jupyter.widget-view+json": {
       "model_id": "485ee771e7ea47beba29fdd167878482",
       "version_major": 2,
       "version_minor": 0
      },
      "text/plain": [
       "HBox(children=(IntProgress(value=0, description='83 epoch', max=500, style=ProgressStyle(description_width='in…"
      ]
     },
     "metadata": {},
     "output_type": "display_data"
    },
    {
     "data": {
      "application/vnd.jupyter.widget-view+json": {
       "model_id": "e979a59631f848e197d4bd0f7e16029d",
       "version_major": 2,
       "version_minor": 0
      },
      "text/plain": [
       "HBox(children=(IntProgress(value=0, description='84 epoch', max=500, style=ProgressStyle(description_width='in…"
      ]
     },
     "metadata": {},
     "output_type": "display_data"
    },
    {
     "data": {
      "application/vnd.jupyter.widget-view+json": {
       "model_id": "f18833f4e8f8431694c0f21ed35cd784",
       "version_major": 2,
       "version_minor": 0
      },
      "text/plain": [
       "HBox(children=(IntProgress(value=0, description='85 epoch', max=500, style=ProgressStyle(description_width='in…"
      ]
     },
     "metadata": {},
     "output_type": "display_data"
    },
    {
     "data": {
      "application/vnd.jupyter.widget-view+json": {
       "model_id": "5015377fa1ca4e269ee1f315f6a7f55a",
       "version_major": 2,
       "version_minor": 0
      },
      "text/plain": [
       "HBox(children=(IntProgress(value=0, description='86 epoch', max=500, style=ProgressStyle(description_width='in…"
      ]
     },
     "metadata": {},
     "output_type": "display_data"
    },
    {
     "data": {
      "application/vnd.jupyter.widget-view+json": {
       "model_id": "232254558be14fbd8e16c26fa780cb0a",
       "version_major": 2,
       "version_minor": 0
      },
      "text/plain": [
       "HBox(children=(IntProgress(value=0, description='87 epoch', max=500, style=ProgressStyle(description_width='in…"
      ]
     },
     "metadata": {},
     "output_type": "display_data"
    },
    {
     "data": {
      "application/vnd.jupyter.widget-view+json": {
       "model_id": "fbdbc6fe135843c294a973ab749a9a27",
       "version_major": 2,
       "version_minor": 0
      },
      "text/plain": [
       "HBox(children=(IntProgress(value=0, description='88 epoch', max=500, style=ProgressStyle(description_width='in…"
      ]
     },
     "metadata": {},
     "output_type": "display_data"
    },
    {
     "data": {
      "application/vnd.jupyter.widget-view+json": {
       "model_id": "4d3682aadcb54fad93721d2bbbad5e93",
       "version_major": 2,
       "version_minor": 0
      },
      "text/plain": [
       "HBox(children=(IntProgress(value=0, description='89 epoch', max=500, style=ProgressStyle(description_width='in…"
      ]
     },
     "metadata": {},
     "output_type": "display_data"
    },
    {
     "data": {
      "application/vnd.jupyter.widget-view+json": {
       "model_id": "aeacc6510a4f427bbb017f2b753f18ff",
       "version_major": 2,
       "version_minor": 0
      },
      "text/plain": [
       "HBox(children=(IntProgress(value=0, description='90 epoch', max=500, style=ProgressStyle(description_width='in…"
      ]
     },
     "metadata": {},
     "output_type": "display_data"
    },
    {
     "data": {
      "application/vnd.jupyter.widget-view+json": {
       "model_id": "7358cdd5f16442208af541acb28570f0",
       "version_major": 2,
       "version_minor": 0
      },
      "text/plain": [
       "HBox(children=(IntProgress(value=0, description='91 epoch', max=500, style=ProgressStyle(description_width='in…"
      ]
     },
     "metadata": {},
     "output_type": "display_data"
    },
    {
     "data": {
      "application/vnd.jupyter.widget-view+json": {
       "model_id": "258db42041f54007aef3810231800ee0",
       "version_major": 2,
       "version_minor": 0
      },
      "text/plain": [
       "HBox(children=(IntProgress(value=0, description='92 epoch', max=500, style=ProgressStyle(description_width='in…"
      ]
     },
     "metadata": {},
     "output_type": "display_data"
    },
    {
     "data": {
      "application/vnd.jupyter.widget-view+json": {
       "model_id": "c67cc90a48164a6bbfc2687923c56731",
       "version_major": 2,
       "version_minor": 0
      },
      "text/plain": [
       "HBox(children=(IntProgress(value=0, description='93 epoch', max=500, style=ProgressStyle(description_width='in…"
      ]
     },
     "metadata": {},
     "output_type": "display_data"
    },
    {
     "data": {
      "application/vnd.jupyter.widget-view+json": {
       "model_id": "276024da0e71483fa0bbaffcfb06ee47",
       "version_major": 2,
       "version_minor": 0
      },
      "text/plain": [
       "HBox(children=(IntProgress(value=0, description='94 epoch', max=500, style=ProgressStyle(description_width='in…"
      ]
     },
     "metadata": {},
     "output_type": "display_data"
    },
    {
     "data": {
      "application/vnd.jupyter.widget-view+json": {
       "model_id": "6d5ac6f820824208ba0f1f5d44a47fd9",
       "version_major": 2,
       "version_minor": 0
      },
      "text/plain": [
       "HBox(children=(IntProgress(value=0, description='95 epoch', max=500, style=ProgressStyle(description_width='in…"
      ]
     },
     "metadata": {},
     "output_type": "display_data"
    },
    {
     "data": {
      "application/vnd.jupyter.widget-view+json": {
       "model_id": "730cff8df79f48f58e0be723ba66d7dc",
       "version_major": 2,
       "version_minor": 0
      },
      "text/plain": [
       "HBox(children=(IntProgress(value=0, description='96 epoch', max=500, style=ProgressStyle(description_width='in…"
      ]
     },
     "metadata": {},
     "output_type": "display_data"
    },
    {
     "data": {
      "application/vnd.jupyter.widget-view+json": {
       "model_id": "c9666fa8a5cf4f84b6234f5c4e9c5e05",
       "version_major": 2,
       "version_minor": 0
      },
      "text/plain": [
       "HBox(children=(IntProgress(value=0, description='97 epoch', max=500, style=ProgressStyle(description_width='in…"
      ]
     },
     "metadata": {},
     "output_type": "display_data"
    },
    {
     "data": {
      "application/vnd.jupyter.widget-view+json": {
       "model_id": "12b74c75448f4fb7a55ab598f74062d9",
       "version_major": 2,
       "version_minor": 0
      },
      "text/plain": [
       "HBox(children=(IntProgress(value=0, description='98 epoch', max=500, style=ProgressStyle(description_width='in…"
      ]
     },
     "metadata": {},
     "output_type": "display_data"
    },
    {
     "data": {
      "application/vnd.jupyter.widget-view+json": {
       "model_id": "e8e05fcd2aa14ccf8167cbf2bf341c4d",
       "version_major": 2,
       "version_minor": 0
      },
      "text/plain": [
       "HBox(children=(IntProgress(value=0, description='99 epoch', max=500, style=ProgressStyle(description_width='in…"
      ]
     },
     "metadata": {},
     "output_type": "display_data"
    },
    {
     "data": {
      "application/vnd.jupyter.widget-view+json": {
       "model_id": "cd58e70d61f5401d8552055ffb4afcec",
       "version_major": 2,
       "version_minor": 0
      },
      "text/plain": [
       "HBox(children=(IntProgress(value=0, description='100 epoch', max=500, style=ProgressStyle(description_width='i…"
      ]
     },
     "metadata": {},
     "output_type": "display_data"
    },
    {
     "data": {
      "application/vnd.jupyter.widget-view+json": {
       "model_id": "7feb87c4920f4a3f9f8ce0fce369a5f9",
       "version_major": 2,
       "version_minor": 0
      },
      "text/plain": [
       "HBox(children=(IntProgress(value=0, description='101 epoch', max=500, style=ProgressStyle(description_width='i…"
      ]
     },
     "metadata": {},
     "output_type": "display_data"
    },
    {
     "data": {
      "application/vnd.jupyter.widget-view+json": {
       "model_id": "3b5227cf121a417a836fb32a4a3969ac",
       "version_major": 2,
       "version_minor": 0
      },
      "text/plain": [
       "HBox(children=(IntProgress(value=0, description='102 epoch', max=500, style=ProgressStyle(description_width='i…"
      ]
     },
     "metadata": {},
     "output_type": "display_data"
    },
    {
     "data": {
      "application/vnd.jupyter.widget-view+json": {
       "model_id": "f119455f894b44428262ad4eac050be2",
       "version_major": 2,
       "version_minor": 0
      },
      "text/plain": [
       "HBox(children=(IntProgress(value=0, description='103 epoch', max=500, style=ProgressStyle(description_width='i…"
      ]
     },
     "metadata": {},
     "output_type": "display_data"
    },
    {
     "data": {
      "application/vnd.jupyter.widget-view+json": {
       "model_id": "8a379e72623f43f78408be957a205132",
       "version_major": 2,
       "version_minor": 0
      },
      "text/plain": [
       "HBox(children=(IntProgress(value=0, description='104 epoch', max=500, style=ProgressStyle(description_width='i…"
      ]
     },
     "metadata": {},
     "output_type": "display_data"
    },
    {
     "data": {
      "application/vnd.jupyter.widget-view+json": {
       "model_id": "5762c30ca1eb4a2b9117780444f5eaab",
       "version_major": 2,
       "version_minor": 0
      },
      "text/plain": [
       "HBox(children=(IntProgress(value=0, description='105 epoch', max=500, style=ProgressStyle(description_width='i…"
      ]
     },
     "metadata": {},
     "output_type": "display_data"
    },
    {
     "data": {
      "application/vnd.jupyter.widget-view+json": {
       "model_id": "f4a2e4dd06fc4acc9b24f8def78f62eb",
       "version_major": 2,
       "version_minor": 0
      },
      "text/plain": [
       "HBox(children=(IntProgress(value=0, description='106 epoch', max=500, style=ProgressStyle(description_width='i…"
      ]
     },
     "metadata": {},
     "output_type": "display_data"
    },
    {
     "data": {
      "application/vnd.jupyter.widget-view+json": {
       "model_id": "0a04d213627c467088ded40593c208ca",
       "version_major": 2,
       "version_minor": 0
      },
      "text/plain": [
       "HBox(children=(IntProgress(value=0, description='107 epoch', max=500, style=ProgressStyle(description_width='i…"
      ]
     },
     "metadata": {},
     "output_type": "display_data"
    },
    {
     "data": {
      "application/vnd.jupyter.widget-view+json": {
       "model_id": "4f62fd0e90fb4c4b889a3b68b37f6d0b",
       "version_major": 2,
       "version_minor": 0
      },
      "text/plain": [
       "HBox(children=(IntProgress(value=0, description='108 epoch', max=500, style=ProgressStyle(description_width='i…"
      ]
     },
     "metadata": {},
     "output_type": "display_data"
    },
    {
     "data": {
      "application/vnd.jupyter.widget-view+json": {
       "model_id": "1c83e5e2f3694a5290ade3c85e96266f",
       "version_major": 2,
       "version_minor": 0
      },
      "text/plain": [
       "HBox(children=(IntProgress(value=0, description='109 epoch', max=500, style=ProgressStyle(description_width='i…"
      ]
     },
     "metadata": {},
     "output_type": "display_data"
    },
    {
     "data": {
      "application/vnd.jupyter.widget-view+json": {
       "model_id": "ef826b05c56a43bb85cf0fa051141152",
       "version_major": 2,
       "version_minor": 0
      },
      "text/plain": [
       "HBox(children=(IntProgress(value=0, description='110 epoch', max=500, style=ProgressStyle(description_width='i…"
      ]
     },
     "metadata": {},
     "output_type": "display_data"
    },
    {
     "data": {
      "application/vnd.jupyter.widget-view+json": {
       "model_id": "56d33443c0aa4285a5669ee160f1bfd5",
       "version_major": 2,
       "version_minor": 0
      },
      "text/plain": [
       "HBox(children=(IntProgress(value=0, description='111 epoch', max=500, style=ProgressStyle(description_width='i…"
      ]
     },
     "metadata": {},
     "output_type": "display_data"
    },
    {
     "data": {
      "application/vnd.jupyter.widget-view+json": {
       "model_id": "f3ba55c19a864ee581247a9e25ed3ff7",
       "version_major": 2,
       "version_minor": 0
      },
      "text/plain": [
       "HBox(children=(IntProgress(value=0, description='112 epoch', max=500, style=ProgressStyle(description_width='i…"
      ]
     },
     "metadata": {},
     "output_type": "display_data"
    },
    {
     "data": {
      "application/vnd.jupyter.widget-view+json": {
       "model_id": "56ea150da51146f1b50eddb425ab3b7f",
       "version_major": 2,
       "version_minor": 0
      },
      "text/plain": [
       "HBox(children=(IntProgress(value=0, description='113 epoch', max=500, style=ProgressStyle(description_width='i…"
      ]
     },
     "metadata": {},
     "output_type": "display_data"
    },
    {
     "data": {
      "application/vnd.jupyter.widget-view+json": {
       "model_id": "5dbe926c4ad64c7194d30fecdd57d189",
       "version_major": 2,
       "version_minor": 0
      },
      "text/plain": [
       "HBox(children=(IntProgress(value=0, description='114 epoch', max=500, style=ProgressStyle(description_width='i…"
      ]
     },
     "metadata": {},
     "output_type": "display_data"
    },
    {
     "data": {
      "application/vnd.jupyter.widget-view+json": {
       "model_id": "11c3be13b07345b68064786ff7d7490d",
       "version_major": 2,
       "version_minor": 0
      },
      "text/plain": [
       "HBox(children=(IntProgress(value=0, description='115 epoch', max=500, style=ProgressStyle(description_width='i…"
      ]
     },
     "metadata": {},
     "output_type": "display_data"
    },
    {
     "data": {
      "application/vnd.jupyter.widget-view+json": {
       "model_id": "9e31074715d54dcab991b39fbd63eea1",
       "version_major": 2,
       "version_minor": 0
      },
      "text/plain": [
       "HBox(children=(IntProgress(value=0, description='116 epoch', max=500, style=ProgressStyle(description_width='i…"
      ]
     },
     "metadata": {},
     "output_type": "display_data"
    },
    {
     "data": {
      "application/vnd.jupyter.widget-view+json": {
       "model_id": "d9f77c9721034f828d6f5376c1f3b165",
       "version_major": 2,
       "version_minor": 0
      },
      "text/plain": [
       "HBox(children=(IntProgress(value=0, description='117 epoch', max=500, style=ProgressStyle(description_width='i…"
      ]
     },
     "metadata": {},
     "output_type": "display_data"
    },
    {
     "data": {
      "application/vnd.jupyter.widget-view+json": {
       "model_id": "6f758d01674c44ac9006d68f4b77c46e",
       "version_major": 2,
       "version_minor": 0
      },
      "text/plain": [
       "HBox(children=(IntProgress(value=0, description='118 epoch', max=500, style=ProgressStyle(description_width='i…"
      ]
     },
     "metadata": {},
     "output_type": "display_data"
    },
    {
     "data": {
      "application/vnd.jupyter.widget-view+json": {
       "model_id": "0ca49eafd30f4aeda6f41dd79769379b",
       "version_major": 2,
       "version_minor": 0
      },
      "text/plain": [
       "HBox(children=(IntProgress(value=0, description='119 epoch', max=500, style=ProgressStyle(description_width='i…"
      ]
     },
     "metadata": {},
     "output_type": "display_data"
    },
    {
     "data": {
      "application/vnd.jupyter.widget-view+json": {
       "model_id": "fb501d8c6f86402b9a7949ced99f2609",
       "version_major": 2,
       "version_minor": 0
      },
      "text/plain": [
       "HBox(children=(IntProgress(value=0, description='120 epoch', max=500, style=ProgressStyle(description_width='i…"
      ]
     },
     "metadata": {},
     "output_type": "display_data"
    },
    {
     "data": {
      "application/vnd.jupyter.widget-view+json": {
       "model_id": "91da0fd6d3c14c95af60ebd30b8e90b9",
       "version_major": 2,
       "version_minor": 0
      },
      "text/plain": [
       "HBox(children=(IntProgress(value=0, description='121 epoch', max=500, style=ProgressStyle(description_width='i…"
      ]
     },
     "metadata": {},
     "output_type": "display_data"
    },
    {
     "data": {
      "application/vnd.jupyter.widget-view+json": {
       "model_id": "995c6ea0529c4d0fae4a521332ae2635",
       "version_major": 2,
       "version_minor": 0
      },
      "text/plain": [
       "HBox(children=(IntProgress(value=0, description='122 epoch', max=500, style=ProgressStyle(description_width='i…"
      ]
     },
     "metadata": {},
     "output_type": "display_data"
    },
    {
     "data": {
      "application/vnd.jupyter.widget-view+json": {
       "model_id": "6158cfa7a0964a6aa8d92b493c041347",
       "version_major": 2,
       "version_minor": 0
      },
      "text/plain": [
       "HBox(children=(IntProgress(value=0, description='123 epoch', max=500, style=ProgressStyle(description_width='i…"
      ]
     },
     "metadata": {},
     "output_type": "display_data"
    },
    {
     "data": {
      "application/vnd.jupyter.widget-view+json": {
       "model_id": "b56ec2780eea42a2b9ed62611579c773",
       "version_major": 2,
       "version_minor": 0
      },
      "text/plain": [
       "HBox(children=(IntProgress(value=0, description='124 epoch', max=500, style=ProgressStyle(description_width='i…"
      ]
     },
     "metadata": {},
     "output_type": "display_data"
    },
    {
     "data": {
      "application/vnd.jupyter.widget-view+json": {
       "model_id": "1263626d41a4413897e68918ecc1abb0",
       "version_major": 2,
       "version_minor": 0
      },
      "text/plain": [
       "HBox(children=(IntProgress(value=0, description='125 epoch', max=500, style=ProgressStyle(description_width='i…"
      ]
     },
     "metadata": {},
     "output_type": "display_data"
    },
    {
     "data": {
      "application/vnd.jupyter.widget-view+json": {
       "model_id": "21d361e09f7b4d699a60aea8cfef23de",
       "version_major": 2,
       "version_minor": 0
      },
      "text/plain": [
       "HBox(children=(IntProgress(value=0, description='126 epoch', max=500, style=ProgressStyle(description_width='i…"
      ]
     },
     "metadata": {},
     "output_type": "display_data"
    },
    {
     "data": {
      "application/vnd.jupyter.widget-view+json": {
       "model_id": "a00a164e2044491ab5697a3243ea8983",
       "version_major": 2,
       "version_minor": 0
      },
      "text/plain": [
       "HBox(children=(IntProgress(value=0, description='127 epoch', max=500, style=ProgressStyle(description_width='i…"
      ]
     },
     "metadata": {},
     "output_type": "display_data"
    },
    {
     "data": {
      "application/vnd.jupyter.widget-view+json": {
       "model_id": "f2de0e5c8639401497807d013603e693",
       "version_major": 2,
       "version_minor": 0
      },
      "text/plain": [
       "HBox(children=(IntProgress(value=0, description='128 epoch', max=500, style=ProgressStyle(description_width='i…"
      ]
     },
     "metadata": {},
     "output_type": "display_data"
    },
    {
     "data": {
      "application/vnd.jupyter.widget-view+json": {
       "model_id": "b08cd194fc8e45c991186ce33de2d754",
       "version_major": 2,
       "version_minor": 0
      },
      "text/plain": [
       "HBox(children=(IntProgress(value=0, description='129 epoch', max=500, style=ProgressStyle(description_width='i…"
      ]
     },
     "metadata": {},
     "output_type": "display_data"
    },
    {
     "data": {
      "application/vnd.jupyter.widget-view+json": {
       "model_id": "266a19eb18ea4d5db4b0e0af5ee2adc0",
       "version_major": 2,
       "version_minor": 0
      },
      "text/plain": [
       "HBox(children=(IntProgress(value=0, description='130 epoch', max=500, style=ProgressStyle(description_width='i…"
      ]
     },
     "metadata": {},
     "output_type": "display_data"
    },
    {
     "data": {
      "application/vnd.jupyter.widget-view+json": {
       "model_id": "cc31d4642515487f8c8ab3d3eb1e1169",
       "version_major": 2,
       "version_minor": 0
      },
      "text/plain": [
       "HBox(children=(IntProgress(value=0, description='131 epoch', max=500, style=ProgressStyle(description_width='i…"
      ]
     },
     "metadata": {},
     "output_type": "display_data"
    },
    {
     "data": {
      "application/vnd.jupyter.widget-view+json": {
       "model_id": "e7112a173923441387240b5a00fb1c34",
       "version_major": 2,
       "version_minor": 0
      },
      "text/plain": [
       "HBox(children=(IntProgress(value=0, description='132 epoch', max=500, style=ProgressStyle(description_width='i…"
      ]
     },
     "metadata": {},
     "output_type": "display_data"
    },
    {
     "data": {
      "application/vnd.jupyter.widget-view+json": {
       "model_id": "0c02c8e45e484d7f9027e73177dda3f8",
       "version_major": 2,
       "version_minor": 0
      },
      "text/plain": [
       "HBox(children=(IntProgress(value=0, description='133 epoch', max=500, style=ProgressStyle(description_width='i…"
      ]
     },
     "metadata": {},
     "output_type": "display_data"
    },
    {
     "data": {
      "application/vnd.jupyter.widget-view+json": {
       "model_id": "73c80bfd44f643869029ae51a5980857",
       "version_major": 2,
       "version_minor": 0
      },
      "text/plain": [
       "HBox(children=(IntProgress(value=0, description='134 epoch', max=500, style=ProgressStyle(description_width='i…"
      ]
     },
     "metadata": {},
     "output_type": "display_data"
    },
    {
     "data": {
      "application/vnd.jupyter.widget-view+json": {
       "model_id": "c65f3de834534f28a7ccdfbc7834acce",
       "version_major": 2,
       "version_minor": 0
      },
      "text/plain": [
       "HBox(children=(IntProgress(value=0, description='135 epoch', max=500, style=ProgressStyle(description_width='i…"
      ]
     },
     "metadata": {},
     "output_type": "display_data"
    },
    {
     "data": {
      "application/vnd.jupyter.widget-view+json": {
       "model_id": "9604176249714041b5e7840a0fd16656",
       "version_major": 2,
       "version_minor": 0
      },
      "text/plain": [
       "HBox(children=(IntProgress(value=0, description='136 epoch', max=500, style=ProgressStyle(description_width='i…"
      ]
     },
     "metadata": {},
     "output_type": "display_data"
    },
    {
     "data": {
      "application/vnd.jupyter.widget-view+json": {
       "model_id": "453ba6f7dc8f48c39ba7a0bb1bb20b23",
       "version_major": 2,
       "version_minor": 0
      },
      "text/plain": [
       "HBox(children=(IntProgress(value=0, description='137 epoch', max=500, style=ProgressStyle(description_width='i…"
      ]
     },
     "metadata": {},
     "output_type": "display_data"
    },
    {
     "data": {
      "application/vnd.jupyter.widget-view+json": {
       "model_id": "094d0fbfde5c41ae89ad2c5cf7a6d0a0",
       "version_major": 2,
       "version_minor": 0
      },
      "text/plain": [
       "HBox(children=(IntProgress(value=0, description='138 epoch', max=500, style=ProgressStyle(description_width='i…"
      ]
     },
     "metadata": {},
     "output_type": "display_data"
    },
    {
     "data": {
      "application/vnd.jupyter.widget-view+json": {
       "model_id": "dddd4a46a79343589c44eb8066e71015",
       "version_major": 2,
       "version_minor": 0
      },
      "text/plain": [
       "HBox(children=(IntProgress(value=0, description='139 epoch', max=500, style=ProgressStyle(description_width='i…"
      ]
     },
     "metadata": {},
     "output_type": "display_data"
    },
    {
     "data": {
      "application/vnd.jupyter.widget-view+json": {
       "model_id": "349d76c643cb4846a00e34bbfd931b46",
       "version_major": 2,
       "version_minor": 0
      },
      "text/plain": [
       "HBox(children=(IntProgress(value=0, description='140 epoch', max=500, style=ProgressStyle(description_width='i…"
      ]
     },
     "metadata": {},
     "output_type": "display_data"
    },
    {
     "data": {
      "application/vnd.jupyter.widget-view+json": {
       "model_id": "b93cca444ec74c4cb9c0e92bab769da3",
       "version_major": 2,
       "version_minor": 0
      },
      "text/plain": [
       "HBox(children=(IntProgress(value=0, description='141 epoch', max=500, style=ProgressStyle(description_width='i…"
      ]
     },
     "metadata": {},
     "output_type": "display_data"
    },
    {
     "data": {
      "application/vnd.jupyter.widget-view+json": {
       "model_id": "c3f0d2156ce74eefb6212f02ce602c0e",
       "version_major": 2,
       "version_minor": 0
      },
      "text/plain": [
       "HBox(children=(IntProgress(value=0, description='142 epoch', max=500, style=ProgressStyle(description_width='i…"
      ]
     },
     "metadata": {},
     "output_type": "display_data"
    },
    {
     "data": {
      "application/vnd.jupyter.widget-view+json": {
       "model_id": "1c0a676a07214929a30c5f6008350ad1",
       "version_major": 2,
       "version_minor": 0
      },
      "text/plain": [
       "HBox(children=(IntProgress(value=0, description='143 epoch', max=500, style=ProgressStyle(description_width='i…"
      ]
     },
     "metadata": {},
     "output_type": "display_data"
    },
    {
     "data": {
      "application/vnd.jupyter.widget-view+json": {
       "model_id": "82df68bd9a094603a1f0b71fbd8f5066",
       "version_major": 2,
       "version_minor": 0
      },
      "text/plain": [
       "HBox(children=(IntProgress(value=0, description='144 epoch', max=500, style=ProgressStyle(description_width='i…"
      ]
     },
     "metadata": {},
     "output_type": "display_data"
    },
    {
     "data": {
      "application/vnd.jupyter.widget-view+json": {
       "model_id": "e2e729c53fe04ac9a9ea4fb52c79b53d",
       "version_major": 2,
       "version_minor": 0
      },
      "text/plain": [
       "HBox(children=(IntProgress(value=0, description='145 epoch', max=500, style=ProgressStyle(description_width='i…"
      ]
     },
     "metadata": {},
     "output_type": "display_data"
    },
    {
     "data": {
      "application/vnd.jupyter.widget-view+json": {
       "model_id": "5d73c52a798641ca90f1e28fa48c4a57",
       "version_major": 2,
       "version_minor": 0
      },
      "text/plain": [
       "HBox(children=(IntProgress(value=0, description='146 epoch', max=500, style=ProgressStyle(description_width='i…"
      ]
     },
     "metadata": {},
     "output_type": "display_data"
    },
    {
     "data": {
      "application/vnd.jupyter.widget-view+json": {
       "model_id": "f1de86d2e1d44d03ad6b0e9e8c341cc9",
       "version_major": 2,
       "version_minor": 0
      },
      "text/plain": [
       "HBox(children=(IntProgress(value=0, description='147 epoch', max=500, style=ProgressStyle(description_width='i…"
      ]
     },
     "metadata": {},
     "output_type": "display_data"
    },
    {
     "data": {
      "application/vnd.jupyter.widget-view+json": {
       "model_id": "0f53cf651a594b678b46cab89c116e20",
       "version_major": 2,
       "version_minor": 0
      },
      "text/plain": [
       "HBox(children=(IntProgress(value=0, description='148 epoch', max=500, style=ProgressStyle(description_width='i…"
      ]
     },
     "metadata": {},
     "output_type": "display_data"
    },
    {
     "data": {
      "application/vnd.jupyter.widget-view+json": {
       "model_id": "ded03380ac78472285da3deb1395c2b1",
       "version_major": 2,
       "version_minor": 0
      },
      "text/plain": [
       "HBox(children=(IntProgress(value=0, description='149 epoch', max=500, style=ProgressStyle(description_width='i…"
      ]
     },
     "metadata": {},
     "output_type": "display_data"
    },
    {
     "data": {
      "application/vnd.jupyter.widget-view+json": {
       "model_id": "b093bb382742475686a570c65daf8c7a",
       "version_major": 2,
       "version_minor": 0
      },
      "text/plain": [
       "HBox(children=(IntProgress(value=0, description='150 epoch', max=500, style=ProgressStyle(description_width='i…"
      ]
     },
     "metadata": {},
     "output_type": "display_data"
    },
    {
     "data": {
      "application/vnd.jupyter.widget-view+json": {
       "model_id": "53aaae5e9b1e4120a44a2ee7a0feba4e",
       "version_major": 2,
       "version_minor": 0
      },
      "text/plain": [
       "HBox(children=(IntProgress(value=0, description='151 epoch', max=500, style=ProgressStyle(description_width='i…"
      ]
     },
     "metadata": {},
     "output_type": "display_data"
    },
    {
     "data": {
      "application/vnd.jupyter.widget-view+json": {
       "model_id": "44277c5a882146159dba6b828a910237",
       "version_major": 2,
       "version_minor": 0
      },
      "text/plain": [
       "HBox(children=(IntProgress(value=0, description='152 epoch', max=500, style=ProgressStyle(description_width='i…"
      ]
     },
     "metadata": {},
     "output_type": "display_data"
    },
    {
     "data": {
      "application/vnd.jupyter.widget-view+json": {
       "model_id": "4a535297575a414bb428f3982de212c8",
       "version_major": 2,
       "version_minor": 0
      },
      "text/plain": [
       "HBox(children=(IntProgress(value=0, description='153 epoch', max=500, style=ProgressStyle(description_width='i…"
      ]
     },
     "metadata": {},
     "output_type": "display_data"
    },
    {
     "data": {
      "application/vnd.jupyter.widget-view+json": {
       "model_id": "e8d1f39c0d984f47b9061e7c1a2895bc",
       "version_major": 2,
       "version_minor": 0
      },
      "text/plain": [
       "HBox(children=(IntProgress(value=0, description='154 epoch', max=500, style=ProgressStyle(description_width='i…"
      ]
     },
     "metadata": {},
     "output_type": "display_data"
    },
    {
     "data": {
      "application/vnd.jupyter.widget-view+json": {
       "model_id": "8b6ccec471e8479da8d8e8159b298c51",
       "version_major": 2,
       "version_minor": 0
      },
      "text/plain": [
       "HBox(children=(IntProgress(value=0, description='155 epoch', max=500, style=ProgressStyle(description_width='i…"
      ]
     },
     "metadata": {},
     "output_type": "display_data"
    },
    {
     "data": {
      "application/vnd.jupyter.widget-view+json": {
       "model_id": "a8d9d69a4f684bdbbac5655c8d4abf8e",
       "version_major": 2,
       "version_minor": 0
      },
      "text/plain": [
       "HBox(children=(IntProgress(value=0, description='156 epoch', max=500, style=ProgressStyle(description_width='i…"
      ]
     },
     "metadata": {},
     "output_type": "display_data"
    },
    {
     "data": {
      "application/vnd.jupyter.widget-view+json": {
       "model_id": "80f525b4d2e94ed5a73360fa31c3827c",
       "version_major": 2,
       "version_minor": 0
      },
      "text/plain": [
       "HBox(children=(IntProgress(value=0, description='157 epoch', max=500, style=ProgressStyle(description_width='i…"
      ]
     },
     "metadata": {},
     "output_type": "display_data"
    },
    {
     "data": {
      "application/vnd.jupyter.widget-view+json": {
       "model_id": "1039f64e4f6d4ac481152c0faccba1d6",
       "version_major": 2,
       "version_minor": 0
      },
      "text/plain": [
       "HBox(children=(IntProgress(value=0, description='158 epoch', max=500, style=ProgressStyle(description_width='i…"
      ]
     },
     "metadata": {},
     "output_type": "display_data"
    },
    {
     "data": {
      "application/vnd.jupyter.widget-view+json": {
       "model_id": "501665e4cd134a47a6489a1fcc46eddc",
       "version_major": 2,
       "version_minor": 0
      },
      "text/plain": [
       "HBox(children=(IntProgress(value=0, description='159 epoch', max=500, style=ProgressStyle(description_width='i…"
      ]
     },
     "metadata": {},
     "output_type": "display_data"
    },
    {
     "data": {
      "application/vnd.jupyter.widget-view+json": {
       "model_id": "84c7c3fa186c4382ae28b0ee21d70f16",
       "version_major": 2,
       "version_minor": 0
      },
      "text/plain": [
       "HBox(children=(IntProgress(value=0, description='160 epoch', max=500, style=ProgressStyle(description_width='i…"
      ]
     },
     "metadata": {},
     "output_type": "display_data"
    },
    {
     "data": {
      "application/vnd.jupyter.widget-view+json": {
       "model_id": "4839be24d8a845b7a0bbd6187a732f69",
       "version_major": 2,
       "version_minor": 0
      },
      "text/plain": [
       "HBox(children=(IntProgress(value=0, description='161 epoch', max=500, style=ProgressStyle(description_width='i…"
      ]
     },
     "metadata": {},
     "output_type": "display_data"
    },
    {
     "data": {
      "application/vnd.jupyter.widget-view+json": {
       "model_id": "1285b74c1e254f74a064c9b2a07e7d63",
       "version_major": 2,
       "version_minor": 0
      },
      "text/plain": [
       "HBox(children=(IntProgress(value=0, description='162 epoch', max=500, style=ProgressStyle(description_width='i…"
      ]
     },
     "metadata": {},
     "output_type": "display_data"
    },
    {
     "data": {
      "application/vnd.jupyter.widget-view+json": {
       "model_id": "a915ec10c7c84e2682126ad5f79ef679",
       "version_major": 2,
       "version_minor": 0
      },
      "text/plain": [
       "HBox(children=(IntProgress(value=0, description='163 epoch', max=500, style=ProgressStyle(description_width='i…"
      ]
     },
     "metadata": {},
     "output_type": "display_data"
    },
    {
     "data": {
      "application/vnd.jupyter.widget-view+json": {
       "model_id": "3866c82d68d941a6a60ab325b47d39e0",
       "version_major": 2,
       "version_minor": 0
      },
      "text/plain": [
       "HBox(children=(IntProgress(value=0, description='164 epoch', max=500, style=ProgressStyle(description_width='i…"
      ]
     },
     "metadata": {},
     "output_type": "display_data"
    },
    {
     "data": {
      "application/vnd.jupyter.widget-view+json": {
       "model_id": "0623b000fb2d444a94a5009594905710",
       "version_major": 2,
       "version_minor": 0
      },
      "text/plain": [
       "HBox(children=(IntProgress(value=0, description='165 epoch', max=500, style=ProgressStyle(description_width='i…"
      ]
     },
     "metadata": {},
     "output_type": "display_data"
    },
    {
     "data": {
      "application/vnd.jupyter.widget-view+json": {
       "model_id": "f0564952b8424aa49c72e5b761c61f42",
       "version_major": 2,
       "version_minor": 0
      },
      "text/plain": [
       "HBox(children=(IntProgress(value=0, description='166 epoch', max=500, style=ProgressStyle(description_width='i…"
      ]
     },
     "metadata": {},
     "output_type": "display_data"
    },
    {
     "data": {
      "application/vnd.jupyter.widget-view+json": {
       "model_id": "ca547b7d857c499086ab3cfc9daec2b0",
       "version_major": 2,
       "version_minor": 0
      },
      "text/plain": [
       "HBox(children=(IntProgress(value=0, description='167 epoch', max=500, style=ProgressStyle(description_width='i…"
      ]
     },
     "metadata": {},
     "output_type": "display_data"
    },
    {
     "data": {
      "application/vnd.jupyter.widget-view+json": {
       "model_id": "e163317e412541808e33e15438674bad",
       "version_major": 2,
       "version_minor": 0
      },
      "text/plain": [
       "HBox(children=(IntProgress(value=0, description='168 epoch', max=500, style=ProgressStyle(description_width='i…"
      ]
     },
     "metadata": {},
     "output_type": "display_data"
    },
    {
     "data": {
      "application/vnd.jupyter.widget-view+json": {
       "model_id": "d20bc9796b2e49028c13f569065a5c42",
       "version_major": 2,
       "version_minor": 0
      },
      "text/plain": [
       "HBox(children=(IntProgress(value=0, description='169 epoch', max=500, style=ProgressStyle(description_width='i…"
      ]
     },
     "metadata": {},
     "output_type": "display_data"
    },
    {
     "data": {
      "application/vnd.jupyter.widget-view+json": {
       "model_id": "948cea80a679412ba1238f8084dd1d6c",
       "version_major": 2,
       "version_minor": 0
      },
      "text/plain": [
       "HBox(children=(IntProgress(value=0, description='170 epoch', max=500, style=ProgressStyle(description_width='i…"
      ]
     },
     "metadata": {},
     "output_type": "display_data"
    },
    {
     "data": {
      "application/vnd.jupyter.widget-view+json": {
       "model_id": "cf89418b4e434bd0830b67bb5f739210",
       "version_major": 2,
       "version_minor": 0
      },
      "text/plain": [
       "HBox(children=(IntProgress(value=0, description='171 epoch', max=500, style=ProgressStyle(description_width='i…"
      ]
     },
     "metadata": {},
     "output_type": "display_data"
    },
    {
     "data": {
      "application/vnd.jupyter.widget-view+json": {
       "model_id": "83056b9bb4854cfc9def7ce5e75fceb9",
       "version_major": 2,
       "version_minor": 0
      },
      "text/plain": [
       "HBox(children=(IntProgress(value=0, description='172 epoch', max=500, style=ProgressStyle(description_width='i…"
      ]
     },
     "metadata": {},
     "output_type": "display_data"
    },
    {
     "data": {
      "application/vnd.jupyter.widget-view+json": {
       "model_id": "56c244c087684763a9295c38f61222ec",
       "version_major": 2,
       "version_minor": 0
      },
      "text/plain": [
       "HBox(children=(IntProgress(value=0, description='173 epoch', max=500, style=ProgressStyle(description_width='i…"
      ]
     },
     "metadata": {},
     "output_type": "display_data"
    },
    {
     "data": {
      "application/vnd.jupyter.widget-view+json": {
       "model_id": "e59d286164b04939baf7c8f57735deb0",
       "version_major": 2,
       "version_minor": 0
      },
      "text/plain": [
       "HBox(children=(IntProgress(value=0, description='174 epoch', max=500, style=ProgressStyle(description_width='i…"
      ]
     },
     "metadata": {},
     "output_type": "display_data"
    },
    {
     "data": {
      "application/vnd.jupyter.widget-view+json": {
       "model_id": "b2732870889042e19398c80176d6550c",
       "version_major": 2,
       "version_minor": 0
      },
      "text/plain": [
       "HBox(children=(IntProgress(value=0, description='175 epoch', max=500, style=ProgressStyle(description_width='i…"
      ]
     },
     "metadata": {},
     "output_type": "display_data"
    },
    {
     "data": {
      "application/vnd.jupyter.widget-view+json": {
       "model_id": "7370995877cf4718a11a9cd3f7a1a91d",
       "version_major": 2,
       "version_minor": 0
      },
      "text/plain": [
       "HBox(children=(IntProgress(value=0, description='176 epoch', max=500, style=ProgressStyle(description_width='i…"
      ]
     },
     "metadata": {},
     "output_type": "display_data"
    },
    {
     "data": {
      "application/vnd.jupyter.widget-view+json": {
       "model_id": "d336cd34a36042329f9e75794d1515c9",
       "version_major": 2,
       "version_minor": 0
      },
      "text/plain": [
       "HBox(children=(IntProgress(value=0, description='177 epoch', max=500, style=ProgressStyle(description_width='i…"
      ]
     },
     "metadata": {},
     "output_type": "display_data"
    },
    {
     "data": {
      "application/vnd.jupyter.widget-view+json": {
       "model_id": "b614e3d668e1486c92f79ddf252a3135",
       "version_major": 2,
       "version_minor": 0
      },
      "text/plain": [
       "HBox(children=(IntProgress(value=0, description='178 epoch', max=500, style=ProgressStyle(description_width='i…"
      ]
     },
     "metadata": {},
     "output_type": "display_data"
    },
    {
     "data": {
      "application/vnd.jupyter.widget-view+json": {
       "model_id": "6cc363d11e9b4f42a97c963c0f4d98ff",
       "version_major": 2,
       "version_minor": 0
      },
      "text/plain": [
       "HBox(children=(IntProgress(value=0, description='179 epoch', max=500, style=ProgressStyle(description_width='i…"
      ]
     },
     "metadata": {},
     "output_type": "display_data"
    },
    {
     "data": {
      "application/vnd.jupyter.widget-view+json": {
       "model_id": "a46f8374b45f40b2a5ecdc9277d932c3",
       "version_major": 2,
       "version_minor": 0
      },
      "text/plain": [
       "HBox(children=(IntProgress(value=0, description='180 epoch', max=500, style=ProgressStyle(description_width='i…"
      ]
     },
     "metadata": {},
     "output_type": "display_data"
    },
    {
     "data": {
      "application/vnd.jupyter.widget-view+json": {
       "model_id": "eedbf105b8c04e5eb6e27a56377c60a6",
       "version_major": 2,
       "version_minor": 0
      },
      "text/plain": [
       "HBox(children=(IntProgress(value=0, description='181 epoch', max=500, style=ProgressStyle(description_width='i…"
      ]
     },
     "metadata": {},
     "output_type": "display_data"
    },
    {
     "data": {
      "application/vnd.jupyter.widget-view+json": {
       "model_id": "ad5299d1d7674cfa805b2be1d13cf025",
       "version_major": 2,
       "version_minor": 0
      },
      "text/plain": [
       "HBox(children=(IntProgress(value=0, description='182 epoch', max=500, style=ProgressStyle(description_width='i…"
      ]
     },
     "metadata": {},
     "output_type": "display_data"
    },
    {
     "data": {
      "application/vnd.jupyter.widget-view+json": {
       "model_id": "01c8c4f47f9b44128029f2a233f268a6",
       "version_major": 2,
       "version_minor": 0
      },
      "text/plain": [
       "HBox(children=(IntProgress(value=0, description='183 epoch', max=500, style=ProgressStyle(description_width='i…"
      ]
     },
     "metadata": {},
     "output_type": "display_data"
    },
    {
     "data": {
      "application/vnd.jupyter.widget-view+json": {
       "model_id": "38246a9e1d1d4e5ba3b4e24e65e9e3e4",
       "version_major": 2,
       "version_minor": 0
      },
      "text/plain": [
       "HBox(children=(IntProgress(value=0, description='184 epoch', max=500, style=ProgressStyle(description_width='i…"
      ]
     },
     "metadata": {},
     "output_type": "display_data"
    },
    {
     "data": {
      "application/vnd.jupyter.widget-view+json": {
       "model_id": "ba527d5ac8974eeab1c51bfd0695fe52",
       "version_major": 2,
       "version_minor": 0
      },
      "text/plain": [
       "HBox(children=(IntProgress(value=0, description='185 epoch', max=500, style=ProgressStyle(description_width='i…"
      ]
     },
     "metadata": {},
     "output_type": "display_data"
    },
    {
     "data": {
      "application/vnd.jupyter.widget-view+json": {
       "model_id": "d96d2efe7655448db5d3c966902717e3",
       "version_major": 2,
       "version_minor": 0
      },
      "text/plain": [
       "HBox(children=(IntProgress(value=0, description='186 epoch', max=500, style=ProgressStyle(description_width='i…"
      ]
     },
     "metadata": {},
     "output_type": "display_data"
    },
    {
     "data": {
      "application/vnd.jupyter.widget-view+json": {
       "model_id": "5a66872c776c4e95bc4d404f9ba9c8ba",
       "version_major": 2,
       "version_minor": 0
      },
      "text/plain": [
       "HBox(children=(IntProgress(value=0, description='187 epoch', max=500, style=ProgressStyle(description_width='i…"
      ]
     },
     "metadata": {},
     "output_type": "display_data"
    },
    {
     "data": {
      "application/vnd.jupyter.widget-view+json": {
       "model_id": "18aa322a10b14453b99549d3f3aeb7bf",
       "version_major": 2,
       "version_minor": 0
      },
      "text/plain": [
       "HBox(children=(IntProgress(value=0, description='188 epoch', max=500, style=ProgressStyle(description_width='i…"
      ]
     },
     "metadata": {},
     "output_type": "display_data"
    },
    {
     "data": {
      "application/vnd.jupyter.widget-view+json": {
       "model_id": "0292052fc5194acba53c2cccfeb7ddb5",
       "version_major": 2,
       "version_minor": 0
      },
      "text/plain": [
       "HBox(children=(IntProgress(value=0, description='189 epoch', max=500, style=ProgressStyle(description_width='i…"
      ]
     },
     "metadata": {},
     "output_type": "display_data"
    },
    {
     "data": {
      "application/vnd.jupyter.widget-view+json": {
       "model_id": "c323447e91224c689f5989f44da819d4",
       "version_major": 2,
       "version_minor": 0
      },
      "text/plain": [
       "HBox(children=(IntProgress(value=0, description='190 epoch', max=500, style=ProgressStyle(description_width='i…"
      ]
     },
     "metadata": {},
     "output_type": "display_data"
    },
    {
     "data": {
      "application/vnd.jupyter.widget-view+json": {
       "model_id": "da9c26894c4e45549221a45fa58d8756",
       "version_major": 2,
       "version_minor": 0
      },
      "text/plain": [
       "HBox(children=(IntProgress(value=0, description='191 epoch', max=500, style=ProgressStyle(description_width='i…"
      ]
     },
     "metadata": {},
     "output_type": "display_data"
    },
    {
     "data": {
      "application/vnd.jupyter.widget-view+json": {
       "model_id": "9b45e9d2cee04f08a7119cad8656c095",
       "version_major": 2,
       "version_minor": 0
      },
      "text/plain": [
       "HBox(children=(IntProgress(value=0, description='192 epoch', max=500, style=ProgressStyle(description_width='i…"
      ]
     },
     "metadata": {},
     "output_type": "display_data"
    },
    {
     "data": {
      "application/vnd.jupyter.widget-view+json": {
       "model_id": "faffd1161abe42c7ae3ab1ee3f2f257c",
       "version_major": 2,
       "version_minor": 0
      },
      "text/plain": [
       "HBox(children=(IntProgress(value=0, description='193 epoch', max=500, style=ProgressStyle(description_width='i…"
      ]
     },
     "metadata": {},
     "output_type": "display_data"
    },
    {
     "data": {
      "application/vnd.jupyter.widget-view+json": {
       "model_id": "d0b0a8c68fe64a97b1cf669df60c2f34",
       "version_major": 2,
       "version_minor": 0
      },
      "text/plain": [
       "HBox(children=(IntProgress(value=0, description='194 epoch', max=500, style=ProgressStyle(description_width='i…"
      ]
     },
     "metadata": {},
     "output_type": "display_data"
    },
    {
     "data": {
      "application/vnd.jupyter.widget-view+json": {
       "model_id": "b2700226194f4088846b030559be3c47",
       "version_major": 2,
       "version_minor": 0
      },
      "text/plain": [
       "HBox(children=(IntProgress(value=0, description='195 epoch', max=500, style=ProgressStyle(description_width='i…"
      ]
     },
     "metadata": {},
     "output_type": "display_data"
    },
    {
     "data": {
      "application/vnd.jupyter.widget-view+json": {
       "model_id": "0d8a3695075b4266b5664ef765d27653",
       "version_major": 2,
       "version_minor": 0
      },
      "text/plain": [
       "HBox(children=(IntProgress(value=0, description='196 epoch', max=500, style=ProgressStyle(description_width='i…"
      ]
     },
     "metadata": {},
     "output_type": "display_data"
    },
    {
     "data": {
      "application/vnd.jupyter.widget-view+json": {
       "model_id": "5d5aeced63794ec3b8e91dce15b17250",
       "version_major": 2,
       "version_minor": 0
      },
      "text/plain": [
       "HBox(children=(IntProgress(value=0, description='197 epoch', max=500, style=ProgressStyle(description_width='i…"
      ]
     },
     "metadata": {},
     "output_type": "display_data"
    },
    {
     "data": {
      "application/vnd.jupyter.widget-view+json": {
       "model_id": "831b28faa6034b79a42a27ed8d880dfb",
       "version_major": 2,
       "version_minor": 0
      },
      "text/plain": [
       "HBox(children=(IntProgress(value=0, description='198 epoch', max=500, style=ProgressStyle(description_width='i…"
      ]
     },
     "metadata": {},
     "output_type": "display_data"
    },
    {
     "data": {
      "application/vnd.jupyter.widget-view+json": {
       "model_id": "2746a4353df147ee842f4c4a8b277449",
       "version_major": 2,
       "version_minor": 0
      },
      "text/plain": [
       "HBox(children=(IntProgress(value=0, description='199 epoch', max=500, style=ProgressStyle(description_width='i…"
      ]
     },
     "metadata": {},
     "output_type": "display_data"
    },
    {
     "data": {
      "application/vnd.jupyter.widget-view+json": {
       "model_id": "1abb8bb0eba14e819dbf32840f64543f",
       "version_major": 2,
       "version_minor": 0
      },
      "text/plain": [
       "HBox(children=(IntProgress(value=0, description='200 epoch', max=500, style=ProgressStyle(description_width='i…"
      ]
     },
     "metadata": {},
     "output_type": "display_data"
    },
    {
     "data": {
      "application/vnd.jupyter.widget-view+json": {
       "model_id": "c23eeef5be3147d09a2a0e066b40e048",
       "version_major": 2,
       "version_minor": 0
      },
      "text/plain": [
       "HBox(children=(IntProgress(value=0, description='201 epoch', max=500, style=ProgressStyle(description_width='i…"
      ]
     },
     "metadata": {},
     "output_type": "display_data"
    },
    {
     "data": {
      "application/vnd.jupyter.widget-view+json": {
       "model_id": "082a85adce634298b648e60068a5edf2",
       "version_major": 2,
       "version_minor": 0
      },
      "text/plain": [
       "HBox(children=(IntProgress(value=0, description='202 epoch', max=500, style=ProgressStyle(description_width='i…"
      ]
     },
     "metadata": {},
     "output_type": "display_data"
    },
    {
     "data": {
      "application/vnd.jupyter.widget-view+json": {
       "model_id": "2487c894986c451f98e344bfcd7b934d",
       "version_major": 2,
       "version_minor": 0
      },
      "text/plain": [
       "HBox(children=(IntProgress(value=0, description='203 epoch', max=500, style=ProgressStyle(description_width='i…"
      ]
     },
     "metadata": {},
     "output_type": "display_data"
    },
    {
     "data": {
      "application/vnd.jupyter.widget-view+json": {
       "model_id": "d3d71ff9e547423f9d354b058c501f3d",
       "version_major": 2,
       "version_minor": 0
      },
      "text/plain": [
       "HBox(children=(IntProgress(value=0, description='204 epoch', max=500, style=ProgressStyle(description_width='i…"
      ]
     },
     "metadata": {},
     "output_type": "display_data"
    },
    {
     "data": {
      "application/vnd.jupyter.widget-view+json": {
       "model_id": "33f73418b09946728628326d8118d661",
       "version_major": 2,
       "version_minor": 0
      },
      "text/plain": [
       "HBox(children=(IntProgress(value=0, description='205 epoch', max=500, style=ProgressStyle(description_width='i…"
      ]
     },
     "metadata": {},
     "output_type": "display_data"
    },
    {
     "data": {
      "application/vnd.jupyter.widget-view+json": {
       "model_id": "5a97357971cf4cad9e2448758c450449",
       "version_major": 2,
       "version_minor": 0
      },
      "text/plain": [
       "HBox(children=(IntProgress(value=0, description='206 epoch', max=500, style=ProgressStyle(description_width='i…"
      ]
     },
     "metadata": {},
     "output_type": "display_data"
    },
    {
     "data": {
      "application/vnd.jupyter.widget-view+json": {
       "model_id": "9fe84c2c0c3342eea166143a8df5a2cc",
       "version_major": 2,
       "version_minor": 0
      },
      "text/plain": [
       "HBox(children=(IntProgress(value=0, description='207 epoch', max=500, style=ProgressStyle(description_width='i…"
      ]
     },
     "metadata": {},
     "output_type": "display_data"
    },
    {
     "data": {
      "application/vnd.jupyter.widget-view+json": {
       "model_id": "0f70e853627d4d2dbe97840440ac3bba",
       "version_major": 2,
       "version_minor": 0
      },
      "text/plain": [
       "HBox(children=(IntProgress(value=0, description='208 epoch', max=500, style=ProgressStyle(description_width='i…"
      ]
     },
     "metadata": {},
     "output_type": "display_data"
    },
    {
     "data": {
      "application/vnd.jupyter.widget-view+json": {
       "model_id": "c3aa52f4c4494b37b7342e598bde786f",
       "version_major": 2,
       "version_minor": 0
      },
      "text/plain": [
       "HBox(children=(IntProgress(value=0, description='209 epoch', max=500, style=ProgressStyle(description_width='i…"
      ]
     },
     "metadata": {},
     "output_type": "display_data"
    },
    {
     "data": {
      "application/vnd.jupyter.widget-view+json": {
       "model_id": "ba1a477f39804c34aafab99fcb3b2f6c",
       "version_major": 2,
       "version_minor": 0
      },
      "text/plain": [
       "HBox(children=(IntProgress(value=0, description='210 epoch', max=500, style=ProgressStyle(description_width='i…"
      ]
     },
     "metadata": {},
     "output_type": "display_data"
    },
    {
     "data": {
      "application/vnd.jupyter.widget-view+json": {
       "model_id": "5936325a41d542d9aaba931f8eab00a5",
       "version_major": 2,
       "version_minor": 0
      },
      "text/plain": [
       "HBox(children=(IntProgress(value=0, description='211 epoch', max=500, style=ProgressStyle(description_width='i…"
      ]
     },
     "metadata": {},
     "output_type": "display_data"
    },
    {
     "data": {
      "application/vnd.jupyter.widget-view+json": {
       "model_id": "28478a7c076a4f878b8f181e008762e6",
       "version_major": 2,
       "version_minor": 0
      },
      "text/plain": [
       "HBox(children=(IntProgress(value=0, description='212 epoch', max=500, style=ProgressStyle(description_width='i…"
      ]
     },
     "metadata": {},
     "output_type": "display_data"
    },
    {
     "data": {
      "application/vnd.jupyter.widget-view+json": {
       "model_id": "b76a9e91f3144d0db3d27cbb1c6e8022",
       "version_major": 2,
       "version_minor": 0
      },
      "text/plain": [
       "HBox(children=(IntProgress(value=0, description='213 epoch', max=500, style=ProgressStyle(description_width='i…"
      ]
     },
     "metadata": {},
     "output_type": "display_data"
    },
    {
     "data": {
      "application/vnd.jupyter.widget-view+json": {
       "model_id": "67d015bced8643c7a311c634154c8404",
       "version_major": 2,
       "version_minor": 0
      },
      "text/plain": [
       "HBox(children=(IntProgress(value=0, description='214 epoch', max=500, style=ProgressStyle(description_width='i…"
      ]
     },
     "metadata": {},
     "output_type": "display_data"
    },
    {
     "data": {
      "application/vnd.jupyter.widget-view+json": {
       "model_id": "ed833f36a2034518bc4482b3261e2faf",
       "version_major": 2,
       "version_minor": 0
      },
      "text/plain": [
       "HBox(children=(IntProgress(value=0, description='215 epoch', max=500, style=ProgressStyle(description_width='i…"
      ]
     },
     "metadata": {},
     "output_type": "display_data"
    },
    {
     "data": {
      "application/vnd.jupyter.widget-view+json": {
       "model_id": "1a889a9d39b04eeda6f9c4f86182d117",
       "version_major": 2,
       "version_minor": 0
      },
      "text/plain": [
       "HBox(children=(IntProgress(value=0, description='216 epoch', max=500, style=ProgressStyle(description_width='i…"
      ]
     },
     "metadata": {},
     "output_type": "display_data"
    },
    {
     "data": {
      "application/vnd.jupyter.widget-view+json": {
       "model_id": "43087bf897fb480b81544035a22d5aac",
       "version_major": 2,
       "version_minor": 0
      },
      "text/plain": [
       "HBox(children=(IntProgress(value=0, description='217 epoch', max=500, style=ProgressStyle(description_width='i…"
      ]
     },
     "metadata": {},
     "output_type": "display_data"
    },
    {
     "data": {
      "application/vnd.jupyter.widget-view+json": {
       "model_id": "86d43ef116024291a50878df8399972c",
       "version_major": 2,
       "version_minor": 0
      },
      "text/plain": [
       "HBox(children=(IntProgress(value=0, description='218 epoch', max=500, style=ProgressStyle(description_width='i…"
      ]
     },
     "metadata": {},
     "output_type": "display_data"
    },
    {
     "data": {
      "application/vnd.jupyter.widget-view+json": {
       "model_id": "b7d9a69894aa44e69f2f7983839c6d19",
       "version_major": 2,
       "version_minor": 0
      },
      "text/plain": [
       "HBox(children=(IntProgress(value=0, description='219 epoch', max=500, style=ProgressStyle(description_width='i…"
      ]
     },
     "metadata": {},
     "output_type": "display_data"
    },
    {
     "data": {
      "application/vnd.jupyter.widget-view+json": {
       "model_id": "5dce0fb5a29a40d2aeabbbf56b387267",
       "version_major": 2,
       "version_minor": 0
      },
      "text/plain": [
       "HBox(children=(IntProgress(value=0, description='220 epoch', max=500, style=ProgressStyle(description_width='i…"
      ]
     },
     "metadata": {},
     "output_type": "display_data"
    },
    {
     "data": {
      "application/vnd.jupyter.widget-view+json": {
       "model_id": "2f7677c5763343d0aadcf9711c5886aa",
       "version_major": 2,
       "version_minor": 0
      },
      "text/plain": [
       "HBox(children=(IntProgress(value=0, description='221 epoch', max=500, style=ProgressStyle(description_width='i…"
      ]
     },
     "metadata": {},
     "output_type": "display_data"
    },
    {
     "data": {
      "application/vnd.jupyter.widget-view+json": {
       "model_id": "a9cfbc18574f460eaf31689cbe41bef4",
       "version_major": 2,
       "version_minor": 0
      },
      "text/plain": [
       "HBox(children=(IntProgress(value=0, description='222 epoch', max=500, style=ProgressStyle(description_width='i…"
      ]
     },
     "metadata": {},
     "output_type": "display_data"
    },
    {
     "data": {
      "application/vnd.jupyter.widget-view+json": {
       "model_id": "5d7de8bc9d404268aebea8f1ec62ece0",
       "version_major": 2,
       "version_minor": 0
      },
      "text/plain": [
       "HBox(children=(IntProgress(value=0, description='223 epoch', max=500, style=ProgressStyle(description_width='i…"
      ]
     },
     "metadata": {},
     "output_type": "display_data"
    },
    {
     "data": {
      "application/vnd.jupyter.widget-view+json": {
       "model_id": "88f5de83799f43a7adf2d3bb5627c13d",
       "version_major": 2,
       "version_minor": 0
      },
      "text/plain": [
       "HBox(children=(IntProgress(value=0, description='224 epoch', max=500, style=ProgressStyle(description_width='i…"
      ]
     },
     "metadata": {},
     "output_type": "display_data"
    },
    {
     "data": {
      "application/vnd.jupyter.widget-view+json": {
       "model_id": "7c3fb81441884eb9bd703f834069e0e9",
       "version_major": 2,
       "version_minor": 0
      },
      "text/plain": [
       "HBox(children=(IntProgress(value=0, description='225 epoch', max=500, style=ProgressStyle(description_width='i…"
      ]
     },
     "metadata": {},
     "output_type": "display_data"
    },
    {
     "data": {
      "application/vnd.jupyter.widget-view+json": {
       "model_id": "2dec36af2484488ca8249041dd252ebf",
       "version_major": 2,
       "version_minor": 0
      },
      "text/plain": [
       "HBox(children=(IntProgress(value=0, description='226 epoch', max=500, style=ProgressStyle(description_width='i…"
      ]
     },
     "metadata": {},
     "output_type": "display_data"
    },
    {
     "data": {
      "application/vnd.jupyter.widget-view+json": {
       "model_id": "c699510a1b85402ebb544b4f037c12da",
       "version_major": 2,
       "version_minor": 0
      },
      "text/plain": [
       "HBox(children=(IntProgress(value=0, description='227 epoch', max=500, style=ProgressStyle(description_width='i…"
      ]
     },
     "metadata": {},
     "output_type": "display_data"
    },
    {
     "data": {
      "application/vnd.jupyter.widget-view+json": {
       "model_id": "bd404b5dcc2f4efabb8066a74f795453",
       "version_major": 2,
       "version_minor": 0
      },
      "text/plain": [
       "HBox(children=(IntProgress(value=0, description='228 epoch', max=500, style=ProgressStyle(description_width='i…"
      ]
     },
     "metadata": {},
     "output_type": "display_data"
    },
    {
     "data": {
      "application/vnd.jupyter.widget-view+json": {
       "model_id": "de11cfea39384c9087300877e94b7d60",
       "version_major": 2,
       "version_minor": 0
      },
      "text/plain": [
       "HBox(children=(IntProgress(value=0, description='229 epoch', max=500, style=ProgressStyle(description_width='i…"
      ]
     },
     "metadata": {},
     "output_type": "display_data"
    },
    {
     "data": {
      "application/vnd.jupyter.widget-view+json": {
       "model_id": "2e1fc8ad30034841aba42d70a61e675a",
       "version_major": 2,
       "version_minor": 0
      },
      "text/plain": [
       "HBox(children=(IntProgress(value=0, description='230 epoch', max=500, style=ProgressStyle(description_width='i…"
      ]
     },
     "metadata": {},
     "output_type": "display_data"
    },
    {
     "data": {
      "application/vnd.jupyter.widget-view+json": {
       "model_id": "17af34d0d2f74018992edba535b95f0e",
       "version_major": 2,
       "version_minor": 0
      },
      "text/plain": [
       "HBox(children=(IntProgress(value=0, description='231 epoch', max=500, style=ProgressStyle(description_width='i…"
      ]
     },
     "metadata": {},
     "output_type": "display_data"
    },
    {
     "data": {
      "application/vnd.jupyter.widget-view+json": {
       "model_id": "a13add5e7efd45b59bb21320547595fd",
       "version_major": 2,
       "version_minor": 0
      },
      "text/plain": [
       "HBox(children=(IntProgress(value=0, description='232 epoch', max=500, style=ProgressStyle(description_width='i…"
      ]
     },
     "metadata": {},
     "output_type": "display_data"
    },
    {
     "data": {
      "application/vnd.jupyter.widget-view+json": {
       "model_id": "603378e317164520996c48bc52a80930",
       "version_major": 2,
       "version_minor": 0
      },
      "text/plain": [
       "HBox(children=(IntProgress(value=0, description='233 epoch', max=500, style=ProgressStyle(description_width='i…"
      ]
     },
     "metadata": {},
     "output_type": "display_data"
    },
    {
     "data": {
      "application/vnd.jupyter.widget-view+json": {
       "model_id": "e5837163082b4ad09feb8b246d5c8ec6",
       "version_major": 2,
       "version_minor": 0
      },
      "text/plain": [
       "HBox(children=(IntProgress(value=0, description='234 epoch', max=500, style=ProgressStyle(description_width='i…"
      ]
     },
     "metadata": {},
     "output_type": "display_data"
    },
    {
     "data": {
      "application/vnd.jupyter.widget-view+json": {
       "model_id": "f64beaf26f654cd9992ad75b061ba16e",
       "version_major": 2,
       "version_minor": 0
      },
      "text/plain": [
       "HBox(children=(IntProgress(value=0, description='235 epoch', max=500, style=ProgressStyle(description_width='i…"
      ]
     },
     "metadata": {},
     "output_type": "display_data"
    },
    {
     "data": {
      "application/vnd.jupyter.widget-view+json": {
       "model_id": "c94adb5d71404e4f867536d126fbc1f5",
       "version_major": 2,
       "version_minor": 0
      },
      "text/plain": [
       "HBox(children=(IntProgress(value=0, description='236 epoch', max=500, style=ProgressStyle(description_width='i…"
      ]
     },
     "metadata": {},
     "output_type": "display_data"
    },
    {
     "data": {
      "application/vnd.jupyter.widget-view+json": {
       "model_id": "de95069d39794d419fffbca51db5eb46",
       "version_major": 2,
       "version_minor": 0
      },
      "text/plain": [
       "HBox(children=(IntProgress(value=0, description='237 epoch', max=500, style=ProgressStyle(description_width='i…"
      ]
     },
     "metadata": {},
     "output_type": "display_data"
    },
    {
     "data": {
      "application/vnd.jupyter.widget-view+json": {
       "model_id": "4f64ce9ef3d6462f9ae55345b77e1d3c",
       "version_major": 2,
       "version_minor": 0
      },
      "text/plain": [
       "HBox(children=(IntProgress(value=0, description='238 epoch', max=500, style=ProgressStyle(description_width='i…"
      ]
     },
     "metadata": {},
     "output_type": "display_data"
    },
    {
     "data": {
      "application/vnd.jupyter.widget-view+json": {
       "model_id": "88642cd78c3445eb993b24b613a686df",
       "version_major": 2,
       "version_minor": 0
      },
      "text/plain": [
       "HBox(children=(IntProgress(value=0, description='239 epoch', max=500, style=ProgressStyle(description_width='i…"
      ]
     },
     "metadata": {},
     "output_type": "display_data"
    },
    {
     "data": {
      "application/vnd.jupyter.widget-view+json": {
       "model_id": "586fd01be9b2456698122bd42e6150c3",
       "version_major": 2,
       "version_minor": 0
      },
      "text/plain": [
       "HBox(children=(IntProgress(value=0, description='240 epoch', max=500, style=ProgressStyle(description_width='i…"
      ]
     },
     "metadata": {},
     "output_type": "display_data"
    },
    {
     "data": {
      "application/vnd.jupyter.widget-view+json": {
       "model_id": "4f4b4ec5caae4c50a1d092fc1e883fbb",
       "version_major": 2,
       "version_minor": 0
      },
      "text/plain": [
       "HBox(children=(IntProgress(value=0, description='241 epoch', max=500, style=ProgressStyle(description_width='i…"
      ]
     },
     "metadata": {},
     "output_type": "display_data"
    },
    {
     "data": {
      "application/vnd.jupyter.widget-view+json": {
       "model_id": "851bb08102b54c9fb90af8366ae9a9d0",
       "version_major": 2,
       "version_minor": 0
      },
      "text/plain": [
       "HBox(children=(IntProgress(value=0, description='242 epoch', max=500, style=ProgressStyle(description_width='i…"
      ]
     },
     "metadata": {},
     "output_type": "display_data"
    },
    {
     "data": {
      "application/vnd.jupyter.widget-view+json": {
       "model_id": "407e983d3cbf400b88f07eca7de7cca5",
       "version_major": 2,
       "version_minor": 0
      },
      "text/plain": [
       "HBox(children=(IntProgress(value=0, description='243 epoch', max=500, style=ProgressStyle(description_width='i…"
      ]
     },
     "metadata": {},
     "output_type": "display_data"
    },
    {
     "data": {
      "application/vnd.jupyter.widget-view+json": {
       "model_id": "a990402f77f84e96a5ee353825075afe",
       "version_major": 2,
       "version_minor": 0
      },
      "text/plain": [
       "HBox(children=(IntProgress(value=0, description='244 epoch', max=500, style=ProgressStyle(description_width='i…"
      ]
     },
     "metadata": {},
     "output_type": "display_data"
    },
    {
     "data": {
      "application/vnd.jupyter.widget-view+json": {
       "model_id": "18caa2d283e9418e966ead0cb0a2cde6",
       "version_major": 2,
       "version_minor": 0
      },
      "text/plain": [
       "HBox(children=(IntProgress(value=0, description='245 epoch', max=500, style=ProgressStyle(description_width='i…"
      ]
     },
     "metadata": {},
     "output_type": "display_data"
    },
    {
     "data": {
      "application/vnd.jupyter.widget-view+json": {
       "model_id": "0fd576e452e84a299809cad2b41e0492",
       "version_major": 2,
       "version_minor": 0
      },
      "text/plain": [
       "HBox(children=(IntProgress(value=0, description='246 epoch', max=500, style=ProgressStyle(description_width='i…"
      ]
     },
     "metadata": {},
     "output_type": "display_data"
    },
    {
     "data": {
      "application/vnd.jupyter.widget-view+json": {
       "model_id": "3d5b6fe7e6c9423c865c5522acfa2266",
       "version_major": 2,
       "version_minor": 0
      },
      "text/plain": [
       "HBox(children=(IntProgress(value=0, description='247 epoch', max=500, style=ProgressStyle(description_width='i…"
      ]
     },
     "metadata": {},
     "output_type": "display_data"
    },
    {
     "data": {
      "application/vnd.jupyter.widget-view+json": {
       "model_id": "3280320089f24f74b269d40514a13872",
       "version_major": 2,
       "version_minor": 0
      },
      "text/plain": [
       "HBox(children=(IntProgress(value=0, description='248 epoch', max=500, style=ProgressStyle(description_width='i…"
      ]
     },
     "metadata": {},
     "output_type": "display_data"
    },
    {
     "data": {
      "application/vnd.jupyter.widget-view+json": {
       "model_id": "f478d936b7fd477282a7ffc3c30f7809",
       "version_major": 2,
       "version_minor": 0
      },
      "text/plain": [
       "HBox(children=(IntProgress(value=0, description='249 epoch', max=500, style=ProgressStyle(description_width='i…"
      ]
     },
     "metadata": {},
     "output_type": "display_data"
    },
    {
     "data": {
      "application/vnd.jupyter.widget-view+json": {
       "model_id": "17a738152aa94cbfb27c83e7037e8f99",
       "version_major": 2,
       "version_minor": 0
      },
      "text/plain": [
       "HBox(children=(IntProgress(value=0, description='250 epoch', max=500, style=ProgressStyle(description_width='i…"
      ]
     },
     "metadata": {},
     "output_type": "display_data"
    },
    {
     "data": {
      "application/vnd.jupyter.widget-view+json": {
       "model_id": "3b9a5eed8c924292b753f9ab7fe6e641",
       "version_major": 2,
       "version_minor": 0
      },
      "text/plain": [
       "HBox(children=(IntProgress(value=0, description='251 epoch', max=500, style=ProgressStyle(description_width='i…"
      ]
     },
     "metadata": {},
     "output_type": "display_data"
    },
    {
     "data": {
      "application/vnd.jupyter.widget-view+json": {
       "model_id": "303fa74a8648487391eaf89c6301fb1d",
       "version_major": 2,
       "version_minor": 0
      },
      "text/plain": [
       "HBox(children=(IntProgress(value=0, description='252 epoch', max=500, style=ProgressStyle(description_width='i…"
      ]
     },
     "metadata": {},
     "output_type": "display_data"
    },
    {
     "data": {
      "application/vnd.jupyter.widget-view+json": {
       "model_id": "4b84495596bd4e6d952b5bfbfbb51af6",
       "version_major": 2,
       "version_minor": 0
      },
      "text/plain": [
       "HBox(children=(IntProgress(value=0, description='253 epoch', max=500, style=ProgressStyle(description_width='i…"
      ]
     },
     "metadata": {},
     "output_type": "display_data"
    },
    {
     "data": {
      "application/vnd.jupyter.widget-view+json": {
       "model_id": "886adb735f3949aa8c1549dd7a969ae1",
       "version_major": 2,
       "version_minor": 0
      },
      "text/plain": [
       "HBox(children=(IntProgress(value=0, description='254 epoch', max=500, style=ProgressStyle(description_width='i…"
      ]
     },
     "metadata": {},
     "output_type": "display_data"
    },
    {
     "data": {
      "application/vnd.jupyter.widget-view+json": {
       "model_id": "5168a911413d49c5b136b5c7b31eab49",
       "version_major": 2,
       "version_minor": 0
      },
      "text/plain": [
       "HBox(children=(IntProgress(value=0, description='255 epoch', max=500, style=ProgressStyle(description_width='i…"
      ]
     },
     "metadata": {},
     "output_type": "display_data"
    },
    {
     "data": {
      "application/vnd.jupyter.widget-view+json": {
       "model_id": "ee2bdecdcdbe4beab55e36f0dca0214d",
       "version_major": 2,
       "version_minor": 0
      },
      "text/plain": [
       "HBox(children=(IntProgress(value=0, description='256 epoch', max=500, style=ProgressStyle(description_width='i…"
      ]
     },
     "metadata": {},
     "output_type": "display_data"
    },
    {
     "data": {
      "application/vnd.jupyter.widget-view+json": {
       "model_id": "f13c1c7bbbcc47f2a61d87117a8c3617",
       "version_major": 2,
       "version_minor": 0
      },
      "text/plain": [
       "HBox(children=(IntProgress(value=0, description='257 epoch', max=500, style=ProgressStyle(description_width='i…"
      ]
     },
     "metadata": {},
     "output_type": "display_data"
    },
    {
     "data": {
      "application/vnd.jupyter.widget-view+json": {
       "model_id": "664f74806241430a947f9499a2add8f4",
       "version_major": 2,
       "version_minor": 0
      },
      "text/plain": [
       "HBox(children=(IntProgress(value=0, description='258 epoch', max=500, style=ProgressStyle(description_width='i…"
      ]
     },
     "metadata": {},
     "output_type": "display_data"
    },
    {
     "data": {
      "application/vnd.jupyter.widget-view+json": {
       "model_id": "d009eaddfa9f421bba49c4ef2f961d23",
       "version_major": 2,
       "version_minor": 0
      },
      "text/plain": [
       "HBox(children=(IntProgress(value=0, description='259 epoch', max=500, style=ProgressStyle(description_width='i…"
      ]
     },
     "metadata": {},
     "output_type": "display_data"
    },
    {
     "data": {
      "application/vnd.jupyter.widget-view+json": {
       "model_id": "b0682e6d753e480e978b4aa3f60dcfd3",
       "version_major": 2,
       "version_minor": 0
      },
      "text/plain": [
       "HBox(children=(IntProgress(value=0, description='260 epoch', max=500, style=ProgressStyle(description_width='i…"
      ]
     },
     "metadata": {},
     "output_type": "display_data"
    },
    {
     "data": {
      "application/vnd.jupyter.widget-view+json": {
       "model_id": "ee2bd7abfff94415a35559d16504a681",
       "version_major": 2,
       "version_minor": 0
      },
      "text/plain": [
       "HBox(children=(IntProgress(value=0, description='261 epoch', max=500, style=ProgressStyle(description_width='i…"
      ]
     },
     "metadata": {},
     "output_type": "display_data"
    },
    {
     "data": {
      "application/vnd.jupyter.widget-view+json": {
       "model_id": "a892d1b55bc545bfae41fcf6fa9240be",
       "version_major": 2,
       "version_minor": 0
      },
      "text/plain": [
       "HBox(children=(IntProgress(value=0, description='262 epoch', max=500, style=ProgressStyle(description_width='i…"
      ]
     },
     "metadata": {},
     "output_type": "display_data"
    },
    {
     "data": {
      "application/vnd.jupyter.widget-view+json": {
       "model_id": "e6a3791ade1b451a84d65e0a41ba482b",
       "version_major": 2,
       "version_minor": 0
      },
      "text/plain": [
       "HBox(children=(IntProgress(value=0, description='263 epoch', max=500, style=ProgressStyle(description_width='i…"
      ]
     },
     "metadata": {},
     "output_type": "display_data"
    },
    {
     "data": {
      "application/vnd.jupyter.widget-view+json": {
       "model_id": "5deda3018f384f6c8319cc5adf81b8cf",
       "version_major": 2,
       "version_minor": 0
      },
      "text/plain": [
       "HBox(children=(IntProgress(value=0, description='264 epoch', max=500, style=ProgressStyle(description_width='i…"
      ]
     },
     "metadata": {},
     "output_type": "display_data"
    },
    {
     "data": {
      "application/vnd.jupyter.widget-view+json": {
       "model_id": "94f1fe6c5d384151b375b4c684afdcd2",
       "version_major": 2,
       "version_minor": 0
      },
      "text/plain": [
       "HBox(children=(IntProgress(value=0, description='265 epoch', max=500, style=ProgressStyle(description_width='i…"
      ]
     },
     "metadata": {},
     "output_type": "display_data"
    },
    {
     "data": {
      "application/vnd.jupyter.widget-view+json": {
       "model_id": "c7854070de054e338147fac90aa1bb8e",
       "version_major": 2,
       "version_minor": 0
      },
      "text/plain": [
       "HBox(children=(IntProgress(value=0, description='266 epoch', max=500, style=ProgressStyle(description_width='i…"
      ]
     },
     "metadata": {},
     "output_type": "display_data"
    },
    {
     "data": {
      "application/vnd.jupyter.widget-view+json": {
       "model_id": "4a4f1c30b7d74d6ab751ff4ae230800c",
       "version_major": 2,
       "version_minor": 0
      },
      "text/plain": [
       "HBox(children=(IntProgress(value=0, description='267 epoch', max=500, style=ProgressStyle(description_width='i…"
      ]
     },
     "metadata": {},
     "output_type": "display_data"
    },
    {
     "data": {
      "application/vnd.jupyter.widget-view+json": {
       "model_id": "ce6ce6226f104e159991906ad973b608",
       "version_major": 2,
       "version_minor": 0
      },
      "text/plain": [
       "HBox(children=(IntProgress(value=0, description='268 epoch', max=500, style=ProgressStyle(description_width='i…"
      ]
     },
     "metadata": {},
     "output_type": "display_data"
    },
    {
     "data": {
      "application/vnd.jupyter.widget-view+json": {
       "model_id": "e6460c75f10d410e81cd31619ed669ec",
       "version_major": 2,
       "version_minor": 0
      },
      "text/plain": [
       "HBox(children=(IntProgress(value=0, description='269 epoch', max=500, style=ProgressStyle(description_width='i…"
      ]
     },
     "metadata": {},
     "output_type": "display_data"
    },
    {
     "data": {
      "application/vnd.jupyter.widget-view+json": {
       "model_id": "99f55f12bf6e42128cf9e9fd88d1d7bf",
       "version_major": 2,
       "version_minor": 0
      },
      "text/plain": [
       "HBox(children=(IntProgress(value=0, description='270 epoch', max=500, style=ProgressStyle(description_width='i…"
      ]
     },
     "metadata": {},
     "output_type": "display_data"
    },
    {
     "data": {
      "application/vnd.jupyter.widget-view+json": {
       "model_id": "a17992683da246d9861c826080e62812",
       "version_major": 2,
       "version_minor": 0
      },
      "text/plain": [
       "HBox(children=(IntProgress(value=0, description='271 epoch', max=500, style=ProgressStyle(description_width='i…"
      ]
     },
     "metadata": {},
     "output_type": "display_data"
    },
    {
     "data": {
      "application/vnd.jupyter.widget-view+json": {
       "model_id": "f54671134b204706b64b3bda7d3309ad",
       "version_major": 2,
       "version_minor": 0
      },
      "text/plain": [
       "HBox(children=(IntProgress(value=0, description='272 epoch', max=500, style=ProgressStyle(description_width='i…"
      ]
     },
     "metadata": {},
     "output_type": "display_data"
    },
    {
     "data": {
      "application/vnd.jupyter.widget-view+json": {
       "model_id": "82c4d4395d3d49ad94087d3bd61a1796",
       "version_major": 2,
       "version_minor": 0
      },
      "text/plain": [
       "HBox(children=(IntProgress(value=0, description='273 epoch', max=500, style=ProgressStyle(description_width='i…"
      ]
     },
     "metadata": {},
     "output_type": "display_data"
    },
    {
     "data": {
      "application/vnd.jupyter.widget-view+json": {
       "model_id": "37dbdbd2c5704cee91058f4c558cffd7",
       "version_major": 2,
       "version_minor": 0
      },
      "text/plain": [
       "HBox(children=(IntProgress(value=0, description='274 epoch', max=500, style=ProgressStyle(description_width='i…"
      ]
     },
     "metadata": {},
     "output_type": "display_data"
    },
    {
     "data": {
      "application/vnd.jupyter.widget-view+json": {
       "model_id": "87ac60c2d8ba4621b2fb01d97e851601",
       "version_major": 2,
       "version_minor": 0
      },
      "text/plain": [
       "HBox(children=(IntProgress(value=0, description='275 epoch', max=500, style=ProgressStyle(description_width='i…"
      ]
     },
     "metadata": {},
     "output_type": "display_data"
    },
    {
     "data": {
      "application/vnd.jupyter.widget-view+json": {
       "model_id": "63f624ae85304d6989fd5ad23b8909c1",
       "version_major": 2,
       "version_minor": 0
      },
      "text/plain": [
       "HBox(children=(IntProgress(value=0, description='276 epoch', max=500, style=ProgressStyle(description_width='i…"
      ]
     },
     "metadata": {},
     "output_type": "display_data"
    },
    {
     "data": {
      "application/vnd.jupyter.widget-view+json": {
       "model_id": "1ae9160e39d547eca2247fd46447477d",
       "version_major": 2,
       "version_minor": 0
      },
      "text/plain": [
       "HBox(children=(IntProgress(value=0, description='277 epoch', max=500, style=ProgressStyle(description_width='i…"
      ]
     },
     "metadata": {},
     "output_type": "display_data"
    },
    {
     "data": {
      "application/vnd.jupyter.widget-view+json": {
       "model_id": "d34a437708e04a2e9d91628a56f2abb3",
       "version_major": 2,
       "version_minor": 0
      },
      "text/plain": [
       "HBox(children=(IntProgress(value=0, description='278 epoch', max=500, style=ProgressStyle(description_width='i…"
      ]
     },
     "metadata": {},
     "output_type": "display_data"
    },
    {
     "data": {
      "application/vnd.jupyter.widget-view+json": {
       "model_id": "41ed9a88d17c41878f378ea55412a8c3",
       "version_major": 2,
       "version_minor": 0
      },
      "text/plain": [
       "HBox(children=(IntProgress(value=0, description='279 epoch', max=500, style=ProgressStyle(description_width='i…"
      ]
     },
     "metadata": {},
     "output_type": "display_data"
    },
    {
     "data": {
      "application/vnd.jupyter.widget-view+json": {
       "model_id": "96b3e81dc9dd4da4ac04b4ec770178d4",
       "version_major": 2,
       "version_minor": 0
      },
      "text/plain": [
       "HBox(children=(IntProgress(value=0, description='280 epoch', max=500, style=ProgressStyle(description_width='i…"
      ]
     },
     "metadata": {},
     "output_type": "display_data"
    },
    {
     "data": {
      "application/vnd.jupyter.widget-view+json": {
       "model_id": "65b374b399e44452b5a94270452a68b4",
       "version_major": 2,
       "version_minor": 0
      },
      "text/plain": [
       "HBox(children=(IntProgress(value=0, description='281 epoch', max=500, style=ProgressStyle(description_width='i…"
      ]
     },
     "metadata": {},
     "output_type": "display_data"
    },
    {
     "data": {
      "application/vnd.jupyter.widget-view+json": {
       "model_id": "6f4eddcfc22545af9424098f4eb5f618",
       "version_major": 2,
       "version_minor": 0
      },
      "text/plain": [
       "HBox(children=(IntProgress(value=0, description='282 epoch', max=500, style=ProgressStyle(description_width='i…"
      ]
     },
     "metadata": {},
     "output_type": "display_data"
    },
    {
     "data": {
      "application/vnd.jupyter.widget-view+json": {
       "model_id": "eb3727622c3143ca9e57996be1459711",
       "version_major": 2,
       "version_minor": 0
      },
      "text/plain": [
       "HBox(children=(IntProgress(value=0, description='283 epoch', max=500, style=ProgressStyle(description_width='i…"
      ]
     },
     "metadata": {},
     "output_type": "display_data"
    },
    {
     "data": {
      "application/vnd.jupyter.widget-view+json": {
       "model_id": "8b771914d1ac4ad1a7c1fb660424d39f",
       "version_major": 2,
       "version_minor": 0
      },
      "text/plain": [
       "HBox(children=(IntProgress(value=0, description='284 epoch', max=500, style=ProgressStyle(description_width='i…"
      ]
     },
     "metadata": {},
     "output_type": "display_data"
    },
    {
     "data": {
      "application/vnd.jupyter.widget-view+json": {
       "model_id": "527847a7d38b40ebb0b45bb7cbd3c987",
       "version_major": 2,
       "version_minor": 0
      },
      "text/plain": [
       "HBox(children=(IntProgress(value=0, description='285 epoch', max=500, style=ProgressStyle(description_width='i…"
      ]
     },
     "metadata": {},
     "output_type": "display_data"
    },
    {
     "data": {
      "application/vnd.jupyter.widget-view+json": {
       "model_id": "db1b863c5a514e84b89496c21f9c675e",
       "version_major": 2,
       "version_minor": 0
      },
      "text/plain": [
       "HBox(children=(IntProgress(value=0, description='286 epoch', max=500, style=ProgressStyle(description_width='i…"
      ]
     },
     "metadata": {},
     "output_type": "display_data"
    },
    {
     "data": {
      "application/vnd.jupyter.widget-view+json": {
       "model_id": "e961f8bf07684d3388cb12b15d7a046d",
       "version_major": 2,
       "version_minor": 0
      },
      "text/plain": [
       "HBox(children=(IntProgress(value=0, description='287 epoch', max=500, style=ProgressStyle(description_width='i…"
      ]
     },
     "metadata": {},
     "output_type": "display_data"
    },
    {
     "data": {
      "application/vnd.jupyter.widget-view+json": {
       "model_id": "c4716e8cad6d4b7fa7cc954802e52c1b",
       "version_major": 2,
       "version_minor": 0
      },
      "text/plain": [
       "HBox(children=(IntProgress(value=0, description='288 epoch', max=500, style=ProgressStyle(description_width='i…"
      ]
     },
     "metadata": {},
     "output_type": "display_data"
    },
    {
     "data": {
      "application/vnd.jupyter.widget-view+json": {
       "model_id": "14aca72e7db6422397e1865679bd5732",
       "version_major": 2,
       "version_minor": 0
      },
      "text/plain": [
       "HBox(children=(IntProgress(value=0, description='289 epoch', max=500, style=ProgressStyle(description_width='i…"
      ]
     },
     "metadata": {},
     "output_type": "display_data"
    },
    {
     "data": {
      "application/vnd.jupyter.widget-view+json": {
       "model_id": "0c760f834450460e97687635871e512b",
       "version_major": 2,
       "version_minor": 0
      },
      "text/plain": [
       "HBox(children=(IntProgress(value=0, description='290 epoch', max=500, style=ProgressStyle(description_width='i…"
      ]
     },
     "metadata": {},
     "output_type": "display_data"
    },
    {
     "data": {
      "application/vnd.jupyter.widget-view+json": {
       "model_id": "5a72bc5726604ae6864b8dfb19084782",
       "version_major": 2,
       "version_minor": 0
      },
      "text/plain": [
       "HBox(children=(IntProgress(value=0, description='291 epoch', max=500, style=ProgressStyle(description_width='i…"
      ]
     },
     "metadata": {},
     "output_type": "display_data"
    },
    {
     "data": {
      "application/vnd.jupyter.widget-view+json": {
       "model_id": "b3602233fa78453fb188e693a2c6b176",
       "version_major": 2,
       "version_minor": 0
      },
      "text/plain": [
       "HBox(children=(IntProgress(value=0, description='292 epoch', max=500, style=ProgressStyle(description_width='i…"
      ]
     },
     "metadata": {},
     "output_type": "display_data"
    },
    {
     "data": {
      "application/vnd.jupyter.widget-view+json": {
       "model_id": "89963e50bc1c425cab0c4f080f5a59be",
       "version_major": 2,
       "version_minor": 0
      },
      "text/plain": [
       "HBox(children=(IntProgress(value=0, description='293 epoch', max=500, style=ProgressStyle(description_width='i…"
      ]
     },
     "metadata": {},
     "output_type": "display_data"
    },
    {
     "data": {
      "application/vnd.jupyter.widget-view+json": {
       "model_id": "ff1107c8045d4ff591d04ecb982efa5a",
       "version_major": 2,
       "version_minor": 0
      },
      "text/plain": [
       "HBox(children=(IntProgress(value=0, description='294 epoch', max=500, style=ProgressStyle(description_width='i…"
      ]
     },
     "metadata": {},
     "output_type": "display_data"
    },
    {
     "data": {
      "application/vnd.jupyter.widget-view+json": {
       "model_id": "d45c4544a51e4b5684ebd9b7e5112a39",
       "version_major": 2,
       "version_minor": 0
      },
      "text/plain": [
       "HBox(children=(IntProgress(value=0, description='295 epoch', max=500, style=ProgressStyle(description_width='i…"
      ]
     },
     "metadata": {},
     "output_type": "display_data"
    },
    {
     "data": {
      "application/vnd.jupyter.widget-view+json": {
       "model_id": "90fbd0e924244e709a7b14810c853241",
       "version_major": 2,
       "version_minor": 0
      },
      "text/plain": [
       "HBox(children=(IntProgress(value=0, description='296 epoch', max=500, style=ProgressStyle(description_width='i…"
      ]
     },
     "metadata": {},
     "output_type": "display_data"
    },
    {
     "data": {
      "application/vnd.jupyter.widget-view+json": {
       "model_id": "11e581a455df4d2f9a5c8af8b959fa44",
       "version_major": 2,
       "version_minor": 0
      },
      "text/plain": [
       "HBox(children=(IntProgress(value=0, description='297 epoch', max=500, style=ProgressStyle(description_width='i…"
      ]
     },
     "metadata": {},
     "output_type": "display_data"
    },
    {
     "data": {
      "application/vnd.jupyter.widget-view+json": {
       "model_id": "61e4eeb7114c46e6a78f2fd26d447829",
       "version_major": 2,
       "version_minor": 0
      },
      "text/plain": [
       "HBox(children=(IntProgress(value=0, description='298 epoch', max=500, style=ProgressStyle(description_width='i…"
      ]
     },
     "metadata": {},
     "output_type": "display_data"
    },
    {
     "data": {
      "application/vnd.jupyter.widget-view+json": {
       "model_id": "ee1d842ff38140399cea458898483144",
       "version_major": 2,
       "version_minor": 0
      },
      "text/plain": [
       "HBox(children=(IntProgress(value=0, description='299 epoch', max=500, style=ProgressStyle(description_width='i…"
      ]
     },
     "metadata": {},
     "output_type": "display_data"
    },
    {
     "data": {
      "application/vnd.jupyter.widget-view+json": {
       "model_id": "aa5d747045a7463281a01eb6d586ac38",
       "version_major": 2,
       "version_minor": 0
      },
      "text/plain": [
       "HBox(children=(IntProgress(value=0, description='300 epoch', max=500, style=ProgressStyle(description_width='i…"
      ]
     },
     "metadata": {},
     "output_type": "display_data"
    },
    {
     "data": {
      "application/vnd.jupyter.widget-view+json": {
       "model_id": "570398c1e79247939f203b65bfb9f415",
       "version_major": 2,
       "version_minor": 0
      },
      "text/plain": [
       "HBox(children=(IntProgress(value=0, description='301 epoch', max=500, style=ProgressStyle(description_width='i…"
      ]
     },
     "metadata": {},
     "output_type": "display_data"
    },
    {
     "data": {
      "application/vnd.jupyter.widget-view+json": {
       "model_id": "19fcb9aeab8b4ad28ea6a05c262f1c1e",
       "version_major": 2,
       "version_minor": 0
      },
      "text/plain": [
       "HBox(children=(IntProgress(value=0, description='302 epoch', max=500, style=ProgressStyle(description_width='i…"
      ]
     },
     "metadata": {},
     "output_type": "display_data"
    },
    {
     "data": {
      "application/vnd.jupyter.widget-view+json": {
       "model_id": "c3507d15879b4944b0665f9068881a80",
       "version_major": 2,
       "version_minor": 0
      },
      "text/plain": [
       "HBox(children=(IntProgress(value=0, description='303 epoch', max=500, style=ProgressStyle(description_width='i…"
      ]
     },
     "metadata": {},
     "output_type": "display_data"
    },
    {
     "data": {
      "application/vnd.jupyter.widget-view+json": {
       "model_id": "d5d3a63960b749d8a3ba64677d5875bd",
       "version_major": 2,
       "version_minor": 0
      },
      "text/plain": [
       "HBox(children=(IntProgress(value=0, description='304 epoch', max=500, style=ProgressStyle(description_width='i…"
      ]
     },
     "metadata": {},
     "output_type": "display_data"
    },
    {
     "data": {
      "application/vnd.jupyter.widget-view+json": {
       "model_id": "5243a1c4752845cb9022d01d8ad09132",
       "version_major": 2,
       "version_minor": 0
      },
      "text/plain": [
       "HBox(children=(IntProgress(value=0, description='305 epoch', max=500, style=ProgressStyle(description_width='i…"
      ]
     },
     "metadata": {},
     "output_type": "display_data"
    },
    {
     "data": {
      "application/vnd.jupyter.widget-view+json": {
       "model_id": "83aa9869a15e4587b06fa8fb933ce0dc",
       "version_major": 2,
       "version_minor": 0
      },
      "text/plain": [
       "HBox(children=(IntProgress(value=0, description='306 epoch', max=500, style=ProgressStyle(description_width='i…"
      ]
     },
     "metadata": {},
     "output_type": "display_data"
    },
    {
     "data": {
      "application/vnd.jupyter.widget-view+json": {
       "model_id": "b4dbf00641ff4f06a7c22c9b791a9f5c",
       "version_major": 2,
       "version_minor": 0
      },
      "text/plain": [
       "HBox(children=(IntProgress(value=0, description='307 epoch', max=500, style=ProgressStyle(description_width='i…"
      ]
     },
     "metadata": {},
     "output_type": "display_data"
    },
    {
     "data": {
      "application/vnd.jupyter.widget-view+json": {
       "model_id": "d65280f1f84945b596e6475530b77ff8",
       "version_major": 2,
       "version_minor": 0
      },
      "text/plain": [
       "HBox(children=(IntProgress(value=0, description='308 epoch', max=500, style=ProgressStyle(description_width='i…"
      ]
     },
     "metadata": {},
     "output_type": "display_data"
    },
    {
     "data": {
      "application/vnd.jupyter.widget-view+json": {
       "model_id": "876a9112560e47c39c4098ed1adf068d",
       "version_major": 2,
       "version_minor": 0
      },
      "text/plain": [
       "HBox(children=(IntProgress(value=0, description='309 epoch', max=500, style=ProgressStyle(description_width='i…"
      ]
     },
     "metadata": {},
     "output_type": "display_data"
    },
    {
     "data": {
      "application/vnd.jupyter.widget-view+json": {
       "model_id": "9322124aef05462a90ef3cd3e2a5d7dc",
       "version_major": 2,
       "version_minor": 0
      },
      "text/plain": [
       "HBox(children=(IntProgress(value=0, description='310 epoch', max=500, style=ProgressStyle(description_width='i…"
      ]
     },
     "metadata": {},
     "output_type": "display_data"
    },
    {
     "data": {
      "application/vnd.jupyter.widget-view+json": {
       "model_id": "d8901ad94e4c4f7896d831b7803a62de",
       "version_major": 2,
       "version_minor": 0
      },
      "text/plain": [
       "HBox(children=(IntProgress(value=0, description='311 epoch', max=500, style=ProgressStyle(description_width='i…"
      ]
     },
     "metadata": {},
     "output_type": "display_data"
    },
    {
     "data": {
      "application/vnd.jupyter.widget-view+json": {
       "model_id": "18cf4c76a28d45d488bd9460b96e65ea",
       "version_major": 2,
       "version_minor": 0
      },
      "text/plain": [
       "HBox(children=(IntProgress(value=0, description='312 epoch', max=500, style=ProgressStyle(description_width='i…"
      ]
     },
     "metadata": {},
     "output_type": "display_data"
    },
    {
     "data": {
      "application/vnd.jupyter.widget-view+json": {
       "model_id": "2ef8e32e09de405a8e589d48cb5ca3a1",
       "version_major": 2,
       "version_minor": 0
      },
      "text/plain": [
       "HBox(children=(IntProgress(value=0, description='313 epoch', max=500, style=ProgressStyle(description_width='i…"
      ]
     },
     "metadata": {},
     "output_type": "display_data"
    },
    {
     "data": {
      "application/vnd.jupyter.widget-view+json": {
       "model_id": "469f4047a619469ca92c53b8bbc4dc7c",
       "version_major": 2,
       "version_minor": 0
      },
      "text/plain": [
       "HBox(children=(IntProgress(value=0, description='314 epoch', max=500, style=ProgressStyle(description_width='i…"
      ]
     },
     "metadata": {},
     "output_type": "display_data"
    },
    {
     "data": {
      "application/vnd.jupyter.widget-view+json": {
       "model_id": "f5fef1e47c5f4e2b916a8595be7b16b9",
       "version_major": 2,
       "version_minor": 0
      },
      "text/plain": [
       "HBox(children=(IntProgress(value=0, description='315 epoch', max=500, style=ProgressStyle(description_width='i…"
      ]
     },
     "metadata": {},
     "output_type": "display_data"
    },
    {
     "data": {
      "application/vnd.jupyter.widget-view+json": {
       "model_id": "969ad89914be4e16ba68453d22bd6baf",
       "version_major": 2,
       "version_minor": 0
      },
      "text/plain": [
       "HBox(children=(IntProgress(value=0, description='316 epoch', max=500, style=ProgressStyle(description_width='i…"
      ]
     },
     "metadata": {},
     "output_type": "display_data"
    },
    {
     "data": {
      "application/vnd.jupyter.widget-view+json": {
       "model_id": "47c0597138c64f5dbe91aa53075427f1",
       "version_major": 2,
       "version_minor": 0
      },
      "text/plain": [
       "HBox(children=(IntProgress(value=0, description='317 epoch', max=500, style=ProgressStyle(description_width='i…"
      ]
     },
     "metadata": {},
     "output_type": "display_data"
    },
    {
     "data": {
      "application/vnd.jupyter.widget-view+json": {
       "model_id": "56919251c3bf403fa34d225e630769ce",
       "version_major": 2,
       "version_minor": 0
      },
      "text/plain": [
       "HBox(children=(IntProgress(value=0, description='318 epoch', max=500, style=ProgressStyle(description_width='i…"
      ]
     },
     "metadata": {},
     "output_type": "display_data"
    },
    {
     "data": {
      "application/vnd.jupyter.widget-view+json": {
       "model_id": "e2a80ae57111438ba383276926ddac23",
       "version_major": 2,
       "version_minor": 0
      },
      "text/plain": [
       "HBox(children=(IntProgress(value=0, description='319 epoch', max=500, style=ProgressStyle(description_width='i…"
      ]
     },
     "metadata": {},
     "output_type": "display_data"
    },
    {
     "data": {
      "application/vnd.jupyter.widget-view+json": {
       "model_id": "b50d0e751fba4c5bb3cbaec12f0c4a53",
       "version_major": 2,
       "version_minor": 0
      },
      "text/plain": [
       "HBox(children=(IntProgress(value=0, description='320 epoch', max=500, style=ProgressStyle(description_width='i…"
      ]
     },
     "metadata": {},
     "output_type": "display_data"
    },
    {
     "data": {
      "application/vnd.jupyter.widget-view+json": {
       "model_id": "9bb592f725084d508b54df7e0c158028",
       "version_major": 2,
       "version_minor": 0
      },
      "text/plain": [
       "HBox(children=(IntProgress(value=0, description='321 epoch', max=500, style=ProgressStyle(description_width='i…"
      ]
     },
     "metadata": {},
     "output_type": "display_data"
    },
    {
     "data": {
      "application/vnd.jupyter.widget-view+json": {
       "model_id": "ef33382badfb4d668b53e3e6fd652186",
       "version_major": 2,
       "version_minor": 0
      },
      "text/plain": [
       "HBox(children=(IntProgress(value=0, description='322 epoch', max=500, style=ProgressStyle(description_width='i…"
      ]
     },
     "metadata": {},
     "output_type": "display_data"
    },
    {
     "data": {
      "application/vnd.jupyter.widget-view+json": {
       "model_id": "a8b6364c816a4029abc7f6c16661f4b9",
       "version_major": 2,
       "version_minor": 0
      },
      "text/plain": [
       "HBox(children=(IntProgress(value=0, description='323 epoch', max=500, style=ProgressStyle(description_width='i…"
      ]
     },
     "metadata": {},
     "output_type": "display_data"
    },
    {
     "data": {
      "application/vnd.jupyter.widget-view+json": {
       "model_id": "1b87e439f15c46af8a7dbbc5eb48eaa9",
       "version_major": 2,
       "version_minor": 0
      },
      "text/plain": [
       "HBox(children=(IntProgress(value=0, description='324 epoch', max=500, style=ProgressStyle(description_width='i…"
      ]
     },
     "metadata": {},
     "output_type": "display_data"
    },
    {
     "data": {
      "application/vnd.jupyter.widget-view+json": {
       "model_id": "3ad4f8a95ec04b2381d81a2cbedb327c",
       "version_major": 2,
       "version_minor": 0
      },
      "text/plain": [
       "HBox(children=(IntProgress(value=0, description='325 epoch', max=500, style=ProgressStyle(description_width='i…"
      ]
     },
     "metadata": {},
     "output_type": "display_data"
    },
    {
     "data": {
      "application/vnd.jupyter.widget-view+json": {
       "model_id": "d654c7932f224ef1bcfbe056a0b0465a",
       "version_major": 2,
       "version_minor": 0
      },
      "text/plain": [
       "HBox(children=(IntProgress(value=0, description='326 epoch', max=500, style=ProgressStyle(description_width='i…"
      ]
     },
     "metadata": {},
     "output_type": "display_data"
    },
    {
     "data": {
      "application/vnd.jupyter.widget-view+json": {
       "model_id": "e28430b640144b008125baf08c5cbe08",
       "version_major": 2,
       "version_minor": 0
      },
      "text/plain": [
       "HBox(children=(IntProgress(value=0, description='327 epoch', max=500, style=ProgressStyle(description_width='i…"
      ]
     },
     "metadata": {},
     "output_type": "display_data"
    },
    {
     "data": {
      "application/vnd.jupyter.widget-view+json": {
       "model_id": "a90ff6e9cc764ca28ce5f159129856e1",
       "version_major": 2,
       "version_minor": 0
      },
      "text/plain": [
       "HBox(children=(IntProgress(value=0, description='328 epoch', max=500, style=ProgressStyle(description_width='i…"
      ]
     },
     "metadata": {},
     "output_type": "display_data"
    },
    {
     "data": {
      "application/vnd.jupyter.widget-view+json": {
       "model_id": "a98e685422bf4421b9cee94ec7a4df11",
       "version_major": 2,
       "version_minor": 0
      },
      "text/plain": [
       "HBox(children=(IntProgress(value=0, description='329 epoch', max=500, style=ProgressStyle(description_width='i…"
      ]
     },
     "metadata": {},
     "output_type": "display_data"
    },
    {
     "data": {
      "application/vnd.jupyter.widget-view+json": {
       "model_id": "0825a16bf9ba4608bb30aa3f6631b968",
       "version_major": 2,
       "version_minor": 0
      },
      "text/plain": [
       "HBox(children=(IntProgress(value=0, description='330 epoch', max=500, style=ProgressStyle(description_width='i…"
      ]
     },
     "metadata": {},
     "output_type": "display_data"
    },
    {
     "data": {
      "application/vnd.jupyter.widget-view+json": {
       "model_id": "6f0c8461ea0b4d759ff6f1a871c2566e",
       "version_major": 2,
       "version_minor": 0
      },
      "text/plain": [
       "HBox(children=(IntProgress(value=0, description='331 epoch', max=500, style=ProgressStyle(description_width='i…"
      ]
     },
     "metadata": {},
     "output_type": "display_data"
    },
    {
     "data": {
      "application/vnd.jupyter.widget-view+json": {
       "model_id": "5bb81921f3ca46d3a29ebc03371cb397",
       "version_major": 2,
       "version_minor": 0
      },
      "text/plain": [
       "HBox(children=(IntProgress(value=0, description='332 epoch', max=500, style=ProgressStyle(description_width='i…"
      ]
     },
     "metadata": {},
     "output_type": "display_data"
    },
    {
     "data": {
      "application/vnd.jupyter.widget-view+json": {
       "model_id": "38b342fc850e4040aeef231cc84bc73b",
       "version_major": 2,
       "version_minor": 0
      },
      "text/plain": [
       "HBox(children=(IntProgress(value=0, description='333 epoch', max=500, style=ProgressStyle(description_width='i…"
      ]
     },
     "metadata": {},
     "output_type": "display_data"
    },
    {
     "data": {
      "application/vnd.jupyter.widget-view+json": {
       "model_id": "7c099a1c8a5348509c9acf2ca928042b",
       "version_major": 2,
       "version_minor": 0
      },
      "text/plain": [
       "HBox(children=(IntProgress(value=0, description='334 epoch', max=500, style=ProgressStyle(description_width='i…"
      ]
     },
     "metadata": {},
     "output_type": "display_data"
    },
    {
     "data": {
      "application/vnd.jupyter.widget-view+json": {
       "model_id": "f303f2ed82904a5fa565746e156ef649",
       "version_major": 2,
       "version_minor": 0
      },
      "text/plain": [
       "HBox(children=(IntProgress(value=0, description='335 epoch', max=500, style=ProgressStyle(description_width='i…"
      ]
     },
     "metadata": {},
     "output_type": "display_data"
    },
    {
     "data": {
      "application/vnd.jupyter.widget-view+json": {
       "model_id": "18cd684d0972440f8e13d2839aea54b1",
       "version_major": 2,
       "version_minor": 0
      },
      "text/plain": [
       "HBox(children=(IntProgress(value=0, description='336 epoch', max=500, style=ProgressStyle(description_width='i…"
      ]
     },
     "metadata": {},
     "output_type": "display_data"
    },
    {
     "data": {
      "application/vnd.jupyter.widget-view+json": {
       "model_id": "fa9603f888cb495cbc2f8c2e9815bcaf",
       "version_major": 2,
       "version_minor": 0
      },
      "text/plain": [
       "HBox(children=(IntProgress(value=0, description='337 epoch', max=500, style=ProgressStyle(description_width='i…"
      ]
     },
     "metadata": {},
     "output_type": "display_data"
    },
    {
     "data": {
      "application/vnd.jupyter.widget-view+json": {
       "model_id": "509d7d8da4de44928c6c1ce02fe4ca76",
       "version_major": 2,
       "version_minor": 0
      },
      "text/plain": [
       "HBox(children=(IntProgress(value=0, description='338 epoch', max=500, style=ProgressStyle(description_width='i…"
      ]
     },
     "metadata": {},
     "output_type": "display_data"
    },
    {
     "data": {
      "application/vnd.jupyter.widget-view+json": {
       "model_id": "fda3158ce73d48efba59a51625ba647b",
       "version_major": 2,
       "version_minor": 0
      },
      "text/plain": [
       "HBox(children=(IntProgress(value=0, description='339 epoch', max=500, style=ProgressStyle(description_width='i…"
      ]
     },
     "metadata": {},
     "output_type": "display_data"
    },
    {
     "data": {
      "application/vnd.jupyter.widget-view+json": {
       "model_id": "176f5def10fc427693bfdad9a34309fc",
       "version_major": 2,
       "version_minor": 0
      },
      "text/plain": [
       "HBox(children=(IntProgress(value=0, description='340 epoch', max=500, style=ProgressStyle(description_width='i…"
      ]
     },
     "metadata": {},
     "output_type": "display_data"
    },
    {
     "data": {
      "application/vnd.jupyter.widget-view+json": {
       "model_id": "74ff9f78f7a348a5a6f58a2f90f0894f",
       "version_major": 2,
       "version_minor": 0
      },
      "text/plain": [
       "HBox(children=(IntProgress(value=0, description='341 epoch', max=500, style=ProgressStyle(description_width='i…"
      ]
     },
     "metadata": {},
     "output_type": "display_data"
    },
    {
     "data": {
      "application/vnd.jupyter.widget-view+json": {
       "model_id": "7a18ad6c9c0242c2a2fac67cdd42f4f2",
       "version_major": 2,
       "version_minor": 0
      },
      "text/plain": [
       "HBox(children=(IntProgress(value=0, description='342 epoch', max=500, style=ProgressStyle(description_width='i…"
      ]
     },
     "metadata": {},
     "output_type": "display_data"
    },
    {
     "data": {
      "application/vnd.jupyter.widget-view+json": {
       "model_id": "89a3651b44e64a7cb157df2c4efc03ae",
       "version_major": 2,
       "version_minor": 0
      },
      "text/plain": [
       "HBox(children=(IntProgress(value=0, description='343 epoch', max=500, style=ProgressStyle(description_width='i…"
      ]
     },
     "metadata": {},
     "output_type": "display_data"
    },
    {
     "data": {
      "application/vnd.jupyter.widget-view+json": {
       "model_id": "e684501f27bd49379aa2138b5c3985d8",
       "version_major": 2,
       "version_minor": 0
      },
      "text/plain": [
       "HBox(children=(IntProgress(value=0, description='344 epoch', max=500, style=ProgressStyle(description_width='i…"
      ]
     },
     "metadata": {},
     "output_type": "display_data"
    },
    {
     "data": {
      "application/vnd.jupyter.widget-view+json": {
       "model_id": "54f0ada530874607808df5f503f4af53",
       "version_major": 2,
       "version_minor": 0
      },
      "text/plain": [
       "HBox(children=(IntProgress(value=0, description='345 epoch', max=500, style=ProgressStyle(description_width='i…"
      ]
     },
     "metadata": {},
     "output_type": "display_data"
    },
    {
     "data": {
      "application/vnd.jupyter.widget-view+json": {
       "model_id": "c597b72b14bb4cc7bfcee2c7449c89a2",
       "version_major": 2,
       "version_minor": 0
      },
      "text/plain": [
       "HBox(children=(IntProgress(value=0, description='346 epoch', max=500, style=ProgressStyle(description_width='i…"
      ]
     },
     "metadata": {},
     "output_type": "display_data"
    },
    {
     "data": {
      "application/vnd.jupyter.widget-view+json": {
       "model_id": "318ee6c82d574371a5ab535bddef1f01",
       "version_major": 2,
       "version_minor": 0
      },
      "text/plain": [
       "HBox(children=(IntProgress(value=0, description='347 epoch', max=500, style=ProgressStyle(description_width='i…"
      ]
     },
     "metadata": {},
     "output_type": "display_data"
    },
    {
     "data": {
      "application/vnd.jupyter.widget-view+json": {
       "model_id": "b7467840c4454b52a7a1d941e70506bd",
       "version_major": 2,
       "version_minor": 0
      },
      "text/plain": [
       "HBox(children=(IntProgress(value=0, description='348 epoch', max=500, style=ProgressStyle(description_width='i…"
      ]
     },
     "metadata": {},
     "output_type": "display_data"
    },
    {
     "data": {
      "application/vnd.jupyter.widget-view+json": {
       "model_id": "072d61b43f0046e19bd646438e7fdc65",
       "version_major": 2,
       "version_minor": 0
      },
      "text/plain": [
       "HBox(children=(IntProgress(value=0, description='349 epoch', max=500, style=ProgressStyle(description_width='i…"
      ]
     },
     "metadata": {},
     "output_type": "display_data"
    },
    {
     "data": {
      "application/vnd.jupyter.widget-view+json": {
       "model_id": "1b1d4f45796f435fa031be3d439a4e40",
       "version_major": 2,
       "version_minor": 0
      },
      "text/plain": [
       "HBox(children=(IntProgress(value=0, description='350 epoch', max=500, style=ProgressStyle(description_width='i…"
      ]
     },
     "metadata": {},
     "output_type": "display_data"
    },
    {
     "data": {
      "application/vnd.jupyter.widget-view+json": {
       "model_id": "0caf4a306bb240e1a41801b1cba749a6",
       "version_major": 2,
       "version_minor": 0
      },
      "text/plain": [
       "HBox(children=(IntProgress(value=0, description='351 epoch', max=500, style=ProgressStyle(description_width='i…"
      ]
     },
     "metadata": {},
     "output_type": "display_data"
    },
    {
     "data": {
      "application/vnd.jupyter.widget-view+json": {
       "model_id": "9d3c4c1bf2cf4c84872c27831a5c78c9",
       "version_major": 2,
       "version_minor": 0
      },
      "text/plain": [
       "HBox(children=(IntProgress(value=0, description='352 epoch', max=500, style=ProgressStyle(description_width='i…"
      ]
     },
     "metadata": {},
     "output_type": "display_data"
    },
    {
     "data": {
      "application/vnd.jupyter.widget-view+json": {
       "model_id": "7ed4a5e855664858912f6d5041dce4bb",
       "version_major": 2,
       "version_minor": 0
      },
      "text/plain": [
       "HBox(children=(IntProgress(value=0, description='353 epoch', max=500, style=ProgressStyle(description_width='i…"
      ]
     },
     "metadata": {},
     "output_type": "display_data"
    },
    {
     "data": {
      "application/vnd.jupyter.widget-view+json": {
       "model_id": "42f013ec08544e38b1fbdf4600f528cd",
       "version_major": 2,
       "version_minor": 0
      },
      "text/plain": [
       "HBox(children=(IntProgress(value=0, description='354 epoch', max=500, style=ProgressStyle(description_width='i…"
      ]
     },
     "metadata": {},
     "output_type": "display_data"
    },
    {
     "data": {
      "application/vnd.jupyter.widget-view+json": {
       "model_id": "2ee8c2f5e50c48689c89c76f15074ba1",
       "version_major": 2,
       "version_minor": 0
      },
      "text/plain": [
       "HBox(children=(IntProgress(value=0, description='355 epoch', max=500, style=ProgressStyle(description_width='i…"
      ]
     },
     "metadata": {},
     "output_type": "display_data"
    },
    {
     "data": {
      "application/vnd.jupyter.widget-view+json": {
       "model_id": "265a9d8cbfad497bb7d6230127a5dba0",
       "version_major": 2,
       "version_minor": 0
      },
      "text/plain": [
       "HBox(children=(IntProgress(value=0, description='356 epoch', max=500, style=ProgressStyle(description_width='i…"
      ]
     },
     "metadata": {},
     "output_type": "display_data"
    },
    {
     "data": {
      "application/vnd.jupyter.widget-view+json": {
       "model_id": "ef15d0540cdb4fc5ab846a48e6bc0f44",
       "version_major": 2,
       "version_minor": 0
      },
      "text/plain": [
       "HBox(children=(IntProgress(value=0, description='357 epoch', max=500, style=ProgressStyle(description_width='i…"
      ]
     },
     "metadata": {},
     "output_type": "display_data"
    },
    {
     "data": {
      "application/vnd.jupyter.widget-view+json": {
       "model_id": "6782f4a153894e7bbf81d1b335f3b9d4",
       "version_major": 2,
       "version_minor": 0
      },
      "text/plain": [
       "HBox(children=(IntProgress(value=0, description='358 epoch', max=500, style=ProgressStyle(description_width='i…"
      ]
     },
     "metadata": {},
     "output_type": "display_data"
    },
    {
     "data": {
      "application/vnd.jupyter.widget-view+json": {
       "model_id": "124c7e49b5264c79b6a5dcc8425a3253",
       "version_major": 2,
       "version_minor": 0
      },
      "text/plain": [
       "HBox(children=(IntProgress(value=0, description='359 epoch', max=500, style=ProgressStyle(description_width='i…"
      ]
     },
     "metadata": {},
     "output_type": "display_data"
    },
    {
     "data": {
      "application/vnd.jupyter.widget-view+json": {
       "model_id": "e0061beb369b487db1eb1ee4659adfca",
       "version_major": 2,
       "version_minor": 0
      },
      "text/plain": [
       "HBox(children=(IntProgress(value=0, description='360 epoch', max=500, style=ProgressStyle(description_width='i…"
      ]
     },
     "metadata": {},
     "output_type": "display_data"
    },
    {
     "data": {
      "application/vnd.jupyter.widget-view+json": {
       "model_id": "ce3fe8da88e04de1a7602ed63d578ca0",
       "version_major": 2,
       "version_minor": 0
      },
      "text/plain": [
       "HBox(children=(IntProgress(value=0, description='361 epoch', max=500, style=ProgressStyle(description_width='i…"
      ]
     },
     "metadata": {},
     "output_type": "display_data"
    },
    {
     "data": {
      "application/vnd.jupyter.widget-view+json": {
       "model_id": "12e36084af794d59a5fd61f24914b5f8",
       "version_major": 2,
       "version_minor": 0
      },
      "text/plain": [
       "HBox(children=(IntProgress(value=0, description='362 epoch', max=500, style=ProgressStyle(description_width='i…"
      ]
     },
     "metadata": {},
     "output_type": "display_data"
    },
    {
     "data": {
      "application/vnd.jupyter.widget-view+json": {
       "model_id": "5c2d94b4202b4c13a60f1e4b579f5f8c",
       "version_major": 2,
       "version_minor": 0
      },
      "text/plain": [
       "HBox(children=(IntProgress(value=0, description='363 epoch', max=500, style=ProgressStyle(description_width='i…"
      ]
     },
     "metadata": {},
     "output_type": "display_data"
    },
    {
     "data": {
      "application/vnd.jupyter.widget-view+json": {
       "model_id": "5d74bfcf89d34127ba75fd75666fb342",
       "version_major": 2,
       "version_minor": 0
      },
      "text/plain": [
       "HBox(children=(IntProgress(value=0, description='364 epoch', max=500, style=ProgressStyle(description_width='i…"
      ]
     },
     "metadata": {},
     "output_type": "display_data"
    },
    {
     "data": {
      "application/vnd.jupyter.widget-view+json": {
       "model_id": "e977badc26e346cfa1dcc0806606b4d9",
       "version_major": 2,
       "version_minor": 0
      },
      "text/plain": [
       "HBox(children=(IntProgress(value=0, description='365 epoch', max=500, style=ProgressStyle(description_width='i…"
      ]
     },
     "metadata": {},
     "output_type": "display_data"
    },
    {
     "data": {
      "application/vnd.jupyter.widget-view+json": {
       "model_id": "54775d1f255246c2b70414c6353c0fd3",
       "version_major": 2,
       "version_minor": 0
      },
      "text/plain": [
       "HBox(children=(IntProgress(value=0, description='366 epoch', max=500, style=ProgressStyle(description_width='i…"
      ]
     },
     "metadata": {},
     "output_type": "display_data"
    },
    {
     "data": {
      "application/vnd.jupyter.widget-view+json": {
       "model_id": "45184b8eceb94b709302daa280927b97",
       "version_major": 2,
       "version_minor": 0
      },
      "text/plain": [
       "HBox(children=(IntProgress(value=0, description='367 epoch', max=500, style=ProgressStyle(description_width='i…"
      ]
     },
     "metadata": {},
     "output_type": "display_data"
    },
    {
     "data": {
      "application/vnd.jupyter.widget-view+json": {
       "model_id": "c7bea811bea04edea2a12af7b63c22cd",
       "version_major": 2,
       "version_minor": 0
      },
      "text/plain": [
       "HBox(children=(IntProgress(value=0, description='368 epoch', max=500, style=ProgressStyle(description_width='i…"
      ]
     },
     "metadata": {},
     "output_type": "display_data"
    },
    {
     "data": {
      "application/vnd.jupyter.widget-view+json": {
       "model_id": "7f736d1536794b59b4bd3004d967f209",
       "version_major": 2,
       "version_minor": 0
      },
      "text/plain": [
       "HBox(children=(IntProgress(value=0, description='369 epoch', max=500, style=ProgressStyle(description_width='i…"
      ]
     },
     "metadata": {},
     "output_type": "display_data"
    },
    {
     "data": {
      "application/vnd.jupyter.widget-view+json": {
       "model_id": "7492776430d5464daad8e5200d98b3ee",
       "version_major": 2,
       "version_minor": 0
      },
      "text/plain": [
       "HBox(children=(IntProgress(value=0, description='370 epoch', max=500, style=ProgressStyle(description_width='i…"
      ]
     },
     "metadata": {},
     "output_type": "display_data"
    },
    {
     "data": {
      "application/vnd.jupyter.widget-view+json": {
       "model_id": "cb050f007469455b9d691aae04cf662c",
       "version_major": 2,
       "version_minor": 0
      },
      "text/plain": [
       "HBox(children=(IntProgress(value=0, description='371 epoch', max=500, style=ProgressStyle(description_width='i…"
      ]
     },
     "metadata": {},
     "output_type": "display_data"
    },
    {
     "data": {
      "application/vnd.jupyter.widget-view+json": {
       "model_id": "a685367bdb724a6f9f5b7733d7a3d1cf",
       "version_major": 2,
       "version_minor": 0
      },
      "text/plain": [
       "HBox(children=(IntProgress(value=0, description='372 epoch', max=500, style=ProgressStyle(description_width='i…"
      ]
     },
     "metadata": {},
     "output_type": "display_data"
    },
    {
     "data": {
      "application/vnd.jupyter.widget-view+json": {
       "model_id": "438d2fcef5f14f1da382c5be5e6dbaab",
       "version_major": 2,
       "version_minor": 0
      },
      "text/plain": [
       "HBox(children=(IntProgress(value=0, description='373 epoch', max=500, style=ProgressStyle(description_width='i…"
      ]
     },
     "metadata": {},
     "output_type": "display_data"
    },
    {
     "data": {
      "application/vnd.jupyter.widget-view+json": {
       "model_id": "f3467af059c9421a891124dd692d91ba",
       "version_major": 2,
       "version_minor": 0
      },
      "text/plain": [
       "HBox(children=(IntProgress(value=0, description='374 epoch', max=500, style=ProgressStyle(description_width='i…"
      ]
     },
     "metadata": {},
     "output_type": "display_data"
    },
    {
     "data": {
      "application/vnd.jupyter.widget-view+json": {
       "model_id": "ea5d6077fb5a4646930183d5a61832ce",
       "version_major": 2,
       "version_minor": 0
      },
      "text/plain": [
       "HBox(children=(IntProgress(value=0, description='375 epoch', max=500, style=ProgressStyle(description_width='i…"
      ]
     },
     "metadata": {},
     "output_type": "display_data"
    },
    {
     "data": {
      "application/vnd.jupyter.widget-view+json": {
       "model_id": "b6b603fe78bd417c97900a941f8fc30d",
       "version_major": 2,
       "version_minor": 0
      },
      "text/plain": [
       "HBox(children=(IntProgress(value=0, description='376 epoch', max=500, style=ProgressStyle(description_width='i…"
      ]
     },
     "metadata": {},
     "output_type": "display_data"
    },
    {
     "data": {
      "application/vnd.jupyter.widget-view+json": {
       "model_id": "ee2095f1f1084c96b857b0088e4b47e2",
       "version_major": 2,
       "version_minor": 0
      },
      "text/plain": [
       "HBox(children=(IntProgress(value=0, description='377 epoch', max=500, style=ProgressStyle(description_width='i…"
      ]
     },
     "metadata": {},
     "output_type": "display_data"
    },
    {
     "data": {
      "application/vnd.jupyter.widget-view+json": {
       "model_id": "fe1079d29fc74ddf8c5ec385e455f338",
       "version_major": 2,
       "version_minor": 0
      },
      "text/plain": [
       "HBox(children=(IntProgress(value=0, description='378 epoch', max=500, style=ProgressStyle(description_width='i…"
      ]
     },
     "metadata": {},
     "output_type": "display_data"
    },
    {
     "data": {
      "application/vnd.jupyter.widget-view+json": {
       "model_id": "55338a36c3234b5fad972100596ba52d",
       "version_major": 2,
       "version_minor": 0
      },
      "text/plain": [
       "HBox(children=(IntProgress(value=0, description='379 epoch', max=500, style=ProgressStyle(description_width='i…"
      ]
     },
     "metadata": {},
     "output_type": "display_data"
    },
    {
     "data": {
      "application/vnd.jupyter.widget-view+json": {
       "model_id": "0e5d1444d0e94c208542d2510f2aee39",
       "version_major": 2,
       "version_minor": 0
      },
      "text/plain": [
       "HBox(children=(IntProgress(value=0, description='380 epoch', max=500, style=ProgressStyle(description_width='i…"
      ]
     },
     "metadata": {},
     "output_type": "display_data"
    },
    {
     "data": {
      "application/vnd.jupyter.widget-view+json": {
       "model_id": "62f049c782604d558952f0ac35369569",
       "version_major": 2,
       "version_minor": 0
      },
      "text/plain": [
       "HBox(children=(IntProgress(value=0, description='381 epoch', max=500, style=ProgressStyle(description_width='i…"
      ]
     },
     "metadata": {},
     "output_type": "display_data"
    },
    {
     "data": {
      "application/vnd.jupyter.widget-view+json": {
       "model_id": "094da726713f43ccbe64221bfbab2fa4",
       "version_major": 2,
       "version_minor": 0
      },
      "text/plain": [
       "HBox(children=(IntProgress(value=0, description='382 epoch', max=500, style=ProgressStyle(description_width='i…"
      ]
     },
     "metadata": {},
     "output_type": "display_data"
    },
    {
     "data": {
      "application/vnd.jupyter.widget-view+json": {
       "model_id": "55f08d50e9a648359d2d42ed03e01554",
       "version_major": 2,
       "version_minor": 0
      },
      "text/plain": [
       "HBox(children=(IntProgress(value=0, description='383 epoch', max=500, style=ProgressStyle(description_width='i…"
      ]
     },
     "metadata": {},
     "output_type": "display_data"
    },
    {
     "data": {
      "application/vnd.jupyter.widget-view+json": {
       "model_id": "bb46b8bac1b5412e953513c7d1828f08",
       "version_major": 2,
       "version_minor": 0
      },
      "text/plain": [
       "HBox(children=(IntProgress(value=0, description='384 epoch', max=500, style=ProgressStyle(description_width='i…"
      ]
     },
     "metadata": {},
     "output_type": "display_data"
    },
    {
     "data": {
      "application/vnd.jupyter.widget-view+json": {
       "model_id": "0d94c9a1fa1e483bbbd2daf0360b288b",
       "version_major": 2,
       "version_minor": 0
      },
      "text/plain": [
       "HBox(children=(IntProgress(value=0, description='385 epoch', max=500, style=ProgressStyle(description_width='i…"
      ]
     },
     "metadata": {},
     "output_type": "display_data"
    },
    {
     "data": {
      "application/vnd.jupyter.widget-view+json": {
       "model_id": "e624e97fe3744c1eb9085583b61b35fd",
       "version_major": 2,
       "version_minor": 0
      },
      "text/plain": [
       "HBox(children=(IntProgress(value=0, description='386 epoch', max=500, style=ProgressStyle(description_width='i…"
      ]
     },
     "metadata": {},
     "output_type": "display_data"
    },
    {
     "data": {
      "application/vnd.jupyter.widget-view+json": {
       "model_id": "cdc32f5782a24f0d8db1f923d5846af0",
       "version_major": 2,
       "version_minor": 0
      },
      "text/plain": [
       "HBox(children=(IntProgress(value=0, description='387 epoch', max=500, style=ProgressStyle(description_width='i…"
      ]
     },
     "metadata": {},
     "output_type": "display_data"
    },
    {
     "data": {
      "application/vnd.jupyter.widget-view+json": {
       "model_id": "ab01ed10fe6f4d83b3cbebb3ac11890b",
       "version_major": 2,
       "version_minor": 0
      },
      "text/plain": [
       "HBox(children=(IntProgress(value=0, description='388 epoch', max=500, style=ProgressStyle(description_width='i…"
      ]
     },
     "metadata": {},
     "output_type": "display_data"
    },
    {
     "data": {
      "application/vnd.jupyter.widget-view+json": {
       "model_id": "30f39f726a184e0e94fb84421b490262",
       "version_major": 2,
       "version_minor": 0
      },
      "text/plain": [
       "HBox(children=(IntProgress(value=0, description='389 epoch', max=500, style=ProgressStyle(description_width='i…"
      ]
     },
     "metadata": {},
     "output_type": "display_data"
    },
    {
     "data": {
      "application/vnd.jupyter.widget-view+json": {
       "model_id": "8bf674a2f07b47d1af7e146146d83c7a",
       "version_major": 2,
       "version_minor": 0
      },
      "text/plain": [
       "HBox(children=(IntProgress(value=0, description='390 epoch', max=500, style=ProgressStyle(description_width='i…"
      ]
     },
     "metadata": {},
     "output_type": "display_data"
    },
    {
     "data": {
      "application/vnd.jupyter.widget-view+json": {
       "model_id": "fe60b1d1b41446adb7c69f39c33a318f",
       "version_major": 2,
       "version_minor": 0
      },
      "text/plain": [
       "HBox(children=(IntProgress(value=0, description='391 epoch', max=500, style=ProgressStyle(description_width='i…"
      ]
     },
     "metadata": {},
     "output_type": "display_data"
    },
    {
     "data": {
      "application/vnd.jupyter.widget-view+json": {
       "model_id": "11cb32d82fa64bdaa0a8ac5e33fce14c",
       "version_major": 2,
       "version_minor": 0
      },
      "text/plain": [
       "HBox(children=(IntProgress(value=0, description='392 epoch', max=500, style=ProgressStyle(description_width='i…"
      ]
     },
     "metadata": {},
     "output_type": "display_data"
    },
    {
     "data": {
      "application/vnd.jupyter.widget-view+json": {
       "model_id": "fcf0b837a3f844daaf2f65897b2e5b92",
       "version_major": 2,
       "version_minor": 0
      },
      "text/plain": [
       "HBox(children=(IntProgress(value=0, description='393 epoch', max=500, style=ProgressStyle(description_width='i…"
      ]
     },
     "metadata": {},
     "output_type": "display_data"
    },
    {
     "data": {
      "application/vnd.jupyter.widget-view+json": {
       "model_id": "e6001d9097034eda8ac03437a065ee82",
       "version_major": 2,
       "version_minor": 0
      },
      "text/plain": [
       "HBox(children=(IntProgress(value=0, description='394 epoch', max=500, style=ProgressStyle(description_width='i…"
      ]
     },
     "metadata": {},
     "output_type": "display_data"
    },
    {
     "data": {
      "application/vnd.jupyter.widget-view+json": {
       "model_id": "bc2461f30748456ba6a0a1454f150e03",
       "version_major": 2,
       "version_minor": 0
      },
      "text/plain": [
       "HBox(children=(IntProgress(value=0, description='395 epoch', max=500, style=ProgressStyle(description_width='i…"
      ]
     },
     "metadata": {},
     "output_type": "display_data"
    },
    {
     "data": {
      "application/vnd.jupyter.widget-view+json": {
       "model_id": "12f365e0966a41b583dfbe46edb30b7f",
       "version_major": 2,
       "version_minor": 0
      },
      "text/plain": [
       "HBox(children=(IntProgress(value=0, description='396 epoch', max=500, style=ProgressStyle(description_width='i…"
      ]
     },
     "metadata": {},
     "output_type": "display_data"
    },
    {
     "data": {
      "application/vnd.jupyter.widget-view+json": {
       "model_id": "578f5bdaaa804b938d3934d2956c394e",
       "version_major": 2,
       "version_minor": 0
      },
      "text/plain": [
       "HBox(children=(IntProgress(value=0, description='397 epoch', max=500, style=ProgressStyle(description_width='i…"
      ]
     },
     "metadata": {},
     "output_type": "display_data"
    },
    {
     "data": {
      "application/vnd.jupyter.widget-view+json": {
       "model_id": "ed034076fada4d9c853e2166d27e2b9c",
       "version_major": 2,
       "version_minor": 0
      },
      "text/plain": [
       "HBox(children=(IntProgress(value=0, description='398 epoch', max=500, style=ProgressStyle(description_width='i…"
      ]
     },
     "metadata": {},
     "output_type": "display_data"
    },
    {
     "data": {
      "application/vnd.jupyter.widget-view+json": {
       "model_id": "4820779ef9704e478420a950933267f2",
       "version_major": 2,
       "version_minor": 0
      },
      "text/plain": [
       "HBox(children=(IntProgress(value=0, description='399 epoch', max=500, style=ProgressStyle(description_width='i…"
      ]
     },
     "metadata": {},
     "output_type": "display_data"
    },
    {
     "data": {
      "application/vnd.jupyter.widget-view+json": {
       "model_id": "e531c82ea2f846ad806aa0d3737a3f0c",
       "version_major": 2,
       "version_minor": 0
      },
      "text/plain": [
       "HBox(children=(IntProgress(value=0, description='400 epoch', max=500, style=ProgressStyle(description_width='i…"
      ]
     },
     "metadata": {},
     "output_type": "display_data"
    },
    {
     "data": {
      "application/vnd.jupyter.widget-view+json": {
       "model_id": "3cf3c5e750eb40d297dffe8ce7f01902",
       "version_major": 2,
       "version_minor": 0
      },
      "text/plain": [
       "HBox(children=(IntProgress(value=0, description='401 epoch', max=500, style=ProgressStyle(description_width='i…"
      ]
     },
     "metadata": {},
     "output_type": "display_data"
    },
    {
     "data": {
      "application/vnd.jupyter.widget-view+json": {
       "model_id": "d4dbec8995c845129610eac029ee4c0a",
       "version_major": 2,
       "version_minor": 0
      },
      "text/plain": [
       "HBox(children=(IntProgress(value=0, description='402 epoch', max=500, style=ProgressStyle(description_width='i…"
      ]
     },
     "metadata": {},
     "output_type": "display_data"
    },
    {
     "data": {
      "application/vnd.jupyter.widget-view+json": {
       "model_id": "9a5d209471664700a652d9a8894c87a4",
       "version_major": 2,
       "version_minor": 0
      },
      "text/plain": [
       "HBox(children=(IntProgress(value=0, description='403 epoch', max=500, style=ProgressStyle(description_width='i…"
      ]
     },
     "metadata": {},
     "output_type": "display_data"
    },
    {
     "data": {
      "application/vnd.jupyter.widget-view+json": {
       "model_id": "8f26671a017c43e2bcf96b4e09c6110d",
       "version_major": 2,
       "version_minor": 0
      },
      "text/plain": [
       "HBox(children=(IntProgress(value=0, description='404 epoch', max=500, style=ProgressStyle(description_width='i…"
      ]
     },
     "metadata": {},
     "output_type": "display_data"
    },
    {
     "data": {
      "application/vnd.jupyter.widget-view+json": {
       "model_id": "515659db6959412bb161fa969d66f29e",
       "version_major": 2,
       "version_minor": 0
      },
      "text/plain": [
       "HBox(children=(IntProgress(value=0, description='405 epoch', max=500, style=ProgressStyle(description_width='i…"
      ]
     },
     "metadata": {},
     "output_type": "display_data"
    },
    {
     "data": {
      "application/vnd.jupyter.widget-view+json": {
       "model_id": "d2187cfcebcd4aff8abf7e3cea6d37bf",
       "version_major": 2,
       "version_minor": 0
      },
      "text/plain": [
       "HBox(children=(IntProgress(value=0, description='406 epoch', max=500, style=ProgressStyle(description_width='i…"
      ]
     },
     "metadata": {},
     "output_type": "display_data"
    },
    {
     "data": {
      "application/vnd.jupyter.widget-view+json": {
       "model_id": "2da0c76cf96f4e71b85323fc3c58e05b",
       "version_major": 2,
       "version_minor": 0
      },
      "text/plain": [
       "HBox(children=(IntProgress(value=0, description='407 epoch', max=500, style=ProgressStyle(description_width='i…"
      ]
     },
     "metadata": {},
     "output_type": "display_data"
    },
    {
     "data": {
      "application/vnd.jupyter.widget-view+json": {
       "model_id": "40cd255b40b94122b08f7e5794193cf0",
       "version_major": 2,
       "version_minor": 0
      },
      "text/plain": [
       "HBox(children=(IntProgress(value=0, description='408 epoch', max=500, style=ProgressStyle(description_width='i…"
      ]
     },
     "metadata": {},
     "output_type": "display_data"
    },
    {
     "data": {
      "application/vnd.jupyter.widget-view+json": {
       "model_id": "7c8a579cf475488d974a4483e9955c53",
       "version_major": 2,
       "version_minor": 0
      },
      "text/plain": [
       "HBox(children=(IntProgress(value=0, description='409 epoch', max=500, style=ProgressStyle(description_width='i…"
      ]
     },
     "metadata": {},
     "output_type": "display_data"
    },
    {
     "data": {
      "application/vnd.jupyter.widget-view+json": {
       "model_id": "4d74c0ebc35f4d32a5532b9f89c7397f",
       "version_major": 2,
       "version_minor": 0
      },
      "text/plain": [
       "HBox(children=(IntProgress(value=0, description='410 epoch', max=500, style=ProgressStyle(description_width='i…"
      ]
     },
     "metadata": {},
     "output_type": "display_data"
    },
    {
     "data": {
      "application/vnd.jupyter.widget-view+json": {
       "model_id": "b624ce97903c409aa23063d86ccba97a",
       "version_major": 2,
       "version_minor": 0
      },
      "text/plain": [
       "HBox(children=(IntProgress(value=0, description='411 epoch', max=500, style=ProgressStyle(description_width='i…"
      ]
     },
     "metadata": {},
     "output_type": "display_data"
    },
    {
     "data": {
      "application/vnd.jupyter.widget-view+json": {
       "model_id": "cf404942697c4d09b7a6c1cb4afa882d",
       "version_major": 2,
       "version_minor": 0
      },
      "text/plain": [
       "HBox(children=(IntProgress(value=0, description='412 epoch', max=500, style=ProgressStyle(description_width='i…"
      ]
     },
     "metadata": {},
     "output_type": "display_data"
    },
    {
     "data": {
      "application/vnd.jupyter.widget-view+json": {
       "model_id": "03b7cdc11d7b4e39b5f22c66ca2c3477",
       "version_major": 2,
       "version_minor": 0
      },
      "text/plain": [
       "HBox(children=(IntProgress(value=0, description='413 epoch', max=500, style=ProgressStyle(description_width='i…"
      ]
     },
     "metadata": {},
     "output_type": "display_data"
    },
    {
     "data": {
      "application/vnd.jupyter.widget-view+json": {
       "model_id": "7e659c1de8a24cd79d570fa28d73ff15",
       "version_major": 2,
       "version_minor": 0
      },
      "text/plain": [
       "HBox(children=(IntProgress(value=0, description='414 epoch', max=500, style=ProgressStyle(description_width='i…"
      ]
     },
     "metadata": {},
     "output_type": "display_data"
    },
    {
     "data": {
      "application/vnd.jupyter.widget-view+json": {
       "model_id": "ddf1cd01a86b4518b3f60e214bb80cc3",
       "version_major": 2,
       "version_minor": 0
      },
      "text/plain": [
       "HBox(children=(IntProgress(value=0, description='415 epoch', max=500, style=ProgressStyle(description_width='i…"
      ]
     },
     "metadata": {},
     "output_type": "display_data"
    },
    {
     "data": {
      "application/vnd.jupyter.widget-view+json": {
       "model_id": "63c73a6ea0a845b985726d0f8e16dd25",
       "version_major": 2,
       "version_minor": 0
      },
      "text/plain": [
       "HBox(children=(IntProgress(value=0, description='416 epoch', max=500, style=ProgressStyle(description_width='i…"
      ]
     },
     "metadata": {},
     "output_type": "display_data"
    },
    {
     "data": {
      "application/vnd.jupyter.widget-view+json": {
       "model_id": "d80ca114f6174d439f7b51742168b5a0",
       "version_major": 2,
       "version_minor": 0
      },
      "text/plain": [
       "HBox(children=(IntProgress(value=0, description='417 epoch', max=500, style=ProgressStyle(description_width='i…"
      ]
     },
     "metadata": {},
     "output_type": "display_data"
    },
    {
     "data": {
      "application/vnd.jupyter.widget-view+json": {
       "model_id": "0eeaaa99b7c74ae29ac7a63bbd3fcd61",
       "version_major": 2,
       "version_minor": 0
      },
      "text/plain": [
       "HBox(children=(IntProgress(value=0, description='418 epoch', max=500, style=ProgressStyle(description_width='i…"
      ]
     },
     "metadata": {},
     "output_type": "display_data"
    },
    {
     "data": {
      "application/vnd.jupyter.widget-view+json": {
       "model_id": "2fdb29147b9549c69eddeb030d88ffcc",
       "version_major": 2,
       "version_minor": 0
      },
      "text/plain": [
       "HBox(children=(IntProgress(value=0, description='419 epoch', max=500, style=ProgressStyle(description_width='i…"
      ]
     },
     "metadata": {},
     "output_type": "display_data"
    },
    {
     "data": {
      "application/vnd.jupyter.widget-view+json": {
       "model_id": "7b0bbe81b25e4b7eb9e43af0aea76a4c",
       "version_major": 2,
       "version_minor": 0
      },
      "text/plain": [
       "HBox(children=(IntProgress(value=0, description='420 epoch', max=500, style=ProgressStyle(description_width='i…"
      ]
     },
     "metadata": {},
     "output_type": "display_data"
    },
    {
     "data": {
      "application/vnd.jupyter.widget-view+json": {
       "model_id": "abc1e93587174e92b966e4cd97d74a46",
       "version_major": 2,
       "version_minor": 0
      },
      "text/plain": [
       "HBox(children=(IntProgress(value=0, description='421 epoch', max=500, style=ProgressStyle(description_width='i…"
      ]
     },
     "metadata": {},
     "output_type": "display_data"
    },
    {
     "data": {
      "application/vnd.jupyter.widget-view+json": {
       "model_id": "b8e15f843abe4331966d900360e2fb5c",
       "version_major": 2,
       "version_minor": 0
      },
      "text/plain": [
       "HBox(children=(IntProgress(value=0, description='422 epoch', max=500, style=ProgressStyle(description_width='i…"
      ]
     },
     "metadata": {},
     "output_type": "display_data"
    },
    {
     "data": {
      "application/vnd.jupyter.widget-view+json": {
       "model_id": "70604c04c311412aaad4f4e9babdf3b8",
       "version_major": 2,
       "version_minor": 0
      },
      "text/plain": [
       "HBox(children=(IntProgress(value=0, description='423 epoch', max=500, style=ProgressStyle(description_width='i…"
      ]
     },
     "metadata": {},
     "output_type": "display_data"
    },
    {
     "data": {
      "application/vnd.jupyter.widget-view+json": {
       "model_id": "d628f5a69a1144e9a89fc269862212e8",
       "version_major": 2,
       "version_minor": 0
      },
      "text/plain": [
       "HBox(children=(IntProgress(value=0, description='424 epoch', max=500, style=ProgressStyle(description_width='i…"
      ]
     },
     "metadata": {},
     "output_type": "display_data"
    },
    {
     "data": {
      "application/vnd.jupyter.widget-view+json": {
       "model_id": "f26844fcf02340b38fa1d70f0745d921",
       "version_major": 2,
       "version_minor": 0
      },
      "text/plain": [
       "HBox(children=(IntProgress(value=0, description='425 epoch', max=500, style=ProgressStyle(description_width='i…"
      ]
     },
     "metadata": {},
     "output_type": "display_data"
    },
    {
     "data": {
      "application/vnd.jupyter.widget-view+json": {
       "model_id": "f4d3259dfec94bc68ec2b4e0c4d408a7",
       "version_major": 2,
       "version_minor": 0
      },
      "text/plain": [
       "HBox(children=(IntProgress(value=0, description='426 epoch', max=500, style=ProgressStyle(description_width='i…"
      ]
     },
     "metadata": {},
     "output_type": "display_data"
    },
    {
     "data": {
      "application/vnd.jupyter.widget-view+json": {
       "model_id": "3a77825cdda84868b49240204ce19983",
       "version_major": 2,
       "version_minor": 0
      },
      "text/plain": [
       "HBox(children=(IntProgress(value=0, description='427 epoch', max=500, style=ProgressStyle(description_width='i…"
      ]
     },
     "metadata": {},
     "output_type": "display_data"
    },
    {
     "data": {
      "application/vnd.jupyter.widget-view+json": {
       "model_id": "a43ac6106fa0444f9b149e16027aa27c",
       "version_major": 2,
       "version_minor": 0
      },
      "text/plain": [
       "HBox(children=(IntProgress(value=0, description='428 epoch', max=500, style=ProgressStyle(description_width='i…"
      ]
     },
     "metadata": {},
     "output_type": "display_data"
    },
    {
     "data": {
      "application/vnd.jupyter.widget-view+json": {
       "model_id": "eb71103522c14bda916f430397628841",
       "version_major": 2,
       "version_minor": 0
      },
      "text/plain": [
       "HBox(children=(IntProgress(value=0, description='429 epoch', max=500, style=ProgressStyle(description_width='i…"
      ]
     },
     "metadata": {},
     "output_type": "display_data"
    },
    {
     "data": {
      "application/vnd.jupyter.widget-view+json": {
       "model_id": "28378a78848a4a86a551aa061e2a6789",
       "version_major": 2,
       "version_minor": 0
      },
      "text/plain": [
       "HBox(children=(IntProgress(value=0, description='430 epoch', max=500, style=ProgressStyle(description_width='i…"
      ]
     },
     "metadata": {},
     "output_type": "display_data"
    },
    {
     "data": {
      "application/vnd.jupyter.widget-view+json": {
       "model_id": "d4737debc1f74e038eb22992846d43e7",
       "version_major": 2,
       "version_minor": 0
      },
      "text/plain": [
       "HBox(children=(IntProgress(value=0, description='431 epoch', max=500, style=ProgressStyle(description_width='i…"
      ]
     },
     "metadata": {},
     "output_type": "display_data"
    },
    {
     "data": {
      "application/vnd.jupyter.widget-view+json": {
       "model_id": "2d0bf80ef9ff43c48d5c63bfd8a59180",
       "version_major": 2,
       "version_minor": 0
      },
      "text/plain": [
       "HBox(children=(IntProgress(value=0, description='432 epoch', max=500, style=ProgressStyle(description_width='i…"
      ]
     },
     "metadata": {},
     "output_type": "display_data"
    },
    {
     "data": {
      "application/vnd.jupyter.widget-view+json": {
       "model_id": "e7bd5468c5654d61902fc921da1210a8",
       "version_major": 2,
       "version_minor": 0
      },
      "text/plain": [
       "HBox(children=(IntProgress(value=0, description='433 epoch', max=500, style=ProgressStyle(description_width='i…"
      ]
     },
     "metadata": {},
     "output_type": "display_data"
    },
    {
     "data": {
      "application/vnd.jupyter.widget-view+json": {
       "model_id": "1da114dc53264b4eb29e9dd652e34552",
       "version_major": 2,
       "version_minor": 0
      },
      "text/plain": [
       "HBox(children=(IntProgress(value=0, description='434 epoch', max=500, style=ProgressStyle(description_width='i…"
      ]
     },
     "metadata": {},
     "output_type": "display_data"
    },
    {
     "data": {
      "application/vnd.jupyter.widget-view+json": {
       "model_id": "7f9160ba98ac4d3191ef2325e3daf186",
       "version_major": 2,
       "version_minor": 0
      },
      "text/plain": [
       "HBox(children=(IntProgress(value=0, description='435 epoch', max=500, style=ProgressStyle(description_width='i…"
      ]
     },
     "metadata": {},
     "output_type": "display_data"
    },
    {
     "data": {
      "application/vnd.jupyter.widget-view+json": {
       "model_id": "db731016fb8644068d1c5c0a51e765b9",
       "version_major": 2,
       "version_minor": 0
      },
      "text/plain": [
       "HBox(children=(IntProgress(value=0, description='436 epoch', max=500, style=ProgressStyle(description_width='i…"
      ]
     },
     "metadata": {},
     "output_type": "display_data"
    },
    {
     "data": {
      "application/vnd.jupyter.widget-view+json": {
       "model_id": "133a03352e734d1d9f55712072851f8b",
       "version_major": 2,
       "version_minor": 0
      },
      "text/plain": [
       "HBox(children=(IntProgress(value=0, description='437 epoch', max=500, style=ProgressStyle(description_width='i…"
      ]
     },
     "metadata": {},
     "output_type": "display_data"
    },
    {
     "data": {
      "application/vnd.jupyter.widget-view+json": {
       "model_id": "7ceb7b807af34e21bbeb08ef30b871bc",
       "version_major": 2,
       "version_minor": 0
      },
      "text/plain": [
       "HBox(children=(IntProgress(value=0, description='438 epoch', max=500, style=ProgressStyle(description_width='i…"
      ]
     },
     "metadata": {},
     "output_type": "display_data"
    },
    {
     "data": {
      "application/vnd.jupyter.widget-view+json": {
       "model_id": "a8bf0ca6e40946c8b17ee65674744baa",
       "version_major": 2,
       "version_minor": 0
      },
      "text/plain": [
       "HBox(children=(IntProgress(value=0, description='439 epoch', max=500, style=ProgressStyle(description_width='i…"
      ]
     },
     "metadata": {},
     "output_type": "display_data"
    },
    {
     "data": {
      "application/vnd.jupyter.widget-view+json": {
       "model_id": "3b2223aab5a345bab452decc45483021",
       "version_major": 2,
       "version_minor": 0
      },
      "text/plain": [
       "HBox(children=(IntProgress(value=0, description='440 epoch', max=500, style=ProgressStyle(description_width='i…"
      ]
     },
     "metadata": {},
     "output_type": "display_data"
    },
    {
     "data": {
      "application/vnd.jupyter.widget-view+json": {
       "model_id": "8c22f17585364257845e55c3f15f277b",
       "version_major": 2,
       "version_minor": 0
      },
      "text/plain": [
       "HBox(children=(IntProgress(value=0, description='441 epoch', max=500, style=ProgressStyle(description_width='i…"
      ]
     },
     "metadata": {},
     "output_type": "display_data"
    },
    {
     "data": {
      "application/vnd.jupyter.widget-view+json": {
       "model_id": "930c5fa1bc274f0c980014056fb21d12",
       "version_major": 2,
       "version_minor": 0
      },
      "text/plain": [
       "HBox(children=(IntProgress(value=0, description='442 epoch', max=500, style=ProgressStyle(description_width='i…"
      ]
     },
     "metadata": {},
     "output_type": "display_data"
    },
    {
     "data": {
      "application/vnd.jupyter.widget-view+json": {
       "model_id": "980b953b84614b5bb2b358f5816aa46c",
       "version_major": 2,
       "version_minor": 0
      },
      "text/plain": [
       "HBox(children=(IntProgress(value=0, description='443 epoch', max=500, style=ProgressStyle(description_width='i…"
      ]
     },
     "metadata": {},
     "output_type": "display_data"
    },
    {
     "data": {
      "application/vnd.jupyter.widget-view+json": {
       "model_id": "0a3d6a1d9d2e493fbb166d8bc73afaf3",
       "version_major": 2,
       "version_minor": 0
      },
      "text/plain": [
       "HBox(children=(IntProgress(value=0, description='444 epoch', max=500, style=ProgressStyle(description_width='i…"
      ]
     },
     "metadata": {},
     "output_type": "display_data"
    },
    {
     "data": {
      "application/vnd.jupyter.widget-view+json": {
       "model_id": "264c9bf6d86d46039bc0e12450330445",
       "version_major": 2,
       "version_minor": 0
      },
      "text/plain": [
       "HBox(children=(IntProgress(value=0, description='445 epoch', max=500, style=ProgressStyle(description_width='i…"
      ]
     },
     "metadata": {},
     "output_type": "display_data"
    },
    {
     "data": {
      "application/vnd.jupyter.widget-view+json": {
       "model_id": "1c269369d5a34461843a5e9cd545f15c",
       "version_major": 2,
       "version_minor": 0
      },
      "text/plain": [
       "HBox(children=(IntProgress(value=0, description='446 epoch', max=500, style=ProgressStyle(description_width='i…"
      ]
     },
     "metadata": {},
     "output_type": "display_data"
    },
    {
     "data": {
      "application/vnd.jupyter.widget-view+json": {
       "model_id": "89918b90d5eb47bb880e7745c4d518d1",
       "version_major": 2,
       "version_minor": 0
      },
      "text/plain": [
       "HBox(children=(IntProgress(value=0, description='447 epoch', max=500, style=ProgressStyle(description_width='i…"
      ]
     },
     "metadata": {},
     "output_type": "display_data"
    },
    {
     "data": {
      "application/vnd.jupyter.widget-view+json": {
       "model_id": "f796d80ab9e441d38a1ea2bc4b554b31",
       "version_major": 2,
       "version_minor": 0
      },
      "text/plain": [
       "HBox(children=(IntProgress(value=0, description='448 epoch', max=500, style=ProgressStyle(description_width='i…"
      ]
     },
     "metadata": {},
     "output_type": "display_data"
    },
    {
     "data": {
      "application/vnd.jupyter.widget-view+json": {
       "model_id": "572ba3c9aef4482c8eeaa2d742abd924",
       "version_major": 2,
       "version_minor": 0
      },
      "text/plain": [
       "HBox(children=(IntProgress(value=0, description='449 epoch', max=500, style=ProgressStyle(description_width='i…"
      ]
     },
     "metadata": {},
     "output_type": "display_data"
    },
    {
     "data": {
      "application/vnd.jupyter.widget-view+json": {
       "model_id": "1c68640a47df49988b69441972b0ed3f",
       "version_major": 2,
       "version_minor": 0
      },
      "text/plain": [
       "HBox(children=(IntProgress(value=0, description='450 epoch', max=500, style=ProgressStyle(description_width='i…"
      ]
     },
     "metadata": {},
     "output_type": "display_data"
    },
    {
     "data": {
      "application/vnd.jupyter.widget-view+json": {
       "model_id": "dda6b81216dd431596213232947f09ec",
       "version_major": 2,
       "version_minor": 0
      },
      "text/plain": [
       "HBox(children=(IntProgress(value=0, description='451 epoch', max=500, style=ProgressStyle(description_width='i…"
      ]
     },
     "metadata": {},
     "output_type": "display_data"
    },
    {
     "data": {
      "application/vnd.jupyter.widget-view+json": {
       "model_id": "67f50ec27c3f449697c7d311b3c4fb6d",
       "version_major": 2,
       "version_minor": 0
      },
      "text/plain": [
       "HBox(children=(IntProgress(value=0, description='452 epoch', max=500, style=ProgressStyle(description_width='i…"
      ]
     },
     "metadata": {},
     "output_type": "display_data"
    },
    {
     "data": {
      "application/vnd.jupyter.widget-view+json": {
       "model_id": "1f5733b254804f23974632c99bc5cac9",
       "version_major": 2,
       "version_minor": 0
      },
      "text/plain": [
       "HBox(children=(IntProgress(value=0, description='453 epoch', max=500, style=ProgressStyle(description_width='i…"
      ]
     },
     "metadata": {},
     "output_type": "display_data"
    },
    {
     "data": {
      "application/vnd.jupyter.widget-view+json": {
       "model_id": "d33151296b7a4d7cb8d7bc959ee66259",
       "version_major": 2,
       "version_minor": 0
      },
      "text/plain": [
       "HBox(children=(IntProgress(value=0, description='454 epoch', max=500, style=ProgressStyle(description_width='i…"
      ]
     },
     "metadata": {},
     "output_type": "display_data"
    },
    {
     "data": {
      "application/vnd.jupyter.widget-view+json": {
       "model_id": "b2842131c1b44e509bd5162ca65006a5",
       "version_major": 2,
       "version_minor": 0
      },
      "text/plain": [
       "HBox(children=(IntProgress(value=0, description='455 epoch', max=500, style=ProgressStyle(description_width='i…"
      ]
     },
     "metadata": {},
     "output_type": "display_data"
    },
    {
     "data": {
      "application/vnd.jupyter.widget-view+json": {
       "model_id": "b7c4b79f526c4eb89cd0dddd177d83fd",
       "version_major": 2,
       "version_minor": 0
      },
      "text/plain": [
       "HBox(children=(IntProgress(value=0, description='456 epoch', max=500, style=ProgressStyle(description_width='i…"
      ]
     },
     "metadata": {},
     "output_type": "display_data"
    },
    {
     "data": {
      "application/vnd.jupyter.widget-view+json": {
       "model_id": "715b7b9768cd48bcaccae0344f202c67",
       "version_major": 2,
       "version_minor": 0
      },
      "text/plain": [
       "HBox(children=(IntProgress(value=0, description='457 epoch', max=500, style=ProgressStyle(description_width='i…"
      ]
     },
     "metadata": {},
     "output_type": "display_data"
    },
    {
     "data": {
      "application/vnd.jupyter.widget-view+json": {
       "model_id": "9c0d374c78de4c7dbd4557e359b25529",
       "version_major": 2,
       "version_minor": 0
      },
      "text/plain": [
       "HBox(children=(IntProgress(value=0, description='458 epoch', max=500, style=ProgressStyle(description_width='i…"
      ]
     },
     "metadata": {},
     "output_type": "display_data"
    },
    {
     "data": {
      "application/vnd.jupyter.widget-view+json": {
       "model_id": "44c07eb7af1e4d1bad71ebe657bbf7fe",
       "version_major": 2,
       "version_minor": 0
      },
      "text/plain": [
       "HBox(children=(IntProgress(value=0, description='459 epoch', max=500, style=ProgressStyle(description_width='i…"
      ]
     },
     "metadata": {},
     "output_type": "display_data"
    },
    {
     "data": {
      "application/vnd.jupyter.widget-view+json": {
       "model_id": "82c84fb799e14997a25ad35981569306",
       "version_major": 2,
       "version_minor": 0
      },
      "text/plain": [
       "HBox(children=(IntProgress(value=0, description='460 epoch', max=500, style=ProgressStyle(description_width='i…"
      ]
     },
     "metadata": {},
     "output_type": "display_data"
    },
    {
     "data": {
      "application/vnd.jupyter.widget-view+json": {
       "model_id": "5acbd5f9caaf4f079f32d6e5564989b9",
       "version_major": 2,
       "version_minor": 0
      },
      "text/plain": [
       "HBox(children=(IntProgress(value=0, description='461 epoch', max=500, style=ProgressStyle(description_width='i…"
      ]
     },
     "metadata": {},
     "output_type": "display_data"
    },
    {
     "data": {
      "application/vnd.jupyter.widget-view+json": {
       "model_id": "c626946e70f94e579a55a2c6e27feeeb",
       "version_major": 2,
       "version_minor": 0
      },
      "text/plain": [
       "HBox(children=(IntProgress(value=0, description='462 epoch', max=500, style=ProgressStyle(description_width='i…"
      ]
     },
     "metadata": {},
     "output_type": "display_data"
    },
    {
     "data": {
      "application/vnd.jupyter.widget-view+json": {
       "model_id": "a7b6586ab13e4b5ca78b647bf7904f7e",
       "version_major": 2,
       "version_minor": 0
      },
      "text/plain": [
       "HBox(children=(IntProgress(value=0, description='463 epoch', max=500, style=ProgressStyle(description_width='i…"
      ]
     },
     "metadata": {},
     "output_type": "display_data"
    },
    {
     "data": {
      "application/vnd.jupyter.widget-view+json": {
       "model_id": "0ffca6e9c34643cd97a83ae9800e5eb1",
       "version_major": 2,
       "version_minor": 0
      },
      "text/plain": [
       "HBox(children=(IntProgress(value=0, description='464 epoch', max=500, style=ProgressStyle(description_width='i…"
      ]
     },
     "metadata": {},
     "output_type": "display_data"
    },
    {
     "data": {
      "application/vnd.jupyter.widget-view+json": {
       "model_id": "d9340d9b4149476088677602dafb886c",
       "version_major": 2,
       "version_minor": 0
      },
      "text/plain": [
       "HBox(children=(IntProgress(value=0, description='465 epoch', max=500, style=ProgressStyle(description_width='i…"
      ]
     },
     "metadata": {},
     "output_type": "display_data"
    },
    {
     "data": {
      "application/vnd.jupyter.widget-view+json": {
       "model_id": "95dfcb45cc2f4c5d9c0672d346045374",
       "version_major": 2,
       "version_minor": 0
      },
      "text/plain": [
       "HBox(children=(IntProgress(value=0, description='466 epoch', max=500, style=ProgressStyle(description_width='i…"
      ]
     },
     "metadata": {},
     "output_type": "display_data"
    },
    {
     "data": {
      "application/vnd.jupyter.widget-view+json": {
       "model_id": "9c8fe665f9054b70a9b35cfeae43d0ad",
       "version_major": 2,
       "version_minor": 0
      },
      "text/plain": [
       "HBox(children=(IntProgress(value=0, description='467 epoch', max=500, style=ProgressStyle(description_width='i…"
      ]
     },
     "metadata": {},
     "output_type": "display_data"
    },
    {
     "data": {
      "application/vnd.jupyter.widget-view+json": {
       "model_id": "8f9ebb123f364e909933275851f59d93",
       "version_major": 2,
       "version_minor": 0
      },
      "text/plain": [
       "HBox(children=(IntProgress(value=0, description='468 epoch', max=500, style=ProgressStyle(description_width='i…"
      ]
     },
     "metadata": {},
     "output_type": "display_data"
    },
    {
     "data": {
      "application/vnd.jupyter.widget-view+json": {
       "model_id": "60d4de85dc654a25996cfa3a2545c5e0",
       "version_major": 2,
       "version_minor": 0
      },
      "text/plain": [
       "HBox(children=(IntProgress(value=0, description='469 epoch', max=500, style=ProgressStyle(description_width='i…"
      ]
     },
     "metadata": {},
     "output_type": "display_data"
    },
    {
     "data": {
      "application/vnd.jupyter.widget-view+json": {
       "model_id": "3a7b0a9f408347ec88e00f632a9a2969",
       "version_major": 2,
       "version_minor": 0
      },
      "text/plain": [
       "HBox(children=(IntProgress(value=0, description='470 epoch', max=500, style=ProgressStyle(description_width='i…"
      ]
     },
     "metadata": {},
     "output_type": "display_data"
    },
    {
     "data": {
      "application/vnd.jupyter.widget-view+json": {
       "model_id": "ac6def260f8d465bb739ec011997eab8",
       "version_major": 2,
       "version_minor": 0
      },
      "text/plain": [
       "HBox(children=(IntProgress(value=0, description='471 epoch', max=500, style=ProgressStyle(description_width='i…"
      ]
     },
     "metadata": {},
     "output_type": "display_data"
    },
    {
     "data": {
      "application/vnd.jupyter.widget-view+json": {
       "model_id": "a568383fca9f4500b0cbfe052d849be3",
       "version_major": 2,
       "version_minor": 0
      },
      "text/plain": [
       "HBox(children=(IntProgress(value=0, description='472 epoch', max=500, style=ProgressStyle(description_width='i…"
      ]
     },
     "metadata": {},
     "output_type": "display_data"
    },
    {
     "data": {
      "application/vnd.jupyter.widget-view+json": {
       "model_id": "bf04cc9222884bc390a8c88f2d4d7899",
       "version_major": 2,
       "version_minor": 0
      },
      "text/plain": [
       "HBox(children=(IntProgress(value=0, description='473 epoch', max=500, style=ProgressStyle(description_width='i…"
      ]
     },
     "metadata": {},
     "output_type": "display_data"
    },
    {
     "data": {
      "application/vnd.jupyter.widget-view+json": {
       "model_id": "828145331b354fa1a7fdfcd4d0045ad4",
       "version_major": 2,
       "version_minor": 0
      },
      "text/plain": [
       "HBox(children=(IntProgress(value=0, description='474 epoch', max=500, style=ProgressStyle(description_width='i…"
      ]
     },
     "metadata": {},
     "output_type": "display_data"
    },
    {
     "data": {
      "application/vnd.jupyter.widget-view+json": {
       "model_id": "ea38e45dd9194b0c82acc72e2827d149",
       "version_major": 2,
       "version_minor": 0
      },
      "text/plain": [
       "HBox(children=(IntProgress(value=0, description='475 epoch', max=500, style=ProgressStyle(description_width='i…"
      ]
     },
     "metadata": {},
     "output_type": "display_data"
    },
    {
     "data": {
      "application/vnd.jupyter.widget-view+json": {
       "model_id": "c59e8d4ceaa44db9a9eb4ff3f665099e",
       "version_major": 2,
       "version_minor": 0
      },
      "text/plain": [
       "HBox(children=(IntProgress(value=0, description='476 epoch', max=500, style=ProgressStyle(description_width='i…"
      ]
     },
     "metadata": {},
     "output_type": "display_data"
    },
    {
     "data": {
      "application/vnd.jupyter.widget-view+json": {
       "model_id": "262b90fe143f4708b3b3ab69143a6eb5",
       "version_major": 2,
       "version_minor": 0
      },
      "text/plain": [
       "HBox(children=(IntProgress(value=0, description='477 epoch', max=500, style=ProgressStyle(description_width='i…"
      ]
     },
     "metadata": {},
     "output_type": "display_data"
    },
    {
     "data": {
      "application/vnd.jupyter.widget-view+json": {
       "model_id": "f8b76c78f2424efe9eec5bc6eb44eae3",
       "version_major": 2,
       "version_minor": 0
      },
      "text/plain": [
       "HBox(children=(IntProgress(value=0, description='478 epoch', max=500, style=ProgressStyle(description_width='i…"
      ]
     },
     "metadata": {},
     "output_type": "display_data"
    },
    {
     "data": {
      "application/vnd.jupyter.widget-view+json": {
       "model_id": "845ed266bdea4c8da0b230b1e250443b",
       "version_major": 2,
       "version_minor": 0
      },
      "text/plain": [
       "HBox(children=(IntProgress(value=0, description='479 epoch', max=500, style=ProgressStyle(description_width='i…"
      ]
     },
     "metadata": {},
     "output_type": "display_data"
    },
    {
     "data": {
      "application/vnd.jupyter.widget-view+json": {
       "model_id": "f77c2f0707ce44039d0ee3a7945632bb",
       "version_major": 2,
       "version_minor": 0
      },
      "text/plain": [
       "HBox(children=(IntProgress(value=0, description='480 epoch', max=500, style=ProgressStyle(description_width='i…"
      ]
     },
     "metadata": {},
     "output_type": "display_data"
    },
    {
     "data": {
      "application/vnd.jupyter.widget-view+json": {
       "model_id": "8a12d2dc67b549cd8b50a860c122b96a",
       "version_major": 2,
       "version_minor": 0
      },
      "text/plain": [
       "HBox(children=(IntProgress(value=0, description='481 epoch', max=500, style=ProgressStyle(description_width='i…"
      ]
     },
     "metadata": {},
     "output_type": "display_data"
    },
    {
     "data": {
      "application/vnd.jupyter.widget-view+json": {
       "model_id": "9990498e33674c9dae2e9a0ae1bf5c0d",
       "version_major": 2,
       "version_minor": 0
      },
      "text/plain": [
       "HBox(children=(IntProgress(value=0, description='482 epoch', max=500, style=ProgressStyle(description_width='i…"
      ]
     },
     "metadata": {},
     "output_type": "display_data"
    },
    {
     "data": {
      "application/vnd.jupyter.widget-view+json": {
       "model_id": "d7a6607c23044e2c8d20bb3bef9a80da",
       "version_major": 2,
       "version_minor": 0
      },
      "text/plain": [
       "HBox(children=(IntProgress(value=0, description='483 epoch', max=500, style=ProgressStyle(description_width='i…"
      ]
     },
     "metadata": {},
     "output_type": "display_data"
    },
    {
     "data": {
      "application/vnd.jupyter.widget-view+json": {
       "model_id": "242bdddb01ba4469b8d6590c6e0222a5",
       "version_major": 2,
       "version_minor": 0
      },
      "text/plain": [
       "HBox(children=(IntProgress(value=0, description='484 epoch', max=500, style=ProgressStyle(description_width='i…"
      ]
     },
     "metadata": {},
     "output_type": "display_data"
    },
    {
     "data": {
      "application/vnd.jupyter.widget-view+json": {
       "model_id": "4642342473ea47ea8097a40bc7c0f811",
       "version_major": 2,
       "version_minor": 0
      },
      "text/plain": [
       "HBox(children=(IntProgress(value=0, description='485 epoch', max=500, style=ProgressStyle(description_width='i…"
      ]
     },
     "metadata": {},
     "output_type": "display_data"
    },
    {
     "data": {
      "application/vnd.jupyter.widget-view+json": {
       "model_id": "3a079da11fc840b89c54cc53fd72811c",
       "version_major": 2,
       "version_minor": 0
      },
      "text/plain": [
       "HBox(children=(IntProgress(value=0, description='486 epoch', max=500, style=ProgressStyle(description_width='i…"
      ]
     },
     "metadata": {},
     "output_type": "display_data"
    },
    {
     "data": {
      "application/vnd.jupyter.widget-view+json": {
       "model_id": "43150b9c5f3a4c31965a575b3f721c70",
       "version_major": 2,
       "version_minor": 0
      },
      "text/plain": [
       "HBox(children=(IntProgress(value=0, description='487 epoch', max=500, style=ProgressStyle(description_width='i…"
      ]
     },
     "metadata": {},
     "output_type": "display_data"
    },
    {
     "data": {
      "application/vnd.jupyter.widget-view+json": {
       "model_id": "0a5e92a1b33542839c71b625ee32577a",
       "version_major": 2,
       "version_minor": 0
      },
      "text/plain": [
       "HBox(children=(IntProgress(value=0, description='488 epoch', max=500, style=ProgressStyle(description_width='i…"
      ]
     },
     "metadata": {},
     "output_type": "display_data"
    },
    {
     "data": {
      "application/vnd.jupyter.widget-view+json": {
       "model_id": "a5709243ba0f466686c460a91a52c4e6",
       "version_major": 2,
       "version_minor": 0
      },
      "text/plain": [
       "HBox(children=(IntProgress(value=0, description='489 epoch', max=500, style=ProgressStyle(description_width='i…"
      ]
     },
     "metadata": {},
     "output_type": "display_data"
    },
    {
     "data": {
      "application/vnd.jupyter.widget-view+json": {
       "model_id": "760512f4774f479bbd0889ed2fbdec67",
       "version_major": 2,
       "version_minor": 0
      },
      "text/plain": [
       "HBox(children=(IntProgress(value=0, description='490 epoch', max=500, style=ProgressStyle(description_width='i…"
      ]
     },
     "metadata": {},
     "output_type": "display_data"
    },
    {
     "data": {
      "application/vnd.jupyter.widget-view+json": {
       "model_id": "1286d359f84c4eeebb821d9247daa105",
       "version_major": 2,
       "version_minor": 0
      },
      "text/plain": [
       "HBox(children=(IntProgress(value=0, description='491 epoch', max=500, style=ProgressStyle(description_width='i…"
      ]
     },
     "metadata": {},
     "output_type": "display_data"
    },
    {
     "data": {
      "application/vnd.jupyter.widget-view+json": {
       "model_id": "f06584414648447fad0764806044f404",
       "version_major": 2,
       "version_minor": 0
      },
      "text/plain": [
       "HBox(children=(IntProgress(value=0, description='492 epoch', max=500, style=ProgressStyle(description_width='i…"
      ]
     },
     "metadata": {},
     "output_type": "display_data"
    },
    {
     "data": {
      "application/vnd.jupyter.widget-view+json": {
       "model_id": "9819811f4fa848508f571078dbe42af8",
       "version_major": 2,
       "version_minor": 0
      },
      "text/plain": [
       "HBox(children=(IntProgress(value=0, description='493 epoch', max=500, style=ProgressStyle(description_width='i…"
      ]
     },
     "metadata": {},
     "output_type": "display_data"
    },
    {
     "data": {
      "application/vnd.jupyter.widget-view+json": {
       "model_id": "e2e77cb4771946b99317e6c85ab9f145",
       "version_major": 2,
       "version_minor": 0
      },
      "text/plain": [
       "HBox(children=(IntProgress(value=0, description='494 epoch', max=500, style=ProgressStyle(description_width='i…"
      ]
     },
     "metadata": {},
     "output_type": "display_data"
    },
    {
     "data": {
      "application/vnd.jupyter.widget-view+json": {
       "model_id": "80e93f2a731c4125b48ca9d476d27f30",
       "version_major": 2,
       "version_minor": 0
      },
      "text/plain": [
       "HBox(children=(IntProgress(value=0, description='495 epoch', max=500, style=ProgressStyle(description_width='i…"
      ]
     },
     "metadata": {},
     "output_type": "display_data"
    },
    {
     "data": {
      "application/vnd.jupyter.widget-view+json": {
       "model_id": "96d427e14f6742d1b5095aa409ff3e71",
       "version_major": 2,
       "version_minor": 0
      },
      "text/plain": [
       "HBox(children=(IntProgress(value=0, description='496 epoch', max=500, style=ProgressStyle(description_width='i…"
      ]
     },
     "metadata": {},
     "output_type": "display_data"
    },
    {
     "data": {
      "application/vnd.jupyter.widget-view+json": {
       "model_id": "7c8d2e84e0494653937db3bd9062685d",
       "version_major": 2,
       "version_minor": 0
      },
      "text/plain": [
       "HBox(children=(IntProgress(value=0, description='497 epoch', max=500, style=ProgressStyle(description_width='i…"
      ]
     },
     "metadata": {},
     "output_type": "display_data"
    },
    {
     "data": {
      "application/vnd.jupyter.widget-view+json": {
       "model_id": "1303013425764235854bee4249b7c5d3",
       "version_major": 2,
       "version_minor": 0
      },
      "text/plain": [
       "HBox(children=(IntProgress(value=0, description='498 epoch', max=500, style=ProgressStyle(description_width='i…"
      ]
     },
     "metadata": {},
     "output_type": "display_data"
    },
    {
     "data": {
      "application/vnd.jupyter.widget-view+json": {
       "model_id": "a58e3ddbcb08497e8b39b53b51b732c5",
       "version_major": 2,
       "version_minor": 0
      },
      "text/plain": [
       "HBox(children=(IntProgress(value=0, description='499 epoch', max=500, style=ProgressStyle(description_width='i…"
      ]
     },
     "metadata": {},
     "output_type": "display_data"
    },
    {
     "data": {
      "application/vnd.jupyter.widget-view+json": {
       "model_id": "3e9ba1a680064a7fbcc5677d54c80a53",
       "version_major": 2,
       "version_minor": 0
      },
      "text/plain": [
       "HBox(children=(IntProgress(value=0, description='500 epoch', max=500, style=ProgressStyle(description_width='i…"
      ]
     },
     "metadata": {},
     "output_type": "display_data"
    },
    {
     "name": "stdout",
     "output_type": "stream",
     "text": [
      "\n",
      "1.0593427618344624 minutes\n"
     ]
    }
   ],
   "source": [
    "# Обучение сети стахостическим градиентным спуском\n",
    "\n",
    "x_train1 = np.linspace(0, 4*np.pi, num = 500)\n",
    "y_train1 = np.sin(x_train1)\n",
    "\n",
    "time_start = time.time()\n",
    "\n",
    "for epoch in tqdm.tqdm_notebook(range(500), desc = 'Progress bar'):\n",
    "    for i in tqdm.tqdm_notebook(range(len(x_train)), desc = str(epoch+1) + ' epoch'):\n",
    "        j = np.random.randint(0, len(x_train))\n",
    "        net.SGD_step(x_train[j], y_train[j])\n",
    "            \n",
    "print((time.time() - time_start) / 60, \"minutes\")"
   ]
  },
  {
   "cell_type": "code",
   "execution_count": 17,
   "metadata": {},
   "outputs": [
    {
     "name": "stdout",
     "output_type": "stream",
     "text": [
      "MSE: 0.8806414275760996\n",
      "MAE: 0.7672289699447175\n"
     ]
    },
    {
     "data": {
      "image/png": "[encoded data removed]",
      "text/plain": [
       "<Figure size 432x288 with 1 Axes>"
      ]
     },
     "metadata": {
      "needs_background": "light"
     },
     "output_type": "display_data"
    }
   ],
   "source": [
    "Y = []\n",
    "for x in x_train:\n",
    "    Y.append(*net.predict(x))\n",
    "\n",
    "plt.plot(x_train, y_train, 'o', label = 'training')\n",
    "plt.plot(x_train, Y, 'o', label = 'predicted')\n",
    "\n",
    "plt.plot(x_train1, y_train1, label = 'sin(x)')\n",
    "plt.legend()\n",
    "\n",
    "print(\"MSE:\", loss(Y, y_train1))\n",
    "print(\"MAE:\", target(Y, y_train1))"
   ]
  },
  {
   "cell_type": "markdown",
   "metadata": {},
   "source": [
    "### 5.2 Знакомство с Keras"
   ]
  },
  {
   "cell_type": "code",
   "execution_count": 2,
   "metadata": {},
   "outputs": [
    {
     "name": "stderr",
     "output_type": "stream",
     "text": [
      "Using TensorFlow backend.\n"
     ]
    }
   ],
   "source": [
    "from keras.models import Sequential\n",
    "from keras.layers import Dense\n",
    "\n",
    "from keras import models\n",
    "from keras import layers"
   ]
  },
  {
   "cell_type": "code",
   "execution_count": 19,
   "metadata": {},
   "outputs": [
    {
     "name": "stdout",
     "output_type": "stream",
     "text": [
      "Help on class Sequential in module keras.engine.sequential:\n",
      "\n",
      "class Sequential(keras.engine.training.Model)\n",
      " |  Sequential(layers=None, name=None)\n",
      " |  \n",
      " |  Linear stack of layers.\n",
      " |  \n",
      " |  # Arguments\n",
      " |      layers: list of layers to add to the model.\n",
      " |  \n",
      " |  # Example\n",
      " |  \n",
      " |  ```python\n",
      " |  # Optionally, the first layer can receive an `input_shape` argument:\n",
      " |  model = Sequential()\n",
      " |  model.add(Dense(32, input_shape=(500,)))\n",
      " |  \n",
      " |  # Afterwards, we do automatic shape inference:\n",
      " |  model.add(Dense(32))\n",
      " |  \n",
      " |  # This is identical to the following:\n",
      " |  model = Sequential()\n",
      " |  model.add(Dense(32, input_dim=500))\n",
      " |  \n",
      " |  # And to the following:\n",
      " |  model = Sequential()\n",
      " |  model.add(Dense(32, batch_input_shape=(None, 500)))\n",
      " |  \n",
      " |  # Note that you can also omit the `input_shape` argument:\n",
      " |  # In that case the model gets built the first time you call `fit` (or other\n",
      " |  # training and evaluation methods).\n",
      " |  model = Sequential()\n",
      " |  model.add(Dense(32))\n",
      " |  model.add(Dense(32))\n",
      " |  model.compile(optimizer=optimizer, loss=loss)\n",
      " |  \n",
      " |  # This builds the model for the first time:\n",
      " |  model.fit(x, y, batch_size=32, epochs=10)\n",
      " |  \n",
      " |  # Note that when using this delayed-build pattern\n",
      " |  # (no input shape specified),\n",
      " |  # the model doesn't have any weights until the first call\n",
      " |  # to a training/evaluation method (since it isn't yet built):\n",
      " |  model = Sequential()\n",
      " |  model.add(Dense(32))\n",
      " |  model.add(Dense(32))\n",
      " |  model.weights  # returns []\n",
      " |  \n",
      " |  # Whereas if you specify the input shape, the model gets built continuously\n",
      " |  # as you are adding layers:\n",
      " |  model = Sequential()\n",
      " |  model.add(Dense(32, input_shape=(500,)))\n",
      " |  model.add(Dense(32))\n",
      " |  model.weights  # returns list of length 4\n",
      " |  \n",
      " |  # When using the delayed-build pattern (no input shape specified), you can\n",
      " |  # choose to manually build your model by calling\n",
      " |  # `build(batch_input_shape)`:\n",
      " |  model = Sequential()\n",
      " |  model.add(Dense(32))\n",
      " |  model.add(Dense(32))\n",
      " |  model.build((None, 500))\n",
      " |  model.weights  # returns list of length 4\n",
      " |  ```\n",
      " |  \n",
      " |  Method resolution order:\n",
      " |      Sequential\n",
      " |      keras.engine.training.Model\n",
      " |      keras.engine.network.Network\n",
      " |      keras.engine.base_layer.Layer\n",
      " |      builtins.object\n",
      " |  \n",
      " |  Methods defined here:\n",
      " |  \n",
      " |  __init__(self, layers=None, name=None)\n",
      " |      Initialize self.  See help(type(self)) for accurate signature.\n",
      " |  \n",
      " |  add(self, layer)\n",
      " |      Adds a layer instance on top of the layer stack.\n",
      " |      \n",
      " |      # Arguments\n",
      " |          layer: layer instance.\n",
      " |      \n",
      " |      # Raises\n",
      " |          TypeError: If `layer` is not a layer instance.\n",
      " |          ValueError: In case the `layer` argument does not\n",
      " |              know its input shape.\n",
      " |          ValueError: In case the `layer` argument has\n",
      " |              multiple output tensors, or is already connected\n",
      " |              somewhere else (forbidden in `Sequential` models).\n",
      " |  \n",
      " |  build(self, input_shape=None)\n",
      " |      Creates the layer weights.\n",
      " |      \n",
      " |      Must be implemented on all layers that have weights.\n",
      " |      \n",
      " |      # Arguments\n",
      " |          input_shape: Keras tensor (future input to layer)\n",
      " |              or list/tuple of Keras tensors to reference\n",
      " |              for weight shape computations.\n",
      " |  \n",
      " |  get_config(self)\n",
      " |      Returns the config of the layer.\n",
      " |      \n",
      " |      A layer config is a Python dictionary (serializable)\n",
      " |      containing the configuration of a layer.\n",
      " |      The same layer can be reinstantiated later\n",
      " |      (without its trained weights) from this configuration.\n",
      " |      \n",
      " |      The config of a layer does not include connectivity\n",
      " |      information, nor the layer class name. These are handled\n",
      " |      by `Network` (one layer of abstraction above).\n",
      " |      \n",
      " |      # Returns\n",
      " |          Python dictionary.\n",
      " |  \n",
      " |  pop(self)\n",
      " |      Removes the last layer in the model.\n",
      " |      \n",
      " |      # Raises\n",
      " |          TypeError: if there are no layers in the model.\n",
      " |  \n",
      " |  predict_classes(self, x, batch_size=32, verbose=0)\n",
      " |      Generate class predictions for the input samples.\n",
      " |      \n",
      " |      The input samples are processed batch by batch.\n",
      " |      \n",
      " |      # Arguments\n",
      " |          x: input data, as a Numpy array or list of Numpy arrays\n",
      " |              (if the model has multiple inputs).\n",
      " |          batch_size: integer.\n",
      " |          verbose: verbosity mode, 0 or 1.\n",
      " |      \n",
      " |      # Returns:\n",
      " |          A numpy array of class predictions.\n",
      " |  \n",
      " |  predict_proba(self, x, batch_size=32, verbose=0)\n",
      " |      Generates class probability predictions for the input samples.\n",
      " |      \n",
      " |      The input samples are processed batch by batch.\n",
      " |      \n",
      " |      # Arguments\n",
      " |          x: input data, as a Numpy array or list of Numpy arrays\n",
      " |              (if the model has multiple inputs).\n",
      " |          batch_size: integer.\n",
      " |          verbose: verbosity mode, 0 or 1.\n",
      " |      \n",
      " |      # Returns\n",
      " |          A Numpy array of probability predictions.\n",
      " |  \n",
      " |  ----------------------------------------------------------------------\n",
      " |  Class methods defined here:\n",
      " |  \n",
      " |  from_config(config, custom_objects=None) from builtins.type\n",
      " |      Instantiates a Model from its config (output of `get_config()`).\n",
      " |      \n",
      " |      # Arguments\n",
      " |          config: Model config dictionary.\n",
      " |          custom_objects: Optional dictionary mapping names\n",
      " |              (strings) to custom classes or functions to be\n",
      " |              considered during deserialization.\n",
      " |      \n",
      " |      # Returns\n",
      " |          A model instance.\n",
      " |      \n",
      " |      # Raises\n",
      " |          ValueError: In case of improperly formatted config dict.\n",
      " |  \n",
      " |  ----------------------------------------------------------------------\n",
      " |  Data descriptors defined here:\n",
      " |  \n",
      " |  layers\n",
      " |  \n",
      " |  model\n",
      " |  \n",
      " |  ----------------------------------------------------------------------\n",
      " |  Methods inherited from keras.engine.training.Model:\n",
      " |  \n",
      " |  compile(self, optimizer, loss=None, metrics=None, loss_weights=None, sample_weight_mode=None, weighted_metrics=None, target_tensors=None, **kwargs)\n",
      " |      Configures the model for training.\n",
      " |      \n",
      " |      # Arguments\n",
      " |          optimizer: String (name of optimizer) or optimizer instance.\n",
      " |              See [optimizers](/optimizers).\n",
      " |          loss: String (name of objective function) or objective function.\n",
      " |              See [losses](/losses).\n",
      " |              If the model has multiple outputs, you can use a different loss\n",
      " |              on each output by passing a dictionary or a list of losses.\n",
      " |              The loss value that will be minimized by the model\n",
      " |              will then be the sum of all individual losses.\n",
      " |          metrics: List of metrics to be evaluated by the model\n",
      " |              during training and testing.\n",
      " |              Typically you will use `metrics=['accuracy']`.\n",
      " |              To specify different metrics for different outputs of a\n",
      " |              multi-output model, you could also pass a dictionary,\n",
      " |              such as `metrics={'output_a': 'accuracy'}`.\n",
      " |          loss_weights: Optional list or dictionary specifying scalar\n",
      " |              coefficients (Python floats) to weight the loss contributions\n",
      " |              of different model outputs.\n",
      " |              The loss value that will be minimized by the model\n",
      " |              will then be the *weighted sum* of all individual losses,\n",
      " |              weighted by the `loss_weights` coefficients.\n",
      " |              If a list, it is expected to have a 1:1 mapping\n",
      " |              to the model's outputs. If a tensor, it is expected to map\n",
      " |              output names (strings) to scalar coefficients.\n",
      " |          sample_weight_mode: If you need to do timestep-wise\n",
      " |              sample weighting (2D weights), set this to `\"temporal\"`.\n",
      " |              `None` defaults to sample-wise weights (1D).\n",
      " |              If the model has multiple outputs, you can use a different\n",
      " |              `sample_weight_mode` on each output by passing a\n",
      " |              dictionary or a list of modes.\n",
      " |          weighted_metrics: List of metrics to be evaluated and weighted\n",
      " |              by sample_weight or class_weight during training and testing.\n",
      " |          target_tensors: By default, Keras will create placeholders for the\n",
      " |              model's target, which will be fed with the target data during\n",
      " |              training. If instead you would like to use your own\n",
      " |              target tensors (in turn, Keras will not expect external\n",
      " |              Numpy data for these targets at training time), you\n",
      " |              can specify them via the `target_tensors` argument. It can be\n",
      " |              a single tensor (for a single-output model), a list of tensors,\n",
      " |              or a dict mapping output names to target tensors.\n",
      " |          **kwargs: When using the Theano/CNTK backends, these arguments\n",
      " |              are passed into `K.function`.\n",
      " |              When using the TensorFlow backend,\n",
      " |              these arguments are passed into `tf.Session.run`.\n",
      " |      \n",
      " |      # Raises\n",
      " |          ValueError: In case of invalid arguments for\n",
      " |              `optimizer`, `loss`, `metrics` or `sample_weight_mode`.\n",
      " |  \n",
      " |  evaluate(self, x=None, y=None, batch_size=None, verbose=1, sample_weight=None, steps=None)\n",
      " |      Returns the loss value & metrics values for the model in test mode.\n",
      " |      \n",
      " |      Computation is done in batches.\n",
      " |      \n",
      " |      # Arguments\n",
      " |          x: Numpy array of test data (if the model has a single input),\n",
      " |              or list of Numpy arrays (if the model has multiple inputs).\n",
      " |              If input layers in the model are named, you can also pass a\n",
      " |              dictionary mapping input names to Numpy arrays.\n",
      " |              `x` can be `None` (default) if feeding from\n",
      " |              framework-native tensors (e.g. TensorFlow data tensors).\n",
      " |          y: Numpy array of target (label) data\n",
      " |              (if the model has a single output),\n",
      " |              or list of Numpy arrays (if the model has multiple outputs).\n",
      " |              If output layers in the model are named, you can also pass a\n",
      " |              dictionary mapping output names to Numpy arrays.\n",
      " |              `y` can be `None` (default) if feeding from\n",
      " |              framework-native tensors (e.g. TensorFlow data tensors).\n",
      " |          batch_size: Integer or `None`.\n",
      " |              Number of samples per evaluation step.\n",
      " |              If unspecified, `batch_size` will default to 32.\n",
      " |          verbose: 0 or 1. Verbosity mode.\n",
      " |              0 = silent, 1 = progress bar.\n",
      " |          sample_weight: Optional Numpy array of weights for\n",
      " |              the test samples, used for weighting the loss function.\n",
      " |              You can either pass a flat (1D)\n",
      " |              Numpy array with the same length as the input samples\n",
      " |              (1:1 mapping between weights and samples),\n",
      " |              or in the case of temporal data,\n",
      " |              you can pass a 2D array with shape\n",
      " |              `(samples, sequence_length)`,\n",
      " |              to apply a different weight to every timestep of every sample.\n",
      " |              In this case you should make sure to specify\n",
      " |              `sample_weight_mode=\"temporal\"` in `compile()`.\n",
      " |          steps: Integer or `None`.\n",
      " |              Total number of steps (batches of samples)\n",
      " |              before declaring the evaluation round finished.\n",
      " |              Ignored with the default value of `None`.\n",
      " |      \n",
      " |      # Returns\n",
      " |          Scalar test loss (if the model has a single output and no metrics)\n",
      " |          or list of scalars (if the model has multiple outputs\n",
      " |          and/or metrics). The attribute `model.metrics_names` will give you\n",
      " |          the display labels for the scalar outputs.\n",
      " |  \n",
      " |  evaluate_generator(self, generator, steps=None, max_queue_size=10, workers=1, use_multiprocessing=False, verbose=0)\n",
      " |      Evaluates the model on a data generator.\n",
      " |      \n",
      " |      The generator should return the same kind of data\n",
      " |      as accepted by `test_on_batch`.\n",
      " |      \n",
      " |      # Arguments\n",
      " |          generator: Generator yielding tuples (inputs, targets)\n",
      " |              or (inputs, targets, sample_weights)\n",
      " |              or an instance of Sequence (keras.utils.Sequence)\n",
      " |              object in order to avoid duplicate data\n",
      " |              when using multiprocessing.\n",
      " |          steps: Total number of steps (batches of samples)\n",
      " |              to yield from `generator` before stopping.\n",
      " |              Optional for `Sequence`: if unspecified, will use\n",
      " |              the `len(generator)` as a number of steps.\n",
      " |          max_queue_size: maximum size for the generator queue\n",
      " |          workers: Integer. Maximum number of processes to spin up\n",
      " |              when using process based threading.\n",
      " |              If unspecified, `workers` will default to 1. If 0, will\n",
      " |              execute the generator on the main thread.\n",
      " |          use_multiprocessing: if True, use process based threading.\n",
      " |              Note that because\n",
      " |              this implementation relies on multiprocessing,\n",
      " |              you should not pass\n",
      " |              non picklable arguments to the generator\n",
      " |              as they can't be passed\n",
      " |              easily to children processes.\n",
      " |          verbose: verbosity mode, 0 or 1.\n",
      " |      \n",
      " |      # Returns\n",
      " |          Scalar test loss (if the model has a single output and no metrics)\n",
      " |          or list of scalars (if the model has multiple outputs\n",
      " |          and/or metrics). The attribute `model.metrics_names` will give you\n",
      " |          the display labels for the scalar outputs.\n",
      " |      \n",
      " |      # Raises\n",
      " |          ValueError: In case the generator yields\n",
      " |              data in an invalid format.\n",
      " |  \n",
      " |  fit(self, x=None, y=None, batch_size=None, epochs=1, verbose=1, callbacks=None, validation_split=0.0, validation_data=None, shuffle=True, class_weight=None, sample_weight=None, initial_epoch=0, steps_per_epoch=None, validation_steps=None, **kwargs)\n",
      " |      Trains the model for a given number of epochs (iterations on a dataset).\n",
      " |      \n",
      " |      # Arguments\n",
      " |          x: Numpy array of training data (if the model has a single input),\n",
      " |              or list of Numpy arrays (if the model has multiple inputs).\n",
      " |              If input layers in the model are named, you can also pass a\n",
      " |              dictionary mapping input names to Numpy arrays.\n",
      " |              `x` can be `None` (default) if feeding from\n",
      " |              framework-native tensors (e.g. TensorFlow data tensors).\n",
      " |          y: Numpy array of target (label) data\n",
      " |              (if the model has a single output),\n",
      " |              or list of Numpy arrays (if the model has multiple outputs).\n",
      " |              If output layers in the model are named, you can also pass a\n",
      " |              dictionary mapping output names to Numpy arrays.\n",
      " |              `y` can be `None` (default) if feeding from\n",
      " |              framework-native tensors (e.g. TensorFlow data tensors).\n",
      " |          batch_size: Integer or `None`.\n",
      " |              Number of samples per gradient update.\n",
      " |              If unspecified, `batch_size` will default to 32.\n",
      " |          epochs: Integer. Number of epochs to train the model.\n",
      " |              An epoch is an iteration over the entire `x` and `y`\n",
      " |              data provided.\n",
      " |              Note that in conjunction with `initial_epoch`,\n",
      " |              `epochs` is to be understood as \"final epoch\".\n",
      " |              The model is not trained for a number of iterations\n",
      " |              given by `epochs`, but merely until the epoch\n",
      " |              of index `epochs` is reached.\n",
      " |          verbose: Integer. 0, 1, or 2. Verbosity mode.\n",
      " |              0 = silent, 1 = progress bar, 2 = one line per epoch.\n",
      " |          callbacks: List of `keras.callbacks.Callback` instances.\n",
      " |              List of callbacks to apply during training.\n",
      " |              See [callbacks](/callbacks).\n",
      " |          validation_split: Float between 0 and 1.\n",
      " |              Fraction of the training data to be used as validation data.\n",
      " |              The model will set apart this fraction of the training data,\n",
      " |              will not train on it, and will evaluate\n",
      " |              the loss and any model metrics\n",
      " |              on this data at the end of each epoch.\n",
      " |              The validation data is selected from the last samples\n",
      " |              in the `x` and `y` data provided, before shuffling.\n",
      " |          validation_data: tuple `(x_val, y_val)` or tuple\n",
      " |              `(x_val, y_val, val_sample_weights)` on which to evaluate\n",
      " |              the loss and any model metrics at the end of each epoch.\n",
      " |              The model will not be trained on this data.\n",
      " |              `validation_data` will override `validation_split`.\n",
      " |          shuffle: Boolean (whether to shuffle the training data\n",
      " |              before each epoch) or str (for 'batch').\n",
      " |              'batch' is a special option for dealing with the\n",
      " |              limitations of HDF5 data; it shuffles in batch-sized chunks.\n",
      " |              Has no effect when `steps_per_epoch` is not `None`.\n",
      " |          class_weight: Optional dictionary mapping class indices (integers)\n",
      " |              to a weight (float) value, used for weighting the loss function\n",
      " |              (during training only).\n",
      " |              This can be useful to tell the model to\n",
      " |              \"pay more attention\" to samples from\n",
      " |              an under-represented class.\n",
      " |          sample_weight: Optional Numpy array of weights for\n",
      " |              the training samples, used for weighting the loss function\n",
      " |              (during training only). You can either pass a flat (1D)\n",
      " |              Numpy array with the same length as the input samples\n",
      " |              (1:1 mapping between weights and samples),\n",
      " |              or in the case of temporal data,\n",
      " |              you can pass a 2D array with shape\n",
      " |              `(samples, sequence_length)`,\n",
      " |              to apply a different weight to every timestep of every sample.\n",
      " |              In this case you should make sure to specify\n",
      " |              `sample_weight_mode=\"temporal\"` in `compile()`.\n",
      " |          initial_epoch: Integer.\n",
      " |              Epoch at which to start training\n",
      " |              (useful for resuming a previous training run).\n",
      " |          steps_per_epoch: Integer or `None`.\n",
      " |              Total number of steps (batches of samples)\n",
      " |              before declaring one epoch finished and starting the\n",
      " |              next epoch. When training with input tensors such as\n",
      " |              TensorFlow data tensors, the default `None` is equal to\n",
      " |              the number of samples in your dataset divided by\n",
      " |              the batch size, or 1 if that cannot be determined.\n",
      " |          validation_steps: Only relevant if `steps_per_epoch`\n",
      " |              is specified. Total number of steps (batches of samples)\n",
      " |              to validate before stopping.\n",
      " |      \n",
      " |      # Returns\n",
      " |          A `History` object. Its `History.history` attribute is\n",
      " |          a record of training loss values and metrics values\n",
      " |          at successive epochs, as well as validation loss values\n",
      " |          and validation metrics values (if applicable).\n",
      " |      \n",
      " |      # Raises\n",
      " |          RuntimeError: If the model was never compiled.\n",
      " |          ValueError: In case of mismatch between the provided input data\n",
      " |              and what the model expects.\n",
      " |  \n",
      " |  fit_generator(self, generator, steps_per_epoch=None, epochs=1, verbose=1, callbacks=None, validation_data=None, validation_steps=None, class_weight=None, max_queue_size=10, workers=1, use_multiprocessing=False, shuffle=True, initial_epoch=0)\n",
      " |      Trains the model on data generated batch-by-batch by a Python generator\n",
      " |      (or an instance of `Sequence`).\n",
      " |      \n",
      " |      The generator is run in parallel to the model, for efficiency.\n",
      " |      For instance, this allows you to do real-time data augmentation\n",
      " |      on images on CPU in parallel to training your model on GPU.\n",
      " |      \n",
      " |      The use of `keras.utils.Sequence` guarantees the ordering\n",
      " |      and guarantees the single use of every input per epoch when\n",
      " |      using `use_multiprocessing=True`.\n",
      " |      \n",
      " |      # Arguments\n",
      " |          generator: A generator or an instance of `Sequence`\n",
      " |              (`keras.utils.Sequence`) object in order to avoid\n",
      " |              duplicate data when using multiprocessing.\n",
      " |              The output of the generator must be either\n",
      " |              - a tuple `(inputs, targets)`\n",
      " |              - a tuple `(inputs, targets, sample_weights)`.\n",
      " |              This tuple (a single output of the generator) makes a single\n",
      " |              batch. Therefore, all arrays in this tuple must have the same\n",
      " |              length (equal to the size of this batch). Different batches may\n",
      " |              have different sizes. For example, the last batch of the epoch\n",
      " |              is commonly smaller than the others, if the size of the dataset\n",
      " |              is not divisible by the batch size.\n",
      " |              The generator is expected to loop over its data\n",
      " |              indefinitely. An epoch finishes when `steps_per_epoch`\n",
      " |              batches have been seen by the model.\n",
      " |          steps_per_epoch: Integer.\n",
      " |              Total number of steps (batches of samples)\n",
      " |              to yield from `generator` before declaring one epoch\n",
      " |              finished and starting the next epoch. It should typically\n",
      " |              be equal to the number of samples of your dataset\n",
      " |              divided by the batch size.\n",
      " |              Optional for `Sequence`: if unspecified, will use\n",
      " |              the `len(generator)` as a number of steps.\n",
      " |          epochs: Integer. Number of epochs to train the model.\n",
      " |              An epoch is an iteration over the entire data provided,\n",
      " |              as defined by `steps_per_epoch`.\n",
      " |              Note that in conjunction with `initial_epoch`,\n",
      " |              `epochs` is to be understood as \"final epoch\".\n",
      " |              The model is not trained for a number of iterations\n",
      " |              given by `epochs`, but merely until the epoch\n",
      " |              of index `epochs` is reached.\n",
      " |          verbose: Integer. 0, 1, or 2. Verbosity mode.\n",
      " |              0 = silent, 1 = progress bar, 2 = one line per epoch.\n",
      " |          callbacks: List of `keras.callbacks.Callback` instances.\n",
      " |              List of callbacks to apply during training.\n",
      " |              See [callbacks](/callbacks).\n",
      " |          validation_data: This can be either\n",
      " |              - a generator or a `Sequence` object for the validation data\n",
      " |              - tuple `(x_val, y_val)`\n",
      " |              - tuple `(x_val, y_val, val_sample_weights)`\n",
      " |              on which to evaluate\n",
      " |              the loss and any model metrics at the end of each epoch.\n",
      " |              The model will not be trained on this data.\n",
      " |          validation_steps: Only relevant if `validation_data`\n",
      " |              is a generator. Total number of steps (batches of samples)\n",
      " |              to yield from `validation_data` generator before stopping\n",
      " |              at the end of every epoch. It should typically\n",
      " |              be equal to the number of samples of your\n",
      " |              validation dataset divided by the batch size.\n",
      " |              Optional for `Sequence`: if unspecified, will use\n",
      " |              the `len(validation_data)` as a number of steps.\n",
      " |          class_weight: Optional dictionary mapping class indices (integers)\n",
      " |              to a weight (float) value, used for weighting the loss function\n",
      " |              (during training only). This can be useful to tell the model to\n",
      " |              \"pay more attention\" to samples\n",
      " |              from an under-represented class.\n",
      " |          max_queue_size: Integer. Maximum size for the generator queue.\n",
      " |              If unspecified, `max_queue_size` will default to 10.\n",
      " |          workers: Integer. Maximum number of processes to spin up\n",
      " |              when using process-based threading.\n",
      " |              If unspecified, `workers` will default to 1. If 0, will\n",
      " |              execute the generator on the main thread.\n",
      " |          use_multiprocessing: Boolean.\n",
      " |              If `True`, use process-based threading.\n",
      " |              If unspecified, `use_multiprocessing` will default to `False`.\n",
      " |              Note that because this implementation\n",
      " |              relies on multiprocessing,\n",
      " |              you should not pass non-picklable arguments to the generator\n",
      " |              as they can't be passed easily to children processes.\n",
      " |          shuffle: Boolean. Whether to shuffle the order of the batches at\n",
      " |              the beginning of each epoch. Only used with instances\n",
      " |              of `Sequence` (`keras.utils.Sequence`).\n",
      " |              Has no effect when `steps_per_epoch` is not `None`.\n",
      " |          initial_epoch: Integer.\n",
      " |              Epoch at which to start training\n",
      " |              (useful for resuming a previous training run).\n",
      " |      \n",
      " |      # Returns\n",
      " |          A `History` object. Its `History.history` attribute is\n",
      " |          a record of training loss values and metrics values\n",
      " |          at successive epochs, as well as validation loss values\n",
      " |          and validation metrics values (if applicable).\n",
      " |      \n",
      " |      # Raises\n",
      " |          ValueError: In case the generator yields data in an invalid format.\n",
      " |      \n",
      " |      # Example\n",
      " |      \n",
      " |      ```python\n",
      " |      def generate_arrays_from_file(path):\n",
      " |          while True:\n",
      " |              with open(path) as f:\n",
      " |                  for line in f:\n",
      " |                      # create numpy arrays of input data\n",
      " |                      # and labels, from each line in the file\n",
      " |                      x1, x2, y = process_line(line)\n",
      " |                      yield ({'input_1': x1, 'input_2': x2}, {'output': y})\n",
      " |      \n",
      " |      model.fit_generator(generate_arrays_from_file('/my_file.txt'),\n",
      " |                          steps_per_epoch=10000, epochs=10)\n",
      " |      ```\n",
      " |  \n",
      " |  predict(self, x, batch_size=None, verbose=0, steps=None)\n",
      " |      Generates output predictions for the input samples.\n",
      " |      \n",
      " |      Computation is done in batches.\n",
      " |      \n",
      " |      # Arguments\n",
      " |          x: The input data, as a Numpy array\n",
      " |              (or list of Numpy arrays if the model has multiple inputs).\n",
      " |          batch_size: Integer. If unspecified, it will default to 32.\n",
      " |          verbose: Verbosity mode, 0 or 1.\n",
      " |          steps: Total number of steps (batches of samples)\n",
      " |              before declaring the prediction round finished.\n",
      " |              Ignored with the default value of `None`.\n",
      " |      \n",
      " |      # Returns\n",
      " |          Numpy array(s) of predictions.\n",
      " |      \n",
      " |      # Raises\n",
      " |          ValueError: In case of mismatch between the provided\n",
      " |              input data and the model's expectations,\n",
      " |              or in case a stateful model receives a number of samples\n",
      " |              that is not a multiple of the batch size.\n",
      " |  \n",
      " |  predict_generator(self, generator, steps=None, max_queue_size=10, workers=1, use_multiprocessing=False, verbose=0)\n",
      " |      Generates predictions for the input samples from a data generator.\n",
      " |      \n",
      " |      The generator should return the same kind of data as accepted by\n",
      " |      `predict_on_batch`.\n",
      " |      \n",
      " |      # Arguments\n",
      " |          generator: Generator yielding batches of input samples\n",
      " |              or an instance of Sequence (keras.utils.Sequence)\n",
      " |              object in order to avoid duplicate data\n",
      " |              when using multiprocessing.\n",
      " |          steps: Total number of steps (batches of samples)\n",
      " |              to yield from `generator` before stopping.\n",
      " |              Optional for `Sequence`: if unspecified, will use\n",
      " |              the `len(generator)` as a number of steps.\n",
      " |          max_queue_size: Maximum size for the generator queue.\n",
      " |          workers: Integer. Maximum number of processes to spin up\n",
      " |              when using process based threading.\n",
      " |              If unspecified, `workers` will default to 1. If 0, will\n",
      " |              execute the generator on the main thread.\n",
      " |          use_multiprocessing: If `True`, use process based threading.\n",
      " |              Note that because\n",
      " |              this implementation relies on multiprocessing,\n",
      " |              you should not pass\n",
      " |              non picklable arguments to the generator\n",
      " |              as they can't be passed\n",
      " |              easily to children processes.\n",
      " |          verbose: verbosity mode, 0 or 1.\n",
      " |      \n",
      " |      # Returns\n",
      " |          Numpy array(s) of predictions.\n",
      " |      \n",
      " |      # Raises\n",
      " |          ValueError: In case the generator yields\n",
      " |              data in an invalid format.\n",
      " |  \n",
      " |  predict_on_batch(self, x)\n",
      " |      Returns predictions for a single batch of samples.\n",
      " |      \n",
      " |      # Arguments\n",
      " |          x: Input samples, as a Numpy array.\n",
      " |      \n",
      " |      # Returns\n",
      " |          Numpy array(s) of predictions.\n",
      " |  \n",
      " |  test_on_batch(self, x, y, sample_weight=None)\n",
      " |      Test the model on a single batch of samples.\n",
      " |      \n",
      " |      # Arguments\n",
      " |          x: Numpy array of test data,\n",
      " |              or list of Numpy arrays if the model has multiple inputs.\n",
      " |              If all inputs in the model are named,\n",
      " |              you can also pass a dictionary\n",
      " |              mapping input names to Numpy arrays.\n",
      " |          y: Numpy array of target data,\n",
      " |              or list of Numpy arrays if the model has multiple outputs.\n",
      " |              If all outputs in the model are named,\n",
      " |              you can also pass a dictionary\n",
      " |              mapping output names to Numpy arrays.\n",
      " |          sample_weight: Optional array of the same length as x, containing\n",
      " |              weights to apply to the model's loss for each sample.\n",
      " |              In the case of temporal data, you can pass a 2D array\n",
      " |              with shape (samples, sequence_length),\n",
      " |              to apply a different weight to every timestep of every sample.\n",
      " |              In this case you should make sure to specify\n",
      " |              sample_weight_mode=\"temporal\" in compile().\n",
      " |      \n",
      " |      # Returns\n",
      " |          Scalar test loss (if the model has a single output and no metrics)\n",
      " |          or list of scalars (if the model has multiple outputs\n",
      " |          and/or metrics). The attribute `model.metrics_names` will give you\n",
      " |          the display labels for the scalar outputs.\n",
      " |  \n",
      " |  train_on_batch(self, x, y, sample_weight=None, class_weight=None)\n",
      " |      Runs a single gradient update on a single batch of data.\n",
      " |      \n",
      " |      # Arguments\n",
      " |          x: Numpy array of training data,\n",
      " |              or list of Numpy arrays if the model has multiple inputs.\n",
      " |              If all inputs in the model are named,\n",
      " |              you can also pass a dictionary\n",
      " |              mapping input names to Numpy arrays.\n",
      " |          y: Numpy array of target data,\n",
      " |              or list of Numpy arrays if the model has multiple outputs.\n",
      " |              If all outputs in the model are named,\n",
      " |              you can also pass a dictionary\n",
      " |              mapping output names to Numpy arrays.\n",
      " |          sample_weight: Optional array of the same length as x, containing\n",
      " |              weights to apply to the model's loss for each sample.\n",
      " |              In the case of temporal data, you can pass a 2D array\n",
      " |              with shape (samples, sequence_length),\n",
      " |              to apply a different weight to every timestep of every sample.\n",
      " |              In this case you should make sure to specify\n",
      " |              sample_weight_mode=\"temporal\" in compile().\n",
      " |          class_weight: Optional dictionary mapping\n",
      " |              class indices (integers) to\n",
      " |              a weight (float) to apply to the model's loss for the samples\n",
      " |              from this class during training.\n",
      " |              This can be useful to tell the model to \"pay more attention\" to\n",
      " |              samples from an under-represented class.\n",
      " |      \n",
      " |      # Returns\n",
      " |          Scalar training loss\n",
      " |          (if the model has a single output and no metrics)\n",
      " |          or list of scalars (if the model has multiple outputs\n",
      " |          and/or metrics). The attribute `model.metrics_names` will give you\n",
      " |          the display labels for the scalar outputs.\n",
      " |  \n",
      " |  ----------------------------------------------------------------------\n",
      " |  Methods inherited from keras.engine.network.Network:\n",
      " |  \n",
      " |  __getstate__(self)\n",
      " |  \n",
      " |  __setattr__(self, name, value)\n",
      " |      Implement setattr(self, name, value).\n",
      " |  \n",
      " |  __setstate__(self, state)\n",
      " |  \n",
      " |  call(self, inputs, mask=None)\n",
      " |      Calls the model on new inputs.\n",
      " |      \n",
      " |      In this case `call` just reapplies\n",
      " |      all ops in the graph to the new inputs\n",
      " |      (e.g. build a new computational graph from the provided inputs).\n",
      " |      \n",
      " |      A model is callable on non-Keras tensors.\n",
      " |      \n",
      " |      # Arguments\n",
      " |          inputs: A tensor or list of tensors.\n",
      " |          mask: A mask or list of masks. A mask can be\n",
      " |              either a tensor or None (no mask).\n",
      " |      \n",
      " |      # Returns\n",
      " |          A tensor if there is a single output, or\n",
      " |          a list of tensors if there are more than one outputs.\n",
      " |  \n",
      " |  compute_mask(self, inputs, mask)\n",
      " |      Computes an output mask tensor.\n",
      " |      \n",
      " |      # Arguments\n",
      " |          inputs: Tensor or list of tensors.\n",
      " |          mask: Tensor or list of tensors.\n",
      " |      \n",
      " |      # Returns\n",
      " |          None or a tensor (or list of tensors,\n",
      " |              one per output tensor of the layer).\n",
      " |  \n",
      " |  compute_output_shape(self, input_shape)\n",
      " |      Computes the output shape of the layer.\n",
      " |      \n",
      " |      Assumes that the layer will be built\n",
      " |      to match that input shape provided.\n",
      " |      \n",
      " |      # Arguments\n",
      " |          input_shape: Shape tuple (tuple of integers)\n",
      " |              or list of shape tuples (one per output tensor of the layer).\n",
      " |              Shape tuples can include None for free dimensions,\n",
      " |              instead of an integer.\n",
      " |      \n",
      " |      # Returns\n",
      " |          An input shape tuple.\n",
      " |  \n",
      " |  get_layer(self, name=None, index=None)\n",
      " |      Retrieves a layer based on either its name (unique) or index.\n",
      " |      \n",
      " |      If `name` and `index` are both provided, `index` will take precedence.\n",
      " |      \n",
      " |      Indices are based on order of horizontal graph traversal (bottom-up).\n",
      " |      \n",
      " |      # Arguments\n",
      " |          name: String, name of layer.\n",
      " |          index: Integer, index of layer.\n",
      " |      \n",
      " |      # Returns\n",
      " |          A layer instance.\n",
      " |      \n",
      " |      # Raises\n",
      " |          ValueError: In case of invalid layer name or index.\n",
      " |  \n",
      " |  get_weights(self)\n",
      " |      Retrieves the weights of the model.\n",
      " |      \n",
      " |      # Returns\n",
      " |          A flat list of Numpy arrays.\n",
      " |  \n",
      " |  load_weights(self, filepath, by_name=False, skip_mismatch=False, reshape=False)\n",
      " |      Loads all layer weights from a HDF5 save file.\n",
      " |      \n",
      " |      If `by_name` is False (default) weights are loaded\n",
      " |      based on the network's topology, meaning the architecture\n",
      " |      should be the same as when the weights were saved.\n",
      " |      Note that layers that don't have weights are not taken\n",
      " |      into account in the topological ordering, so adding or\n",
      " |      removing layers is fine as long as they don't have weights.\n",
      " |      \n",
      " |      If `by_name` is True, weights are loaded into layers\n",
      " |      only if they share the same name. This is useful\n",
      " |      for fine-tuning or transfer-learning models where\n",
      " |      some of the layers have changed.\n",
      " |      \n",
      " |      # Arguments\n",
      " |          filepath: String, path to the weights file to load.\n",
      " |          by_name: Boolean, whether to load weights by name\n",
      " |              or by topological order.\n",
      " |          skip_mismatch: Boolean, whether to skip loading of layers\n",
      " |              where there is a mismatch in the number of weights,\n",
      " |              or a mismatch in the shape of the weight\n",
      " |              (only valid when `by_name`=True).\n",
      " |          reshape: Reshape weights to fit the layer when the correct number\n",
      " |              of weight arrays is present but their shape does not match.\n",
      " |      \n",
      " |      \n",
      " |      # Raises\n",
      " |          ImportError: If h5py is not available.\n",
      " |  \n",
      " |  reset_states(self)\n",
      " |  \n",
      " |  run_internal_graph(self, inputs, masks=None)\n",
      " |      Computes output tensors for new inputs.\n",
      " |      \n",
      " |      # Note:\n",
      " |          - Expects `inputs` to be a list (potentially with 1 element).\n",
      " |          - Can be run on non-Keras tensors.\n",
      " |      \n",
      " |      # Arguments\n",
      " |          inputs: List of tensors\n",
      " |          masks: List of masks (tensors or None).\n",
      " |      \n",
      " |      # Returns\n",
      " |          Three lists: output_tensors, output_masks, output_shapes\n",
      " |  \n",
      " |  save(self, filepath, overwrite=True, include_optimizer=True)\n",
      " |      Saves the model to a single HDF5 file.\n",
      " |      \n",
      " |      The savefile includes:\n",
      " |          - The model architecture, allowing to re-instantiate the model.\n",
      " |          - The model weights.\n",
      " |          - The state of the optimizer, allowing to resume training\n",
      " |              exactly where you left off.\n",
      " |      \n",
      " |      This allows you to save the entirety of the state of a model\n",
      " |      in a single file.\n",
      " |      \n",
      " |      Saved models can be reinstantiated via `keras.models.load_model`.\n",
      " |      The model returned by `load_model`\n",
      " |      is a compiled model ready to be used (unless the saved model\n",
      " |      was never compiled in the first place).\n",
      " |      \n",
      " |      # Arguments\n",
      " |          filepath: String, path to the file to save the weights to.\n",
      " |          overwrite: Whether to silently overwrite any existing file at the\n",
      " |              target location, or provide the user with a manual prompt.\n",
      " |          include_optimizer: If True, save optimizer's state together.\n",
      " |      \n",
      " |      # Example\n",
      " |      \n",
      " |      ```python\n",
      " |      from keras.models import load_model\n",
      " |      \n",
      " |      model.save('my_model.h5')  # creates a HDF5 file 'my_model.h5'\n",
      " |      del model  # deletes the existing model\n",
      " |      \n",
      " |      # returns a compiled model\n",
      " |      # identical to the previous one\n",
      " |      model = load_model('my_model.h5')\n",
      " |      ```\n",
      " |  \n",
      " |  save_weights(self, filepath, overwrite=True)\n",
      " |      Dumps all layer weights to a HDF5 file.\n",
      " |      \n",
      " |      The weight file has:\n",
      " |          - `layer_names` (attribute), a list of strings\n",
      " |              (ordered names of model layers).\n",
      " |          - For every layer, a `group` named `layer.name`\n",
      " |              - For every such layer group, a group attribute `weight_names`,\n",
      " |                  a list of strings\n",
      " |                  (ordered names of weights tensor of the layer).\n",
      " |              - For every weight in the layer, a dataset\n",
      " |                  storing the weight value, named after the weight tensor.\n",
      " |      \n",
      " |      # Arguments\n",
      " |          filepath: String, path to the file to save the weights to.\n",
      " |          overwrite: Whether to silently overwrite any existing file at the\n",
      " |              target location, or provide the user with a manual prompt.\n",
      " |      \n",
      " |      # Raises\n",
      " |          ImportError: If h5py is not available.\n",
      " |  \n",
      " |  set_weights(self, weights)\n",
      " |      Sets the weights of the model.\n",
      " |      \n",
      " |      # Arguments\n",
      " |          weights: A list of Numpy arrays with shapes and types matching\n",
      " |              the output of `model.get_weights()`.\n",
      " |  \n",
      " |  summary(self, line_length=None, positions=None, print_fn=None)\n",
      " |      Prints a string summary of the network.\n",
      " |      \n",
      " |      # Arguments\n",
      " |          line_length: Total length of printed lines\n",
      " |              (e.g. set this to adapt the display to different\n",
      " |              terminal window sizes).\n",
      " |          positions: Relative or absolute positions of log elements\n",
      " |              in each line. If not provided,\n",
      " |              defaults to `[.33, .55, .67, 1.]`.\n",
      " |          print_fn: Print function to use.\n",
      " |              It will be called on each line of the summary.\n",
      " |              You can set it to a custom function\n",
      " |              in order to capture the string summary.\n",
      " |              It defaults to `print` (prints to stdout).\n",
      " |  \n",
      " |  to_json(self, **kwargs)\n",
      " |      Returns a JSON string containing the network configuration.\n",
      " |      \n",
      " |      To load a network from a JSON save file, use\n",
      " |      `keras.models.model_from_json(json_string, custom_objects={})`.\n",
      " |      \n",
      " |      # Arguments\n",
      " |          **kwargs: Additional keyword arguments\n",
      " |              to be passed to `json.dumps()`.\n",
      " |      \n",
      " |      # Returns\n",
      " |          A JSON string.\n",
      " |  \n",
      " |  to_yaml(self, **kwargs)\n",
      " |      Returns a yaml string containing the network configuration.\n",
      " |      \n",
      " |      To load a network from a yaml save file, use\n",
      " |      `keras.models.model_from_yaml(yaml_string, custom_objects={})`.\n",
      " |      \n",
      " |      `custom_objects` should be a dictionary mapping\n",
      " |      the names of custom losses / layers / etc to the corresponding\n",
      " |      functions / classes.\n",
      " |      \n",
      " |      # Arguments\n",
      " |          **kwargs: Additional keyword arguments\n",
      " |              to be passed to `yaml.dump()`.\n",
      " |      \n",
      " |      # Returns\n",
      " |          A YAML string.\n",
      " |  \n",
      " |  ----------------------------------------------------------------------\n",
      " |  Data descriptors inherited from keras.engine.network.Network:\n",
      " |  \n",
      " |  input_spec\n",
      " |      Gets the model's input specs.\n",
      " |      \n",
      " |      # Returns\n",
      " |          A list of `InputSpec` instances (one per input to the model)\n",
      " |              or a single instance if the model has only one input.\n",
      " |  \n",
      " |  losses\n",
      " |      Retrieves the model's losses.\n",
      " |      \n",
      " |      Will only include losses that are either\n",
      " |      unconditional, or conditional on inputs to this model\n",
      " |      (e.g. will not include losses that depend on tensors\n",
      " |      that aren't inputs to this model).\n",
      " |      \n",
      " |      # Returns\n",
      " |          A list of loss tensors.\n",
      " |  \n",
      " |  non_trainable_weights\n",
      " |  \n",
      " |  state_updates\n",
      " |      Returns the `updates` from all layers that are stateful.\n",
      " |      \n",
      " |      This is useful for separating training updates and\n",
      " |      state updates, e.g. when we need to update a layer's internal state\n",
      " |      during prediction.\n",
      " |      \n",
      " |      # Returns\n",
      " |          A list of update ops.\n",
      " |  \n",
      " |  stateful\n",
      " |  \n",
      " |  trainable_weights\n",
      " |  \n",
      " |  updates\n",
      " |      Retrieves the model's updates.\n",
      " |      \n",
      " |      Will only include updates that are either\n",
      " |      unconditional, or conditional on inputs to this model\n",
      " |      (e.g. will not include updates that depend on tensors\n",
      " |      that aren't inputs to this model).\n",
      " |      \n",
      " |      # Returns\n",
      " |          A list of update ops.\n",
      " |  \n",
      " |  uses_learning_phase\n",
      " |  \n",
      " |  ----------------------------------------------------------------------\n",
      " |  Methods inherited from keras.engine.base_layer.Layer:\n",
      " |  \n",
      " |  __call__(self, inputs, **kwargs)\n",
      " |      Wrapper around self.call(), for handling internal references.\n",
      " |      \n",
      " |      If a Keras tensor is passed:\n",
      " |          - We call self._add_inbound_node().\n",
      " |          - If necessary, we `build` the layer to match\n",
      " |              the _keras_shape of the input(s).\n",
      " |          - We update the _keras_shape of every input tensor with\n",
      " |              its new shape (obtained via self.compute_output_shape).\n",
      " |              This is done as part of _add_inbound_node().\n",
      " |          - We update the _keras_history of the output tensor(s)\n",
      " |              with the current layer.\n",
      " |              This is done as part of _add_inbound_node().\n",
      " |      \n",
      " |      # Arguments\n",
      " |          inputs: Can be a tensor or list/tuple of tensors.\n",
      " |          **kwargs: Additional keyword arguments to be passed to `call()`.\n",
      " |      \n",
      " |      # Returns\n",
      " |          Output of the layer's `call` method.\n",
      " |      \n",
      " |      # Raises\n",
      " |          ValueError: in case the layer is missing shape information\n",
      " |              for its `build` call.\n",
      " |  \n",
      " |  add_loss(self, losses, inputs=None)\n",
      " |      Adds losses to the layer.\n",
      " |      \n",
      " |      The loss may potentially be conditional on some inputs tensors,\n",
      " |      for instance activity losses are conditional on the layer's inputs.\n",
      " |      \n",
      " |      # Arguments\n",
      " |          losses: loss tensor or list of loss tensors\n",
      " |              to add to the layer.\n",
      " |          inputs: input tensor or list of inputs tensors to mark\n",
      " |              the losses as conditional on these inputs.\n",
      " |              If None is passed, the loss is assumed unconditional\n",
      " |              (e.g. L2 weight regularization, which only depends\n",
      " |              on the layer's weights variables, not on any inputs tensors).\n",
      " |  \n",
      " |  add_update(self, updates, inputs=None)\n",
      " |      Adds updates to the layer.\n",
      " |      \n",
      " |      The updates may potentially be conditional on some inputs tensors,\n",
      " |      for instance batch norm updates are conditional on the layer's inputs.\n",
      " |      \n",
      " |      # Arguments\n",
      " |          updates: update op or list of update ops\n",
      " |              to add to the layer.\n",
      " |          inputs: input tensor or list of inputs tensors to mark\n",
      " |              the updates as conditional on these inputs.\n",
      " |              If None is passed, the updates are assumed unconditional.\n",
      " |  \n",
      " |  add_weight(self, name, shape, dtype=None, initializer=None, regularizer=None, trainable=True, constraint=None)\n",
      " |      Adds a weight variable to the layer.\n",
      " |      \n",
      " |      # Arguments\n",
      " |          name: String, the name for the weight variable.\n",
      " |          shape: The shape tuple of the weight.\n",
      " |          dtype: The dtype of the weight.\n",
      " |          initializer: An Initializer instance (callable).\n",
      " |          regularizer: An optional Regularizer instance.\n",
      " |          trainable: A boolean, whether the weight should\n",
      " |              be trained via backprop or not (assuming\n",
      " |              that the layer itself is also trainable).\n",
      " |          constraint: An optional Constraint instance.\n",
      " |      \n",
      " |      # Returns\n",
      " |          The created weight variable.\n",
      " |  \n",
      " |  assert_input_compatibility(self, inputs)\n",
      " |      Checks compatibility between the layer and provided inputs.\n",
      " |      \n",
      " |      This checks that the tensor(s) `input`\n",
      " |      verify the input assumptions of the layer\n",
      " |      (if any). If not, exceptions are raised.\n",
      " |      \n",
      " |      # Arguments\n",
      " |          inputs: input tensor or list of input tensors.\n",
      " |      \n",
      " |      # Raises\n",
      " |          ValueError: in case of mismatch between\n",
      " |              the provided inputs and the expectations of the layer.\n",
      " |  \n",
      " |  count_params(self)\n",
      " |      Counts the total number of scalars composing the weights.\n",
      " |      \n",
      " |      # Returns\n",
      " |          An integer count.\n",
      " |      \n",
      " |      # Raises\n",
      " |          RuntimeError: if the layer isn't yet built\n",
      " |              (in which case its weights aren't yet defined).\n",
      " |  \n",
      " |  get_input_at(self, node_index)\n",
      " |      Retrieves the input tensor(s) of a layer at a given node.\n",
      " |      \n",
      " |      # Arguments\n",
      " |          node_index: Integer, index of the node\n",
      " |              from which to retrieve the attribute.\n",
      " |              E.g. `node_index=0` will correspond to the\n",
      " |              first time the layer was called.\n",
      " |      \n",
      " |      # Returns\n",
      " |          A tensor (or list of tensors if the layer has multiple inputs).\n",
      " |  \n",
      " |  get_input_mask_at(self, node_index)\n",
      " |      Retrieves the input mask tensor(s) of a layer at a given node.\n",
      " |      \n",
      " |      # Arguments\n",
      " |          node_index: Integer, index of the node\n",
      " |              from which to retrieve the attribute.\n",
      " |              E.g. `node_index=0` will correspond to the\n",
      " |              first time the layer was called.\n",
      " |      \n",
      " |      # Returns\n",
      " |          A mask tensor\n",
      " |          (or list of tensors if the layer has multiple inputs).\n",
      " |  \n",
      " |  get_input_shape_at(self, node_index)\n",
      " |      Retrieves the input shape(s) of a layer at a given node.\n",
      " |      \n",
      " |      # Arguments\n",
      " |          node_index: Integer, index of the node\n",
      " |              from which to retrieve the attribute.\n",
      " |              E.g. `node_index=0` will correspond to the\n",
      " |              first time the layer was called.\n",
      " |      \n",
      " |      # Returns\n",
      " |          A shape tuple\n",
      " |          (or list of shape tuples if the layer has multiple inputs).\n",
      " |  \n",
      " |  get_losses_for(self, inputs)\n",
      " |  \n",
      " |  get_output_at(self, node_index)\n",
      " |      Retrieves the output tensor(s) of a layer at a given node.\n",
      " |      \n",
      " |      # Arguments\n",
      " |          node_index: Integer, index of the node\n",
      " |              from which to retrieve the attribute.\n",
      " |              E.g. `node_index=0` will correspond to the\n",
      " |              first time the layer was called.\n",
      " |      \n",
      " |      # Returns\n",
      " |          A tensor (or list of tensors if the layer has multiple outputs).\n",
      " |  \n",
      " |  get_output_mask_at(self, node_index)\n",
      " |      Retrieves the output mask tensor(s) of a layer at a given node.\n",
      " |      \n",
      " |      # Arguments\n",
      " |          node_index: Integer, index of the node\n",
      " |              from which to retrieve the attribute.\n",
      " |              E.g. `node_index=0` will correspond to the\n",
      " |              first time the layer was called.\n",
      " |      \n",
      " |      # Returns\n",
      " |          A mask tensor\n",
      " |          (or list of tensors if the layer has multiple outputs).\n",
      " |  \n",
      " |  get_output_shape_at(self, node_index)\n",
      " |      Retrieves the output shape(s) of a layer at a given node.\n",
      " |      \n",
      " |      # Arguments\n",
      " |          node_index: Integer, index of the node\n",
      " |              from which to retrieve the attribute.\n",
      " |              E.g. `node_index=0` will correspond to the\n",
      " |              first time the layer was called.\n",
      " |      \n",
      " |      # Returns\n",
      " |          A shape tuple\n",
      " |          (or list of shape tuples if the layer has multiple outputs).\n",
      " |  \n",
      " |  get_updates_for(self, inputs)\n",
      " |  \n",
      " |  ----------------------------------------------------------------------\n",
      " |  Data descriptors inherited from keras.engine.base_layer.Layer:\n",
      " |  \n",
      " |  __dict__\n",
      " |      dictionary for instance variables (if defined)\n",
      " |  \n",
      " |  __weakref__\n",
      " |      list of weak references to the object (if defined)\n",
      " |  \n",
      " |  built\n",
      " |  \n",
      " |  input\n",
      " |      Retrieves the input tensor(s) of a layer.\n",
      " |      \n",
      " |      Only applicable if the layer has exactly one inbound node,\n",
      " |      i.e. if it is connected to one incoming layer.\n",
      " |      \n",
      " |      # Returns\n",
      " |          Input tensor or list of input tensors.\n",
      " |      \n",
      " |      # Raises\n",
      " |          AttributeError: if the layer is connected to\n",
      " |          more than one incoming layers.\n",
      " |  \n",
      " |  input_mask\n",
      " |      Retrieves the input mask tensor(s) of a layer.\n",
      " |      \n",
      " |      Only applicable if the layer has exactly one inbound node,\n",
      " |      i.e. if it is connected to one incoming layer.\n",
      " |      \n",
      " |      # Returns\n",
      " |          Input mask tensor (potentially None) or list of input\n",
      " |          mask tensors.\n",
      " |      \n",
      " |      # Raises\n",
      " |          AttributeError: if the layer is connected to\n",
      " |          more than one incoming layers.\n",
      " |  \n",
      " |  input_shape\n",
      " |      Retrieves the input shape tuple(s) of a layer.\n",
      " |      \n",
      " |      Only applicable if the layer has exactly one inbound node,\n",
      " |      i.e. if it is connected to one incoming layer.\n",
      " |      \n",
      " |      # Returns\n",
      " |          Input shape tuple\n",
      " |          (or list of input shape tuples, one tuple per input tensor).\n",
      " |      \n",
      " |      # Raises\n",
      " |          AttributeError: if the layer is connected to\n",
      " |          more than one incoming layers.\n",
      " |  \n",
      " |  output\n",
      " |      Retrieves the output tensor(s) of a layer.\n",
      " |      \n",
      " |      Only applicable if the layer has exactly one inbound node,\n",
      " |      i.e. if it is connected to one incoming layer.\n",
      " |      \n",
      " |      # Returns\n",
      " |          Output tensor or list of output tensors.\n",
      " |      \n",
      " |      # Raises\n",
      " |          AttributeError: if the layer is connected to\n",
      " |          more than one incoming layers.\n",
      " |  \n",
      " |  output_mask\n",
      " |      Retrieves the output mask tensor(s) of a layer.\n",
      " |      \n",
      " |      Only applicable if the layer has exactly one inbound node,\n",
      " |      i.e. if it is connected to one incoming layer.\n",
      " |      \n",
      " |      # Returns\n",
      " |          Output mask tensor (potentially None) or list of output\n",
      " |          mask tensors.\n",
      " |      \n",
      " |      # Raises\n",
      " |          AttributeError: if the layer is connected to\n",
      " |          more than one incoming layers.\n",
      " |  \n",
      " |  output_shape\n",
      " |      Retrieves the output shape tuple(s) of a layer.\n",
      " |      \n",
      " |      Only applicable if the layer has one inbound node,\n",
      " |      or if all inbound nodes have the same output shape.\n",
      " |      \n",
      " |      # Returns\n",
      " |          Output shape tuple\n",
      " |          (or list of input shape tuples, one tuple per output tensor).\n",
      " |      \n",
      " |      # Raises\n",
      " |          AttributeError: if the layer is connected to\n",
      " |          more than one incoming layers.\n",
      " |  \n",
      " |  weights\n"
     ]
    },
    {
     "name": "stdout",
     "output_type": "stream",
     "text": [
      "\n"
     ]
    }
   ],
   "source": [
    "help(Sequential)"
   ]
  },
  {
   "cell_type": "code",
   "execution_count": 3,
   "metadata": {},
   "outputs": [
    {
     "name": "stdout",
     "output_type": "stream",
     "text": [
      "WARNING:tensorflow:From c:\\users\\lin\\appdata\\local\\programs\\python\\python37\\lib\\site-packages\\tensorflow\\python\\framework\\op_def_library.py:263: colocate_with (from tensorflow.python.framework.ops) is deprecated and will be removed in a future version.\n",
      "Instructions for updating:\n",
      "Colocations handled automatically by placer.\n"
     ]
    }
   ],
   "source": [
    "# Создадим модель с помощью класса Sequential (только для линейного стека слоев)\n",
    "\n",
    "model_1 = Sequential()\n",
    "model_1.add(Dense(50, activation = \"sigmoid\", input_shape = [1]))\n",
    "model_1.add(Dense(1)) # activation = \"linear\"\n",
    "\n",
    "model_1.compile(optimizer = \"SGD\", loss = \"mse\", metrics = [\"mae\"])"
   ]
  },
  {
   "cell_type": "code",
   "execution_count": 90,
   "metadata": {},
   "outputs": [],
   "source": [
    "# А вот та же модель но с применением функционального API (позволяет конструировать произвольные архитектуры сетей, \n",
    "#                                                                                           не только полносвязные)\n",
    "\n",
    "input_tensor = layers.Input(shape = (1,))\n",
    "x = layers.Dense(50, activation = \"sigmoid\")(input_tensor)\n",
    "output_tensor = layers.Dense(1, activation = \"linear\")(x)\n",
    "model_2 = models.Model(inputs = input_tensor, outputs = output_tensor)\n",
    "\n",
    "model_2.compile(optimizer = \"SGD\", loss = \"mse\", metrics = [\"mae\"], lr = 0.0025)"
   ]
  },
  {
   "cell_type": "code",
   "execution_count": 91,
   "metadata": {},
   "outputs": [
    {
     "name": "stdout",
     "output_type": "stream",
     "text": [
      "(1,)\n"
     ]
    }
   ],
   "source": [
    "# почему shape = (1,) в input_tensor\n",
    "\n",
    "x = np.array([1])\n",
    "print(x.shape)"
   ]
  },
  {
   "cell_type": "code",
   "execution_count": 92,
   "metadata": {},
   "outputs": [
    {
     "data": {
      "text/plain": [
       "<matplotlib.legend.Legend at 0x21e9afc75c0>"
      ]
     },
     "execution_count": 92,
     "metadata": {},
     "output_type": "execute_result"
    },
    {
     "data": {
      "image/png": "[encoded data removed]",
      "text/plain": [
       "<Figure size 432x288 with 1 Axes>"
      ]
     },
     "metadata": {
      "needs_background": "light"
     },
     "output_type": "display_data"
    }
   ],
   "source": [
    "# Вдруг здесь работает без обучения?\n",
    "\n",
    "plt.plot(x_train, y_train, 'o', label = 'training')\n",
    "plt.plot(x_train, model_1.predict(x_train), \"o\", label = 'predicted')\n",
    "plt.legend()"
   ]
  },
  {
   "cell_type": "code",
   "execution_count": 93,
   "metadata": {
    "scrolled": true
   },
   "outputs": [
    {
     "name": "stdout",
     "output_type": "stream",
     "text": [
      "Epoch 1/500\n",
      "500/500 [==============================] - ETA: 1:21 - loss: 1.4728 - mean_absolute_error: 1.213 - ETA: 1s - loss: 0.6045 - mean_absolute_error: 0.6543  - ETA: 0s - loss: 0.6798 - mean_absolute_error: 0.701 - ETA: 0s - loss: 0.6752 - mean_absolute_error: 0.705 - ETA: 0s - loss: 0.6479 - mean_absolute_error: 0.687 - ETA: 0s - loss: 0.6348 - mean_absolute_error: 0.679 - ETA: 0s - loss: 0.6094 - mean_absolute_error: 0.658 - ETA: 0s - loss: 0.6013 - mean_absolute_error: 0.653 - ETA: 0s - loss: 0.5890 - mean_absolute_error: 0.644 - 1s 1ms/step - loss: 0.5874 - mean_absolute_error: 0.6408\n",
      "Epoch 2/500\n",
      "500/500 [==============================] - ETA: 0s - loss: 0.0063 - mean_absolute_error: 0.079 - ETA: 0s - loss: 0.5174 - mean_absolute_error: 0.603 - ETA: 0s - loss: 0.5079 - mean_absolute_error: 0.583 - ETA: 0s - loss: 0.5140 - mean_absolute_error: 0.595 - ETA: 0s - loss: 0.4694 - mean_absolute_error: 0.562 - ETA: 0s - loss: 0.4800 - mean_absolute_error: 0.574 - ETA: 0s - loss: 0.4921 - mean_absolute_error: 0.584 - ETA: 0s - loss: 0.5135 - mean_absolute_error: 0.601 - ETA: 0s - loss: 0.5105 - mean_absolute_error: 0.600 - 0s 845us/step - loss: 0.5156 - mean_absolute_error: 0.6033\n",
      "Epoch 3/500\n",
      "500/500 [==============================] - ETA: 0s - loss: 2.4946 - mean_absolute_error: 1.579 - ETA: 0s - loss: 0.5972 - mean_absolute_error: 0.624 - ETA: 0s - loss: 0.5916 - mean_absolute_error: 0.639 - ETA: 0s - loss: 0.6070 - mean_absolute_error: 0.640 - ETA: 0s - loss: 0.5435 - mean_absolute_error: 0.604 - ETA: 0s - loss: 0.5463 - mean_absolute_error: 0.612 - ETA: 0s - loss: 0.5506 - mean_absolute_error: 0.617 - ETA: 0s - loss: 0.5417 - mean_absolute_error: 0.612 - ETA: 0s - loss: 0.5465 - mean_absolute_error: 0.611 - ETA: 0s - loss: 0.5478 - mean_absolute_error: 0.610 - 0s 986us/step - loss: 0.5525 - mean_absolute_error: 0.6151\n",
      "Epoch 4/500\n",
      "500/500 [==============================] - ETA: 1s - loss: 1.3640 - mean_absolute_error: 1.167 - ETA: 0s - loss: 0.4923 - mean_absolute_error: 0.588 - ETA: 0s - loss: 0.4835 - mean_absolute_error: 0.593 - ETA: 0s - loss: 0.4595 - mean_absolute_error: 0.577 - ETA: 0s - loss: 0.4427 - mean_absolute_error: 0.564 - ETA: 0s - loss: 0.4790 - mean_absolute_error: 0.585 - ETA: 0s - loss: 0.4940 - mean_absolute_error: 0.594 - ETA: 0s - loss: 0.5061 - mean_absolute_error: 0.603 - ETA: 0s - loss: 0.5237 - mean_absolute_error: 0.612 - 0s 846us/step - loss: 0.5251 - mean_absolute_error: 0.6129\n",
      "Epoch 5/500\n",
      "500/500 [==============================] - ETA: 0s - loss: 0.1843 - mean_absolute_error: 0.429 - ETA: 0s - loss: 0.3895 - mean_absolute_error: 0.513 - ETA: 0s - loss: 0.4732 - mean_absolute_error: 0.572 - ETA: 0s - loss: 0.5018 - mean_absolute_error: 0.591 - ETA: 0s - loss: 0.4932 - mean_absolute_error: 0.585 - ETA: 0s - loss: 0.4979 - mean_absolute_error: 0.592 - ETA: 0s - loss: 0.5166 - mean_absolute_error: 0.604 - ETA: 0s - loss: 0.5246 - mean_absolute_error: 0.612 - ETA: 0s - loss: 0.5303 - mean_absolute_error: 0.617 - ETA: 0s - loss: 0.5211 - mean_absolute_error: 0.610 - 0s 944us/step - loss: 0.5248 - mean_absolute_error: 0.6136\n",
      "Epoch 6/500\n",
      "500/500 [==============================] - ETA: 0s - loss: 0.0076 - mean_absolute_error: 0.087 - ETA: 0s - loss: 0.5282 - mean_absolute_error: 0.610 - ETA: 0s - loss: 0.5570 - mean_absolute_error: 0.626 - ETA: 0s - loss: 0.5708 - mean_absolute_error: 0.632 - ETA: 0s - loss: 0.5615 - mean_absolute_error: 0.631 - ETA: 0s - loss: 0.5356 - mean_absolute_error: 0.617 - ETA: 0s - loss: 0.5139 - mean_absolute_error: 0.603 - ETA: 0s - loss: 0.5039 - mean_absolute_error: 0.595 - ETA: 0s - loss: 0.5184 - mean_absolute_error: 0.606 - 0s 887us/step - loss: 0.5199 - mean_absolute_error: 0.6091\n",
      "Epoch 7/500\n",
      "500/500 [==============================] - ETA: 2s - loss: 0.5524 - mean_absolute_error: 0.743 - ETA: 0s - loss: 0.3900 - mean_absolute_error: 0.538 - ETA: 0s - loss: 0.4142 - mean_absolute_error: 0.550 - ETA: 0s - loss: 0.4328 - mean_absolute_error: 0.558 - ETA: 0s - loss: 0.4330 - mean_absolute_error: 0.562 - ETA: 0s - loss: 0.4376 - mean_absolute_error: 0.568 - ETA: 0s - loss: 0.4592 - mean_absolute_error: 0.580 - ETA: 0s - loss: 0.4806 - mean_absolute_error: 0.595 - ETA: 0s - loss: 0.4940 - mean_absolute_error: 0.601 - ETA: 0s - loss: 0.4971 - mean_absolute_error: 0.599 - 1s 1ms/step - loss: 0.5090 - mean_absolute_error: 0.6081\n",
      "Epoch 8/500\n",
      "500/500 [==============================] - ETA: 0s - loss: 0.0306 - mean_absolute_error: 0.174 - ETA: 0s - loss: 0.3400 - mean_absolute_error: 0.482 - ETA: 0s - loss: 0.4517 - mean_absolute_error: 0.545 - ETA: 0s - loss: 0.4910 - mean_absolute_error: 0.578 - ETA: 0s - loss: 0.4972 - mean_absolute_error: 0.592 - ETA: 0s - loss: 0.4988 - mean_absolute_error: 0.595 - ETA: 0s - loss: 0.4849 - mean_absolute_error: 0.588 - ETA: 0s - loss: 0.5010 - mean_absolute_error: 0.598 - ETA: 0s - loss: 0.5207 - mean_absolute_error: 0.615 - ETA: 0s - loss: 0.5128 - mean_absolute_error: 0.609 - ETA: 0s - loss: 0.5091 - mean_absolute_error: 0.608 - 1s 1ms/step - loss: 0.5043 - mean_absolute_error: 0.6043\n",
      "Epoch 9/500\n",
      "500/500 [==============================] - ETA: 0s - loss: 0.8979 - mean_absolute_error: 0.947 - ETA: 0s - loss: 0.6087 - mean_absolute_error: 0.678 - ETA: 0s - loss: 0.5180 - mean_absolute_error: 0.616 - ETA: 0s - loss: 0.5484 - mean_absolute_error: 0.631 - ETA: 0s - loss: 0.5651 - mean_absolute_error: 0.644 - ETA: 0s - loss: 0.5402 - mean_absolute_error: 0.624 - ETA: 0s - loss: 0.5280 - mean_absolute_error: 0.619 - ETA: 0s - loss: 0.5230 - mean_absolute_error: 0.613 - ETA: 0s - loss: 0.5235 - mean_absolute_error: 0.616 - ETA: 0s - loss: 0.5179 - mean_absolute_error: 0.613 - 1s 1ms/step - loss: 0.5015 - mean_absolute_error: 0.6019\n",
      "Epoch 10/500\n",
      "500/500 [==============================] - ETA: 0s - loss: 0.0484 - mean_absolute_error: 0.220 - ETA: 0s - loss: 0.4677 - mean_absolute_error: 0.575 - ETA: 0s - loss: 0.4586 - mean_absolute_error: 0.580 - ETA: 0s - loss: 0.4632 - mean_absolute_error: 0.583 - ETA: 0s - loss: 0.4754 - mean_absolute_error: 0.589 - ETA: 0s - loss: 0.4925 - mean_absolute_error: 0.599 - ETA: 0s - loss: 0.4805 - mean_absolute_error: 0.591 - ETA: 0s - loss: 0.4869 - mean_absolute_error: 0.594 - ETA: 0s - loss: 0.4923 - mean_absolute_error: 0.596 - ETA: 0s - loss: 0.4909 - mean_absolute_error: 0.596 - 0s 949us/step - loss: 0.4904 - mean_absolute_error: 0.5958\n",
      "Epoch 11/500\n",
      "500/500 [==============================] - ETA: 0s - loss: 0.0030 - mean_absolute_error: 0.054 - ETA: 0s - loss: 0.4734 - mean_absolute_error: 0.593 - ETA: 0s - loss: 0.4530 - mean_absolute_error: 0.570 - ETA: 0s - loss: 0.4592 - mean_absolute_error: 0.573 - ETA: 0s - loss: 0.4983 - mean_absolute_error: 0.603 - ETA: 0s - loss: 0.4817 - mean_absolute_error: 0.592 - ETA: 0s - loss: 0.4931 - mean_absolute_error: 0.598 - ETA: 0s - loss: 0.4898 - mean_absolute_error: 0.599 - ETA: 0s - loss: 0.4795 - mean_absolute_error: 0.588 - ETA: 0s - loss: 0.4837 - mean_absolute_error: 0.591 - 0s 992us/step - loss: 0.4917 - mean_absolute_error: 0.5969\n",
      "Epoch 12/500\n",
      "500/500 [==============================] - ETA: 0s - loss: 0.3207 - mean_absolute_error: 0.566 - ETA: 0s - loss: 0.4989 - mean_absolute_error: 0.620 - ETA: 0s - loss: 0.4435 - mean_absolute_error: 0.578 - ETA: 0s - loss: 0.4485 - mean_absolute_error: 0.565 - ETA: 0s - loss: 0.4502 - mean_absolute_error: 0.569 - ETA: 0s - loss: 0.4510 - mean_absolute_error: 0.569 - ETA: 0s - loss: 0.4695 - mean_absolute_error: 0.577 - ETA: 0s - loss: 0.4740 - mean_absolute_error: 0.581 - ETA: 0s - loss: 0.4698 - mean_absolute_error: 0.576 - ETA: 0s - loss: 0.4868 - mean_absolute_error: 0.588 - ETA: 0s - loss: 0.4962 - mean_absolute_error: 0.597 - 1s 1ms/step - loss: 0.4942 - mean_absolute_error: 0.5957\n",
      "Epoch 13/500\n",
      "500/500 [==============================] - ETA: 0s - loss: 4.9042e-04 - mean_absolute_error: 0.022 - ETA: 0s - loss: 0.4743 - mean_absolute_error: 0.5912    - ETA: 0s - loss: 0.4882 - mean_absolute_error: 0.605 - ETA: 0s - loss: 0.5066 - mean_absolute_error: 0.610 - ETA: 0s - loss: 0.5059 - mean_absolute_error: 0.614 - ETA: 0s - loss: 0.5149 - mean_absolute_error: 0.617 - ETA: 0s - loss: 0.5115 - mean_absolute_error: 0.610 - ETA: 0s - loss: 0.4899 - mean_absolute_error: 0.596 - ETA: 0s - loss: 0.4967 - mean_absolute_error: 0.599 - ETA: 0s - loss: 0.4874 - mean_absolute_error: 0.589 - 0s 975us/step - loss: 0.4919 - mean_absolute_error: 0.5946\n",
      "Epoch 14/500\n",
      "500/500 [==============================] - ETA: 0s - loss: 0.7513 - mean_absolute_error: 0.866 - ETA: 0s - loss: 0.5201 - mean_absolute_error: 0.616 - ETA: 0s - loss: 0.5024 - mean_absolute_error: 0.603 - ETA: 0s - loss: 0.5164 - mean_absolute_error: 0.609 - ETA: 0s - loss: 0.5248 - mean_absolute_error: 0.618 - ETA: 0s - loss: 0.5086 - mean_absolute_error: 0.607 - ETA: 0s - loss: 0.5328 - mean_absolute_error: 0.627 - ETA: 0s - loss: 0.5277 - mean_absolute_error: 0.625 - ETA: 0s - loss: 0.5075 - mean_absolute_error: 0.607 - ETA: 0s - loss: 0.5007 - mean_absolute_error: 0.604 - ETA: 0s - loss: 0.4905 - mean_absolute_error: 0.596 - ETA: 0s - loss: 0.4833 - mean_absolute_error: 0.591 - ETA: 0s - loss: 0.4889 - mean_absolute_error: 0.597 - 1s 1ms/step - loss: 0.4849 - mean_absolute_error: 0.5948\n",
      "Epoch 15/500\n",
      "500/500 [==============================] - ETA: 0s - loss: 0.7407 - mean_absolute_error: 0.860 - ETA: 0s - loss: 0.5110 - mean_absolute_error: 0.601 - ETA: 0s - loss: 0.5168 - mean_absolute_error: 0.601 - ETA: 0s - loss: 0.4584 - mean_absolute_error: 0.554 - ETA: 0s - loss: 0.4515 - mean_absolute_error: 0.548 - ETA: 0s - loss: 0.4711 - mean_absolute_error: 0.568 - ETA: 0s - loss: 0.4802 - mean_absolute_error: 0.577 - ETA: 0s - loss: 0.4830 - mean_absolute_error: 0.582 - ETA: 0s - loss: 0.4801 - mean_absolute_error: 0.579 - ETA: 0s - loss: 0.4818 - mean_absolute_error: 0.583 - ETA: 0s - loss: 0.4854 - mean_absolute_error: 0.585 - 1s 1ms/step - loss: 0.4845 - mean_absolute_error: 0.5855\n",
      "Epoch 16/500\n",
      "500/500 [==============================] - ETA: 0s - loss: 0.4292 - mean_absolute_error: 0.655 - ETA: 0s - loss: 0.4811 - mean_absolute_error: 0.594 - ETA: 0s - loss: 0.4841 - mean_absolute_error: 0.592 - ETA: 0s - loss: 0.4637 - mean_absolute_error: 0.578 - ETA: 0s - loss: 0.4576 - mean_absolute_error: 0.573 - ETA: 0s - loss: 0.4794 - mean_absolute_error: 0.590 - ETA: 0s - loss: 0.4817 - mean_absolute_error: 0.592 - ETA: 0s - loss: 0.4687 - mean_absolute_error: 0.576 - ETA: 0s - loss: 0.4600 - mean_absolute_error: 0.570 - ETA: 0s - loss: 0.4861 - mean_absolute_error: 0.591 - ETA: 0s - loss: 0.4756 - mean_absolute_error: 0.584 - ETA: 0s - loss: 0.4834 - mean_absolute_error: 0.590 - 1s 1ms/step - loss: 0.4882 - mean_absolute_error: 0.5950\n",
      "Epoch 17/500\n",
      "500/500 [==============================] - ETA: 0s - loss: 1.2836 - mean_absolute_error: 1.132 - ETA: 0s - loss: 0.3896 - mean_absolute_error: 0.519 - ETA: 0s - loss: 0.4092 - mean_absolute_error: 0.546 - ETA: 0s - loss: 0.4161 - mean_absolute_error: 0.542 - ETA: 0s - loss: 0.4258 - mean_absolute_error: 0.549 - ETA: 0s - loss: 0.4405 - mean_absolute_error: 0.558 - ETA: 0s - loss: 0.4613 - mean_absolute_error: 0.570 - ETA: 0s - loss: 0.4541 - mean_absolute_error: 0.567 - ETA: 0s - loss: 0.4687 - mean_absolute_error: 0.577 - ETA: 0s - loss: 0.4810 - mean_absolute_error: 0.585 - ETA: 0s - loss: 0.4780 - mean_absolute_error: 0.584 - 1s 1ms/step - loss: 0.4812 - mean_absolute_error: 0.5877\n",
      "Epoch 18/500\n",
      "500/500 [==============================] - ETA: 0s - loss: 1.7200 - mean_absolute_error: 1.311 - ETA: 0s - loss: 0.5363 - mean_absolute_error: 0.621 - ETA: 0s - loss: 0.5270 - mean_absolute_error: 0.615 - ETA: 0s - loss: 0.4800 - mean_absolute_error: 0.577 - ETA: 0s - loss: 0.4718 - mean_absolute_error: 0.574 - ETA: 0s - loss: 0.4832 - mean_absolute_error: 0.589 - ETA: 0s - loss: 0.4793 - mean_absolute_error: 0.590 - ETA: 0s - loss: 0.4780 - mean_absolute_error: 0.587 - ETA: 0s - loss: 0.4857 - mean_absolute_error: 0.593 - ETA: 0s - loss: 0.4995 - mean_absolute_error: 0.600 - 1s 1ms/step - loss: 0.4891 - mean_absolute_error: 0.5929\n",
      "Epoch 19/500\n",
      "500/500 [==============================] - ETA: 0s - loss: 0.2955 - mean_absolute_error: 0.543 - ETA: 0s - loss: 0.5017 - mean_absolute_error: 0.638 - ETA: 0s - loss: 0.4430 - mean_absolute_error: 0.579 - ETA: 0s - loss: 0.4805 - mean_absolute_error: 0.601 - ETA: 0s - loss: 0.4724 - mean_absolute_error: 0.591 - ETA: 0s - loss: 0.4718 - mean_absolute_error: 0.585 - ETA: 0s - loss: 0.4814 - mean_absolute_error: 0.591 - ETA: 0s - loss: 0.4776 - mean_absolute_error: 0.591 - ETA: 0s - loss: 0.4803 - mean_absolute_error: 0.591 - ETA: 0s - loss: 0.4842 - mean_absolute_error: 0.595 - ETA: 0s - loss: 0.4734 - mean_absolute_error: 0.586 - 1s 1ms/step - loss: 0.4766 - mean_absolute_error: 0.5888\n",
      "Epoch 20/500\n",
      "500/500 [==============================] - ETA: 0s - loss: 0.2773 - mean_absolute_error: 0.526 - ETA: 0s - loss: 0.5048 - mean_absolute_error: 0.603 - ETA: 0s - loss: 0.4725 - mean_absolute_error: 0.587 - ETA: 0s - loss: 0.5173 - mean_absolute_error: 0.616 - ETA: 0s - loss: 0.5068 - mean_absolute_error: 0.609 - ETA: 0s - loss: 0.4960 - mean_absolute_error: 0.594 - ETA: 0s - loss: 0.4984 - mean_absolute_error: 0.595 - ETA: 0s - loss: 0.4940 - mean_absolute_error: 0.596 - ETA: 0s - loss: 0.4871 - mean_absolute_error: 0.592 - ETA: 0s - loss: 0.4802 - mean_absolute_error: 0.588 - ETA: 0s - loss: 0.4873 - mean_absolute_error: 0.594 - ETA: 0s - loss: 0.4883 - mean_absolute_error: 0.595 - 1s 1ms/step - loss: 0.4865 - mean_absolute_error: 0.5948\n",
      "Epoch 21/500\n",
      "500/500 [==============================] - ETA: 0s - loss: 0.9553 - mean_absolute_error: 0.977 - ETA: 0s - loss: 0.5216 - mean_absolute_error: 0.626 - ETA: 0s - loss: 0.4643 - mean_absolute_error: 0.592 - ETA: 0s - loss: 0.4569 - mean_absolute_error: 0.578 - ETA: 0s - loss: 0.4463 - mean_absolute_error: 0.573 - ETA: 0s - loss: 0.4761 - mean_absolute_error: 0.594 - ETA: 0s - loss: 0.4770 - mean_absolute_error: 0.588 - ETA: 0s - loss: 0.4856 - mean_absolute_error: 0.593 - ETA: 0s - loss: 0.4808 - mean_absolute_error: 0.590 - ETA: 0s - loss: 0.4756 - mean_absolute_error: 0.586 - 1s 1ms/step - loss: 0.4809 - mean_absolute_error: 0.5904\n",
      "Epoch 22/500\n",
      "500/500 [==============================] - ETA: 0s - loss: 0.1225 - mean_absolute_error: 0.350 - ETA: 0s - loss: 0.4930 - mean_absolute_error: 0.579 - ETA: 0s - loss: 0.4524 - mean_absolute_error: 0.556 - ETA: 0s - loss: 0.4724 - mean_absolute_error: 0.573 - ETA: 0s - loss: 0.5053 - mean_absolute_error: 0.600 - ETA: 0s - loss: 0.5010 - mean_absolute_error: 0.603 - ETA: 0s - loss: 0.4737 - mean_absolute_error: 0.583 - ETA: 0s - loss: 0.4714 - mean_absolute_error: 0.581 - ETA: 0s - loss: 0.4727 - mean_absolute_error: 0.583 - 0s 863us/step - loss: 0.4778 - mean_absolute_error: 0.5861\n",
      "Epoch 23/500\n",
      "500/500 [==============================] - ETA: 0s - loss: 0.7103 - mean_absolute_error: 0.842 - ETA: 0s - loss: 0.4780 - mean_absolute_error: 0.620 - ETA: 0s - loss: 0.4616 - mean_absolute_error: 0.587 - ETA: 0s - loss: 0.4566 - mean_absolute_error: 0.583 - ETA: 0s - loss: 0.4573 - mean_absolute_error: 0.587 - ETA: 0s - loss: 0.4637 - mean_absolute_error: 0.590 - ETA: 0s - loss: 0.4850 - mean_absolute_error: 0.603 - ETA: 0s - loss: 0.5005 - mean_absolute_error: 0.610 - ETA: 0s - loss: 0.4956 - mean_absolute_error: 0.608 - ETA: 0s - loss: 0.4894 - mean_absolute_error: 0.603 - 0s 970us/step - loss: 0.4837 - mean_absolute_error: 0.6001\n",
      "Epoch 24/500\n"
     ]
    },
    {
     "name": "stdout",
     "output_type": "stream",
     "text": [
      "500/500 [==============================] - ETA: 0s - loss: 0.0178 - mean_absolute_error: 0.133 - ETA: 0s - loss: 0.5628 - mean_absolute_error: 0.654 - ETA: 0s - loss: 0.4917 - mean_absolute_error: 0.601 - ETA: 0s - loss: 0.4477 - mean_absolute_error: 0.562 - ETA: 0s - loss: 0.4790 - mean_absolute_error: 0.592 - ETA: 0s - loss: 0.4677 - mean_absolute_error: 0.584 - ETA: 0s - loss: 0.4658 - mean_absolute_error: 0.581 - ETA: 0s - loss: 0.4903 - mean_absolute_error: 0.598 - ETA: 0s - loss: 0.4869 - mean_absolute_error: 0.595 - 0s 877us/step - loss: 0.4911 - mean_absolute_error: 0.5994\n",
      "Epoch 25/500\n",
      "500/500 [==============================] - ETA: 0s - loss: 0.2843 - mean_absolute_error: 0.533 - ETA: 0s - loss: 0.5025 - mean_absolute_error: 0.584 - ETA: 0s - loss: 0.5593 - mean_absolute_error: 0.643 - ETA: 0s - loss: 0.4980 - mean_absolute_error: 0.599 - ETA: 0s - loss: 0.4775 - mean_absolute_error: 0.582 - ETA: 0s - loss: 0.4791 - mean_absolute_error: 0.586 - ETA: 0s - loss: 0.4797 - mean_absolute_error: 0.587 - ETA: 0s - loss: 0.4879 - mean_absolute_error: 0.596 - ETA: 0s - loss: 0.4849 - mean_absolute_error: 0.593 - ETA: 0s - loss: 0.4790 - mean_absolute_error: 0.590 - 0s 947us/step - loss: 0.4772 - mean_absolute_error: 0.5899\n",
      "Epoch 26/500\n",
      "500/500 [==============================] - ETA: 0s - loss: 0.9455 - mean_absolute_error: 0.972 - ETA: 0s - loss: 0.5736 - mean_absolute_error: 0.617 - ETA: 0s - loss: 0.5134 - mean_absolute_error: 0.592 - ETA: 0s - loss: 0.4694 - mean_absolute_error: 0.570 - ETA: 0s - loss: 0.4940 - mean_absolute_error: 0.592 - ETA: 0s - loss: 0.4888 - mean_absolute_error: 0.589 - ETA: 0s - loss: 0.4901 - mean_absolute_error: 0.594 - ETA: 0s - loss: 0.4926 - mean_absolute_error: 0.598 - ETA: 0s - loss: 0.4866 - mean_absolute_error: 0.596 - ETA: 0s - loss: 0.4827 - mean_absolute_error: 0.595 - 0s 938us/step - loss: 0.4825 - mean_absolute_error: 0.5947\n",
      "Epoch 27/500\n",
      "500/500 [==============================] - ETA: 1s - loss: 0.0461 - mean_absolute_error: 0.214 - ETA: 0s - loss: 0.4483 - mean_absolute_error: 0.540 - ETA: 0s - loss: 0.4914 - mean_absolute_error: 0.583 - ETA: 0s - loss: 0.4616 - mean_absolute_error: 0.565 - ETA: 0s - loss: 0.4966 - mean_absolute_error: 0.595 - ETA: 0s - loss: 0.4943 - mean_absolute_error: 0.594 - ETA: 0s - loss: 0.4770 - mean_absolute_error: 0.582 - ETA: 0s - loss: 0.4650 - mean_absolute_error: 0.574 - ETA: 0s - loss: 0.4608 - mean_absolute_error: 0.569 - ETA: 0s - loss: 0.4656 - mean_absolute_error: 0.573 - ETA: 0s - loss: 0.4690 - mean_absolute_error: 0.578 - ETA: 0s - loss: 0.4775 - mean_absolute_error: 0.588 - ETA: 0s - loss: 0.4789 - mean_absolute_error: 0.589 - 1s 1ms/step - loss: 0.4793 - mean_absolute_error: 0.5897\n",
      "Epoch 28/500\n",
      "500/500 [==============================] - ETA: 0s - loss: 0.0281 - mean_absolute_error: 0.167 - ETA: 0s - loss: 0.4544 - mean_absolute_error: 0.583 - ETA: 0s - loss: 0.4441 - mean_absolute_error: 0.559 - ETA: 0s - loss: 0.4610 - mean_absolute_error: 0.567 - ETA: 0s - loss: 0.4441 - mean_absolute_error: 0.557 - ETA: 0s - loss: 0.4528 - mean_absolute_error: 0.567 - ETA: 0s - loss: 0.4624 - mean_absolute_error: 0.580 - ETA: 0s - loss: 0.4691 - mean_absolute_error: 0.585 - ETA: 0s - loss: 0.4691 - mean_absolute_error: 0.589 - ETA: 0s - loss: 0.4741 - mean_absolute_error: 0.592 - ETA: 0s - loss: 0.4784 - mean_absolute_error: 0.594 - 1s 1ms/step - loss: 0.4749 - mean_absolute_error: 0.5917\n",
      "Epoch 29/500\n",
      "500/500 [==============================] - ETA: 0s - loss: 1.0368 - mean_absolute_error: 1.018 - ETA: 0s - loss: 0.4895 - mean_absolute_error: 0.600 - ETA: 0s - loss: 0.5011 - mean_absolute_error: 0.597 - ETA: 0s - loss: 0.4875 - mean_absolute_error: 0.594 - ETA: 0s - loss: 0.4763 - mean_absolute_error: 0.584 - ETA: 0s - loss: 0.4801 - mean_absolute_error: 0.594 - ETA: 0s - loss: 0.4909 - mean_absolute_error: 0.601 - ETA: 0s - loss: 0.4820 - mean_absolute_error: 0.594 - ETA: 0s - loss: 0.4774 - mean_absolute_error: 0.589 - ETA: 0s - loss: 0.4875 - mean_absolute_error: 0.596 - 0s 972us/step - loss: 0.4817 - mean_absolute_error: 0.5920\n",
      "Epoch 30/500\n",
      "500/500 [==============================] - ETA: 0s - loss: 0.0144 - mean_absolute_error: 0.119 - ETA: 0s - loss: 0.5084 - mean_absolute_error: 0.622 - ETA: 0s - loss: 0.5197 - mean_absolute_error: 0.633 - ETA: 0s - loss: 0.5148 - mean_absolute_error: 0.634 - ETA: 0s - loss: 0.4945 - mean_absolute_error: 0.621 - ETA: 0s - loss: 0.4673 - mean_absolute_error: 0.596 - ETA: 0s - loss: 0.4677 - mean_absolute_error: 0.593 - ETA: 0s - loss: 0.4679 - mean_absolute_error: 0.589 - ETA: 0s - loss: 0.4722 - mean_absolute_error: 0.595 - ETA: 0s - loss: 0.4642 - mean_absolute_error: 0.580 - ETA: 0s - loss: 0.4525 - mean_absolute_error: 0.574 - ETA: 0s - loss: 0.4638 - mean_absolute_error: 0.581 - ETA: 0s - loss: 0.4729 - mean_absolute_error: 0.587 - 1s 1ms/step - loss: 0.4720 - mean_absolute_error: 0.5881\n",
      "Epoch 31/500\n",
      "500/500 [==============================] - ETA: 1s - loss: 1.1502 - mean_absolute_error: 1.072 - ETA: 0s - loss: 0.4577 - mean_absolute_error: 0.590 - ETA: 0s - loss: 0.4238 - mean_absolute_error: 0.548 - ETA: 0s - loss: 0.4853 - mean_absolute_error: 0.591 - ETA: 0s - loss: 0.4567 - mean_absolute_error: 0.565 - ETA: 0s - loss: 0.4507 - mean_absolute_error: 0.564 - ETA: 0s - loss: 0.4429 - mean_absolute_error: 0.561 - ETA: 0s - loss: 0.4692 - mean_absolute_error: 0.577 - ETA: 0s - loss: 0.4625 - mean_absolute_error: 0.578 - ETA: 0s - loss: 0.4692 - mean_absolute_error: 0.581 - ETA: 0s - loss: 0.4775 - mean_absolute_error: 0.587 - 1s 1ms/step - loss: 0.4783 - mean_absolute_error: 0.5890\n",
      "Epoch 32/500\n",
      "500/500 [==============================] - ETA: 1s - loss: 8.0260e-04 - mean_absolute_error: 0.028 - ETA: 0s - loss: 0.4016 - mean_absolute_error: 0.5375    - ETA: 0s - loss: 0.4353 - mean_absolute_error: 0.555 - ETA: 0s - loss: 0.4295 - mean_absolute_error: 0.551 - ETA: 0s - loss: 0.4361 - mean_absolute_error: 0.555 - ETA: 0s - loss: 0.4482 - mean_absolute_error: 0.570 - ETA: 0s - loss: 0.4527 - mean_absolute_error: 0.575 - ETA: 0s - loss: 0.4627 - mean_absolute_error: 0.580 - ETA: 0s - loss: 0.4638 - mean_absolute_error: 0.581 - ETA: 0s - loss: 0.4694 - mean_absolute_error: 0.585 - ETA: 0s - loss: 0.4713 - mean_absolute_error: 0.585 - 1s 1ms/step - loss: 0.4707 - mean_absolute_error: 0.5842\n",
      "Epoch 33/500\n",
      "500/500 [==============================] - ETA: 0s - loss: 0.4249 - mean_absolute_error: 0.651 - ETA: 0s - loss: 0.5172 - mean_absolute_error: 0.610 - ETA: 0s - loss: 0.4949 - mean_absolute_error: 0.597 - ETA: 0s - loss: 0.4987 - mean_absolute_error: 0.601 - ETA: 0s - loss: 0.4993 - mean_absolute_error: 0.605 - ETA: 0s - loss: 0.4975 - mean_absolute_error: 0.606 - ETA: 0s - loss: 0.4832 - mean_absolute_error: 0.594 - ETA: 0s - loss: 0.4767 - mean_absolute_error: 0.589 - ETA: 0s - loss: 0.4838 - mean_absolute_error: 0.596 - ETA: 0s - loss: 0.4824 - mean_absolute_error: 0.594 - ETA: 0s - loss: 0.4819 - mean_absolute_error: 0.593 - 1s 1ms/step - loss: 0.4766 - mean_absolute_error: 0.5900\n",
      "Epoch 34/500\n",
      "500/500 [==============================] - ETA: 2s - loss: 0.1264 - mean_absolute_error: 0.355 - ETA: 0s - loss: 0.5223 - mean_absolute_error: 0.623 - ETA: 0s - loss: 0.4969 - mean_absolute_error: 0.615 - ETA: 0s - loss: 0.4948 - mean_absolute_error: 0.610 - ETA: 0s - loss: 0.4788 - mean_absolute_error: 0.593 - ETA: 0s - loss: 0.4708 - mean_absolute_error: 0.586 - ETA: 0s - loss: 0.4832 - mean_absolute_error: 0.594 - ETA: 0s - loss: 0.4743 - mean_absolute_error: 0.589 - ETA: 0s - loss: 0.4767 - mean_absolute_error: 0.593 - ETA: 0s - loss: 0.4730 - mean_absolute_error: 0.589 - 0s 963us/step - loss: 0.4814 - mean_absolute_error: 0.5944\n",
      "Epoch 35/500\n",
      "500/500 [==============================] - ETA: 0s - loss: 0.3026 - mean_absolute_error: 0.550 - ETA: 0s - loss: 0.4017 - mean_absolute_error: 0.546 - ETA: 0s - loss: 0.4555 - mean_absolute_error: 0.579 - ETA: 0s - loss: 0.4551 - mean_absolute_error: 0.574 - ETA: 0s - loss: 0.4831 - mean_absolute_error: 0.595 - ETA: 0s - loss: 0.4876 - mean_absolute_error: 0.600 - ETA: 0s - loss: 0.4873 - mean_absolute_error: 0.598 - ETA: 0s - loss: 0.4729 - mean_absolute_error: 0.584 - ETA: 0s - loss: 0.4733 - mean_absolute_error: 0.582 - ETA: 0s - loss: 0.4684 - mean_absolute_error: 0.579 - 0s 949us/step - loss: 0.4693 - mean_absolute_error: 0.5806\n",
      "Epoch 36/500\n",
      "500/500 [==============================] - ETA: 1s - loss: 0.9658 - mean_absolute_error: 0.982 - ETA: 0s - loss: 0.4714 - mean_absolute_error: 0.596 - ETA: 0s - loss: 0.5223 - mean_absolute_error: 0.628 - ETA: 0s - loss: 0.5175 - mean_absolute_error: 0.625 - ETA: 0s - loss: 0.4995 - mean_absolute_error: 0.607 - ETA: 0s - loss: 0.5117 - mean_absolute_error: 0.613 - ETA: 0s - loss: 0.4980 - mean_absolute_error: 0.602 - ETA: 0s - loss: 0.4830 - mean_absolute_error: 0.587 - ETA: 0s - loss: 0.4617 - mean_absolute_error: 0.574 - ETA: 0s - loss: 0.4814 - mean_absolute_error: 0.590 - ETA: 0s - loss: 0.4776 - mean_absolute_error: 0.589 - ETA: 0s - loss: 0.4701 - mean_absolute_error: 0.584 - ETA: 0s - loss: 0.4769 - mean_absolute_error: 0.590 - ETA: 0s - loss: 0.4772 - mean_absolute_error: 0.591 - 1s 1ms/step - loss: 0.4800 - mean_absolute_error: 0.5927\n",
      "Epoch 37/500\n",
      "500/500 [==============================] - ETA: 0s - loss: 0.6378 - mean_absolute_error: 0.798 - ETA: 0s - loss: 0.4883 - mean_absolute_error: 0.599 - ETA: 0s - loss: 0.4660 - mean_absolute_error: 0.599 - ETA: 0s - loss: 0.5018 - mean_absolute_error: 0.624 - ETA: 0s - loss: 0.4878 - mean_absolute_error: 0.610 - ETA: 0s - loss: 0.4597 - mean_absolute_error: 0.587 - ETA: 0s - loss: 0.4678 - mean_absolute_error: 0.591 - ETA: 0s - loss: 0.4696 - mean_absolute_error: 0.593 - ETA: 0s - loss: 0.4819 - mean_absolute_error: 0.601 - ETA: 0s - loss: 0.4774 - mean_absolute_error: 0.598 - ETA: 0s - loss: 0.4611 - mean_absolute_error: 0.583 - ETA: 0s - loss: 0.4684 - mean_absolute_error: 0.589 - 1s 1ms/step - loss: 0.4726 - mean_absolute_error: 0.5934\n",
      "Epoch 38/500\n",
      "500/500 [==============================] - ETA: 0s - loss: 0.0551 - mean_absolute_error: 0.234 - ETA: 0s - loss: 0.3656 - mean_absolute_error: 0.520 - ETA: 0s - loss: 0.4124 - mean_absolute_error: 0.539 - ETA: 0s - loss: 0.4457 - mean_absolute_error: 0.563 - ETA: 0s - loss: 0.4742 - mean_absolute_error: 0.589 - ETA: 0s - loss: 0.4740 - mean_absolute_error: 0.586 - ETA: 0s - loss: 0.4710 - mean_absolute_error: 0.583 - ETA: 0s - loss: 0.4686 - mean_absolute_error: 0.579 - ETA: 0s - loss: 0.4685 - mean_absolute_error: 0.578 - ETA: 0s - loss: 0.4661 - mean_absolute_error: 0.578 - ETA: 0s - loss: 0.4734 - mean_absolute_error: 0.583 - 1s 1ms/step - loss: 0.4738 - mean_absolute_error: 0.5836\n",
      "Epoch 39/500\n",
      "500/500 [==============================] - ETA: 0s - loss: 0.5166 - mean_absolute_error: 0.718 - ETA: 0s - loss: 0.5639 - mean_absolute_error: 0.612 - ETA: 0s - loss: 0.5085 - mean_absolute_error: 0.605 - ETA: 0s - loss: 0.4955 - mean_absolute_error: 0.596 - ETA: 0s - loss: 0.4762 - mean_absolute_error: 0.583 - ETA: 0s - loss: 0.4857 - mean_absolute_error: 0.589 - ETA: 0s - loss: 0.4672 - mean_absolute_error: 0.576 - ETA: 0s - loss: 0.4622 - mean_absolute_error: 0.576 - ETA: 0s - loss: 0.4695 - mean_absolute_error: 0.582 - ETA: 0s - loss: 0.4698 - mean_absolute_error: 0.582 - ETA: 0s - loss: 0.4765 - mean_absolute_error: 0.587 - 1s 1ms/step - loss: 0.4725 - mean_absolute_error: 0.5849\n",
      "Epoch 40/500\n",
      "500/500 [==============================] - ETA: 1s - loss: 0.3516 - mean_absolute_error: 0.593 - ETA: 0s - loss: 0.5559 - mean_absolute_error: 0.657 - ETA: 0s - loss: 0.5403 - mean_absolute_error: 0.651 - ETA: 0s - loss: 0.5298 - mean_absolute_error: 0.634 - ETA: 0s - loss: 0.4926 - mean_absolute_error: 0.609 - ETA: 0s - loss: 0.4709 - mean_absolute_error: 0.592 - ETA: 0s - loss: 0.4768 - mean_absolute_error: 0.595 - ETA: 0s - loss: 0.4933 - mean_absolute_error: 0.604 - ETA: 0s - loss: 0.4814 - mean_absolute_error: 0.597 - ETA: 0s - loss: 0.4788 - mean_absolute_error: 0.594 - 1s 1ms/step - loss: 0.4736 - mean_absolute_error: 0.5895\n",
      "Epoch 41/500\n",
      "500/500 [==============================] - ETA: 0s - loss: 0.2589 - mean_absolute_error: 0.508 - ETA: 0s - loss: 0.4812 - mean_absolute_error: 0.584 - ETA: 0s - loss: 0.4502 - mean_absolute_error: 0.557 - ETA: 0s - loss: 0.4648 - mean_absolute_error: 0.571 - ETA: 0s - loss: 0.4539 - mean_absolute_error: 0.570 - ETA: 0s - loss: 0.4743 - mean_absolute_error: 0.588 - ETA: 0s - loss: 0.4936 - mean_absolute_error: 0.604 - ETA: 0s - loss: 0.4903 - mean_absolute_error: 0.600 - ETA: 0s - loss: 0.4785 - mean_absolute_error: 0.593 - ETA: 0s - loss: 0.4804 - mean_absolute_error: 0.592 - 1s 1ms/step - loss: 0.4811 - mean_absolute_error: 0.5929\n",
      "Epoch 42/500\n",
      "500/500 [==============================] - ETA: 0s - loss: 1.2711 - mean_absolute_error: 1.127 - ETA: 0s - loss: 0.4582 - mean_absolute_error: 0.582 - ETA: 0s - loss: 0.4919 - mean_absolute_error: 0.614 - ETA: 0s - loss: 0.5036 - mean_absolute_error: 0.613 - ETA: 0s - loss: 0.5054 - mean_absolute_error: 0.617 - ETA: 0s - loss: 0.4994 - mean_absolute_error: 0.615 - ETA: 0s - loss: 0.4965 - mean_absolute_error: 0.609 - ETA: 0s - loss: 0.4849 - mean_absolute_error: 0.601 - ETA: 0s - loss: 0.4737 - mean_absolute_error: 0.593 - 0s 915us/step - loss: 0.4795 - mean_absolute_error: 0.5941\n",
      "Epoch 43/500\n",
      "500/500 [==============================] - ETA: 0s - loss: 1.2033 - mean_absolute_error: 1.097 - ETA: 0s - loss: 0.4186 - mean_absolute_error: 0.541 - ETA: 0s - loss: 0.4501 - mean_absolute_error: 0.570 - ETA: 0s - loss: 0.5180 - mean_absolute_error: 0.618 - ETA: 0s - loss: 0.5012 - mean_absolute_error: 0.607 - ETA: 0s - loss: 0.4712 - mean_absolute_error: 0.586 - ETA: 0s - loss: 0.4667 - mean_absolute_error: 0.581 - ETA: 0s - loss: 0.4659 - mean_absolute_error: 0.583 - ETA: 0s - loss: 0.4675 - mean_absolute_error: 0.584 - ETA: 0s - loss: 0.4623 - mean_absolute_error: 0.582 - 0s 985us/step - loss: 0.4737 - mean_absolute_error: 0.5893\n",
      "Epoch 44/500\n",
      "500/500 [==============================] - ETA: 0s - loss: 0.0060 - mean_absolute_error: 0.077 - ETA: 0s - loss: 0.4375 - mean_absolute_error: 0.562 - ETA: 0s - loss: 0.4080 - mean_absolute_error: 0.546 - ETA: 0s - loss: 0.4749 - mean_absolute_error: 0.594 - ETA: 0s - loss: 0.4850 - mean_absolute_error: 0.599 - ETA: 0s - loss: 0.4814 - mean_absolute_error: 0.596 - ETA: 0s - loss: 0.4766 - mean_absolute_error: 0.588 - ETA: 0s - loss: 0.4892 - mean_absolute_error: 0.595 - ETA: 0s - loss: 0.4837 - mean_absolute_error: 0.592 - ETA: 0s - loss: 0.4804 - mean_absolute_error: 0.589 - 0s 990us/step - loss: 0.4766 - mean_absolute_error: 0.5881\n",
      "Epoch 45/500\n",
      "500/500 [==============================] - ETA: 0s - loss: 9.6112e-05 - mean_absolute_error: 0.009 - ETA: 0s - loss: 0.4907 - mean_absolute_error: 0.6074    - ETA: 0s - loss: 0.4989 - mean_absolute_error: 0.609 - ETA: 0s - loss: 0.5072 - mean_absolute_error: 0.612 - ETA: 0s - loss: 0.4748 - mean_absolute_error: 0.592 - ETA: 0s - loss: 0.4807 - mean_absolute_error: 0.595 - ETA: 0s - loss: 0.4892 - mean_absolute_error: 0.597 - ETA: 0s - loss: 0.4758 - mean_absolute_error: 0.587 - ETA: 0s - loss: 0.4688 - mean_absolute_error: 0.581 - ETA: 0s - loss: 0.4614 - mean_absolute_error: 0.575 - 1s 1ms/step - loss: 0.4678 - mean_absolute_error: 0.5796\n",
      "Epoch 46/500\n"
     ]
    },
    {
     "name": "stdout",
     "output_type": "stream",
     "text": [
      "500/500 [==============================] - ETA: 0s - loss: 0.0602 - mean_absolute_error: 0.245 - ETA: 0s - loss: 0.4159 - mean_absolute_error: 0.536 - ETA: 0s - loss: 0.4769 - mean_absolute_error: 0.597 - ETA: 0s - loss: 0.4718 - mean_absolute_error: 0.591 - ETA: 0s - loss: 0.4653 - mean_absolute_error: 0.592 - ETA: 0s - loss: 0.4497 - mean_absolute_error: 0.581 - ETA: 0s - loss: 0.4549 - mean_absolute_error: 0.580 - ETA: 0s - loss: 0.4613 - mean_absolute_error: 0.583 - ETA: 0s - loss: 0.4695 - mean_absolute_error: 0.587 - ETA: 0s - loss: 0.4661 - mean_absolute_error: 0.586 - ETA: 0s - loss: 0.4676 - mean_absolute_error: 0.588 - 1s 1ms/step - loss: 0.4631 - mean_absolute_error: 0.5853\n",
      "Epoch 47/500\n",
      "500/500 [==============================] - ETA: 0s - loss: 0.3844 - mean_absolute_error: 0.620 - ETA: 0s - loss: 0.4151 - mean_absolute_error: 0.539 - ETA: 0s - loss: 0.4101 - mean_absolute_error: 0.547 - ETA: 0s - loss: 0.4373 - mean_absolute_error: 0.564 - ETA: 0s - loss: 0.4397 - mean_absolute_error: 0.572 - ETA: 0s - loss: 0.4492 - mean_absolute_error: 0.576 - ETA: 0s - loss: 0.4674 - mean_absolute_error: 0.588 - ETA: 0s - loss: 0.4645 - mean_absolute_error: 0.582 - ETA: 0s - loss: 0.4671 - mean_absolute_error: 0.583 - ETA: 0s - loss: 0.4688 - mean_absolute_error: 0.584 - 0s 967us/step - loss: 0.4741 - mean_absolute_error: 0.5885\n",
      "Epoch 48/500\n",
      "500/500 [==============================] - ETA: 0s - loss: 1.1762 - mean_absolute_error: 1.084 - ETA: 0s - loss: 0.4966 - mean_absolute_error: 0.618 - ETA: 0s - loss: 0.5028 - mean_absolute_error: 0.610 - ETA: 0s - loss: 0.4938 - mean_absolute_error: 0.604 - ETA: 0s - loss: 0.4691 - mean_absolute_error: 0.580 - ETA: 0s - loss: 0.4671 - mean_absolute_error: 0.579 - ETA: 0s - loss: 0.4733 - mean_absolute_error: 0.582 - ETA: 0s - loss: 0.4638 - mean_absolute_error: 0.576 - ETA: 0s - loss: 0.4716 - mean_absolute_error: 0.580 - 0s 891us/step - loss: 0.4731 - mean_absolute_error: 0.5827\n",
      "Epoch 49/500\n",
      "500/500 [==============================] - ETA: 2s - loss: 1.3755 - mean_absolute_error: 1.172 - ETA: 0s - loss: 0.4995 - mean_absolute_error: 0.599 - ETA: 0s - loss: 0.4957 - mean_absolute_error: 0.606 - ETA: 0s - loss: 0.4890 - mean_absolute_error: 0.607 - ETA: 0s - loss: 0.4923 - mean_absolute_error: 0.609 - ETA: 0s - loss: 0.4918 - mean_absolute_error: 0.608 - ETA: 0s - loss: 0.5048 - mean_absolute_error: 0.614 - ETA: 0s - loss: 0.4790 - mean_absolute_error: 0.595 - ETA: 0s - loss: 0.4751 - mean_absolute_error: 0.592 - ETA: 0s - loss: 0.4748 - mean_absolute_error: 0.590 - ETA: 0s - loss: 0.4767 - mean_absolute_error: 0.589 - ETA: 0s - loss: 0.4728 - mean_absolute_error: 0.588 - 1s 1ms/step - loss: 0.4774 - mean_absolute_error: 0.5918\n",
      "Epoch 50/500\n",
      "500/500 [==============================] - ETA: 0s - loss: 0.3522 - mean_absolute_error: 0.593 - ETA: 0s - loss: 0.4560 - mean_absolute_error: 0.566 - ETA: 0s - loss: 0.4633 - mean_absolute_error: 0.578 - ETA: 0s - loss: 0.4792 - mean_absolute_error: 0.587 - ETA: 0s - loss: 0.4784 - mean_absolute_error: 0.589 - ETA: 0s - loss: 0.4579 - mean_absolute_error: 0.577 - ETA: 0s - loss: 0.4504 - mean_absolute_error: 0.569 - ETA: 0s - loss: 0.4565 - mean_absolute_error: 0.570 - ETA: 0s - loss: 0.4593 - mean_absolute_error: 0.572 - ETA: 0s - loss: 0.4596 - mean_absolute_error: 0.576 - 0s 997us/step - loss: 0.4673 - mean_absolute_error: 0.5837\n",
      "Epoch 51/500\n",
      "500/500 [==============================] - ETA: 0s - loss: 0.9033 - mean_absolute_error: 0.950 - ETA: 0s - loss: 0.4168 - mean_absolute_error: 0.564 - ETA: 0s - loss: 0.4383 - mean_absolute_error: 0.574 - ETA: 0s - loss: 0.4366 - mean_absolute_error: 0.563 - ETA: 0s - loss: 0.4294 - mean_absolute_error: 0.554 - ETA: 0s - loss: 0.4794 - mean_absolute_error: 0.590 - ETA: 0s - loss: 0.4686 - mean_absolute_error: 0.583 - ETA: 0s - loss: 0.4764 - mean_absolute_error: 0.588 - ETA: 0s - loss: 0.4725 - mean_absolute_error: 0.587 - ETA: 0s - loss: 0.4833 - mean_absolute_error: 0.596 - 0s 987us/step - loss: 0.4788 - mean_absolute_error: 0.5925\n",
      "Epoch 52/500\n",
      "500/500 [==============================] - ETA: 0s - loss: 0.1957 - mean_absolute_error: 0.442 - ETA: 0s - loss: 0.4300 - mean_absolute_error: 0.545 - ETA: 0s - loss: 0.4335 - mean_absolute_error: 0.552 - ETA: 0s - loss: 0.4368 - mean_absolute_error: 0.567 - ETA: 0s - loss: 0.4371 - mean_absolute_error: 0.570 - ETA: 0s - loss: 0.4264 - mean_absolute_error: 0.558 - ETA: 0s - loss: 0.4410 - mean_absolute_error: 0.570 - ETA: 0s - loss: 0.4608 - mean_absolute_error: 0.583 - ETA: 0s - loss: 0.4676 - mean_absolute_error: 0.582 - ETA: 0s - loss: 0.4730 - mean_absolute_error: 0.588 - 0s 988us/step - loss: 0.4750 - mean_absolute_error: 0.5889\n",
      "Epoch 53/500\n",
      "500/500 [==============================] - ETA: 0s - loss: 0.1777 - mean_absolute_error: 0.421 - ETA: 0s - loss: 0.4781 - mean_absolute_error: 0.615 - ETA: 0s - loss: 0.4006 - mean_absolute_error: 0.545 - ETA: 0s - loss: 0.4303 - mean_absolute_error: 0.562 - ETA: 0s - loss: 0.4490 - mean_absolute_error: 0.577 - ETA: 0s - loss: 0.4567 - mean_absolute_error: 0.581 - ETA: 0s - loss: 0.4602 - mean_absolute_error: 0.582 - ETA: 0s - loss: 0.4623 - mean_absolute_error: 0.586 - ETA: 0s - loss: 0.4716 - mean_absolute_error: 0.592 - ETA: 0s - loss: 0.4638 - mean_absolute_error: 0.587 - 0s 958us/step - loss: 0.4617 - mean_absolute_error: 0.5855\n",
      "Epoch 54/500\n",
      "500/500 [==============================] - ETA: 0s - loss: 0.0119 - mean_absolute_error: 0.109 - ETA: 0s - loss: 0.4784 - mean_absolute_error: 0.608 - ETA: 0s - loss: 0.4786 - mean_absolute_error: 0.607 - ETA: 0s - loss: 0.4645 - mean_absolute_error: 0.586 - ETA: 0s - loss: 0.4671 - mean_absolute_error: 0.594 - ETA: 0s - loss: 0.4455 - mean_absolute_error: 0.577 - ETA: 0s - loss: 0.4538 - mean_absolute_error: 0.581 - ETA: 0s - loss: 0.4601 - mean_absolute_error: 0.584 - ETA: 0s - loss: 0.4762 - mean_absolute_error: 0.596 - ETA: 0s - loss: 0.4841 - mean_absolute_error: 0.600 - 0s 958us/step - loss: 0.4748 - mean_absolute_error: 0.5926\n",
      "Epoch 55/500\n",
      "500/500 [==============================] - ETA: 1s - loss: 3.7824e-04 - mean_absolute_error: 0.019 - ETA: 0s - loss: 0.4588 - mean_absolute_error: 0.5863    - ETA: 0s - loss: 0.4421 - mean_absolute_error: 0.566 - ETA: 0s - loss: 0.4458 - mean_absolute_error: 0.567 - ETA: 0s - loss: 0.4674 - mean_absolute_error: 0.578 - ETA: 0s - loss: 0.4656 - mean_absolute_error: 0.580 - ETA: 0s - loss: 0.4693 - mean_absolute_error: 0.585 - ETA: 0s - loss: 0.4719 - mean_absolute_error: 0.588 - ETA: 0s - loss: 0.4743 - mean_absolute_error: 0.593 - ETA: 0s - loss: 0.4730 - mean_absolute_error: 0.589 - ETA: 0s - loss: 0.4705 - mean_absolute_error: 0.591 - ETA: 0s - loss: 0.4729 - mean_absolute_error: 0.590 - 1s 1ms/step - loss: 0.4765 - mean_absolute_error: 0.5922\n",
      "Epoch 56/500\n",
      "500/500 [==============================] - ETA: 1s - loss: 1.1300 - mean_absolute_error: 1.063 - ETA: 0s - loss: 0.5977 - mean_absolute_error: 0.694 - ETA: 0s - loss: 0.5090 - mean_absolute_error: 0.621 - ETA: 0s - loss: 0.4894 - mean_absolute_error: 0.615 - ETA: 0s - loss: 0.4743 - mean_absolute_error: 0.595 - ETA: 0s - loss: 0.4551 - mean_absolute_error: 0.579 - ETA: 0s - loss: 0.4741 - mean_absolute_error: 0.592 - ETA: 0s - loss: 0.4563 - mean_absolute_error: 0.575 - ETA: 0s - loss: 0.4467 - mean_absolute_error: 0.568 - ETA: 0s - loss: 0.4578 - mean_absolute_error: 0.576 - ETA: 0s - loss: 0.4635 - mean_absolute_error: 0.582 - ETA: 0s - loss: 0.4742 - mean_absolute_error: 0.588 - 1s 1ms/step - loss: 0.4742 - mean_absolute_error: 0.5893\n",
      "Epoch 57/500\n",
      "500/500 [==============================] - ETA: 0s - loss: 0.4818 - mean_absolute_error: 0.694 - ETA: 0s - loss: 0.5161 - mean_absolute_error: 0.604 - ETA: 0s - loss: 0.4986 - mean_absolute_error: 0.590 - ETA: 0s - loss: 0.4763 - mean_absolute_error: 0.578 - ETA: 0s - loss: 0.4837 - mean_absolute_error: 0.585 - ETA: 0s - loss: 0.4716 - mean_absolute_error: 0.573 - ETA: 0s - loss: 0.4827 - mean_absolute_error: 0.587 - ETA: 0s - loss: 0.4724 - mean_absolute_error: 0.584 - ETA: 0s - loss: 0.4699 - mean_absolute_error: 0.583 - ETA: 0s - loss: 0.4591 - mean_absolute_error: 0.576 - 0s 980us/step - loss: 0.4632 - mean_absolute_error: 0.5794\n",
      "Epoch 58/500\n",
      "500/500 [==============================] - ETA: 1s - loss: 0.7116 - mean_absolute_error: 0.843 - ETA: 0s - loss: 0.4927 - mean_absolute_error: 0.619 - ETA: 0s - loss: 0.5114 - mean_absolute_error: 0.632 - ETA: 0s - loss: 0.4752 - mean_absolute_error: 0.603 - ETA: 0s - loss: 0.4798 - mean_absolute_error: 0.605 - ETA: 0s - loss: 0.4698 - mean_absolute_error: 0.590 - ETA: 0s - loss: 0.4907 - mean_absolute_error: 0.608 - ETA: 0s - loss: 0.4675 - mean_absolute_error: 0.588 - ETA: 0s - loss: 0.4846 - mean_absolute_error: 0.599 - ETA: 0s - loss: 0.4803 - mean_absolute_error: 0.597 - ETA: 0s - loss: 0.4699 - mean_absolute_error: 0.588 - ETA: 0s - loss: 0.4663 - mean_absolute_error: 0.583 - 1s 1ms/step - loss: 0.4707 - mean_absolute_error: 0.5864\n",
      "Epoch 59/500\n",
      "500/500 [==============================] - ETA: 0s - loss: 0.2269 - mean_absolute_error: 0.476 - ETA: 0s - loss: 0.4265 - mean_absolute_error: 0.505 - ETA: 0s - loss: 0.4158 - mean_absolute_error: 0.544 - ETA: 0s - loss: 0.4670 - mean_absolute_error: 0.574 - ETA: 0s - loss: 0.4777 - mean_absolute_error: 0.586 - ETA: 0s - loss: 0.4827 - mean_absolute_error: 0.592 - ETA: 0s - loss: 0.4913 - mean_absolute_error: 0.599 - ETA: 0s - loss: 0.4850 - mean_absolute_error: 0.596 - ETA: 0s - loss: 0.4833 - mean_absolute_error: 0.596 - ETA: 0s - loss: 0.4920 - mean_absolute_error: 0.599 - ETA: 0s - loss: 0.4840 - mean_absolute_error: 0.596 - ETA: 0s - loss: 0.4770 - mean_absolute_error: 0.592 - ETA: 0s - loss: 0.4743 - mean_absolute_error: 0.590 - ETA: 0s - loss: 0.4652 - mean_absolute_error: 0.582 - 1s 1ms/step - loss: 0.4723 - mean_absolute_error: 0.5872\n",
      "Epoch 60/500\n",
      "500/500 [==============================] - ETA: 0s - loss: 0.0230 - mean_absolute_error: 0.151 - ETA: 0s - loss: 0.4127 - mean_absolute_error: 0.552 - ETA: 0s - loss: 0.4377 - mean_absolute_error: 0.571 - ETA: 0s - loss: 0.4568 - mean_absolute_error: 0.579 - ETA: 0s - loss: 0.4660 - mean_absolute_error: 0.578 - ETA: 0s - loss: 0.4620 - mean_absolute_error: 0.577 - ETA: 0s - loss: 0.4611 - mean_absolute_error: 0.580 - ETA: 0s - loss: 0.4677 - mean_absolute_error: 0.586 - ETA: 0s - loss: 0.4617 - mean_absolute_error: 0.579 - ETA: 0s - loss: 0.4580 - mean_absolute_error: 0.578 - ETA: 0s - loss: 0.4698 - mean_absolute_error: 0.588 - ETA: 0s - loss: 0.4676 - mean_absolute_error: 0.588 - 1s 1ms/step - loss: 0.4731 - mean_absolute_error: 0.5916\n",
      "Epoch 61/500\n",
      "500/500 [==============================] - ETA: 1s - loss: 0.2829 - mean_absolute_error: 0.531 - ETA: 0s - loss: 0.4463 - mean_absolute_error: 0.564 - ETA: 0s - loss: 0.4505 - mean_absolute_error: 0.568 - ETA: 0s - loss: 0.4233 - mean_absolute_error: 0.547 - ETA: 0s - loss: 0.4492 - mean_absolute_error: 0.569 - ETA: 0s - loss: 0.4537 - mean_absolute_error: 0.572 - ETA: 0s - loss: 0.4623 - mean_absolute_error: 0.582 - ETA: 0s - loss: 0.4784 - mean_absolute_error: 0.595 - ETA: 0s - loss: 0.4687 - mean_absolute_error: 0.588 - ETA: 0s - loss: 0.4774 - mean_absolute_error: 0.596 - 0s 943us/step - loss: 0.4731 - mean_absolute_error: 0.5935\n",
      "Epoch 62/500\n",
      "500/500 [==============================] - ETA: 1s - loss: 0.1532 - mean_absolute_error: 0.391 - ETA: 0s - loss: 0.5337 - mean_absolute_error: 0.649 - ETA: 0s - loss: 0.4752 - mean_absolute_error: 0.600 - ETA: 0s - loss: 0.5050 - mean_absolute_error: 0.622 - ETA: 0s - loss: 0.5106 - mean_absolute_error: 0.627 - ETA: 0s - loss: 0.5196 - mean_absolute_error: 0.633 - ETA: 0s - loss: 0.5019 - mean_absolute_error: 0.619 - ETA: 0s - loss: 0.4982 - mean_absolute_error: 0.610 - ETA: 0s - loss: 0.4840 - mean_absolute_error: 0.599 - ETA: 0s - loss: 0.4765 - mean_absolute_error: 0.594 - ETA: 0s - loss: 0.4762 - mean_absolute_error: 0.592 - ETA: 0s - loss: 0.4688 - mean_absolute_error: 0.586 - ETA: 0s - loss: 0.4698 - mean_absolute_error: 0.587 - 1s 1ms/step - loss: 0.4705 - mean_absolute_error: 0.5886\n",
      "Epoch 63/500\n",
      "500/500 [==============================] - ETA: 3s - loss: 1.0033e-04 - mean_absolute_error: 0.010 - ETA: 0s - loss: 0.4619 - mean_absolute_error: 0.5828    - ETA: 0s - loss: 0.5106 - mean_absolute_error: 0.619 - ETA: 0s - loss: 0.5125 - mean_absolute_error: 0.625 - ETA: 0s - loss: 0.4946 - mean_absolute_error: 0.613 - ETA: 0s - loss: 0.4960 - mean_absolute_error: 0.614 - ETA: 0s - loss: 0.4935 - mean_absolute_error: 0.613 - ETA: 0s - loss: 0.4665 - mean_absolute_error: 0.591 - ETA: 0s - loss: 0.4656 - mean_absolute_error: 0.587 - ETA: 0s - loss: 0.4559 - mean_absolute_error: 0.580 - ETA: 0s - loss: 0.4660 - mean_absolute_error: 0.585 - ETA: 0s - loss: 0.4644 - mean_absolute_error: 0.583 - 1s 1ms/step - loss: 0.4662 - mean_absolute_error: 0.5852\n",
      "Epoch 64/500\n",
      "500/500 [==============================] - ETA: 1s - loss: 0.6468 - mean_absolute_error: 0.804 - ETA: 0s - loss: 0.4770 - mean_absolute_error: 0.601 - ETA: 0s - loss: 0.4000 - mean_absolute_error: 0.544 - ETA: 0s - loss: 0.4624 - mean_absolute_error: 0.588 - ETA: 0s - loss: 0.4651 - mean_absolute_error: 0.581 - ETA: 0s - loss: 0.4635 - mean_absolute_error: 0.580 - ETA: 0s - loss: 0.4654 - mean_absolute_error: 0.579 - ETA: 0s - loss: 0.4636 - mean_absolute_error: 0.582 - ETA: 0s - loss: 0.4494 - mean_absolute_error: 0.568 - ETA: 0s - loss: 0.4544 - mean_absolute_error: 0.571 - ETA: 0s - loss: 0.4616 - mean_absolute_error: 0.577 - 1s 1ms/step - loss: 0.4659 - mean_absolute_error: 0.5813\n",
      "Epoch 65/500\n",
      "500/500 [==============================] - ETA: 0s - loss: 0.1713 - mean_absolute_error: 0.413 - ETA: 0s - loss: 0.5020 - mean_absolute_error: 0.639 - ETA: 0s - loss: 0.4868 - mean_absolute_error: 0.616 - ETA: 0s - loss: 0.4563 - mean_absolute_error: 0.588 - ETA: 0s - loss: 0.4335 - mean_absolute_error: 0.568 - ETA: 0s - loss: 0.4527 - mean_absolute_error: 0.581 - ETA: 0s - loss: 0.4611 - mean_absolute_error: 0.584 - ETA: 0s - loss: 0.4558 - mean_absolute_error: 0.581 - ETA: 0s - loss: 0.4494 - mean_absolute_error: 0.575 - ETA: 0s - loss: 0.4653 - mean_absolute_error: 0.584 - ETA: 0s - loss: 0.4645 - mean_absolute_error: 0.585 - 1s 1ms/step - loss: 0.4642 - mean_absolute_error: 0.5853\n",
      "Epoch 66/500\n",
      "500/500 [==============================] - ETA: 0s - loss: 0.0566 - mean_absolute_error: 0.238 - ETA: 0s - loss: 0.3943 - mean_absolute_error: 0.527 - ETA: 0s - loss: 0.4170 - mean_absolute_error: 0.566 - ETA: 0s - loss: 0.4024 - mean_absolute_error: 0.547 - ETA: 0s - loss: 0.4183 - mean_absolute_error: 0.554 - ETA: 0s - loss: 0.4351 - mean_absolute_error: 0.570 - ETA: 0s - loss: 0.4405 - mean_absolute_error: 0.569 - ETA: 0s - loss: 0.4587 - mean_absolute_error: 0.580 - ETA: 0s - loss: 0.4589 - mean_absolute_error: 0.579 - ETA: 0s - loss: 0.4691 - mean_absolute_error: 0.589 - 1s 1ms/step - loss: 0.4686 - mean_absolute_error: 0.5903\n",
      "Epoch 67/500\n",
      "500/500 [==============================] - ETA: 1s - loss: 0.7295 - mean_absolute_error: 0.854 - ETA: 0s - loss: 0.5999 - mean_absolute_error: 0.680 - ETA: 0s - loss: 0.5528 - mean_absolute_error: 0.637 - ETA: 0s - loss: 0.4937 - mean_absolute_error: 0.600 - ETA: 0s - loss: 0.4784 - mean_absolute_error: 0.590 - ETA: 0s - loss: 0.4705 - mean_absolute_error: 0.579 - ETA: 0s - loss: 0.4491 - mean_absolute_error: 0.558 - ETA: 0s - loss: 0.4524 - mean_absolute_error: 0.560 - ETA: 0s - loss: 0.4523 - mean_absolute_error: 0.566 - ETA: 0s - loss: 0.4579 - mean_absolute_error: 0.573 - 1s 1ms/step - loss: 0.4645 - mean_absolute_error: 0.5790\n",
      "Epoch 68/500\n",
      "500/500 [==============================] - ETA: 0s - loss: 0.4024 - mean_absolute_error: 0.634 - ETA: 0s - loss: 0.4620 - mean_absolute_error: 0.595 - ETA: 0s - loss: 0.4213 - mean_absolute_error: 0.552 - ETA: 0s - loss: 0.4392 - mean_absolute_error: 0.566 - ETA: 0s - loss: 0.4412 - mean_absolute_error: 0.568 - ETA: 0s - loss: 0.4328 - mean_absolute_error: 0.560 - ETA: 0s - loss: 0.4367 - mean_absolute_error: 0.564 - ETA: 0s - loss: 0.4497 - mean_absolute_error: 0.573 - ETA: 0s - loss: 0.4406 - mean_absolute_error: 0.568 - ETA: 0s - loss: 0.4617 - mean_absolute_error: 0.582 - 0s 935us/step - loss: 0.4620 - mean_absolute_error: 0.5822\n",
      "Epoch 69/500\n"
     ]
    },
    {
     "name": "stdout",
     "output_type": "stream",
     "text": [
      "500/500 [==============================] - ETA: 0s - loss: 0.0670 - mean_absolute_error: 0.258 - ETA: 0s - loss: 0.3623 - mean_absolute_error: 0.505 - ETA: 0s - loss: 0.4753 - mean_absolute_error: 0.583 - ETA: 0s - loss: 0.4609 - mean_absolute_error: 0.575 - ETA: 0s - loss: 0.4429 - mean_absolute_error: 0.566 - ETA: 0s - loss: 0.4482 - mean_absolute_error: 0.573 - ETA: 0s - loss: 0.4712 - mean_absolute_error: 0.590 - ETA: 0s - loss: 0.4732 - mean_absolute_error: 0.592 - ETA: 0s - loss: 0.4641 - mean_absolute_error: 0.585 - ETA: 0s - loss: 0.4672 - mean_absolute_error: 0.586 - ETA: 0s - loss: 0.4731 - mean_absolute_error: 0.591 - 1s 1ms/step - loss: 0.4672 - mean_absolute_error: 0.5868\n",
      "Epoch 70/500\n",
      "500/500 [==============================] - ETA: 0s - loss: 0.2461 - mean_absolute_error: 0.496 - ETA: 0s - loss: 0.4889 - mean_absolute_error: 0.615 - ETA: 0s - loss: 0.5043 - mean_absolute_error: 0.622 - ETA: 0s - loss: 0.4429 - mean_absolute_error: 0.571 - ETA: 0s - loss: 0.4362 - mean_absolute_error: 0.559 - ETA: 0s - loss: 0.4471 - mean_absolute_error: 0.565 - ETA: 0s - loss: 0.4549 - mean_absolute_error: 0.568 - ETA: 0s - loss: 0.4610 - mean_absolute_error: 0.578 - ETA: 0s - loss: 0.4745 - mean_absolute_error: 0.589 - ETA: 0s - loss: 0.4719 - mean_absolute_error: 0.589 - 0s 965us/step - loss: 0.4674 - mean_absolute_error: 0.5876\n",
      "Epoch 71/500\n",
      "500/500 [==============================] - ETA: 1s - loss: 0.0187 - mean_absolute_error: 0.136 - ETA: 0s - loss: 0.4048 - mean_absolute_error: 0.531 - ETA: 0s - loss: 0.4492 - mean_absolute_error: 0.574 - ETA: 0s - loss: 0.5093 - mean_absolute_error: 0.614 - ETA: 0s - loss: 0.5131 - mean_absolute_error: 0.621 - ETA: 0s - loss: 0.4980 - mean_absolute_error: 0.611 - ETA: 0s - loss: 0.4956 - mean_absolute_error: 0.611 - ETA: 0s - loss: 0.4902 - mean_absolute_error: 0.609 - ETA: 0s - loss: 0.4815 - mean_absolute_error: 0.599 - ETA: 0s - loss: 0.4695 - mean_absolute_error: 0.591 - 0s 942us/step - loss: 0.4687 - mean_absolute_error: 0.5907\n",
      "Epoch 72/500\n",
      "500/500 [==============================] - ETA: 0s - loss: 0.6264 - mean_absolute_error: 0.791 - ETA: 0s - loss: 0.4660 - mean_absolute_error: 0.596 - ETA: 0s - loss: 0.4106 - mean_absolute_error: 0.549 - ETA: 0s - loss: 0.4533 - mean_absolute_error: 0.565 - ETA: 0s - loss: 0.4475 - mean_absolute_error: 0.572 - ETA: 0s - loss: 0.4568 - mean_absolute_error: 0.578 - ETA: 0s - loss: 0.4638 - mean_absolute_error: 0.580 - ETA: 0s - loss: 0.4592 - mean_absolute_error: 0.577 - ETA: 0s - loss: 0.4588 - mean_absolute_error: 0.577 - ETA: 0s - loss: 0.4570 - mean_absolute_error: 0.576 - 1s 1ms/step - loss: 0.4639 - mean_absolute_error: 0.5803\n",
      "Epoch 73/500\n",
      "500/500 [==============================] - ETA: 0s - loss: 0.8421 - mean_absolute_error: 0.917 - ETA: 0s - loss: 0.3932 - mean_absolute_error: 0.538 - ETA: 0s - loss: 0.4323 - mean_absolute_error: 0.580 - ETA: 0s - loss: 0.4429 - mean_absolute_error: 0.580 - ETA: 0s - loss: 0.4542 - mean_absolute_error: 0.581 - ETA: 0s - loss: 0.4630 - mean_absolute_error: 0.588 - ETA: 0s - loss: 0.4511 - mean_absolute_error: 0.578 - ETA: 0s - loss: 0.4637 - mean_absolute_error: 0.586 - ETA: 0s - loss: 0.4655 - mean_absolute_error: 0.586 - 0s 873us/step - loss: 0.4610 - mean_absolute_error: 0.5842\n",
      "Epoch 74/500\n",
      "500/500 [==============================] - ETA: 0s - loss: 0.9386 - mean_absolute_error: 0.968 - ETA: 0s - loss: 0.4974 - mean_absolute_error: 0.618 - ETA: 0s - loss: 0.4978 - mean_absolute_error: 0.614 - ETA: 0s - loss: 0.4968 - mean_absolute_error: 0.610 - ETA: 0s - loss: 0.5097 - mean_absolute_error: 0.620 - ETA: 0s - loss: 0.4989 - mean_absolute_error: 0.613 - ETA: 0s - loss: 0.4656 - mean_absolute_error: 0.586 - ETA: 0s - loss: 0.4631 - mean_absolute_error: 0.583 - ETA: 0s - loss: 0.4637 - mean_absolute_error: 0.587 - 0s 871us/step - loss: 0.4598 - mean_absolute_error: 0.5840\n",
      "Epoch 75/500\n",
      "500/500 [==============================] - ETA: 1s - loss: 6.3535e-06 - mean_absolute_error: 0.002 - ETA: 0s - loss: 0.4743 - mean_absolute_error: 0.5957    - ETA: 0s - loss: 0.5002 - mean_absolute_error: 0.616 - ETA: 0s - loss: 0.4515 - mean_absolute_error: 0.574 - ETA: 0s - loss: 0.4336 - mean_absolute_error: 0.560 - ETA: 0s - loss: 0.4434 - mean_absolute_error: 0.568 - ETA: 0s - loss: 0.4499 - mean_absolute_error: 0.574 - ETA: 0s - loss: 0.4407 - mean_absolute_error: 0.562 - ETA: 0s - loss: 0.4560 - mean_absolute_error: 0.574 - ETA: 0s - loss: 0.4557 - mean_absolute_error: 0.574 - 0s 971us/step - loss: 0.4555 - mean_absolute_error: 0.5741\n",
      "Epoch 76/500\n",
      "500/500 [==============================] - ETA: 1s - loss: 0.1636 - mean_absolute_error: 0.404 - ETA: 0s - loss: 0.5225 - mean_absolute_error: 0.605 - ETA: 0s - loss: 0.4563 - mean_absolute_error: 0.584 - ETA: 0s - loss: 0.4434 - mean_absolute_error: 0.571 - ETA: 0s - loss: 0.4596 - mean_absolute_error: 0.584 - ETA: 0s - loss: 0.4514 - mean_absolute_error: 0.575 - ETA: 0s - loss: 0.4428 - mean_absolute_error: 0.568 - ETA: 0s - loss: 0.4473 - mean_absolute_error: 0.571 - ETA: 0s - loss: 0.4435 - mean_absolute_error: 0.569 - ETA: 0s - loss: 0.4422 - mean_absolute_error: 0.567 - ETA: 0s - loss: 0.4447 - mean_absolute_error: 0.569 - ETA: 0s - loss: 0.4446 - mean_absolute_error: 0.571 - 1s 1ms/step - loss: 0.4525 - mean_absolute_error: 0.5766\n",
      "Epoch 77/500\n",
      "500/500 [==============================] - ETA: 1s - loss: 0.3241 - mean_absolute_error: 0.569 - ETA: 0s - loss: 0.4228 - mean_absolute_error: 0.582 - ETA: 0s - loss: 0.4535 - mean_absolute_error: 0.577 - ETA: 0s - loss: 0.4483 - mean_absolute_error: 0.572 - ETA: 0s - loss: 0.4454 - mean_absolute_error: 0.572 - ETA: 0s - loss: 0.4435 - mean_absolute_error: 0.569 - ETA: 0s - loss: 0.4540 - mean_absolute_error: 0.576 - ETA: 0s - loss: 0.4522 - mean_absolute_error: 0.577 - 0s 767us/step - loss: 0.4529 - mean_absolute_error: 0.5772\n",
      "Epoch 78/500\n",
      "500/500 [==============================] - ETA: 0s - loss: 0.0590 - mean_absolute_error: 0.242 - ETA: 0s - loss: 0.5245 - mean_absolute_error: 0.630 - ETA: 0s - loss: 0.5145 - mean_absolute_error: 0.615 - ETA: 0s - loss: 0.4804 - mean_absolute_error: 0.591 - ETA: 0s - loss: 0.4483 - mean_absolute_error: 0.568 - ETA: 0s - loss: 0.4579 - mean_absolute_error: 0.573 - ETA: 0s - loss: 0.4510 - mean_absolute_error: 0.571 - ETA: 0s - loss: 0.4577 - mean_absolute_error: 0.575 - 0s 749us/step - loss: 0.4559 - mean_absolute_error: 0.5742\n",
      "Epoch 79/500\n",
      "500/500 [==============================] - ETA: 1s - loss: 0.6855 - mean_absolute_error: 0.828 - ETA: 0s - loss: 0.5294 - mean_absolute_error: 0.634 - ETA: 0s - loss: 0.4950 - mean_absolute_error: 0.608 - ETA: 0s - loss: 0.4806 - mean_absolute_error: 0.592 - ETA: 0s - loss: 0.4738 - mean_absolute_error: 0.586 - ETA: 0s - loss: 0.4709 - mean_absolute_error: 0.589 - ETA: 0s - loss: 0.4528 - mean_absolute_error: 0.574 - ETA: 0s - loss: 0.4531 - mean_absolute_error: 0.570 - ETA: 0s - loss: 0.4625 - mean_absolute_error: 0.576 - ETA: 0s - loss: 0.4703 - mean_absolute_error: 0.582 - ETA: 0s - loss: 0.4620 - mean_absolute_error: 0.574 - ETA: 0s - loss: 0.4549 - mean_absolute_error: 0.569 - 1s 1ms/step - loss: 0.4543 - mean_absolute_error: 0.5694\n",
      "Epoch 80/500\n",
      "500/500 [==============================] - ETA: 1s - loss: 0.8699 - mean_absolute_error: 0.932 - ETA: 0s - loss: 0.4290 - mean_absolute_error: 0.544 - ETA: 0s - loss: 0.4191 - mean_absolute_error: 0.538 - ETA: 0s - loss: 0.4187 - mean_absolute_error: 0.543 - ETA: 0s - loss: 0.4345 - mean_absolute_error: 0.558 - ETA: 0s - loss: 0.4379 - mean_absolute_error: 0.562 - ETA: 0s - loss: 0.4513 - mean_absolute_error: 0.572 - ETA: 0s - loss: 0.4552 - mean_absolute_error: 0.576 - ETA: 0s - loss: 0.4497 - mean_absolute_error: 0.573 - ETA: 0s - loss: 0.4481 - mean_absolute_error: 0.570 - 0s 931us/step - loss: 0.4500 - mean_absolute_error: 0.5705\n",
      "Epoch 81/500\n",
      "500/500 [==============================] - ETA: 0s - loss: 0.1158 - mean_absolute_error: 0.340 - ETA: 0s - loss: 0.3746 - mean_absolute_error: 0.515 - ETA: 0s - loss: 0.4686 - mean_absolute_error: 0.581 - ETA: 0s - loss: 0.4785 - mean_absolute_error: 0.586 - ETA: 0s - loss: 0.4743 - mean_absolute_error: 0.580 - ETA: 0s - loss: 0.4406 - mean_absolute_error: 0.556 - ETA: 0s - loss: 0.4263 - mean_absolute_error: 0.546 - ETA: 0s - loss: 0.4316 - mean_absolute_error: 0.555 - ETA: 0s - loss: 0.4269 - mean_absolute_error: 0.551 - ETA: 0s - loss: 0.4236 - mean_absolute_error: 0.549 - 0s 952us/step - loss: 0.4325 - mean_absolute_error: 0.5558\n",
      "Epoch 82/500\n",
      "500/500 [==============================] - ETA: 1s - loss: 0.0161 - mean_absolute_error: 0.126 - ETA: 0s - loss: 0.4329 - mean_absolute_error: 0.558 - ETA: 0s - loss: 0.4332 - mean_absolute_error: 0.536 - ETA: 0s - loss: 0.4413 - mean_absolute_error: 0.548 - ETA: 0s - loss: 0.4453 - mean_absolute_error: 0.561 - ETA: 0s - loss: 0.4400 - mean_absolute_error: 0.559 - ETA: 0s - loss: 0.4293 - mean_absolute_error: 0.552 - ETA: 0s - loss: 0.4383 - mean_absolute_error: 0.556 - ETA: 0s - loss: 0.4371 - mean_absolute_error: 0.556 - ETA: 0s - loss: 0.4454 - mean_absolute_error: 0.562 - 0s 947us/step - loss: 0.4480 - mean_absolute_error: 0.5658\n",
      "Epoch 83/500\n",
      "500/500 [==============================] - ETA: 0s - loss: 0.4455 - mean_absolute_error: 0.667 - ETA: 0s - loss: 0.4392 - mean_absolute_error: 0.560 - ETA: 0s - loss: 0.4665 - mean_absolute_error: 0.585 - ETA: 0s - loss: 0.4188 - mean_absolute_error: 0.547 - ETA: 0s - loss: 0.4522 - mean_absolute_error: 0.563 - ETA: 0s - loss: 0.4406 - mean_absolute_error: 0.558 - ETA: 0s - loss: 0.4343 - mean_absolute_error: 0.557 - ETA: 0s - loss: 0.4466 - mean_absolute_error: 0.569 - ETA: 0s - loss: 0.4543 - mean_absolute_error: 0.578 - ETA: 0s - loss: 0.4650 - mean_absolute_error: 0.590 - 0s 951us/step - loss: 0.4612 - mean_absolute_error: 0.5874\n",
      "Epoch 84/500\n",
      "500/500 [==============================] - ETA: 0s - loss: 0.2330 - mean_absolute_error: 0.482 - ETA: 0s - loss: 0.3364 - mean_absolute_error: 0.492 - ETA: 0s - loss: 0.3601 - mean_absolute_error: 0.502 - ETA: 0s - loss: 0.3752 - mean_absolute_error: 0.509 - ETA: 0s - loss: 0.4118 - mean_absolute_error: 0.536 - ETA: 0s - loss: 0.4264 - mean_absolute_error: 0.548 - ETA: 0s - loss: 0.4195 - mean_absolute_error: 0.542 - ETA: 0s - loss: 0.4485 - mean_absolute_error: 0.563 - ETA: 0s - loss: 0.4515 - mean_absolute_error: 0.565 - ETA: 0s - loss: 0.4521 - mean_absolute_error: 0.568 - 0s 955us/step - loss: 0.4478 - mean_absolute_error: 0.5676\n",
      "Epoch 85/500\n",
      "500/500 [==============================] - ETA: 0s - loss: 0.3842 - mean_absolute_error: 0.619 - ETA: 0s - loss: 0.4059 - mean_absolute_error: 0.553 - ETA: 0s - loss: 0.4068 - mean_absolute_error: 0.547 - ETA: 0s - loss: 0.4256 - mean_absolute_error: 0.553 - ETA: 0s - loss: 0.4208 - mean_absolute_error: 0.551 - ETA: 0s - loss: 0.4407 - mean_absolute_error: 0.570 - ETA: 0s - loss: 0.4528 - mean_absolute_error: 0.581 - ETA: 0s - loss: 0.4541 - mean_absolute_error: 0.582 - ETA: 0s - loss: 0.4579 - mean_absolute_error: 0.582 - ETA: 0s - loss: 0.4460 - mean_absolute_error: 0.572 - 0s 969us/step - loss: 0.4446 - mean_absolute_error: 0.5729\n",
      "Epoch 86/500\n",
      "500/500 [==============================] - ETA: 1s - loss: 0.1892 - mean_absolute_error: 0.435 - ETA: 0s - loss: 0.3878 - mean_absolute_error: 0.525 - ETA: 0s - loss: 0.4274 - mean_absolute_error: 0.555 - ETA: 0s - loss: 0.4156 - mean_absolute_error: 0.540 - ETA: 0s - loss: 0.4308 - mean_absolute_error: 0.553 - ETA: 0s - loss: 0.4487 - mean_absolute_error: 0.568 - ETA: 0s - loss: 0.4543 - mean_absolute_error: 0.574 - ETA: 0s - loss: 0.4427 - mean_absolute_error: 0.568 - ETA: 0s - loss: 0.4442 - mean_absolute_error: 0.571 - ETA: 0s - loss: 0.4394 - mean_absolute_error: 0.566 - 0s 949us/step - loss: 0.4441 - mean_absolute_error: 0.5700\n",
      "Epoch 87/500\n",
      "500/500 [==============================] - ETA: 0s - loss: 0.7456 - mean_absolute_error: 0.863 - ETA: 0s - loss: 0.4728 - mean_absolute_error: 0.564 - ETA: 0s - loss: 0.4343 - mean_absolute_error: 0.550 - ETA: 0s - loss: 0.4541 - mean_absolute_error: 0.568 - ETA: 0s - loss: 0.4496 - mean_absolute_error: 0.568 - ETA: 0s - loss: 0.4422 - mean_absolute_error: 0.562 - ETA: 0s - loss: 0.4396 - mean_absolute_error: 0.561 - ETA: 0s - loss: 0.4620 - mean_absolute_error: 0.579 - ETA: 0s - loss: 0.4475 - mean_absolute_error: 0.567 - 0s 911us/step - loss: 0.4445 - mean_absolute_error: 0.5655\n",
      "Epoch 88/500\n",
      "500/500 [==============================] - ETA: 1s - loss: 0.0032 - mean_absolute_error: 0.056 - ETA: 0s - loss: 0.5087 - mean_absolute_error: 0.599 - ETA: 0s - loss: 0.4506 - mean_absolute_error: 0.568 - ETA: 0s - loss: 0.4863 - mean_absolute_error: 0.598 - ETA: 0s - loss: 0.4654 - mean_absolute_error: 0.578 - ETA: 0s - loss: 0.4689 - mean_absolute_error: 0.578 - ETA: 0s - loss: 0.4772 - mean_absolute_error: 0.587 - ETA: 0s - loss: 0.4577 - mean_absolute_error: 0.574 - ETA: 0s - loss: 0.4594 - mean_absolute_error: 0.575 - ETA: 0s - loss: 0.4424 - mean_absolute_error: 0.563 - 1s 1ms/step - loss: 0.4458 - mean_absolute_error: 0.5668\n",
      "Epoch 89/500\n",
      "500/500 [==============================] - ETA: 0s - loss: 0.0333 - mean_absolute_error: 0.182 - ETA: 0s - loss: 0.4557 - mean_absolute_error: 0.567 - ETA: 0s - loss: 0.4499 - mean_absolute_error: 0.575 - ETA: 0s - loss: 0.4342 - mean_absolute_error: 0.563 - ETA: 0s - loss: 0.4301 - mean_absolute_error: 0.557 - ETA: 0s - loss: 0.4530 - mean_absolute_error: 0.570 - ETA: 0s - loss: 0.4394 - mean_absolute_error: 0.560 - ETA: 0s - loss: 0.4342 - mean_absolute_error: 0.559 - ETA: 0s - loss: 0.4434 - mean_absolute_error: 0.565 - 0s 907us/step - loss: 0.4396 - mean_absolute_error: 0.5650\n",
      "Epoch 90/500\n",
      "500/500 [==============================] - ETA: 0s - loss: 0.1579 - mean_absolute_error: 0.397 - ETA: 0s - loss: 0.4469 - mean_absolute_error: 0.579 - ETA: 0s - loss: 0.3856 - mean_absolute_error: 0.537 - ETA: 0s - loss: 0.3998 - mean_absolute_error: 0.540 - ETA: 0s - loss: 0.4171 - mean_absolute_error: 0.547 - ETA: 0s - loss: 0.4187 - mean_absolute_error: 0.548 - ETA: 0s - loss: 0.4274 - mean_absolute_error: 0.556 - ETA: 0s - loss: 0.4388 - mean_absolute_error: 0.562 - ETA: 0s - loss: 0.4386 - mean_absolute_error: 0.560 - 0s 903us/step - loss: 0.4434 - mean_absolute_error: 0.5651\n",
      "Epoch 91/500\n",
      "500/500 [==============================] - ETA: 0s - loss: 0.0524 - mean_absolute_error: 0.229 - ETA: 0s - loss: 0.4959 - mean_absolute_error: 0.625 - ETA: 0s - loss: 0.4732 - mean_absolute_error: 0.595 - ETA: 0s - loss: 0.4497 - mean_absolute_error: 0.573 - ETA: 0s - loss: 0.4453 - mean_absolute_error: 0.570 - ETA: 0s - loss: 0.4582 - mean_absolute_error: 0.580 - ETA: 0s - loss: 0.4522 - mean_absolute_error: 0.578 - ETA: 0s - loss: 0.4445 - mean_absolute_error: 0.573 - ETA: 0s - loss: 0.4430 - mean_absolute_error: 0.572 - ETA: 0s - loss: 0.4466 - mean_absolute_error: 0.574 - 0s 990us/step - loss: 0.4406 - mean_absolute_error: 0.5669\n",
      "Epoch 92/500\n",
      "500/500 [==============================] - ETA: 1s - loss: 0.0149 - mean_absolute_error: 0.122 - ETA: 0s - loss: 0.5393 - mean_absolute_error: 0.671 - ETA: 0s - loss: 0.4760 - mean_absolute_error: 0.597 - ETA: 0s - loss: 0.4499 - mean_absolute_error: 0.580 - ETA: 0s - loss: 0.4436 - mean_absolute_error: 0.568 - ETA: 0s - loss: 0.4507 - mean_absolute_error: 0.573 - ETA: 0s - loss: 0.4469 - mean_absolute_error: 0.569 - ETA: 0s - loss: 0.4430 - mean_absolute_error: 0.567 - ETA: 0s - loss: 0.4325 - mean_absolute_error: 0.555 - ETA: 0s - loss: 0.4254 - mean_absolute_error: 0.547 - ETA: 0s - loss: 0.4310 - mean_absolute_error: 0.553 - 1s 1ms/step - loss: 0.4340 - mean_absolute_error: 0.5574\n",
      "Epoch 93/500\n"
     ]
    },
    {
     "name": "stdout",
     "output_type": "stream",
     "text": [
      "500/500 [==============================] - ETA: 0s - loss: 0.1954 - mean_absolute_error: 0.442 - ETA: 0s - loss: 0.4647 - mean_absolute_error: 0.570 - ETA: 0s - loss: 0.4154 - mean_absolute_error: 0.541 - ETA: 0s - loss: 0.4416 - mean_absolute_error: 0.563 - ETA: 0s - loss: 0.4521 - mean_absolute_error: 0.575 - ETA: 0s - loss: 0.4531 - mean_absolute_error: 0.571 - ETA: 0s - loss: 0.4511 - mean_absolute_error: 0.571 - ETA: 0s - loss: 0.4425 - mean_absolute_error: 0.567 - ETA: 0s - loss: 0.4321 - mean_absolute_error: 0.560 - ETA: 0s - loss: 0.4307 - mean_absolute_error: 0.558 - 0s 951us/step - loss: 0.4349 - mean_absolute_error: 0.5613\n",
      "Epoch 94/500\n",
      "500/500 [==============================] - ETA: 0s - loss: 0.9737 - mean_absolute_error: 0.986 - ETA: 0s - loss: 0.3931 - mean_absolute_error: 0.530 - ETA: 0s - loss: 0.4084 - mean_absolute_error: 0.552 - ETA: 0s - loss: 0.4370 - mean_absolute_error: 0.561 - ETA: 0s - loss: 0.4257 - mean_absolute_error: 0.551 - ETA: 0s - loss: 0.4199 - mean_absolute_error: 0.547 - ETA: 0s - loss: 0.4219 - mean_absolute_error: 0.549 - ETA: 0s - loss: 0.4331 - mean_absolute_error: 0.557 - ETA: 0s - loss: 0.4343 - mean_absolute_error: 0.557 - ETA: 0s - loss: 0.4393 - mean_absolute_error: 0.560 - 0s 995us/step - loss: 0.4343 - mean_absolute_error: 0.5583\n",
      "Epoch 95/500\n",
      "500/500 [==============================] - ETA: 0s - loss: 0.5852 - mean_absolute_error: 0.765 - ETA: 0s - loss: 0.4001 - mean_absolute_error: 0.552 - ETA: 0s - loss: 0.4074 - mean_absolute_error: 0.554 - ETA: 0s - loss: 0.4153 - mean_absolute_error: 0.542 - ETA: 0s - loss: 0.4000 - mean_absolute_error: 0.528 - ETA: 0s - loss: 0.3987 - mean_absolute_error: 0.524 - ETA: 0s - loss: 0.3942 - mean_absolute_error: 0.520 - ETA: 0s - loss: 0.4029 - mean_absolute_error: 0.528 - ETA: 0s - loss: 0.4046 - mean_absolute_error: 0.531 - ETA: 0s - loss: 0.4171 - mean_absolute_error: 0.542 - ETA: 0s - loss: 0.4158 - mean_absolute_error: 0.539 - 1s 1ms/step - loss: 0.4156 - mean_absolute_error: 0.5398\n",
      "Epoch 96/500\n",
      "500/500 [==============================] - ETA: 2s - loss: 0.0990 - mean_absolute_error: 0.314 - ETA: 0s - loss: 0.4171 - mean_absolute_error: 0.580 - ETA: 0s - loss: 0.4040 - mean_absolute_error: 0.565 - ETA: 0s - loss: 0.3845 - mean_absolute_error: 0.533 - ETA: 0s - loss: 0.3721 - mean_absolute_error: 0.520 - ETA: 0s - loss: 0.4111 - mean_absolute_error: 0.551 - ETA: 0s - loss: 0.4200 - mean_absolute_error: 0.554 - ETA: 0s - loss: 0.4303 - mean_absolute_error: 0.559 - ETA: 0s - loss: 0.4358 - mean_absolute_error: 0.560 - ETA: 0s - loss: 0.4298 - mean_absolute_error: 0.555 - 1s 1ms/step - loss: 0.4277 - mean_absolute_error: 0.5552\n",
      "Epoch 97/500\n",
      "500/500 [==============================] - ETA: 1s - loss: 0.0036 - mean_absolute_error: 0.060 - ETA: 0s - loss: 0.3132 - mean_absolute_error: 0.462 - ETA: 0s - loss: 0.3577 - mean_absolute_error: 0.502 - ETA: 0s - loss: 0.4290 - mean_absolute_error: 0.551 - ETA: 0s - loss: 0.4375 - mean_absolute_error: 0.555 - ETA: 0s - loss: 0.4076 - mean_absolute_error: 0.531 - ETA: 0s - loss: 0.4253 - mean_absolute_error: 0.549 - ETA: 0s - loss: 0.4216 - mean_absolute_error: 0.546 - ETA: 0s - loss: 0.4274 - mean_absolute_error: 0.550 - ETA: 0s - loss: 0.4227 - mean_absolute_error: 0.546 - ETA: 0s - loss: 0.4307 - mean_absolute_error: 0.555 - 1s 1ms/step - loss: 0.4238 - mean_absolute_error: 0.5503\n",
      "Epoch 98/500\n",
      "500/500 [==============================] - ETA: 0s - loss: 0.4489 - mean_absolute_error: 0.670 - ETA: 0s - loss: 0.3642 - mean_absolute_error: 0.519 - ETA: 0s - loss: 0.3761 - mean_absolute_error: 0.526 - ETA: 0s - loss: 0.4076 - mean_absolute_error: 0.546 - ETA: 0s - loss: 0.4132 - mean_absolute_error: 0.554 - ETA: 0s - loss: 0.4280 - mean_absolute_error: 0.566 - ETA: 0s - loss: 0.4297 - mean_absolute_error: 0.562 - ETA: 0s - loss: 0.4382 - mean_absolute_error: 0.562 - ETA: 0s - loss: 0.4236 - mean_absolute_error: 0.552 - ETA: 0s - loss: 0.4264 - mean_absolute_error: 0.555 - ETA: 0s - loss: 0.4200 - mean_absolute_error: 0.549 - 1s 1ms/step - loss: 0.4235 - mean_absolute_error: 0.5533\n",
      "Epoch 99/500\n",
      "500/500 [==============================] - ETA: 0s - loss: 0.0035 - mean_absolute_error: 0.059 - ETA: 0s - loss: 0.4019 - mean_absolute_error: 0.538 - ETA: 0s - loss: 0.4803 - mean_absolute_error: 0.599 - ETA: 0s - loss: 0.4564 - mean_absolute_error: 0.576 - ETA: 0s - loss: 0.4601 - mean_absolute_error: 0.580 - ETA: 0s - loss: 0.4410 - mean_absolute_error: 0.562 - ETA: 0s - loss: 0.4470 - mean_absolute_error: 0.566 - ETA: 0s - loss: 0.4474 - mean_absolute_error: 0.571 - ETA: 0s - loss: 0.4297 - mean_absolute_error: 0.554 - ETA: 0s - loss: 0.4205 - mean_absolute_error: 0.547 - 0s 938us/step - loss: 0.4209 - mean_absolute_error: 0.5482\n",
      "Epoch 100/500\n",
      "500/500 [==============================] - ETA: 0s - loss: 0.6666 - mean_absolute_error: 0.816 - ETA: 0s - loss: 0.4970 - mean_absolute_error: 0.603 - ETA: 0s - loss: 0.4591 - mean_absolute_error: 0.585 - ETA: 0s - loss: 0.4285 - mean_absolute_error: 0.558 - ETA: 0s - loss: 0.4118 - mean_absolute_error: 0.538 - ETA: 0s - loss: 0.4145 - mean_absolute_error: 0.542 - ETA: 0s - loss: 0.4105 - mean_absolute_error: 0.540 - ETA: 0s - loss: 0.3991 - mean_absolute_error: 0.535 - ETA: 0s - loss: 0.3974 - mean_absolute_error: 0.532 - 0s 895us/step - loss: 0.4047 - mean_absolute_error: 0.5393\n",
      "Epoch 101/500\n",
      "500/500 [==============================] - ETA: 1s - loss: 0.2014 - mean_absolute_error: 0.448 - ETA: 0s - loss: 0.4000 - mean_absolute_error: 0.537 - ETA: 0s - loss: 0.3634 - mean_absolute_error: 0.510 - ETA: 0s - loss: 0.3811 - mean_absolute_error: 0.522 - ETA: 0s - loss: 0.3981 - mean_absolute_error: 0.531 - ETA: 0s - loss: 0.3956 - mean_absolute_error: 0.531 - ETA: 0s - loss: 0.4124 - mean_absolute_error: 0.543 - ETA: 0s - loss: 0.4138 - mean_absolute_error: 0.545 - ETA: 0s - loss: 0.4047 - mean_absolute_error: 0.535 - 0s 909us/step - loss: 0.4074 - mean_absolute_error: 0.5385\n",
      "Epoch 102/500\n",
      "500/500 [==============================] - ETA: 0s - loss: 0.2456 - mean_absolute_error: 0.495 - ETA: 0s - loss: 0.3756 - mean_absolute_error: 0.553 - ETA: 0s - loss: 0.4599 - mean_absolute_error: 0.593 - ETA: 0s - loss: 0.4365 - mean_absolute_error: 0.564 - ETA: 0s - loss: 0.4515 - mean_absolute_error: 0.576 - ETA: 0s - loss: 0.4381 - mean_absolute_error: 0.566 - ETA: 0s - loss: 0.4238 - mean_absolute_error: 0.556 - ETA: 0s - loss: 0.4266 - mean_absolute_error: 0.556 - ETA: 0s - loss: 0.4269 - mean_absolute_error: 0.556 - ETA: 0s - loss: 0.4155 - mean_absolute_error: 0.545 - 0s 963us/step - loss: 0.4078 - mean_absolute_error: 0.5390\n",
      "Epoch 103/500\n",
      "500/500 [==============================] - ETA: 1s - loss: 0.3249 - mean_absolute_error: 0.570 - ETA: 0s - loss: 0.4101 - mean_absolute_error: 0.531 - ETA: 0s - loss: 0.3952 - mean_absolute_error: 0.528 - ETA: 0s - loss: 0.4065 - mean_absolute_error: 0.531 - ETA: 0s - loss: 0.4146 - mean_absolute_error: 0.539 - ETA: 0s - loss: 0.4100 - mean_absolute_error: 0.535 - ETA: 0s - loss: 0.4009 - mean_absolute_error: 0.530 - ETA: 0s - loss: 0.3950 - mean_absolute_error: 0.527 - ETA: 0s - loss: 0.4043 - mean_absolute_error: 0.534 - ETA: 0s - loss: 0.3899 - mean_absolute_error: 0.522 - 0s 971us/step - loss: 0.3957 - mean_absolute_error: 0.5281\n",
      "Epoch 104/500\n",
      "500/500 [==============================] - ETA: 1s - loss: 0.1807 - mean_absolute_error: 0.425 - ETA: 0s - loss: 0.4539 - mean_absolute_error: 0.548 - ETA: 0s - loss: 0.4245 - mean_absolute_error: 0.537 - ETA: 0s - loss: 0.3842 - mean_absolute_error: 0.511 - ETA: 0s - loss: 0.3924 - mean_absolute_error: 0.518 - ETA: 0s - loss: 0.3941 - mean_absolute_error: 0.520 - ETA: 0s - loss: 0.3987 - mean_absolute_error: 0.522 - ETA: 0s - loss: 0.3963 - mean_absolute_error: 0.521 - ETA: 0s - loss: 0.3911 - mean_absolute_error: 0.515 - 0s 915us/step - loss: 0.3933 - mean_absolute_error: 0.5200\n",
      "Epoch 105/500\n",
      "500/500 [==============================] - ETA: 0s - loss: 0.0866 - mean_absolute_error: 0.294 - ETA: 0s - loss: 0.3779 - mean_absolute_error: 0.526 - ETA: 0s - loss: 0.3669 - mean_absolute_error: 0.498 - ETA: 0s - loss: 0.3578 - mean_absolute_error: 0.494 - ETA: 0s - loss: 0.3637 - mean_absolute_error: 0.499 - ETA: 0s - loss: 0.3651 - mean_absolute_error: 0.501 - ETA: 0s - loss: 0.3757 - mean_absolute_error: 0.511 - ETA: 0s - loss: 0.3913 - mean_absolute_error: 0.521 - ETA: 0s - loss: 0.3917 - mean_absolute_error: 0.519 - ETA: 0s - loss: 0.3964 - mean_absolute_error: 0.524 - 0s 929us/step - loss: 0.3964 - mean_absolute_error: 0.5247\n",
      "Epoch 106/500\n",
      "500/500 [==============================] - ETA: 0s - loss: 0.0019 - mean_absolute_error: 0.043 - ETA: 0s - loss: 0.2950 - mean_absolute_error: 0.444 - ETA: 0s - loss: 0.3422 - mean_absolute_error: 0.496 - ETA: 0s - loss: 0.3550 - mean_absolute_error: 0.498 - ETA: 0s - loss: 0.3791 - mean_absolute_error: 0.521 - ETA: 0s - loss: 0.3766 - mean_absolute_error: 0.518 - ETA: 0s - loss: 0.3823 - mean_absolute_error: 0.523 - ETA: 0s - loss: 0.3833 - mean_absolute_error: 0.524 - ETA: 0s - loss: 0.3692 - mean_absolute_error: 0.513 - ETA: 0s - loss: 0.3677 - mean_absolute_error: 0.512 - ETA: 0s - loss: 0.3754 - mean_absolute_error: 0.516 - ETA: 0s - loss: 0.3829 - mean_absolute_error: 0.521 - ETA: 0s - loss: 0.3894 - mean_absolute_error: 0.522 - 1s 1ms/step - loss: 0.3881 - mean_absolute_error: 0.5213\n",
      "Epoch 107/500\n",
      "500/500 [==============================] - ETA: 1s - loss: 0.1285 - mean_absolute_error: 0.358 - ETA: 0s - loss: 0.3034 - mean_absolute_error: 0.445 - ETA: 0s - loss: 0.3291 - mean_absolute_error: 0.479 - ETA: 0s - loss: 0.3378 - mean_absolute_error: 0.480 - ETA: 0s - loss: 0.3500 - mean_absolute_error: 0.491 - ETA: 0s - loss: 0.3782 - mean_absolute_error: 0.512 - ETA: 0s - loss: 0.3950 - mean_absolute_error: 0.528 - ETA: 0s - loss: 0.3928 - mean_absolute_error: 0.524 - ETA: 0s - loss: 0.3947 - mean_absolute_error: 0.529 - ETA: 0s - loss: 0.3918 - mean_absolute_error: 0.526 - 1s 1ms/step - loss: 0.3859 - mean_absolute_error: 0.5208\n",
      "Epoch 108/500\n",
      "500/500 [==============================] - ETA: 0s - loss: 0.0982 - mean_absolute_error: 0.313 - ETA: 0s - loss: 0.3939 - mean_absolute_error: 0.521 - ETA: 0s - loss: 0.4595 - mean_absolute_error: 0.568 - ETA: 0s - loss: 0.4372 - mean_absolute_error: 0.550 - ETA: 0s - loss: 0.4156 - mean_absolute_error: 0.533 - ETA: 0s - loss: 0.4168 - mean_absolute_error: 0.532 - ETA: 0s - loss: 0.3958 - mean_absolute_error: 0.514 - ETA: 0s - loss: 0.3877 - mean_absolute_error: 0.508 - ETA: 0s - loss: 0.3938 - mean_absolute_error: 0.512 - ETA: 0s - loss: 0.3892 - mean_absolute_error: 0.509 - ETA: 0s - loss: 0.3826 - mean_absolute_error: 0.507 - ETA: 0s - loss: 0.3814 - mean_absolute_error: 0.509 - 1s 1ms/step - loss: 0.3815 - mean_absolute_error: 0.5098\n",
      "Epoch 109/500\n",
      "500/500 [==============================] - ETA: 2s - loss: 0.0843 - mean_absolute_error: 0.290 - ETA: 0s - loss: 0.3113 - mean_absolute_error: 0.478 - ETA: 0s - loss: 0.3467 - mean_absolute_error: 0.492 - ETA: 0s - loss: 0.3424 - mean_absolute_error: 0.488 - ETA: 0s - loss: 0.3516 - mean_absolute_error: 0.487 - ETA: 0s - loss: 0.3501 - mean_absolute_error: 0.488 - ETA: 0s - loss: 0.3359 - mean_absolute_error: 0.477 - ETA: 0s - loss: 0.3463 - mean_absolute_error: 0.484 - ETA: 0s - loss: 0.3625 - mean_absolute_error: 0.499 - ETA: 0s - loss: 0.3666 - mean_absolute_error: 0.503 - ETA: 0s - loss: 0.3774 - mean_absolute_error: 0.507 - ETA: 0s - loss: 0.3747 - mean_absolute_error: 0.505 - 1s 1ms/step - loss: 0.3783 - mean_absolute_error: 0.5064\n",
      "Epoch 110/500\n",
      "500/500 [==============================] - ETA: 2s - loss: 0.0409 - mean_absolute_error: 0.202 - ETA: 0s - loss: 0.4088 - mean_absolute_error: 0.541 - ETA: 0s - loss: 0.3745 - mean_absolute_error: 0.513 - ETA: 0s - loss: 0.3473 - mean_absolute_error: 0.498 - ETA: 0s - loss: 0.3644 - mean_absolute_error: 0.513 - ETA: 0s - loss: 0.3599 - mean_absolute_error: 0.502 - ETA: 0s - loss: 0.3774 - mean_absolute_error: 0.516 - ETA: 0s - loss: 0.3723 - mean_absolute_error: 0.510 - ETA: 0s - loss: 0.3708 - mean_absolute_error: 0.509 - ETA: 0s - loss: 0.3846 - mean_absolute_error: 0.517 - 0s 988us/step - loss: 0.3724 - mean_absolute_error: 0.5069\n",
      "Epoch 111/500\n",
      "500/500 [==============================] - ETA: 0s - loss: 0.2516 - mean_absolute_error: 0.501 - ETA: 0s - loss: 0.3228 - mean_absolute_error: 0.475 - ETA: 0s - loss: 0.3888 - mean_absolute_error: 0.501 - ETA: 0s - loss: 0.3862 - mean_absolute_error: 0.501 - ETA: 0s - loss: 0.3861 - mean_absolute_error: 0.508 - ETA: 0s - loss: 0.3712 - mean_absolute_error: 0.504 - ETA: 0s - loss: 0.3594 - mean_absolute_error: 0.496 - ETA: 0s - loss: 0.3747 - mean_absolute_error: 0.508 - ETA: 0s - loss: 0.3624 - mean_absolute_error: 0.499 - ETA: 0s - loss: 0.3628 - mean_absolute_error: 0.495 - 0s 985us/step - loss: 0.3714 - mean_absolute_error: 0.5024\n",
      "Epoch 112/500\n",
      "500/500 [==============================] - ETA: 3s - loss: 0.0468 - mean_absolute_error: 0.216 - ETA: 0s - loss: 0.2876 - mean_absolute_error: 0.449 - ETA: 0s - loss: 0.3561 - mean_absolute_error: 0.502 - ETA: 0s - loss: 0.3687 - mean_absolute_error: 0.506 - ETA: 0s - loss: 0.3809 - mean_absolute_error: 0.510 - ETA: 0s - loss: 0.3770 - mean_absolute_error: 0.505 - ETA: 0s - loss: 0.3746 - mean_absolute_error: 0.505 - ETA: 0s - loss: 0.3783 - mean_absolute_error: 0.506 - ETA: 0s - loss: 0.3698 - mean_absolute_error: 0.501 - ETA: 0s - loss: 0.3695 - mean_absolute_error: 0.502 - ETA: 0s - loss: 0.3685 - mean_absolute_error: 0.501 - 1s 1ms/step - loss: 0.3676 - mean_absolute_error: 0.5011\n",
      "Epoch 113/500\n",
      "500/500 [==============================] - ETA: 1s - loss: 0.5696 - mean_absolute_error: 0.754 - ETA: 0s - loss: 0.3728 - mean_absolute_error: 0.501 - ETA: 0s - loss: 0.3348 - mean_absolute_error: 0.474 - ETA: 0s - loss: 0.3584 - mean_absolute_error: 0.489 - ETA: 0s - loss: 0.3801 - mean_absolute_error: 0.509 - ETA: 0s - loss: 0.3688 - mean_absolute_error: 0.496 - ETA: 0s - loss: 0.3730 - mean_absolute_error: 0.499 - ETA: 0s - loss: 0.3884 - mean_absolute_error: 0.510 - ETA: 0s - loss: 0.3679 - mean_absolute_error: 0.490 - ETA: 0s - loss: 0.3653 - mean_absolute_error: 0.491 - ETA: 0s - loss: 0.3608 - mean_absolute_error: 0.490 - 1s 1ms/step - loss: 0.3612 - mean_absolute_error: 0.4912\n",
      "Epoch 114/500\n",
      "500/500 [==============================] - ETA: 1s - loss: 0.2272 - mean_absolute_error: 0.476 - ETA: 0s - loss: 0.3821 - mean_absolute_error: 0.526 - ETA: 0s - loss: 0.3769 - mean_absolute_error: 0.512 - ETA: 0s - loss: 0.3900 - mean_absolute_error: 0.514 - ETA: 0s - loss: 0.3693 - mean_absolute_error: 0.495 - ETA: 0s - loss: 0.3685 - mean_absolute_error: 0.502 - ETA: 0s - loss: 0.3636 - mean_absolute_error: 0.499 - ETA: 0s - loss: 0.3593 - mean_absolute_error: 0.495 - ETA: 0s - loss: 0.3647 - mean_absolute_error: 0.501 - ETA: 0s - loss: 0.3585 - mean_absolute_error: 0.493 - 0s 977us/step - loss: 0.3608 - mean_absolute_error: 0.4920\n",
      "Epoch 115/500\n",
      "500/500 [==============================] - ETA: 0s - loss: 0.0726 - mean_absolute_error: 0.269 - ETA: 0s - loss: 0.4007 - mean_absolute_error: 0.526 - ETA: 0s - loss: 0.3405 - mean_absolute_error: 0.486 - ETA: 0s - loss: 0.3427 - mean_absolute_error: 0.487 - ETA: 0s - loss: 0.3344 - mean_absolute_error: 0.475 - ETA: 0s - loss: 0.3617 - mean_absolute_error: 0.498 - ETA: 0s - loss: 0.3598 - mean_absolute_error: 0.496 - ETA: 0s - loss: 0.3693 - mean_absolute_error: 0.502 - ETA: 0s - loss: 0.3620 - mean_absolute_error: 0.497 - 0s 888us/step - loss: 0.3514 - mean_absolute_error: 0.4915\n",
      "Epoch 116/500\n",
      "500/500 [==============================] - ETA: 0s - loss: 0.1440 - mean_absolute_error: 0.379 - ETA: 0s - loss: 0.3467 - mean_absolute_error: 0.482 - ETA: 0s - loss: 0.3528 - mean_absolute_error: 0.483 - ETA: 0s - loss: 0.3580 - mean_absolute_error: 0.486 - ETA: 0s - loss: 0.3468 - mean_absolute_error: 0.477 - ETA: 0s - loss: 0.3334 - mean_absolute_error: 0.470 - ETA: 0s - loss: 0.3530 - mean_absolute_error: 0.489 - ETA: 0s - loss: 0.3565 - mean_absolute_error: 0.492 - ETA: 0s - loss: 0.3557 - mean_absolute_error: 0.490 - 0s 886us/step - loss: 0.3471 - mean_absolute_error: 0.4831\n"
     ]
    },
    {
     "name": "stdout",
     "output_type": "stream",
     "text": [
      "Epoch 117/500\n",
      "500/500 [==============================] - ETA: 0s - loss: 0.0623 - mean_absolute_error: 0.249 - ETA: 0s - loss: 0.3659 - mean_absolute_error: 0.507 - ETA: 0s - loss: 0.3764 - mean_absolute_error: 0.508 - ETA: 0s - loss: 0.3649 - mean_absolute_error: 0.498 - ETA: 0s - loss: 0.3540 - mean_absolute_error: 0.493 - ETA: 0s - loss: 0.3656 - mean_absolute_error: 0.498 - ETA: 0s - loss: 0.3646 - mean_absolute_error: 0.497 - ETA: 0s - loss: 0.3624 - mean_absolute_error: 0.498 - ETA: 0s - loss: 0.3619 - mean_absolute_error: 0.496 - ETA: 0s - loss: 0.3553 - mean_absolute_error: 0.488 - ETA: 0s - loss: 0.3455 - mean_absolute_error: 0.480 - 1s 1ms/step - loss: 0.3459 - mean_absolute_error: 0.4812\n",
      "Epoch 118/500\n",
      "500/500 [==============================] - ETA: 0s - loss: 0.0084 - mean_absolute_error: 0.091 - ETA: 0s - loss: 0.3002 - mean_absolute_error: 0.429 - ETA: 0s - loss: 0.3151 - mean_absolute_error: 0.443 - ETA: 0s - loss: 0.3133 - mean_absolute_error: 0.449 - ETA: 0s - loss: 0.3128 - mean_absolute_error: 0.445 - ETA: 0s - loss: 0.3181 - mean_absolute_error: 0.446 - ETA: 0s - loss: 0.3105 - mean_absolute_error: 0.441 - ETA: 0s - loss: 0.3189 - mean_absolute_error: 0.451 - ETA: 0s - loss: 0.3290 - mean_absolute_error: 0.459 - 0s 900us/step - loss: 0.3305 - mean_absolute_error: 0.4632\n",
      "Epoch 119/500\n",
      "500/500 [==============================] - ETA: 0s - loss: 0.2145 - mean_absolute_error: 0.463 - ETA: 0s - loss: 0.3805 - mean_absolute_error: 0.527 - ETA: 0s - loss: 0.3363 - mean_absolute_error: 0.489 - ETA: 0s - loss: 0.3429 - mean_absolute_error: 0.491 - ETA: 0s - loss: 0.3543 - mean_absolute_error: 0.498 - ETA: 0s - loss: 0.3475 - mean_absolute_error: 0.488 - ETA: 0s - loss: 0.3349 - mean_absolute_error: 0.473 - ETA: 0s - loss: 0.3318 - mean_absolute_error: 0.473 - ETA: 0s - loss: 0.3465 - mean_absolute_error: 0.481 - 0s 905us/step - loss: 0.3422 - mean_absolute_error: 0.4806\n",
      "Epoch 120/500\n",
      "500/500 [==============================] - ETA: 0s - loss: 0.0918 - mean_absolute_error: 0.303 - ETA: 0s - loss: 0.2499 - mean_absolute_error: 0.387 - ETA: 0s - loss: 0.3310 - mean_absolute_error: 0.469 - ETA: 0s - loss: 0.3202 - mean_absolute_error: 0.468 - ETA: 0s - loss: 0.3245 - mean_absolute_error: 0.465 - ETA: 0s - loss: 0.3332 - mean_absolute_error: 0.473 - ETA: 0s - loss: 0.3350 - mean_absolute_error: 0.469 - ETA: 0s - loss: 0.3471 - mean_absolute_error: 0.477 - ETA: 0s - loss: 0.3448 - mean_absolute_error: 0.476 - ETA: 0s - loss: 0.3504 - mean_absolute_error: 0.482 - 0s 981us/step - loss: 0.3437 - mean_absolute_error: 0.4762\n",
      "Epoch 121/500\n",
      "500/500 [==============================] - ETA: 0s - loss: 0.1846 - mean_absolute_error: 0.429 - ETA: 0s - loss: 0.3106 - mean_absolute_error: 0.442 - ETA: 0s - loss: 0.3585 - mean_absolute_error: 0.490 - ETA: 0s - loss: 0.3462 - mean_absolute_error: 0.476 - ETA: 0s - loss: 0.3430 - mean_absolute_error: 0.472 - ETA: 0s - loss: 0.3303 - mean_absolute_error: 0.464 - ETA: 0s - loss: 0.3327 - mean_absolute_error: 0.467 - ETA: 0s - loss: 0.3333 - mean_absolute_error: 0.467 - ETA: 0s - loss: 0.3223 - mean_absolute_error: 0.457 - ETA: 0s - loss: 0.3222 - mean_absolute_error: 0.459 - 1s 1ms/step - loss: 0.3293 - mean_absolute_error: 0.4653\n",
      "Epoch 122/500\n",
      "500/500 [==============================] - ETA: 0s - loss: 0.0103 - mean_absolute_error: 0.101 - ETA: 0s - loss: 0.3988 - mean_absolute_error: 0.515 - ETA: 0s - loss: 0.3404 - mean_absolute_error: 0.476 - ETA: 0s - loss: 0.3423 - mean_absolute_error: 0.471 - ETA: 0s - loss: 0.3510 - mean_absolute_error: 0.476 - ETA: 0s - loss: 0.3479 - mean_absolute_error: 0.473 - ETA: 0s - loss: 0.3447 - mean_absolute_error: 0.474 - ETA: 0s - loss: 0.3359 - mean_absolute_error: 0.467 - ETA: 0s - loss: 0.3374 - mean_absolute_error: 0.466 - ETA: 0s - loss: 0.3324 - mean_absolute_error: 0.462 - 0s 953us/step - loss: 0.3325 - mean_absolute_error: 0.4623\n",
      "Epoch 123/500\n",
      "500/500 [==============================] - ETA: 1s - loss: 0.5055 - mean_absolute_error: 0.711 - ETA: 0s - loss: 0.3747 - mean_absolute_error: 0.485 - ETA: 0s - loss: 0.3350 - mean_absolute_error: 0.471 - ETA: 0s - loss: 0.3480 - mean_absolute_error: 0.475 - ETA: 0s - loss: 0.3361 - mean_absolute_error: 0.466 - ETA: 0s - loss: 0.3306 - mean_absolute_error: 0.461 - ETA: 0s - loss: 0.3282 - mean_absolute_error: 0.457 - ETA: 0s - loss: 0.3247 - mean_absolute_error: 0.452 - ETA: 0s - loss: 0.3277 - mean_absolute_error: 0.456 - ETA: 0s - loss: 0.3357 - mean_absolute_error: 0.462 - 1s 1ms/step - loss: 0.3374 - mean_absolute_error: 0.4616\n",
      "Epoch 124/500\n",
      "500/500 [==============================] - ETA: 0s - loss: 0.2394 - mean_absolute_error: 0.489 - ETA: 0s - loss: 0.3751 - mean_absolute_error: 0.527 - ETA: 0s - loss: 0.3280 - mean_absolute_error: 0.481 - ETA: 0s - loss: 0.3218 - mean_absolute_error: 0.471 - ETA: 0s - loss: 0.3316 - mean_absolute_error: 0.475 - ETA: 0s - loss: 0.3407 - mean_absolute_error: 0.477 - ETA: 0s - loss: 0.3398 - mean_absolute_error: 0.476 - ETA: 0s - loss: 0.3310 - mean_absolute_error: 0.469 - ETA: 0s - loss: 0.3357 - mean_absolute_error: 0.474 - ETA: 0s - loss: 0.3298 - mean_absolute_error: 0.467 - 0s 962us/step - loss: 0.3314 - mean_absolute_error: 0.4676\n",
      "Epoch 125/500\n",
      "500/500 [==============================] - ETA: 0s - loss: 0.1674 - mean_absolute_error: 0.409 - ETA: 0s - loss: 0.2596 - mean_absolute_error: 0.403 - ETA: 0s - loss: 0.3027 - mean_absolute_error: 0.443 - ETA: 0s - loss: 0.3150 - mean_absolute_error: 0.449 - ETA: 0s - loss: 0.3160 - mean_absolute_error: 0.453 - ETA: 0s - loss: 0.3310 - mean_absolute_error: 0.463 - ETA: 0s - loss: 0.3337 - mean_absolute_error: 0.465 - ETA: 0s - loss: 0.3375 - mean_absolute_error: 0.467 - ETA: 0s - loss: 0.3280 - mean_absolute_error: 0.462 - 0s 892us/step - loss: 0.3252 - mean_absolute_error: 0.4567\n",
      "Epoch 126/500\n",
      "500/500 [==============================] - ETA: 0s - loss: 0.0020 - mean_absolute_error: 0.044 - ETA: 0s - loss: 0.3343 - mean_absolute_error: 0.456 - ETA: 0s - loss: 0.3548 - mean_absolute_error: 0.479 - ETA: 0s - loss: 0.3485 - mean_absolute_error: 0.474 - ETA: 0s - loss: 0.3397 - mean_absolute_error: 0.465 - ETA: 0s - loss: 0.3254 - mean_absolute_error: 0.449 - ETA: 0s - loss: 0.3178 - mean_absolute_error: 0.446 - ETA: 0s - loss: 0.3063 - mean_absolute_error: 0.436 - ETA: 0s - loss: 0.3092 - mean_absolute_error: 0.438 - ETA: 0s - loss: 0.3159 - mean_absolute_error: 0.444 - 0s 933us/step - loss: 0.3143 - mean_absolute_error: 0.4431\n",
      "Epoch 127/500\n",
      "500/500 [==============================] - ETA: 0s - loss: 0.1179 - mean_absolute_error: 0.343 - ETA: 0s - loss: 0.2804 - mean_absolute_error: 0.392 - ETA: 0s - loss: 0.2530 - mean_absolute_error: 0.383 - ETA: 0s - loss: 0.2806 - mean_absolute_error: 0.414 - ETA: 0s - loss: 0.2888 - mean_absolute_error: 0.425 - ETA: 0s - loss: 0.3030 - mean_absolute_error: 0.438 - ETA: 0s - loss: 0.3130 - mean_absolute_error: 0.446 - ETA: 0s - loss: 0.3188 - mean_absolute_error: 0.453 - ETA: 0s - loss: 0.3097 - mean_absolute_error: 0.446 - 0s 907us/step - loss: 0.3220 - mean_absolute_error: 0.4592\n",
      "Epoch 128/500\n",
      "500/500 [==============================] - ETA: 0s - loss: 0.0223 - mean_absolute_error: 0.149 - ETA: 0s - loss: 0.3274 - mean_absolute_error: 0.460 - ETA: 0s - loss: 0.2961 - mean_absolute_error: 0.443 - ETA: 0s - loss: 0.3098 - mean_absolute_error: 0.446 - ETA: 0s - loss: 0.3217 - mean_absolute_error: 0.460 - ETA: 0s - loss: 0.3009 - mean_absolute_error: 0.442 - ETA: 0s - loss: 0.3136 - mean_absolute_error: 0.450 - ETA: 0s - loss: 0.3239 - mean_absolute_error: 0.455 - ETA: 0s - loss: 0.3292 - mean_absolute_error: 0.458 - 0s 908us/step - loss: 0.3255 - mean_absolute_error: 0.4566\n",
      "Epoch 129/500\n",
      "500/500 [==============================] - ETA: 0s - loss: 0.8537 - mean_absolute_error: 0.924 - ETA: 0s - loss: 0.3368 - mean_absolute_error: 0.460 - ETA: 0s - loss: 0.3270 - mean_absolute_error: 0.471 - ETA: 0s - loss: 0.3226 - mean_absolute_error: 0.464 - ETA: 0s - loss: 0.3156 - mean_absolute_error: 0.455 - ETA: 0s - loss: 0.3093 - mean_absolute_error: 0.449 - ETA: 0s - loss: 0.3278 - mean_absolute_error: 0.461 - ETA: 0s - loss: 0.3228 - mean_absolute_error: 0.455 - ETA: 0s - loss: 0.3184 - mean_absolute_error: 0.449 - ETA: 0s - loss: 0.3160 - mean_absolute_error: 0.447 - 0s 928us/step - loss: 0.3154 - mean_absolute_error: 0.4470\n",
      "Epoch 130/500\n",
      "500/500 [==============================] - ETA: 0s - loss: 0.4668 - mean_absolute_error: 0.683 - ETA: 0s - loss: 0.2568 - mean_absolute_error: 0.408 - ETA: 0s - loss: 0.2788 - mean_absolute_error: 0.423 - ETA: 0s - loss: 0.2919 - mean_absolute_error: 0.431 - ETA: 0s - loss: 0.2988 - mean_absolute_error: 0.435 - ETA: 0s - loss: 0.3093 - mean_absolute_error: 0.446 - ETA: 0s - loss: 0.3124 - mean_absolute_error: 0.450 - ETA: 0s - loss: 0.3052 - mean_absolute_error: 0.444 - ETA: 0s - loss: 0.2979 - mean_absolute_error: 0.439 - ETA: 0s - loss: 0.3066 - mean_absolute_error: 0.446 - 0s 956us/step - loss: 0.3064 - mean_absolute_error: 0.4471\n",
      "Epoch 131/500\n",
      "500/500 [==============================] - ETA: 0s - loss: 0.6595 - mean_absolute_error: 0.812 - ETA: 0s - loss: 0.3452 - mean_absolute_error: 0.453 - ETA: 0s - loss: 0.3199 - mean_absolute_error: 0.446 - ETA: 0s - loss: 0.3193 - mean_absolute_error: 0.441 - ETA: 0s - loss: 0.3030 - mean_absolute_error: 0.428 - ETA: 0s - loss: 0.3032 - mean_absolute_error: 0.434 - ETA: 0s - loss: 0.3130 - mean_absolute_error: 0.442 - ETA: 0s - loss: 0.2983 - mean_absolute_error: 0.430 - ETA: 0s - loss: 0.2976 - mean_absolute_error: 0.432 - ETA: 0s - loss: 0.3070 - mean_absolute_error: 0.439 - 0s 981us/step - loss: 0.3092 - mean_absolute_error: 0.4435\n",
      "Epoch 132/500\n",
      "500/500 [==============================] - ETA: 0s - loss: 0.2308 - mean_absolute_error: 0.480 - ETA: 0s - loss: 0.3297 - mean_absolute_error: 0.461 - ETA: 0s - loss: 0.3270 - mean_absolute_error: 0.462 - ETA: 0s - loss: 0.3320 - mean_absolute_error: 0.464 - ETA: 0s - loss: 0.3239 - mean_absolute_error: 0.461 - ETA: 0s - loss: 0.3119 - mean_absolute_error: 0.448 - ETA: 0s - loss: 0.3124 - mean_absolute_error: 0.448 - ETA: 0s - loss: 0.3101 - mean_absolute_error: 0.443 - ETA: 0s - loss: 0.3119 - mean_absolute_error: 0.448 - ETA: 0s - loss: 0.3131 - mean_absolute_error: 0.451 - 1s 1ms/step - loss: 0.3182 - mean_absolute_error: 0.4554\n",
      "Epoch 133/500\n",
      "500/500 [==============================] - ETA: 0s - loss: 5.7099e-04 - mean_absolute_error: 0.023 - ETA: 0s - loss: 0.4130 - mean_absolute_error: 0.5297    - ETA: 0s - loss: 0.3562 - mean_absolute_error: 0.474 - ETA: 0s - loss: 0.3561 - mean_absolute_error: 0.481 - ETA: 0s - loss: 0.3483 - mean_absolute_error: 0.479 - ETA: 0s - loss: 0.3290 - mean_absolute_error: 0.464 - ETA: 0s - loss: 0.3132 - mean_absolute_error: 0.449 - ETA: 0s - loss: 0.3210 - mean_absolute_error: 0.452 - ETA: 0s - loss: 0.3026 - mean_absolute_error: 0.439 - ETA: 0s - loss: 0.3137 - mean_absolute_error: 0.451 - 0s 975us/step - loss: 0.3161 - mean_absolute_error: 0.4516\n",
      "Epoch 134/500\n",
      "500/500 [==============================] - ETA: 0s - loss: 0.0856 - mean_absolute_error: 0.292 - ETA: 0s - loss: 0.2848 - mean_absolute_error: 0.414 - ETA: 0s - loss: 0.3197 - mean_absolute_error: 0.454 - ETA: 0s - loss: 0.3275 - mean_absolute_error: 0.461 - ETA: 0s - loss: 0.3395 - mean_absolute_error: 0.465 - ETA: 0s - loss: 0.3172 - mean_absolute_error: 0.451 - ETA: 0s - loss: 0.3061 - mean_absolute_error: 0.441 - ETA: 0s - loss: 0.3039 - mean_absolute_error: 0.438 - ETA: 0s - loss: 0.3041 - mean_absolute_error: 0.439 - 0s 902us/step - loss: 0.3109 - mean_absolute_error: 0.4463\n",
      "Epoch 135/500\n",
      "500/500 [==============================] - ETA: 0s - loss: 1.4501 - mean_absolute_error: 1.204 - ETA: 0s - loss: 0.3082 - mean_absolute_error: 0.446 - ETA: 0s - loss: 0.2818 - mean_absolute_error: 0.424 - ETA: 0s - loss: 0.2893 - mean_absolute_error: 0.438 - ETA: 0s - loss: 0.2836 - mean_absolute_error: 0.433 - ETA: 0s - loss: 0.2839 - mean_absolute_error: 0.429 - ETA: 0s - loss: 0.3002 - mean_absolute_error: 0.443 - ETA: 0s - loss: 0.2985 - mean_absolute_error: 0.439 - ETA: 0s - loss: 0.2923 - mean_absolute_error: 0.430 - ETA: 0s - loss: 0.2987 - mean_absolute_error: 0.435 - 0s 979us/step - loss: 0.2960 - mean_absolute_error: 0.4338\n",
      "Epoch 136/500\n",
      "500/500 [==============================] - ETA: 0s - loss: 0.1259 - mean_absolute_error: 0.354 - ETA: 0s - loss: 0.1897 - mean_absolute_error: 0.327 - ETA: 0s - loss: 0.2334 - mean_absolute_error: 0.368 - ETA: 0s - loss: 0.2526 - mean_absolute_error: 0.382 - ETA: 0s - loss: 0.2768 - mean_absolute_error: 0.410 - ETA: 0s - loss: 0.2817 - mean_absolute_error: 0.417 - ETA: 0s - loss: 0.2795 - mean_absolute_error: 0.417 - ETA: 0s - loss: 0.2927 - mean_absolute_error: 0.431 - ETA: 0s - loss: 0.2949 - mean_absolute_error: 0.433 - ETA: 0s - loss: 0.2963 - mean_absolute_error: 0.434 - 0s 934us/step - loss: 0.2961 - mean_absolute_error: 0.4347\n",
      "Epoch 137/500\n",
      "500/500 [==============================] - ETA: 0s - loss: 0.0932 - mean_absolute_error: 0.305 - ETA: 0s - loss: 0.2745 - mean_absolute_error: 0.415 - ETA: 0s - loss: 0.2997 - mean_absolute_error: 0.446 - ETA: 0s - loss: 0.3228 - mean_absolute_error: 0.455 - ETA: 0s - loss: 0.3268 - mean_absolute_error: 0.458 - ETA: 0s - loss: 0.3133 - mean_absolute_error: 0.446 - ETA: 0s - loss: 0.3042 - mean_absolute_error: 0.439 - ETA: 0s - loss: 0.3079 - mean_absolute_error: 0.447 - ETA: 0s - loss: 0.3022 - mean_absolute_error: 0.439 - 0s 908us/step - loss: 0.3038 - mean_absolute_error: 0.4428\n",
      "Epoch 138/500\n",
      "500/500 [==============================] - ETA: 0s - loss: 1.1674 - mean_absolute_error: 1.080 - ETA: 0s - loss: 0.3517 - mean_absolute_error: 0.483 - ETA: 0s - loss: 0.3262 - mean_absolute_error: 0.459 - ETA: 0s - loss: 0.3398 - mean_absolute_error: 0.470 - ETA: 0s - loss: 0.3254 - mean_absolute_error: 0.460 - ETA: 0s - loss: 0.3215 - mean_absolute_error: 0.461 - ETA: 0s - loss: 0.3249 - mean_absolute_error: 0.459 - ETA: 0s - loss: 0.3202 - mean_absolute_error: 0.452 - ETA: 0s - loss: 0.3105 - mean_absolute_error: 0.444 - ETA: 0s - loss: 0.3067 - mean_absolute_error: 0.439 - 0s 970us/step - loss: 0.3089 - mean_absolute_error: 0.4403\n",
      "Epoch 139/500\n",
      "500/500 [==============================] - ETA: 0s - loss: 0.0817 - mean_absolute_error: 0.285 - ETA: 0s - loss: 0.3039 - mean_absolute_error: 0.433 - ETA: 0s - loss: 0.2907 - mean_absolute_error: 0.427 - ETA: 0s - loss: 0.2776 - mean_absolute_error: 0.420 - ETA: 0s - loss: 0.2764 - mean_absolute_error: 0.420 - ETA: 0s - loss: 0.2674 - mean_absolute_error: 0.412 - ETA: 0s - loss: 0.2838 - mean_absolute_error: 0.425 - ETA: 0s - loss: 0.2911 - mean_absolute_error: 0.427 - ETA: 0s - loss: 0.3042 - mean_absolute_error: 0.439 - 0s 867us/step - loss: 0.3073 - mean_absolute_error: 0.4417\n",
      "Epoch 140/500\n",
      "500/500 [==============================] - ETA: 0s - loss: 0.1661 - mean_absolute_error: 0.407 - ETA: 0s - loss: 0.2682 - mean_absolute_error: 0.396 - ETA: 0s - loss: 0.2638 - mean_absolute_error: 0.392 - ETA: 0s - loss: 0.2733 - mean_absolute_error: 0.411 - ETA: 0s - loss: 0.2571 - mean_absolute_error: 0.399 - ETA: 0s - loss: 0.2841 - mean_absolute_error: 0.421 - ETA: 0s - loss: 0.2817 - mean_absolute_error: 0.419 - ETA: 0s - loss: 0.2837 - mean_absolute_error: 0.422 - ETA: 0s - loss: 0.2846 - mean_absolute_error: 0.422 - ETA: 0s - loss: 0.2914 - mean_absolute_error: 0.430 - 0s 962us/step - loss: 0.2932 - mean_absolute_error: 0.4293\n",
      "Epoch 141/500\n"
     ]
    },
    {
     "name": "stdout",
     "output_type": "stream",
     "text": [
      "500/500 [==============================] - ETA: 0s - loss: 0.0151 - mean_absolute_error: 0.122 - ETA: 0s - loss: 0.3168 - mean_absolute_error: 0.448 - ETA: 0s - loss: 0.3022 - mean_absolute_error: 0.427 - ETA: 0s - loss: 0.2770 - mean_absolute_error: 0.412 - ETA: 0s - loss: 0.2876 - mean_absolute_error: 0.419 - ETA: 0s - loss: 0.2786 - mean_absolute_error: 0.409 - ETA: 0s - loss: 0.2977 - mean_absolute_error: 0.427 - ETA: 0s - loss: 0.2836 - mean_absolute_error: 0.417 - ETA: 0s - loss: 0.2906 - mean_absolute_error: 0.423 - ETA: 0s - loss: 0.2888 - mean_absolute_error: 0.422 - 0s 978us/step - loss: 0.2916 - mean_absolute_error: 0.4244\n",
      "Epoch 142/500\n",
      "500/500 [==============================] - ETA: 1s - loss: 0.0177 - mean_absolute_error: 0.133 - ETA: 0s - loss: 0.3361 - mean_absolute_error: 0.464 - ETA: 0s - loss: 0.3510 - mean_absolute_error: 0.467 - ETA: 0s - loss: 0.3466 - mean_absolute_error: 0.465 - ETA: 0s - loss: 0.3357 - mean_absolute_error: 0.461 - ETA: 0s - loss: 0.3312 - mean_absolute_error: 0.459 - ETA: 0s - loss: 0.3096 - mean_absolute_error: 0.442 - ETA: 0s - loss: 0.3004 - mean_absolute_error: 0.435 - ETA: 0s - loss: 0.2944 - mean_absolute_error: 0.430 - ETA: 0s - loss: 0.2976 - mean_absolute_error: 0.433 - 0s 994us/step - loss: 0.3008 - mean_absolute_error: 0.4358\n",
      "Epoch 143/500\n",
      "500/500 [==============================] - ETA: 0s - loss: 0.6581 - mean_absolute_error: 0.811 - ETA: 0s - loss: 0.3605 - mean_absolute_error: 0.502 - ETA: 0s - loss: 0.3244 - mean_absolute_error: 0.467 - ETA: 0s - loss: 0.3084 - mean_absolute_error: 0.453 - ETA: 0s - loss: 0.3051 - mean_absolute_error: 0.447 - ETA: 0s - loss: 0.2959 - mean_absolute_error: 0.434 - ETA: 0s - loss: 0.2978 - mean_absolute_error: 0.430 - ETA: 0s - loss: 0.2952 - mean_absolute_error: 0.428 - ETA: 0s - loss: 0.2859 - mean_absolute_error: 0.420 - ETA: 0s - loss: 0.2854 - mean_absolute_error: 0.417 - 0s 975us/step - loss: 0.2926 - mean_absolute_error: 0.4246\n",
      "Epoch 144/500\n",
      "500/500 [==============================] - ETA: 0s - loss: 0.1394 - mean_absolute_error: 0.373 - ETA: 0s - loss: 0.3048 - mean_absolute_error: 0.456 - ETA: 0s - loss: 0.3031 - mean_absolute_error: 0.450 - ETA: 0s - loss: 0.3010 - mean_absolute_error: 0.446 - ETA: 0s - loss: 0.3078 - mean_absolute_error: 0.444 - ETA: 0s - loss: 0.3061 - mean_absolute_error: 0.445 - ETA: 0s - loss: 0.2945 - mean_absolute_error: 0.436 - ETA: 0s - loss: 0.3045 - mean_absolute_error: 0.440 - ETA: 0s - loss: 0.3047 - mean_absolute_error: 0.441 - ETA: 0s - loss: 0.3078 - mean_absolute_error: 0.445 - 0s 980us/step - loss: 0.3051 - mean_absolute_error: 0.4425\n",
      "Epoch 145/500\n",
      "500/500 [==============================] - ETA: 0s - loss: 0.0493 - mean_absolute_error: 0.222 - ETA: 0s - loss: 0.3878 - mean_absolute_error: 0.490 - ETA: 0s - loss: 0.3438 - mean_absolute_error: 0.461 - ETA: 0s - loss: 0.3368 - mean_absolute_error: 0.460 - ETA: 0s - loss: 0.3343 - mean_absolute_error: 0.462 - ETA: 0s - loss: 0.3217 - mean_absolute_error: 0.445 - ETA: 0s - loss: 0.3242 - mean_absolute_error: 0.450 - ETA: 0s - loss: 0.3160 - mean_absolute_error: 0.441 - ETA: 0s - loss: 0.3082 - mean_absolute_error: 0.435 - ETA: 0s - loss: 0.3029 - mean_absolute_error: 0.431 - 0s 995us/step - loss: 0.2973 - mean_absolute_error: 0.4250\n",
      "Epoch 146/500\n",
      "500/500 [==============================] - ETA: 0s - loss: 0.4703 - mean_absolute_error: 0.685 - ETA: 0s - loss: 0.3741 - mean_absolute_error: 0.502 - ETA: 0s - loss: 0.3617 - mean_absolute_error: 0.490 - ETA: 0s - loss: 0.3192 - mean_absolute_error: 0.448 - ETA: 0s - loss: 0.2982 - mean_absolute_error: 0.428 - ETA: 0s - loss: 0.3027 - mean_absolute_error: 0.432 - ETA: 0s - loss: 0.3036 - mean_absolute_error: 0.436 - ETA: 0s - loss: 0.2983 - mean_absolute_error: 0.433 - ETA: 0s - loss: 0.3019 - mean_absolute_error: 0.435 - ETA: 0s - loss: 0.2998 - mean_absolute_error: 0.433 - ETA: 0s - loss: 0.2968 - mean_absolute_error: 0.429 - 1s 1ms/step - loss: 0.2964 - mean_absolute_error: 0.4297\n",
      "Epoch 147/500\n",
      "500/500 [==============================] - ETA: 0s - loss: 0.0133 - mean_absolute_error: 0.115 - ETA: 0s - loss: 0.2497 - mean_absolute_error: 0.423 - ETA: 0s - loss: 0.3027 - mean_absolute_error: 0.451 - ETA: 0s - loss: 0.3463 - mean_absolute_error: 0.481 - ETA: 0s - loss: 0.3292 - mean_absolute_error: 0.470 - ETA: 0s - loss: 0.3094 - mean_absolute_error: 0.452 - ETA: 0s - loss: 0.3020 - mean_absolute_error: 0.447 - ETA: 0s - loss: 0.3071 - mean_absolute_error: 0.451 - ETA: 0s - loss: 0.3094 - mean_absolute_error: 0.448 - ETA: 0s - loss: 0.3004 - mean_absolute_error: 0.441 - 0s 979us/step - loss: 0.2949 - mean_absolute_error: 0.4361\n",
      "Epoch 148/500\n",
      "500/500 [==============================] - ETA: 0s - loss: 0.0561 - mean_absolute_error: 0.237 - ETA: 0s - loss: 0.2769 - mean_absolute_error: 0.435 - ETA: 0s - loss: 0.3656 - mean_absolute_error: 0.494 - ETA: 0s - loss: 0.3334 - mean_absolute_error: 0.469 - ETA: 0s - loss: 0.3130 - mean_absolute_error: 0.453 - ETA: 0s - loss: 0.2939 - mean_absolute_error: 0.439 - ETA: 0s - loss: 0.2904 - mean_absolute_error: 0.435 - ETA: 0s - loss: 0.2855 - mean_absolute_error: 0.434 - ETA: 0s - loss: 0.2937 - mean_absolute_error: 0.440 - ETA: 0s - loss: 0.2913 - mean_absolute_error: 0.435 - ETA: 0s - loss: 0.2864 - mean_absolute_error: 0.429 - 1s 1ms/step - loss: 0.2871 - mean_absolute_error: 0.4306\n",
      "Epoch 149/500\n",
      "500/500 [==============================] - ETA: 0s - loss: 1.0650 - mean_absolute_error: 1.032 - ETA: 0s - loss: 0.3017 - mean_absolute_error: 0.451 - ETA: 0s - loss: 0.2517 - mean_absolute_error: 0.406 - ETA: 0s - loss: 0.2606 - mean_absolute_error: 0.414 - ETA: 0s - loss: 0.2694 - mean_absolute_error: 0.418 - ETA: 0s - loss: 0.2825 - mean_absolute_error: 0.432 - ETA: 0s - loss: 0.2791 - mean_absolute_error: 0.425 - ETA: 0s - loss: 0.2734 - mean_absolute_error: 0.421 - ETA: 0s - loss: 0.2822 - mean_absolute_error: 0.427 - ETA: 0s - loss: 0.2826 - mean_absolute_error: 0.428 - 0s 975us/step - loss: 0.2777 - mean_absolute_error: 0.4245\n",
      "Epoch 150/500\n",
      "500/500 [==============================] - ETA: 2s - loss: 0.0241 - mean_absolute_error: 0.155 - ETA: 0s - loss: 0.2571 - mean_absolute_error: 0.398 - ETA: 0s - loss: 0.2473 - mean_absolute_error: 0.388 - ETA: 0s - loss: 0.2601 - mean_absolute_error: 0.402 - ETA: 0s - loss: 0.2721 - mean_absolute_error: 0.407 - ETA: 0s - loss: 0.2911 - mean_absolute_error: 0.429 - ETA: 0s - loss: 0.2838 - mean_absolute_error: 0.420 - ETA: 0s - loss: 0.2806 - mean_absolute_error: 0.418 - ETA: 0s - loss: 0.2828 - mean_absolute_error: 0.419 - ETA: 0s - loss: 0.2835 - mean_absolute_error: 0.420 - 0s 945us/step - loss: 0.2843 - mean_absolute_error: 0.4201\n",
      "Epoch 151/500\n",
      "500/500 [==============================] - ETA: 0s - loss: 0.0576 - mean_absolute_error: 0.240 - ETA: 0s - loss: 0.2648 - mean_absolute_error: 0.399 - ETA: 0s - loss: 0.2494 - mean_absolute_error: 0.383 - ETA: 0s - loss: 0.2792 - mean_absolute_error: 0.418 - ETA: 0s - loss: 0.2876 - mean_absolute_error: 0.431 - ETA: 0s - loss: 0.2906 - mean_absolute_error: 0.431 - ETA: 0s - loss: 0.2886 - mean_absolute_error: 0.426 - ETA: 0s - loss: 0.2977 - mean_absolute_error: 0.435 - ETA: 0s - loss: 0.2859 - mean_absolute_error: 0.427 - 0s 908us/step - loss: 0.2873 - mean_absolute_error: 0.4280\n",
      "Epoch 152/500\n",
      "500/500 [==============================] - ETA: 0s - loss: 0.2889 - mean_absolute_error: 0.537 - ETA: 0s - loss: 0.3442 - mean_absolute_error: 0.473 - ETA: 0s - loss: 0.3111 - mean_absolute_error: 0.440 - ETA: 0s - loss: 0.2913 - mean_absolute_error: 0.427 - ETA: 0s - loss: 0.2821 - mean_absolute_error: 0.424 - ETA: 0s - loss: 0.2751 - mean_absolute_error: 0.417 - ETA: 0s - loss: 0.2797 - mean_absolute_error: 0.421 - ETA: 0s - loss: 0.2802 - mean_absolute_error: 0.421 - ETA: 0s - loss: 0.2757 - mean_absolute_error: 0.418 - 0s 864us/step - loss: 0.2779 - mean_absolute_error: 0.4197\n",
      "Epoch 153/500\n",
      "500/500 [==============================] - ETA: 0s - loss: 0.2099 - mean_absolute_error: 0.458 - ETA: 0s - loss: 0.2478 - mean_absolute_error: 0.385 - ETA: 0s - loss: 0.2721 - mean_absolute_error: 0.398 - ETA: 0s - loss: 0.2822 - mean_absolute_error: 0.410 - ETA: 0s - loss: 0.2869 - mean_absolute_error: 0.413 - ETA: 0s - loss: 0.2892 - mean_absolute_error: 0.418 - ETA: 0s - loss: 0.2808 - mean_absolute_error: 0.412 - ETA: 0s - loss: 0.2784 - mean_absolute_error: 0.412 - ETA: 0s - loss: 0.2823 - mean_absolute_error: 0.414 - 0s 881us/step - loss: 0.2789 - mean_absolute_error: 0.4127\n",
      "Epoch 154/500\n",
      "500/500 [==============================] - ETA: 0s - loss: 0.4098 - mean_absolute_error: 0.640 - ETA: 0s - loss: 0.2760 - mean_absolute_error: 0.407 - ETA: 0s - loss: 0.2805 - mean_absolute_error: 0.416 - ETA: 0s - loss: 0.2842 - mean_absolute_error: 0.425 - ETA: 0s - loss: 0.2812 - mean_absolute_error: 0.420 - ETA: 0s - loss: 0.2777 - mean_absolute_error: 0.415 - ETA: 0s - loss: 0.2698 - mean_absolute_error: 0.409 - ETA: 0s - loss: 0.2847 - mean_absolute_error: 0.421 - ETA: 0s - loss: 0.2776 - mean_absolute_error: 0.416 - ETA: 0s - loss: 0.2852 - mean_absolute_error: 0.422 - ETA: 0s - loss: 0.2852 - mean_absolute_error: 0.420 - 1s 1ms/step - loss: 0.2852 - mean_absolute_error: 0.4208\n",
      "Epoch 155/500\n",
      "500/500 [==============================] - ETA: 0s - loss: 0.0073 - mean_absolute_error: 0.085 - ETA: 1s - loss: 0.3294 - mean_absolute_error: 0.456 - ETA: 0s - loss: 0.2883 - mean_absolute_error: 0.425 - ETA: 0s - loss: 0.3271 - mean_absolute_error: 0.461 - ETA: 0s - loss: 0.3104 - mean_absolute_error: 0.451 - ETA: 0s - loss: 0.3128 - mean_absolute_error: 0.455 - ETA: 0s - loss: 0.2934 - mean_absolute_error: 0.434 - ETA: 0s - loss: 0.2947 - mean_absolute_error: 0.434 - ETA: 0s - loss: 0.2795 - mean_absolute_error: 0.421 - ETA: 0s - loss: 0.2749 - mean_absolute_error: 0.418 - ETA: 0s - loss: 0.2788 - mean_absolute_error: 0.419 - 1s 1ms/step - loss: 0.2793 - mean_absolute_error: 0.4213\n",
      "Epoch 156/500\n",
      "500/500 [==============================] - ETA: 0s - loss: 0.0512 - mean_absolute_error: 0.226 - ETA: 0s - loss: 0.2981 - mean_absolute_error: 0.435 - ETA: 0s - loss: 0.3123 - mean_absolute_error: 0.445 - ETA: 0s - loss: 0.2965 - mean_absolute_error: 0.435 - ETA: 0s - loss: 0.2929 - mean_absolute_error: 0.436 - ETA: 0s - loss: 0.2951 - mean_absolute_error: 0.445 - ETA: 0s - loss: 0.2975 - mean_absolute_error: 0.448 - ETA: 0s - loss: 0.2907 - mean_absolute_error: 0.442 - ETA: 0s - loss: 0.2868 - mean_absolute_error: 0.432 - ETA: 0s - loss: 0.2857 - mean_absolute_error: 0.430 - 0s 959us/step - loss: 0.2844 - mean_absolute_error: 0.4296\n",
      "Epoch 157/500\n",
      "500/500 [==============================] - ETA: 1s - loss: 0.0587 - mean_absolute_error: 0.242 - ETA: 0s - loss: 0.2179 - mean_absolute_error: 0.377 - ETA: 0s - loss: 0.2303 - mean_absolute_error: 0.386 - ETA: 0s - loss: 0.2797 - mean_absolute_error: 0.424 - ETA: 0s - loss: 0.2663 - mean_absolute_error: 0.410 - ETA: 0s - loss: 0.2671 - mean_absolute_error: 0.414 - ETA: 0s - loss: 0.2719 - mean_absolute_error: 0.417 - ETA: 0s - loss: 0.2792 - mean_absolute_error: 0.418 - ETA: 0s - loss: 0.2756 - mean_absolute_error: 0.413 - ETA: 0s - loss: 0.2691 - mean_absolute_error: 0.409 - 1s 1ms/step - loss: 0.2771 - mean_absolute_error: 0.4165\n",
      "Epoch 158/500\n",
      "500/500 [==============================] - ETA: 0s - loss: 0.0275 - mean_absolute_error: 0.165 - ETA: 0s - loss: 0.1855 - mean_absolute_error: 0.324 - ETA: 0s - loss: 0.1959 - mean_absolute_error: 0.355 - ETA: 0s - loss: 0.2283 - mean_absolute_error: 0.368 - ETA: 0s - loss: 0.2274 - mean_absolute_error: 0.370 - ETA: 0s - loss: 0.2363 - mean_absolute_error: 0.377 - ETA: 0s - loss: 0.2396 - mean_absolute_error: 0.380 - ETA: 0s - loss: 0.2487 - mean_absolute_error: 0.389 - ETA: 0s - loss: 0.2661 - mean_absolute_error: 0.401 - ETA: 0s - loss: 0.2719 - mean_absolute_error: 0.406 - 0s 989us/step - loss: 0.2710 - mean_absolute_error: 0.4068\n",
      "Epoch 159/500\n",
      "500/500 [==============================] - ETA: 1s - loss: 0.4323 - mean_absolute_error: 0.657 - ETA: 0s - loss: 0.2358 - mean_absolute_error: 0.388 - ETA: 0s - loss: 0.2418 - mean_absolute_error: 0.396 - ETA: 0s - loss: 0.2199 - mean_absolute_error: 0.374 - ETA: 0s - loss: 0.2408 - mean_absolute_error: 0.393 - ETA: 0s - loss: 0.2489 - mean_absolute_error: 0.398 - ETA: 0s - loss: 0.2603 - mean_absolute_error: 0.408 - ETA: 0s - loss: 0.2678 - mean_absolute_error: 0.417 - ETA: 0s - loss: 0.2814 - mean_absolute_error: 0.428 - 0s 908us/step - loss: 0.2829 - mean_absolute_error: 0.4281\n",
      "Epoch 160/500\n",
      "500/500 [==============================] - ETA: 0s - loss: 0.0536 - mean_absolute_error: 0.231 - ETA: 0s - loss: 0.2169 - mean_absolute_error: 0.372 - ETA: 0s - loss: 0.2285 - mean_absolute_error: 0.373 - ETA: 0s - loss: 0.2482 - mean_absolute_error: 0.390 - ETA: 0s - loss: 0.2519 - mean_absolute_error: 0.391 - ETA: 0s - loss: 0.2546 - mean_absolute_error: 0.393 - ETA: 0s - loss: 0.2513 - mean_absolute_error: 0.391 - ETA: 0s - loss: 0.2543 - mean_absolute_error: 0.393 - ETA: 0s - loss: 0.2610 - mean_absolute_error: 0.402 - 0s 907us/step - loss: 0.2654 - mean_absolute_error: 0.4078\n",
      "Epoch 161/500\n",
      "500/500 [==============================] - ETA: 0s - loss: 0.4624 - mean_absolute_error: 0.680 - ETA: 0s - loss: 0.2399 - mean_absolute_error: 0.387 - ETA: 0s - loss: 0.2561 - mean_absolute_error: 0.403 - ETA: 0s - loss: 0.2644 - mean_absolute_error: 0.410 - ETA: 0s - loss: 0.2784 - mean_absolute_error: 0.417 - ETA: 0s - loss: 0.2701 - mean_absolute_error: 0.409 - ETA: 0s - loss: 0.2752 - mean_absolute_error: 0.418 - ETA: 0s - loss: 0.2792 - mean_absolute_error: 0.420 - ETA: 0s - loss: 0.2756 - mean_absolute_error: 0.419 - 0s 916us/step - loss: 0.2641 - mean_absolute_error: 0.4120\n",
      "Epoch 162/500\n",
      "500/500 [==============================] - ETA: 0s - loss: 0.5458 - mean_absolute_error: 0.738 - ETA: 0s - loss: 0.2600 - mean_absolute_error: 0.421 - ETA: 0s - loss: 0.2839 - mean_absolute_error: 0.431 - ETA: 0s - loss: 0.2669 - mean_absolute_error: 0.422 - ETA: 0s - loss: 0.2746 - mean_absolute_error: 0.426 - ETA: 0s - loss: 0.2713 - mean_absolute_error: 0.416 - ETA: 0s - loss: 0.2714 - mean_absolute_error: 0.416 - ETA: 0s - loss: 0.2772 - mean_absolute_error: 0.420 - ETA: 0s - loss: 0.2787 - mean_absolute_error: 0.418 - 0s 922us/step - loss: 0.2769 - mean_absolute_error: 0.4169\n",
      "Epoch 163/500\n",
      "500/500 [==============================] - ETA: 0s - loss: 3.1974e-06 - mean_absolute_error: 0.001 - ETA: 0s - loss: 0.1872 - mean_absolute_error: 0.3465    - ETA: 0s - loss: 0.1947 - mean_absolute_error: 0.338 - ETA: 0s - loss: 0.2310 - mean_absolute_error: 0.371 - ETA: 0s - loss: 0.2557 - mean_absolute_error: 0.395 - ETA: 0s - loss: 0.2558 - mean_absolute_error: 0.392 - ETA: 0s - loss: 0.2647 - mean_absolute_error: 0.401 - ETA: 0s - loss: 0.2765 - mean_absolute_error: 0.412 - ETA: 0s - loss: 0.2699 - mean_absolute_error: 0.407 - 0s 911us/step - loss: 0.2781 - mean_absolute_error: 0.4160\n",
      "Epoch 164/500\n",
      "500/500 [==============================] - ETA: 0s - loss: 0.0213 - mean_absolute_error: 0.146 - ETA: 0s - loss: 0.2416 - mean_absolute_error: 0.380 - ETA: 0s - loss: 0.2695 - mean_absolute_error: 0.406 - ETA: 0s - loss: 0.2622 - mean_absolute_error: 0.399 - ETA: 0s - loss: 0.2645 - mean_absolute_error: 0.410 - ETA: 0s - loss: 0.2667 - mean_absolute_error: 0.408 - ETA: 0s - loss: 0.2705 - mean_absolute_error: 0.410 - ETA: 0s - loss: 0.2805 - mean_absolute_error: 0.421 - ETA: 0s - loss: 0.2711 - mean_absolute_error: 0.413 - 0s 876us/step - loss: 0.2668 - mean_absolute_error: 0.4104\n",
      "Epoch 165/500\n",
      "500/500 [==============================] - ETA: 2s - loss: 0.9828 - mean_absolute_error: 0.991 - ETA: 0s - loss: 0.2851 - mean_absolute_error: 0.421 - ETA: 0s - loss: 0.3135 - mean_absolute_error: 0.443 - ETA: 0s - loss: 0.2715 - mean_absolute_error: 0.412 - ETA: 0s - loss: 0.2634 - mean_absolute_error: 0.401 - ETA: 0s - loss: 0.2597 - mean_absolute_error: 0.400 - ETA: 0s - loss: 0.2806 - mean_absolute_error: 0.415 - ETA: 0s - loss: 0.2745 - mean_absolute_error: 0.414 - ETA: 0s - loss: 0.2762 - mean_absolute_error: 0.417 - ETA: 0s - loss: 0.2739 - mean_absolute_error: 0.416 - 0s 954us/step - loss: 0.2740 - mean_absolute_error: 0.4157\n"
     ]
    },
    {
     "name": "stdout",
     "output_type": "stream",
     "text": [
      "Epoch 166/500\n",
      "500/500 [==============================] - ETA: 0s - loss: 0.0010 - mean_absolute_error: 0.032 - ETA: 0s - loss: 0.2227 - mean_absolute_error: 0.368 - ETA: 0s - loss: 0.2498 - mean_absolute_error: 0.395 - ETA: 0s - loss: 0.2613 - mean_absolute_error: 0.407 - ETA: 0s - loss: 0.2584 - mean_absolute_error: 0.405 - ETA: 0s - loss: 0.2739 - mean_absolute_error: 0.416 - ETA: 0s - loss: 0.2538 - mean_absolute_error: 0.399 - ETA: 0s - loss: 0.2585 - mean_absolute_error: 0.401 - ETA: 0s - loss: 0.2525 - mean_absolute_error: 0.397 - ETA: 0s - loss: 0.2550 - mean_absolute_error: 0.400 - 0s 972us/step - loss: 0.2586 - mean_absolute_error: 0.4055\n",
      "Epoch 167/500\n",
      "500/500 [==============================] - ETA: 1s - loss: 0.0320 - mean_absolute_error: 0.178 - ETA: 0s - loss: 0.1869 - mean_absolute_error: 0.354 - ETA: 0s - loss: 0.2536 - mean_absolute_error: 0.407 - ETA: 0s - loss: 0.2441 - mean_absolute_error: 0.390 - ETA: 0s - loss: 0.2690 - mean_absolute_error: 0.413 - ETA: 0s - loss: 0.2727 - mean_absolute_error: 0.413 - ETA: 0s - loss: 0.2679 - mean_absolute_error: 0.412 - ETA: 0s - loss: 0.2731 - mean_absolute_error: 0.421 - ETA: 0s - loss: 0.2607 - mean_absolute_error: 0.407 - ETA: 0s - loss: 0.2528 - mean_absolute_error: 0.400 - 1s 1ms/step - loss: 0.2678 - mean_absolute_error: 0.4137\n",
      "Epoch 168/500\n",
      "500/500 [==============================] - ETA: 0s - loss: 0.1355 - mean_absolute_error: 0.368 - ETA: 0s - loss: 0.2270 - mean_absolute_error: 0.379 - ETA: 0s - loss: 0.2205 - mean_absolute_error: 0.372 - ETA: 0s - loss: 0.2602 - mean_absolute_error: 0.415 - ETA: 0s - loss: 0.2617 - mean_absolute_error: 0.411 - ETA: 0s - loss: 0.2595 - mean_absolute_error: 0.411 - ETA: 0s - loss: 0.2541 - mean_absolute_error: 0.403 - ETA: 0s - loss: 0.2512 - mean_absolute_error: 0.399 - ETA: 0s - loss: 0.2565 - mean_absolute_error: 0.405 - 0s 904us/step - loss: 0.2598 - mean_absolute_error: 0.4096\n",
      "Epoch 169/500\n",
      "500/500 [==============================] - ETA: 1s - loss: 0.8613 - mean_absolute_error: 0.928 - ETA: 0s - loss: 0.3185 - mean_absolute_error: 0.481 - ETA: 0s - loss: 0.2676 - mean_absolute_error: 0.415 - ETA: 0s - loss: 0.2698 - mean_absolute_error: 0.416 - ETA: 0s - loss: 0.2709 - mean_absolute_error: 0.416 - ETA: 0s - loss: 0.2662 - mean_absolute_error: 0.408 - ETA: 0s - loss: 0.2584 - mean_absolute_error: 0.398 - ETA: 0s - loss: 0.2682 - mean_absolute_error: 0.408 - ETA: 0s - loss: 0.2589 - mean_absolute_error: 0.400 - ETA: 0s - loss: 0.2658 - mean_absolute_error: 0.406 - 0s 949us/step - loss: 0.2651 - mean_absolute_error: 0.4065\n",
      "Epoch 170/500\n",
      "500/500 [==============================] - ETA: 0s - loss: 0.0316 - mean_absolute_error: 0.177 - ETA: 0s - loss: 0.2441 - mean_absolute_error: 0.358 - ETA: 0s - loss: 0.2586 - mean_absolute_error: 0.389 - ETA: 0s - loss: 0.2641 - mean_absolute_error: 0.409 - ETA: 0s - loss: 0.2718 - mean_absolute_error: 0.417 - ETA: 0s - loss: 0.2670 - mean_absolute_error: 0.414 - ETA: 0s - loss: 0.2615 - mean_absolute_error: 0.408 - ETA: 0s - loss: 0.2645 - mean_absolute_error: 0.409 - ETA: 0s - loss: 0.2646 - mean_absolute_error: 0.408 - 0s 910us/step - loss: 0.2604 - mean_absolute_error: 0.4047\n",
      "Epoch 171/500\n",
      "500/500 [==============================] - ETA: 0s - loss: 0.3853 - mean_absolute_error: 0.620 - ETA: 0s - loss: 0.2365 - mean_absolute_error: 0.399 - ETA: 0s - loss: 0.2442 - mean_absolute_error: 0.405 - ETA: 0s - loss: 0.2622 - mean_absolute_error: 0.424 - ETA: 0s - loss: 0.2726 - mean_absolute_error: 0.431 - ETA: 0s - loss: 0.2590 - mean_absolute_error: 0.416 - ETA: 0s - loss: 0.2580 - mean_absolute_error: 0.410 - ETA: 0s - loss: 0.2524 - mean_absolute_error: 0.403 - ETA: 0s - loss: 0.2588 - mean_absolute_error: 0.408 - 0s 900us/step - loss: 0.2574 - mean_absolute_error: 0.4062\n",
      "Epoch 172/500\n",
      "500/500 [==============================] - ETA: 0s - loss: 0.4172 - mean_absolute_error: 0.645 - ETA: 0s - loss: 0.3219 - mean_absolute_error: 0.464 - ETA: 0s - loss: 0.2940 - mean_absolute_error: 0.431 - ETA: 0s - loss: 0.2826 - mean_absolute_error: 0.416 - ETA: 0s - loss: 0.2886 - mean_absolute_error: 0.425 - ETA: 0s - loss: 0.2863 - mean_absolute_error: 0.421 - ETA: 0s - loss: 0.2801 - mean_absolute_error: 0.419 - ETA: 0s - loss: 0.2757 - mean_absolute_error: 0.417 - ETA: 0s - loss: 0.2637 - mean_absolute_error: 0.409 - 0s 892us/step - loss: 0.2558 - mean_absolute_error: 0.4022\n",
      "Epoch 173/500\n",
      "500/500 [==============================] - ETA: 0s - loss: 0.8080 - mean_absolute_error: 0.898 - ETA: 0s - loss: 0.2805 - mean_absolute_error: 0.411 - ETA: 0s - loss: 0.2609 - mean_absolute_error: 0.402 - ETA: 0s - loss: 0.2499 - mean_absolute_error: 0.403 - ETA: 0s - loss: 0.2428 - mean_absolute_error: 0.400 - ETA: 0s - loss: 0.2575 - mean_absolute_error: 0.406 - ETA: 0s - loss: 0.2481 - mean_absolute_error: 0.398 - ETA: 0s - loss: 0.2570 - mean_absolute_error: 0.407 - ETA: 0s - loss: 0.2500 - mean_absolute_error: 0.401 - ETA: 0s - loss: 0.2546 - mean_absolute_error: 0.401 - 0s 988us/step - loss: 0.2543 - mean_absolute_error: 0.4016\n",
      "Epoch 174/500\n",
      "500/500 [==============================] - ETA: 0s - loss: 1.0338 - mean_absolute_error: 1.016 - ETA: 0s - loss: 0.2350 - mean_absolute_error: 0.369 - ETA: 0s - loss: 0.2474 - mean_absolute_error: 0.380 - ETA: 0s - loss: 0.2406 - mean_absolute_error: 0.373 - ETA: 0s - loss: 0.2496 - mean_absolute_error: 0.383 - ETA: 0s - loss: 0.2638 - mean_absolute_error: 0.403 - ETA: 0s - loss: 0.2545 - mean_absolute_error: 0.398 - ETA: 0s - loss: 0.2521 - mean_absolute_error: 0.396 - ETA: 0s - loss: 0.2512 - mean_absolute_error: 0.394 - ETA: 0s - loss: 0.2520 - mean_absolute_error: 0.395 - 0s 974us/step - loss: 0.2481 - mean_absolute_error: 0.3931\n",
      "Epoch 175/500\n",
      "500/500 [==============================] - ETA: 0s - loss: 0.7202 - mean_absolute_error: 0.848 - ETA: 0s - loss: 0.2722 - mean_absolute_error: 0.423 - ETA: 0s - loss: 0.2708 - mean_absolute_error: 0.421 - ETA: 0s - loss: 0.2805 - mean_absolute_error: 0.422 - ETA: 0s - loss: 0.2683 - mean_absolute_error: 0.412 - ETA: 0s - loss: 0.2611 - mean_absolute_error: 0.405 - ETA: 0s - loss: 0.2498 - mean_absolute_error: 0.398 - ETA: 0s - loss: 0.2424 - mean_absolute_error: 0.393 - ETA: 0s - loss: 0.2471 - mean_absolute_error: 0.398 - ETA: 0s - loss: 0.2526 - mean_absolute_error: 0.401 - 0s 984us/step - loss: 0.2500 - mean_absolute_error: 0.3984\n",
      "Epoch 176/500\n",
      "500/500 [==============================] - ETA: 0s - loss: 0.0072 - mean_absolute_error: 0.084 - ETA: 0s - loss: 0.2055 - mean_absolute_error: 0.329 - ETA: 0s - loss: 0.2512 - mean_absolute_error: 0.378 - ETA: 0s - loss: 0.2488 - mean_absolute_error: 0.380 - ETA: 0s - loss: 0.2462 - mean_absolute_error: 0.386 - ETA: 0s - loss: 0.2338 - mean_absolute_error: 0.371 - ETA: 0s - loss: 0.2352 - mean_absolute_error: 0.371 - ETA: 0s - loss: 0.2452 - mean_absolute_error: 0.384 - ETA: 0s - loss: 0.2435 - mean_absolute_error: 0.383 - ETA: 0s - loss: 0.2464 - mean_absolute_error: 0.386 - 0s 952us/step - loss: 0.2485 - mean_absolute_error: 0.3894\n",
      "Epoch 177/500\n",
      "500/500 [==============================] - ETA: 0s - loss: 0.0665 - mean_absolute_error: 0.257 - ETA: 0s - loss: 0.2372 - mean_absolute_error: 0.376 - ETA: 0s - loss: 0.2548 - mean_absolute_error: 0.407 - ETA: 0s - loss: 0.2507 - mean_absolute_error: 0.396 - ETA: 0s - loss: 0.2318 - mean_absolute_error: 0.380 - ETA: 0s - loss: 0.2365 - mean_absolute_error: 0.383 - ETA: 0s - loss: 0.2305 - mean_absolute_error: 0.380 - ETA: 0s - loss: 0.2363 - mean_absolute_error: 0.386 - ETA: 0s - loss: 0.2394 - mean_absolute_error: 0.389 - ETA: 0s - loss: 0.2413 - mean_absolute_error: 0.389 - 0s 985us/step - loss: 0.2442 - mean_absolute_error: 0.3921\n",
      "Epoch 178/500\n",
      "500/500 [==============================] - ETA: 0s - loss: 0.0109 - mean_absolute_error: 0.104 - ETA: 0s - loss: 0.2447 - mean_absolute_error: 0.387 - ETA: 0s - loss: 0.2552 - mean_absolute_error: 0.408 - ETA: 0s - loss: 0.2473 - mean_absolute_error: 0.398 - ETA: 0s - loss: 0.2507 - mean_absolute_error: 0.400 - ETA: 0s - loss: 0.2444 - mean_absolute_error: 0.392 - ETA: 0s - loss: 0.2347 - mean_absolute_error: 0.381 - ETA: 0s - loss: 0.2333 - mean_absolute_error: 0.381 - ETA: 0s - loss: 0.2368 - mean_absolute_error: 0.385 - ETA: 0s - loss: 0.2413 - mean_absolute_error: 0.390 - 0s 944us/step - loss: 0.2429 - mean_absolute_error: 0.3920\n",
      "Epoch 179/500\n",
      "500/500 [==============================] - ETA: 1s - loss: 0.0446 - mean_absolute_error: 0.211 - ETA: 0s - loss: 0.2705 - mean_absolute_error: 0.429 - ETA: 0s - loss: 0.2961 - mean_absolute_error: 0.460 - ETA: 0s - loss: 0.2449 - mean_absolute_error: 0.400 - ETA: 0s - loss: 0.2519 - mean_absolute_error: 0.408 - ETA: 0s - loss: 0.2617 - mean_absolute_error: 0.412 - ETA: 0s - loss: 0.2652 - mean_absolute_error: 0.417 - ETA: 0s - loss: 0.2627 - mean_absolute_error: 0.414 - ETA: 0s - loss: 0.2583 - mean_absolute_error: 0.409 - ETA: 0s - loss: 0.2567 - mean_absolute_error: 0.406 - ETA: 0s - loss: 0.2529 - mean_absolute_error: 0.403 - 1s 1ms/step - loss: 0.2520 - mean_absolute_error: 0.4025\n",
      "Epoch 180/500\n",
      "500/500 [==============================] - ETA: 0s - loss: 0.0639 - mean_absolute_error: 0.252 - ETA: 0s - loss: 0.2815 - mean_absolute_error: 0.424 - ETA: 0s - loss: 0.2937 - mean_absolute_error: 0.437 - ETA: 0s - loss: 0.3011 - mean_absolute_error: 0.443 - ETA: 0s - loss: 0.2918 - mean_absolute_error: 0.435 - ETA: 0s - loss: 0.2630 - mean_absolute_error: 0.406 - ETA: 0s - loss: 0.2538 - mean_absolute_error: 0.396 - ETA: 0s - loss: 0.2476 - mean_absolute_error: 0.390 - ETA: 0s - loss: 0.2411 - mean_absolute_error: 0.386 - ETA: 0s - loss: 0.2393 - mean_absolute_error: 0.385 - ETA: 0s - loss: 0.2445 - mean_absolute_error: 0.389 - 1s 1ms/step - loss: 0.2458 - mean_absolute_error: 0.3893\n",
      "Epoch 181/500\n",
      "500/500 [==============================] - ETA: 1s - loss: 0.0132 - mean_absolute_error: 0.115 - ETA: 0s - loss: 0.2140 - mean_absolute_error: 0.374 - ETA: 0s - loss: 0.2306 - mean_absolute_error: 0.390 - ETA: 0s - loss: 0.2189 - mean_absolute_error: 0.382 - ETA: 0s - loss: 0.2158 - mean_absolute_error: 0.378 - ETA: 0s - loss: 0.2202 - mean_absolute_error: 0.379 - ETA: 0s - loss: 0.2278 - mean_absolute_error: 0.382 - ETA: 0s - loss: 0.2360 - mean_absolute_error: 0.388 - ETA: 0s - loss: 0.2379 - mean_absolute_error: 0.389 - ETA: 0s - loss: 0.2459 - mean_absolute_error: 0.395 - 0s 990us/step - loss: 0.2471 - mean_absolute_error: 0.3963\n",
      "Epoch 182/500\n",
      "500/500 [==============================] - ETA: 1s - loss: 0.5783 - mean_absolute_error: 0.760 - ETA: 0s - loss: 0.2685 - mean_absolute_error: 0.423 - ETA: 0s - loss: 0.2539 - mean_absolute_error: 0.409 - ETA: 0s - loss: 0.2477 - mean_absolute_error: 0.399 - ETA: 0s - loss: 0.2374 - mean_absolute_error: 0.386 - ETA: 0s - loss: 0.2468 - mean_absolute_error: 0.392 - ETA: 0s - loss: 0.2383 - mean_absolute_error: 0.385 - ETA: 0s - loss: 0.2300 - mean_absolute_error: 0.376 - ETA: 0s - loss: 0.2355 - mean_absolute_error: 0.382 - ETA: 0s - loss: 0.2331 - mean_absolute_error: 0.377 - 1s 1ms/step - loss: 0.2351 - mean_absolute_error: 0.3807\n",
      "Epoch 183/500\n",
      "500/500 [==============================] - ETA: 1s - loss: 9.7915e-05 - mean_absolute_error: 0.009 - ETA: 0s - loss: 0.2610 - mean_absolute_error: 0.3804    - ETA: 0s - loss: 0.2649 - mean_absolute_error: 0.390 - ETA: 0s - loss: 0.2581 - mean_absolute_error: 0.390 - ETA: 0s - loss: 0.2586 - mean_absolute_error: 0.393 - ETA: 0s - loss: 0.2454 - mean_absolute_error: 0.385 - ETA: 0s - loss: 0.2518 - mean_absolute_error: 0.392 - ETA: 0s - loss: 0.2495 - mean_absolute_error: 0.393 - ETA: 0s - loss: 0.2396 - mean_absolute_error: 0.384 - ETA: 0s - loss: 0.2303 - mean_absolute_error: 0.375 - 0s 944us/step - loss: 0.2330 - mean_absolute_error: 0.3784\n",
      "Epoch 184/500\n",
      "500/500 [==============================] - ETA: 0s - loss: 0.0358 - mean_absolute_error: 0.189 - ETA: 0s - loss: 0.2167 - mean_absolute_error: 0.370 - ETA: 0s - loss: 0.2318 - mean_absolute_error: 0.375 - ETA: 0s - loss: 0.2061 - mean_absolute_error: 0.345 - ETA: 0s - loss: 0.2302 - mean_absolute_error: 0.368 - ETA: 0s - loss: 0.2251 - mean_absolute_error: 0.370 - ETA: 0s - loss: 0.2160 - mean_absolute_error: 0.362 - ETA: 0s - loss: 0.2189 - mean_absolute_error: 0.365 - ETA: 0s - loss: 0.2203 - mean_absolute_error: 0.366 - ETA: 0s - loss: 0.2266 - mean_absolute_error: 0.373 - 0s 966us/step - loss: 0.2286 - mean_absolute_error: 0.3773\n",
      "Epoch 185/500\n",
      "500/500 [==============================] - ETA: 0s - loss: 0.2224 - mean_absolute_error: 0.471 - ETA: 0s - loss: 0.2575 - mean_absolute_error: 0.409 - ETA: 0s - loss: 0.2494 - mean_absolute_error: 0.401 - ETA: 0s - loss: 0.2579 - mean_absolute_error: 0.406 - ETA: 0s - loss: 0.2422 - mean_absolute_error: 0.390 - ETA: 0s - loss: 0.2380 - mean_absolute_error: 0.388 - ETA: 0s - loss: 0.2304 - mean_absolute_error: 0.386 - ETA: 0s - loss: 0.2258 - mean_absolute_error: 0.383 - ETA: 0s - loss: 0.2289 - mean_absolute_error: 0.386 - ETA: 0s - loss: 0.2303 - mean_absolute_error: 0.384 - 1s 1ms/step - loss: 0.2372 - mean_absolute_error: 0.3911\n",
      "Epoch 186/500\n",
      "500/500 [==============================] - ETA: 0s - loss: 0.0667 - mean_absolute_error: 0.258 - ETA: 0s - loss: 0.1915 - mean_absolute_error: 0.334 - ETA: 0s - loss: 0.2017 - mean_absolute_error: 0.352 - ETA: 0s - loss: 0.2265 - mean_absolute_error: 0.379 - ETA: 0s - loss: 0.2386 - mean_absolute_error: 0.386 - ETA: 0s - loss: 0.2251 - mean_absolute_error: 0.373 - ETA: 0s - loss: 0.2298 - mean_absolute_error: 0.377 - ETA: 0s - loss: 0.2338 - mean_absolute_error: 0.383 - ETA: 0s - loss: 0.2306 - mean_absolute_error: 0.378 - ETA: 0s - loss: 0.2288 - mean_absolute_error: 0.376 - 0s 961us/step - loss: 0.2307 - mean_absolute_error: 0.3767\n",
      "Epoch 187/500\n",
      "500/500 [==============================] - ETA: 0s - loss: 0.1233 - mean_absolute_error: 0.351 - ETA: 0s - loss: 0.3080 - mean_absolute_error: 0.455 - ETA: 0s - loss: 0.2701 - mean_absolute_error: 0.429 - ETA: 0s - loss: 0.2448 - mean_absolute_error: 0.403 - ETA: 0s - loss: 0.2460 - mean_absolute_error: 0.405 - ETA: 0s - loss: 0.2253 - mean_absolute_error: 0.382 - ETA: 0s - loss: 0.2240 - mean_absolute_error: 0.378 - ETA: 0s - loss: 0.2161 - mean_absolute_error: 0.370 - ETA: 0s - loss: 0.2138 - mean_absolute_error: 0.369 - ETA: 0s - loss: 0.2191 - mean_absolute_error: 0.375 - 0s 978us/step - loss: 0.2210 - mean_absolute_error: 0.3766\n",
      "Epoch 188/500\n",
      "500/500 [==============================] - ETA: 0s - loss: 0.0786 - mean_absolute_error: 0.280 - ETA: 0s - loss: 0.2165 - mean_absolute_error: 0.366 - ETA: 0s - loss: 0.2213 - mean_absolute_error: 0.366 - ETA: 0s - loss: 0.2480 - mean_absolute_error: 0.388 - ETA: 0s - loss: 0.2316 - mean_absolute_error: 0.379 - ETA: 0s - loss: 0.2304 - mean_absolute_error: 0.375 - ETA: 0s - loss: 0.2311 - mean_absolute_error: 0.376 - ETA: 0s - loss: 0.2233 - mean_absolute_error: 0.370 - ETA: 0s - loss: 0.2312 - mean_absolute_error: 0.380 - 0s 913us/step - loss: 0.2287 - mean_absolute_error: 0.3795\n",
      "Epoch 189/500\n",
      "500/500 [==============================] - ETA: 0s - loss: 0.0087 - mean_absolute_error: 0.093 - ETA: 0s - loss: 0.2228 - mean_absolute_error: 0.370 - ETA: 0s - loss: 0.2171 - mean_absolute_error: 0.362 - ETA: 0s - loss: 0.2285 - mean_absolute_error: 0.377 - ETA: 0s - loss: 0.2185 - mean_absolute_error: 0.370 - ETA: 0s - loss: 0.2198 - mean_absolute_error: 0.373 - ETA: 0s - loss: 0.2216 - mean_absolute_error: 0.373 - ETA: 0s - loss: 0.2259 - mean_absolute_error: 0.380 - ETA: 0s - loss: 0.2354 - mean_absolute_error: 0.388 - 0s 889us/step - loss: 0.2341 - mean_absolute_error: 0.3866\n",
      "Epoch 190/500\n"
     ]
    },
    {
     "name": "stdout",
     "output_type": "stream",
     "text": [
      "500/500 [==============================] - ETA: 0s - loss: 0.1209 - mean_absolute_error: 0.347 - ETA: 0s - loss: 0.2185 - mean_absolute_error: 0.387 - ETA: 0s - loss: 0.2190 - mean_absolute_error: 0.390 - ETA: 0s - loss: 0.2043 - mean_absolute_error: 0.369 - ETA: 0s - loss: 0.2095 - mean_absolute_error: 0.362 - ETA: 0s - loss: 0.2171 - mean_absolute_error: 0.369 - ETA: 0s - loss: 0.2225 - mean_absolute_error: 0.375 - ETA: 0s - loss: 0.2268 - mean_absolute_error: 0.377 - ETA: 0s - loss: 0.2231 - mean_absolute_error: 0.374 - 0s 898us/step - loss: 0.2236 - mean_absolute_error: 0.3742\n",
      "Epoch 191/500\n",
      "500/500 [==============================] - ETA: 0s - loss: 0.2942 - mean_absolute_error: 0.542 - ETA: 0s - loss: 0.2796 - mean_absolute_error: 0.437 - ETA: 0s - loss: 0.2287 - mean_absolute_error: 0.389 - ETA: 0s - loss: 0.2155 - mean_absolute_error: 0.374 - ETA: 0s - loss: 0.2093 - mean_absolute_error: 0.364 - ETA: 0s - loss: 0.2245 - mean_absolute_error: 0.376 - ETA: 0s - loss: 0.2274 - mean_absolute_error: 0.377 - ETA: 0s - loss: 0.2305 - mean_absolute_error: 0.381 - ETA: 0s - loss: 0.2280 - mean_absolute_error: 0.378 - ETA: 0s - loss: 0.2314 - mean_absolute_error: 0.382 - 0s 969us/step - loss: 0.2293 - mean_absolute_error: 0.3795\n",
      "Epoch 192/500\n",
      "500/500 [==============================] - ETA: 0s - loss: 0.2304 - mean_absolute_error: 0.480 - ETA: 0s - loss: 0.2977 - mean_absolute_error: 0.453 - ETA: 0s - loss: 0.2594 - mean_absolute_error: 0.417 - ETA: 0s - loss: 0.2308 - mean_absolute_error: 0.384 - ETA: 0s - loss: 0.2264 - mean_absolute_error: 0.379 - ETA: 0s - loss: 0.2160 - mean_absolute_error: 0.369 - ETA: 0s - loss: 0.2134 - mean_absolute_error: 0.366 - ETA: 0s - loss: 0.2094 - mean_absolute_error: 0.361 - ETA: 0s - loss: 0.2198 - mean_absolute_error: 0.371 - ETA: 0s - loss: 0.2180 - mean_absolute_error: 0.369 - 1s 1ms/step - loss: 0.2161 - mean_absolute_error: 0.3684\n",
      "Epoch 193/500\n",
      "500/500 [==============================] - ETA: 1s - loss: 0.8502 - mean_absolute_error: 0.922 - ETA: 0s - loss: 0.2244 - mean_absolute_error: 0.370 - ETA: 0s - loss: 0.2311 - mean_absolute_error: 0.379 - ETA: 0s - loss: 0.2621 - mean_absolute_error: 0.411 - ETA: 0s - loss: 0.2462 - mean_absolute_error: 0.401 - ETA: 0s - loss: 0.2358 - mean_absolute_error: 0.390 - ETA: 0s - loss: 0.2253 - mean_absolute_error: 0.380 - ETA: 0s - loss: 0.2248 - mean_absolute_error: 0.379 - ETA: 0s - loss: 0.2175 - mean_absolute_error: 0.372 - ETA: 0s - loss: 0.2205 - mean_absolute_error: 0.374 - 0s 981us/step - loss: 0.2234 - mean_absolute_error: 0.3751\n",
      "Epoch 194/500\n",
      "500/500 [==============================] - ETA: 0s - loss: 0.0550 - mean_absolute_error: 0.234 - ETA: 0s - loss: 0.1785 - mean_absolute_error: 0.342 - ETA: 0s - loss: 0.1683 - mean_absolute_error: 0.328 - ETA: 0s - loss: 0.1946 - mean_absolute_error: 0.345 - ETA: 0s - loss: 0.2132 - mean_absolute_error: 0.358 - ETA: 0s - loss: 0.2068 - mean_absolute_error: 0.354 - ETA: 0s - loss: 0.2086 - mean_absolute_error: 0.358 - ETA: 0s - loss: 0.2119 - mean_absolute_error: 0.363 - ETA: 0s - loss: 0.2106 - mean_absolute_error: 0.362 - ETA: 0s - loss: 0.2086 - mean_absolute_error: 0.361 - ETA: 0s - loss: 0.2074 - mean_absolute_error: 0.362 - 1s 1ms/step - loss: 0.2106 - mean_absolute_error: 0.3642\n",
      "Epoch 195/500\n",
      "500/500 [==============================] - ETA: 0s - loss: 0.7001 - mean_absolute_error: 0.836 - ETA: 0s - loss: 0.2857 - mean_absolute_error: 0.431 - ETA: 0s - loss: 0.2302 - mean_absolute_error: 0.373 - ETA: 0s - loss: 0.2119 - mean_absolute_error: 0.347 - ETA: 0s - loss: 0.2117 - mean_absolute_error: 0.353 - ETA: 0s - loss: 0.2156 - mean_absolute_error: 0.353 - ETA: 0s - loss: 0.2116 - mean_absolute_error: 0.355 - ETA: 0s - loss: 0.2167 - mean_absolute_error: 0.363 - ETA: 0s - loss: 0.2145 - mean_absolute_error: 0.363 - ETA: 0s - loss: 0.2150 - mean_absolute_error: 0.364 - ETA: 0s - loss: 0.2149 - mean_absolute_error: 0.365 - 1s 1ms/step - loss: 0.2156 - mean_absolute_error: 0.3664\n",
      "Epoch 196/500\n",
      "500/500 [==============================] - ETA: 1s - loss: 6.4920e-04 - mean_absolute_error: 0.025 - ETA: 0s - loss: 0.2354 - mean_absolute_error: 0.4022    - ETA: 0s - loss: 0.2024 - mean_absolute_error: 0.367 - ETA: 0s - loss: 0.2116 - mean_absolute_error: 0.372 - ETA: 0s - loss: 0.2054 - mean_absolute_error: 0.365 - ETA: 0s - loss: 0.2182 - mean_absolute_error: 0.376 - ETA: 0s - loss: 0.2084 - mean_absolute_error: 0.368 - ETA: 0s - loss: 0.2127 - mean_absolute_error: 0.371 - ETA: 0s - loss: 0.2162 - mean_absolute_error: 0.373 - ETA: 0s - loss: 0.2166 - mean_absolute_error: 0.374 - ETA: 0s - loss: 0.2155 - mean_absolute_error: 0.374 - 1s 1ms/step - loss: 0.2159 - mean_absolute_error: 0.3742\n",
      "Epoch 197/500\n",
      "500/500 [==============================] - ETA: 1s - loss: 0.0216 - mean_absolute_error: 0.146 - ETA: 0s - loss: 0.2194 - mean_absolute_error: 0.357 - ETA: 0s - loss: 0.1791 - mean_absolute_error: 0.331 - ETA: 0s - loss: 0.2128 - mean_absolute_error: 0.370 - ETA: 0s - loss: 0.2357 - mean_absolute_error: 0.382 - ETA: 0s - loss: 0.2264 - mean_absolute_error: 0.377 - ETA: 0s - loss: 0.2184 - mean_absolute_error: 0.371 - ETA: 0s - loss: 0.2205 - mean_absolute_error: 0.372 - ETA: 0s - loss: 0.2201 - mean_absolute_error: 0.371 - ETA: 0s - loss: 0.2205 - mean_absolute_error: 0.371 - ETA: 0s - loss: 0.2127 - mean_absolute_error: 0.366 - ETA: 0s - loss: 0.2117 - mean_absolute_error: 0.366 - 1s 1ms/step - loss: 0.2107 - mean_absolute_error: 0.3654\n",
      "Epoch 198/500\n",
      "500/500 [==============================] - ETA: 0s - loss: 0.0047 - mean_absolute_error: 0.068 - ETA: 0s - loss: 0.1878 - mean_absolute_error: 0.337 - ETA: 0s - loss: 0.2017 - mean_absolute_error: 0.350 - ETA: 0s - loss: 0.1934 - mean_absolute_error: 0.345 - ETA: 0s - loss: 0.2026 - mean_absolute_error: 0.359 - ETA: 0s - loss: 0.2136 - mean_absolute_error: 0.368 - ETA: 0s - loss: 0.2213 - mean_absolute_error: 0.377 - ETA: 0s - loss: 0.2168 - mean_absolute_error: 0.372 - ETA: 0s - loss: 0.2154 - mean_absolute_error: 0.370 - ETA: 0s - loss: 0.2093 - mean_absolute_error: 0.362 - ETA: 0s - loss: 0.2070 - mean_absolute_error: 0.360 - 1s 1ms/step - loss: 0.2040 - mean_absolute_error: 0.3571\n",
      "Epoch 199/500\n",
      "500/500 [==============================] - ETA: 1s - loss: 0.4219 - mean_absolute_error: 0.649 - ETA: 0s - loss: 0.1848 - mean_absolute_error: 0.364 - ETA: 0s - loss: 0.1877 - mean_absolute_error: 0.345 - ETA: 0s - loss: 0.1996 - mean_absolute_error: 0.364 - ETA: 0s - loss: 0.2125 - mean_absolute_error: 0.377 - ETA: 0s - loss: 0.2121 - mean_absolute_error: 0.375 - ETA: 0s - loss: 0.2038 - mean_absolute_error: 0.366 - ETA: 0s - loss: 0.2049 - mean_absolute_error: 0.365 - ETA: 0s - loss: 0.2134 - mean_absolute_error: 0.370 - ETA: 0s - loss: 0.2159 - mean_absolute_error: 0.373 - ETA: 0s - loss: 0.2188 - mean_absolute_error: 0.376 - 1s 1ms/step - loss: 0.2164 - mean_absolute_error: 0.3757\n",
      "Epoch 200/500\n",
      "500/500 [==============================] - ETA: 3s - loss: 0.0661 - mean_absolute_error: 0.257 - ETA: 0s - loss: 0.1699 - mean_absolute_error: 0.333 - ETA: 0s - loss: 0.1885 - mean_absolute_error: 0.347 - ETA: 0s - loss: 0.1924 - mean_absolute_error: 0.342 - ETA: 0s - loss: 0.2025 - mean_absolute_error: 0.349 - ETA: 0s - loss: 0.2025 - mean_absolute_error: 0.350 - ETA: 0s - loss: 0.2062 - mean_absolute_error: 0.354 - ETA: 0s - loss: 0.1953 - mean_absolute_error: 0.342 - ETA: 0s - loss: 0.1953 - mean_absolute_error: 0.344 - ETA: 0s - loss: 0.2018 - mean_absolute_error: 0.350 - 0s 976us/step - loss: 0.2081 - mean_absolute_error: 0.3571\n",
      "Epoch 201/500\n",
      "500/500 [==============================] - ETA: 0s - loss: 0.0627 - mean_absolute_error: 0.250 - ETA: 0s - loss: 0.1960 - mean_absolute_error: 0.352 - ETA: 0s - loss: 0.2231 - mean_absolute_error: 0.371 - ETA: 0s - loss: 0.2403 - mean_absolute_error: 0.390 - ETA: 0s - loss: 0.2263 - mean_absolute_error: 0.374 - ETA: 0s - loss: 0.2193 - mean_absolute_error: 0.369 - ETA: 0s - loss: 0.2200 - mean_absolute_error: 0.369 - ETA: 0s - loss: 0.2053 - mean_absolute_error: 0.355 - ETA: 0s - loss: 0.2040 - mean_absolute_error: 0.354 - ETA: 0s - loss: 0.2007 - mean_absolute_error: 0.353 - 0s 968us/step - loss: 0.2020 - mean_absolute_error: 0.3532\n",
      "Epoch 202/500\n",
      "500/500 [==============================] - ETA: 0s - loss: 5.2675e-04 - mean_absolute_error: 0.023 - ETA: 0s - loss: 0.2255 - mean_absolute_error: 0.3637    - ETA: 0s - loss: 0.2229 - mean_absolute_error: 0.359 - ETA: 0s - loss: 0.2065 - mean_absolute_error: 0.344 - ETA: 0s - loss: 0.2056 - mean_absolute_error: 0.351 - ETA: 0s - loss: 0.2048 - mean_absolute_error: 0.355 - ETA: 0s - loss: 0.1944 - mean_absolute_error: 0.346 - ETA: 0s - loss: 0.1895 - mean_absolute_error: 0.342 - ETA: 0s - loss: 0.1856 - mean_absolute_error: 0.339 - ETA: 0s - loss: 0.1950 - mean_absolute_error: 0.348 - ETA: 0s - loss: 0.1928 - mean_absolute_error: 0.346 - ETA: 0s - loss: 0.1921 - mean_absolute_error: 0.345 - ETA: 0s - loss: 0.1938 - mean_absolute_error: 0.347 - ETA: 0s - loss: 0.1988 - mean_absolute_error: 0.354 - ETA: 0s - loss: 0.1997 - mean_absolute_error: 0.354 - 1s 2ms/step - loss: 0.2024 - mean_absolute_error: 0.3559\n",
      "Epoch 203/500\n",
      "500/500 [==============================] - ETA: 0s - loss: 1.0872 - mean_absolute_error: 1.042 - ETA: 0s - loss: 0.1777 - mean_absolute_error: 0.320 - ETA: 0s - loss: 0.1783 - mean_absolute_error: 0.325 - ETA: 0s - loss: 0.2100 - mean_absolute_error: 0.357 - ETA: 0s - loss: 0.2109 - mean_absolute_error: 0.356 - ETA: 0s - loss: 0.2073 - mean_absolute_error: 0.356 - ETA: 0s - loss: 0.2081 - mean_absolute_error: 0.360 - ETA: 0s - loss: 0.2010 - mean_absolute_error: 0.353 - ETA: 0s - loss: 0.1949 - mean_absolute_error: 0.347 - ETA: 0s - loss: 0.1970 - mean_absolute_error: 0.350 - ETA: 0s - loss: 0.1949 - mean_absolute_error: 0.347 - ETA: 0s - loss: 0.2000 - mean_absolute_error: 0.352 - 1s 1ms/step - loss: 0.1992 - mean_absolute_error: 0.3522\n",
      "Epoch 204/500\n",
      "500/500 [==============================] - ETA: 0s - loss: 0.0641 - mean_absolute_error: 0.253 - ETA: 0s - loss: 0.1891 - mean_absolute_error: 0.353 - ETA: 0s - loss: 0.1625 - mean_absolute_error: 0.322 - ETA: 0s - loss: 0.1778 - mean_absolute_error: 0.342 - ETA: 0s - loss: 0.1890 - mean_absolute_error: 0.345 - ETA: 0s - loss: 0.1919 - mean_absolute_error: 0.343 - ETA: 0s - loss: 0.1950 - mean_absolute_error: 0.348 - ETA: 0s - loss: 0.2019 - mean_absolute_error: 0.354 - ETA: 0s - loss: 0.1949 - mean_absolute_error: 0.349 - ETA: 0s - loss: 0.1948 - mean_absolute_error: 0.349 - ETA: 0s - loss: 0.1922 - mean_absolute_error: 0.348 - ETA: 0s - loss: 0.1972 - mean_absolute_error: 0.351 - 1s 1ms/step - loss: 0.1978 - mean_absolute_error: 0.3531\n",
      "Epoch 205/500\n",
      "500/500 [==============================] - ETA: 0s - loss: 0.4575 - mean_absolute_error: 0.676 - ETA: 0s - loss: 0.2263 - mean_absolute_error: 0.381 - ETA: 0s - loss: 0.2010 - mean_absolute_error: 0.357 - ETA: 0s - loss: 0.2022 - mean_absolute_error: 0.361 - ETA: 0s - loss: 0.2054 - mean_absolute_error: 0.360 - ETA: 0s - loss: 0.1936 - mean_absolute_error: 0.350 - ETA: 0s - loss: 0.1875 - mean_absolute_error: 0.345 - ETA: 0s - loss: 0.2015 - mean_absolute_error: 0.360 - ETA: 0s - loss: 0.1994 - mean_absolute_error: 0.357 - ETA: 0s - loss: 0.1965 - mean_absolute_error: 0.353 - ETA: 0s - loss: 0.1975 - mean_absolute_error: 0.354 - 1s 1ms/step - loss: 0.2024 - mean_absolute_error: 0.3588\n",
      "Epoch 206/500\n",
      "500/500 [==============================] - ETA: 0s - loss: 0.0400 - mean_absolute_error: 0.199 - ETA: 0s - loss: 0.1982 - mean_absolute_error: 0.370 - ETA: 0s - loss: 0.2009 - mean_absolute_error: 0.369 - ETA: 0s - loss: 0.2113 - mean_absolute_error: 0.375 - ETA: 0s - loss: 0.2094 - mean_absolute_error: 0.375 - ETA: 0s - loss: 0.2136 - mean_absolute_error: 0.371 - ETA: 0s - loss: 0.1993 - mean_absolute_error: 0.356 - ETA: 0s - loss: 0.2009 - mean_absolute_error: 0.358 - ETA: 0s - loss: 0.1918 - mean_absolute_error: 0.348 - ETA: 0s - loss: 0.1954 - mean_absolute_error: 0.352 - 1s 1ms/step - loss: 0.1993 - mean_absolute_error: 0.3555\n",
      "Epoch 207/500\n",
      "500/500 [==============================] - ETA: 0s - loss: 0.1911 - mean_absolute_error: 0.437 - ETA: 0s - loss: 0.1658 - mean_absolute_error: 0.339 - ETA: 0s - loss: 0.2008 - mean_absolute_error: 0.370 - ETA: 0s - loss: 0.2193 - mean_absolute_error: 0.380 - ETA: 0s - loss: 0.2153 - mean_absolute_error: 0.379 - ETA: 0s - loss: 0.2145 - mean_absolute_error: 0.376 - ETA: 0s - loss: 0.2060 - mean_absolute_error: 0.368 - ETA: 0s - loss: 0.1986 - mean_absolute_error: 0.359 - ETA: 0s - loss: 0.2013 - mean_absolute_error: 0.361 - ETA: 0s - loss: 0.1959 - mean_absolute_error: 0.354 - ETA: 0s - loss: 0.1965 - mean_absolute_error: 0.356 - 1s 1ms/step - loss: 0.1982 - mean_absolute_error: 0.3577\n",
      "Epoch 208/500\n",
      "500/500 [==============================] - ETA: 0s - loss: 0.0334 - mean_absolute_error: 0.182 - ETA: 0s - loss: 0.1592 - mean_absolute_error: 0.310 - ETA: 0s - loss: 0.1803 - mean_absolute_error: 0.332 - ETA: 0s - loss: 0.2065 - mean_absolute_error: 0.358 - ETA: 0s - loss: 0.1974 - mean_absolute_error: 0.354 - ETA: 0s - loss: 0.1992 - mean_absolute_error: 0.356 - ETA: 0s - loss: 0.2012 - mean_absolute_error: 0.356 - ETA: 0s - loss: 0.2010 - mean_absolute_error: 0.355 - ETA: 0s - loss: 0.1965 - mean_absolute_error: 0.352 - 0s 905us/step - loss: 0.1951 - mean_absolute_error: 0.3497\n",
      "Epoch 209/500\n",
      "500/500 [==============================] - ETA: 0s - loss: 0.0054 - mean_absolute_error: 0.073 - ETA: 0s - loss: 0.2522 - mean_absolute_error: 0.386 - ETA: 0s - loss: 0.2011 - mean_absolute_error: 0.342 - ETA: 0s - loss: 0.2044 - mean_absolute_error: 0.351 - ETA: 0s - loss: 0.1933 - mean_absolute_error: 0.343 - ETA: 0s - loss: 0.1961 - mean_absolute_error: 0.346 - ETA: 0s - loss: 0.1988 - mean_absolute_error: 0.349 - ETA: 0s - loss: 0.1982 - mean_absolute_error: 0.349 - ETA: 0s - loss: 0.1922 - mean_absolute_error: 0.343 - ETA: 0s - loss: 0.1895 - mean_absolute_error: 0.339 - 0s 969us/step - loss: 0.1975 - mean_absolute_error: 0.3487\n",
      "Epoch 210/500\n",
      "500/500 [==============================] - ETA: 0s - loss: 0.1498 - mean_absolute_error: 0.387 - ETA: 0s - loss: 0.2120 - mean_absolute_error: 0.357 - ETA: 0s - loss: 0.2178 - mean_absolute_error: 0.364 - ETA: 0s - loss: 0.1979 - mean_absolute_error: 0.346 - ETA: 0s - loss: 0.1922 - mean_absolute_error: 0.341 - ETA: 0s - loss: 0.1981 - mean_absolute_error: 0.344 - ETA: 0s - loss: 0.1962 - mean_absolute_error: 0.346 - ETA: 0s - loss: 0.1963 - mean_absolute_error: 0.347 - ETA: 0s - loss: 0.1988 - mean_absolute_error: 0.352 - ETA: 0s - loss: 0.1995 - mean_absolute_error: 0.353 - ETA: 0s - loss: 0.1956 - mean_absolute_error: 0.349 - ETA: 0s - loss: 0.1916 - mean_absolute_error: 0.345 - 1s 1ms/step - loss: 0.1900 - mean_absolute_error: 0.3439\n",
      "Epoch 211/500\n",
      "500/500 [==============================] - ETA: 0s - loss: 0.0650 - mean_absolute_error: 0.254 - ETA: 0s - loss: 0.1846 - mean_absolute_error: 0.335 - ETA: 0s - loss: 0.1992 - mean_absolute_error: 0.356 - ETA: 0s - loss: 0.1973 - mean_absolute_error: 0.352 - ETA: 0s - loss: 0.1929 - mean_absolute_error: 0.347 - ETA: 0s - loss: 0.1831 - mean_absolute_error: 0.335 - ETA: 0s - loss: 0.1917 - mean_absolute_error: 0.344 - ETA: 0s - loss: 0.1958 - mean_absolute_error: 0.350 - ETA: 0s - loss: 0.1956 - mean_absolute_error: 0.350 - ETA: 0s - loss: 0.1952 - mean_absolute_error: 0.351 - ETA: 0s - loss: 0.1961 - mean_absolute_error: 0.352 - 1s 1ms/step - loss: 0.1977 - mean_absolute_error: 0.3552\n",
      "Epoch 212/500\n",
      "500/500 [==============================] - ETA: 1s - loss: 0.0217 - mean_absolute_error: 0.147 - ETA: 0s - loss: 0.1714 - mean_absolute_error: 0.334 - ETA: 0s - loss: 0.1999 - mean_absolute_error: 0.348 - ETA: 0s - loss: 0.1998 - mean_absolute_error: 0.351 - ETA: 0s - loss: 0.1922 - mean_absolute_error: 0.346 - ETA: 0s - loss: 0.1879 - mean_absolute_error: 0.346 - ETA: 0s - loss: 0.1911 - mean_absolute_error: 0.346 - ETA: 0s - loss: 0.1912 - mean_absolute_error: 0.345 - ETA: 0s - loss: 0.1982 - mean_absolute_error: 0.350 - ETA: 0s - loss: 0.1917 - mean_absolute_error: 0.345 - ETA: 0s - loss: 0.1866 - mean_absolute_error: 0.340 - ETA: 0s - loss: 0.1868 - mean_absolute_error: 0.340 - 1s 1ms/step - loss: 0.1870 - mean_absolute_error: 0.3414\n",
      "Epoch 213/500\n"
     ]
    },
    {
     "name": "stdout",
     "output_type": "stream",
     "text": [
      "500/500 [==============================] - ETA: 0s - loss: 0.0473 - mean_absolute_error: 0.217 - ETA: 0s - loss: 0.1983 - mean_absolute_error: 0.361 - ETA: 0s - loss: 0.1981 - mean_absolute_error: 0.360 - ETA: 0s - loss: 0.2075 - mean_absolute_error: 0.372 - ETA: 0s - loss: 0.2152 - mean_absolute_error: 0.376 - ETA: 0s - loss: 0.2078 - mean_absolute_error: 0.368 - ETA: 0s - loss: 0.2019 - mean_absolute_error: 0.361 - ETA: 0s - loss: 0.2024 - mean_absolute_error: 0.360 - ETA: 0s - loss: 0.2006 - mean_absolute_error: 0.359 - ETA: 0s - loss: 0.1965 - mean_absolute_error: 0.355 - ETA: 0s - loss: 0.1987 - mean_absolute_error: 0.357 - ETA: 0s - loss: 0.1954 - mean_absolute_error: 0.354 - 1s 1ms/step - loss: 0.1937 - mean_absolute_error: 0.3535\n",
      "Epoch 214/500\n",
      "500/500 [==============================] - ETA: 0s - loss: 0.0453 - mean_absolute_error: 0.213 - ETA: 0s - loss: 0.1465 - mean_absolute_error: 0.295 - ETA: 0s - loss: 0.1795 - mean_absolute_error: 0.338 - ETA: 0s - loss: 0.1989 - mean_absolute_error: 0.356 - ETA: 0s - loss: 0.1944 - mean_absolute_error: 0.353 - ETA: 0s - loss: 0.1858 - mean_absolute_error: 0.343 - ETA: 0s - loss: 0.1767 - mean_absolute_error: 0.336 - ETA: 0s - loss: 0.1807 - mean_absolute_error: 0.341 - ETA: 0s - loss: 0.1820 - mean_absolute_error: 0.343 - ETA: 0s - loss: 0.1889 - mean_absolute_error: 0.347 - ETA: 0s - loss: 0.1906 - mean_absolute_error: 0.349 - 1s 1ms/step - loss: 0.1845 - mean_absolute_error: 0.3421\n",
      "Epoch 215/500\n",
      "500/500 [==============================] - ETA: 0s - loss: 1.0298 - mean_absolute_error: 1.014 - ETA: 0s - loss: 0.1851 - mean_absolute_error: 0.366 - ETA: 0s - loss: 0.1537 - mean_absolute_error: 0.324 - ETA: 0s - loss: 0.1636 - mean_absolute_error: 0.329 - ETA: 0s - loss: 0.1636 - mean_absolute_error: 0.325 - ETA: 0s - loss: 0.1707 - mean_absolute_error: 0.326 - ETA: 0s - loss: 0.1677 - mean_absolute_error: 0.323 - ETA: 0s - loss: 0.1684 - mean_absolute_error: 0.323 - ETA: 0s - loss: 0.1713 - mean_absolute_error: 0.327 - ETA: 0s - loss: 0.1744 - mean_absolute_error: 0.330 - ETA: 0s - loss: 0.1779 - mean_absolute_error: 0.335 - 1s 1ms/step - loss: 0.1790 - mean_absolute_error: 0.3355\n",
      "Epoch 216/500\n",
      "500/500 [==============================] - ETA: 0s - loss: 0.2183 - mean_absolute_error: 0.467 - ETA: 0s - loss: 0.1722 - mean_absolute_error: 0.337 - ETA: 0s - loss: 0.1723 - mean_absolute_error: 0.325 - ETA: 0s - loss: 0.1724 - mean_absolute_error: 0.329 - ETA: 0s - loss: 0.1699 - mean_absolute_error: 0.330 - ETA: 0s - loss: 0.1751 - mean_absolute_error: 0.331 - ETA: 0s - loss: 0.1743 - mean_absolute_error: 0.331 - ETA: 0s - loss: 0.1733 - mean_absolute_error: 0.326 - ETA: 0s - loss: 0.1789 - mean_absolute_error: 0.331 - ETA: 0s - loss: 0.1796 - mean_absolute_error: 0.333 - 0s 995us/step - loss: 0.1825 - mean_absolute_error: 0.3352\n",
      "Epoch 217/500\n",
      "500/500 [==============================] - ETA: 1s - loss: 0.6488 - mean_absolute_error: 0.805 - ETA: 0s - loss: 0.1959 - mean_absolute_error: 0.360 - ETA: 0s - loss: 0.2262 - mean_absolute_error: 0.391 - ETA: 0s - loss: 0.2164 - mean_absolute_error: 0.381 - ETA: 0s - loss: 0.2264 - mean_absolute_error: 0.387 - ETA: 0s - loss: 0.2122 - mean_absolute_error: 0.369 - ETA: 0s - loss: 0.2034 - mean_absolute_error: 0.360 - ETA: 0s - loss: 0.1959 - mean_absolute_error: 0.351 - ETA: 0s - loss: 0.1915 - mean_absolute_error: 0.347 - ETA: 0s - loss: 0.1845 - mean_absolute_error: 0.340 - 0s 978us/step - loss: 0.1840 - mean_absolute_error: 0.3422\n",
      "Epoch 218/500\n",
      "500/500 [==============================] - ETA: 1s - loss: 0.1370 - mean_absolute_error: 0.370 - ETA: 0s - loss: 0.1622 - mean_absolute_error: 0.327 - ETA: 0s - loss: 0.1559 - mean_absolute_error: 0.319 - ETA: 0s - loss: 0.1742 - mean_absolute_error: 0.329 - ETA: 0s - loss: 0.1923 - mean_absolute_error: 0.342 - ETA: 0s - loss: 0.1890 - mean_absolute_error: 0.344 - ETA: 0s - loss: 0.1842 - mean_absolute_error: 0.341 - ETA: 0s - loss: 0.1835 - mean_absolute_error: 0.340 - ETA: 0s - loss: 0.1791 - mean_absolute_error: 0.338 - ETA: 0s - loss: 0.1852 - mean_absolute_error: 0.341 - 0s 964us/step - loss: 0.1830 - mean_absolute_error: 0.3402\n",
      "Epoch 219/500\n",
      "500/500 [==============================] - ETA: 0s - loss: 0.3351 - mean_absolute_error: 0.578 - ETA: 0s - loss: 0.1821 - mean_absolute_error: 0.346 - ETA: 0s - loss: 0.1761 - mean_absolute_error: 0.337 - ETA: 0s - loss: 0.1680 - mean_absolute_error: 0.328 - ETA: 0s - loss: 0.1730 - mean_absolute_error: 0.330 - ETA: 0s - loss: 0.1687 - mean_absolute_error: 0.326 - ETA: 0s - loss: 0.1781 - mean_absolute_error: 0.338 - ETA: 0s - loss: 0.1790 - mean_absolute_error: 0.341 - ETA: 0s - loss: 0.1789 - mean_absolute_error: 0.341 - ETA: 0s - loss: 0.1782 - mean_absolute_error: 0.339 - 0s 961us/step - loss: 0.1766 - mean_absolute_error: 0.3379\n",
      "Epoch 220/500\n",
      "500/500 [==============================] - ETA: 0s - loss: 1.4679 - mean_absolute_error: 1.211 - ETA: 0s - loss: 0.2043 - mean_absolute_error: 0.358 - ETA: 0s - loss: 0.1905 - mean_absolute_error: 0.341 - ETA: 0s - loss: 0.2055 - mean_absolute_error: 0.353 - ETA: 0s - loss: 0.1982 - mean_absolute_error: 0.348 - ETA: 0s - loss: 0.1927 - mean_absolute_error: 0.343 - ETA: 0s - loss: 0.1874 - mean_absolute_error: 0.342 - ETA: 0s - loss: 0.1854 - mean_absolute_error: 0.341 - ETA: 0s - loss: 0.1802 - mean_absolute_error: 0.339 - ETA: 0s - loss: 0.1869 - mean_absolute_error: 0.342 - 0s 996us/step - loss: 0.1789 - mean_absolute_error: 0.3343\n",
      "Epoch 221/500\n",
      "500/500 [==============================] - ETA: 1s - loss: 0.0259 - mean_absolute_error: 0.160 - ETA: 0s - loss: 0.2047 - mean_absolute_error: 0.367 - ETA: 0s - loss: 0.1622 - mean_absolute_error: 0.311 - ETA: 0s - loss: 0.1827 - mean_absolute_error: 0.333 - ETA: 0s - loss: 0.1773 - mean_absolute_error: 0.328 - ETA: 0s - loss: 0.1854 - mean_absolute_error: 0.336 - ETA: 0s - loss: 0.1897 - mean_absolute_error: 0.340 - ETA: 0s - loss: 0.1801 - mean_absolute_error: 0.333 - ETA: 0s - loss: 0.1799 - mean_absolute_error: 0.333 - ETA: 0s - loss: 0.1763 - mean_absolute_error: 0.330 - ETA: 0s - loss: 0.1741 - mean_absolute_error: 0.331 - 1s 1ms/step - loss: 0.1725 - mean_absolute_error: 0.3300\n",
      "Epoch 222/500\n",
      "500/500 [==============================] - ETA: 0s - loss: 0.0384 - mean_absolute_error: 0.195 - ETA: 0s - loss: 0.1830 - mean_absolute_error: 0.349 - ETA: 0s - loss: 0.1682 - mean_absolute_error: 0.330 - ETA: 0s - loss: 0.1917 - mean_absolute_error: 0.347 - ETA: 0s - loss: 0.1968 - mean_absolute_error: 0.353 - ETA: 0s - loss: 0.1975 - mean_absolute_error: 0.352 - ETA: 0s - loss: 0.2041 - mean_absolute_error: 0.359 - ETA: 0s - loss: 0.1961 - mean_absolute_error: 0.350 - ETA: 0s - loss: 0.1931 - mean_absolute_error: 0.348 - ETA: 0s - loss: 0.1902 - mean_absolute_error: 0.345 - ETA: 0s - loss: 0.1871 - mean_absolute_error: 0.342 - ETA: 0s - loss: 0.1821 - mean_absolute_error: 0.337 - 1s 1ms/step - loss: 0.1786 - mean_absolute_error: 0.3338\n",
      "Epoch 223/500\n",
      "500/500 [==============================] - ETA: 3s - loss: 9.0246e-06 - mean_absolute_error: 0.003 - ETA: 0s - loss: 0.1104 - mean_absolute_error: 0.2740    - ETA: 0s - loss: 0.1525 - mean_absolute_error: 0.323 - ETA: 0s - loss: 0.1435 - mean_absolute_error: 0.309 - ETA: 0s - loss: 0.1736 - mean_absolute_error: 0.333 - ETA: 0s - loss: 0.1792 - mean_absolute_error: 0.335 - ETA: 0s - loss: 0.1902 - mean_absolute_error: 0.346 - ETA: 0s - loss: 0.1876 - mean_absolute_error: 0.347 - ETA: 0s - loss: 0.1871 - mean_absolute_error: 0.345 - ETA: 0s - loss: 0.1808 - mean_absolute_error: 0.338 - ETA: 0s - loss: 0.1874 - mean_absolute_error: 0.345 - ETA: 0s - loss: 0.1874 - mean_absolute_error: 0.345 - ETA: 0s - loss: 0.1872 - mean_absolute_error: 0.345 - 1s 1ms/step - loss: 0.1801 - mean_absolute_error: 0.3373\n",
      "Epoch 224/500\n",
      "500/500 [==============================] - ETA: 0s - loss: 0.0685 - mean_absolute_error: 0.261 - ETA: 0s - loss: 0.1592 - mean_absolute_error: 0.313 - ETA: 0s - loss: 0.1911 - mean_absolute_error: 0.353 - ETA: 0s - loss: 0.1740 - mean_absolute_error: 0.332 - ETA: 0s - loss: 0.1773 - mean_absolute_error: 0.339 - ETA: 0s - loss: 0.1744 - mean_absolute_error: 0.333 - ETA: 0s - loss: 0.1762 - mean_absolute_error: 0.332 - ETA: 0s - loss: 0.1706 - mean_absolute_error: 0.327 - ETA: 0s - loss: 0.1766 - mean_absolute_error: 0.327 - ETA: 0s - loss: 0.1715 - mean_absolute_error: 0.321 - ETA: 0s - loss: 0.1671 - mean_absolute_error: 0.318 - ETA: 0s - loss: 0.1706 - mean_absolute_error: 0.322 - 1s 1ms/step - loss: 0.1710 - mean_absolute_error: 0.3229\n",
      "Epoch 225/500\n",
      "500/500 [==============================] - ETA: 0s - loss: 0.5141 - mean_absolute_error: 0.717 - ETA: 0s - loss: 0.2148 - mean_absolute_error: 0.379 - ETA: 0s - loss: 0.1957 - mean_absolute_error: 0.358 - ETA: 0s - loss: 0.1781 - mean_absolute_error: 0.335 - ETA: 0s - loss: 0.1674 - mean_absolute_error: 0.325 - ETA: 0s - loss: 0.1740 - mean_absolute_error: 0.327 - ETA: 0s - loss: 0.1836 - mean_absolute_error: 0.341 - ETA: 0s - loss: 0.1907 - mean_absolute_error: 0.344 - ETA: 0s - loss: 0.1820 - mean_absolute_error: 0.338 - ETA: 0s - loss: 0.1824 - mean_absolute_error: 0.339 - ETA: 0s - loss: 0.1783 - mean_absolute_error: 0.336 - 1s 1ms/step - loss: 0.1781 - mean_absolute_error: 0.3367\n",
      "Epoch 226/500\n",
      "500/500 [==============================] - ETA: 1s - loss: 0.2283 - mean_absolute_error: 0.477 - ETA: 0s - loss: 0.1478 - mean_absolute_error: 0.331 - ETA: 0s - loss: 0.1902 - mean_absolute_error: 0.363 - ETA: 0s - loss: 0.1922 - mean_absolute_error: 0.361 - ETA: 0s - loss: 0.1839 - mean_absolute_error: 0.352 - ETA: 0s - loss: 0.1907 - mean_absolute_error: 0.356 - ETA: 0s - loss: 0.1924 - mean_absolute_error: 0.352 - ETA: 0s - loss: 0.1888 - mean_absolute_error: 0.349 - ETA: 0s - loss: 0.1916 - mean_absolute_error: 0.350 - ETA: 0s - loss: 0.1829 - mean_absolute_error: 0.342 - ETA: 0s - loss: 0.1814 - mean_absolute_error: 0.339 - 1s 1ms/step - loss: 0.1773 - mean_absolute_error: 0.3334\n",
      "Epoch 227/500\n",
      "500/500 [==============================] - ETA: 0s - loss: 0.0020 - mean_absolute_error: 0.044 - ETA: 0s - loss: 0.1181 - mean_absolute_error: 0.274 - ETA: 0s - loss: 0.1421 - mean_absolute_error: 0.300 - ETA: 0s - loss: 0.1502 - mean_absolute_error: 0.309 - ETA: 0s - loss: 0.1544 - mean_absolute_error: 0.313 - ETA: 0s - loss: 0.1556 - mean_absolute_error: 0.314 - ETA: 0s - loss: 0.1684 - mean_absolute_error: 0.326 - ETA: 0s - loss: 0.1711 - mean_absolute_error: 0.329 - 0s 778us/step - loss: 0.1728 - mean_absolute_error: 0.3310\n",
      "Epoch 228/500\n",
      "500/500 [==============================] - ETA: 0s - loss: 0.0071 - mean_absolute_error: 0.084 - ETA: 0s - loss: 0.1302 - mean_absolute_error: 0.261 - ETA: 0s - loss: 0.1404 - mean_absolute_error: 0.290 - ETA: 0s - loss: 0.1463 - mean_absolute_error: 0.299 - ETA: 0s - loss: 0.1382 - mean_absolute_error: 0.295 - ETA: 0s - loss: 0.1385 - mean_absolute_error: 0.292 - ETA: 0s - loss: 0.1664 - mean_absolute_error: 0.320 - ETA: 0s - loss: 0.1692 - mean_absolute_error: 0.325 - ETA: 0s - loss: 0.1680 - mean_absolute_error: 0.325 - ETA: 0s - loss: 0.1672 - mean_absolute_error: 0.324 - ETA: 0s - loss: 0.1670 - mean_absolute_error: 0.326 - ETA: 0s - loss: 0.1642 - mean_absolute_error: 0.324 - ETA: 0s - loss: 0.1668 - mean_absolute_error: 0.326 - ETA: 0s - loss: 0.1760 - mean_absolute_error: 0.336 - ETA: 0s - loss: 0.1793 - mean_absolute_error: 0.339 - ETA: 0s - loss: 0.1816 - mean_absolute_error: 0.341 - ETA: 0s - loss: 0.1823 - mean_absolute_error: 0.342 - 1s 2ms/step - loss: 0.1798 - mean_absolute_error: 0.3402\n",
      "Epoch 229/500\n",
      "500/500 [==============================] - ETA: 0s - loss: 0.0349 - mean_absolute_error: 0.186 - ETA: 0s - loss: 0.2018 - mean_absolute_error: 0.350 - ETA: 0s - loss: 0.1840 - mean_absolute_error: 0.342 - ETA: 0s - loss: 0.1874 - mean_absolute_error: 0.344 - ETA: 0s - loss: 0.1818 - mean_absolute_error: 0.337 - ETA: 0s - loss: 0.1709 - mean_absolute_error: 0.329 - ETA: 0s - loss: 0.1714 - mean_absolute_error: 0.332 - ETA: 0s - loss: 0.1761 - mean_absolute_error: 0.334 - ETA: 0s - loss: 0.1686 - mean_absolute_error: 0.326 - ETA: 0s - loss: 0.1724 - mean_absolute_error: 0.329 - ETA: 0s - loss: 0.1774 - mean_absolute_error: 0.334 - ETA: 0s - loss: 0.1737 - mean_absolute_error: 0.329 - ETA: 0s - loss: 0.1694 - mean_absolute_error: 0.324 - ETA: 0s - loss: 0.1743 - mean_absolute_error: 0.330 - 1s 1ms/step - loss: 0.1722 - mean_absolute_error: 0.3290\n",
      "Epoch 230/500\n",
      "500/500 [==============================] - ETA: 0s - loss: 0.0011 - mean_absolute_error: 0.033 - ETA: 0s - loss: 0.2511 - mean_absolute_error: 0.403 - ETA: 0s - loss: 0.2108 - mean_absolute_error: 0.380 - ETA: 0s - loss: 0.2103 - mean_absolute_error: 0.375 - ETA: 0s - loss: 0.1924 - mean_absolute_error: 0.354 - ETA: 0s - loss: 0.1850 - mean_absolute_error: 0.349 - ETA: 0s - loss: 0.1788 - mean_absolute_error: 0.341 - ETA: 0s - loss: 0.1749 - mean_absolute_error: 0.337 - ETA: 0s - loss: 0.1732 - mean_absolute_error: 0.335 - ETA: 0s - loss: 0.1697 - mean_absolute_error: 0.330 - 0s 950us/step - loss: 0.1675 - mean_absolute_error: 0.3286\n",
      "Epoch 231/500\n",
      "500/500 [==============================] - ETA: 0s - loss: 0.0081 - mean_absolute_error: 0.089 - ETA: 0s - loss: 0.1658 - mean_absolute_error: 0.345 - ETA: 0s - loss: 0.1912 - mean_absolute_error: 0.358 - ETA: 0s - loss: 0.1740 - mean_absolute_error: 0.335 - ETA: 0s - loss: 0.1675 - mean_absolute_error: 0.322 - ETA: 0s - loss: 0.1683 - mean_absolute_error: 0.324 - ETA: 0s - loss: 0.1619 - mean_absolute_error: 0.318 - ETA: 0s - loss: 0.1629 - mean_absolute_error: 0.318 - ETA: 0s - loss: 0.1669 - mean_absolute_error: 0.322 - 0s 867us/step - loss: 0.1667 - mean_absolute_error: 0.3229\n",
      "Epoch 232/500\n",
      "500/500 [==============================] - ETA: 0s - loss: 0.7213 - mean_absolute_error: 0.849 - ETA: 0s - loss: 0.1397 - mean_absolute_error: 0.292 - ETA: 0s - loss: 0.1701 - mean_absolute_error: 0.319 - ETA: 0s - loss: 0.1666 - mean_absolute_error: 0.318 - ETA: 0s - loss: 0.1767 - mean_absolute_error: 0.330 - ETA: 0s - loss: 0.1825 - mean_absolute_error: 0.336 - ETA: 0s - loss: 0.1852 - mean_absolute_error: 0.340 - ETA: 0s - loss: 0.1773 - mean_absolute_error: 0.333 - ETA: 0s - loss: 0.1751 - mean_absolute_error: 0.331 - 0s 881us/step - loss: 0.1722 - mean_absolute_error: 0.3285\n",
      "Epoch 233/500\n",
      "500/500 [==============================] - ETA: 0s - loss: 0.2640 - mean_absolute_error: 0.513 - ETA: 0s - loss: 0.1942 - mean_absolute_error: 0.358 - ETA: 0s - loss: 0.1956 - mean_absolute_error: 0.365 - ETA: 0s - loss: 0.1928 - mean_absolute_error: 0.352 - ETA: 0s - loss: 0.1773 - mean_absolute_error: 0.333 - ETA: 0s - loss: 0.1670 - mean_absolute_error: 0.321 - ETA: 0s - loss: 0.1704 - mean_absolute_error: 0.325 - ETA: 0s - loss: 0.1683 - mean_absolute_error: 0.323 - ETA: 0s - loss: 0.1650 - mean_absolute_error: 0.320 - 0s 835us/step - loss: 0.1668 - mean_absolute_error: 0.3229\n",
      "Epoch 234/500\n",
      "500/500 [==============================] - ETA: 1s - loss: 0.0544 - mean_absolute_error: 0.233 - ETA: 0s - loss: 0.1891 - mean_absolute_error: 0.347 - ETA: 0s - loss: 0.1889 - mean_absolute_error: 0.343 - ETA: 0s - loss: 0.1784 - mean_absolute_error: 0.332 - ETA: 0s - loss: 0.1703 - mean_absolute_error: 0.325 - ETA: 0s - loss: 0.1776 - mean_absolute_error: 0.336 - ETA: 0s - loss: 0.1754 - mean_absolute_error: 0.336 - ETA: 0s - loss: 0.1688 - mean_absolute_error: 0.328 - ETA: 0s - loss: 0.1728 - mean_absolute_error: 0.332 - 0s 845us/step - loss: 0.1709 - mean_absolute_error: 0.3298\n",
      "Epoch 235/500\n"
     ]
    },
    {
     "name": "stdout",
     "output_type": "stream",
     "text": [
      "500/500 [==============================] - ETA: 1s - loss: 0.3814 - mean_absolute_error: 0.617 - ETA: 0s - loss: 0.1419 - mean_absolute_error: 0.300 - ETA: 0s - loss: 0.1567 - mean_absolute_error: 0.314 - ETA: 0s - loss: 0.1672 - mean_absolute_error: 0.326 - ETA: 0s - loss: 0.1730 - mean_absolute_error: 0.328 - ETA: 0s - loss: 0.1679 - mean_absolute_error: 0.325 - ETA: 0s - loss: 0.1624 - mean_absolute_error: 0.320 - ETA: 0s - loss: 0.1626 - mean_absolute_error: 0.322 - ETA: 0s - loss: 0.1719 - mean_absolute_error: 0.331 - 0s 855us/step - loss: 0.1701 - mean_absolute_error: 0.3304\n",
      "Epoch 236/500\n",
      "500/500 [==============================] - ETA: 0s - loss: 0.0952 - mean_absolute_error: 0.308 - ETA: 0s - loss: 0.2036 - mean_absolute_error: 0.339 - ETA: 0s - loss: 0.1752 - mean_absolute_error: 0.320 - ETA: 0s - loss: 0.1833 - mean_absolute_error: 0.333 - ETA: 0s - loss: 0.1815 - mean_absolute_error: 0.333 - ETA: 0s - loss: 0.1871 - mean_absolute_error: 0.342 - ETA: 0s - loss: 0.1829 - mean_absolute_error: 0.340 - ETA: 0s - loss: 0.1799 - mean_absolute_error: 0.337 - ETA: 0s - loss: 0.1778 - mean_absolute_error: 0.334 - ETA: 0s - loss: 0.1729 - mean_absolute_error: 0.330 - 0s 922us/step - loss: 0.1726 - mean_absolute_error: 0.3296\n",
      "Epoch 237/500\n",
      "500/500 [==============================] - ETA: 0s - loss: 2.5655e-04 - mean_absolute_error: 0.016 - ETA: 0s - loss: 0.1071 - mean_absolute_error: 0.2530    - ETA: 0s - loss: 0.1066 - mean_absolute_error: 0.258 - ETA: 0s - loss: 0.1407 - mean_absolute_error: 0.295 - ETA: 0s - loss: 0.1515 - mean_absolute_error: 0.303 - ETA: 0s - loss: 0.1607 - mean_absolute_error: 0.314 - ETA: 0s - loss: 0.1610 - mean_absolute_error: 0.317 - ETA: 0s - loss: 0.1618 - mean_absolute_error: 0.318 - ETA: 0s - loss: 0.1605 - mean_absolute_error: 0.319 - ETA: 0s - loss: 0.1641 - mean_absolute_error: 0.320 - 0s 946us/step - loss: 0.1642 - mean_absolute_error: 0.3203\n",
      "Epoch 238/500\n",
      "500/500 [==============================] - ETA: 1s - loss: 0.0324 - mean_absolute_error: 0.180 - ETA: 0s - loss: 0.1565 - mean_absolute_error: 0.313 - ETA: 0s - loss: 0.1697 - mean_absolute_error: 0.331 - ETA: 0s - loss: 0.1586 - mean_absolute_error: 0.320 - ETA: 0s - loss: 0.1570 - mean_absolute_error: 0.319 - ETA: 0s - loss: 0.1553 - mean_absolute_error: 0.315 - ETA: 0s - loss: 0.1550 - mean_absolute_error: 0.314 - ETA: 0s - loss: 0.1562 - mean_absolute_error: 0.315 - ETA: 0s - loss: 0.1582 - mean_absolute_error: 0.318 - ETA: 0s - loss: 0.1549 - mean_absolute_error: 0.313 - 0s 928us/step - loss: 0.1559 - mean_absolute_error: 0.3149\n",
      "Epoch 239/500\n",
      "500/500 [==============================] - ETA: 1s - loss: 0.0657 - mean_absolute_error: 0.256 - ETA: 0s - loss: 0.1409 - mean_absolute_error: 0.313 - ETA: 0s - loss: 0.1522 - mean_absolute_error: 0.310 - ETA: 0s - loss: 0.1566 - mean_absolute_error: 0.312 - ETA: 0s - loss: 0.1556 - mean_absolute_error: 0.313 - ETA: 0s - loss: 0.1499 - mean_absolute_error: 0.307 - ETA: 0s - loss: 0.1514 - mean_absolute_error: 0.311 - ETA: 0s - loss: 0.1529 - mean_absolute_error: 0.313 - ETA: 0s - loss: 0.1530 - mean_absolute_error: 0.310 - 0s 913us/step - loss: 0.1579 - mean_absolute_error: 0.3177\n",
      "Epoch 240/500\n",
      "500/500 [==============================] - ETA: 1s - loss: 2.2435e-05 - mean_absolute_error: 0.004 - ETA: 0s - loss: 0.1447 - mean_absolute_error: 0.2961    - ETA: 0s - loss: 0.1436 - mean_absolute_error: 0.294 - ETA: 0s - loss: 0.1573 - mean_absolute_error: 0.313 - ETA: 0s - loss: 0.1684 - mean_absolute_error: 0.328 - ETA: 0s - loss: 0.1695 - mean_absolute_error: 0.327 - ETA: 0s - loss: 0.1662 - mean_absolute_error: 0.323 - ETA: 0s - loss: 0.1634 - mean_absolute_error: 0.322 - ETA: 0s - loss: 0.1635 - mean_absolute_error: 0.323 - 0s 885us/step - loss: 0.1626 - mean_absolute_error: 0.3231\n",
      "Epoch 241/500\n",
      "500/500 [==============================] - ETA: 0s - loss: 0.0020 - mean_absolute_error: 0.044 - ETA: 0s - loss: 0.1792 - mean_absolute_error: 0.327 - ETA: 0s - loss: 0.1815 - mean_absolute_error: 0.338 - ETA: 0s - loss: 0.1740 - mean_absolute_error: 0.333 - ETA: 0s - loss: 0.1668 - mean_absolute_error: 0.326 - ETA: 0s - loss: 0.1608 - mean_absolute_error: 0.321 - ETA: 0s - loss: 0.1600 - mean_absolute_error: 0.320 - ETA: 0s - loss: 0.1639 - mean_absolute_error: 0.323 - ETA: 0s - loss: 0.1619 - mean_absolute_error: 0.322 - 0s 855us/step - loss: 0.1612 - mean_absolute_error: 0.3217\n",
      "Epoch 242/500\n",
      "500/500 [==============================] - ETA: 1s - loss: 0.1198 - mean_absolute_error: 0.346 - ETA: 0s - loss: 0.1025 - mean_absolute_error: 0.261 - ETA: 0s - loss: 0.1320 - mean_absolute_error: 0.299 - ETA: 0s - loss: 0.1538 - mean_absolute_error: 0.316 - ETA: 0s - loss: 0.1446 - mean_absolute_error: 0.307 - ETA: 0s - loss: 0.1509 - mean_absolute_error: 0.310 - ETA: 0s - loss: 0.1508 - mean_absolute_error: 0.309 - ETA: 0s - loss: 0.1478 - mean_absolute_error: 0.305 - ETA: 0s - loss: 0.1512 - mean_absolute_error: 0.309 - 0s 866us/step - loss: 0.1554 - mean_absolute_error: 0.3137\n",
      "Epoch 243/500\n",
      "500/500 [==============================] - ETA: 0s - loss: 0.0910 - mean_absolute_error: 0.301 - ETA: 0s - loss: 0.1590 - mean_absolute_error: 0.313 - ETA: 0s - loss: 0.1494 - mean_absolute_error: 0.310 - ETA: 0s - loss: 0.1516 - mean_absolute_error: 0.310 - ETA: 0s - loss: 0.1485 - mean_absolute_error: 0.307 - ETA: 0s - loss: 0.1493 - mean_absolute_error: 0.307 - ETA: 0s - loss: 0.1534 - mean_absolute_error: 0.311 - ETA: 0s - loss: 0.1499 - mean_absolute_error: 0.305 - ETA: 0s - loss: 0.1574 - mean_absolute_error: 0.313 - 0s 848us/step - loss: 0.1573 - mean_absolute_error: 0.3124\n",
      "Epoch 244/500\n",
      "500/500 [==============================] - ETA: 0s - loss: 0.4858 - mean_absolute_error: 0.697 - ETA: 0s - loss: 0.2008 - mean_absolute_error: 0.354 - ETA: 0s - loss: 0.1786 - mean_absolute_error: 0.330 - ETA: 0s - loss: 0.1716 - mean_absolute_error: 0.324 - ETA: 0s - loss: 0.1737 - mean_absolute_error: 0.329 - ETA: 0s - loss: 0.1747 - mean_absolute_error: 0.333 - ETA: 0s - loss: 0.1712 - mean_absolute_error: 0.326 - ETA: 0s - loss: 0.1682 - mean_absolute_error: 0.324 - ETA: 0s - loss: 0.1676 - mean_absolute_error: 0.325 - 0s 861us/step - loss: 0.1682 - mean_absolute_error: 0.3258\n",
      "Epoch 245/500\n",
      "500/500 [==============================] - ETA: 0s - loss: 0.0422 - mean_absolute_error: 0.205 - ETA: 0s - loss: 0.1086 - mean_absolute_error: 0.256 - ETA: 0s - loss: 0.1639 - mean_absolute_error: 0.315 - ETA: 0s - loss: 0.1590 - mean_absolute_error: 0.310 - ETA: 0s - loss: 0.1569 - mean_absolute_error: 0.309 - ETA: 0s - loss: 0.1577 - mean_absolute_error: 0.313 - ETA: 0s - loss: 0.1547 - mean_absolute_error: 0.311 - ETA: 0s - loss: 0.1618 - mean_absolute_error: 0.318 - ETA: 0s - loss: 0.1572 - mean_absolute_error: 0.313 - 0s 878us/step - loss: 0.1609 - mean_absolute_error: 0.3166\n",
      "Epoch 246/500\n",
      "500/500 [==============================] - ETA: 0s - loss: 0.0225 - mean_absolute_error: 0.150 - ETA: 0s - loss: 0.1789 - mean_absolute_error: 0.355 - ETA: 0s - loss: 0.1925 - mean_absolute_error: 0.361 - ETA: 0s - loss: 0.1857 - mean_absolute_error: 0.343 - ETA: 0s - loss: 0.1697 - mean_absolute_error: 0.325 - ETA: 0s - loss: 0.1705 - mean_absolute_error: 0.325 - ETA: 0s - loss: 0.1702 - mean_absolute_error: 0.322 - ETA: 0s - loss: 0.1696 - mean_absolute_error: 0.327 - ETA: 0s - loss: 0.1648 - mean_absolute_error: 0.322 - 0s 855us/step - loss: 0.1658 - mean_absolute_error: 0.3219\n",
      "Epoch 247/500\n",
      "500/500 [==============================] - ETA: 0s - loss: 0.0984 - mean_absolute_error: 0.313 - ETA: 0s - loss: 0.1332 - mean_absolute_error: 0.274 - ETA: 0s - loss: 0.1192 - mean_absolute_error: 0.264 - ETA: 0s - loss: 0.1380 - mean_absolute_error: 0.294 - ETA: 0s - loss: 0.1255 - mean_absolute_error: 0.283 - ETA: 0s - loss: 0.1294 - mean_absolute_error: 0.289 - ETA: 0s - loss: 0.1384 - mean_absolute_error: 0.298 - ETA: 0s - loss: 0.1479 - mean_absolute_error: 0.306 - ETA: 0s - loss: 0.1523 - mean_absolute_error: 0.310 - ETA: 0s - loss: 0.1573 - mean_absolute_error: 0.318 - 0s 934us/step - loss: 0.1568 - mean_absolute_error: 0.3174\n",
      "Epoch 248/500\n",
      "500/500 [==============================] - ETA: 0s - loss: 0.0892 - mean_absolute_error: 0.298 - ETA: 0s - loss: 0.2036 - mean_absolute_error: 0.366 - ETA: 0s - loss: 0.1665 - mean_absolute_error: 0.324 - ETA: 0s - loss: 0.1701 - mean_absolute_error: 0.333 - ETA: 0s - loss: 0.1646 - mean_absolute_error: 0.325 - ETA: 0s - loss: 0.1641 - mean_absolute_error: 0.326 - ETA: 0s - loss: 0.1688 - mean_absolute_error: 0.332 - ETA: 0s - loss: 0.1609 - mean_absolute_error: 0.326 - ETA: 0s - loss: 0.1566 - mean_absolute_error: 0.320 - ETA: 0s - loss: 0.1552 - mean_absolute_error: 0.318 - 0s 978us/step - loss: 0.1538 - mean_absolute_error: 0.3172\n",
      "Epoch 249/500\n",
      "500/500 [==============================] - ETA: 2s - loss: 0.0143 - mean_absolute_error: 0.119 - ETA: 0s - loss: 0.1554 - mean_absolute_error: 0.327 - ETA: 0s - loss: 0.1484 - mean_absolute_error: 0.301 - ETA: 0s - loss: 0.1545 - mean_absolute_error: 0.309 - ETA: 0s - loss: 0.1498 - mean_absolute_error: 0.306 - ETA: 0s - loss: 0.1494 - mean_absolute_error: 0.308 - ETA: 0s - loss: 0.1429 - mean_absolute_error: 0.301 - ETA: 0s - loss: 0.1416 - mean_absolute_error: 0.300 - ETA: 0s - loss: 0.1495 - mean_absolute_error: 0.309 - 0s 854us/step - loss: 0.1497 - mean_absolute_error: 0.3099\n",
      "Epoch 250/500\n",
      "500/500 [==============================] - ETA: 0s - loss: 0.0152 - mean_absolute_error: 0.123 - ETA: 0s - loss: 0.1166 - mean_absolute_error: 0.276 - ETA: 0s - loss: 0.1493 - mean_absolute_error: 0.309 - ETA: 0s - loss: 0.1584 - mean_absolute_error: 0.323 - ETA: 0s - loss: 0.1508 - mean_absolute_error: 0.310 - ETA: 0s - loss: 0.1416 - mean_absolute_error: 0.297 - ETA: 0s - loss: 0.1432 - mean_absolute_error: 0.301 - ETA: 0s - loss: 0.1371 - mean_absolute_error: 0.295 - ETA: 0s - loss: 0.1426 - mean_absolute_error: 0.299 - ETA: 0s - loss: 0.1447 - mean_absolute_error: 0.301 - 0s 938us/step - loss: 0.1461 - mean_absolute_error: 0.3029\n",
      "Epoch 251/500\n",
      "500/500 [==============================] - ETA: 0s - loss: 0.0905 - mean_absolute_error: 0.300 - ETA: 0s - loss: 0.1232 - mean_absolute_error: 0.281 - ETA: 0s - loss: 0.1178 - mean_absolute_error: 0.275 - ETA: 0s - loss: 0.1574 - mean_absolute_error: 0.318 - ETA: 0s - loss: 0.1480 - mean_absolute_error: 0.308 - ETA: 0s - loss: 0.1573 - mean_absolute_error: 0.317 - ETA: 0s - loss: 0.1590 - mean_absolute_error: 0.320 - ETA: 0s - loss: 0.1561 - mean_absolute_error: 0.315 - ETA: 0s - loss: 0.1566 - mean_absolute_error: 0.316 - 0s 839us/step - loss: 0.1573 - mean_absolute_error: 0.3167\n",
      "Epoch 252/500\n",
      "500/500 [==============================] - ETA: 0s - loss: 0.9723 - mean_absolute_error: 0.986 - ETA: 0s - loss: 0.1592 - mean_absolute_error: 0.308 - ETA: 0s - loss: 0.1733 - mean_absolute_error: 0.332 - ETA: 0s - loss: 0.1758 - mean_absolute_error: 0.327 - ETA: 0s - loss: 0.1787 - mean_absolute_error: 0.327 - ETA: 0s - loss: 0.1662 - mean_absolute_error: 0.314 - ETA: 0s - loss: 0.1566 - mean_absolute_error: 0.305 - ETA: 0s - loss: 0.1538 - mean_absolute_error: 0.304 - ETA: 0s - loss: 0.1562 - mean_absolute_error: 0.312 - ETA: 0s - loss: 0.1554 - mean_absolute_error: 0.310 - 0s 940us/step - loss: 0.1552 - mean_absolute_error: 0.3103\n",
      "Epoch 253/500\n",
      "500/500 [==============================] - ETA: 1s - loss: 0.1651 - mean_absolute_error: 0.406 - ETA: 0s - loss: 0.1687 - mean_absolute_error: 0.320 - ETA: 0s - loss: 0.1515 - mean_absolute_error: 0.310 - ETA: 0s - loss: 0.1472 - mean_absolute_error: 0.310 - ETA: 0s - loss: 0.1478 - mean_absolute_error: 0.305 - ETA: 0s - loss: 0.1450 - mean_absolute_error: 0.297 - ETA: 0s - loss: 0.1419 - mean_absolute_error: 0.294 - ETA: 0s - loss: 0.1529 - mean_absolute_error: 0.305 - ETA: 0s - loss: 0.1512 - mean_absolute_error: 0.301 - ETA: 0s - loss: 0.1515 - mean_absolute_error: 0.303 - ETA: 0s - loss: 0.1512 - mean_absolute_error: 0.304 - 1s 1ms/step - loss: 0.1552 - mean_absolute_error: 0.3090\n",
      "Epoch 254/500\n",
      "500/500 [==============================] - ETA: 1s - loss: 0.1161 - mean_absolute_error: 0.340 - ETA: 0s - loss: 0.1854 - mean_absolute_error: 0.367 - ETA: 0s - loss: 0.1463 - mean_absolute_error: 0.308 - ETA: 0s - loss: 0.1443 - mean_absolute_error: 0.308 - ETA: 0s - loss: 0.1480 - mean_absolute_error: 0.307 - ETA: 0s - loss: 0.1398 - mean_absolute_error: 0.294 - ETA: 0s - loss: 0.1386 - mean_absolute_error: 0.296 - ETA: 0s - loss: 0.1441 - mean_absolute_error: 0.301 - ETA: 0s - loss: 0.1531 - mean_absolute_error: 0.308 - ETA: 0s - loss: 0.1540 - mean_absolute_error: 0.310 - ETA: 0s - loss: 0.1483 - mean_absolute_error: 0.304 - ETA: 0s - loss: 0.1445 - mean_absolute_error: 0.297 - ETA: 0s - loss: 0.1511 - mean_absolute_error: 0.306 - ETA: 0s - loss: 0.1514 - mean_absolute_error: 0.308 - 1s 1ms/step - loss: 0.1548 - mean_absolute_error: 0.3137\n",
      "Epoch 255/500\n",
      "500/500 [==============================] - ETA: 0s - loss: 0.0013 - mean_absolute_error: 0.035 - ETA: 0s - loss: 0.1843 - mean_absolute_error: 0.345 - ETA: 0s - loss: 0.1906 - mean_absolute_error: 0.349 - ETA: 0s - loss: 0.1875 - mean_absolute_error: 0.349 - ETA: 0s - loss: 0.1748 - mean_absolute_error: 0.332 - ETA: 0s - loss: 0.1626 - mean_absolute_error: 0.319 - ETA: 0s - loss: 0.1673 - mean_absolute_error: 0.322 - ETA: 0s - loss: 0.1620 - mean_absolute_error: 0.318 - 0s 753us/step - loss: 0.1601 - mean_absolute_error: 0.3159\n",
      "Epoch 256/500\n",
      "500/500 [==============================] - ETA: 0s - loss: 0.2306 - mean_absolute_error: 0.480 - ETA: 0s - loss: 0.1249 - mean_absolute_error: 0.277 - ETA: 0s - loss: 0.1402 - mean_absolute_error: 0.291 - ETA: 0s - loss: 0.1511 - mean_absolute_error: 0.306 - ETA: 0s - loss: 0.1621 - mean_absolute_error: 0.313 - ETA: 0s - loss: 0.1653 - mean_absolute_error: 0.318 - ETA: 0s - loss: 0.1613 - mean_absolute_error: 0.315 - 0s 665us/step - loss: 0.1581 - mean_absolute_error: 0.3118\n",
      "Epoch 257/500\n",
      "500/500 [==============================] - ETA: 0s - loss: 6.6008e-04 - mean_absolute_error: 0.025 - ETA: 0s - loss: 0.1101 - mean_absolute_error: 0.2535    - ETA: 0s - loss: 0.1328 - mean_absolute_error: 0.286 - ETA: 0s - loss: 0.1410 - mean_absolute_error: 0.299 - ETA: 0s - loss: 0.1426 - mean_absolute_error: 0.299 - ETA: 0s - loss: 0.1489 - mean_absolute_error: 0.309 - ETA: 0s - loss: 0.1464 - mean_absolute_error: 0.306 - 0s 660us/step - loss: 0.1488 - mean_absolute_error: 0.3090\n",
      "Epoch 258/500\n",
      "500/500 [==============================] - ETA: 0s - loss: 0.6590 - mean_absolute_error: 0.811 - ETA: 0s - loss: 0.1700 - mean_absolute_error: 0.334 - ETA: 0s - loss: 0.1721 - mean_absolute_error: 0.334 - ETA: 0s - loss: 0.1691 - mean_absolute_error: 0.324 - ETA: 0s - loss: 0.1716 - mean_absolute_error: 0.327 - ETA: 0s - loss: 0.1619 - mean_absolute_error: 0.318 - ETA: 0s - loss: 0.1614 - mean_absolute_error: 0.319 - ETA: 0s - loss: 0.1606 - mean_absolute_error: 0.319 - ETA: 0s - loss: 0.1593 - mean_absolute_error: 0.317 - ETA: 0s - loss: 0.1591 - mean_absolute_error: 0.317 - ETA: 0s - loss: 0.1569 - mean_absolute_error: 0.314 - ETA: 0s - loss: 0.1568 - mean_absolute_error: 0.314 - ETA: 0s - loss: 0.1530 - mean_absolute_error: 0.309 - ETA: 0s - loss: 0.1522 - mean_absolute_error: 0.308 - ETA: 0s - loss: 0.1518 - mean_absolute_error: 0.307 - ETA: 0s - loss: 0.1526 - mean_absolute_error: 0.308 - 1s 2ms/step - loss: 0.1518 - mean_absolute_error: 0.3076\n",
      "Epoch 259/500\n"
     ]
    },
    {
     "name": "stdout",
     "output_type": "stream",
     "text": [
      "500/500 [==============================] - ETA: 1s - loss: 0.0131 - mean_absolute_error: 0.114 - ETA: 1s - loss: 0.1548 - mean_absolute_error: 0.316 - ETA: 1s - loss: 0.1296 - mean_absolute_error: 0.292 - ETA: 1s - loss: 0.1384 - mean_absolute_error: 0.309 - ETA: 1s - loss: 0.1411 - mean_absolute_error: 0.306 - ETA: 1s - loss: 0.1425 - mean_absolute_error: 0.308 - ETA: 1s - loss: 0.1536 - mean_absolute_error: 0.318 - ETA: 1s - loss: 0.1545 - mean_absolute_error: 0.316 - ETA: 0s - loss: 0.1509 - mean_absolute_error: 0.313 - ETA: 0s - loss: 0.1574 - mean_absolute_error: 0.321 - ETA: 0s - loss: 0.1556 - mean_absolute_error: 0.315 - ETA: 0s - loss: 0.1556 - mean_absolute_error: 0.314 - ETA: 0s - loss: 0.1537 - mean_absolute_error: 0.312 - ETA: 0s - loss: 0.1497 - mean_absolute_error: 0.309 - ETA: 0s - loss: 0.1558 - mean_absolute_error: 0.312 - ETA: 0s - loss: 0.1553 - mean_absolute_error: 0.312 - ETA: 0s - loss: 0.1561 - mean_absolute_error: 0.312 - ETA: 0s - loss: 0.1550 - mean_absolute_error: 0.311 - ETA: 0s - loss: 0.1546 - mean_absolute_error: 0.311 - ETA: 0s - loss: 0.1489 - mean_absolute_error: 0.305 - ETA: 0s - loss: 0.1497 - mean_absolute_error: 0.305 - ETA: 0s - loss: 0.1494 - mean_absolute_error: 0.304 - ETA: 0s - loss: 0.1498 - mean_absolute_error: 0.306 - 1s 2ms/step - loss: 0.1492 - mean_absolute_error: 0.3051\n",
      "Epoch 260/500\n",
      "500/500 [==============================] - ETA: 2s - loss: 0.1408 - mean_absolute_error: 0.375 - ETA: 0s - loss: 0.0955 - mean_absolute_error: 0.245 - ETA: 0s - loss: 0.1047 - mean_absolute_error: 0.248 - ETA: 0s - loss: 0.1479 - mean_absolute_error: 0.295 - ETA: 0s - loss: 0.1617 - mean_absolute_error: 0.318 - ETA: 0s - loss: 0.1563 - mean_absolute_error: 0.312 - ETA: 0s - loss: 0.1546 - mean_absolute_error: 0.311 - ETA: 0s - loss: 0.1526 - mean_absolute_error: 0.311 - ETA: 0s - loss: 0.1581 - mean_absolute_error: 0.317 - ETA: 0s - loss: 0.1600 - mean_absolute_error: 0.322 - ETA: 0s - loss: 0.1554 - mean_absolute_error: 0.318 - ETA: 0s - loss: 0.1593 - mean_absolute_error: 0.321 - ETA: 0s - loss: 0.1585 - mean_absolute_error: 0.320 - ETA: 0s - loss: 0.1549 - mean_absolute_error: 0.317 - ETA: 0s - loss: 0.1508 - mean_absolute_error: 0.310 - 1s 1ms/step - loss: 0.1512 - mean_absolute_error: 0.3104\n",
      "Epoch 261/500\n",
      "500/500 [==============================] - ETA: 0s - loss: 0.1519 - mean_absolute_error: 0.389 - ETA: 0s - loss: 0.1603 - mean_absolute_error: 0.324 - ETA: 0s - loss: 0.1386 - mean_absolute_error: 0.286 - ETA: 0s - loss: 0.1448 - mean_absolute_error: 0.298 - ETA: 0s - loss: 0.1444 - mean_absolute_error: 0.294 - ETA: 0s - loss: 0.1428 - mean_absolute_error: 0.296 - ETA: 0s - loss: 0.1444 - mean_absolute_error: 0.300 - ETA: 0s - loss: 0.1425 - mean_absolute_error: 0.297 - ETA: 0s - loss: 0.1461 - mean_absolute_error: 0.304 - ETA: 0s - loss: 0.1513 - mean_absolute_error: 0.310 - ETA: 0s - loss: 0.1498 - mean_absolute_error: 0.308 - 1s 1ms/step - loss: 0.1514 - mean_absolute_error: 0.3119\n",
      "Epoch 262/500\n",
      "500/500 [==============================] - ETA: 0s - loss: 0.0393 - mean_absolute_error: 0.198 - ETA: 0s - loss: 0.1305 - mean_absolute_error: 0.276 - ETA: 0s - loss: 0.1264 - mean_absolute_error: 0.276 - ETA: 0s - loss: 0.1220 - mean_absolute_error: 0.273 - ETA: 0s - loss: 0.1391 - mean_absolute_error: 0.288 - ETA: 0s - loss: 0.1408 - mean_absolute_error: 0.292 - ETA: 0s - loss: 0.1465 - mean_absolute_error: 0.298 - ETA: 0s - loss: 0.1439 - mean_absolute_error: 0.295 - ETA: 0s - loss: 0.1429 - mean_absolute_error: 0.297 - ETA: 0s - loss: 0.1503 - mean_absolute_error: 0.306 - 0s 932us/step - loss: 0.1498 - mean_absolute_error: 0.3061\n",
      "Epoch 263/500\n",
      "500/500 [==============================] - ETA: 0s - loss: 0.2536 - mean_absolute_error: 0.503 - ETA: 0s - loss: 0.1685 - mean_absolute_error: 0.320 - ETA: 0s - loss: 0.1597 - mean_absolute_error: 0.320 - ETA: 0s - loss: 0.1671 - mean_absolute_error: 0.326 - ETA: 0s - loss: 0.1606 - mean_absolute_error: 0.318 - ETA: 0s - loss: 0.1544 - mean_absolute_error: 0.314 - ETA: 0s - loss: 0.1542 - mean_absolute_error: 0.310 - ETA: 0s - loss: 0.1525 - mean_absolute_error: 0.309 - ETA: 0s - loss: 0.1549 - mean_absolute_error: 0.311 - 0s 881us/step - loss: 0.1528 - mean_absolute_error: 0.3094\n",
      "Epoch 264/500\n",
      "500/500 [==============================] - ETA: 0s - loss: 0.7233 - mean_absolute_error: 0.850 - ETA: 0s - loss: 0.1405 - mean_absolute_error: 0.298 - ETA: 0s - loss: 0.1423 - mean_absolute_error: 0.307 - ETA: 0s - loss: 0.1489 - mean_absolute_error: 0.310 - ETA: 0s - loss: 0.1495 - mean_absolute_error: 0.308 - ETA: 0s - loss: 0.1489 - mean_absolute_error: 0.309 - ETA: 0s - loss: 0.1462 - mean_absolute_error: 0.304 - ETA: 0s - loss: 0.1479 - mean_absolute_error: 0.307 - ETA: 0s - loss: 0.1518 - mean_absolute_error: 0.312 - ETA: 0s - loss: 0.1535 - mean_absolute_error: 0.316 - ETA: 0s - loss: 0.1454 - mean_absolute_error: 0.306 - ETA: 0s - loss: 0.1541 - mean_absolute_error: 0.315 - ETA: 0s - loss: 0.1549 - mean_absolute_error: 0.314 - ETA: 0s - loss: 0.1529 - mean_absolute_error: 0.312 - ETA: 0s - loss: 0.1540 - mean_absolute_error: 0.313 - ETA: 0s - loss: 0.1550 - mean_absolute_error: 0.313 - 1s 2ms/step - loss: 0.1516 - mean_absolute_error: 0.3098\n",
      "Epoch 265/500\n",
      "500/500 [==============================] - ETA: 1s - loss: 0.3526 - mean_absolute_error: 0.593 - ETA: 0s - loss: 0.1989 - mean_absolute_error: 0.336 - ETA: 0s - loss: 0.1529 - mean_absolute_error: 0.298 - ETA: 0s - loss: 0.1515 - mean_absolute_error: 0.295 - ETA: 0s - loss: 0.1539 - mean_absolute_error: 0.304 - ETA: 0s - loss: 0.1518 - mean_absolute_error: 0.300 - ETA: 0s - loss: 0.1445 - mean_absolute_error: 0.292 - ETA: 0s - loss: 0.1477 - mean_absolute_error: 0.296 - ETA: 0s - loss: 0.1452 - mean_absolute_error: 0.295 - 0s 838us/step - loss: 0.1455 - mean_absolute_error: 0.2963\n",
      "Epoch 266/500\n",
      "500/500 [==============================] - ETA: 1s - loss: 0.0316 - mean_absolute_error: 0.177 - ETA: 0s - loss: 0.1336 - mean_absolute_error: 0.306 - ETA: 0s - loss: 0.1442 - mean_absolute_error: 0.302 - ETA: 0s - loss: 0.1432 - mean_absolute_error: 0.301 - ETA: 0s - loss: 0.1406 - mean_absolute_error: 0.297 - ETA: 0s - loss: 0.1408 - mean_absolute_error: 0.297 - ETA: 0s - loss: 0.1510 - mean_absolute_error: 0.305 - ETA: 0s - loss: 0.1507 - mean_absolute_error: 0.305 - 0s 737us/step - loss: 0.1507 - mean_absolute_error: 0.3054\n",
      "Epoch 267/500\n",
      "500/500 [==============================] - ETA: 1s - loss: 0.0010 - mean_absolute_error: 0.031 - ETA: 0s - loss: 0.1322 - mean_absolute_error: 0.291 - ETA: 0s - loss: 0.1497 - mean_absolute_error: 0.312 - ETA: 0s - loss: 0.1477 - mean_absolute_error: 0.310 - ETA: 0s - loss: 0.1566 - mean_absolute_error: 0.321 - ETA: 0s - loss: 0.1522 - mean_absolute_error: 0.314 - ETA: 0s - loss: 0.1493 - mean_absolute_error: 0.309 - 0s 692us/step - loss: 0.1479 - mean_absolute_error: 0.3076\n",
      "Epoch 268/500\n",
      "500/500 [==============================] - ETA: 0s - loss: 0.1084 - mean_absolute_error: 0.329 - ETA: 0s - loss: 0.1645 - mean_absolute_error: 0.334 - ETA: 0s - loss: 0.1617 - mean_absolute_error: 0.319 - ETA: 0s - loss: 0.1552 - mean_absolute_error: 0.314 - ETA: 0s - loss: 0.1529 - mean_absolute_error: 0.312 - ETA: 0s - loss: 0.1526 - mean_absolute_error: 0.311 - ETA: 0s - loss: 0.1492 - mean_absolute_error: 0.307 - 0s 706us/step - loss: 0.1514 - mean_absolute_error: 0.3089\n",
      "Epoch 269/500\n",
      "500/500 [==============================] - ETA: 0s - loss: 0.0843 - mean_absolute_error: 0.290 - ETA: 0s - loss: 0.2012 - mean_absolute_error: 0.358 - ETA: 0s - loss: 0.1530 - mean_absolute_error: 0.304 - ETA: 0s - loss: 0.1626 - mean_absolute_error: 0.314 - ETA: 0s - loss: 0.1619 - mean_absolute_error: 0.317 - ETA: 0s - loss: 0.1547 - mean_absolute_error: 0.308 - ETA: 0s - loss: 0.1486 - mean_absolute_error: 0.303 - ETA: 0s - loss: 0.1490 - mean_absolute_error: 0.305 - ETA: 0s - loss: 0.1467 - mean_absolute_error: 0.303 - ETA: 0s - loss: 0.1442 - mean_absolute_error: 0.304 - ETA: 0s - loss: 0.1458 - mean_absolute_error: 0.306 - ETA: 0s - loss: 0.1481 - mean_absolute_error: 0.308 - ETA: 0s - loss: 0.1518 - mean_absolute_error: 0.311 - ETA: 0s - loss: 0.1493 - mean_absolute_error: 0.308 - 1s 1ms/step - loss: 0.1481 - mean_absolute_error: 0.3075\n"
     ]
    },
    {
     "name": "stdout",
     "output_type": "stream",
     "text": [
      "Epoch 270/500\n",
      "500/500 [==============================] - ETA: 0s - loss: 0.0232 - mean_absolute_error: 0.152 - ETA: 0s - loss: 0.1317 - mean_absolute_error: 0.286 - ETA: 0s - loss: 0.1488 - mean_absolute_error: 0.312 - ETA: 0s - loss: 0.1548 - mean_absolute_error: 0.310 - ETA: 0s - loss: 0.1551 - mean_absolute_error: 0.309 - ETA: 0s - loss: 0.1479 - mean_absolute_error: 0.300 - ETA: 0s - loss: 0.1516 - mean_absolute_error: 0.305 - ETA: 0s - loss: 0.1478 - mean_absolute_error: 0.303 - 0s 759us/step - loss: 0.1452 - mean_absolute_error: 0.3005\n",
      "Epoch 271/500\n",
      "500/500 [==============================] - ETA: 1s - loss: 0.0020 - mean_absolute_error: 0.044 - ETA: 0s - loss: 0.1077 - mean_absolute_error: 0.262 - ETA: 0s - loss: 0.1366 - mean_absolute_error: 0.298 - ETA: 0s - loss: 0.1258 - mean_absolute_error: 0.284 - ETA: 0s - loss: 0.1219 - mean_absolute_error: 0.282 - ETA: 0s - loss: 0.1296 - mean_absolute_error: 0.287 - ETA: 0s - loss: 0.1461 - mean_absolute_error: 0.302 - ETA: 0s - loss: 0.1516 - mean_absolute_error: 0.305 - 0s 809us/step - loss: 0.1493 - mean_absolute_error: 0.3051\n",
      "Epoch 272/500\n",
      "500/500 [==============================] - ETA: 0s - loss: 0.0078 - mean_absolute_error: 0.088 - ETA: 0s - loss: 0.1108 - mean_absolute_error: 0.252 - ETA: 0s - loss: 0.1234 - mean_absolute_error: 0.270 - ETA: 0s - loss: 0.1268 - mean_absolute_error: 0.273 - ETA: 0s - loss: 0.1399 - mean_absolute_error: 0.290 - ETA: 0s - loss: 0.1455 - mean_absolute_error: 0.299 - ETA: 0s - loss: 0.1440 - mean_absolute_error: 0.300 - ETA: 0s - loss: 0.1466 - mean_absolute_error: 0.303 - 0s 746us/step - loss: 0.1453 - mean_absolute_error: 0.3014\n",
      "Epoch 273/500\n",
      "500/500 [==============================] - ETA: 1s - loss: 0.3322 - mean_absolute_error: 0.576 - ETA: 0s - loss: 0.1992 - mean_absolute_error: 0.362 - ETA: 0s - loss: 0.1761 - mean_absolute_error: 0.329 - ETA: 0s - loss: 0.1607 - mean_absolute_error: 0.317 - ETA: 0s - loss: 0.1585 - mean_absolute_error: 0.315 - ETA: 0s - loss: 0.1548 - mean_absolute_error: 0.312 - ETA: 0s - loss: 0.1482 - mean_absolute_error: 0.304 - 0s 677us/step - loss: 0.1538 - mean_absolute_error: 0.3110\n",
      "Epoch 274/500\n",
      "500/500 [==============================] - ETA: 0s - loss: 0.2055 - mean_absolute_error: 0.453 - ETA: 0s - loss: 0.1217 - mean_absolute_error: 0.274 - ETA: 0s - loss: 0.1343 - mean_absolute_error: 0.292 - ETA: 0s - loss: 0.1453 - mean_absolute_error: 0.300 - ETA: 0s - loss: 0.1400 - mean_absolute_error: 0.296 - ETA: 0s - loss: 0.1400 - mean_absolute_error: 0.295 - ETA: 0s - loss: 0.1401 - mean_absolute_error: 0.296 - 0s 643us/step - loss: 0.1435 - mean_absolute_error: 0.2998\n",
      "Epoch 275/500\n",
      "500/500 [==============================] - ETA: 0s - loss: 0.0246 - mean_absolute_error: 0.156 - ETA: 0s - loss: 0.1143 - mean_absolute_error: 0.282 - ETA: 0s - loss: 0.1291 - mean_absolute_error: 0.290 - ETA: 0s - loss: 0.1378 - mean_absolute_error: 0.300 - ETA: 0s - loss: 0.1433 - mean_absolute_error: 0.302 - ETA: 0s - loss: 0.1485 - mean_absolute_error: 0.308 - ETA: 0s - loss: 0.1469 - mean_absolute_error: 0.305 - ETA: 0s - loss: 0.1502 - mean_absolute_error: 0.304 - 0s 734us/step - loss: 0.1509 - mean_absolute_error: 0.3046\n",
      "Epoch 276/500\n",
      "500/500 [==============================] - ETA: 0s - loss: 0.1655 - mean_absolute_error: 0.406 - ETA: 0s - loss: 0.1651 - mean_absolute_error: 0.321 - ETA: 0s - loss: 0.1591 - mean_absolute_error: 0.317 - ETA: 0s - loss: 0.1538 - mean_absolute_error: 0.313 - ETA: 0s - loss: 0.1565 - mean_absolute_error: 0.312 - ETA: 0s - loss: 0.1454 - mean_absolute_error: 0.302 - ETA: 0s - loss: 0.1418 - mean_absolute_error: 0.299 - ETA: 0s - loss: 0.1469 - mean_absolute_error: 0.306 - 0s 810us/step - loss: 0.1438 - mean_absolute_error: 0.3012\n",
      "Epoch 277/500\n",
      "500/500 [==============================] - ETA: 0s - loss: 0.4434 - mean_absolute_error: 0.665 - ETA: 0s - loss: 0.1287 - mean_absolute_error: 0.275 - ETA: 0s - loss: 0.1133 - mean_absolute_error: 0.268 - ETA: 0s - loss: 0.1310 - mean_absolute_error: 0.290 - ETA: 0s - loss: 0.1349 - mean_absolute_error: 0.295 - ETA: 0s - loss: 0.1414 - mean_absolute_error: 0.302 - ETA: 0s - loss: 0.1410 - mean_absolute_error: 0.301 - ETA: 0s - loss: 0.1459 - mean_absolute_error: 0.308 - 0s 732us/step - loss: 0.1445 - mean_absolute_error: 0.3058\n",
      "Epoch 278/500\n",
      "500/500 [==============================] - ETA: 0s - loss: 3.1778e-04 - mean_absolute_error: 0.017 - ETA: 0s - loss: 0.1701 - mean_absolute_error: 0.3196    - ETA: 0s - loss: 0.1756 - mean_absolute_error: 0.336 - ETA: 0s - loss: 0.1670 - mean_absolute_error: 0.326 - ETA: 0s - loss: 0.1537 - mean_absolute_error: 0.309 - ETA: 0s - loss: 0.1539 - mean_absolute_error: 0.310 - ETA: 0s - loss: 0.1515 - mean_absolute_error: 0.309 - 0s 706us/step - loss: 0.1469 - mean_absolute_error: 0.3042\n",
      "Epoch 279/500\n",
      "500/500 [==============================] - ETA: 0s - loss: 0.4089 - mean_absolute_error: 0.639 - ETA: 0s - loss: 0.1327 - mean_absolute_error: 0.291 - ETA: 0s - loss: 0.1357 - mean_absolute_error: 0.292 - ETA: 0s - loss: 0.1263 - mean_absolute_error: 0.280 - ETA: 0s - loss: 0.1313 - mean_absolute_error: 0.289 - ETA: 0s - loss: 0.1407 - mean_absolute_error: 0.297 - ETA: 0s - loss: 0.1445 - mean_absolute_error: 0.301 - 0s 664us/step - loss: 0.1452 - mean_absolute_error: 0.3024\n",
      "Epoch 280/500\n",
      "500/500 [==============================] - ETA: 1s - loss: 0.0484 - mean_absolute_error: 0.220 - ETA: 0s - loss: 0.1589 - mean_absolute_error: 0.317 - ETA: 0s - loss: 0.1395 - mean_absolute_error: 0.295 - ETA: 0s - loss: 0.1427 - mean_absolute_error: 0.301 - ETA: 0s - loss: 0.1466 - mean_absolute_error: 0.305 - ETA: 0s - loss: 0.1487 - mean_absolute_error: 0.306 - ETA: 0s - loss: 0.1519 - mean_absolute_error: 0.311 - 0s 693us/step - loss: 0.1459 - mean_absolute_error: 0.3055\n",
      "Epoch 281/500\n",
      "500/500 [==============================] - ETA: 0s - loss: 7.3109e-05 - mean_absolute_error: 0.008 - ETA: 0s - loss: 0.1351 - mean_absolute_error: 0.2887    - ETA: 0s - loss: 0.1574 - mean_absolute_error: 0.311 - ETA: 0s - loss: 0.1523 - mean_absolute_error: 0.303 - ETA: 0s - loss: 0.1503 - mean_absolute_error: 0.302 - ETA: 0s - loss: 0.1420 - mean_absolute_error: 0.293 - ETA: 0s - loss: 0.1427 - mean_absolute_error: 0.296 - ETA: 0s - loss: 0.1385 - mean_absolute_error: 0.291 - 0s 764us/step - loss: 0.1398 - mean_absolute_error: 0.2927\n",
      "Epoch 282/500\n",
      "500/500 [==============================] - ETA: 0s - loss: 0.0631 - mean_absolute_error: 0.251 - ETA: 0s - loss: 0.1485 - mean_absolute_error: 0.297 - ETA: 0s - loss: 0.1458 - mean_absolute_error: 0.300 - ETA: 0s - loss: 0.1417 - mean_absolute_error: 0.295 - ETA: 0s - loss: 0.1308 - mean_absolute_error: 0.283 - ETA: 0s - loss: 0.1366 - mean_absolute_error: 0.287 - 0s 609us/step - loss: 0.1411 - mean_absolute_error: 0.2952\n",
      "Epoch 283/500\n",
      "500/500 [==============================] - ETA: 0s - loss: 9.6183e-04 - mean_absolute_error: 0.031 - ETA: 0s - loss: 0.1303 - mean_absolute_error: 0.2882    - ETA: 0s - loss: 0.1381 - mean_absolute_error: 0.284 - ETA: 0s - loss: 0.1392 - mean_absolute_error: 0.289 - ETA: 0s - loss: 0.1393 - mean_absolute_error: 0.289 - ETA: 0s - loss: 0.1403 - mean_absolute_error: 0.293 - ETA: 0s - loss: 0.1381 - mean_absolute_error: 0.290 - 0s 648us/step - loss: 0.1393 - mean_absolute_error: 0.2920\n",
      "Epoch 284/500\n",
      "500/500 [==============================] - ETA: 0s - loss: 0.2101 - mean_absolute_error: 0.458 - ETA: 0s - loss: 0.1410 - mean_absolute_error: 0.295 - ETA: 0s - loss: 0.1420 - mean_absolute_error: 0.308 - ETA: 0s - loss: 0.1373 - mean_absolute_error: 0.302 - ETA: 0s - loss: 0.1422 - mean_absolute_error: 0.304 - ETA: 0s - loss: 0.1451 - mean_absolute_error: 0.304 - 0s 598us/step - loss: 0.1428 - mean_absolute_error: 0.3017\n",
      "Epoch 285/500\n",
      "500/500 [==============================] - ETA: 0s - loss: 0.2975 - mean_absolute_error: 0.545 - ETA: 0s - loss: 0.1324 - mean_absolute_error: 0.287 - ETA: 0s - loss: 0.1143 - mean_absolute_error: 0.271 - ETA: 0s - loss: 0.1303 - mean_absolute_error: 0.291 - ETA: 0s - loss: 0.1277 - mean_absolute_error: 0.283 - ETA: 0s - loss: 0.1291 - mean_absolute_error: 0.285 - 0s 606us/step - loss: 0.1383 - mean_absolute_error: 0.2932\n",
      "Epoch 286/500\n",
      "500/500 [==============================] - ETA: 0s - loss: 0.0203 - mean_absolute_error: 0.142 - ETA: 0s - loss: 0.1396 - mean_absolute_error: 0.295 - ETA: 0s - loss: 0.1317 - mean_absolute_error: 0.291 - ETA: 0s - loss: 0.1274 - mean_absolute_error: 0.283 - ETA: 0s - loss: 0.1387 - mean_absolute_error: 0.294 - ETA: 0s - loss: 0.1386 - mean_absolute_error: 0.296 - ETA: 0s - loss: 0.1455 - mean_absolute_error: 0.302 - 0s 668us/step - loss: 0.1426 - mean_absolute_error: 0.3006\n",
      "Epoch 287/500\n",
      "500/500 [==============================] - ETA: 0s - loss: 0.0250 - mean_absolute_error: 0.158 - ETA: 0s - loss: 0.0999 - mean_absolute_error: 0.259 - ETA: 0s - loss: 0.1422 - mean_absolute_error: 0.300 - ETA: 0s - loss: 0.1402 - mean_absolute_error: 0.299 - ETA: 0s - loss: 0.1455 - mean_absolute_error: 0.302 - ETA: 0s - loss: 0.1511 - mean_absolute_error: 0.308 - ETA: 0s - loss: 0.1455 - mean_absolute_error: 0.303 - 0s 646us/step - loss: 0.1441 - mean_absolute_error: 0.3014\n",
      "Epoch 288/500\n",
      "500/500 [==============================] - ETA: 0s - loss: 0.0074 - mean_absolute_error: 0.085 - ETA: 0s - loss: 0.0945 - mean_absolute_error: 0.240 - ETA: 0s - loss: 0.1181 - mean_absolute_error: 0.275 - ETA: 0s - loss: 0.1223 - mean_absolute_error: 0.281 - ETA: 0s - loss: 0.1300 - mean_absolute_error: 0.290 - ETA: 0s - loss: 0.1467 - mean_absolute_error: 0.308 - ETA: 0s - loss: 0.1419 - mean_absolute_error: 0.302 - 0s 666us/step - loss: 0.1433 - mean_absolute_error: 0.3028\n",
      "Epoch 289/500\n",
      "500/500 [==============================] - ETA: 0s - loss: 0.0077 - mean_absolute_error: 0.087 - ETA: 0s - loss: 0.1227 - mean_absolute_error: 0.287 - ETA: 0s - loss: 0.1417 - mean_absolute_error: 0.308 - ETA: 0s - loss: 0.1452 - mean_absolute_error: 0.307 - ETA: 0s - loss: 0.1422 - mean_absolute_error: 0.304 - ETA: 0s - loss: 0.1425 - mean_absolute_error: 0.302 - ETA: 0s - loss: 0.1368 - mean_absolute_error: 0.294 - 0s 645us/step - loss: 0.1391 - mean_absolute_error: 0.2963\n",
      "Epoch 290/500\n",
      "500/500 [==============================] - ETA: 0s - loss: 0.0138 - mean_absolute_error: 0.117 - ETA: 0s - loss: 0.1680 - mean_absolute_error: 0.326 - ETA: 0s - loss: 0.1461 - mean_absolute_error: 0.302 - ETA: 0s - loss: 0.1420 - mean_absolute_error: 0.302 - ETA: 0s - loss: 0.1418 - mean_absolute_error: 0.299 - ETA: 0s - loss: 0.1504 - mean_absolute_error: 0.306 - ETA: 0s - loss: 0.1459 - mean_absolute_error: 0.303 - 0s 668us/step - loss: 0.1430 - mean_absolute_error: 0.2999\n",
      "Epoch 291/500\n",
      "500/500 [==============================] - ETA: 0s - loss: 0.0965 - mean_absolute_error: 0.310 - ETA: 0s - loss: 0.1585 - mean_absolute_error: 0.313 - ETA: 0s - loss: 0.1590 - mean_absolute_error: 0.314 - ETA: 0s - loss: 0.1437 - mean_absolute_error: 0.298 - ETA: 0s - loss: 0.1418 - mean_absolute_error: 0.293 - ETA: 0s - loss: 0.1404 - mean_absolute_error: 0.294 - ETA: 0s - loss: 0.1381 - mean_absolute_error: 0.289 - 0s 647us/step - loss: 0.1381 - mean_absolute_error: 0.2902\n",
      "Epoch 292/500\n",
      "500/500 [==============================] - ETA: 0s - loss: 0.1390 - mean_absolute_error: 0.372 - ETA: 0s - loss: 0.1234 - mean_absolute_error: 0.275 - ETA: 0s - loss: 0.1332 - mean_absolute_error: 0.287 - ETA: 0s - loss: 0.1284 - mean_absolute_error: 0.286 - ETA: 0s - loss: 0.1246 - mean_absolute_error: 0.281 - ETA: 0s - loss: 0.1297 - mean_absolute_error: 0.284 - ETA: 0s - loss: 0.1399 - mean_absolute_error: 0.295 - 0s 688us/step - loss: 0.1430 - mean_absolute_error: 0.3000\n",
      "Epoch 293/500\n",
      "500/500 [==============================] - ETA: 0s - loss: 2.4100e-08 - mean_absolute_error: 1.5524e-0 - ETA: 0s - loss: 0.0738 - mean_absolute_error: 0.2091        - ETA: 0s - loss: 0.1124 - mean_absolute_error: 0.256 - ETA: 0s - loss: 0.1163 - mean_absolute_error: 0.259 - ETA: 0s - loss: 0.1232 - mean_absolute_error: 0.269 - ETA: 0s - loss: 0.1265 - mean_absolute_error: 0.273 - ETA: 0s - loss: 0.1304 - mean_absolute_error: 0.277 - ETA: 0s - loss: 0.1337 - mean_absolute_error: 0.281 - 0s 795us/step - loss: 0.1343 - mean_absolute_error: 0.2827\n",
      "Epoch 294/500\n",
      "500/500 [==============================] - ETA: 0s - loss: 0.1359 - mean_absolute_error: 0.368 - ETA: 0s - loss: 0.1341 - mean_absolute_error: 0.295 - ETA: 0s - loss: 0.1339 - mean_absolute_error: 0.293 - ETA: 0s - loss: 0.1325 - mean_absolute_error: 0.291 - ETA: 0s - loss: 0.1423 - mean_absolute_error: 0.298 - ETA: 0s - loss: 0.1350 - mean_absolute_error: 0.288 - ETA: 0s - loss: 0.1434 - mean_absolute_error: 0.297 - 0s 640us/step - loss: 0.1432 - mean_absolute_error: 0.2981\n",
      "Epoch 295/500\n",
      "500/500 [==============================] - ETA: 0s - loss: 0.0176 - mean_absolute_error: 0.132 - ETA: 0s - loss: 0.1412 - mean_absolute_error: 0.299 - ETA: 0s - loss: 0.1638 - mean_absolute_error: 0.322 - ETA: 0s - loss: 0.1493 - mean_absolute_error: 0.305 - ETA: 0s - loss: 0.1520 - mean_absolute_error: 0.308 - ETA: 0s - loss: 0.1519 - mean_absolute_error: 0.305 - ETA: 0s - loss: 0.1404 - mean_absolute_error: 0.294 - 0s 637us/step - loss: 0.1391 - mean_absolute_error: 0.2928\n",
      "Epoch 296/500\n",
      "500/500 [==============================] - ETA: 1s - loss: 0.2141 - mean_absolute_error: 0.462 - ETA: 0s - loss: 0.1038 - mean_absolute_error: 0.259 - ETA: 0s - loss: 0.1263 - mean_absolute_error: 0.280 - ETA: 0s - loss: 0.1324 - mean_absolute_error: 0.289 - ETA: 0s - loss: 0.1346 - mean_absolute_error: 0.290 - ETA: 0s - loss: 0.1421 - mean_absolute_error: 0.301 - ETA: 0s - loss: 0.1376 - mean_absolute_error: 0.293 - 0s 680us/step - loss: 0.1360 - mean_absolute_error: 0.2921\n",
      "Epoch 297/500\n",
      "500/500 [==============================] - ETA: 0s - loss: 0.0023 - mean_absolute_error: 0.047 - ETA: 0s - loss: 0.1419 - mean_absolute_error: 0.286 - ETA: 0s - loss: 0.1391 - mean_absolute_error: 0.286 - ETA: 0s - loss: 0.1225 - mean_absolute_error: 0.271 - ETA: 0s - loss: 0.1254 - mean_absolute_error: 0.273 - ETA: 0s - loss: 0.1361 - mean_absolute_error: 0.287 - ETA: 0s - loss: 0.1362 - mean_absolute_error: 0.287 - ETA: 0s - loss: 0.1358 - mean_absolute_error: 0.286 - 0s 763us/step - loss: 0.1360 - mean_absolute_error: 0.2862\n",
      "Epoch 298/500\n",
      "500/500 [==============================] - ETA: 1s - loss: 0.0016 - mean_absolute_error: 0.040 - ETA: 0s - loss: 0.1632 - mean_absolute_error: 0.336 - ETA: 0s - loss: 0.1398 - mean_absolute_error: 0.305 - ETA: 0s - loss: 0.1379 - mean_absolute_error: 0.299 - ETA: 0s - loss: 0.1428 - mean_absolute_error: 0.301 - ETA: 0s - loss: 0.1438 - mean_absolute_error: 0.303 - ETA: 0s - loss: 0.1421 - mean_absolute_error: 0.297 - ETA: 0s - loss: 0.1405 - mean_absolute_error: 0.296 - 0s 786us/step - loss: 0.1391 - mean_absolute_error: 0.2939\n",
      "Epoch 299/500\n",
      "500/500 [==============================] - ETA: 0s - loss: 0.0015 - mean_absolute_error: 0.038 - ETA: 0s - loss: 0.1387 - mean_absolute_error: 0.309 - ETA: 0s - loss: 0.1603 - mean_absolute_error: 0.324 - ETA: 0s - loss: 0.1457 - mean_absolute_error: 0.303 - ETA: 0s - loss: 0.1373 - mean_absolute_error: 0.293 - ETA: 0s - loss: 0.1415 - mean_absolute_error: 0.300 - ETA: 0s - loss: 0.1433 - mean_absolute_error: 0.301 - 0s 658us/step - loss: 0.1417 - mean_absolute_error: 0.2993\n",
      "Epoch 300/500\n",
      "500/500 [==============================] - ETA: 0s - loss: 0.0305 - mean_absolute_error: 0.174 - ETA: 0s - loss: 0.1394 - mean_absolute_error: 0.294 - ETA: 0s - loss: 0.1243 - mean_absolute_error: 0.268 - ETA: 0s - loss: 0.1262 - mean_absolute_error: 0.268 - ETA: 0s - loss: 0.1269 - mean_absolute_error: 0.271 - ETA: 0s - loss: 0.1356 - mean_absolute_error: 0.283 - ETA: 0s - loss: 0.1355 - mean_absolute_error: 0.285 - 0s 619us/step - loss: 0.1352 - mean_absolute_error: 0.2854\n",
      "Epoch 301/500\n",
      "500/500 [==============================] - ETA: 0s - loss: 0.0459 - mean_absolute_error: 0.214 - ETA: 0s - loss: 0.1394 - mean_absolute_error: 0.302 - ETA: 0s - loss: 0.1379 - mean_absolute_error: 0.298 - ETA: 0s - loss: 0.1375 - mean_absolute_error: 0.294 - ETA: 0s - loss: 0.1445 - mean_absolute_error: 0.305 - ETA: 0s - loss: 0.1454 - mean_absolute_error: 0.303 - 0s 607us/step - loss: 0.1399 - mean_absolute_error: 0.2975\n",
      "Epoch 302/500\n"
     ]
    },
    {
     "name": "stdout",
     "output_type": "stream",
     "text": [
      "500/500 [==============================] - ETA: 0s - loss: 2.2649e-04 - mean_absolute_error: 0.015 - ETA: 0s - loss: 0.1261 - mean_absolute_error: 0.2760    - ETA: 0s - loss: 0.1257 - mean_absolute_error: 0.275 - ETA: 0s - loss: 0.1423 - mean_absolute_error: 0.295 - ETA: 0s - loss: 0.1449 - mean_absolute_error: 0.299 - ETA: 0s - loss: 0.1443 - mean_absolute_error: 0.300 - 0s 596us/step - loss: 0.1369 - mean_absolute_error: 0.2926\n",
      "Epoch 303/500\n",
      "500/500 [==============================] - ETA: 1s - loss: 0.0047 - mean_absolute_error: 0.068 - ETA: 0s - loss: 0.1503 - mean_absolute_error: 0.310 - ETA: 0s - loss: 0.1261 - mean_absolute_error: 0.288 - ETA: 0s - loss: 0.1307 - mean_absolute_error: 0.288 - ETA: 0s - loss: 0.1226 - mean_absolute_error: 0.277 - ETA: 0s - loss: 0.1257 - mean_absolute_error: 0.281 - 0s 606us/step - loss: 0.1298 - mean_absolute_error: 0.2856\n",
      "Epoch 304/500\n",
      "500/500 [==============================] - ETA: 0s - loss: 0.0384 - mean_absolute_error: 0.196 - ETA: 0s - loss: 0.1587 - mean_absolute_error: 0.303 - ETA: 0s - loss: 0.1407 - mean_absolute_error: 0.292 - ETA: 0s - loss: 0.1357 - mean_absolute_error: 0.290 - ETA: 0s - loss: 0.1330 - mean_absolute_error: 0.289 - ETA: 0s - loss: 0.1285 - mean_absolute_error: 0.284 - ETA: 0s - loss: 0.1342 - mean_absolute_error: 0.293 - 0s 684us/step - loss: 0.1384 - mean_absolute_error: 0.2979\n",
      "Epoch 305/500\n",
      "500/500 [==============================] - ETA: 1s - loss: 9.9719e-04 - mean_absolute_error: 0.031 - ETA: 0s - loss: 0.0812 - mean_absolute_error: 0.2233    - ETA: 0s - loss: 0.0867 - mean_absolute_error: 0.230 - ETA: 0s - loss: 0.1065 - mean_absolute_error: 0.261 - ETA: 0s - loss: 0.1182 - mean_absolute_error: 0.274 - ETA: 0s - loss: 0.1145 - mean_absolute_error: 0.270 - ETA: 0s - loss: 0.1213 - mean_absolute_error: 0.275 - 0s 709us/step - loss: 0.1282 - mean_absolute_error: 0.2856\n",
      "Epoch 306/500\n",
      "500/500 [==============================] - ETA: 0s - loss: 0.0417 - mean_absolute_error: 0.204 - ETA: 0s - loss: 0.1352 - mean_absolute_error: 0.304 - ETA: 0s - loss: 0.1199 - mean_absolute_error: 0.284 - ETA: 0s - loss: 0.1282 - mean_absolute_error: 0.294 - ETA: 0s - loss: 0.1279 - mean_absolute_error: 0.290 - ETA: 0s - loss: 0.1397 - mean_absolute_error: 0.296 - ETA: 0s - loss: 0.1374 - mean_absolute_error: 0.292 - ETA: 0s - loss: 0.1379 - mean_absolute_error: 0.295 - 0s 831us/step - loss: 0.1364 - mean_absolute_error: 0.2938\n",
      "Epoch 307/500\n",
      "500/500 [==============================] - ETA: 0s - loss: 5.5447e-04 - mean_absolute_error: 0.023 - ETA: 0s - loss: 0.0789 - mean_absolute_error: 0.2185    - ETA: 0s - loss: 0.1111 - mean_absolute_error: 0.257 - ETA: 0s - loss: 0.1383 - mean_absolute_error: 0.288 - ETA: 0s - loss: 0.1299 - mean_absolute_error: 0.281 - ETA: 0s - loss: 0.1279 - mean_absolute_error: 0.276 - ETA: 0s - loss: 0.1325 - mean_absolute_error: 0.282 - ETA: 0s - loss: 0.1340 - mean_absolute_error: 0.284 - ETA: 0s - loss: 0.1332 - mean_absolute_error: 0.284 - ETA: 0s - loss: 0.1266 - mean_absolute_error: 0.277 - 0s 973us/step - loss: 0.1310 - mean_absolute_error: 0.2815\n",
      "Epoch 308/500\n",
      "500/500 [==============================] - ETA: 2s - loss: 0.2633 - mean_absolute_error: 0.513 - ETA: 0s - loss: 0.1138 - mean_absolute_error: 0.281 - ETA: 0s - loss: 0.1334 - mean_absolute_error: 0.298 - ETA: 0s - loss: 0.1416 - mean_absolute_error: 0.305 - ETA: 0s - loss: 0.1340 - mean_absolute_error: 0.291 - ETA: 0s - loss: 0.1335 - mean_absolute_error: 0.288 - ETA: 0s - loss: 0.1263 - mean_absolute_error: 0.282 - ETA: 0s - loss: 0.1349 - mean_absolute_error: 0.291 - ETA: 0s - loss: 0.1270 - mean_absolute_error: 0.282 - ETA: 0s - loss: 0.1304 - mean_absolute_error: 0.285 - ETA: 0s - loss: 0.1334 - mean_absolute_error: 0.290 - ETA: 0s - loss: 0.1344 - mean_absolute_error: 0.289 - 1s 1ms/step - loss: 0.1328 - mean_absolute_error: 0.2884\n",
      "Epoch 309/500\n",
      "500/500 [==============================] - ETA: 0s - loss: 0.2525 - mean_absolute_error: 0.502 - ETA: 0s - loss: 0.1531 - mean_absolute_error: 0.329 - ETA: 0s - loss: 0.1339 - mean_absolute_error: 0.313 - ETA: 0s - loss: 0.1378 - mean_absolute_error: 0.305 - ETA: 0s - loss: 0.1368 - mean_absolute_error: 0.296 - ETA: 0s - loss: 0.1459 - mean_absolute_error: 0.303 - ETA: 0s - loss: 0.1490 - mean_absolute_error: 0.305 - ETA: 0s - loss: 0.1392 - mean_absolute_error: 0.293 - ETA: 0s - loss: 0.1346 - mean_absolute_error: 0.289 - ETA: 0s - loss: 0.1350 - mean_absolute_error: 0.290 - 1s 1ms/step - loss: 0.1378 - mean_absolute_error: 0.2937\n",
      "Epoch 310/500\n",
      "500/500 [==============================] - ETA: 1s - loss: 0.2702 - mean_absolute_error: 0.519 - ETA: 0s - loss: 0.1553 - mean_absolute_error: 0.327 - ETA: 0s - loss: 0.1629 - mean_absolute_error: 0.328 - ETA: 0s - loss: 0.1460 - mean_absolute_error: 0.310 - ETA: 0s - loss: 0.1325 - mean_absolute_error: 0.294 - ETA: 0s - loss: 0.1365 - mean_absolute_error: 0.297 - ETA: 0s - loss: 0.1392 - mean_absolute_error: 0.299 - ETA: 0s - loss: 0.1332 - mean_absolute_error: 0.291 - ETA: 0s - loss: 0.1383 - mean_absolute_error: 0.297 - ETA: 0s - loss: 0.1380 - mean_absolute_error: 0.295 - ETA: 0s - loss: 0.1370 - mean_absolute_error: 0.293 - ETA: 0s - loss: 0.1312 - mean_absolute_error: 0.286 - 1s 1ms/step - loss: 0.1309 - mean_absolute_error: 0.2860\n",
      "Epoch 311/500\n",
      "500/500 [==============================] - ETA: 0s - loss: 0.0402 - mean_absolute_error: 0.200 - ETA: 0s - loss: 0.1408 - mean_absolute_error: 0.293 - ETA: 0s - loss: 0.1311 - mean_absolute_error: 0.285 - ETA: 0s - loss: 0.1375 - mean_absolute_error: 0.292 - ETA: 0s - loss: 0.1392 - mean_absolute_error: 0.295 - ETA: 0s - loss: 0.1356 - mean_absolute_error: 0.290 - ETA: 0s - loss: 0.1351 - mean_absolute_error: 0.290 - ETA: 0s - loss: 0.1365 - mean_absolute_error: 0.290 - ETA: 0s - loss: 0.1343 - mean_absolute_error: 0.289 - 0s 909us/step - loss: 0.1320 - mean_absolute_error: 0.2863\n",
      "Epoch 312/500\n",
      "500/500 [==============================] - ETA: 0s - loss: 0.0042 - mean_absolute_error: 0.064 - ETA: 0s - loss: 0.1784 - mean_absolute_error: 0.335 - ETA: 0s - loss: 0.1437 - mean_absolute_error: 0.294 - ETA: 0s - loss: 0.1430 - mean_absolute_error: 0.290 - ETA: 0s - loss: 0.1437 - mean_absolute_error: 0.293 - ETA: 0s - loss: 0.1410 - mean_absolute_error: 0.289 - ETA: 0s - loss: 0.1347 - mean_absolute_error: 0.287 - ETA: 0s - loss: 0.1330 - mean_absolute_error: 0.285 - ETA: 0s - loss: 0.1343 - mean_absolute_error: 0.288 - 0s 859us/step - loss: 0.1344 - mean_absolute_error: 0.2889\n",
      "Epoch 313/500\n",
      "500/500 [==============================] - ETA: 0s - loss: 0.1574 - mean_absolute_error: 0.396 - ETA: 0s - loss: 0.1081 - mean_absolute_error: 0.249 - ETA: 0s - loss: 0.1122 - mean_absolute_error: 0.267 - ETA: 0s - loss: 0.1226 - mean_absolute_error: 0.271 - ETA: 0s - loss: 0.1253 - mean_absolute_error: 0.279 - ETA: 0s - loss: 0.1347 - mean_absolute_error: 0.288 - ETA: 0s - loss: 0.1398 - mean_absolute_error: 0.296 - ETA: 0s - loss: 0.1369 - mean_absolute_error: 0.293 - ETA: 0s - loss: 0.1333 - mean_absolute_error: 0.288 - 0s 853us/step - loss: 0.1346 - mean_absolute_error: 0.2890\n",
      "Epoch 314/500\n",
      "500/500 [==============================] - ETA: 0s - loss: 0.4084 - mean_absolute_error: 0.639 - ETA: 0s - loss: 0.1036 - mean_absolute_error: 0.249 - ETA: 0s - loss: 0.1110 - mean_absolute_error: 0.254 - ETA: 0s - loss: 0.1214 - mean_absolute_error: 0.268 - ETA: 0s - loss: 0.1430 - mean_absolute_error: 0.288 - ETA: 0s - loss: 0.1460 - mean_absolute_error: 0.297 - ETA: 0s - loss: 0.1458 - mean_absolute_error: 0.299 - ETA: 0s - loss: 0.1424 - mean_absolute_error: 0.296 - ETA: 0s - loss: 0.1417 - mean_absolute_error: 0.295 - 0s 897us/step - loss: 0.1377 - mean_absolute_error: 0.2909\n",
      "Epoch 315/500\n",
      "500/500 [==============================] - ETA: 0s - loss: 0.0115 - mean_absolute_error: 0.107 - ETA: 0s - loss: 0.1199 - mean_absolute_error: 0.270 - ETA: 0s - loss: 0.1353 - mean_absolute_error: 0.281 - ETA: 0s - loss: 0.1302 - mean_absolute_error: 0.277 - ETA: 0s - loss: 0.1325 - mean_absolute_error: 0.281 - ETA: 0s - loss: 0.1268 - mean_absolute_error: 0.275 - ETA: 0s - loss: 0.1289 - mean_absolute_error: 0.281 - ETA: 0s - loss: 0.1254 - mean_absolute_error: 0.280 - ETA: 0s - loss: 0.1282 - mean_absolute_error: 0.281 - 0s 897us/step - loss: 0.1273 - mean_absolute_error: 0.2787\n",
      "Epoch 316/500\n",
      "500/500 [==============================] - ETA: 0s - loss: 0.0651 - mean_absolute_error: 0.255 - ETA: 0s - loss: 0.1215 - mean_absolute_error: 0.279 - ETA: 0s - loss: 0.1130 - mean_absolute_error: 0.264 - ETA: 0s - loss: 0.1044 - mean_absolute_error: 0.251 - ETA: 0s - loss: 0.1202 - mean_absolute_error: 0.265 - ETA: 0s - loss: 0.1320 - mean_absolute_error: 0.279 - ETA: 0s - loss: 0.1341 - mean_absolute_error: 0.281 - ETA: 0s - loss: 0.1338 - mean_absolute_error: 0.283 - ETA: 0s - loss: 0.1332 - mean_absolute_error: 0.283 - 0s 898us/step - loss: 0.1297 - mean_absolute_error: 0.2804\n",
      "Epoch 317/500\n",
      "500/500 [==============================] - ETA: 0s - loss: 0.0089 - mean_absolute_error: 0.094 - ETA: 0s - loss: 0.1018 - mean_absolute_error: 0.260 - ETA: 0s - loss: 0.1141 - mean_absolute_error: 0.276 - ETA: 0s - loss: 0.1195 - mean_absolute_error: 0.281 - ETA: 0s - loss: 0.1142 - mean_absolute_error: 0.273 - ETA: 0s - loss: 0.1138 - mean_absolute_error: 0.272 - ETA: 0s - loss: 0.1217 - mean_absolute_error: 0.281 - ETA: 0s - loss: 0.1229 - mean_absolute_error: 0.280 - ETA: 0s - loss: 0.1248 - mean_absolute_error: 0.282 - ETA: 0s - loss: 0.1330 - mean_absolute_error: 0.290 - 0s 948us/step - loss: 0.1317 - mean_absolute_error: 0.2890\n",
      "Epoch 318/500\n",
      "500/500 [==============================] - ETA: 0s - loss: 0.0423 - mean_absolute_error: 0.205 - ETA: 0s - loss: 0.0969 - mean_absolute_error: 0.252 - ETA: 0s - loss: 0.1228 - mean_absolute_error: 0.280 - ETA: 0s - loss: 0.1350 - mean_absolute_error: 0.298 - ETA: 0s - loss: 0.1356 - mean_absolute_error: 0.300 - ETA: 0s - loss: 0.1402 - mean_absolute_error: 0.302 - ETA: 0s - loss: 0.1362 - mean_absolute_error: 0.298 - ETA: 0s - loss: 0.1331 - mean_absolute_error: 0.292 - ETA: 0s - loss: 0.1307 - mean_absolute_error: 0.288 - 0s 900us/step - loss: 0.1317 - mean_absolute_error: 0.2878\n",
      "Epoch 319/500\n",
      "500/500 [==============================] - ETA: 2s - loss: 0.0300 - mean_absolute_error: 0.173 - ETA: 0s - loss: 0.1560 - mean_absolute_error: 0.328 - ETA: 0s - loss: 0.1342 - mean_absolute_error: 0.284 - ETA: 0s - loss: 0.1173 - mean_absolute_error: 0.266 - ETA: 0s - loss: 0.1247 - mean_absolute_error: 0.277 - ETA: 0s - loss: 0.1293 - mean_absolute_error: 0.283 - ETA: 0s - loss: 0.1326 - mean_absolute_error: 0.288 - ETA: 0s - loss: 0.1298 - mean_absolute_error: 0.286 - ETA: 0s - loss: 0.1286 - mean_absolute_error: 0.285 - ETA: 0s - loss: 0.1265 - mean_absolute_error: 0.284 - ETA: 0s - loss: 0.1299 - mean_absolute_error: 0.287 - 1s 1ms/step - loss: 0.1314 - mean_absolute_error: 0.2879\n",
      "Epoch 320/500\n",
      "500/500 [==============================] - ETA: 0s - loss: 0.0728 - mean_absolute_error: 0.269 - ETA: 0s - loss: 0.1072 - mean_absolute_error: 0.266 - ETA: 0s - loss: 0.1186 - mean_absolute_error: 0.274 - ETA: 0s - loss: 0.1391 - mean_absolute_error: 0.288 - ETA: 0s - loss: 0.1349 - mean_absolute_error: 0.287 - ETA: 0s - loss: 0.1356 - mean_absolute_error: 0.290 - ETA: 0s - loss: 0.1357 - mean_absolute_error: 0.290 - ETA: 0s - loss: 0.1327 - mean_absolute_error: 0.284 - ETA: 0s - loss: 0.1305 - mean_absolute_error: 0.281 - ETA: 0s - loss: 0.1301 - mean_absolute_error: 0.283 - ETA: 0s - loss: 0.1335 - mean_absolute_error: 0.286 - 1s 1ms/step - loss: 0.1320 - mean_absolute_error: 0.2851\n",
      "Epoch 321/500\n",
      "500/500 [==============================] - ETA: 0s - loss: 0.0118 - mean_absolute_error: 0.108 - ETA: 0s - loss: 0.1076 - mean_absolute_error: 0.250 - ETA: 0s - loss: 0.1182 - mean_absolute_error: 0.271 - ETA: 0s - loss: 0.1156 - mean_absolute_error: 0.268 - ETA: 0s - loss: 0.1189 - mean_absolute_error: 0.269 - ETA: 0s - loss: 0.1228 - mean_absolute_error: 0.277 - ETA: 0s - loss: 0.1261 - mean_absolute_error: 0.282 - ETA: 0s - loss: 0.1205 - mean_absolute_error: 0.276 - ETA: 0s - loss: 0.1211 - mean_absolute_error: 0.277 - ETA: 0s - loss: 0.1278 - mean_absolute_error: 0.285 - ETA: 0s - loss: 0.1292 - mean_absolute_error: 0.286 - 1s 1ms/step - loss: 0.1313 - mean_absolute_error: 0.2877\n",
      "Epoch 322/500\n",
      "500/500 [==============================] - ETA: 0s - loss: 0.0685 - mean_absolute_error: 0.261 - ETA: 0s - loss: 0.2001 - mean_absolute_error: 0.349 - ETA: 0s - loss: 0.1416 - mean_absolute_error: 0.293 - ETA: 0s - loss: 0.1298 - mean_absolute_error: 0.275 - ETA: 0s - loss: 0.1278 - mean_absolute_error: 0.275 - ETA: 0s - loss: 0.1309 - mean_absolute_error: 0.284 - ETA: 0s - loss: 0.1276 - mean_absolute_error: 0.278 - ETA: 0s - loss: 0.1354 - mean_absolute_error: 0.285 - ETA: 0s - loss: 0.1327 - mean_absolute_error: 0.283 - ETA: 0s - loss: 0.1322 - mean_absolute_error: 0.281 - ETA: 0s - loss: 0.1328 - mean_absolute_error: 0.284 - ETA: 0s - loss: 0.1331 - mean_absolute_error: 0.284 - 1s 1ms/step - loss: 0.1293 - mean_absolute_error: 0.2810\n",
      "Epoch 323/500\n",
      "500/500 [==============================] - ETA: 1s - loss: 0.0023 - mean_absolute_error: 0.047 - ETA: 0s - loss: 0.1001 - mean_absolute_error: 0.245 - ETA: 0s - loss: 0.1221 - mean_absolute_error: 0.273 - ETA: 0s - loss: 0.1156 - mean_absolute_error: 0.269 - ETA: 0s - loss: 0.1407 - mean_absolute_error: 0.294 - ETA: 0s - loss: 0.1359 - mean_absolute_error: 0.289 - ETA: 0s - loss: 0.1297 - mean_absolute_error: 0.284 - ETA: 0s - loss: 0.1256 - mean_absolute_error: 0.281 - ETA: 0s - loss: 0.1246 - mean_absolute_error: 0.280 - ETA: 0s - loss: 0.1285 - mean_absolute_error: 0.283 - ETA: 0s - loss: 0.1273 - mean_absolute_error: 0.280 - ETA: 0s - loss: 0.1255 - mean_absolute_error: 0.278 - ETA: 0s - loss: 0.1281 - mean_absolute_error: 0.280 - 1s 1ms/step - loss: 0.1310 - mean_absolute_error: 0.2840\n",
      "Epoch 324/500\n",
      "500/500 [==============================] - ETA: 2s - loss: 0.0911 - mean_absolute_error: 0.301 - ETA: 0s - loss: 0.1309 - mean_absolute_error: 0.278 - ETA: 0s - loss: 0.1206 - mean_absolute_error: 0.273 - ETA: 0s - loss: 0.1154 - mean_absolute_error: 0.265 - ETA: 0s - loss: 0.1284 - mean_absolute_error: 0.276 - ETA: 0s - loss: 0.1289 - mean_absolute_error: 0.279 - ETA: 0s - loss: 0.1358 - mean_absolute_error: 0.285 - ETA: 0s - loss: 0.1304 - mean_absolute_error: 0.280 - ETA: 0s - loss: 0.1310 - mean_absolute_error: 0.284 - 0s 878us/step - loss: 0.1304 - mean_absolute_error: 0.2839\n",
      "Epoch 325/500\n",
      "500/500 [==============================] - ETA: 0s - loss: 0.1951 - mean_absolute_error: 0.441 - ETA: 0s - loss: 0.1526 - mean_absolute_error: 0.330 - ETA: 0s - loss: 0.1490 - mean_absolute_error: 0.310 - ETA: 0s - loss: 0.1444 - mean_absolute_error: 0.301 - ETA: 0s - loss: 0.1347 - mean_absolute_error: 0.288 - ETA: 0s - loss: 0.1348 - mean_absolute_error: 0.286 - ETA: 0s - loss: 0.1255 - mean_absolute_error: 0.277 - ETA: 0s - loss: 0.1260 - mean_absolute_error: 0.279 - ETA: 0s - loss: 0.1247 - mean_absolute_error: 0.278 - 0s 867us/step - loss: 0.1259 - mean_absolute_error: 0.2811\n",
      "Epoch 326/500\n",
      "500/500 [==============================] - ETA: 1s - loss: 9.9118e-05 - mean_absolute_error: 0.010 - ETA: 0s - loss: 0.1478 - mean_absolute_error: 0.2984    - ETA: 0s - loss: 0.1386 - mean_absolute_error: 0.288 - ETA: 0s - loss: 0.1307 - mean_absolute_error: 0.288 - ETA: 0s - loss: 0.1321 - mean_absolute_error: 0.286 - ETA: 0s - loss: 0.1324 - mean_absolute_error: 0.287 - ETA: 0s - loss: 0.1304 - mean_absolute_error: 0.289 - ETA: 0s - loss: 0.1264 - mean_absolute_error: 0.286 - ETA: 0s - loss: 0.1259 - mean_absolute_error: 0.284 - 0s 868us/step - loss: 0.1261 - mean_absolute_error: 0.2839\n",
      "Epoch 327/500\n"
     ]
    },
    {
     "name": "stdout",
     "output_type": "stream",
     "text": [
      "500/500 [==============================] - ETA: 0s - loss: 0.2499 - mean_absolute_error: 0.499 - ETA: 0s - loss: 0.1515 - mean_absolute_error: 0.306 - ETA: 0s - loss: 0.1318 - mean_absolute_error: 0.289 - ETA: 0s - loss: 0.1299 - mean_absolute_error: 0.280 - ETA: 0s - loss: 0.1288 - mean_absolute_error: 0.279 - ETA: 0s - loss: 0.1325 - mean_absolute_error: 0.282 - ETA: 0s - loss: 0.1261 - mean_absolute_error: 0.277 - ETA: 0s - loss: 0.1292 - mean_absolute_error: 0.279 - ETA: 0s - loss: 0.1307 - mean_absolute_error: 0.279 - 0s 841us/step - loss: 0.1298 - mean_absolute_error: 0.2793\n",
      "Epoch 328/500\n",
      "500/500 [==============================] - ETA: 0s - loss: 0.0018 - mean_absolute_error: 0.043 - ETA: 0s - loss: 0.1490 - mean_absolute_error: 0.304 - ETA: 0s - loss: 0.1415 - mean_absolute_error: 0.295 - ETA: 0s - loss: 0.1476 - mean_absolute_error: 0.304 - ETA: 0s - loss: 0.1392 - mean_absolute_error: 0.291 - ETA: 0s - loss: 0.1421 - mean_absolute_error: 0.294 - ETA: 0s - loss: 0.1418 - mean_absolute_error: 0.294 - ETA: 0s - loss: 0.1393 - mean_absolute_error: 0.291 - ETA: 0s - loss: 0.1318 - mean_absolute_error: 0.283 - 0s 887us/step - loss: 0.1270 - mean_absolute_error: 0.2778\n",
      "Epoch 329/500\n",
      "500/500 [==============================] - ETA: 0s - loss: 0.1982 - mean_absolute_error: 0.445 - ETA: 0s - loss: 0.1102 - mean_absolute_error: 0.270 - ETA: 0s - loss: 0.1280 - mean_absolute_error: 0.295 - ETA: 0s - loss: 0.1434 - mean_absolute_error: 0.311 - ETA: 0s - loss: 0.1474 - mean_absolute_error: 0.313 - ETA: 0s - loss: 0.1430 - mean_absolute_error: 0.306 - ETA: 0s - loss: 0.1400 - mean_absolute_error: 0.301 - ETA: 0s - loss: 0.1306 - mean_absolute_error: 0.288 - ETA: 0s - loss: 0.1239 - mean_absolute_error: 0.279 - 0s 903us/step - loss: 0.1282 - mean_absolute_error: 0.2829\n",
      "Epoch 330/500\n",
      "500/500 [==============================] - ETA: 2s - loss: 0.0058 - mean_absolute_error: 0.076 - ETA: 0s - loss: 0.1424 - mean_absolute_error: 0.309 - ETA: 0s - loss: 0.1560 - mean_absolute_error: 0.317 - ETA: 0s - loss: 0.1540 - mean_absolute_error: 0.314 - ETA: 0s - loss: 0.1389 - mean_absolute_error: 0.298 - ETA: 0s - loss: 0.1327 - mean_absolute_error: 0.290 - ETA: 0s - loss: 0.1287 - mean_absolute_error: 0.284 - ETA: 0s - loss: 0.1270 - mean_absolute_error: 0.283 - ETA: 0s - loss: 0.1339 - mean_absolute_error: 0.290 - 0s 896us/step - loss: 0.1301 - mean_absolute_error: 0.2843\n",
      "Epoch 331/500\n",
      "500/500 [==============================] - ETA: 0s - loss: 0.0178 - mean_absolute_error: 0.133 - ETA: 0s - loss: 0.1315 - mean_absolute_error: 0.278 - ETA: 0s - loss: 0.1349 - mean_absolute_error: 0.287 - ETA: 0s - loss: 0.1306 - mean_absolute_error: 0.277 - ETA: 0s - loss: 0.1264 - mean_absolute_error: 0.274 - ETA: 0s - loss: 0.1174 - mean_absolute_error: 0.264 - ETA: 0s - loss: 0.1212 - mean_absolute_error: 0.270 - ETA: 0s - loss: 0.1256 - mean_absolute_error: 0.276 - ETA: 0s - loss: 0.1291 - mean_absolute_error: 0.281 - 0s 907us/step - loss: 0.1281 - mean_absolute_error: 0.2829\n",
      "Epoch 332/500\n",
      "500/500 [==============================] - ETA: 0s - loss: 0.0082 - mean_absolute_error: 0.090 - ETA: 0s - loss: 0.1189 - mean_absolute_error: 0.274 - ETA: 0s - loss: 0.1204 - mean_absolute_error: 0.276 - ETA: 0s - loss: 0.1318 - mean_absolute_error: 0.292 - ETA: 0s - loss: 0.1293 - mean_absolute_error: 0.286 - ETA: 0s - loss: 0.1360 - mean_absolute_error: 0.294 - ETA: 0s - loss: 0.1353 - mean_absolute_error: 0.292 - ETA: 0s - loss: 0.1310 - mean_absolute_error: 0.287 - ETA: 0s - loss: 0.1270 - mean_absolute_error: 0.284 - 0s 883us/step - loss: 0.1263 - mean_absolute_error: 0.2824\n",
      "Epoch 333/500\n",
      "500/500 [==============================] - ETA: 0s - loss: 0.4350 - mean_absolute_error: 0.659 - ETA: 0s - loss: 0.0781 - mean_absolute_error: 0.224 - ETA: 0s - loss: 0.1015 - mean_absolute_error: 0.251 - ETA: 0s - loss: 0.1206 - mean_absolute_error: 0.273 - ETA: 0s - loss: 0.1110 - mean_absolute_error: 0.257 - ETA: 0s - loss: 0.1162 - mean_absolute_error: 0.266 - ETA: 0s - loss: 0.1152 - mean_absolute_error: 0.264 - ETA: 0s - loss: 0.1221 - mean_absolute_error: 0.274 - ETA: 0s - loss: 0.1234 - mean_absolute_error: 0.279 - ETA: 0s - loss: 0.1212 - mean_absolute_error: 0.273 - ETA: 0s - loss: 0.1231 - mean_absolute_error: 0.275 - ETA: 0s - loss: 0.1216 - mean_absolute_error: 0.275 - ETA: 0s - loss: 0.1241 - mean_absolute_error: 0.278 - ETA: 0s - loss: 0.1253 - mean_absolute_error: 0.280 - 1s 1ms/step - loss: 0.1254 - mean_absolute_error: 0.2801\n",
      "Epoch 334/500\n",
      "500/500 [==============================] - ETA: 1s - loss: 0.0694 - mean_absolute_error: 0.263 - ETA: 0s - loss: 0.1346 - mean_absolute_error: 0.285 - ETA: 0s - loss: 0.1171 - mean_absolute_error: 0.268 - ETA: 0s - loss: 0.1347 - mean_absolute_error: 0.285 - ETA: 0s - loss: 0.1354 - mean_absolute_error: 0.286 - ETA: 0s - loss: 0.1335 - mean_absolute_error: 0.285 - ETA: 0s - loss: 0.1324 - mean_absolute_error: 0.284 - ETA: 0s - loss: 0.1276 - mean_absolute_error: 0.281 - ETA: 0s - loss: 0.1326 - mean_absolute_error: 0.284 - ETA: 0s - loss: 0.1291 - mean_absolute_error: 0.280 - ETA: 0s - loss: 0.1299 - mean_absolute_error: 0.279 - ETA: 0s - loss: 0.1276 - mean_absolute_error: 0.278 - 1s 1ms/step - loss: 0.1285 - mean_absolute_error: 0.2790\n",
      "Epoch 335/500\n",
      "500/500 [==============================] - ETA: 0s - loss: 0.2070 - mean_absolute_error: 0.455 - ETA: 0s - loss: 0.1449 - mean_absolute_error: 0.316 - ETA: 0s - loss: 0.1500 - mean_absolute_error: 0.314 - ETA: 0s - loss: 0.1523 - mean_absolute_error: 0.311 - ETA: 0s - loss: 0.1427 - mean_absolute_error: 0.300 - ETA: 0s - loss: 0.1356 - mean_absolute_error: 0.295 - ETA: 0s - loss: 0.1306 - mean_absolute_error: 0.288 - ETA: 0s - loss: 0.1273 - mean_absolute_error: 0.285 - ETA: 0s - loss: 0.1295 - mean_absolute_error: 0.284 - ETA: 0s - loss: 0.1303 - mean_absolute_error: 0.284 - 0s 954us/step - loss: 0.1283 - mean_absolute_error: 0.2809\n",
      "Epoch 336/500\n",
      "500/500 [==============================] - ETA: 0s - loss: 0.0122 - mean_absolute_error: 0.110 - ETA: 0s - loss: 0.1103 - mean_absolute_error: 0.264 - ETA: 0s - loss: 0.1150 - mean_absolute_error: 0.264 - ETA: 0s - loss: 0.1198 - mean_absolute_error: 0.267 - ETA: 0s - loss: 0.1283 - mean_absolute_error: 0.278 - ETA: 0s - loss: 0.1246 - mean_absolute_error: 0.275 - ETA: 0s - loss: 0.1316 - mean_absolute_error: 0.283 - ETA: 0s - loss: 0.1275 - mean_absolute_error: 0.278 - ETA: 0s - loss: 0.1233 - mean_absolute_error: 0.274 - ETA: 0s - loss: 0.1239 - mean_absolute_error: 0.275 - ETA: 0s - loss: 0.1246 - mean_absolute_error: 0.276 - 1s 1ms/step - loss: 0.1240 - mean_absolute_error: 0.2757\n",
      "Epoch 337/500\n",
      "500/500 [==============================] - ETA: 1s - loss: 0.0379 - mean_absolute_error: 0.194 - ETA: 0s - loss: 0.1230 - mean_absolute_error: 0.266 - ETA: 0s - loss: 0.1392 - mean_absolute_error: 0.287 - ETA: 0s - loss: 0.1316 - mean_absolute_error: 0.276 - ETA: 0s - loss: 0.1261 - mean_absolute_error: 0.272 - ETA: 0s - loss: 0.1233 - mean_absolute_error: 0.271 - ETA: 0s - loss: 0.1329 - mean_absolute_error: 0.281 - ETA: 0s - loss: 0.1319 - mean_absolute_error: 0.281 - ETA: 0s - loss: 0.1292 - mean_absolute_error: 0.277 - ETA: 0s - loss: 0.1312 - mean_absolute_error: 0.281 - 0s 949us/step - loss: 0.1306 - mean_absolute_error: 0.2800\n",
      "Epoch 338/500\n",
      "500/500 [==============================] - ETA: 0s - loss: 1.1512 - mean_absolute_error: 1.072 - ETA: 0s - loss: 0.1742 - mean_absolute_error: 0.333 - ETA: 0s - loss: 0.1304 - mean_absolute_error: 0.282 - ETA: 0s - loss: 0.1276 - mean_absolute_error: 0.284 - ETA: 0s - loss: 0.1263 - mean_absolute_error: 0.283 - ETA: 0s - loss: 0.1266 - mean_absolute_error: 0.282 - ETA: 0s - loss: 0.1375 - mean_absolute_error: 0.293 - ETA: 0s - loss: 0.1342 - mean_absolute_error: 0.289 - ETA: 0s - loss: 0.1281 - mean_absolute_error: 0.283 - 0s 885us/step - loss: 0.1277 - mean_absolute_error: 0.2827\n",
      "Epoch 339/500\n",
      "500/500 [==============================] - ETA: 0s - loss: 0.0844 - mean_absolute_error: 0.290 - ETA: 0s - loss: 0.1467 - mean_absolute_error: 0.295 - ETA: 0s - loss: 0.1463 - mean_absolute_error: 0.289 - ETA: 0s - loss: 0.1371 - mean_absolute_error: 0.287 - ETA: 0s - loss: 0.1275 - mean_absolute_error: 0.274 - ETA: 0s - loss: 0.1273 - mean_absolute_error: 0.278 - ETA: 0s - loss: 0.1308 - mean_absolute_error: 0.283 - ETA: 0s - loss: 0.1295 - mean_absolute_error: 0.281 - ETA: 0s - loss: 0.1299 - mean_absolute_error: 0.281 - 0s 867us/step - loss: 0.1287 - mean_absolute_error: 0.2803\n",
      "Epoch 340/500\n",
      "500/500 [==============================] - ETA: 1s - loss: 0.0649 - mean_absolute_error: 0.254 - ETA: 0s - loss: 0.1371 - mean_absolute_error: 0.294 - ETA: 0s - loss: 0.1156 - mean_absolute_error: 0.270 - ETA: 0s - loss: 0.0976 - mean_absolute_error: 0.247 - ETA: 0s - loss: 0.1109 - mean_absolute_error: 0.258 - ETA: 0s - loss: 0.1078 - mean_absolute_error: 0.257 - ETA: 0s - loss: 0.1092 - mean_absolute_error: 0.259 - ETA: 0s - loss: 0.1123 - mean_absolute_error: 0.262 - ETA: 0s - loss: 0.1199 - mean_absolute_error: 0.269 - ETA: 0s - loss: 0.1198 - mean_absolute_error: 0.270 - 0s 922us/step - loss: 0.1199 - mean_absolute_error: 0.2711\n",
      "Epoch 341/500\n",
      "500/500 [==============================] - ETA: 0s - loss: 0.0645 - mean_absolute_error: 0.254 - ETA: 0s - loss: 0.1367 - mean_absolute_error: 0.286 - ETA: 0s - loss: 0.1209 - mean_absolute_error: 0.271 - ETA: 0s - loss: 0.1357 - mean_absolute_error: 0.289 - ETA: 0s - loss: 0.1299 - mean_absolute_error: 0.282 - ETA: 0s - loss: 0.1276 - mean_absolute_error: 0.279 - ETA: 0s - loss: 0.1201 - mean_absolute_error: 0.270 - ETA: 0s - loss: 0.1194 - mean_absolute_error: 0.269 - ETA: 0s - loss: 0.1211 - mean_absolute_error: 0.271 - ETA: 0s - loss: 0.1225 - mean_absolute_error: 0.274 - ETA: 0s - loss: 0.1215 - mean_absolute_error: 0.273 - 1s 1ms/step - loss: 0.1214 - mean_absolute_error: 0.2726\n",
      "Epoch 342/500\n",
      "500/500 [==============================] - ETA: 0s - loss: 0.1041 - mean_absolute_error: 0.322 - ETA: 0s - loss: 0.1872 - mean_absolute_error: 0.349 - ETA: 0s - loss: 0.1467 - mean_absolute_error: 0.312 - ETA: 0s - loss: 0.1372 - mean_absolute_error: 0.302 - ETA: 0s - loss: 0.1343 - mean_absolute_error: 0.293 - ETA: 0s - loss: 0.1313 - mean_absolute_error: 0.291 - ETA: 0s - loss: 0.1287 - mean_absolute_error: 0.285 - ETA: 0s - loss: 0.1274 - mean_absolute_error: 0.280 - ETA: 0s - loss: 0.1251 - mean_absolute_error: 0.278 - 0s 865us/step - loss: 0.1233 - mean_absolute_error: 0.2771\n",
      "Epoch 343/500\n",
      "500/500 [==============================] - ETA: 0s - loss: 0.0081 - mean_absolute_error: 0.090 - ETA: 0s - loss: 0.1393 - mean_absolute_error: 0.280 - ETA: 0s - loss: 0.1364 - mean_absolute_error: 0.277 - ETA: 0s - loss: 0.1233 - mean_absolute_error: 0.261 - ETA: 0s - loss: 0.1308 - mean_absolute_error: 0.273 - ETA: 0s - loss: 0.1363 - mean_absolute_error: 0.283 - ETA: 0s - loss: 0.1397 - mean_absolute_error: 0.289 - ETA: 0s - loss: 0.1375 - mean_absolute_error: 0.291 - ETA: 0s - loss: 0.1373 - mean_absolute_error: 0.292 - ETA: 0s - loss: 0.1379 - mean_absolute_error: 0.293 - ETA: 0s - loss: 0.1326 - mean_absolute_error: 0.287 - 1s 1ms/step - loss: 0.1283 - mean_absolute_error: 0.2811\n",
      "Epoch 344/500\n",
      "500/500 [==============================] - ETA: 0s - loss: 0.0087 - mean_absolute_error: 0.093 - ETA: 0s - loss: 0.0705 - mean_absolute_error: 0.223 - ETA: 0s - loss: 0.1006 - mean_absolute_error: 0.248 - ETA: 0s - loss: 0.1009 - mean_absolute_error: 0.256 - ETA: 0s - loss: 0.1047 - mean_absolute_error: 0.259 - ETA: 0s - loss: 0.1204 - mean_absolute_error: 0.277 - ETA: 0s - loss: 0.1334 - mean_absolute_error: 0.291 - ETA: 0s - loss: 0.1363 - mean_absolute_error: 0.296 - ETA: 0s - loss: 0.1271 - mean_absolute_error: 0.283 - ETA: 0s - loss: 0.1274 - mean_absolute_error: 0.284 - 0s 966us/step - loss: 0.1265 - mean_absolute_error: 0.2832\n",
      "Epoch 345/500\n",
      "500/500 [==============================] - ETA: 0s - loss: 0.0295 - mean_absolute_error: 0.171 - ETA: 0s - loss: 0.1129 - mean_absolute_error: 0.264 - ETA: 0s - loss: 0.1182 - mean_absolute_error: 0.272 - ETA: 0s - loss: 0.1165 - mean_absolute_error: 0.276 - ETA: 0s - loss: 0.1334 - mean_absolute_error: 0.290 - ETA: 0s - loss: 0.1366 - mean_absolute_error: 0.292 - ETA: 0s - loss: 0.1296 - mean_absolute_error: 0.286 - ETA: 0s - loss: 0.1244 - mean_absolute_error: 0.276 - ETA: 0s - loss: 0.1244 - mean_absolute_error: 0.275 - ETA: 0s - loss: 0.1274 - mean_absolute_error: 0.280 - ETA: 0s - loss: 0.1250 - mean_absolute_error: 0.275 - 1s 1ms/step - loss: 0.1225 - mean_absolute_error: 0.2730\n",
      "Epoch 346/500\n",
      "500/500 [==============================] - ETA: 4s - loss: 0.0230 - mean_absolute_error: 0.151 - ETA: 1s - loss: 0.0941 - mean_absolute_error: 0.216 - ETA: 0s - loss: 0.1092 - mean_absolute_error: 0.252 - ETA: 0s - loss: 0.1087 - mean_absolute_error: 0.259 - ETA: 0s - loss: 0.0992 - mean_absolute_error: 0.243 - ETA: 0s - loss: 0.0929 - mean_absolute_error: 0.237 - ETA: 0s - loss: 0.0972 - mean_absolute_error: 0.243 - ETA: 0s - loss: 0.1124 - mean_absolute_error: 0.262 - ETA: 0s - loss: 0.1186 - mean_absolute_error: 0.270 - ETA: 0s - loss: 0.1218 - mean_absolute_error: 0.271 - ETA: 0s - loss: 0.1239 - mean_absolute_error: 0.272 - ETA: 0s - loss: 0.1237 - mean_absolute_error: 0.271 - 1s 1ms/step - loss: 0.1239 - mean_absolute_error: 0.2713\n",
      "Epoch 347/500\n",
      "500/500 [==============================] - ETA: 0s - loss: 0.7752 - mean_absolute_error: 0.880 - ETA: 0s - loss: 0.1113 - mean_absolute_error: 0.246 - ETA: 0s - loss: 0.1016 - mean_absolute_error: 0.242 - ETA: 0s - loss: 0.1130 - mean_absolute_error: 0.255 - ETA: 0s - loss: 0.1139 - mean_absolute_error: 0.258 - ETA: 0s - loss: 0.1192 - mean_absolute_error: 0.268 - ETA: 0s - loss: 0.1223 - mean_absolute_error: 0.269 - ETA: 0s - loss: 0.1275 - mean_absolute_error: 0.276 - ETA: 0s - loss: 0.1273 - mean_absolute_error: 0.276 - 0s 884us/step - loss: 0.1273 - mean_absolute_error: 0.2777\n",
      "Epoch 348/500\n",
      "500/500 [==============================] - ETA: 0s - loss: 0.2421 - mean_absolute_error: 0.492 - ETA: 0s - loss: 0.1134 - mean_absolute_error: 0.274 - ETA: 0s - loss: 0.1030 - mean_absolute_error: 0.260 - ETA: 0s - loss: 0.1241 - mean_absolute_error: 0.281 - ETA: 0s - loss: 0.1335 - mean_absolute_error: 0.289 - ETA: 0s - loss: 0.1295 - mean_absolute_error: 0.285 - ETA: 0s - loss: 0.1278 - mean_absolute_error: 0.281 - ETA: 0s - loss: 0.1279 - mean_absolute_error: 0.282 - ETA: 0s - loss: 0.1291 - mean_absolute_error: 0.283 - 0s 857us/step - loss: 0.1298 - mean_absolute_error: 0.2839\n",
      "Epoch 349/500\n",
      "500/500 [==============================] - ETA: 0s - loss: 0.0412 - mean_absolute_error: 0.203 - ETA: 0s - loss: 0.1115 - mean_absolute_error: 0.271 - ETA: 0s - loss: 0.1056 - mean_absolute_error: 0.265 - ETA: 0s - loss: 0.1011 - mean_absolute_error: 0.258 - ETA: 0s - loss: 0.1180 - mean_absolute_error: 0.270 - ETA: 0s - loss: 0.1247 - mean_absolute_error: 0.279 - ETA: 0s - loss: 0.1240 - mean_absolute_error: 0.275 - ETA: 0s - loss: 0.1317 - mean_absolute_error: 0.284 - ETA: 0s - loss: 0.1229 - mean_absolute_error: 0.272 - 0s 894us/step - loss: 0.1266 - mean_absolute_error: 0.2769\n",
      "Epoch 350/500\n",
      "500/500 [==============================] - ETA: 0s - loss: 0.3113 - mean_absolute_error: 0.558 - ETA: 0s - loss: 0.1132 - mean_absolute_error: 0.271 - ETA: 0s - loss: 0.1238 - mean_absolute_error: 0.274 - ETA: 0s - loss: 0.1163 - mean_absolute_error: 0.267 - ETA: 0s - loss: 0.1134 - mean_absolute_error: 0.263 - ETA: 0s - loss: 0.1120 - mean_absolute_error: 0.262 - ETA: 0s - loss: 0.1137 - mean_absolute_error: 0.262 - ETA: 0s - loss: 0.1114 - mean_absolute_error: 0.260 - ETA: 0s - loss: 0.1190 - mean_absolute_error: 0.268 - 0s 833us/step - loss: 0.1192 - mean_absolute_error: 0.2684\n",
      "Epoch 351/500\n"
     ]
    },
    {
     "name": "stdout",
     "output_type": "stream",
     "text": [
      "500/500 [==============================] - ETA: 0s - loss: 0.0654 - mean_absolute_error: 0.255 - ETA: 0s - loss: 0.1462 - mean_absolute_error: 0.293 - ETA: 0s - loss: 0.1495 - mean_absolute_error: 0.308 - ETA: 0s - loss: 0.1444 - mean_absolute_error: 0.302 - ETA: 0s - loss: 0.1348 - mean_absolute_error: 0.291 - ETA: 0s - loss: 0.1293 - mean_absolute_error: 0.283 - ETA: 0s - loss: 0.1324 - mean_absolute_error: 0.283 - ETA: 0s - loss: 0.1335 - mean_absolute_error: 0.287 - ETA: 0s - loss: 0.1287 - mean_absolute_error: 0.282 - 0s 860us/step - loss: 0.1269 - mean_absolute_error: 0.2807\n",
      "Epoch 352/500\n",
      "500/500 [==============================] - ETA: 0s - loss: 0.0927 - mean_absolute_error: 0.304 - ETA: 0s - loss: 0.0957 - mean_absolute_error: 0.246 - ETA: 0s - loss: 0.1194 - mean_absolute_error: 0.278 - ETA: 0s - loss: 0.1346 - mean_absolute_error: 0.297 - ETA: 0s - loss: 0.1384 - mean_absolute_error: 0.298 - ETA: 0s - loss: 0.1294 - mean_absolute_error: 0.286 - ETA: 0s - loss: 0.1365 - mean_absolute_error: 0.291 - ETA: 0s - loss: 0.1334 - mean_absolute_error: 0.287 - ETA: 0s - loss: 0.1299 - mean_absolute_error: 0.281 - ETA: 0s - loss: 0.1298 - mean_absolute_error: 0.283 - 0s 967us/step - loss: 0.1298 - mean_absolute_error: 0.2830\n",
      "Epoch 353/500\n",
      "500/500 [==============================] - ETA: 0s - loss: 0.0154 - mean_absolute_error: 0.123 - ETA: 0s - loss: 0.1236 - mean_absolute_error: 0.275 - ETA: 0s - loss: 0.1240 - mean_absolute_error: 0.277 - ETA: 0s - loss: 0.1346 - mean_absolute_error: 0.282 - ETA: 0s - loss: 0.1370 - mean_absolute_error: 0.285 - ETA: 0s - loss: 0.1295 - mean_absolute_error: 0.280 - ETA: 0s - loss: 0.1300 - mean_absolute_error: 0.280 - ETA: 0s - loss: 0.1286 - mean_absolute_error: 0.279 - ETA: 0s - loss: 0.1265 - mean_absolute_error: 0.277 - 0s 908us/step - loss: 0.1246 - mean_absolute_error: 0.2759\n",
      "Epoch 354/500\n",
      "500/500 [==============================] - ETA: 0s - loss: 0.0136 - mean_absolute_error: 0.116 - ETA: 0s - loss: 0.0977 - mean_absolute_error: 0.245 - ETA: 0s - loss: 0.1394 - mean_absolute_error: 0.293 - ETA: 0s - loss: 0.1315 - mean_absolute_error: 0.285 - ETA: 0s - loss: 0.1359 - mean_absolute_error: 0.288 - ETA: 0s - loss: 0.1338 - mean_absolute_error: 0.282 - ETA: 0s - loss: 0.1359 - mean_absolute_error: 0.286 - ETA: 0s - loss: 0.1315 - mean_absolute_error: 0.283 - ETA: 0s - loss: 0.1267 - mean_absolute_error: 0.276 - 0s 895us/step - loss: 0.1274 - mean_absolute_error: 0.2786\n",
      "Epoch 355/500\n",
      "500/500 [==============================] - ETA: 0s - loss: 0.0011 - mean_absolute_error: 0.032 - ETA: 0s - loss: 0.1501 - mean_absolute_error: 0.281 - ETA: 0s - loss: 0.1294 - mean_absolute_error: 0.272 - ETA: 0s - loss: 0.1395 - mean_absolute_error: 0.285 - ETA: 0s - loss: 0.1324 - mean_absolute_error: 0.277 - ETA: 0s - loss: 0.1268 - mean_absolute_error: 0.273 - ETA: 0s - loss: 0.1248 - mean_absolute_error: 0.273 - ETA: 0s - loss: 0.1219 - mean_absolute_error: 0.270 - ETA: 0s - loss: 0.1253 - mean_absolute_error: 0.275 - 0s 903us/step - loss: 0.1203 - mean_absolute_error: 0.2698\n",
      "Epoch 356/500\n",
      "500/500 [==============================] - ETA: 0s - loss: 0.1828 - mean_absolute_error: 0.427 - ETA: 0s - loss: 0.1374 - mean_absolute_error: 0.280 - ETA: 0s - loss: 0.1277 - mean_absolute_error: 0.272 - ETA: 0s - loss: 0.1270 - mean_absolute_error: 0.273 - ETA: 0s - loss: 0.1202 - mean_absolute_error: 0.264 - ETA: 0s - loss: 0.1171 - mean_absolute_error: 0.266 - ETA: 0s - loss: 0.1207 - mean_absolute_error: 0.272 - ETA: 0s - loss: 0.1206 - mean_absolute_error: 0.272 - ETA: 0s - loss: 0.1266 - mean_absolute_error: 0.280 - 0s 910us/step - loss: 0.1247 - mean_absolute_error: 0.2767\n",
      "Epoch 357/500\n",
      "500/500 [==============================] - ETA: 0s - loss: 0.0831 - mean_absolute_error: 0.288 - ETA: 0s - loss: 0.1269 - mean_absolute_error: 0.275 - ETA: 0s - loss: 0.1307 - mean_absolute_error: 0.275 - ETA: 0s - loss: 0.1281 - mean_absolute_error: 0.278 - ETA: 0s - loss: 0.1315 - mean_absolute_error: 0.283 - ETA: 0s - loss: 0.1379 - mean_absolute_error: 0.288 - ETA: 0s - loss: 0.1340 - mean_absolute_error: 0.285 - ETA: 0s - loss: 0.1306 - mean_absolute_error: 0.282 - ETA: 0s - loss: 0.1290 - mean_absolute_error: 0.281 - ETA: 0s - loss: 0.1312 - mean_absolute_error: 0.284 - ETA: 0s - loss: 0.1252 - mean_absolute_error: 0.277 - 1s 1ms/step - loss: 0.1242 - mean_absolute_error: 0.2778\n",
      "Epoch 358/500\n",
      "500/500 [==============================] - ETA: 0s - loss: 0.0214 - mean_absolute_error: 0.146 - ETA: 0s - loss: 0.0942 - mean_absolute_error: 0.244 - ETA: 0s - loss: 0.1189 - mean_absolute_error: 0.273 - ETA: 0s - loss: 0.1224 - mean_absolute_error: 0.279 - ETA: 0s - loss: 0.1231 - mean_absolute_error: 0.278 - ETA: 0s - loss: 0.1317 - mean_absolute_error: 0.283 - ETA: 0s - loss: 0.1309 - mean_absolute_error: 0.283 - ETA: 0s - loss: 0.1288 - mean_absolute_error: 0.283 - ETA: 0s - loss: 0.1276 - mean_absolute_error: 0.281 - 0s 901us/step - loss: 0.1246 - mean_absolute_error: 0.2770\n",
      "Epoch 359/500\n",
      "500/500 [==============================] - ETA: 1s - loss: 0.0590 - mean_absolute_error: 0.242 - ETA: 0s - loss: 0.1319 - mean_absolute_error: 0.277 - ETA: 0s - loss: 0.1074 - mean_absolute_error: 0.247 - ETA: 0s - loss: 0.1063 - mean_absolute_error: 0.246 - ETA: 0s - loss: 0.1097 - mean_absolute_error: 0.252 - ETA: 0s - loss: 0.1193 - mean_absolute_error: 0.260 - ETA: 0s - loss: 0.1232 - mean_absolute_error: 0.264 - ETA: 0s - loss: 0.1232 - mean_absolute_error: 0.266 - ETA: 0s - loss: 0.1269 - mean_absolute_error: 0.271 - ETA: 0s - loss: 0.1273 - mean_absolute_error: 0.272 - ETA: 0s - loss: 0.1249 - mean_absolute_error: 0.270 - 1s 1ms/step - loss: 0.1258 - mean_absolute_error: 0.2719\n",
      "Epoch 360/500\n",
      "500/500 [==============================] - ETA: 0s - loss: 0.0978 - mean_absolute_error: 0.312 - ETA: 0s - loss: 0.1554 - mean_absolute_error: 0.336 - ETA: 0s - loss: 0.1628 - mean_absolute_error: 0.334 - ETA: 0s - loss: 0.1634 - mean_absolute_error: 0.328 - ETA: 0s - loss: 0.1470 - mean_absolute_error: 0.310 - ETA: 0s - loss: 0.1440 - mean_absolute_error: 0.305 - ETA: 0s - loss: 0.1360 - mean_absolute_error: 0.296 - ETA: 0s - loss: 0.1335 - mean_absolute_error: 0.292 - ETA: 0s - loss: 0.1310 - mean_absolute_error: 0.289 - ETA: 0s - loss: 0.1274 - mean_absolute_error: 0.283 - ETA: 0s - loss: 0.1273 - mean_absolute_error: 0.284 - 1s 1ms/step - loss: 0.1260 - mean_absolute_error: 0.2825\n",
      "Epoch 361/500\n",
      "500/500 [==============================] - ETA: 4s - loss: 0.1514 - mean_absolute_error: 0.389 - ETA: 0s - loss: 0.1484 - mean_absolute_error: 0.309 - ETA: 0s - loss: 0.1144 - mean_absolute_error: 0.269 - ETA: 0s - loss: 0.1102 - mean_absolute_error: 0.264 - ETA: 0s - loss: 0.1087 - mean_absolute_error: 0.261 - ETA: 0s - loss: 0.1112 - mean_absolute_error: 0.267 - ETA: 0s - loss: 0.1145 - mean_absolute_error: 0.269 - ETA: 0s - loss: 0.1184 - mean_absolute_error: 0.274 - ETA: 0s - loss: 0.1224 - mean_absolute_error: 0.275 - ETA: 0s - loss: 0.1228 - mean_absolute_error: 0.275 - 0s 978us/step - loss: 0.1223 - mean_absolute_error: 0.2755\n",
      "Epoch 362/500\n",
      "500/500 [==============================] - ETA: 1s - loss: 0.3842 - mean_absolute_error: 0.619 - ETA: 0s - loss: 0.0838 - mean_absolute_error: 0.216 - ETA: 0s - loss: 0.0895 - mean_absolute_error: 0.225 - ETA: 0s - loss: 0.0998 - mean_absolute_error: 0.235 - ETA: 0s - loss: 0.1061 - mean_absolute_error: 0.245 - ETA: 0s - loss: 0.1183 - mean_absolute_error: 0.258 - ETA: 0s - loss: 0.1226 - mean_absolute_error: 0.266 - ETA: 0s - loss: 0.1195 - mean_absolute_error: 0.263 - ETA: 0s - loss: 0.1145 - mean_absolute_error: 0.257 - ETA: 0s - loss: 0.1160 - mean_absolute_error: 0.262 - 1s 1ms/step - loss: 0.1192 - mean_absolute_error: 0.2677\n",
      "Epoch 363/500\n",
      "500/500 [==============================] - ETA: 0s - loss: 0.0498 - mean_absolute_error: 0.223 - ETA: 0s - loss: 0.1105 - mean_absolute_error: 0.265 - ETA: 0s - loss: 0.1092 - mean_absolute_error: 0.265 - ETA: 0s - loss: 0.1260 - mean_absolute_error: 0.278 - ETA: 0s - loss: 0.1249 - mean_absolute_error: 0.277 - ETA: 0s - loss: 0.1285 - mean_absolute_error: 0.283 - ETA: 0s - loss: 0.1179 - mean_absolute_error: 0.275 - ETA: 0s - loss: 0.1173 - mean_absolute_error: 0.275 - ETA: 0s - loss: 0.1146 - mean_absolute_error: 0.273 - ETA: 0s - loss: 0.1184 - mean_absolute_error: 0.276 - ETA: 0s - loss: 0.1238 - mean_absolute_error: 0.282 - ETA: 0s - loss: 0.1226 - mean_absolute_error: 0.281 - 1s 1ms/step - loss: 0.1212 - mean_absolute_error: 0.2794\n",
      "Epoch 364/500\n",
      "500/500 [==============================] - ETA: 2s - loss: 0.0989 - mean_absolute_error: 0.314 - ETA: 0s - loss: 0.1717 - mean_absolute_error: 0.338 - ETA: 0s - loss: 0.1645 - mean_absolute_error: 0.318 - ETA: 0s - loss: 0.1318 - mean_absolute_error: 0.286 - ETA: 0s - loss: 0.1193 - mean_absolute_error: 0.268 - ETA: 0s - loss: 0.1132 - mean_absolute_error: 0.259 - ETA: 0s - loss: 0.1240 - mean_absolute_error: 0.271 - ETA: 0s - loss: 0.1219 - mean_absolute_error: 0.273 - ETA: 0s - loss: 0.1231 - mean_absolute_error: 0.275 - ETA: 0s - loss: 0.1204 - mean_absolute_error: 0.271 - ETA: 0s - loss: 0.1194 - mean_absolute_error: 0.271 - 1s 1ms/step - loss: 0.1224 - mean_absolute_error: 0.2749\n",
      "Epoch 365/500\n",
      "500/500 [==============================] - ETA: 0s - loss: 0.0250 - mean_absolute_error: 0.158 - ETA: 0s - loss: 0.0962 - mean_absolute_error: 0.228 - ETA: 0s - loss: 0.1271 - mean_absolute_error: 0.268 - ETA: 0s - loss: 0.1187 - mean_absolute_error: 0.258 - ETA: 0s - loss: 0.1229 - mean_absolute_error: 0.270 - ETA: 0s - loss: 0.1144 - mean_absolute_error: 0.259 - ETA: 0s - loss: 0.1094 - mean_absolute_error: 0.251 - ETA: 0s - loss: 0.1092 - mean_absolute_error: 0.253 - ETA: 0s - loss: 0.1146 - mean_absolute_error: 0.260 - ETA: 0s - loss: 0.1142 - mean_absolute_error: 0.260 - 0s 997us/step - loss: 0.1143 - mean_absolute_error: 0.2609\n",
      "Epoch 366/500\n",
      "500/500 [==============================] - ETA: 0s - loss: 0.4615 - mean_absolute_error: 0.679 - ETA: 0s - loss: 0.1450 - mean_absolute_error: 0.300 - ETA: 0s - loss: 0.1438 - mean_absolute_error: 0.289 - ETA: 0s - loss: 0.1391 - mean_absolute_error: 0.284 - ETA: 0s - loss: 0.1264 - mean_absolute_error: 0.270 - ETA: 0s - loss: 0.1249 - mean_absolute_error: 0.271 - ETA: 0s - loss: 0.1227 - mean_absolute_error: 0.269 - ETA: 0s - loss: 0.1240 - mean_absolute_error: 0.272 - ETA: 0s - loss: 0.1214 - mean_absolute_error: 0.269 - ETA: 0s - loss: 0.1235 - mean_absolute_error: 0.270 - ETA: 0s - loss: 0.1223 - mean_absolute_error: 0.270 - 1s 1ms/step - loss: 0.1247 - mean_absolute_error: 0.2724\n",
      "Epoch 367/500\n",
      "500/500 [==============================] - ETA: 0s - loss: 0.0714 - mean_absolute_error: 0.267 - ETA: 0s - loss: 0.1109 - mean_absolute_error: 0.263 - ETA: 0s - loss: 0.0937 - mean_absolute_error: 0.243 - ETA: 0s - loss: 0.1168 - mean_absolute_error: 0.266 - ETA: 0s - loss: 0.1300 - mean_absolute_error: 0.280 - ETA: 0s - loss: 0.1291 - mean_absolute_error: 0.281 - ETA: 0s - loss: 0.1321 - mean_absolute_error: 0.286 - ETA: 0s - loss: 0.1292 - mean_absolute_error: 0.282 - ETA: 0s - loss: 0.1246 - mean_absolute_error: 0.277 - ETA: 0s - loss: 0.1224 - mean_absolute_error: 0.275 - ETA: 0s - loss: 0.1268 - mean_absolute_error: 0.279 - 1s 1ms/step - loss: 0.1257 - mean_absolute_error: 0.2797\n",
      "Epoch 368/500\n",
      "500/500 [==============================] - ETA: 1s - loss: 0.3088 - mean_absolute_error: 0.555 - ETA: 0s - loss: 0.1326 - mean_absolute_error: 0.302 - ETA: 0s - loss: 0.1350 - mean_absolute_error: 0.292 - ETA: 0s - loss: 0.1237 - mean_absolute_error: 0.278 - ETA: 0s - loss: 0.1224 - mean_absolute_error: 0.276 - ETA: 0s - loss: 0.1184 - mean_absolute_error: 0.271 - ETA: 0s - loss: 0.1155 - mean_absolute_error: 0.268 - ETA: 0s - loss: 0.1152 - mean_absolute_error: 0.269 - ETA: 0s - loss: 0.1159 - mean_absolute_error: 0.269 - ETA: 0s - loss: 0.1139 - mean_absolute_error: 0.265 - ETA: 0s - loss: 0.1162 - mean_absolute_error: 0.265 - 1s 1ms/step - loss: 0.1172 - mean_absolute_error: 0.2666\n",
      "Epoch 369/500\n",
      "500/500 [==============================] - ETA: 0s - loss: 0.0215 - mean_absolute_error: 0.146 - ETA: 0s - loss: 0.1037 - mean_absolute_error: 0.253 - ETA: 0s - loss: 0.1123 - mean_absolute_error: 0.266 - ETA: 0s - loss: 0.1171 - mean_absolute_error: 0.272 - ETA: 0s - loss: 0.1191 - mean_absolute_error: 0.275 - ETA: 0s - loss: 0.1121 - mean_absolute_error: 0.269 - ETA: 0s - loss: 0.1126 - mean_absolute_error: 0.271 - ETA: 0s - loss: 0.1174 - mean_absolute_error: 0.276 - ETA: 0s - loss: 0.1190 - mean_absolute_error: 0.277 - ETA: 0s - loss: 0.1185 - mean_absolute_error: 0.277 - 1s 1ms/step - loss: 0.1199 - mean_absolute_error: 0.2795\n",
      "Epoch 370/500\n",
      "500/500 [==============================] - ETA: 0s - loss: 0.0045 - mean_absolute_error: 0.066 - ETA: 0s - loss: 0.1056 - mean_absolute_error: 0.230 - ETA: 0s - loss: 0.1104 - mean_absolute_error: 0.258 - ETA: 0s - loss: 0.1064 - mean_absolute_error: 0.254 - ETA: 0s - loss: 0.1051 - mean_absolute_error: 0.255 - ETA: 0s - loss: 0.1206 - mean_absolute_error: 0.269 - ETA: 0s - loss: 0.1260 - mean_absolute_error: 0.275 - ETA: 0s - loss: 0.1192 - mean_absolute_error: 0.270 - ETA: 0s - loss: 0.1185 - mean_absolute_error: 0.268 - ETA: 0s - loss: 0.1282 - mean_absolute_error: 0.277 - ETA: 0s - loss: 0.1205 - mean_absolute_error: 0.267 - ETA: 0s - loss: 0.1225 - mean_absolute_error: 0.271 - 1s 1ms/step - loss: 0.1234 - mean_absolute_error: 0.2724\n",
      "Epoch 371/500\n",
      "500/500 [==============================] - ETA: 0s - loss: 0.0225 - mean_absolute_error: 0.150 - ETA: 0s - loss: 0.1443 - mean_absolute_error: 0.295 - ETA: 0s - loss: 0.1416 - mean_absolute_error: 0.295 - ETA: 0s - loss: 0.1454 - mean_absolute_error: 0.300 - ETA: 0s - loss: 0.1322 - mean_absolute_error: 0.286 - ETA: 0s - loss: 0.1233 - mean_absolute_error: 0.277 - ETA: 0s - loss: 0.1301 - mean_absolute_error: 0.283 - ETA: 0s - loss: 0.1252 - mean_absolute_error: 0.278 - ETA: 0s - loss: 0.1248 - mean_absolute_error: 0.279 - ETA: 0s - loss: 0.1258 - mean_absolute_error: 0.279 - 0s 944us/step - loss: 0.1245 - mean_absolute_error: 0.2780\n",
      "Epoch 372/500\n",
      "500/500 [==============================] - ETA: 0s - loss: 0.0259 - mean_absolute_error: 0.160 - ETA: 0s - loss: 0.1062 - mean_absolute_error: 0.262 - ETA: 0s - loss: 0.1419 - mean_absolute_error: 0.306 - ETA: 0s - loss: 0.1356 - mean_absolute_error: 0.296 - ETA: 0s - loss: 0.1275 - mean_absolute_error: 0.285 - ETA: 0s - loss: 0.1263 - mean_absolute_error: 0.278 - ETA: 0s - loss: 0.1344 - mean_absolute_error: 0.282 - ETA: 0s - loss: 0.1353 - mean_absolute_error: 0.284 - ETA: 0s - loss: 0.1288 - mean_absolute_error: 0.279 - 0s 900us/step - loss: 0.1248 - mean_absolute_error: 0.2745\n",
      "Epoch 373/500\n",
      "500/500 [==============================] - ETA: 0s - loss: 0.1786 - mean_absolute_error: 0.422 - ETA: 0s - loss: 0.1379 - mean_absolute_error: 0.287 - ETA: 0s - loss: 0.1472 - mean_absolute_error: 0.303 - ETA: 0s - loss: 0.1320 - mean_absolute_error: 0.285 - ETA: 0s - loss: 0.1247 - mean_absolute_error: 0.280 - ETA: 0s - loss: 0.1258 - mean_absolute_error: 0.279 - ETA: 0s - loss: 0.1195 - mean_absolute_error: 0.268 - ETA: 0s - loss: 0.1273 - mean_absolute_error: 0.278 - ETA: 0s - loss: 0.1222 - mean_absolute_error: 0.272 - 0s 862us/step - loss: 0.1209 - mean_absolute_error: 0.2719\n",
      "Epoch 374/500\n",
      "500/500 [==============================] - ETA: 0s - loss: 0.1957 - mean_absolute_error: 0.442 - ETA: 0s - loss: 0.1180 - mean_absolute_error: 0.257 - ETA: 0s - loss: 0.1048 - mean_absolute_error: 0.251 - ETA: 0s - loss: 0.1323 - mean_absolute_error: 0.283 - ETA: 0s - loss: 0.1239 - mean_absolute_error: 0.272 - ETA: 0s - loss: 0.1189 - mean_absolute_error: 0.266 - ETA: 0s - loss: 0.1194 - mean_absolute_error: 0.267 - ETA: 0s - loss: 0.1125 - mean_absolute_error: 0.259 - ETA: 0s - loss: 0.1190 - mean_absolute_error: 0.266 - 0s 856us/step - loss: 0.1195 - mean_absolute_error: 0.2680\n",
      "Epoch 375/500\n"
     ]
    },
    {
     "name": "stdout",
     "output_type": "stream",
     "text": [
      "500/500 [==============================] - ETA: 1s - loss: 0.2594 - mean_absolute_error: 0.509 - ETA: 0s - loss: 0.1603 - mean_absolute_error: 0.305 - ETA: 0s - loss: 0.1559 - mean_absolute_error: 0.312 - ETA: 0s - loss: 0.1288 - mean_absolute_error: 0.281 - ETA: 0s - loss: 0.1281 - mean_absolute_error: 0.283 - ETA: 0s - loss: 0.1260 - mean_absolute_error: 0.280 - ETA: 0s - loss: 0.1253 - mean_absolute_error: 0.278 - ETA: 0s - loss: 0.1211 - mean_absolute_error: 0.275 - ETA: 0s - loss: 0.1243 - mean_absolute_error: 0.278 - 0s 875us/step - loss: 0.1215 - mean_absolute_error: 0.2747\n",
      "Epoch 376/500\n",
      "500/500 [==============================] - ETA: 2s - loss: 0.0225 - mean_absolute_error: 0.150 - ETA: 0s - loss: 0.1247 - mean_absolute_error: 0.269 - ETA: 0s - loss: 0.1279 - mean_absolute_error: 0.277 - ETA: 0s - loss: 0.1212 - mean_absolute_error: 0.277 - ETA: 0s - loss: 0.1262 - mean_absolute_error: 0.285 - ETA: 0s - loss: 0.1199 - mean_absolute_error: 0.278 - ETA: 0s - loss: 0.1189 - mean_absolute_error: 0.274 - ETA: 0s - loss: 0.1173 - mean_absolute_error: 0.272 - ETA: 0s - loss: 0.1157 - mean_absolute_error: 0.271 - ETA: 0s - loss: 0.1208 - mean_absolute_error: 0.278 - ETA: 0s - loss: 0.1218 - mean_absolute_error: 0.279 - 1s 1ms/step - loss: 0.1196 - mean_absolute_error: 0.2764\n",
      "Epoch 377/500\n",
      "500/500 [==============================] - ETA: 0s - loss: 0.0581 - mean_absolute_error: 0.241 - ETA: 0s - loss: 0.1049 - mean_absolute_error: 0.269 - ETA: 0s - loss: 0.1068 - mean_absolute_error: 0.264 - ETA: 0s - loss: 0.1067 - mean_absolute_error: 0.259 - ETA: 0s - loss: 0.1107 - mean_absolute_error: 0.264 - ETA: 0s - loss: 0.1108 - mean_absolute_error: 0.262 - ETA: 0s - loss: 0.1099 - mean_absolute_error: 0.260 - ETA: 0s - loss: 0.1170 - mean_absolute_error: 0.267 - ETA: 0s - loss: 0.1134 - mean_absolute_error: 0.264 - ETA: 0s - loss: 0.1178 - mean_absolute_error: 0.269 - ETA: 0s - loss: 0.1187 - mean_absolute_error: 0.268 - ETA: 0s - loss: 0.1197 - mean_absolute_error: 0.271 - 1s 1ms/step - loss: 0.1212 - mean_absolute_error: 0.2733\n",
      "Epoch 378/500\n",
      "500/500 [==============================] - ETA: 0s - loss: 0.0699 - mean_absolute_error: 0.264 - ETA: 0s - loss: 0.1027 - mean_absolute_error: 0.261 - ETA: 0s - loss: 0.1081 - mean_absolute_error: 0.254 - ETA: 0s - loss: 0.1046 - mean_absolute_error: 0.252 - ETA: 0s - loss: 0.1116 - mean_absolute_error: 0.265 - ETA: 0s - loss: 0.1156 - mean_absolute_error: 0.268 - ETA: 0s - loss: 0.1109 - mean_absolute_error: 0.265 - ETA: 0s - loss: 0.1197 - mean_absolute_error: 0.273 - ETA: 0s - loss: 0.1250 - mean_absolute_error: 0.281 - ETA: 0s - loss: 0.1250 - mean_absolute_error: 0.284 - ETA: 0s - loss: 0.1223 - mean_absolute_error: 0.279 - 1s 1ms/step - loss: 0.1223 - mean_absolute_error: 0.2789\n",
      "Epoch 379/500\n",
      "500/500 [==============================] - ETA: 1s - loss: 0.0039 - mean_absolute_error: 0.062 - ETA: 0s - loss: 0.1181 - mean_absolute_error: 0.245 - ETA: 0s - loss: 0.0965 - mean_absolute_error: 0.234 - ETA: 0s - loss: 0.0886 - mean_absolute_error: 0.228 - ETA: 0s - loss: 0.0995 - mean_absolute_error: 0.247 - ETA: 0s - loss: 0.0982 - mean_absolute_error: 0.243 - ETA: 0s - loss: 0.0995 - mean_absolute_error: 0.244 - ETA: 0s - loss: 0.1088 - mean_absolute_error: 0.255 - ETA: 0s - loss: 0.1152 - mean_absolute_error: 0.266 - ETA: 0s - loss: 0.1164 - mean_absolute_error: 0.268 - ETA: 0s - loss: 0.1192 - mean_absolute_error: 0.273 - ETA: 0s - loss: 0.1212 - mean_absolute_error: 0.274 - ETA: 0s - loss: 0.1223 - mean_absolute_error: 0.276 - 1s 1ms/step - loss: 0.1215 - mean_absolute_error: 0.2754\n",
      "Epoch 380/500\n",
      "500/500 [==============================] - ETA: 1s - loss: 0.7136 - mean_absolute_error: 0.844 - ETA: 0s - loss: 0.1184 - mean_absolute_error: 0.272 - ETA: 0s - loss: 0.1085 - mean_absolute_error: 0.260 - ETA: 0s - loss: 0.1226 - mean_absolute_error: 0.268 - ETA: 0s - loss: 0.1196 - mean_absolute_error: 0.263 - ETA: 0s - loss: 0.1229 - mean_absolute_error: 0.269 - ETA: 0s - loss: 0.1184 - mean_absolute_error: 0.263 - ETA: 0s - loss: 0.1146 - mean_absolute_error: 0.260 - ETA: 0s - loss: 0.1237 - mean_absolute_error: 0.271 - ETA: 0s - loss: 0.1264 - mean_absolute_error: 0.273 - 0s 941us/step - loss: 0.1267 - mean_absolute_error: 0.2741\n",
      "Epoch 381/500\n",
      "500/500 [==============================] - ETA: 2s - loss: 0.0513 - mean_absolute_error: 0.226 - ETA: 0s - loss: 0.1727 - mean_absolute_error: 0.333 - ETA: 0s - loss: 0.1595 - mean_absolute_error: 0.319 - ETA: 0s - loss: 0.1423 - mean_absolute_error: 0.297 - ETA: 0s - loss: 0.1219 - mean_absolute_error: 0.275 - ETA: 0s - loss: 0.1244 - mean_absolute_error: 0.275 - ETA: 0s - loss: 0.1209 - mean_absolute_error: 0.269 - ETA: 0s - loss: 0.1201 - mean_absolute_error: 0.270 - ETA: 0s - loss: 0.1218 - mean_absolute_error: 0.272 - ETA: 0s - loss: 0.1193 - mean_absolute_error: 0.269 - 0s 996us/step - loss: 0.1209 - mean_absolute_error: 0.2712\n",
      "Epoch 382/500\n",
      "500/500 [==============================] - ETA: 1s - loss: 0.1465 - mean_absolute_error: 0.382 - ETA: 0s - loss: 0.0960 - mean_absolute_error: 0.240 - ETA: 0s - loss: 0.1273 - mean_absolute_error: 0.280 - ETA: 0s - loss: 0.1152 - mean_absolute_error: 0.264 - ETA: 0s - loss: 0.1281 - mean_absolute_error: 0.278 - ETA: 0s - loss: 0.1370 - mean_absolute_error: 0.289 - ETA: 0s - loss: 0.1307 - mean_absolute_error: 0.281 - ETA: 0s - loss: 0.1240 - mean_absolute_error: 0.274 - ETA: 0s - loss: 0.1236 - mean_absolute_error: 0.278 - ETA: 0s - loss: 0.1223 - mean_absolute_error: 0.275 - 0s 995us/step - loss: 0.1190 - mean_absolute_error: 0.2724\n",
      "Epoch 383/500\n",
      "500/500 [==============================] - ETA: 0s - loss: 0.1605 - mean_absolute_error: 0.400 - ETA: 0s - loss: 0.1564 - mean_absolute_error: 0.322 - ETA: 0s - loss: 0.1544 - mean_absolute_error: 0.321 - ETA: 0s - loss: 0.1412 - mean_absolute_error: 0.300 - ETA: 0s - loss: 0.1317 - mean_absolute_error: 0.288 - ETA: 0s - loss: 0.1284 - mean_absolute_error: 0.284 - ETA: 0s - loss: 0.1239 - mean_absolute_error: 0.280 - ETA: 0s - loss: 0.1216 - mean_absolute_error: 0.275 - ETA: 0s - loss: 0.1190 - mean_absolute_error: 0.272 - ETA: 0s - loss: 0.1257 - mean_absolute_error: 0.280 - ETA: 0s - loss: 0.1258 - mean_absolute_error: 0.281 - 1s 1ms/step - loss: 0.1245 - mean_absolute_error: 0.2795\n",
      "Epoch 384/500\n",
      "500/500 [==============================] - ETA: 0s - loss: 0.0768 - mean_absolute_error: 0.277 - ETA: 0s - loss: 0.1183 - mean_absolute_error: 0.263 - ETA: 0s - loss: 0.0961 - mean_absolute_error: 0.245 - ETA: 0s - loss: 0.1034 - mean_absolute_error: 0.245 - ETA: 0s - loss: 0.1097 - mean_absolute_error: 0.254 - ETA: 0s - loss: 0.1139 - mean_absolute_error: 0.261 - ETA: 0s - loss: 0.1145 - mean_absolute_error: 0.265 - ETA: 0s - loss: 0.1214 - mean_absolute_error: 0.271 - ETA: 0s - loss: 0.1195 - mean_absolute_error: 0.268 - ETA: 0s - loss: 0.1182 - mean_absolute_error: 0.266 - 0s 996us/step - loss: 0.1184 - mean_absolute_error: 0.2670\n",
      "Epoch 385/500\n",
      "500/500 [==============================] - ETA: 1s - loss: 0.0148 - mean_absolute_error: 0.121 - ETA: 0s - loss: 0.1521 - mean_absolute_error: 0.311 - ETA: 0s - loss: 0.1190 - mean_absolute_error: 0.277 - ETA: 0s - loss: 0.1042 - mean_absolute_error: 0.259 - ETA: 0s - loss: 0.1146 - mean_absolute_error: 0.270 - ETA: 0s - loss: 0.1178 - mean_absolute_error: 0.273 - ETA: 0s - loss: 0.1177 - mean_absolute_error: 0.273 - ETA: 0s - loss: 0.1179 - mean_absolute_error: 0.272 - ETA: 0s - loss: 0.1177 - mean_absolute_error: 0.271 - ETA: 0s - loss: 0.1226 - mean_absolute_error: 0.275 - 0s 982us/step - loss: 0.1205 - mean_absolute_error: 0.2721\n",
      "Epoch 386/500\n",
      "500/500 [==============================] - ETA: 0s - loss: 3.5206e-06 - mean_absolute_error: 0.001 - ETA: 0s - loss: 0.0987 - mean_absolute_error: 0.2326    - ETA: 0s - loss: 0.1181 - mean_absolute_error: 0.273 - ETA: 0s - loss: 0.1106 - mean_absolute_error: 0.259 - ETA: 0s - loss: 0.1086 - mean_absolute_error: 0.255 - ETA: 0s - loss: 0.1081 - mean_absolute_error: 0.259 - ETA: 0s - loss: 0.1052 - mean_absolute_error: 0.255 - ETA: 0s - loss: 0.1110 - mean_absolute_error: 0.260 - ETA: 0s - loss: 0.1111 - mean_absolute_error: 0.260 - ETA: 0s - loss: 0.1151 - mean_absolute_error: 0.265 - 0s 979us/step - loss: 0.1154 - mean_absolute_error: 0.2656\n"
     ]
    },
    {
     "name": "stdout",
     "output_type": "stream",
     "text": [
      "Epoch 387/500\n",
      "500/500 [==============================] - ETA: 0s - loss: 0.0072 - mean_absolute_error: 0.084 - ETA: 0s - loss: 0.1587 - mean_absolute_error: 0.316 - ETA: 0s - loss: 0.1309 - mean_absolute_error: 0.277 - ETA: 0s - loss: 0.1223 - mean_absolute_error: 0.269 - ETA: 0s - loss: 0.1182 - mean_absolute_error: 0.264 - ETA: 0s - loss: 0.1235 - mean_absolute_error: 0.272 - ETA: 0s - loss: 0.1218 - mean_absolute_error: 0.271 - ETA: 0s - loss: 0.1239 - mean_absolute_error: 0.275 - ETA: 0s - loss: 0.1231 - mean_absolute_error: 0.275 - ETA: 0s - loss: 0.1191 - mean_absolute_error: 0.270 - 0s 989us/step - loss: 0.1200 - mean_absolute_error: 0.2716\n",
      "Epoch 388/500\n",
      "500/500 [==============================] - ETA: 1s - loss: 0.0196 - mean_absolute_error: 0.139 - ETA: 0s - loss: 0.0720 - mean_absolute_error: 0.201 - ETA: 0s - loss: 0.1010 - mean_absolute_error: 0.237 - ETA: 0s - loss: 0.1172 - mean_absolute_error: 0.255 - ETA: 0s - loss: 0.1061 - mean_absolute_error: 0.245 - ETA: 0s - loss: 0.1048 - mean_absolute_error: 0.246 - ETA: 0s - loss: 0.1049 - mean_absolute_error: 0.246 - ETA: 0s - loss: 0.1100 - mean_absolute_error: 0.254 - ETA: 0s - loss: 0.1133 - mean_absolute_error: 0.258 - ETA: 0s - loss: 0.1181 - mean_absolute_error: 0.266 - ETA: 0s - loss: 0.1199 - mean_absolute_error: 0.267 - 1s 1ms/step - loss: 0.1182 - mean_absolute_error: 0.2657\n",
      "Epoch 389/500\n",
      "500/500 [==============================] - ETA: 1s - loss: 0.0425 - mean_absolute_error: 0.206 - ETA: 0s - loss: 0.1385 - mean_absolute_error: 0.283 - ETA: 0s - loss: 0.1109 - mean_absolute_error: 0.252 - ETA: 0s - loss: 0.1281 - mean_absolute_error: 0.276 - ETA: 0s - loss: 0.1241 - mean_absolute_error: 0.272 - ETA: 0s - loss: 0.1170 - mean_absolute_error: 0.262 - ETA: 0s - loss: 0.1149 - mean_absolute_error: 0.261 - ETA: 0s - loss: 0.1125 - mean_absolute_error: 0.260 - ETA: 0s - loss: 0.1153 - mean_absolute_error: 0.263 - ETA: 0s - loss: 0.1165 - mean_absolute_error: 0.265 - ETA: 0s - loss: 0.1193 - mean_absolute_error: 0.268 - 1s 1ms/step - loss: 0.1187 - mean_absolute_error: 0.2675\n",
      "Epoch 390/500\n",
      "500/500 [==============================] - ETA: 2s - loss: 0.0762 - mean_absolute_error: 0.276 - ETA: 0s - loss: 0.0964 - mean_absolute_error: 0.247 - ETA: 0s - loss: 0.1082 - mean_absolute_error: 0.259 - ETA: 0s - loss: 0.1126 - mean_absolute_error: 0.265 - ETA: 0s - loss: 0.1142 - mean_absolute_error: 0.265 - ETA: 0s - loss: 0.1160 - mean_absolute_error: 0.266 - ETA: 0s - loss: 0.1138 - mean_absolute_error: 0.266 - ETA: 0s - loss: 0.1144 - mean_absolute_error: 0.265 - ETA: 0s - loss: 0.1123 - mean_absolute_error: 0.262 - ETA: 0s - loss: 0.1135 - mean_absolute_error: 0.265 - ETA: 0s - loss: 0.1132 - mean_absolute_error: 0.264 - 1s 1ms/step - loss: 0.1138 - mean_absolute_error: 0.2650\n",
      "Epoch 391/500\n",
      "500/500 [==============================] - ETA: 1s - loss: 0.0213 - mean_absolute_error: 0.146 - ETA: 0s - loss: 0.1133 - mean_absolute_error: 0.272 - ETA: 0s - loss: 0.1089 - mean_absolute_error: 0.258 - ETA: 0s - loss: 0.1141 - mean_absolute_error: 0.264 - ETA: 0s - loss: 0.1351 - mean_absolute_error: 0.279 - ETA: 0s - loss: 0.1349 - mean_absolute_error: 0.277 - ETA: 0s - loss: 0.1293 - mean_absolute_error: 0.272 - ETA: 0s - loss: 0.1306 - mean_absolute_error: 0.276 - ETA: 0s - loss: 0.1253 - mean_absolute_error: 0.272 - ETA: 0s - loss: 0.1231 - mean_absolute_error: 0.272 - 1s 1ms/step - loss: 0.1224 - mean_absolute_error: 0.2691\n",
      "Epoch 392/500\n",
      "500/500 [==============================] - ETA: 1s - loss: 0.0097 - mean_absolute_error: 0.098 - ETA: 0s - loss: 0.1092 - mean_absolute_error: 0.254 - ETA: 0s - loss: 0.1200 - mean_absolute_error: 0.269 - ETA: 0s - loss: 0.1213 - mean_absolute_error: 0.274 - ETA: 0s - loss: 0.1215 - mean_absolute_error: 0.277 - ETA: 0s - loss: 0.1212 - mean_absolute_error: 0.277 - ETA: 0s - loss: 0.1183 - mean_absolute_error: 0.273 - ETA: 0s - loss: 0.1153 - mean_absolute_error: 0.269 - ETA: 0s - loss: 0.1120 - mean_absolute_error: 0.265 - ETA: 0s - loss: 0.1139 - mean_absolute_error: 0.269 - ETA: 0s - loss: 0.1196 - mean_absolute_error: 0.273 - ETA: 0s - loss: 0.1176 - mean_absolute_error: 0.271 - 1s 1ms/step - loss: 0.1171 - mean_absolute_error: 0.2715\n",
      "Epoch 393/500\n",
      "500/500 [==============================] - ETA: 0s - loss: 0.0313 - mean_absolute_error: 0.176 - ETA: 0s - loss: 0.1137 - mean_absolute_error: 0.254 - ETA: 0s - loss: 0.0921 - mean_absolute_error: 0.232 - ETA: 0s - loss: 0.0957 - mean_absolute_error: 0.242 - ETA: 0s - loss: 0.1090 - mean_absolute_error: 0.253 - ETA: 0s - loss: 0.1062 - mean_absolute_error: 0.250 - ETA: 0s - loss: 0.1147 - mean_absolute_error: 0.258 - ETA: 0s - loss: 0.1201 - mean_absolute_error: 0.265 - ETA: 0s - loss: 0.1212 - mean_absolute_error: 0.267 - ETA: 0s - loss: 0.1187 - mean_absolute_error: 0.266 - 0s 959us/step - loss: 0.1203 - mean_absolute_error: 0.2691\n",
      "Epoch 394/500\n",
      "500/500 [==============================] - ETA: 0s - loss: 0.5132 - mean_absolute_error: 0.716 - ETA: 0s - loss: 0.1666 - mean_absolute_error: 0.309 - ETA: 0s - loss: 0.1380 - mean_absolute_error: 0.277 - ETA: 0s - loss: 0.1231 - mean_absolute_error: 0.268 - ETA: 0s - loss: 0.1280 - mean_absolute_error: 0.276 - ETA: 0s - loss: 0.1280 - mean_absolute_error: 0.278 - ETA: 0s - loss: 0.1231 - mean_absolute_error: 0.272 - ETA: 0s - loss: 0.1170 - mean_absolute_error: 0.266 - ETA: 0s - loss: 0.1161 - mean_absolute_error: 0.266 - 0s 889us/step - loss: 0.1160 - mean_absolute_error: 0.2647\n",
      "Epoch 395/500\n",
      "500/500 [==============================] - ETA: 0s - loss: 1.1601 - mean_absolute_error: 1.077 - ETA: 0s - loss: 0.1413 - mean_absolute_error: 0.287 - ETA: 0s - loss: 0.1174 - mean_absolute_error: 0.264 - ETA: 0s - loss: 0.1253 - mean_absolute_error: 0.274 - ETA: 0s - loss: 0.1261 - mean_absolute_error: 0.273 - ETA: 0s - loss: 0.1251 - mean_absolute_error: 0.269 - ETA: 0s - loss: 0.1217 - mean_absolute_error: 0.268 - ETA: 0s - loss: 0.1272 - mean_absolute_error: 0.272 - ETA: 0s - loss: 0.1261 - mean_absolute_error: 0.272 - ETA: 0s - loss: 0.1229 - mean_absolute_error: 0.270 - 0s 992us/step - loss: 0.1234 - mean_absolute_error: 0.2721\n",
      "Epoch 396/500\n",
      "500/500 [==============================] - ETA: 2s - loss: 0.0028 - mean_absolute_error: 0.052 - ETA: 0s - loss: 0.1502 - mean_absolute_error: 0.300 - ETA: 0s - loss: 0.1508 - mean_absolute_error: 0.302 - ETA: 0s - loss: 0.1346 - mean_absolute_error: 0.292 - ETA: 0s - loss: 0.1325 - mean_absolute_error: 0.288 - ETA: 0s - loss: 0.1299 - mean_absolute_error: 0.283 - ETA: 0s - loss: 0.1283 - mean_absolute_error: 0.282 - ETA: 0s - loss: 0.1283 - mean_absolute_error: 0.282 - ETA: 0s - loss: 0.1220 - mean_absolute_error: 0.274 - ETA: 0s - loss: 0.1188 - mean_absolute_error: 0.270 - 0s 960us/step - loss: 0.1200 - mean_absolute_error: 0.2710\n",
      "Epoch 397/500\n",
      "500/500 [==============================] - ETA: 0s - loss: 0.0512 - mean_absolute_error: 0.226 - ETA: 0s - loss: 0.1392 - mean_absolute_error: 0.289 - ETA: 0s - loss: 0.1355 - mean_absolute_error: 0.286 - ETA: 0s - loss: 0.1283 - mean_absolute_error: 0.278 - ETA: 0s - loss: 0.1331 - mean_absolute_error: 0.284 - ETA: 0s - loss: 0.1365 - mean_absolute_error: 0.281 - ETA: 0s - loss: 0.1375 - mean_absolute_error: 0.287 - ETA: 0s - loss: 0.1321 - mean_absolute_error: 0.283 - ETA: 0s - loss: 0.1229 - mean_absolute_error: 0.273 - ETA: 0s - loss: 0.1233 - mean_absolute_error: 0.273 - 0s 966us/step - loss: 0.1220 - mean_absolute_error: 0.2723\n",
      "Epoch 398/500\n",
      "500/500 [==============================] - ETA: 0s - loss: 0.0186 - mean_absolute_error: 0.136 - ETA: 0s - loss: 0.0990 - mean_absolute_error: 0.251 - ETA: 0s - loss: 0.1256 - mean_absolute_error: 0.280 - ETA: 0s - loss: 0.1294 - mean_absolute_error: 0.284 - ETA: 0s - loss: 0.1276 - mean_absolute_error: 0.279 - ETA: 0s - loss: 0.1294 - mean_absolute_error: 0.280 - ETA: 0s - loss: 0.1270 - mean_absolute_error: 0.276 - ETA: 0s - loss: 0.1249 - mean_absolute_error: 0.272 - ETA: 0s - loss: 0.1204 - mean_absolute_error: 0.267 - ETA: 0s - loss: 0.1209 - mean_absolute_error: 0.269 - 0s 969us/step - loss: 0.1203 - mean_absolute_error: 0.2693\n",
      "Epoch 399/500\n",
      "500/500 [==============================] - ETA: 0s - loss: 0.0378 - mean_absolute_error: 0.194 - ETA: 0s - loss: 0.1160 - mean_absolute_error: 0.267 - ETA: 0s - loss: 0.0872 - mean_absolute_error: 0.229 - ETA: 0s - loss: 0.0935 - mean_absolute_error: 0.237 - ETA: 0s - loss: 0.1005 - mean_absolute_error: 0.245 - ETA: 0s - loss: 0.1075 - mean_absolute_error: 0.252 - ETA: 0s - loss: 0.1225 - mean_absolute_error: 0.266 - ETA: 0s - loss: 0.1204 - mean_absolute_error: 0.264 - ETA: 0s - loss: 0.1195 - mean_absolute_error: 0.263 - ETA: 0s - loss: 0.1183 - mean_absolute_error: 0.264 - ETA: 0s - loss: 0.1274 - mean_absolute_error: 0.273 - ETA: 0s - loss: 0.1251 - mean_absolute_error: 0.273 - 1s 1ms/step - loss: 0.1225 - mean_absolute_error: 0.2713\n",
      "Epoch 400/500\n",
      "500/500 [==============================] - ETA: 0s - loss: 0.2135 - mean_absolute_error: 0.462 - ETA: 0s - loss: 0.0978 - mean_absolute_error: 0.240 - ETA: 0s - loss: 0.1030 - mean_absolute_error: 0.256 - ETA: 0s - loss: 0.1108 - mean_absolute_error: 0.258 - ETA: 0s - loss: 0.1082 - mean_absolute_error: 0.256 - ETA: 0s - loss: 0.0965 - mean_absolute_error: 0.241 - ETA: 0s - loss: 0.1105 - mean_absolute_error: 0.258 - ETA: 0s - loss: 0.1088 - mean_absolute_error: 0.258 - ETA: 0s - loss: 0.1152 - mean_absolute_error: 0.267 - ETA: 0s - loss: 0.1220 - mean_absolute_error: 0.274 - ETA: 0s - loss: 0.1243 - mean_absolute_error: 0.277 - 1s 1ms/step - loss: 0.1245 - mean_absolute_error: 0.2787\n",
      "Epoch 401/500\n",
      "500/500 [==============================] - ETA: 0s - loss: 0.0556 - mean_absolute_error: 0.235 - ETA: 0s - loss: 0.0965 - mean_absolute_error: 0.244 - ETA: 0s - loss: 0.1033 - mean_absolute_error: 0.248 - ETA: 0s - loss: 0.1104 - mean_absolute_error: 0.259 - ETA: 0s - loss: 0.1103 - mean_absolute_error: 0.257 - ETA: 0s - loss: 0.1121 - mean_absolute_error: 0.259 - ETA: 0s - loss: 0.1146 - mean_absolute_error: 0.260 - ETA: 0s - loss: 0.1237 - mean_absolute_error: 0.270 - ETA: 0s - loss: 0.1198 - mean_absolute_error: 0.266 - ETA: 0s - loss: 0.1224 - mean_absolute_error: 0.269 - ETA: 0s - loss: 0.1234 - mean_absolute_error: 0.271 - 1s 1ms/step - loss: 0.1199 - mean_absolute_error: 0.2674\n",
      "Epoch 402/500\n",
      "500/500 [==============================] - ETA: 2s - loss: 0.0075 - mean_absolute_error: 0.086 - ETA: 0s - loss: 0.1259 - mean_absolute_error: 0.270 - ETA: 0s - loss: 0.1032 - mean_absolute_error: 0.245 - ETA: 0s - loss: 0.1067 - mean_absolute_error: 0.249 - ETA: 0s - loss: 0.1130 - mean_absolute_error: 0.260 - ETA: 0s - loss: 0.1205 - mean_absolute_error: 0.266 - ETA: 0s - loss: 0.1185 - mean_absolute_error: 0.267 - ETA: 0s - loss: 0.1156 - mean_absolute_error: 0.265 - ETA: 0s - loss: 0.1208 - mean_absolute_error: 0.270 - ETA: 0s - loss: 0.1175 - mean_absolute_error: 0.265 - ETA: 0s - loss: 0.1198 - mean_absolute_error: 0.268 - 1s 1ms/step - loss: 0.1195 - mean_absolute_error: 0.2682\n",
      "Epoch 403/500\n",
      "500/500 [==============================] - ETA: 0s - loss: 0.2049 - mean_absolute_error: 0.452 - ETA: 0s - loss: 0.1092 - mean_absolute_error: 0.261 - ETA: 0s - loss: 0.1336 - mean_absolute_error: 0.292 - ETA: 0s - loss: 0.1145 - mean_absolute_error: 0.267 - ETA: 0s - loss: 0.1188 - mean_absolute_error: 0.273 - ETA: 0s - loss: 0.1153 - mean_absolute_error: 0.268 - ETA: 0s - loss: 0.1268 - mean_absolute_error: 0.280 - ETA: 0s - loss: 0.1225 - mean_absolute_error: 0.276 - ETA: 0s - loss: 0.1258 - mean_absolute_error: 0.278 - ETA: 0s - loss: 0.1264 - mean_absolute_error: 0.279 - ETA: 0s - loss: 0.1218 - mean_absolute_error: 0.274 - ETA: 0s - loss: 0.1245 - mean_absolute_error: 0.277 - 1s 1ms/step - loss: 0.1218 - mean_absolute_error: 0.2742\n",
      "Epoch 404/500\n",
      "500/500 [==============================] - ETA: 0s - loss: 0.0611 - mean_absolute_error: 0.247 - ETA: 0s - loss: 0.0427 - mean_absolute_error: 0.173 - ETA: 0s - loss: 0.0788 - mean_absolute_error: 0.230 - ETA: 0s - loss: 0.1129 - mean_absolute_error: 0.267 - ETA: 0s - loss: 0.1279 - mean_absolute_error: 0.286 - ETA: 0s - loss: 0.1230 - mean_absolute_error: 0.282 - ETA: 0s - loss: 0.1217 - mean_absolute_error: 0.276 - ETA: 0s - loss: 0.1242 - mean_absolute_error: 0.280 - ETA: 0s - loss: 0.1232 - mean_absolute_error: 0.278 - ETA: 0s - loss: 0.1203 - mean_absolute_error: 0.274 - ETA: 0s - loss: 0.1192 - mean_absolute_error: 0.271 - ETA: 0s - loss: 0.1190 - mean_absolute_error: 0.273 - 1s 1ms/step - loss: 0.1185 - mean_absolute_error: 0.2716\n",
      "Epoch 405/500\n",
      "500/500 [==============================] - ETA: 1s - loss: 0.0411 - mean_absolute_error: 0.202 - ETA: 0s - loss: 0.1284 - mean_absolute_error: 0.294 - ETA: 0s - loss: 0.1457 - mean_absolute_error: 0.302 - ETA: 0s - loss: 0.1317 - mean_absolute_error: 0.290 - ETA: 0s - loss: 0.1304 - mean_absolute_error: 0.284 - ETA: 0s - loss: 0.1217 - mean_absolute_error: 0.274 - ETA: 0s - loss: 0.1156 - mean_absolute_error: 0.268 - ETA: 0s - loss: 0.1142 - mean_absolute_error: 0.266 - ETA: 0s - loss: 0.1109 - mean_absolute_error: 0.263 - ETA: 0s - loss: 0.1159 - mean_absolute_error: 0.265 - ETA: 0s - loss: 0.1194 - mean_absolute_error: 0.270 - ETA: 0s - loss: 0.1228 - mean_absolute_error: 0.274 - 1s 1ms/step - loss: 0.1214 - mean_absolute_error: 0.2738\n",
      "Epoch 406/500\n",
      "500/500 [==============================] - ETA: 1s - loss: 0.1299 - mean_absolute_error: 0.360 - ETA: 0s - loss: 0.0824 - mean_absolute_error: 0.224 - ETA: 0s - loss: 0.1056 - mean_absolute_error: 0.260 - ETA: 0s - loss: 0.0890 - mean_absolute_error: 0.234 - ETA: 0s - loss: 0.0971 - mean_absolute_error: 0.248 - ETA: 0s - loss: 0.1074 - mean_absolute_error: 0.257 - ETA: 0s - loss: 0.1142 - mean_absolute_error: 0.266 - ETA: 0s - loss: 0.1156 - mean_absolute_error: 0.268 - ETA: 0s - loss: 0.1184 - mean_absolute_error: 0.269 - ETA: 0s - loss: 0.1211 - mean_absolute_error: 0.273 - ETA: 0s - loss: 0.1187 - mean_absolute_error: 0.272 - ETA: 0s - loss: 0.1182 - mean_absolute_error: 0.272 - ETA: 0s - loss: 0.1209 - mean_absolute_error: 0.274 - 1s 1ms/step - loss: 0.1218 - mean_absolute_error: 0.2759\n",
      "Epoch 407/500\n",
      "500/500 [==============================] - ETA: 1s - loss: 7.1652e-04 - mean_absolute_error: 0.026 - ETA: 0s - loss: 0.1195 - mean_absolute_error: 0.2739    - ETA: 0s - loss: 0.1146 - mean_absolute_error: 0.268 - ETA: 0s - loss: 0.1107 - mean_absolute_error: 0.259 - ETA: 0s - loss: 0.1113 - mean_absolute_error: 0.257 - ETA: 0s - loss: 0.1085 - mean_absolute_error: 0.255 - ETA: 0s - loss: 0.1182 - mean_absolute_error: 0.266 - 0s 693us/step - loss: 0.1184 - mean_absolute_error: 0.2675\n",
      "Epoch 408/500\n",
      "500/500 [==============================] - ETA: 0s - loss: 0.3476 - mean_absolute_error: 0.589 - ETA: 0s - loss: 0.1403 - mean_absolute_error: 0.313 - ETA: 0s - loss: 0.1334 - mean_absolute_error: 0.298 - ETA: 0s - loss: 0.1269 - mean_absolute_error: 0.291 - ETA: 0s - loss: 0.1204 - mean_absolute_error: 0.279 - ETA: 0s - loss: 0.1211 - mean_absolute_error: 0.280 - ETA: 0s - loss: 0.1213 - mean_absolute_error: 0.277 - ETA: 0s - loss: 0.1177 - mean_absolute_error: 0.271 - 0s 741us/step - loss: 0.1231 - mean_absolute_error: 0.2759\n",
      "Epoch 409/500\n",
      "500/500 [==============================] - ETA: 0s - loss: 7.0558e-05 - mean_absolute_error: 0.008 - ETA: 0s - loss: 0.1063 - mean_absolute_error: 0.2678    - ETA: 0s - loss: 0.1248 - mean_absolute_error: 0.288 - ETA: 0s - loss: 0.1314 - mean_absolute_error: 0.295 - ETA: 0s - loss: 0.1220 - mean_absolute_error: 0.285 - ETA: 0s - loss: 0.1233 - mean_absolute_error: 0.284 - ETA: 0s - loss: 0.1250 - mean_absolute_error: 0.283 - ETA: 0s - loss: 0.1155 - mean_absolute_error: 0.269 - ETA: 0s - loss: 0.1171 - mean_absolute_error: 0.269 - ETA: 0s - loss: 0.1148 - mean_absolute_error: 0.267 - ETA: 0s - loss: 0.1156 - mean_absolute_error: 0.269 - 1s 1ms/step - loss: 0.1154 - mean_absolute_error: 0.2692\n",
      "Epoch 410/500\n"
     ]
    },
    {
     "name": "stdout",
     "output_type": "stream",
     "text": [
      "500/500 [==============================] - ETA: 2s - loss: 0.0495 - mean_absolute_error: 0.222 - ETA: 0s - loss: 0.1338 - mean_absolute_error: 0.273 - ETA: 0s - loss: 0.1249 - mean_absolute_error: 0.280 - ETA: 0s - loss: 0.1250 - mean_absolute_error: 0.281 - ETA: 0s - loss: 0.1164 - mean_absolute_error: 0.271 - ETA: 0s - loss: 0.1133 - mean_absolute_error: 0.266 - ETA: 0s - loss: 0.1095 - mean_absolute_error: 0.262 - ETA: 0s - loss: 0.1133 - mean_absolute_error: 0.266 - ETA: 0s - loss: 0.1122 - mean_absolute_error: 0.264 - 0s 902us/step - loss: 0.1191 - mean_absolute_error: 0.2728\n",
      "Epoch 411/500\n",
      "500/500 [==============================] - ETA: 1s - loss: 0.0903 - mean_absolute_error: 0.300 - ETA: 0s - loss: 0.1297 - mean_absolute_error: 0.288 - ETA: 0s - loss: 0.1239 - mean_absolute_error: 0.284 - ETA: 0s - loss: 0.1256 - mean_absolute_error: 0.278 - ETA: 0s - loss: 0.1331 - mean_absolute_error: 0.287 - ETA: 0s - loss: 0.1256 - mean_absolute_error: 0.280 - ETA: 0s - loss: 0.1279 - mean_absolute_error: 0.282 - ETA: 0s - loss: 0.1274 - mean_absolute_error: 0.281 - ETA: 0s - loss: 0.1248 - mean_absolute_error: 0.278 - ETA: 0s - loss: 0.1247 - mean_absolute_error: 0.280 - ETA: 0s - loss: 0.1174 - mean_absolute_error: 0.270 - ETA: 0s - loss: 0.1192 - mean_absolute_error: 0.271 - 1s 1ms/step - loss: 0.1215 - mean_absolute_error: 0.2738\n",
      "Epoch 412/500\n",
      "500/500 [==============================] - ETA: 0s - loss: 0.0098 - mean_absolute_error: 0.099 - ETA: 0s - loss: 0.1413 - mean_absolute_error: 0.299 - ETA: 0s - loss: 0.1121 - mean_absolute_error: 0.258 - ETA: 0s - loss: 0.1334 - mean_absolute_error: 0.281 - ETA: 0s - loss: 0.1175 - mean_absolute_error: 0.266 - ETA: 0s - loss: 0.1177 - mean_absolute_error: 0.266 - ETA: 0s - loss: 0.1071 - mean_absolute_error: 0.250 - ETA: 0s - loss: 0.1062 - mean_absolute_error: 0.252 - ETA: 0s - loss: 0.1096 - mean_absolute_error: 0.256 - ETA: 0s - loss: 0.1146 - mean_absolute_error: 0.263 - ETA: 0s - loss: 0.1193 - mean_absolute_error: 0.267 - 1s 1ms/step - loss: 0.1184 - mean_absolute_error: 0.2664\n",
      "Epoch 413/500\n",
      "500/500 [==============================] - ETA: 0s - loss: 0.4491 - mean_absolute_error: 0.670 - ETA: 0s - loss: 0.1194 - mean_absolute_error: 0.282 - ETA: 0s - loss: 0.1264 - mean_absolute_error: 0.274 - ETA: 0s - loss: 0.1324 - mean_absolute_error: 0.285 - ETA: 0s - loss: 0.1414 - mean_absolute_error: 0.295 - ETA: 0s - loss: 0.1464 - mean_absolute_error: 0.305 - ETA: 0s - loss: 0.1382 - mean_absolute_error: 0.295 - ETA: 0s - loss: 0.1354 - mean_absolute_error: 0.293 - ETA: 0s - loss: 0.1306 - mean_absolute_error: 0.288 - ETA: 0s - loss: 0.1304 - mean_absolute_error: 0.285 - ETA: 0s - loss: 0.1250 - mean_absolute_error: 0.281 - 1s 1ms/step - loss: 0.1239 - mean_absolute_error: 0.2803\n",
      "Epoch 414/500\n",
      "500/500 [==============================] - ETA: 1s - loss: 0.0694 - mean_absolute_error: 0.263 - ETA: 0s - loss: 0.1367 - mean_absolute_error: 0.284 - ETA: 0s - loss: 0.1163 - mean_absolute_error: 0.266 - ETA: 0s - loss: 0.1109 - mean_absolute_error: 0.260 - ETA: 0s - loss: 0.1258 - mean_absolute_error: 0.274 - ETA: 0s - loss: 0.1307 - mean_absolute_error: 0.279 - ETA: 0s - loss: 0.1342 - mean_absolute_error: 0.283 - ETA: 0s - loss: 0.1329 - mean_absolute_error: 0.282 - ETA: 0s - loss: 0.1281 - mean_absolute_error: 0.276 - ETA: 0s - loss: 0.1254 - mean_absolute_error: 0.274 - ETA: 0s - loss: 0.1231 - mean_absolute_error: 0.271 - 1s 1ms/step - loss: 0.1193 - mean_absolute_error: 0.2674\n",
      "Epoch 415/500\n",
      "500/500 [==============================] - ETA: 0s - loss: 7.7271e-04 - mean_absolute_error: 0.027 - ETA: 0s - loss: 0.1642 - mean_absolute_error: 0.2920    - ETA: 0s - loss: 0.1205 - mean_absolute_error: 0.251 - ETA: 0s - loss: 0.1352 - mean_absolute_error: 0.287 - ETA: 0s - loss: 0.1310 - mean_absolute_error: 0.284 - ETA: 0s - loss: 0.1223 - mean_absolute_error: 0.272 - ETA: 0s - loss: 0.1248 - mean_absolute_error: 0.276 - ETA: 0s - loss: 0.1257 - mean_absolute_error: 0.277 - ETA: 0s - loss: 0.1207 - mean_absolute_error: 0.269 - ETA: 0s - loss: 0.1173 - mean_absolute_error: 0.265 - ETA: 0s - loss: 0.1172 - mean_absolute_error: 0.265 - ETA: 0s - loss: 0.1189 - mean_absolute_error: 0.267 - 1s 1ms/step - loss: 0.1187 - mean_absolute_error: 0.2680\n",
      "Epoch 416/500\n",
      "500/500 [==============================] - ETA: 0s - loss: 0.0148 - mean_absolute_error: 0.121 - ETA: 0s - loss: 0.0953 - mean_absolute_error: 0.242 - ETA: 0s - loss: 0.0925 - mean_absolute_error: 0.249 - ETA: 0s - loss: 0.1203 - mean_absolute_error: 0.268 - ETA: 0s - loss: 0.1128 - mean_absolute_error: 0.263 - ETA: 0s - loss: 0.1195 - mean_absolute_error: 0.269 - ETA: 0s - loss: 0.1192 - mean_absolute_error: 0.269 - ETA: 0s - loss: 0.1226 - mean_absolute_error: 0.272 - ETA: 0s - loss: 0.1181 - mean_absolute_error: 0.266 - ETA: 0s - loss: 0.1180 - mean_absolute_error: 0.267 - ETA: 0s - loss: 0.1173 - mean_absolute_error: 0.267 - 1s 1ms/step - loss: 0.1164 - mean_absolute_error: 0.2667\n",
      "Epoch 417/500\n",
      "500/500 [==============================] - ETA: 1s - loss: 0.0728 - mean_absolute_error: 0.269 - ETA: 0s - loss: 0.1320 - mean_absolute_error: 0.307 - ETA: 0s - loss: 0.1254 - mean_absolute_error: 0.283 - ETA: 0s - loss: 0.1308 - mean_absolute_error: 0.287 - ETA: 0s - loss: 0.1223 - mean_absolute_error: 0.272 - ETA: 0s - loss: 0.1302 - mean_absolute_error: 0.282 - ETA: 0s - loss: 0.1309 - mean_absolute_error: 0.284 - ETA: 0s - loss: 0.1264 - mean_absolute_error: 0.278 - ETA: 0s - loss: 0.1263 - mean_absolute_error: 0.277 - ETA: 0s - loss: 0.1234 - mean_absolute_error: 0.273 - 0s 985us/step - loss: 0.1213 - mean_absolute_error: 0.2721\n",
      "Epoch 418/500\n",
      "500/500 [==============================] - ETA: 2s - loss: 0.0568 - mean_absolute_error: 0.238 - ETA: 0s - loss: 0.1091 - mean_absolute_error: 0.270 - ETA: 0s - loss: 0.1293 - mean_absolute_error: 0.293 - ETA: 0s - loss: 0.1125 - mean_absolute_error: 0.270 - ETA: 0s - loss: 0.1089 - mean_absolute_error: 0.265 - ETA: 0s - loss: 0.1166 - mean_absolute_error: 0.269 - ETA: 0s - loss: 0.1102 - mean_absolute_error: 0.261 - ETA: 0s - loss: 0.1086 - mean_absolute_error: 0.259 - ETA: 0s - loss: 0.1168 - mean_absolute_error: 0.268 - ETA: 0s - loss: 0.1169 - mean_absolute_error: 0.267 - 0s 961us/step - loss: 0.1157 - mean_absolute_error: 0.2658\n",
      "Epoch 419/500\n",
      "500/500 [==============================] - ETA: 1s - loss: 0.0381 - mean_absolute_error: 0.195 - ETA: 0s - loss: 0.1872 - mean_absolute_error: 0.330 - ETA: 0s - loss: 0.1862 - mean_absolute_error: 0.331 - ETA: 0s - loss: 0.1469 - mean_absolute_error: 0.291 - ETA: 0s - loss: 0.1364 - mean_absolute_error: 0.279 - ETA: 0s - loss: 0.1222 - mean_absolute_error: 0.266 - ETA: 0s - loss: 0.1177 - mean_absolute_error: 0.263 - ETA: 0s - loss: 0.1156 - mean_absolute_error: 0.263 - ETA: 0s - loss: 0.1190 - mean_absolute_error: 0.269 - ETA: 0s - loss: 0.1168 - mean_absolute_error: 0.266 - 0s 965us/step - loss: 0.1167 - mean_absolute_error: 0.2664\n",
      "Epoch 420/500\n",
      "500/500 [==============================] - ETA: 0s - loss: 0.2234 - mean_absolute_error: 0.472 - ETA: 0s - loss: 0.0982 - mean_absolute_error: 0.240 - ETA: 0s - loss: 0.1218 - mean_absolute_error: 0.267 - ETA: 0s - loss: 0.1244 - mean_absolute_error: 0.268 - ETA: 0s - loss: 0.1262 - mean_absolute_error: 0.273 - ETA: 0s - loss: 0.1203 - mean_absolute_error: 0.268 - ETA: 0s - loss: 0.1175 - mean_absolute_error: 0.267 - ETA: 0s - loss: 0.1173 - mean_absolute_error: 0.267 - ETA: 0s - loss: 0.1168 - mean_absolute_error: 0.268 - ETA: 0s - loss: 0.1219 - mean_absolute_error: 0.274 - 0s 974us/step - loss: 0.1201 - mean_absolute_error: 0.2716\n",
      "Epoch 421/500\n",
      "500/500 [==============================] - ETA: 0s - loss: 0.3666 - mean_absolute_error: 0.605 - ETA: 0s - loss: 0.0742 - mean_absolute_error: 0.216 - ETA: 0s - loss: 0.0970 - mean_absolute_error: 0.241 - ETA: 0s - loss: 0.0998 - mean_absolute_error: 0.243 - ETA: 0s - loss: 0.1222 - mean_absolute_error: 0.267 - ETA: 0s - loss: 0.1250 - mean_absolute_error: 0.273 - ETA: 0s - loss: 0.1265 - mean_absolute_error: 0.275 - ETA: 0s - loss: 0.1195 - mean_absolute_error: 0.267 - ETA: 0s - loss: 0.1186 - mean_absolute_error: 0.264 - 0s 905us/step - loss: 0.1166 - mean_absolute_error: 0.2621\n",
      "Epoch 422/500\n",
      "500/500 [==============================] - ETA: 0s - loss: 0.4219 - mean_absolute_error: 0.649 - ETA: 0s - loss: 0.1448 - mean_absolute_error: 0.278 - ETA: 0s - loss: 0.1179 - mean_absolute_error: 0.260 - ETA: 0s - loss: 0.1186 - mean_absolute_error: 0.262 - ETA: 0s - loss: 0.1099 - mean_absolute_error: 0.253 - ETA: 0s - loss: 0.1243 - mean_absolute_error: 0.270 - ETA: 0s - loss: 0.1232 - mean_absolute_error: 0.270 - ETA: 0s - loss: 0.1210 - mean_absolute_error: 0.266 - ETA: 0s - loss: 0.1180 - mean_absolute_error: 0.264 - ETA: 0s - loss: 0.1185 - mean_absolute_error: 0.266 - 0s 944us/step - loss: 0.1204 - mean_absolute_error: 0.2683\n",
      "Epoch 423/500\n",
      "500/500 [==============================] - ETA: 0s - loss: 0.0093 - mean_absolute_error: 0.096 - ETA: 0s - loss: 0.1216 - mean_absolute_error: 0.288 - ETA: 0s - loss: 0.1214 - mean_absolute_error: 0.283 - ETA: 0s - loss: 0.1142 - mean_absolute_error: 0.270 - ETA: 0s - loss: 0.1108 - mean_absolute_error: 0.267 - ETA: 0s - loss: 0.1101 - mean_absolute_error: 0.266 - ETA: 0s - loss: 0.1130 - mean_absolute_error: 0.267 - ETA: 0s - loss: 0.1118 - mean_absolute_error: 0.264 - ETA: 0s - loss: 0.1151 - mean_absolute_error: 0.269 - ETA: 0s - loss: 0.1183 - mean_absolute_error: 0.270 - 0s 935us/step - loss: 0.1180 - mean_absolute_error: 0.2705\n",
      "Epoch 424/500\n",
      "500/500 [==============================] - ETA: 0s - loss: 0.0029 - mean_absolute_error: 0.053 - ETA: 0s - loss: 0.0834 - mean_absolute_error: 0.218 - ETA: 0s - loss: 0.1100 - mean_absolute_error: 0.256 - ETA: 0s - loss: 0.1035 - mean_absolute_error: 0.252 - ETA: 0s - loss: 0.1148 - mean_absolute_error: 0.263 - ETA: 0s - loss: 0.1134 - mean_absolute_error: 0.267 - ETA: 0s - loss: 0.1111 - mean_absolute_error: 0.263 - ETA: 0s - loss: 0.1087 - mean_absolute_error: 0.259 - ETA: 0s - loss: 0.1133 - mean_absolute_error: 0.263 - ETA: 0s - loss: 0.1172 - mean_absolute_error: 0.267 - 0s 944us/step - loss: 0.1170 - mean_absolute_error: 0.2672\n",
      "Epoch 425/500\n",
      "500/500 [==============================] - ETA: 0s - loss: 0.0606 - mean_absolute_error: 0.246 - ETA: 0s - loss: 0.1361 - mean_absolute_error: 0.291 - ETA: 0s - loss: 0.0988 - mean_absolute_error: 0.243 - ETA: 0s - loss: 0.1073 - mean_absolute_error: 0.253 - ETA: 0s - loss: 0.1140 - mean_absolute_error: 0.258 - ETA: 0s - loss: 0.1101 - mean_absolute_error: 0.258 - ETA: 0s - loss: 0.1089 - mean_absolute_error: 0.260 - ETA: 0s - loss: 0.1172 - mean_absolute_error: 0.265 - ETA: 0s - loss: 0.1147 - mean_absolute_error: 0.262 - ETA: 0s - loss: 0.1183 - mean_absolute_error: 0.267 - 0s 966us/step - loss: 0.1225 - mean_absolute_error: 0.2726\n",
      "Epoch 426/500\n",
      "500/500 [==============================] - ETA: 0s - loss: 4.3549e-04 - mean_absolute_error: 0.020 - ETA: 0s - loss: 0.0470 - mean_absolute_error: 0.1799    - ETA: 0s - loss: 0.0846 - mean_absolute_error: 0.223 - ETA: 0s - loss: 0.1212 - mean_absolute_error: 0.269 - ETA: 0s - loss: 0.1264 - mean_absolute_error: 0.272 - ETA: 0s - loss: 0.1352 - mean_absolute_error: 0.283 - ETA: 0s - loss: 0.1272 - mean_absolute_error: 0.274 - ETA: 0s - loss: 0.1253 - mean_absolute_error: 0.275 - ETA: 0s - loss: 0.1222 - mean_absolute_error: 0.275 - ETA: 0s - loss: 0.1196 - mean_absolute_error: 0.271 - 0s 939us/step - loss: 0.1191 - mean_absolute_error: 0.2707\n",
      "Epoch 427/500\n",
      "500/500 [==============================] - ETA: 1s - loss: 0.1250 - mean_absolute_error: 0.353 - ETA: 0s - loss: 0.1085 - mean_absolute_error: 0.262 - ETA: 0s - loss: 0.1271 - mean_absolute_error: 0.286 - ETA: 0s - loss: 0.1416 - mean_absolute_error: 0.301 - ETA: 0s - loss: 0.1323 - mean_absolute_error: 0.287 - ETA: 0s - loss: 0.1330 - mean_absolute_error: 0.285 - ETA: 0s - loss: 0.1289 - mean_absolute_error: 0.280 - ETA: 0s - loss: 0.1254 - mean_absolute_error: 0.273 - ETA: 0s - loss: 0.1267 - mean_absolute_error: 0.277 - ETA: 0s - loss: 0.1227 - mean_absolute_error: 0.274 - 0s 948us/step - loss: 0.1208 - mean_absolute_error: 0.2727\n",
      "Epoch 428/500\n",
      "500/500 [==============================] - ETA: 0s - loss: 0.0528 - mean_absolute_error: 0.229 - ETA: 0s - loss: 0.1330 - mean_absolute_error: 0.294 - ETA: 0s - loss: 0.1283 - mean_absolute_error: 0.287 - ETA: 0s - loss: 0.1252 - mean_absolute_error: 0.283 - ETA: 0s - loss: 0.1201 - mean_absolute_error: 0.276 - ETA: 0s - loss: 0.1237 - mean_absolute_error: 0.277 - ETA: 0s - loss: 0.1228 - mean_absolute_error: 0.276 - ETA: 0s - loss: 0.1231 - mean_absolute_error: 0.277 - ETA: 0s - loss: 0.1176 - mean_absolute_error: 0.270 - 0s 913us/step - loss: 0.1151 - mean_absolute_error: 0.2691\n",
      "Epoch 429/500\n",
      "500/500 [==============================] - ETA: 0s - loss: 0.0056 - mean_absolute_error: 0.074 - ETA: 0s - loss: 0.0801 - mean_absolute_error: 0.217 - ETA: 0s - loss: 0.1015 - mean_absolute_error: 0.249 - ETA: 0s - loss: 0.1105 - mean_absolute_error: 0.263 - ETA: 0s - loss: 0.1173 - mean_absolute_error: 0.274 - ETA: 0s - loss: 0.1193 - mean_absolute_error: 0.278 - ETA: 0s - loss: 0.1192 - mean_absolute_error: 0.275 - ETA: 0s - loss: 0.1223 - mean_absolute_error: 0.275 - ETA: 0s - loss: 0.1195 - mean_absolute_error: 0.271 - ETA: 0s - loss: 0.1198 - mean_absolute_error: 0.272 - 0s 938us/step - loss: 0.1197 - mean_absolute_error: 0.2726\n",
      "Epoch 430/500\n",
      "500/500 [==============================] - ETA: 0s - loss: 0.0038 - mean_absolute_error: 0.061 - ETA: 0s - loss: 0.1633 - mean_absolute_error: 0.322 - ETA: 0s - loss: 0.1365 - mean_absolute_error: 0.294 - ETA: 0s - loss: 0.1139 - mean_absolute_error: 0.258 - ETA: 0s - loss: 0.1237 - mean_absolute_error: 0.270 - ETA: 0s - loss: 0.1320 - mean_absolute_error: 0.279 - ETA: 0s - loss: 0.1332 - mean_absolute_error: 0.286 - ETA: 0s - loss: 0.1273 - mean_absolute_error: 0.280 - ETA: 0s - loss: 0.1234 - mean_absolute_error: 0.275 - 0s 903us/step - loss: 0.1215 - mean_absolute_error: 0.2736\n",
      "Epoch 431/500\n",
      "500/500 [==============================] - ETA: 0s - loss: 0.0125 - mean_absolute_error: 0.111 - ETA: 0s - loss: 0.1441 - mean_absolute_error: 0.304 - ETA: 0s - loss: 0.1273 - mean_absolute_error: 0.284 - ETA: 0s - loss: 0.1253 - mean_absolute_error: 0.278 - ETA: 0s - loss: 0.1164 - mean_absolute_error: 0.269 - ETA: 0s - loss: 0.1129 - mean_absolute_error: 0.264 - ETA: 0s - loss: 0.1176 - mean_absolute_error: 0.268 - ETA: 0s - loss: 0.1179 - mean_absolute_error: 0.267 - ETA: 0s - loss: 0.1217 - mean_absolute_error: 0.269 - ETA: 0s - loss: 0.1214 - mean_absolute_error: 0.268 - 0s 939us/step - loss: 0.1211 - mean_absolute_error: 0.2688\n",
      "Epoch 432/500\n",
      "500/500 [==============================] - ETA: 0s - loss: 0.0513 - mean_absolute_error: 0.226 - ETA: 0s - loss: 0.0528 - mean_absolute_error: 0.179 - ETA: 0s - loss: 0.0953 - mean_absolute_error: 0.236 - ETA: 0s - loss: 0.1070 - mean_absolute_error: 0.252 - ETA: 0s - loss: 0.1190 - mean_absolute_error: 0.267 - ETA: 0s - loss: 0.1213 - mean_absolute_error: 0.271 - ETA: 0s - loss: 0.1237 - mean_absolute_error: 0.276 - ETA: 0s - loss: 0.1221 - mean_absolute_error: 0.277 - ETA: 0s - loss: 0.1201 - mean_absolute_error: 0.276 - ETA: 0s - loss: 0.1201 - mean_absolute_error: 0.277 - 0s 942us/step - loss: 0.1182 - mean_absolute_error: 0.2743\n",
      "Epoch 433/500\n",
      "500/500 [==============================] - ETA: 0s - loss: 0.1487 - mean_absolute_error: 0.385 - ETA: 0s - loss: 0.1149 - mean_absolute_error: 0.246 - ETA: 0s - loss: 0.1346 - mean_absolute_error: 0.274 - ETA: 0s - loss: 0.1192 - mean_absolute_error: 0.263 - ETA: 0s - loss: 0.1096 - mean_absolute_error: 0.253 - ETA: 0s - loss: 0.1098 - mean_absolute_error: 0.250 - ETA: 0s - loss: 0.1112 - mean_absolute_error: 0.253 - ETA: 0s - loss: 0.1146 - mean_absolute_error: 0.260 - ETA: 0s - loss: 0.1145 - mean_absolute_error: 0.261 - 0s 891us/step - loss: 0.1147 - mean_absolute_error: 0.2635\n",
      "Epoch 434/500\n"
     ]
    },
    {
     "name": "stdout",
     "output_type": "stream",
     "text": [
      "500/500 [==============================] - ETA: 0s - loss: 1.9286e-04 - mean_absolute_error: 0.013 - ETA: 0s - loss: 0.1094 - mean_absolute_error: 0.2567    - ETA: 0s - loss: 0.1284 - mean_absolute_error: 0.278 - ETA: 0s - loss: 0.1129 - mean_absolute_error: 0.261 - ETA: 0s - loss: 0.0992 - mean_absolute_error: 0.241 - ETA: 0s - loss: 0.1044 - mean_absolute_error: 0.251 - ETA: 0s - loss: 0.1138 - mean_absolute_error: 0.260 - ETA: 0s - loss: 0.1183 - mean_absolute_error: 0.265 - ETA: 0s - loss: 0.1190 - mean_absolute_error: 0.267 - 0s 891us/step - loss: 0.1175 - mean_absolute_error: 0.2671\n",
      "Epoch 435/500\n",
      "500/500 [==============================] - ETA: 0s - loss: 0.1007 - mean_absolute_error: 0.317 - ETA: 0s - loss: 0.1435 - mean_absolute_error: 0.295 - ETA: 0s - loss: 0.1258 - mean_absolute_error: 0.278 - ETA: 0s - loss: 0.1323 - mean_absolute_error: 0.290 - ETA: 0s - loss: 0.1345 - mean_absolute_error: 0.290 - ETA: 0s - loss: 0.1320 - mean_absolute_error: 0.288 - ETA: 0s - loss: 0.1244 - mean_absolute_error: 0.279 - ETA: 0s - loss: 0.1229 - mean_absolute_error: 0.277 - ETA: 0s - loss: 0.1224 - mean_absolute_error: 0.275 - ETA: 0s - loss: 0.1215 - mean_absolute_error: 0.275 - 0s 958us/step - loss: 0.1218 - mean_absolute_error: 0.2742\n",
      "Epoch 436/500\n",
      "500/500 [==============================] - ETA: 0s - loss: 0.0349 - mean_absolute_error: 0.186 - ETA: 0s - loss: 0.1105 - mean_absolute_error: 0.264 - ETA: 0s - loss: 0.1019 - mean_absolute_error: 0.258 - ETA: 0s - loss: 0.1046 - mean_absolute_error: 0.261 - ETA: 0s - loss: 0.1225 - mean_absolute_error: 0.275 - ETA: 0s - loss: 0.1280 - mean_absolute_error: 0.280 - ETA: 0s - loss: 0.1264 - mean_absolute_error: 0.280 - ETA: 0s - loss: 0.1295 - mean_absolute_error: 0.283 - ETA: 0s - loss: 0.1244 - mean_absolute_error: 0.276 - ETA: 0s - loss: 0.1215 - mean_absolute_error: 0.272 - 0s 941us/step - loss: 0.1210 - mean_absolute_error: 0.2718\n",
      "Epoch 437/500\n",
      "500/500 [==============================] - ETA: 0s - loss: 0.0151 - mean_absolute_error: 0.122 - ETA: 0s - loss: 0.1737 - mean_absolute_error: 0.298 - ETA: 0s - loss: 0.1575 - mean_absolute_error: 0.304 - ETA: 0s - loss: 0.1387 - mean_absolute_error: 0.286 - ETA: 0s - loss: 0.1247 - mean_absolute_error: 0.267 - ETA: 0s - loss: 0.1240 - mean_absolute_error: 0.267 - ETA: 0s - loss: 0.1226 - mean_absolute_error: 0.268 - ETA: 0s - loss: 0.1257 - mean_absolute_error: 0.271 - ETA: 0s - loss: 0.1262 - mean_absolute_error: 0.273 - ETA: 0s - loss: 0.1230 - mean_absolute_error: 0.270 - 0s 950us/step - loss: 0.1206 - mean_absolute_error: 0.2671\n",
      "Epoch 438/500\n",
      "500/500 [==============================] - ETA: 0s - loss: 0.0293 - mean_absolute_error: 0.171 - ETA: 0s - loss: 0.1372 - mean_absolute_error: 0.273 - ETA: 0s - loss: 0.1283 - mean_absolute_error: 0.277 - ETA: 0s - loss: 0.1188 - mean_absolute_error: 0.265 - ETA: 0s - loss: 0.1204 - mean_absolute_error: 0.260 - ETA: 0s - loss: 0.1167 - mean_absolute_error: 0.261 - ETA: 0s - loss: 0.1082 - mean_absolute_error: 0.249 - ETA: 0s - loss: 0.1080 - mean_absolute_error: 0.252 - ETA: 0s - loss: 0.1158 - mean_absolute_error: 0.260 - ETA: 0s - loss: 0.1147 - mean_absolute_error: 0.260 - 0s 940us/step - loss: 0.1182 - mean_absolute_error: 0.2642\n",
      "Epoch 439/500\n",
      "500/500 [==============================] - ETA: 1s - loss: 0.0807 - mean_absolute_error: 0.284 - ETA: 0s - loss: 0.1183 - mean_absolute_error: 0.279 - ETA: 0s - loss: 0.1321 - mean_absolute_error: 0.297 - ETA: 0s - loss: 0.1284 - mean_absolute_error: 0.286 - ETA: 0s - loss: 0.1275 - mean_absolute_error: 0.282 - ETA: 0s - loss: 0.1297 - mean_absolute_error: 0.287 - ETA: 0s - loss: 0.1232 - mean_absolute_error: 0.281 - ETA: 0s - loss: 0.1230 - mean_absolute_error: 0.277 - ETA: 0s - loss: 0.1202 - mean_absolute_error: 0.273 - ETA: 0s - loss: 0.1185 - mean_absolute_error: 0.273 - 0s 936us/step - loss: 0.1200 - mean_absolute_error: 0.2753\n",
      "Epoch 440/500\n",
      "500/500 [==============================] - ETA: 0s - loss: 0.0540 - mean_absolute_error: 0.232 - ETA: 0s - loss: 0.0966 - mean_absolute_error: 0.250 - ETA: 0s - loss: 0.1114 - mean_absolute_error: 0.258 - ETA: 0s - loss: 0.1150 - mean_absolute_error: 0.265 - ETA: 0s - loss: 0.1116 - mean_absolute_error: 0.260 - ETA: 0s - loss: 0.1226 - mean_absolute_error: 0.273 - ETA: 0s - loss: 0.1248 - mean_absolute_error: 0.274 - ETA: 0s - loss: 0.1243 - mean_absolute_error: 0.273 - ETA: 0s - loss: 0.1190 - mean_absolute_error: 0.267 - ETA: 0s - loss: 0.1186 - mean_absolute_error: 0.265 - 0s 936us/step - loss: 0.1183 - mean_absolute_error: 0.2657\n",
      "Epoch 441/500\n",
      "500/500 [==============================] - ETA: 0s - loss: 0.0026 - mean_absolute_error: 0.051 - ETA: 0s - loss: 0.1526 - mean_absolute_error: 0.324 - ETA: 0s - loss: 0.1232 - mean_absolute_error: 0.277 - ETA: 0s - loss: 0.1242 - mean_absolute_error: 0.276 - ETA: 0s - loss: 0.1297 - mean_absolute_error: 0.285 - ETA: 0s - loss: 0.1225 - mean_absolute_error: 0.278 - ETA: 0s - loss: 0.1242 - mean_absolute_error: 0.276 - ETA: 0s - loss: 0.1209 - mean_absolute_error: 0.273 - ETA: 0s - loss: 0.1223 - mean_absolute_error: 0.273 - 0s 904us/step - loss: 0.1176 - mean_absolute_error: 0.2688\n",
      "Epoch 442/500\n",
      "500/500 [==============================] - ETA: 0s - loss: 0.0844 - mean_absolute_error: 0.290 - ETA: 0s - loss: 0.1162 - mean_absolute_error: 0.266 - ETA: 0s - loss: 0.1138 - mean_absolute_error: 0.262 - ETA: 0s - loss: 0.1032 - mean_absolute_error: 0.247 - ETA: 0s - loss: 0.1049 - mean_absolute_error: 0.251 - ETA: 0s - loss: 0.1085 - mean_absolute_error: 0.259 - ETA: 0s - loss: 0.1044 - mean_absolute_error: 0.255 - ETA: 0s - loss: 0.1145 - mean_absolute_error: 0.267 - ETA: 0s - loss: 0.1191 - mean_absolute_error: 0.271 - ETA: 0s - loss: 0.1217 - mean_absolute_error: 0.274 - 0s 927us/step - loss: 0.1215 - mean_absolute_error: 0.2737\n",
      "Epoch 443/500\n",
      "500/500 [==============================] - ETA: 0s - loss: 0.0083 - mean_absolute_error: 0.091 - ETA: 0s - loss: 0.1091 - mean_absolute_error: 0.238 - ETA: 0s - loss: 0.1267 - mean_absolute_error: 0.272 - ETA: 0s - loss: 0.1222 - mean_absolute_error: 0.267 - ETA: 0s - loss: 0.1138 - mean_absolute_error: 0.256 - ETA: 0s - loss: 0.1156 - mean_absolute_error: 0.260 - ETA: 0s - loss: 0.1158 - mean_absolute_error: 0.261 - ETA: 0s - loss: 0.1184 - mean_absolute_error: 0.265 - ETA: 0s - loss: 0.1165 - mean_absolute_error: 0.264 - ETA: 0s - loss: 0.1176 - mean_absolute_error: 0.267 - 0s 927us/step - loss: 0.1175 - mean_absolute_error: 0.2671\n",
      "Epoch 444/500\n",
      "500/500 [==============================] - ETA: 0s - loss: 0.0022 - mean_absolute_error: 0.046 - ETA: 0s - loss: 0.1334 - mean_absolute_error: 0.273 - ETA: 0s - loss: 0.1087 - mean_absolute_error: 0.253 - ETA: 0s - loss: 0.1161 - mean_absolute_error: 0.256 - ETA: 0s - loss: 0.1140 - mean_absolute_error: 0.258 - ETA: 0s - loss: 0.1136 - mean_absolute_error: 0.255 - ETA: 0s - loss: 0.1157 - mean_absolute_error: 0.258 - ETA: 0s - loss: 0.1170 - mean_absolute_error: 0.260 - ETA: 0s - loss: 0.1206 - mean_absolute_error: 0.265 - 0s 903us/step - loss: 0.1219 - mean_absolute_error: 0.2682\n",
      "Epoch 445/500\n",
      "500/500 [==============================] - ETA: 0s - loss: 0.0129 - mean_absolute_error: 0.113 - ETA: 0s - loss: 0.1238 - mean_absolute_error: 0.274 - ETA: 0s - loss: 0.1123 - mean_absolute_error: 0.260 - ETA: 0s - loss: 0.1297 - mean_absolute_error: 0.282 - ETA: 0s - loss: 0.1207 - mean_absolute_error: 0.270 - ETA: 0s - loss: 0.1201 - mean_absolute_error: 0.269 - ETA: 0s - loss: 0.1205 - mean_absolute_error: 0.268 - ETA: 0s - loss: 0.1222 - mean_absolute_error: 0.271 - ETA: 0s - loss: 0.1202 - mean_absolute_error: 0.269 - 0s 895us/step - loss: 0.1199 - mean_absolute_error: 0.2683\n",
      "Epoch 446/500\n",
      "500/500 [==============================] - ETA: 0s - loss: 0.0423 - mean_absolute_error: 0.205 - ETA: 0s - loss: 0.1038 - mean_absolute_error: 0.256 - ETA: 0s - loss: 0.1253 - mean_absolute_error: 0.274 - ETA: 0s - loss: 0.1179 - mean_absolute_error: 0.268 - ETA: 0s - loss: 0.1181 - mean_absolute_error: 0.271 - ETA: 0s - loss: 0.1183 - mean_absolute_error: 0.270 - ETA: 0s - loss: 0.1254 - mean_absolute_error: 0.275 - ETA: 0s - loss: 0.1271 - mean_absolute_error: 0.279 - ETA: 0s - loss: 0.1193 - mean_absolute_error: 0.270 - 0s 899us/step - loss: 0.1184 - mean_absolute_error: 0.2692\n"
     ]
    },
    {
     "name": "stdout",
     "output_type": "stream",
     "text": [
      "Epoch 447/500\n",
      "500/500 [==============================] - ETA: 0s - loss: 0.4302 - mean_absolute_error: 0.655 - ETA: 0s - loss: 0.1121 - mean_absolute_error: 0.255 - ETA: 0s - loss: 0.1119 - mean_absolute_error: 0.263 - ETA: 0s - loss: 0.1214 - mean_absolute_error: 0.271 - ETA: 0s - loss: 0.1273 - mean_absolute_error: 0.274 - ETA: 0s - loss: 0.1222 - mean_absolute_error: 0.268 - ETA: 0s - loss: 0.1217 - mean_absolute_error: 0.269 - ETA: 0s - loss: 0.1197 - mean_absolute_error: 0.267 - ETA: 0s - loss: 0.1203 - mean_absolute_error: 0.267 - ETA: 0s - loss: 0.1163 - mean_absolute_error: 0.262 - 0s 940us/step - loss: 0.1161 - mean_absolute_error: 0.2628\n",
      "Epoch 448/500\n",
      "500/500 [==============================] - ETA: 2s - loss: 0.0538 - mean_absolute_error: 0.231 - ETA: 0s - loss: 0.1375 - mean_absolute_error: 0.288 - ETA: 0s - loss: 0.1309 - mean_absolute_error: 0.287 - ETA: 0s - loss: 0.1280 - mean_absolute_error: 0.284 - ETA: 0s - loss: 0.1252 - mean_absolute_error: 0.279 - ETA: 0s - loss: 0.1194 - mean_absolute_error: 0.271 - ETA: 0s - loss: 0.1198 - mean_absolute_error: 0.271 - ETA: 0s - loss: 0.1219 - mean_absolute_error: 0.274 - ETA: 0s - loss: 0.1205 - mean_absolute_error: 0.272 - ETA: 0s - loss: 0.1211 - mean_absolute_error: 0.273 - 0s 955us/step - loss: 0.1201 - mean_absolute_error: 0.2725\n",
      "Epoch 449/500\n",
      "500/500 [==============================] - ETA: 0s - loss: 0.0441 - mean_absolute_error: 0.210 - ETA: 0s - loss: 0.1258 - mean_absolute_error: 0.263 - ETA: 0s - loss: 0.1092 - mean_absolute_error: 0.251 - ETA: 0s - loss: 0.1079 - mean_absolute_error: 0.243 - ETA: 0s - loss: 0.1145 - mean_absolute_error: 0.254 - ETA: 0s - loss: 0.1119 - mean_absolute_error: 0.254 - ETA: 0s - loss: 0.1132 - mean_absolute_error: 0.256 - ETA: 0s - loss: 0.1182 - mean_absolute_error: 0.262 - ETA: 0s - loss: 0.1184 - mean_absolute_error: 0.262 - ETA: 0s - loss: 0.1181 - mean_absolute_error: 0.262 - 0s 938us/step - loss: 0.1187 - mean_absolute_error: 0.2631\n",
      "Epoch 450/500\n",
      "500/500 [==============================] - ETA: 0s - loss: 0.0363 - mean_absolute_error: 0.190 - ETA: 0s - loss: 0.1399 - mean_absolute_error: 0.283 - ETA: 0s - loss: 0.1214 - mean_absolute_error: 0.265 - ETA: 0s - loss: 0.1330 - mean_absolute_error: 0.282 - ETA: 0s - loss: 0.1328 - mean_absolute_error: 0.283 - ETA: 0s - loss: 0.1285 - mean_absolute_error: 0.279 - ETA: 0s - loss: 0.1207 - mean_absolute_error: 0.271 - ETA: 0s - loss: 0.1200 - mean_absolute_error: 0.272 - ETA: 0s - loss: 0.1164 - mean_absolute_error: 0.268 - ETA: 0s - loss: 0.1174 - mean_absolute_error: 0.267 - 0s 957us/step - loss: 0.1185 - mean_absolute_error: 0.2689\n",
      "Epoch 451/500\n",
      "500/500 [==============================] - ETA: 1s - loss: 0.0703 - mean_absolute_error: 0.265 - ETA: 0s - loss: 0.1372 - mean_absolute_error: 0.282 - ETA: 0s - loss: 0.1106 - mean_absolute_error: 0.256 - ETA: 0s - loss: 0.1263 - mean_absolute_error: 0.278 - ETA: 0s - loss: 0.1215 - mean_absolute_error: 0.270 - ETA: 0s - loss: 0.1227 - mean_absolute_error: 0.275 - ETA: 0s - loss: 0.1150 - mean_absolute_error: 0.267 - ETA: 0s - loss: 0.1152 - mean_absolute_error: 0.267 - ETA: 0s - loss: 0.1141 - mean_absolute_error: 0.265 - ETA: 0s - loss: 0.1136 - mean_absolute_error: 0.265 - 0s 942us/step - loss: 0.1160 - mean_absolute_error: 0.2676\n",
      "Epoch 452/500\n",
      "500/500 [==============================] - ETA: 0s - loss: 0.0176 - mean_absolute_error: 0.132 - ETA: 0s - loss: 0.0628 - mean_absolute_error: 0.199 - ETA: 0s - loss: 0.0879 - mean_absolute_error: 0.232 - ETA: 0s - loss: 0.1013 - mean_absolute_error: 0.257 - ETA: 0s - loss: 0.1096 - mean_absolute_error: 0.263 - ETA: 0s - loss: 0.1158 - mean_absolute_error: 0.270 - ETA: 0s - loss: 0.1166 - mean_absolute_error: 0.271 - ETA: 0s - loss: 0.1200 - mean_absolute_error: 0.276 - ETA: 0s - loss: 0.1233 - mean_absolute_error: 0.279 - ETA: 0s - loss: 0.1181 - mean_absolute_error: 0.272 - 0s 967us/step - loss: 0.1197 - mean_absolute_error: 0.2728\n",
      "Epoch 453/500\n",
      "500/500 [==============================] - ETA: 3s - loss: 0.0070 - mean_absolute_error: 0.083 - ETA: 0s - loss: 0.0755 - mean_absolute_error: 0.207 - ETA: 0s - loss: 0.0816 - mean_absolute_error: 0.226 - ETA: 0s - loss: 0.1044 - mean_absolute_error: 0.255 - ETA: 0s - loss: 0.1097 - mean_absolute_error: 0.261 - ETA: 0s - loss: 0.1093 - mean_absolute_error: 0.258 - ETA: 0s - loss: 0.1140 - mean_absolute_error: 0.261 - ETA: 0s - loss: 0.1144 - mean_absolute_error: 0.259 - ETA: 0s - loss: 0.1138 - mean_absolute_error: 0.259 - 0s 923us/step - loss: 0.1132 - mean_absolute_error: 0.2617\n",
      "Epoch 454/500\n",
      "500/500 [==============================] - ETA: 0s - loss: 0.0181 - mean_absolute_error: 0.134 - ETA: 0s - loss: 0.0892 - mean_absolute_error: 0.232 - ETA: 0s - loss: 0.0963 - mean_absolute_error: 0.240 - ETA: 0s - loss: 0.1095 - mean_absolute_error: 0.256 - ETA: 0s - loss: 0.1136 - mean_absolute_error: 0.262 - ETA: 0s - loss: 0.1192 - mean_absolute_error: 0.269 - ETA: 0s - loss: 0.1191 - mean_absolute_error: 0.271 - ETA: 0s - loss: 0.1165 - mean_absolute_error: 0.265 - ETA: 0s - loss: 0.1171 - mean_absolute_error: 0.266 - ETA: 0s - loss: 0.1172 - mean_absolute_error: 0.267 - 0s 929us/step - loss: 0.1167 - mean_absolute_error: 0.2667\n",
      "Epoch 455/500\n",
      "500/500 [==============================] - ETA: 0s - loss: 0.1636 - mean_absolute_error: 0.404 - ETA: 0s - loss: 0.1148 - mean_absolute_error: 0.262 - ETA: 0s - loss: 0.1250 - mean_absolute_error: 0.269 - ETA: 0s - loss: 0.1123 - mean_absolute_error: 0.257 - ETA: 0s - loss: 0.1295 - mean_absolute_error: 0.276 - ETA: 0s - loss: 0.1224 - mean_absolute_error: 0.272 - ETA: 0s - loss: 0.1192 - mean_absolute_error: 0.269 - ETA: 0s - loss: 0.1164 - mean_absolute_error: 0.267 - ETA: 0s - loss: 0.1164 - mean_absolute_error: 0.264 - ETA: 0s - loss: 0.1158 - mean_absolute_error: 0.265 - 0s 965us/step - loss: 0.1202 - mean_absolute_error: 0.2684\n",
      "Epoch 456/500\n",
      "500/500 [==============================] - ETA: 0s - loss: 0.2775 - mean_absolute_error: 0.526 - ETA: 0s - loss: 0.1183 - mean_absolute_error: 0.270 - ETA: 0s - loss: 0.1232 - mean_absolute_error: 0.274 - ETA: 0s - loss: 0.1238 - mean_absolute_error: 0.275 - ETA: 0s - loss: 0.1179 - mean_absolute_error: 0.268 - ETA: 0s - loss: 0.1144 - mean_absolute_error: 0.264 - ETA: 0s - loss: 0.1162 - mean_absolute_error: 0.266 - ETA: 0s - loss: 0.1158 - mean_absolute_error: 0.267 - ETA: 0s - loss: 0.1136 - mean_absolute_error: 0.265 - 0s 914us/step - loss: 0.1163 - mean_absolute_error: 0.2683\n",
      "Epoch 457/500\n",
      "500/500 [==============================] - ETA: 0s - loss: 0.0128 - mean_absolute_error: 0.113 - ETA: 0s - loss: 0.0774 - mean_absolute_error: 0.223 - ETA: 0s - loss: 0.0901 - mean_absolute_error: 0.246 - ETA: 0s - loss: 0.0948 - mean_absolute_error: 0.251 - ETA: 0s - loss: 0.1037 - mean_absolute_error: 0.254 - ETA: 0s - loss: 0.1048 - mean_absolute_error: 0.256 - ETA: 0s - loss: 0.1054 - mean_absolute_error: 0.255 - ETA: 0s - loss: 0.1107 - mean_absolute_error: 0.258 - ETA: 0s - loss: 0.1109 - mean_absolute_error: 0.260 - 0s 902us/step - loss: 0.1172 - mean_absolute_error: 0.2686\n",
      "Epoch 458/500\n",
      "500/500 [==============================] - ETA: 0s - loss: 0.0153 - mean_absolute_error: 0.123 - ETA: 0s - loss: 0.1418 - mean_absolute_error: 0.308 - ETA: 0s - loss: 0.1245 - mean_absolute_error: 0.284 - ETA: 0s - loss: 0.1202 - mean_absolute_error: 0.282 - ETA: 0s - loss: 0.1153 - mean_absolute_error: 0.273 - ETA: 0s - loss: 0.1062 - mean_absolute_error: 0.259 - ETA: 0s - loss: 0.1092 - mean_absolute_error: 0.261 - ETA: 0s - loss: 0.1070 - mean_absolute_error: 0.260 - ETA: 0s - loss: 0.1139 - mean_absolute_error: 0.267 - 0s 906us/step - loss: 0.1189 - mean_absolute_error: 0.2745\n",
      "Epoch 459/500\n",
      "500/500 [==============================] - ETA: 0s - loss: 0.2738 - mean_absolute_error: 0.523 - ETA: 0s - loss: 0.1234 - mean_absolute_error: 0.290 - ETA: 0s - loss: 0.1263 - mean_absolute_error: 0.291 - ETA: 0s - loss: 0.1237 - mean_absolute_error: 0.279 - ETA: 0s - loss: 0.1238 - mean_absolute_error: 0.279 - ETA: 0s - loss: 0.1137 - mean_absolute_error: 0.267 - ETA: 0s - loss: 0.1160 - mean_absolute_error: 0.268 - ETA: 0s - loss: 0.1187 - mean_absolute_error: 0.270 - ETA: 0s - loss: 0.1196 - mean_absolute_error: 0.272 - 0s 890us/step - loss: 0.1176 - mean_absolute_error: 0.2698\n",
      "Epoch 460/500\n",
      "500/500 [==============================] - ETA: 0s - loss: 0.0140 - mean_absolute_error: 0.118 - ETA: 0s - loss: 0.1010 - mean_absolute_error: 0.246 - ETA: 0s - loss: 0.1240 - mean_absolute_error: 0.270 - ETA: 0s - loss: 0.1176 - mean_absolute_error: 0.266 - ETA: 0s - loss: 0.1105 - mean_absolute_error: 0.259 - ETA: 0s - loss: 0.1093 - mean_absolute_error: 0.258 - ETA: 0s - loss: 0.1158 - mean_absolute_error: 0.265 - ETA: 0s - loss: 0.1142 - mean_absolute_error: 0.264 - ETA: 0s - loss: 0.1128 - mean_absolute_error: 0.264 - 0s 905us/step - loss: 0.1181 - mean_absolute_error: 0.2697\n",
      "Epoch 461/500\n",
      "500/500 [==============================] - ETA: 0s - loss: 1.3776e-05 - mean_absolute_error: 0.003 - ETA: 0s - loss: 0.1648 - mean_absolute_error: 0.3317    - ETA: 0s - loss: 0.1302 - mean_absolute_error: 0.291 - ETA: 0s - loss: 0.1175 - mean_absolute_error: 0.271 - ETA: 0s - loss: 0.1054 - mean_absolute_error: 0.256 - ETA: 0s - loss: 0.1121 - mean_absolute_error: 0.260 - ETA: 0s - loss: 0.1153 - mean_absolute_error: 0.264 - ETA: 0s - loss: 0.1153 - mean_absolute_error: 0.264 - ETA: 0s - loss: 0.1125 - mean_absolute_error: 0.260 - ETA: 0s - loss: 0.1140 - mean_absolute_error: 0.262 - 0s 946us/step - loss: 0.1160 - mean_absolute_error: 0.2655\n",
      "Epoch 462/500\n",
      "500/500 [==============================] - ETA: 1s - loss: 0.0102 - mean_absolute_error: 0.100 - ETA: 0s - loss: 0.1382 - mean_absolute_error: 0.296 - ETA: 0s - loss: 0.1146 - mean_absolute_error: 0.259 - ETA: 0s - loss: 0.1087 - mean_absolute_error: 0.252 - ETA: 0s - loss: 0.1288 - mean_absolute_error: 0.274 - ETA: 0s - loss: 0.1272 - mean_absolute_error: 0.272 - ETA: 0s - loss: 0.1257 - mean_absolute_error: 0.272 - ETA: 0s - loss: 0.1267 - mean_absolute_error: 0.275 - ETA: 0s - loss: 0.1223 - mean_absolute_error: 0.271 - ETA: 0s - loss: 0.1163 - mean_absolute_error: 0.265 - 0s 961us/step - loss: 0.1146 - mean_absolute_error: 0.2638\n",
      "Epoch 463/500\n",
      "500/500 [==============================] - ETA: 0s - loss: 0.0585 - mean_absolute_error: 0.241 - ETA: 0s - loss: 0.0782 - mean_absolute_error: 0.222 - ETA: 0s - loss: 0.1089 - mean_absolute_error: 0.259 - ETA: 0s - loss: 0.1011 - mean_absolute_error: 0.251 - ETA: 0s - loss: 0.1103 - mean_absolute_error: 0.259 - ETA: 0s - loss: 0.1128 - mean_absolute_error: 0.262 - ETA: 0s - loss: 0.1173 - mean_absolute_error: 0.268 - ETA: 0s - loss: 0.1182 - mean_absolute_error: 0.268 - ETA: 0s - loss: 0.1162 - mean_absolute_error: 0.265 - 0s 912us/step - loss: 0.1159 - mean_absolute_error: 0.2643\n",
      "Epoch 464/500\n",
      "500/500 [==============================] - ETA: 2s - loss: 9.2032e-04 - mean_absolute_error: 0.030 - ETA: 0s - loss: 0.1104 - mean_absolute_error: 0.2664    - ETA: 0s - loss: 0.1293 - mean_absolute_error: 0.281 - ETA: 0s - loss: 0.1219 - mean_absolute_error: 0.269 - ETA: 0s - loss: 0.1166 - mean_absolute_error: 0.263 - ETA: 0s - loss: 0.1165 - mean_absolute_error: 0.262 - ETA: 0s - loss: 0.1112 - mean_absolute_error: 0.257 - ETA: 0s - loss: 0.1157 - mean_absolute_error: 0.260 - ETA: 0s - loss: 0.1163 - mean_absolute_error: 0.262 - ETA: 0s - loss: 0.1183 - mean_absolute_error: 0.264 - ETA: 0s - loss: 0.1196 - mean_absolute_error: 0.267 - 1s 1ms/step - loss: 0.1209 - mean_absolute_error: 0.2688\n",
      "Epoch 465/500\n",
      "500/500 [==============================] - ETA: 1s - loss: 0.2564 - mean_absolute_error: 0.506 - ETA: 0s - loss: 0.1136 - mean_absolute_error: 0.270 - ETA: 0s - loss: 0.0951 - mean_absolute_error: 0.239 - ETA: 0s - loss: 0.0981 - mean_absolute_error: 0.239 - ETA: 0s - loss: 0.1139 - mean_absolute_error: 0.259 - ETA: 0s - loss: 0.1149 - mean_absolute_error: 0.266 - ETA: 0s - loss: 0.1091 - mean_absolute_error: 0.259 - ETA: 0s - loss: 0.1116 - mean_absolute_error: 0.259 - ETA: 0s - loss: 0.1218 - mean_absolute_error: 0.269 - ETA: 0s - loss: 0.1190 - mean_absolute_error: 0.267 - 0s 989us/step - loss: 0.1189 - mean_absolute_error: 0.2678\n",
      "Epoch 466/500\n",
      "500/500 [==============================] - ETA: 0s - loss: 9.5421e-05 - mean_absolute_error: 0.009 - ETA: 0s - loss: 0.1021 - mean_absolute_error: 0.2465    - ETA: 0s - loss: 0.1088 - mean_absolute_error: 0.254 - ETA: 0s - loss: 0.1213 - mean_absolute_error: 0.270 - ETA: 0s - loss: 0.1239 - mean_absolute_error: 0.274 - ETA: 0s - loss: 0.1114 - mean_absolute_error: 0.262 - ETA: 0s - loss: 0.1105 - mean_absolute_error: 0.262 - ETA: 0s - loss: 0.1150 - mean_absolute_error: 0.265 - ETA: 0s - loss: 0.1132 - mean_absolute_error: 0.264 - ETA: 0s - loss: 0.1143 - mean_absolute_error: 0.266 - 1s 1ms/step - loss: 0.1209 - mean_absolute_error: 0.2717\n",
      "Epoch 467/500\n",
      "500/500 [==============================] - ETA: 0s - loss: 0.0257 - mean_absolute_error: 0.160 - ETA: 0s - loss: 0.1193 - mean_absolute_error: 0.268 - ETA: 0s - loss: 0.1312 - mean_absolute_error: 0.282 - ETA: 0s - loss: 0.1236 - mean_absolute_error: 0.271 - ETA: 0s - loss: 0.1261 - mean_absolute_error: 0.274 - ETA: 0s - loss: 0.1191 - mean_absolute_error: 0.267 - ETA: 0s - loss: 0.1168 - mean_absolute_error: 0.267 - ETA: 0s - loss: 0.1203 - mean_absolute_error: 0.271 - ETA: 0s - loss: 0.1233 - mean_absolute_error: 0.275 - ETA: 0s - loss: 0.1227 - mean_absolute_error: 0.275 - 0s 982us/step - loss: 0.1208 - mean_absolute_error: 0.2725\n",
      "Epoch 468/500\n",
      "500/500 [==============================] - ETA: 0s - loss: 0.0398 - mean_absolute_error: 0.199 - ETA: 0s - loss: 0.1347 - mean_absolute_error: 0.282 - ETA: 0s - loss: 0.1178 - mean_absolute_error: 0.266 - ETA: 0s - loss: 0.1260 - mean_absolute_error: 0.281 - ETA: 0s - loss: 0.1124 - mean_absolute_error: 0.264 - ETA: 0s - loss: 0.1178 - mean_absolute_error: 0.274 - ETA: 0s - loss: 0.1143 - mean_absolute_error: 0.270 - ETA: 0s - loss: 0.1109 - mean_absolute_error: 0.265 - ETA: 0s - loss: 0.1130 - mean_absolute_error: 0.267 - ETA: 0s - loss: 0.1155 - mean_absolute_error: 0.269 - 0s 964us/step - loss: 0.1173 - mean_absolute_error: 0.2719\n",
      "Epoch 469/500\n",
      "500/500 [==============================] - ETA: 0s - loss: 0.3613 - mean_absolute_error: 0.601 - ETA: 0s - loss: 0.1413 - mean_absolute_error: 0.301 - ETA: 0s - loss: 0.1170 - mean_absolute_error: 0.265 - ETA: 0s - loss: 0.1005 - mean_absolute_error: 0.244 - ETA: 0s - loss: 0.0983 - mean_absolute_error: 0.244 - ETA: 0s - loss: 0.0972 - mean_absolute_error: 0.242 - ETA: 0s - loss: 0.1006 - mean_absolute_error: 0.249 - ETA: 0s - loss: 0.1161 - mean_absolute_error: 0.266 - ETA: 0s - loss: 0.1193 - mean_absolute_error: 0.270 - ETA: 0s - loss: 0.1196 - mean_absolute_error: 0.271 - 0s 937us/step - loss: 0.1188 - mean_absolute_error: 0.2698\n",
      "Epoch 470/500\n",
      "500/500 [==============================] - ETA: 3s - loss: 0.1510 - mean_absolute_error: 0.388 - ETA: 0s - loss: 0.1574 - mean_absolute_error: 0.303 - ETA: 0s - loss: 0.1308 - mean_absolute_error: 0.287 - ETA: 0s - loss: 0.1294 - mean_absolute_error: 0.287 - ETA: 0s - loss: 0.1171 - mean_absolute_error: 0.271 - ETA: 0s - loss: 0.1128 - mean_absolute_error: 0.268 - ETA: 0s - loss: 0.1117 - mean_absolute_error: 0.265 - ETA: 0s - loss: 0.1153 - mean_absolute_error: 0.269 - ETA: 0s - loss: 0.1156 - mean_absolute_error: 0.269 - 0s 915us/step - loss: 0.1178 - mean_absolute_error: 0.2736\n",
      "Epoch 471/500\n"
     ]
    },
    {
     "name": "stdout",
     "output_type": "stream",
     "text": [
      "500/500 [==============================] - ETA: 1s - loss: 0.0034 - mean_absolute_error: 0.058 - ETA: 0s - loss: 0.1196 - mean_absolute_error: 0.262 - ETA: 0s - loss: 0.1128 - mean_absolute_error: 0.260 - ETA: 0s - loss: 0.1125 - mean_absolute_error: 0.266 - ETA: 0s - loss: 0.1091 - mean_absolute_error: 0.261 - ETA: 0s - loss: 0.1129 - mean_absolute_error: 0.269 - ETA: 0s - loss: 0.1238 - mean_absolute_error: 0.278 - ETA: 0s - loss: 0.1188 - mean_absolute_error: 0.272 - ETA: 0s - loss: 0.1211 - mean_absolute_error: 0.274 - ETA: 0s - loss: 0.1196 - mean_absolute_error: 0.272 - 0s 945us/step - loss: 0.1196 - mean_absolute_error: 0.2730\n",
      "Epoch 472/500\n",
      "500/500 [==============================] - ETA: 0s - loss: 0.0168 - mean_absolute_error: 0.129 - ETA: 0s - loss: 0.1876 - mean_absolute_error: 0.327 - ETA: 0s - loss: 0.1280 - mean_absolute_error: 0.267 - ETA: 0s - loss: 0.1241 - mean_absolute_error: 0.265 - ETA: 0s - loss: 0.1322 - mean_absolute_error: 0.275 - ETA: 0s - loss: 0.1223 - mean_absolute_error: 0.263 - ETA: 0s - loss: 0.1210 - mean_absolute_error: 0.263 - ETA: 0s - loss: 0.1188 - mean_absolute_error: 0.261 - ETA: 0s - loss: 0.1192 - mean_absolute_error: 0.263 - ETA: 0s - loss: 0.1180 - mean_absolute_error: 0.262 - 0s 965us/step - loss: 0.1183 - mean_absolute_error: 0.2633\n",
      "Epoch 473/500\n",
      "500/500 [==============================] - ETA: 0s - loss: 0.7143 - mean_absolute_error: 0.845 - ETA: 0s - loss: 0.1611 - mean_absolute_error: 0.342 - ETA: 0s - loss: 0.1359 - mean_absolute_error: 0.297 - ETA: 0s - loss: 0.1369 - mean_absolute_error: 0.294 - ETA: 0s - loss: 0.1322 - mean_absolute_error: 0.288 - ETA: 0s - loss: 0.1263 - mean_absolute_error: 0.279 - ETA: 0s - loss: 0.1234 - mean_absolute_error: 0.275 - ETA: 0s - loss: 0.1203 - mean_absolute_error: 0.270 - ETA: 0s - loss: 0.1211 - mean_absolute_error: 0.270 - ETA: 0s - loss: 0.1181 - mean_absolute_error: 0.266 - 0s 985us/step - loss: 0.1152 - mean_absolute_error: 0.2622\n",
      "Epoch 474/500\n",
      "500/500 [==============================] - ETA: 0s - loss: 0.0361 - mean_absolute_error: 0.190 - ETA: 0s - loss: 0.0859 - mean_absolute_error: 0.229 - ETA: 0s - loss: 0.1043 - mean_absolute_error: 0.249 - ETA: 0s - loss: 0.1144 - mean_absolute_error: 0.265 - ETA: 0s - loss: 0.1070 - mean_absolute_error: 0.252 - ETA: 0s - loss: 0.1213 - mean_absolute_error: 0.272 - ETA: 0s - loss: 0.1149 - mean_absolute_error: 0.268 - ETA: 0s - loss: 0.1145 - mean_absolute_error: 0.268 - ETA: 0s - loss: 0.1152 - mean_absolute_error: 0.269 - ETA: 0s - loss: 0.1127 - mean_absolute_error: 0.264 - 0s 983us/step - loss: 0.1131 - mean_absolute_error: 0.2640\n",
      "Epoch 475/500\n",
      "500/500 [==============================] - ETA: 0s - loss: 0.0319 - mean_absolute_error: 0.178 - ETA: 0s - loss: 0.1237 - mean_absolute_error: 0.251 - ETA: 0s - loss: 0.1081 - mean_absolute_error: 0.242 - ETA: 0s - loss: 0.1081 - mean_absolute_error: 0.249 - ETA: 0s - loss: 0.1021 - mean_absolute_error: 0.241 - ETA: 0s - loss: 0.0974 - mean_absolute_error: 0.238 - ETA: 0s - loss: 0.0981 - mean_absolute_error: 0.239 - ETA: 0s - loss: 0.1057 - mean_absolute_error: 0.252 - ETA: 0s - loss: 0.1062 - mean_absolute_error: 0.253 - ETA: 0s - loss: 0.1101 - mean_absolute_error: 0.256 - 0s 930us/step - loss: 0.1099 - mean_absolute_error: 0.2566\n",
      "Epoch 476/500\n",
      "500/500 [==============================] - ETA: 0s - loss: 0.0699 - mean_absolute_error: 0.264 - ETA: 0s - loss: 0.1244 - mean_absolute_error: 0.276 - ETA: 0s - loss: 0.1066 - mean_absolute_error: 0.256 - ETA: 0s - loss: 0.1140 - mean_absolute_error: 0.262 - ETA: 0s - loss: 0.1146 - mean_absolute_error: 0.261 - ETA: 0s - loss: 0.1180 - mean_absolute_error: 0.267 - ETA: 0s - loss: 0.1156 - mean_absolute_error: 0.266 - ETA: 0s - loss: 0.1205 - mean_absolute_error: 0.268 - ETA: 0s - loss: 0.1195 - mean_absolute_error: 0.268 - ETA: 0s - loss: 0.1186 - mean_absolute_error: 0.268 - 0s 989us/step - loss: 0.1178 - mean_absolute_error: 0.2690\n",
      "Epoch 477/500\n",
      "500/500 [==============================] - ETA: 0s - loss: 0.0055 - mean_absolute_error: 0.074 - ETA: 0s - loss: 0.1473 - mean_absolute_error: 0.292 - ETA: 0s - loss: 0.1212 - mean_absolute_error: 0.267 - ETA: 0s - loss: 0.1073 - mean_absolute_error: 0.254 - ETA: 0s - loss: 0.1112 - mean_absolute_error: 0.263 - ETA: 0s - loss: 0.1127 - mean_absolute_error: 0.260 - ETA: 0s - loss: 0.1161 - mean_absolute_error: 0.265 - ETA: 0s - loss: 0.1126 - mean_absolute_error: 0.261 - 0s 722us/step - loss: 0.1122 - mean_absolute_error: 0.2607\n",
      "Epoch 478/500\n",
      "500/500 [==============================] - ETA: 0s - loss: 0.0582 - mean_absolute_error: 0.241 - ETA: 0s - loss: 0.1265 - mean_absolute_error: 0.292 - ETA: 0s - loss: 0.1148 - mean_absolute_error: 0.267 - ETA: 0s - loss: 0.1198 - mean_absolute_error: 0.266 - ETA: 0s - loss: 0.1175 - mean_absolute_error: 0.263 - ETA: 0s - loss: 0.1227 - mean_absolute_error: 0.269 - ETA: 0s - loss: 0.1229 - mean_absolute_error: 0.269 - 0s 683us/step - loss: 0.1211 - mean_absolute_error: 0.2674\n",
      "Epoch 479/500\n",
      "500/500 [==============================] - ETA: 0s - loss: 0.3538 - mean_absolute_error: 0.594 - ETA: 0s - loss: 0.1609 - mean_absolute_error: 0.310 - ETA: 0s - loss: 0.1517 - mean_absolute_error: 0.306 - ETA: 0s - loss: 0.1296 - mean_absolute_error: 0.279 - ETA: 0s - loss: 0.1312 - mean_absolute_error: 0.278 - ETA: 0s - loss: 0.1330 - mean_absolute_error: 0.283 - ETA: 0s - loss: 0.1261 - mean_absolute_error: 0.272 - ETA: 0s - loss: 0.1229 - mean_absolute_error: 0.271 - ETA: 0s - loss: 0.1219 - mean_absolute_error: 0.272 - ETA: 0s - loss: 0.1187 - mean_absolute_error: 0.266 - 1s 1ms/step - loss: 0.1169 - mean_absolute_error: 0.2637\n",
      "Epoch 480/500\n",
      "500/500 [==============================] - ETA: 2s - loss: 0.0153 - mean_absolute_error: 0.123 - ETA: 0s - loss: 0.1060 - mean_absolute_error: 0.254 - ETA: 0s - loss: 0.0980 - mean_absolute_error: 0.244 - ETA: 0s - loss: 0.1017 - mean_absolute_error: 0.248 - ETA: 0s - loss: 0.1119 - mean_absolute_error: 0.262 - ETA: 0s - loss: 0.1150 - mean_absolute_error: 0.266 - ETA: 0s - loss: 0.1186 - mean_absolute_error: 0.272 - ETA: 0s - loss: 0.1167 - mean_absolute_error: 0.269 - ETA: 0s - loss: 0.1136 - mean_absolute_error: 0.267 - ETA: 0s - loss: 0.1132 - mean_absolute_error: 0.266 - 0s 975us/step - loss: 0.1168 - mean_absolute_error: 0.2692\n",
      "Epoch 481/500\n",
      "500/500 [==============================] - ETA: 0s - loss: 0.1069 - mean_absolute_error: 0.327 - ETA: 0s - loss: 0.1051 - mean_absolute_error: 0.259 - ETA: 0s - loss: 0.1376 - mean_absolute_error: 0.289 - ETA: 0s - loss: 0.1294 - mean_absolute_error: 0.283 - ETA: 0s - loss: 0.1226 - mean_absolute_error: 0.275 - ETA: 0s - loss: 0.1210 - mean_absolute_error: 0.272 - ETA: 0s - loss: 0.1169 - mean_absolute_error: 0.267 - ETA: 0s - loss: 0.1206 - mean_absolute_error: 0.270 - ETA: 0s - loss: 0.1169 - mean_absolute_error: 0.266 - ETA: 0s - loss: 0.1171 - mean_absolute_error: 0.266 - 0s 930us/step - loss: 0.1167 - mean_absolute_error: 0.2664\n",
      "Epoch 482/500\n",
      "500/500 [==============================] - ETA: 0s - loss: 0.1252 - mean_absolute_error: 0.353 - ETA: 0s - loss: 0.1155 - mean_absolute_error: 0.272 - ETA: 0s - loss: 0.1218 - mean_absolute_error: 0.281 - ETA: 0s - loss: 0.1124 - mean_absolute_error: 0.271 - ETA: 0s - loss: 0.1122 - mean_absolute_error: 0.267 - ETA: 0s - loss: 0.1083 - mean_absolute_error: 0.262 - ETA: 0s - loss: 0.1080 - mean_absolute_error: 0.262 - ETA: 0s - loss: 0.1166 - mean_absolute_error: 0.269 - ETA: 0s - loss: 0.1158 - mean_absolute_error: 0.270 - 0s 896us/step - loss: 0.1168 - mean_absolute_error: 0.2724\n",
      "Epoch 483/500\n",
      "500/500 [==============================] - ETA: 1s - loss: 0.0037 - mean_absolute_error: 0.060 - ETA: 0s - loss: 0.1307 - mean_absolute_error: 0.288 - ETA: 0s - loss: 0.0999 - mean_absolute_error: 0.245 - ETA: 0s - loss: 0.0947 - mean_absolute_error: 0.238 - ETA: 0s - loss: 0.0975 - mean_absolute_error: 0.244 - ETA: 0s - loss: 0.1038 - mean_absolute_error: 0.252 - ETA: 0s - loss: 0.1131 - mean_absolute_error: 0.263 - ETA: 0s - loss: 0.1178 - mean_absolute_error: 0.267 - ETA: 0s - loss: 0.1169 - mean_absolute_error: 0.265 - 0s 874us/step - loss: 0.1161 - mean_absolute_error: 0.2649\n",
      "Epoch 484/500\n",
      "500/500 [==============================] - ETA: 0s - loss: 0.0860 - mean_absolute_error: 0.293 - ETA: 0s - loss: 0.1162 - mean_absolute_error: 0.274 - ETA: 0s - loss: 0.0973 - mean_absolute_error: 0.245 - ETA: 0s - loss: 0.1069 - mean_absolute_error: 0.257 - ETA: 0s - loss: 0.1061 - mean_absolute_error: 0.258 - ETA: 0s - loss: 0.1009 - mean_absolute_error: 0.249 - ETA: 0s - loss: 0.0984 - mean_absolute_error: 0.248 - ETA: 0s - loss: 0.1118 - mean_absolute_error: 0.264 - ETA: 0s - loss: 0.1147 - mean_absolute_error: 0.268 - ETA: 0s - loss: 0.1188 - mean_absolute_error: 0.274 - ETA: 0s - loss: 0.1180 - mean_absolute_error: 0.274 - 1s 1ms/step - loss: 0.1191 - mean_absolute_error: 0.2753\n",
      "Epoch 485/500\n",
      "500/500 [==============================] - ETA: 1s - loss: 0.0463 - mean_absolute_error: 0.215 - ETA: 0s - loss: 0.1386 - mean_absolute_error: 0.292 - ETA: 0s - loss: 0.1315 - mean_absolute_error: 0.284 - ETA: 0s - loss: 0.1283 - mean_absolute_error: 0.278 - ETA: 0s - loss: 0.1175 - mean_absolute_error: 0.269 - ETA: 0s - loss: 0.1211 - mean_absolute_error: 0.273 - ETA: 0s - loss: 0.1230 - mean_absolute_error: 0.277 - ETA: 0s - loss: 0.1207 - mean_absolute_error: 0.273 - ETA: 0s - loss: 0.1190 - mean_absolute_error: 0.269 - 0s 902us/step - loss: 0.1171 - mean_absolute_error: 0.2677\n",
      "Epoch 486/500\n",
      "500/500 [==============================] - ETA: 0s - loss: 5.6822e-04 - mean_absolute_error: 0.023 - ETA: 0s - loss: 0.0894 - mean_absolute_error: 0.2263    - ETA: 0s - loss: 0.1046 - mean_absolute_error: 0.239 - ETA: 0s - loss: 0.1132 - mean_absolute_error: 0.257 - ETA: 0s - loss: 0.1143 - mean_absolute_error: 0.260 - ETA: 0s - loss: 0.1140 - mean_absolute_error: 0.258 - ETA: 0s - loss: 0.1120 - mean_absolute_error: 0.255 - ETA: 0s - loss: 0.1153 - mean_absolute_error: 0.260 - ETA: 0s - loss: 0.1205 - mean_absolute_error: 0.266 - ETA: 0s - loss: 0.1211 - mean_absolute_error: 0.266 - 0s 935us/step - loss: 0.1212 - mean_absolute_error: 0.2673\n",
      "Epoch 487/500\n",
      "500/500 [==============================] - ETA: 0s - loss: 0.0070 - mean_absolute_error: 0.083 - ETA: 0s - loss: 0.1323 - mean_absolute_error: 0.279 - ETA: 0s - loss: 0.1306 - mean_absolute_error: 0.276 - ETA: 0s - loss: 0.1196 - mean_absolute_error: 0.265 - ETA: 0s - loss: 0.1236 - mean_absolute_error: 0.272 - ETA: 0s - loss: 0.1168 - mean_absolute_error: 0.266 - ETA: 0s - loss: 0.1176 - mean_absolute_error: 0.266 - ETA: 0s - loss: 0.1195 - mean_absolute_error: 0.266 - ETA: 0s - loss: 0.1194 - mean_absolute_error: 0.268 - ETA: 0s - loss: 0.1163 - mean_absolute_error: 0.266 - 0s 955us/step - loss: 0.1165 - mean_absolute_error: 0.2678\n",
      "Epoch 488/500\n",
      "500/500 [==============================] - ETA: 0s - loss: 1.3857e-05 - mean_absolute_error: 0.003 - ETA: 0s - loss: 0.0980 - mean_absolute_error: 0.2581    - ETA: 0s - loss: 0.0982 - mean_absolute_error: 0.239 - ETA: 0s - loss: 0.1047 - mean_absolute_error: 0.251 - ETA: 0s - loss: 0.1061 - mean_absolute_error: 0.257 - ETA: 0s - loss: 0.1090 - mean_absolute_error: 0.260 - ETA: 0s - loss: 0.1143 - mean_absolute_error: 0.268 - ETA: 0s - loss: 0.1167 - mean_absolute_error: 0.268 - ETA: 0s - loss: 0.1169 - mean_absolute_error: 0.268 - ETA: 0s - loss: 0.1153 - mean_absolute_error: 0.265 - 0s 935us/step - loss: 0.1172 - mean_absolute_error: 0.2675\n",
      "Epoch 489/500\n",
      "500/500 [==============================] - ETA: 0s - loss: 0.0309 - mean_absolute_error: 0.175 - ETA: 0s - loss: 0.1147 - mean_absolute_error: 0.276 - ETA: 0s - loss: 0.1192 - mean_absolute_error: 0.273 - ETA: 0s - loss: 0.1322 - mean_absolute_error: 0.288 - ETA: 0s - loss: 0.1257 - mean_absolute_error: 0.279 - ETA: 0s - loss: 0.1133 - mean_absolute_error: 0.261 - ETA: 0s - loss: 0.1176 - mean_absolute_error: 0.267 - ETA: 0s - loss: 0.1134 - mean_absolute_error: 0.261 - ETA: 0s - loss: 0.1165 - mean_absolute_error: 0.263 - 0s 918us/step - loss: 0.1204 - mean_absolute_error: 0.2676\n",
      "Epoch 490/500\n",
      "500/500 [==============================] - ETA: 0s - loss: 0.0052 - mean_absolute_error: 0.072 - ETA: 0s - loss: 0.1179 - mean_absolute_error: 0.261 - ETA: 0s - loss: 0.1077 - mean_absolute_error: 0.258 - ETA: 0s - loss: 0.1253 - mean_absolute_error: 0.284 - ETA: 0s - loss: 0.1359 - mean_absolute_error: 0.291 - ETA: 0s - loss: 0.1302 - mean_absolute_error: 0.284 - ETA: 0s - loss: 0.1281 - mean_absolute_error: 0.282 - ETA: 0s - loss: 0.1240 - mean_absolute_error: 0.277 - ETA: 0s - loss: 0.1183 - mean_absolute_error: 0.271 - ETA: 0s - loss: 0.1141 - mean_absolute_error: 0.266 - 0s 943us/step - loss: 0.1149 - mean_absolute_error: 0.2664\n",
      "Epoch 491/500\n",
      "500/500 [==============================] - ETA: 0s - loss: 0.1329 - mean_absolute_error: 0.364 - ETA: 0s - loss: 0.1389 - mean_absolute_error: 0.298 - ETA: 0s - loss: 0.1181 - mean_absolute_error: 0.272 - ETA: 0s - loss: 0.1248 - mean_absolute_error: 0.278 - ETA: 0s - loss: 0.1249 - mean_absolute_error: 0.274 - ETA: 0s - loss: 0.1143 - mean_absolute_error: 0.260 - ETA: 0s - loss: 0.1130 - mean_absolute_error: 0.259 - ETA: 0s - loss: 0.1136 - mean_absolute_error: 0.263 - ETA: 0s - loss: 0.1148 - mean_absolute_error: 0.266 - ETA: 0s - loss: 0.1169 - mean_absolute_error: 0.271 - 0s 928us/step - loss: 0.1168 - mean_absolute_error: 0.2714\n",
      "Epoch 492/500\n",
      "500/500 [==============================] - ETA: 0s - loss: 0.1306 - mean_absolute_error: 0.361 - ETA: 0s - loss: 0.1171 - mean_absolute_error: 0.275 - ETA: 0s - loss: 0.1258 - mean_absolute_error: 0.277 - ETA: 0s - loss: 0.1261 - mean_absolute_error: 0.277 - ETA: 0s - loss: 0.1255 - mean_absolute_error: 0.278 - ETA: 0s - loss: 0.1217 - mean_absolute_error: 0.274 - ETA: 0s - loss: 0.1165 - mean_absolute_error: 0.268 - ETA: 0s - loss: 0.1134 - mean_absolute_error: 0.262 - ETA: 0s - loss: 0.1103 - mean_absolute_error: 0.259 - 0s 907us/step - loss: 0.1149 - mean_absolute_error: 0.2665\n",
      "Epoch 493/500\n",
      "500/500 [==============================] - ETA: 0s - loss: 0.1197 - mean_absolute_error: 0.346 - ETA: 0s - loss: 0.1141 - mean_absolute_error: 0.260 - ETA: 0s - loss: 0.1142 - mean_absolute_error: 0.267 - ETA: 0s - loss: 0.1053 - mean_absolute_error: 0.251 - ETA: 0s - loss: 0.1054 - mean_absolute_error: 0.251 - ETA: 0s - loss: 0.1076 - mean_absolute_error: 0.251 - ETA: 0s - loss: 0.1105 - mean_absolute_error: 0.257 - ETA: 0s - loss: 0.1155 - mean_absolute_error: 0.263 - ETA: 0s - loss: 0.1144 - mean_absolute_error: 0.262 - ETA: 0s - loss: 0.1144 - mean_absolute_error: 0.263 - 0s 994us/step - loss: 0.1150 - mean_absolute_error: 0.2628\n",
      "Epoch 494/500\n",
      "500/500 [==============================] - ETA: 1s - loss: 0.0180 - mean_absolute_error: 0.134 - ETA: 0s - loss: 0.1201 - mean_absolute_error: 0.255 - ETA: 0s - loss: 0.1041 - mean_absolute_error: 0.252 - ETA: 0s - loss: 0.1275 - mean_absolute_error: 0.284 - ETA: 0s - loss: 0.1217 - mean_absolute_error: 0.277 - ETA: 0s - loss: 0.1253 - mean_absolute_error: 0.275 - ETA: 0s - loss: 0.1239 - mean_absolute_error: 0.273 - ETA: 0s - loss: 0.1204 - mean_absolute_error: 0.270 - ETA: 0s - loss: 0.1209 - mean_absolute_error: 0.270 - ETA: 0s - loss: 0.1181 - mean_absolute_error: 0.267 - 0s 971us/step - loss: 0.1170 - mean_absolute_error: 0.2659\n",
      "Epoch 495/500\n",
      "500/500 [==============================] - ETA: 0s - loss: 0.0970 - mean_absolute_error: 0.311 - ETA: 0s - loss: 0.1147 - mean_absolute_error: 0.259 - ETA: 0s - loss: 0.1295 - mean_absolute_error: 0.278 - ETA: 0s - loss: 0.1201 - mean_absolute_error: 0.270 - ETA: 0s - loss: 0.1203 - mean_absolute_error: 0.269 - ETA: 0s - loss: 0.1127 - mean_absolute_error: 0.259 - ETA: 0s - loss: 0.1102 - mean_absolute_error: 0.254 - ETA: 0s - loss: 0.1156 - mean_absolute_error: 0.260 - ETA: 0s - loss: 0.1147 - mean_absolute_error: 0.262 - ETA: 0s - loss: 0.1120 - mean_absolute_error: 0.260 - ETA: 0s - loss: 0.1106 - mean_absolute_error: 0.260 - ETA: 0s - loss: 0.1139 - mean_absolute_error: 0.261 - 1s 1ms/step - loss: 0.1154 - mean_absolute_error: 0.2633\n",
      "Epoch 496/500\n"
     ]
    },
    {
     "name": "stdout",
     "output_type": "stream",
     "text": [
      "500/500 [==============================] - ETA: 2s - loss: 0.7431 - mean_absolute_error: 0.862 - ETA: 0s - loss: 0.1325 - mean_absolute_error: 0.283 - ETA: 0s - loss: 0.1353 - mean_absolute_error: 0.290 - ETA: 0s - loss: 0.1294 - mean_absolute_error: 0.282 - ETA: 0s - loss: 0.1206 - mean_absolute_error: 0.272 - ETA: 0s - loss: 0.1237 - mean_absolute_error: 0.281 - ETA: 0s - loss: 0.1226 - mean_absolute_error: 0.277 - ETA: 0s - loss: 0.1219 - mean_absolute_error: 0.277 - ETA: 0s - loss: 0.1210 - mean_absolute_error: 0.275 - ETA: 0s - loss: 0.1151 - mean_absolute_error: 0.265 - ETA: 0s - loss: 0.1156 - mean_absolute_error: 0.267 - ETA: 0s - loss: 0.1147 - mean_absolute_error: 0.266 - 1s 1ms/step - loss: 0.1144 - mean_absolute_error: 0.2654\n",
      "Epoch 497/500\n",
      "500/500 [==============================] - ETA: 1s - loss: 3.1489e-05 - mean_absolute_error: 0.005 - ETA: 0s - loss: 0.0998 - mean_absolute_error: 0.2420    - ETA: 0s - loss: 0.1122 - mean_absolute_error: 0.256 - ETA: 0s - loss: 0.1090 - mean_absolute_error: 0.252 - ETA: 0s - loss: 0.1090 - mean_absolute_error: 0.251 - ETA: 0s - loss: 0.1239 - mean_absolute_error: 0.264 - ETA: 0s - loss: 0.1267 - mean_absolute_error: 0.267 - ETA: 0s - loss: 0.1236 - mean_absolute_error: 0.266 - ETA: 0s - loss: 0.1237 - mean_absolute_error: 0.266 - ETA: 0s - loss: 0.1243 - mean_absolute_error: 0.268 - ETA: 0s - loss: 0.1218 - mean_absolute_error: 0.266 - ETA: 0s - loss: 0.1212 - mean_absolute_error: 0.266 - 1s 1ms/step - loss: 0.1211 - mean_absolute_error: 0.2682\n",
      "Epoch 498/500\n",
      "500/500 [==============================] - ETA: 1s - loss: 0.0512 - mean_absolute_error: 0.226 - ETA: 0s - loss: 0.1018 - mean_absolute_error: 0.267 - ETA: 0s - loss: 0.1327 - mean_absolute_error: 0.287 - ETA: 0s - loss: 0.1366 - mean_absolute_error: 0.292 - ETA: 0s - loss: 0.1331 - mean_absolute_error: 0.290 - ETA: 0s - loss: 0.1341 - mean_absolute_error: 0.291 - ETA: 0s - loss: 0.1257 - mean_absolute_error: 0.279 - ETA: 0s - loss: 0.1223 - mean_absolute_error: 0.274 - ETA: 0s - loss: 0.1188 - mean_absolute_error: 0.270 - ETA: 0s - loss: 0.1219 - mean_absolute_error: 0.270 - ETA: 0s - loss: 0.1212 - mean_absolute_error: 0.271 - ETA: 0s - loss: 0.1230 - mean_absolute_error: 0.276 - 1s 1ms/step - loss: 0.1222 - mean_absolute_error: 0.2754\n",
      "Epoch 499/500\n",
      "500/500 [==============================] - ETA: 0s - loss: 0.0976 - mean_absolute_error: 0.312 - ETA: 0s - loss: 0.1452 - mean_absolute_error: 0.296 - ETA: 0s - loss: 0.1584 - mean_absolute_error: 0.299 - ETA: 0s - loss: 0.1449 - mean_absolute_error: 0.295 - ETA: 0s - loss: 0.1296 - mean_absolute_error: 0.282 - ETA: 0s - loss: 0.1250 - mean_absolute_error: 0.277 - ETA: 0s - loss: 0.1272 - mean_absolute_error: 0.281 - ETA: 0s - loss: 0.1247 - mean_absolute_error: 0.278 - ETA: 0s - loss: 0.1164 - mean_absolute_error: 0.267 - ETA: 0s - loss: 0.1177 - mean_absolute_error: 0.268 - ETA: 0s - loss: 0.1173 - mean_absolute_error: 0.268 - ETA: 0s - loss: 0.1193 - mean_absolute_error: 0.270 - 1s 1ms/step - loss: 0.1150 - mean_absolute_error: 0.2665\n",
      "Epoch 500/500\n",
      "500/500 [==============================] - ETA: 0s - loss: 0.1430 - mean_absolute_error: 0.378 - ETA: 0s - loss: 0.1329 - mean_absolute_error: 0.301 - ETA: 0s - loss: 0.1122 - mean_absolute_error: 0.271 - ETA: 0s - loss: 0.1054 - mean_absolute_error: 0.255 - ETA: 0s - loss: 0.1063 - mean_absolute_error: 0.254 - ETA: 0s - loss: 0.1041 - mean_absolute_error: 0.253 - ETA: 0s - loss: 0.1074 - mean_absolute_error: 0.254 - ETA: 0s - loss: 0.1154 - mean_absolute_error: 0.263 - ETA: 0s - loss: 0.1194 - mean_absolute_error: 0.267 - ETA: 0s - loss: 0.1208 - mean_absolute_error: 0.270 - 1s 1ms/step - loss: 0.1215 - mean_absolute_error: 0.2721\n",
      "4.1213440219561255  minutes\n"
     ]
    }
   ],
   "source": [
    "time_start = time.time()\n",
    "model_1.fit(x_train, y_train, epochs = 500, batch_size = 1)\n",
    "\n",
    "print((time.time() - time_start) / 60, \" minutes\")"
   ]
  },
  {
   "cell_type": "code",
   "execution_count": 94,
   "metadata": {},
   "outputs": [
    {
     "data": {
      "text/plain": [
       "<matplotlib.legend.Legend at 0x21e9aca6d68>"
      ]
     },
     "execution_count": 94,
     "metadata": {},
     "output_type": "execute_result"
    },
    {
     "data": {
      "image/png": "[encoded data removed]",
      "text/plain": [
       "<Figure size 432x288 with 1 Axes>"
      ]
     },
     "metadata": {
      "needs_background": "light"
     },
     "output_type": "display_data"
    }
   ],
   "source": [
    "plt.plot(x_train, y_train, 'o', label = 'training')\n",
    "plt.plot(x_train, model_1.predict(x_train), \"o\", label = 'predicted')\n",
    "\n",
    "x_train1 = np.linspace(0, 4*np.pi, num = 500)\n",
    "y_train1 = np.sin(x_train1)\n",
    "\n",
    "plt.plot(x_train1, y_train1, label = 'sin(x)')\n",
    "plt.legend()"
   ]
  },
  {
   "cell_type": "markdown",
   "metadata": {},
   "source": [
    "### 5.3 Знакомство с PyTorch"
   ]
  },
  {
   "cell_type": "code",
   "execution_count": 70,
   "metadata": {},
   "outputs": [],
   "source": [
    "import torch\n",
    "\n",
    "class SineNet(torch.nn.Module):\n",
    "    def __init__(self, n_hidden_neurons):\n",
    "        super(SineNet, self).__init__()\n",
    "        self.fc1 = torch.nn.Linear(1, n_hidden_neurons)\n",
    "        self.act1 = torch.nn.Sigmoid()\n",
    "        self.fc2 = torch.nn.Linear(n_hidden_neurons, 1)\n",
    "\n",
    "    def forward(self, x):\n",
    "        x = self.fc1(x)\n",
    "        x = self.act1(x)\n",
    "        x = self.fc2(x)\n",
    "        return x\n",
    "\n",
    "sine_net = SineNet(50)"
   ]
  },
  {
   "cell_type": "code",
   "execution_count": 71,
   "metadata": {},
   "outputs": [
    {
     "data": {
      "image/png": "[encoded data removed]",
      "text/plain": [
       "<Figure size 432x288 with 1 Axes>"
      ]
     },
     "metadata": {
      "needs_background": "light"
     },
     "output_type": "display_data"
    }
   ],
   "source": [
    "def predict(net, x, y):\n",
    "    y_pred = net.forward(x)\n",
    "\n",
    "    plt.plot(x.numpy(), y.numpy(), 'o', label='Groud truth')\n",
    "    plt.plot(x.numpy(), y_pred.data.numpy(), 'o', c='r', label='Prediction');\n",
    "    plt.legend(loc='upper left')\n",
    "    plt.xlabel('$x$')\n",
    "    plt.ylabel('$y$')\n",
    "    \n",
    "x_train_torch = torch.Tensor(x_train)\n",
    "y_train_torch = torch.Tensor(y_train)\n",
    "\n",
    "x_train_torch.unsqueeze_(1)\n",
    "y_train_torch.unsqueeze_(1)\n",
    "\n",
    "predict(sine_net, x_train_torch, y_train_torch)"
   ]
  },
  {
   "cell_type": "code",
   "execution_count": 72,
   "metadata": {},
   "outputs": [
    {
     "name": "stdout",
     "output_type": "stream",
     "text": [
      "tensor([1., 2., 3.])\n",
      "tensor([[1.],\n",
      "        [2.],\n",
      "        [3.]])\n"
     ]
    }
   ],
   "source": [
    "tmp = torch.Tensor([1,2,3])\n",
    "print(tmp)\n",
    "print(tmp.unsqueeze(1))"
   ]
  },
  {
   "cell_type": "code",
   "execution_count": 73,
   "metadata": {},
   "outputs": [],
   "source": [
    "def loss(pred, target):\n",
    "    squares = (pred - target) ** 2\n",
    "    return squares.mean()"
   ]
  },
  {
   "cell_type": "code",
   "execution_count": 74,
   "metadata": {},
   "outputs": [],
   "source": [
    "optimizer = torch.optim.SGD(sine_net.parameters(), lr = 0.0025)"
   ]
  },
  {
   "cell_type": "code",
   "execution_count": 75,
   "metadata": {},
   "outputs": [
    {
     "name": "stdout",
     "output_type": "stream",
     "text": [
      "Wall time: 685 ms\n"
     ]
    }
   ],
   "source": [
    "%%time\n",
    "\n",
    "for epoch_index in range(500):\n",
    "    optimizer.zero_grad()\n",
    "\n",
    "    y_pred = sine_net.forward(x_train_torch)\n",
    "    loss_val = loss(y_pred, y_train_torch)\n",
    "\n",
    "    loss_val.backward()\n",
    "\n",
    "    optimizer.step()"
   ]
  },
  {
   "cell_type": "code",
   "execution_count": 76,
   "metadata": {},
   "outputs": [
    {
     "data": {
      "image/png": "[encoded data removed]",
      "text/plain": [
       "<Figure size 432x288 with 1 Axes>"
      ]
     },
     "metadata": {
      "needs_background": "light"
     },
     "output_type": "display_data"
    }
   ],
   "source": [
    "predict(sine_net, x_train_torch, y_train_torch)"
   ]
  },
  {
   "cell_type": "code",
   "execution_count": 85,
   "metadata": {},
   "outputs": [],
   "source": [
    "sine_net = SineNet(50)"
   ]
  },
  {
   "cell_type": "code",
   "execution_count": 86,
   "metadata": {},
   "outputs": [],
   "source": [
    "optimizer = torch.optim.Adam(sine_net.parameters(), lr = 0.0025)"
   ]
  },
  {
   "cell_type": "code",
   "execution_count": 87,
   "metadata": {},
   "outputs": [
    {
     "name": "stdout",
     "output_type": "stream",
     "text": [
      "Wall time: 8.43 s\n"
     ]
    }
   ],
   "source": [
    "%%time\n",
    "\n",
    "for epoch_index in range(5000):\n",
    "    optimizer.zero_grad()\n",
    "\n",
    "    y_pred = sine_net.forward(x_train_torch)\n",
    "    loss_val = loss(y_pred, y_train_torch)\n",
    "\n",
    "    loss_val.backward()\n",
    "\n",
    "    optimizer.step()"
   ]
  },
  {
   "cell_type": "code",
   "execution_count": 88,
   "metadata": {},
   "outputs": [
    {
     "data": {
      "image/png": "[encoded data removed]",
      "text/plain": [
       "<Figure size 432x288 with 1 Axes>"
      ]
     },
     "metadata": {
      "needs_background": "light"
     },
     "output_type": "display_data"
    }
   ],
   "source": [
    "predict(sine_net, x_train_torch, y_train_torch)"
   ]
  }
 ],
 "metadata": {
  "kernelspec": {
   "display_name": "Python 3 (ipykernel)",
   "language": "python",
   "name": "python3"
  },
  "language_info": {
   "codemirror_mode": {
    "name": "ipython",
    "version": 3
   },
   "file_extension": ".py",
   "mimetype": "text/x-python",
   "name": "python",
   "nbconvert_exporter": "python",
   "pygments_lexer": "ipython3",
   "version": "3.8.10"
  }
 },
 "nbformat": 4,
 "nbformat_minor": 2
}
